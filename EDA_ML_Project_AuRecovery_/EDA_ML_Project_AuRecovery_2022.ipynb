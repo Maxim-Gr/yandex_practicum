{
 "cells": [
  {
   "cell_type": "markdown",
   "metadata": {},
   "source": [
    "# Краткое описание проекта \"Восстановление золота из руды\""
   ]
  },
  {
   "cell_type": "markdown",
   "metadata": {},
   "source": [
    "Необходимо подготовить прототип модели машинного обучения для компании «IT-Индустриализация», разрабатывающей IT-решения для эффективной работы промышленных предприятий.\n",
    "\n",
    "Модель должна предсказать коэффициент восстановления золота из золотосодержащей руды. Будем использовать данные с параметрами технологического процесса добычи и очистки руды. \n",
    "\n",
    "Эффективность обогащения руды рассчитывается по формуле:\n",
    "\n",
    "RECOVERY = 100% x C x (F-T) / F x (C-T), где\n",
    "\n",
    "C — доля золота в концентрате после флотации/очистки,\n",
    "F — доля золота в сырье/концентрате до флотации/очистки,\n",
    "T — доля золота в отвальных хвостах после флотации/очистки.\n",
    "\n",
    "Модель поможет оптимизировать производство, чтобы не запускать предприятие с убыточными характеристиками.\n",
    "\n",
    "В целях выполнения проекта потребуется:\n",
    "\n",
    "1. Подготовить данные;\n",
    "2. Провести исследовательский анализ данных;\n",
    "3. Построить и обучить несколько моделей: Линейная регрессия, Случайный лес, CatBoostRegressor и сравнить их с константной моделью.\n"
   ]
  },
  {
   "cell_type": "markdown",
   "metadata": {
    "toc": true
   },
   "source": [
    "<h1>Содержание<span class=\"tocSkip\"></span></h1>\n",
    "<div class=\"toc\"><ul class=\"toc-item\"><li><span><a href=\"#Подготовка-данных\" data-toc-modified-id=\"Подготовка-данных-1\"><span class=\"toc-item-num\">1&nbsp;&nbsp;</span>Подготовка данных</a></span><ul class=\"toc-item\"><li><span><a href=\"#Обработка-пропусков\" data-toc-modified-id=\"Обработка-пропусков-1.1\"><span class=\"toc-item-num\">1.1&nbsp;&nbsp;</span>Обработка пропусков</a></span></li><li><span><a href=\"#Проверка-корректности-расчета-Recovery\" data-toc-modified-id=\"Проверка-корректности-расчета-Recovery-1.2\"><span class=\"toc-item-num\">1.2&nbsp;&nbsp;</span>Проверка корректности расчета Recovery</a></span></li><li><span><a href=\"#Анализ-данных,-недоступных-в-тестовой-выборке\" data-toc-modified-id=\"Анализ-данных,-недоступных-в-тестовой-выборке-1.3\"><span class=\"toc-item-num\">1.3&nbsp;&nbsp;</span>Анализ данных, недоступных в тестовой выборке</a></span></li><li><span><a href=\"#Корректировка-данных-в-train-выборке\" data-toc-modified-id=\"Корректировка-данных-в-train-выборке-1.4\"><span class=\"toc-item-num\">1.4&nbsp;&nbsp;</span>Корректировка данных в train-выборке</a></span></li></ul></li><li><span><a href=\"#Анализ-данных\" data-toc-modified-id=\"Анализ-данных-2\"><span class=\"toc-item-num\">2&nbsp;&nbsp;</span>Анализ данных</a></span><ul class=\"toc-item\"><li><span><a href=\"#Концентрация-золота\" data-toc-modified-id=\"Концентрация-золота-2.1\"><span class=\"toc-item-num\">2.1&nbsp;&nbsp;</span>Концентрация золота</a></span></li><li><span><a href=\"#Концентрация-серебра\" data-toc-modified-id=\"Концентрация-серебра-2.2\"><span class=\"toc-item-num\">2.2&nbsp;&nbsp;</span>Концентрация серебра</a></span></li><li><span><a href=\"#Концентрация-свинца\" data-toc-modified-id=\"Концентрация-свинца-2.3\"><span class=\"toc-item-num\">2.3&nbsp;&nbsp;</span>Концентрация свинца</a></span></li><li><span><a href=\"#Сравнение-размеров-гранул-сырья\" data-toc-modified-id=\"Сравнение-размеров-гранул-сырья-2.4\"><span class=\"toc-item-num\">2.4&nbsp;&nbsp;</span>Сравнение размеров гранул сырья</a></span></li><li><span><a href=\"#Анализ-суммарной-концентрации-веществ\" data-toc-modified-id=\"Анализ-суммарной-концентрации-веществ-2.5\"><span class=\"toc-item-num\">2.5&nbsp;&nbsp;</span>Анализ суммарной концентрации веществ</a></span></li></ul></li><li><span><a href=\"#Создание-моделей\" data-toc-modified-id=\"Создание-моделей-3\"><span class=\"toc-item-num\">3&nbsp;&nbsp;</span>Создание моделей</a></span><ul class=\"toc-item\"><li><span><a href=\"#Подготовка-признаков\" data-toc-modified-id=\"Подготовка-признаков-3.1\"><span class=\"toc-item-num\">3.1&nbsp;&nbsp;</span>Подготовка признаков</a></span></li><li><span><a href=\"#Функции-для-расчетов\" data-toc-modified-id=\"Функции-для-расчетов-3.2\"><span class=\"toc-item-num\">3.2&nbsp;&nbsp;</span>Функции для расчетов</a></span></li><li><span><a href=\"#Модель-линейной-регрессии\" data-toc-modified-id=\"Модель-линейной-регрессии-3.3\"><span class=\"toc-item-num\">3.3&nbsp;&nbsp;</span>Модель линейной регрессии</a></span></li><li><span><a href=\"#Константная-модель\" data-toc-modified-id=\"Константная-модель-3.4\"><span class=\"toc-item-num\">3.4&nbsp;&nbsp;</span>Константная модель</a></span></li><li><span><a href=\"#Модель-случайного-леса\" data-toc-modified-id=\"Модель-случайного-леса-3.5\"><span class=\"toc-item-num\">3.5&nbsp;&nbsp;</span>Модель случайного леса</a></span></li><li><span><a href=\"#Модель-CatBoostRegressor\" data-toc-modified-id=\"Модель-CatBoostRegressor-3.6\"><span class=\"toc-item-num\">3.6&nbsp;&nbsp;</span>Модель CatBoostRegressor</a></span></li><li><span><a href=\"#Проверка-на-тестовой-выборке\" data-toc-modified-id=\"Проверка-на-тестовой-выборке-3.7\"><span class=\"toc-item-num\">3.7&nbsp;&nbsp;</span>Проверка на тестовой выборке</a></span></li></ul></li><li><span><a href=\"#Общий-вывод\" data-toc-modified-id=\"Общий-вывод-4\"><span class=\"toc-item-num\">4&nbsp;&nbsp;</span>Общий вывод</a></span></li></ul></div>"
   ]
  },
  {
   "cell_type": "markdown",
   "metadata": {},
   "source": [
    "## Подготовка данных"
   ]
  },
  {
   "cell_type": "markdown",
   "metadata": {},
   "source": [
    "Импортируем необходимые библиотеки, модели и методы:"
   ]
  },
  {
   "cell_type": "code",
   "execution_count": 1,
   "metadata": {},
   "outputs": [],
   "source": [
    "import pandas as pd\n",
    "import numpy as np\n",
    "import random\n",
    "\n",
    "from matplotlib import pyplot\n",
    "\n",
    "from sklearn.preprocessing import StandardScaler\n",
    "from sklearn.linear_model import LinearRegression\n",
    "from sklearn.ensemble import RandomForestRegressor\n",
    "from catboost import CatBoostRegressor\n",
    "from sklearn.dummy import DummyRegressor\n",
    "\n",
    "\n",
    "from sklearn.metrics import make_scorer\n",
    "from sklearn.metrics import mean_absolute_error\n",
    "from sklearn.model_selection import cross_val_score"
   ]
  },
  {
   "cell_type": "markdown",
   "metadata": {},
   "source": [
    "Прочитаем данные из трёх файлов и выведем на экран основную информацию:"
   ]
  },
  {
   "cell_type": "code",
   "execution_count": 2,
   "metadata": {},
   "outputs": [],
   "source": [
    "df_train = pd.read_csv('/datasets/gold_recovery_train_new.csv')\n",
    "df_test = pd.read_csv('/datasets/gold_recovery_test_new.csv')\n",
    "df_full = pd.read_csv('/datasets/gold_recovery_full_new.csv')"
   ]
  },
  {
   "cell_type": "code",
   "execution_count": 3,
   "metadata": {
    "scrolled": false
   },
   "outputs": [
    {
     "name": "stdout",
     "output_type": "stream",
     "text": [
      "<class 'pandas.core.frame.DataFrame'>\n",
      "RangeIndex: 14149 entries, 0 to 14148\n",
      "Data columns (total 87 columns):\n",
      " #   Column                                              Non-Null Count  Dtype  \n",
      "---  ------                                              --------------  -----  \n",
      " 0   date                                                14149 non-null  object \n",
      " 1   final.output.concentrate_ag                         14148 non-null  float64\n",
      " 2   final.output.concentrate_pb                         14148 non-null  float64\n",
      " 3   final.output.concentrate_sol                        13938 non-null  float64\n",
      " 4   final.output.concentrate_au                         14149 non-null  float64\n",
      " 5   final.output.recovery                               14149 non-null  float64\n",
      " 6   final.output.tail_ag                                14149 non-null  float64\n",
      " 7   final.output.tail_pb                                14049 non-null  float64\n",
      " 8   final.output.tail_sol                               14144 non-null  float64\n",
      " 9   final.output.tail_au                                14149 non-null  float64\n",
      " 10  primary_cleaner.input.sulfate                       14129 non-null  float64\n",
      " 11  primary_cleaner.input.depressant                    14117 non-null  float64\n",
      " 12  primary_cleaner.input.feed_size                     14149 non-null  float64\n",
      " 13  primary_cleaner.input.xanthate                      14049 non-null  float64\n",
      " 14  primary_cleaner.output.concentrate_ag               14149 non-null  float64\n",
      " 15  primary_cleaner.output.concentrate_pb               14063 non-null  float64\n",
      " 16  primary_cleaner.output.concentrate_sol              13863 non-null  float64\n",
      " 17  primary_cleaner.output.concentrate_au               14149 non-null  float64\n",
      " 18  primary_cleaner.output.tail_ag                      14148 non-null  float64\n",
      " 19  primary_cleaner.output.tail_pb                      14134 non-null  float64\n",
      " 20  primary_cleaner.output.tail_sol                     14103 non-null  float64\n",
      " 21  primary_cleaner.output.tail_au                      14149 non-null  float64\n",
      " 22  primary_cleaner.state.floatbank8_a_air              14145 non-null  float64\n",
      " 23  primary_cleaner.state.floatbank8_a_level            14148 non-null  float64\n",
      " 24  primary_cleaner.state.floatbank8_b_air              14145 non-null  float64\n",
      " 25  primary_cleaner.state.floatbank8_b_level            14148 non-null  float64\n",
      " 26  primary_cleaner.state.floatbank8_c_air              14147 non-null  float64\n",
      " 27  primary_cleaner.state.floatbank8_c_level            14148 non-null  float64\n",
      " 28  primary_cleaner.state.floatbank8_d_air              14146 non-null  float64\n",
      " 29  primary_cleaner.state.floatbank8_d_level            14148 non-null  float64\n",
      " 30  rougher.calculation.sulfate_to_au_concentrate       14148 non-null  float64\n",
      " 31  rougher.calculation.floatbank10_sulfate_to_au_feed  14148 non-null  float64\n",
      " 32  rougher.calculation.floatbank11_sulfate_to_au_feed  14148 non-null  float64\n",
      " 33  rougher.calculation.au_pb_ratio                     14149 non-null  float64\n",
      " 34  rougher.input.feed_ag                               14149 non-null  float64\n",
      " 35  rougher.input.feed_pb                               14049 non-null  float64\n",
      " 36  rougher.input.feed_rate                             14141 non-null  float64\n",
      " 37  rougher.input.feed_size                             14005 non-null  float64\n",
      " 38  rougher.input.feed_sol                              14071 non-null  float64\n",
      " 39  rougher.input.feed_au                               14149 non-null  float64\n",
      " 40  rougher.input.floatbank10_sulfate                   14120 non-null  float64\n",
      " 41  rougher.input.floatbank10_xanthate                  14141 non-null  float64\n",
      " 42  rougher.input.floatbank11_sulfate                   14113 non-null  float64\n",
      " 43  rougher.input.floatbank11_xanthate                  13721 non-null  float64\n",
      " 44  rougher.output.concentrate_ag                       14149 non-null  float64\n",
      " 45  rougher.output.concentrate_pb                       14149 non-null  float64\n",
      " 46  rougher.output.concentrate_sol                      14127 non-null  float64\n",
      " 47  rougher.output.concentrate_au                       14149 non-null  float64\n",
      " 48  rougher.output.recovery                             14149 non-null  float64\n",
      " 49  rougher.output.tail_ag                              14148 non-null  float64\n",
      " 50  rougher.output.tail_pb                              14149 non-null  float64\n",
      " 51  rougher.output.tail_sol                             14149 non-null  float64\n",
      " 52  rougher.output.tail_au                              14149 non-null  float64\n",
      " 53  rougher.state.floatbank10_a_air                     14148 non-null  float64\n",
      " 54  rougher.state.floatbank10_a_level                   14148 non-null  float64\n",
      " 55  rougher.state.floatbank10_b_air                     14148 non-null  float64\n",
      " 56  rougher.state.floatbank10_b_level                   14148 non-null  float64\n",
      " 57  rougher.state.floatbank10_c_air                     14148 non-null  float64\n",
      " 58  rougher.state.floatbank10_c_level                   14148 non-null  float64\n",
      " 59  rougher.state.floatbank10_d_air                     14149 non-null  float64\n",
      " 60  rougher.state.floatbank10_d_level                   14149 non-null  float64\n",
      " 61  rougher.state.floatbank10_e_air                     13713 non-null  float64\n",
      " 62  rougher.state.floatbank10_e_level                   14149 non-null  float64\n",
      " 63  rougher.state.floatbank10_f_air                     14149 non-null  float64\n",
      " 64  rougher.state.floatbank10_f_level                   14149 non-null  float64\n",
      " 65  secondary_cleaner.output.tail_ag                    14147 non-null  float64\n",
      " 66  secondary_cleaner.output.tail_pb                    14139 non-null  float64\n",
      " 67  secondary_cleaner.output.tail_sol                   12544 non-null  float64\n",
      " 68  secondary_cleaner.output.tail_au                    14149 non-null  float64\n",
      " 69  secondary_cleaner.state.floatbank2_a_air            13932 non-null  float64\n",
      " 70  secondary_cleaner.state.floatbank2_a_level          14148 non-null  float64\n",
      " 71  secondary_cleaner.state.floatbank2_b_air            14128 non-null  float64\n",
      " 72  secondary_cleaner.state.floatbank2_b_level          14148 non-null  float64\n",
      " 73  secondary_cleaner.state.floatbank3_a_air            14145 non-null  float64\n",
      " 74  secondary_cleaner.state.floatbank3_a_level          14148 non-null  float64\n",
      " 75  secondary_cleaner.state.floatbank3_b_air            14148 non-null  float64\n",
      " 76  secondary_cleaner.state.floatbank3_b_level          14148 non-null  float64\n",
      " 77  secondary_cleaner.state.floatbank4_a_air            14143 non-null  float64\n",
      " 78  secondary_cleaner.state.floatbank4_a_level          14148 non-null  float64\n",
      " 79  secondary_cleaner.state.floatbank4_b_air            14148 non-null  float64\n",
      " 80  secondary_cleaner.state.floatbank4_b_level          14148 non-null  float64\n",
      " 81  secondary_cleaner.state.floatbank5_a_air            14148 non-null  float64\n",
      " 82  secondary_cleaner.state.floatbank5_a_level          14148 non-null  float64\n",
      " 83  secondary_cleaner.state.floatbank5_b_air            14148 non-null  float64\n",
      " 84  secondary_cleaner.state.floatbank5_b_level          14148 non-null  float64\n",
      " 85  secondary_cleaner.state.floatbank6_a_air            14147 non-null  float64\n",
      " 86  secondary_cleaner.state.floatbank6_a_level          14148 non-null  float64\n",
      "dtypes: float64(86), object(1)\n",
      "memory usage: 9.4+ MB\n"
     ]
    }
   ],
   "source": [
    "df_train.info()"
   ]
  },
  {
   "cell_type": "code",
   "execution_count": 4,
   "metadata": {
    "scrolled": false
   },
   "outputs": [
    {
     "name": "stdout",
     "output_type": "stream",
     "text": [
      "<class 'pandas.core.frame.DataFrame'>\n",
      "RangeIndex: 5290 entries, 0 to 5289\n",
      "Data columns (total 53 columns):\n",
      " #   Column                                      Non-Null Count  Dtype  \n",
      "---  ------                                      --------------  -----  \n",
      " 0   date                                        5290 non-null   object \n",
      " 1   primary_cleaner.input.sulfate               5286 non-null   float64\n",
      " 2   primary_cleaner.input.depressant            5285 non-null   float64\n",
      " 3   primary_cleaner.input.feed_size             5290 non-null   float64\n",
      " 4   primary_cleaner.input.xanthate              5286 non-null   float64\n",
      " 5   primary_cleaner.state.floatbank8_a_air      5290 non-null   float64\n",
      " 6   primary_cleaner.state.floatbank8_a_level    5290 non-null   float64\n",
      " 7   primary_cleaner.state.floatbank8_b_air      5290 non-null   float64\n",
      " 8   primary_cleaner.state.floatbank8_b_level    5290 non-null   float64\n",
      " 9   primary_cleaner.state.floatbank8_c_air      5290 non-null   float64\n",
      " 10  primary_cleaner.state.floatbank8_c_level    5290 non-null   float64\n",
      " 11  primary_cleaner.state.floatbank8_d_air      5290 non-null   float64\n",
      " 12  primary_cleaner.state.floatbank8_d_level    5290 non-null   float64\n",
      " 13  rougher.input.feed_ag                       5290 non-null   float64\n",
      " 14  rougher.input.feed_pb                       5290 non-null   float64\n",
      " 15  rougher.input.feed_rate                     5287 non-null   float64\n",
      " 16  rougher.input.feed_size                     5289 non-null   float64\n",
      " 17  rougher.input.feed_sol                      5269 non-null   float64\n",
      " 18  rougher.input.feed_au                       5290 non-null   float64\n",
      " 19  rougher.input.floatbank10_sulfate           5285 non-null   float64\n",
      " 20  rougher.input.floatbank10_xanthate          5290 non-null   float64\n",
      " 21  rougher.input.floatbank11_sulfate           5282 non-null   float64\n",
      " 22  rougher.input.floatbank11_xanthate          5265 non-null   float64\n",
      " 23  rougher.state.floatbank10_a_air             5290 non-null   float64\n",
      " 24  rougher.state.floatbank10_a_level           5290 non-null   float64\n",
      " 25  rougher.state.floatbank10_b_air             5290 non-null   float64\n",
      " 26  rougher.state.floatbank10_b_level           5290 non-null   float64\n",
      " 27  rougher.state.floatbank10_c_air             5290 non-null   float64\n",
      " 28  rougher.state.floatbank10_c_level           5290 non-null   float64\n",
      " 29  rougher.state.floatbank10_d_air             5290 non-null   float64\n",
      " 30  rougher.state.floatbank10_d_level           5290 non-null   float64\n",
      " 31  rougher.state.floatbank10_e_air             5290 non-null   float64\n",
      " 32  rougher.state.floatbank10_e_level           5290 non-null   float64\n",
      " 33  rougher.state.floatbank10_f_air             5290 non-null   float64\n",
      " 34  rougher.state.floatbank10_f_level           5290 non-null   float64\n",
      " 35  secondary_cleaner.state.floatbank2_a_air    5287 non-null   float64\n",
      " 36  secondary_cleaner.state.floatbank2_a_level  5290 non-null   float64\n",
      " 37  secondary_cleaner.state.floatbank2_b_air    5288 non-null   float64\n",
      " 38  secondary_cleaner.state.floatbank2_b_level  5290 non-null   float64\n",
      " 39  secondary_cleaner.state.floatbank3_a_air    5281 non-null   float64\n",
      " 40  secondary_cleaner.state.floatbank3_a_level  5290 non-null   float64\n",
      " 41  secondary_cleaner.state.floatbank3_b_air    5290 non-null   float64\n",
      " 42  secondary_cleaner.state.floatbank3_b_level  5290 non-null   float64\n",
      " 43  secondary_cleaner.state.floatbank4_a_air    5290 non-null   float64\n",
      " 44  secondary_cleaner.state.floatbank4_a_level  5290 non-null   float64\n",
      " 45  secondary_cleaner.state.floatbank4_b_air    5290 non-null   float64\n",
      " 46  secondary_cleaner.state.floatbank4_b_level  5290 non-null   float64\n",
      " 47  secondary_cleaner.state.floatbank5_a_air    5290 non-null   float64\n",
      " 48  secondary_cleaner.state.floatbank5_a_level  5290 non-null   float64\n",
      " 49  secondary_cleaner.state.floatbank5_b_air    5290 non-null   float64\n",
      " 50  secondary_cleaner.state.floatbank5_b_level  5290 non-null   float64\n",
      " 51  secondary_cleaner.state.floatbank6_a_air    5290 non-null   float64\n",
      " 52  secondary_cleaner.state.floatbank6_a_level  5290 non-null   float64\n",
      "dtypes: float64(52), object(1)\n",
      "memory usage: 2.1+ MB\n"
     ]
    }
   ],
   "source": [
    "df_test.info()"
   ]
  },
  {
   "cell_type": "code",
   "execution_count": 5,
   "metadata": {
    "scrolled": false
   },
   "outputs": [
    {
     "name": "stdout",
     "output_type": "stream",
     "text": [
      "<class 'pandas.core.frame.DataFrame'>\n",
      "RangeIndex: 19439 entries, 0 to 19438\n",
      "Data columns (total 87 columns):\n",
      " #   Column                                              Non-Null Count  Dtype  \n",
      "---  ------                                              --------------  -----  \n",
      " 0   date                                                19439 non-null  object \n",
      " 1   final.output.concentrate_ag                         19438 non-null  float64\n",
      " 2   final.output.concentrate_pb                         19438 non-null  float64\n",
      " 3   final.output.concentrate_sol                        19228 non-null  float64\n",
      " 4   final.output.concentrate_au                         19439 non-null  float64\n",
      " 5   final.output.recovery                               19439 non-null  float64\n",
      " 6   final.output.tail_ag                                19438 non-null  float64\n",
      " 7   final.output.tail_pb                                19338 non-null  float64\n",
      " 8   final.output.tail_sol                               19433 non-null  float64\n",
      " 9   final.output.tail_au                                19439 non-null  float64\n",
      " 10  primary_cleaner.input.sulfate                       19415 non-null  float64\n",
      " 11  primary_cleaner.input.depressant                    19402 non-null  float64\n",
      " 12  primary_cleaner.input.feed_size                     19439 non-null  float64\n",
      " 13  primary_cleaner.input.xanthate                      19335 non-null  float64\n",
      " 14  primary_cleaner.output.concentrate_ag               19439 non-null  float64\n",
      " 15  primary_cleaner.output.concentrate_pb               19323 non-null  float64\n",
      " 16  primary_cleaner.output.concentrate_sol              19069 non-null  float64\n",
      " 17  primary_cleaner.output.concentrate_au               19439 non-null  float64\n",
      " 18  primary_cleaner.output.tail_ag                      19435 non-null  float64\n",
      " 19  primary_cleaner.output.tail_pb                      19418 non-null  float64\n",
      " 20  primary_cleaner.output.tail_sol                     19377 non-null  float64\n",
      " 21  primary_cleaner.output.tail_au                      19439 non-null  float64\n",
      " 22  primary_cleaner.state.floatbank8_a_air              19435 non-null  float64\n",
      " 23  primary_cleaner.state.floatbank8_a_level            19438 non-null  float64\n",
      " 24  primary_cleaner.state.floatbank8_b_air              19435 non-null  float64\n",
      " 25  primary_cleaner.state.floatbank8_b_level            19438 non-null  float64\n",
      " 26  primary_cleaner.state.floatbank8_c_air              19437 non-null  float64\n",
      " 27  primary_cleaner.state.floatbank8_c_level            19438 non-null  float64\n",
      " 28  primary_cleaner.state.floatbank8_d_air              19436 non-null  float64\n",
      " 29  primary_cleaner.state.floatbank8_d_level            19438 non-null  float64\n",
      " 30  rougher.calculation.sulfate_to_au_concentrate       19437 non-null  float64\n",
      " 31  rougher.calculation.floatbank10_sulfate_to_au_feed  19437 non-null  float64\n",
      " 32  rougher.calculation.floatbank11_sulfate_to_au_feed  19437 non-null  float64\n",
      " 33  rougher.calculation.au_pb_ratio                     19439 non-null  float64\n",
      " 34  rougher.input.feed_ag                               19439 non-null  float64\n",
      " 35  rougher.input.feed_pb                               19339 non-null  float64\n",
      " 36  rougher.input.feed_rate                             19428 non-null  float64\n",
      " 37  rougher.input.feed_size                             19294 non-null  float64\n",
      " 38  rougher.input.feed_sol                              19340 non-null  float64\n",
      " 39  rougher.input.feed_au                               19439 non-null  float64\n",
      " 40  rougher.input.floatbank10_sulfate                   19405 non-null  float64\n",
      " 41  rougher.input.floatbank10_xanthate                  19431 non-null  float64\n",
      " 42  rougher.input.floatbank11_sulfate                   19395 non-null  float64\n",
      " 43  rougher.input.floatbank11_xanthate                  18986 non-null  float64\n",
      " 44  rougher.output.concentrate_ag                       19439 non-null  float64\n",
      " 45  rougher.output.concentrate_pb                       19439 non-null  float64\n",
      " 46  rougher.output.concentrate_sol                      19416 non-null  float64\n",
      " 47  rougher.output.concentrate_au                       19439 non-null  float64\n",
      " 48  rougher.output.recovery                             19439 non-null  float64\n",
      " 49  rougher.output.tail_ag                              19438 non-null  float64\n",
      " 50  rougher.output.tail_pb                              19439 non-null  float64\n",
      " 51  rougher.output.tail_sol                             19439 non-null  float64\n",
      " 52  rougher.output.tail_au                              19439 non-null  float64\n",
      " 53  rougher.state.floatbank10_a_air                     19438 non-null  float64\n",
      " 54  rougher.state.floatbank10_a_level                   19438 non-null  float64\n",
      " 55  rougher.state.floatbank10_b_air                     19438 non-null  float64\n",
      " 56  rougher.state.floatbank10_b_level                   19438 non-null  float64\n",
      " 57  rougher.state.floatbank10_c_air                     19438 non-null  float64\n",
      " 58  rougher.state.floatbank10_c_level                   19438 non-null  float64\n",
      " 59  rougher.state.floatbank10_d_air                     19439 non-null  float64\n",
      " 60  rougher.state.floatbank10_d_level                   19439 non-null  float64\n",
      " 61  rougher.state.floatbank10_e_air                     19003 non-null  float64\n",
      " 62  rougher.state.floatbank10_e_level                   19439 non-null  float64\n",
      " 63  rougher.state.floatbank10_f_air                     19439 non-null  float64\n",
      " 64  rougher.state.floatbank10_f_level                   19439 non-null  float64\n",
      " 65  secondary_cleaner.output.tail_ag                    19437 non-null  float64\n",
      " 66  secondary_cleaner.output.tail_pb                    19427 non-null  float64\n",
      " 67  secondary_cleaner.output.tail_sol                   17691 non-null  float64\n",
      " 68  secondary_cleaner.output.tail_au                    19439 non-null  float64\n",
      " 69  secondary_cleaner.state.floatbank2_a_air            19219 non-null  float64\n",
      " 70  secondary_cleaner.state.floatbank2_a_level          19438 non-null  float64\n",
      " 71  secondary_cleaner.state.floatbank2_b_air            19416 non-null  float64\n",
      " 72  secondary_cleaner.state.floatbank2_b_level          19438 non-null  float64\n",
      " 73  secondary_cleaner.state.floatbank3_a_air            19426 non-null  float64\n",
      " 74  secondary_cleaner.state.floatbank3_a_level          19438 non-null  float64\n",
      " 75  secondary_cleaner.state.floatbank3_b_air            19438 non-null  float64\n",
      " 76  secondary_cleaner.state.floatbank3_b_level          19438 non-null  float64\n",
      " 77  secondary_cleaner.state.floatbank4_a_air            19433 non-null  float64\n",
      " 78  secondary_cleaner.state.floatbank4_a_level          19438 non-null  float64\n",
      " 79  secondary_cleaner.state.floatbank4_b_air            19438 non-null  float64\n",
      " 80  secondary_cleaner.state.floatbank4_b_level          19438 non-null  float64\n",
      " 81  secondary_cleaner.state.floatbank5_a_air            19438 non-null  float64\n",
      " 82  secondary_cleaner.state.floatbank5_a_level          19438 non-null  float64\n",
      " 83  secondary_cleaner.state.floatbank5_b_air            19438 non-null  float64\n",
      " 84  secondary_cleaner.state.floatbank5_b_level          19438 non-null  float64\n",
      " 85  secondary_cleaner.state.floatbank6_a_air            19437 non-null  float64\n",
      " 86  secondary_cleaner.state.floatbank6_a_level          19438 non-null  float64\n",
      "dtypes: float64(86), object(1)\n",
      "memory usage: 12.9+ MB\n"
     ]
    }
   ],
   "source": [
    "df_full.info()"
   ]
  },
  {
   "cell_type": "markdown",
   "metadata": {},
   "source": [
    "**Вывод.** Данные содержатся в трёх датафреймах:\n",
    "- полный датафрейм (df_full) состоит из 14149 строк и 87 столбцов,\n",
    "- обучающий датафрейм (df_train) состоит из 14149 строк и 87 столбцов,\n",
    "- тестовый датафрейм (df_test) состоит из 5290 строк и 53 столбцов."
   ]
  },
  {
   "cell_type": "markdown",
   "metadata": {},
   "source": [
    "Наименование столбцов (отражающее данные, содержащиеся в них) - составное:\n",
    "\n",
    "**(этап).(тип_параметра).(название_параметра)**\n",
    "\n",
    "Возможные значения для блока (этап):\n",
    "- rougher — флотация\n",
    "- primary_cleaner — первичная очистка\n",
    "- secondary_cleaner — вторичная очистка\n",
    "- final — финальные характеристики\n",
    "\n",
    "Возможные значения для блока (тип_параметра):\n",
    "- input — параметры сырья\n",
    "- output — параметры продукта\n",
    "- state — параметры, характеризующие текущее состояние этапа\n",
    "- calculation — расчётные характеристики\n",
    "\n",
    "Кроме того, в каждом датафрейме имеется столбец date, характеризующий дату и время, в которые была записана строка с параметрами технологического процесса."
   ]
  },
  {
   "cell_type": "markdown",
   "metadata": {},
   "source": [
    "### Обработка пропусков"
   ]
  },
  {
   "cell_type": "markdown",
   "metadata": {},
   "source": [
    "Некоторые столбцы содержат незначительное количество пропусков. Изучив сопроводительную документацию к технологическому процессу, можно сделать вывод, что данные в строках, записанных в соседние промежутки времени, должны отличаться незначительно. Поэтому допустимо заполнить пропуски в столбцах предыдущим значением в данном столбце. Для этого применим метод fillna(method='ffill') к каждому датафрейму:"
   ]
  },
  {
   "cell_type": "code",
   "execution_count": 6,
   "metadata": {},
   "outputs": [],
   "source": [
    "df_full = df_full.fillna(method='ffill')"
   ]
  },
  {
   "cell_type": "code",
   "execution_count": 7,
   "metadata": {},
   "outputs": [],
   "source": [
    "df_train = df_train.fillna(method='ffill')"
   ]
  },
  {
   "cell_type": "code",
   "execution_count": 8,
   "metadata": {},
   "outputs": [],
   "source": [
    "df_test = df_test.fillna(method='ffill')"
   ]
  },
  {
   "cell_type": "code",
   "execution_count": 9,
   "metadata": {},
   "outputs": [
    {
     "name": "stdout",
     "output_type": "stream",
     "text": [
      "<class 'pandas.core.frame.DataFrame'>\n",
      "RangeIndex: 19439 entries, 0 to 19438\n",
      "Data columns (total 87 columns):\n",
      " #   Column                                              Non-Null Count  Dtype  \n",
      "---  ------                                              --------------  -----  \n",
      " 0   date                                                19439 non-null  object \n",
      " 1   final.output.concentrate_ag                         19439 non-null  float64\n",
      " 2   final.output.concentrate_pb                         19439 non-null  float64\n",
      " 3   final.output.concentrate_sol                        19439 non-null  float64\n",
      " 4   final.output.concentrate_au                         19439 non-null  float64\n",
      " 5   final.output.recovery                               19439 non-null  float64\n",
      " 6   final.output.tail_ag                                19439 non-null  float64\n",
      " 7   final.output.tail_pb                                19439 non-null  float64\n",
      " 8   final.output.tail_sol                               19439 non-null  float64\n",
      " 9   final.output.tail_au                                19439 non-null  float64\n",
      " 10  primary_cleaner.input.sulfate                       19439 non-null  float64\n",
      " 11  primary_cleaner.input.depressant                    19439 non-null  float64\n",
      " 12  primary_cleaner.input.feed_size                     19439 non-null  float64\n",
      " 13  primary_cleaner.input.xanthate                      19439 non-null  float64\n",
      " 14  primary_cleaner.output.concentrate_ag               19439 non-null  float64\n",
      " 15  primary_cleaner.output.concentrate_pb               19439 non-null  float64\n",
      " 16  primary_cleaner.output.concentrate_sol              19439 non-null  float64\n",
      " 17  primary_cleaner.output.concentrate_au               19439 non-null  float64\n",
      " 18  primary_cleaner.output.tail_ag                      19439 non-null  float64\n",
      " 19  primary_cleaner.output.tail_pb                      19439 non-null  float64\n",
      " 20  primary_cleaner.output.tail_sol                     19439 non-null  float64\n",
      " 21  primary_cleaner.output.tail_au                      19439 non-null  float64\n",
      " 22  primary_cleaner.state.floatbank8_a_air              19439 non-null  float64\n",
      " 23  primary_cleaner.state.floatbank8_a_level            19439 non-null  float64\n",
      " 24  primary_cleaner.state.floatbank8_b_air              19439 non-null  float64\n",
      " 25  primary_cleaner.state.floatbank8_b_level            19439 non-null  float64\n",
      " 26  primary_cleaner.state.floatbank8_c_air              19439 non-null  float64\n",
      " 27  primary_cleaner.state.floatbank8_c_level            19439 non-null  float64\n",
      " 28  primary_cleaner.state.floatbank8_d_air              19439 non-null  float64\n",
      " 29  primary_cleaner.state.floatbank8_d_level            19439 non-null  float64\n",
      " 30  rougher.calculation.sulfate_to_au_concentrate       19439 non-null  float64\n",
      " 31  rougher.calculation.floatbank10_sulfate_to_au_feed  19439 non-null  float64\n",
      " 32  rougher.calculation.floatbank11_sulfate_to_au_feed  19439 non-null  float64\n",
      " 33  rougher.calculation.au_pb_ratio                     19439 non-null  float64\n",
      " 34  rougher.input.feed_ag                               19439 non-null  float64\n",
      " 35  rougher.input.feed_pb                               19439 non-null  float64\n",
      " 36  rougher.input.feed_rate                             19439 non-null  float64\n",
      " 37  rougher.input.feed_size                             19439 non-null  float64\n",
      " 38  rougher.input.feed_sol                              19439 non-null  float64\n",
      " 39  rougher.input.feed_au                               19439 non-null  float64\n",
      " 40  rougher.input.floatbank10_sulfate                   19439 non-null  float64\n",
      " 41  rougher.input.floatbank10_xanthate                  19439 non-null  float64\n",
      " 42  rougher.input.floatbank11_sulfate                   19439 non-null  float64\n",
      " 43  rougher.input.floatbank11_xanthate                  19439 non-null  float64\n",
      " 44  rougher.output.concentrate_ag                       19439 non-null  float64\n",
      " 45  rougher.output.concentrate_pb                       19439 non-null  float64\n",
      " 46  rougher.output.concentrate_sol                      19439 non-null  float64\n",
      " 47  rougher.output.concentrate_au                       19439 non-null  float64\n",
      " 48  rougher.output.recovery                             19439 non-null  float64\n",
      " 49  rougher.output.tail_ag                              19439 non-null  float64\n",
      " 50  rougher.output.tail_pb                              19439 non-null  float64\n",
      " 51  rougher.output.tail_sol                             19439 non-null  float64\n",
      " 52  rougher.output.tail_au                              19439 non-null  float64\n",
      " 53  rougher.state.floatbank10_a_air                     19439 non-null  float64\n",
      " 54  rougher.state.floatbank10_a_level                   19439 non-null  float64\n",
      " 55  rougher.state.floatbank10_b_air                     19439 non-null  float64\n",
      " 56  rougher.state.floatbank10_b_level                   19439 non-null  float64\n",
      " 57  rougher.state.floatbank10_c_air                     19439 non-null  float64\n",
      " 58  rougher.state.floatbank10_c_level                   19439 non-null  float64\n",
      " 59  rougher.state.floatbank10_d_air                     19439 non-null  float64\n",
      " 60  rougher.state.floatbank10_d_level                   19439 non-null  float64\n",
      " 61  rougher.state.floatbank10_e_air                     19439 non-null  float64\n",
      " 62  rougher.state.floatbank10_e_level                   19439 non-null  float64\n",
      " 63  rougher.state.floatbank10_f_air                     19439 non-null  float64\n",
      " 64  rougher.state.floatbank10_f_level                   19439 non-null  float64\n",
      " 65  secondary_cleaner.output.tail_ag                    19439 non-null  float64\n",
      " 66  secondary_cleaner.output.tail_pb                    19439 non-null  float64\n",
      " 67  secondary_cleaner.output.tail_sol                   19439 non-null  float64\n",
      " 68  secondary_cleaner.output.tail_au                    19439 non-null  float64\n",
      " 69  secondary_cleaner.state.floatbank2_a_air            19439 non-null  float64\n",
      " 70  secondary_cleaner.state.floatbank2_a_level          19439 non-null  float64\n",
      " 71  secondary_cleaner.state.floatbank2_b_air            19439 non-null  float64\n",
      " 72  secondary_cleaner.state.floatbank2_b_level          19439 non-null  float64\n",
      " 73  secondary_cleaner.state.floatbank3_a_air            19439 non-null  float64\n",
      " 74  secondary_cleaner.state.floatbank3_a_level          19439 non-null  float64\n",
      " 75  secondary_cleaner.state.floatbank3_b_air            19439 non-null  float64\n",
      " 76  secondary_cleaner.state.floatbank3_b_level          19439 non-null  float64\n",
      " 77  secondary_cleaner.state.floatbank4_a_air            19439 non-null  float64\n",
      " 78  secondary_cleaner.state.floatbank4_a_level          19439 non-null  float64\n",
      " 79  secondary_cleaner.state.floatbank4_b_air            19439 non-null  float64\n",
      " 80  secondary_cleaner.state.floatbank4_b_level          19439 non-null  float64\n",
      " 81  secondary_cleaner.state.floatbank5_a_air            19439 non-null  float64\n",
      " 82  secondary_cleaner.state.floatbank5_a_level          19439 non-null  float64\n",
      " 83  secondary_cleaner.state.floatbank5_b_air            19439 non-null  float64\n",
      " 84  secondary_cleaner.state.floatbank5_b_level          19439 non-null  float64\n",
      " 85  secondary_cleaner.state.floatbank6_a_air            19439 non-null  float64\n",
      " 86  secondary_cleaner.state.floatbank6_a_level          19439 non-null  float64\n",
      "dtypes: float64(86), object(1)\n",
      "memory usage: 12.9+ MB\n"
     ]
    }
   ],
   "source": [
    "df_full.info() # проверка"
   ]
  },
  {
   "cell_type": "code",
   "execution_count": 10,
   "metadata": {},
   "outputs": [
    {
     "name": "stdout",
     "output_type": "stream",
     "text": [
      "<class 'pandas.core.frame.DataFrame'>\n",
      "RangeIndex: 14149 entries, 0 to 14148\n",
      "Data columns (total 87 columns):\n",
      " #   Column                                              Non-Null Count  Dtype  \n",
      "---  ------                                              --------------  -----  \n",
      " 0   date                                                14149 non-null  object \n",
      " 1   final.output.concentrate_ag                         14149 non-null  float64\n",
      " 2   final.output.concentrate_pb                         14149 non-null  float64\n",
      " 3   final.output.concentrate_sol                        14149 non-null  float64\n",
      " 4   final.output.concentrate_au                         14149 non-null  float64\n",
      " 5   final.output.recovery                               14149 non-null  float64\n",
      " 6   final.output.tail_ag                                14149 non-null  float64\n",
      " 7   final.output.tail_pb                                14149 non-null  float64\n",
      " 8   final.output.tail_sol                               14149 non-null  float64\n",
      " 9   final.output.tail_au                                14149 non-null  float64\n",
      " 10  primary_cleaner.input.sulfate                       14149 non-null  float64\n",
      " 11  primary_cleaner.input.depressant                    14149 non-null  float64\n",
      " 12  primary_cleaner.input.feed_size                     14149 non-null  float64\n",
      " 13  primary_cleaner.input.xanthate                      14149 non-null  float64\n",
      " 14  primary_cleaner.output.concentrate_ag               14149 non-null  float64\n",
      " 15  primary_cleaner.output.concentrate_pb               14149 non-null  float64\n",
      " 16  primary_cleaner.output.concentrate_sol              14149 non-null  float64\n",
      " 17  primary_cleaner.output.concentrate_au               14149 non-null  float64\n",
      " 18  primary_cleaner.output.tail_ag                      14149 non-null  float64\n",
      " 19  primary_cleaner.output.tail_pb                      14149 non-null  float64\n",
      " 20  primary_cleaner.output.tail_sol                     14149 non-null  float64\n",
      " 21  primary_cleaner.output.tail_au                      14149 non-null  float64\n",
      " 22  primary_cleaner.state.floatbank8_a_air              14149 non-null  float64\n",
      " 23  primary_cleaner.state.floatbank8_a_level            14149 non-null  float64\n",
      " 24  primary_cleaner.state.floatbank8_b_air              14149 non-null  float64\n",
      " 25  primary_cleaner.state.floatbank8_b_level            14149 non-null  float64\n",
      " 26  primary_cleaner.state.floatbank8_c_air              14149 non-null  float64\n",
      " 27  primary_cleaner.state.floatbank8_c_level            14149 non-null  float64\n",
      " 28  primary_cleaner.state.floatbank8_d_air              14149 non-null  float64\n",
      " 29  primary_cleaner.state.floatbank8_d_level            14149 non-null  float64\n",
      " 30  rougher.calculation.sulfate_to_au_concentrate       14149 non-null  float64\n",
      " 31  rougher.calculation.floatbank10_sulfate_to_au_feed  14149 non-null  float64\n",
      " 32  rougher.calculation.floatbank11_sulfate_to_au_feed  14149 non-null  float64\n",
      " 33  rougher.calculation.au_pb_ratio                     14149 non-null  float64\n",
      " 34  rougher.input.feed_ag                               14149 non-null  float64\n",
      " 35  rougher.input.feed_pb                               14149 non-null  float64\n",
      " 36  rougher.input.feed_rate                             14149 non-null  float64\n",
      " 37  rougher.input.feed_size                             14149 non-null  float64\n",
      " 38  rougher.input.feed_sol                              14149 non-null  float64\n",
      " 39  rougher.input.feed_au                               14149 non-null  float64\n",
      " 40  rougher.input.floatbank10_sulfate                   14149 non-null  float64\n",
      " 41  rougher.input.floatbank10_xanthate                  14149 non-null  float64\n",
      " 42  rougher.input.floatbank11_sulfate                   14149 non-null  float64\n",
      " 43  rougher.input.floatbank11_xanthate                  14149 non-null  float64\n",
      " 44  rougher.output.concentrate_ag                       14149 non-null  float64\n",
      " 45  rougher.output.concentrate_pb                       14149 non-null  float64\n",
      " 46  rougher.output.concentrate_sol                      14149 non-null  float64\n",
      " 47  rougher.output.concentrate_au                       14149 non-null  float64\n",
      " 48  rougher.output.recovery                             14149 non-null  float64\n",
      " 49  rougher.output.tail_ag                              14149 non-null  float64\n",
      " 50  rougher.output.tail_pb                              14149 non-null  float64\n",
      " 51  rougher.output.tail_sol                             14149 non-null  float64\n",
      " 52  rougher.output.tail_au                              14149 non-null  float64\n",
      " 53  rougher.state.floatbank10_a_air                     14149 non-null  float64\n",
      " 54  rougher.state.floatbank10_a_level                   14149 non-null  float64\n",
      " 55  rougher.state.floatbank10_b_air                     14149 non-null  float64\n",
      " 56  rougher.state.floatbank10_b_level                   14149 non-null  float64\n",
      " 57  rougher.state.floatbank10_c_air                     14149 non-null  float64\n",
      " 58  rougher.state.floatbank10_c_level                   14149 non-null  float64\n",
      " 59  rougher.state.floatbank10_d_air                     14149 non-null  float64\n",
      " 60  rougher.state.floatbank10_d_level                   14149 non-null  float64\n",
      " 61  rougher.state.floatbank10_e_air                     14149 non-null  float64\n",
      " 62  rougher.state.floatbank10_e_level                   14149 non-null  float64\n",
      " 63  rougher.state.floatbank10_f_air                     14149 non-null  float64\n",
      " 64  rougher.state.floatbank10_f_level                   14149 non-null  float64\n",
      " 65  secondary_cleaner.output.tail_ag                    14149 non-null  float64\n",
      " 66  secondary_cleaner.output.tail_pb                    14149 non-null  float64\n",
      " 67  secondary_cleaner.output.tail_sol                   14149 non-null  float64\n",
      " 68  secondary_cleaner.output.tail_au                    14149 non-null  float64\n",
      " 69  secondary_cleaner.state.floatbank2_a_air            14149 non-null  float64\n",
      " 70  secondary_cleaner.state.floatbank2_a_level          14149 non-null  float64\n",
      " 71  secondary_cleaner.state.floatbank2_b_air            14149 non-null  float64\n",
      " 72  secondary_cleaner.state.floatbank2_b_level          14149 non-null  float64\n",
      " 73  secondary_cleaner.state.floatbank3_a_air            14149 non-null  float64\n",
      " 74  secondary_cleaner.state.floatbank3_a_level          14149 non-null  float64\n",
      " 75  secondary_cleaner.state.floatbank3_b_air            14149 non-null  float64\n",
      " 76  secondary_cleaner.state.floatbank3_b_level          14149 non-null  float64\n",
      " 77  secondary_cleaner.state.floatbank4_a_air            14149 non-null  float64\n",
      " 78  secondary_cleaner.state.floatbank4_a_level          14149 non-null  float64\n",
      " 79  secondary_cleaner.state.floatbank4_b_air            14149 non-null  float64\n",
      " 80  secondary_cleaner.state.floatbank4_b_level          14149 non-null  float64\n",
      " 81  secondary_cleaner.state.floatbank5_a_air            14149 non-null  float64\n",
      " 82  secondary_cleaner.state.floatbank5_a_level          14149 non-null  float64\n",
      " 83  secondary_cleaner.state.floatbank5_b_air            14149 non-null  float64\n",
      " 84  secondary_cleaner.state.floatbank5_b_level          14149 non-null  float64\n",
      " 85  secondary_cleaner.state.floatbank6_a_air            14149 non-null  float64\n",
      " 86  secondary_cleaner.state.floatbank6_a_level          14149 non-null  float64\n",
      "dtypes: float64(86), object(1)\n",
      "memory usage: 9.4+ MB\n"
     ]
    }
   ],
   "source": [
    "df_train.info() # проверка"
   ]
  },
  {
   "cell_type": "code",
   "execution_count": 11,
   "metadata": {},
   "outputs": [
    {
     "name": "stdout",
     "output_type": "stream",
     "text": [
      "<class 'pandas.core.frame.DataFrame'>\n",
      "RangeIndex: 5290 entries, 0 to 5289\n",
      "Data columns (total 53 columns):\n",
      " #   Column                                      Non-Null Count  Dtype  \n",
      "---  ------                                      --------------  -----  \n",
      " 0   date                                        5290 non-null   object \n",
      " 1   primary_cleaner.input.sulfate               5290 non-null   float64\n",
      " 2   primary_cleaner.input.depressant            5290 non-null   float64\n",
      " 3   primary_cleaner.input.feed_size             5290 non-null   float64\n",
      " 4   primary_cleaner.input.xanthate              5290 non-null   float64\n",
      " 5   primary_cleaner.state.floatbank8_a_air      5290 non-null   float64\n",
      " 6   primary_cleaner.state.floatbank8_a_level    5290 non-null   float64\n",
      " 7   primary_cleaner.state.floatbank8_b_air      5290 non-null   float64\n",
      " 8   primary_cleaner.state.floatbank8_b_level    5290 non-null   float64\n",
      " 9   primary_cleaner.state.floatbank8_c_air      5290 non-null   float64\n",
      " 10  primary_cleaner.state.floatbank8_c_level    5290 non-null   float64\n",
      " 11  primary_cleaner.state.floatbank8_d_air      5290 non-null   float64\n",
      " 12  primary_cleaner.state.floatbank8_d_level    5290 non-null   float64\n",
      " 13  rougher.input.feed_ag                       5290 non-null   float64\n",
      " 14  rougher.input.feed_pb                       5290 non-null   float64\n",
      " 15  rougher.input.feed_rate                     5290 non-null   float64\n",
      " 16  rougher.input.feed_size                     5290 non-null   float64\n",
      " 17  rougher.input.feed_sol                      5290 non-null   float64\n",
      " 18  rougher.input.feed_au                       5290 non-null   float64\n",
      " 19  rougher.input.floatbank10_sulfate           5290 non-null   float64\n",
      " 20  rougher.input.floatbank10_xanthate          5290 non-null   float64\n",
      " 21  rougher.input.floatbank11_sulfate           5290 non-null   float64\n",
      " 22  rougher.input.floatbank11_xanthate          5290 non-null   float64\n",
      " 23  rougher.state.floatbank10_a_air             5290 non-null   float64\n",
      " 24  rougher.state.floatbank10_a_level           5290 non-null   float64\n",
      " 25  rougher.state.floatbank10_b_air             5290 non-null   float64\n",
      " 26  rougher.state.floatbank10_b_level           5290 non-null   float64\n",
      " 27  rougher.state.floatbank10_c_air             5290 non-null   float64\n",
      " 28  rougher.state.floatbank10_c_level           5290 non-null   float64\n",
      " 29  rougher.state.floatbank10_d_air             5290 non-null   float64\n",
      " 30  rougher.state.floatbank10_d_level           5290 non-null   float64\n",
      " 31  rougher.state.floatbank10_e_air             5290 non-null   float64\n",
      " 32  rougher.state.floatbank10_e_level           5290 non-null   float64\n",
      " 33  rougher.state.floatbank10_f_air             5290 non-null   float64\n",
      " 34  rougher.state.floatbank10_f_level           5290 non-null   float64\n",
      " 35  secondary_cleaner.state.floatbank2_a_air    5290 non-null   float64\n",
      " 36  secondary_cleaner.state.floatbank2_a_level  5290 non-null   float64\n",
      " 37  secondary_cleaner.state.floatbank2_b_air    5290 non-null   float64\n",
      " 38  secondary_cleaner.state.floatbank2_b_level  5290 non-null   float64\n",
      " 39  secondary_cleaner.state.floatbank3_a_air    5290 non-null   float64\n",
      " 40  secondary_cleaner.state.floatbank3_a_level  5290 non-null   float64\n",
      " 41  secondary_cleaner.state.floatbank3_b_air    5290 non-null   float64\n",
      " 42  secondary_cleaner.state.floatbank3_b_level  5290 non-null   float64\n",
      " 43  secondary_cleaner.state.floatbank4_a_air    5290 non-null   float64\n",
      " 44  secondary_cleaner.state.floatbank4_a_level  5290 non-null   float64\n",
      " 45  secondary_cleaner.state.floatbank4_b_air    5290 non-null   float64\n",
      " 46  secondary_cleaner.state.floatbank4_b_level  5290 non-null   float64\n",
      " 47  secondary_cleaner.state.floatbank5_a_air    5290 non-null   float64\n",
      " 48  secondary_cleaner.state.floatbank5_a_level  5290 non-null   float64\n",
      " 49  secondary_cleaner.state.floatbank5_b_air    5290 non-null   float64\n",
      " 50  secondary_cleaner.state.floatbank5_b_level  5290 non-null   float64\n",
      " 51  secondary_cleaner.state.floatbank6_a_air    5290 non-null   float64\n",
      " 52  secondary_cleaner.state.floatbank6_a_level  5290 non-null   float64\n",
      "dtypes: float64(52), object(1)\n",
      "memory usage: 2.1+ MB\n"
     ]
    }
   ],
   "source": [
    "df_test.info() # проверка"
   ]
  },
  {
   "cell_type": "markdown",
   "metadata": {},
   "source": [
    "**Вывод.** Пропуски заполнены, датафреймы готовы к дальнейшему анализу."
   ]
  },
  {
   "cell_type": "markdown",
   "metadata": {},
   "source": [
    "### Проверка корректности расчета Recovery"
   ]
  },
  {
   "cell_type": "markdown",
   "metadata": {},
   "source": [
    "Эффективность обогащения руды рассчитывается по формуле:\n",
    "\n",
    "RECOVERY = 100% x C x (F-T) / F x (C-T), где\n",
    "\n",
    "- C — доля золота в концентрате после флотации/очистки, в нашем случае: rougher.output.concentrate_au\n",
    "- F — доля золота в сырье/концентрате до флотации/очистки, в нашем случае: rougher.input.feed_au\n",
    "- T — доля золота в отвальных хвостах после флотации/очистки, в нашем случае: rougher.output.tail_au\n",
    "\n"
   ]
  },
  {
   "cell_type": "markdown",
   "metadata": {},
   "source": [
    "Для проверки правильности расчета эффективности обогащения руды (rougher.output.recovery) создадим новый столбец 'recovery_calc', в который запишем параметр Recovery, рассчитанный по указанной выше формуле:"
   ]
  },
  {
   "cell_type": "code",
   "execution_count": 12,
   "metadata": {},
   "outputs": [],
   "source": [
    "df_train['recovery_calc'] = 100*df_train['rougher.output.concentrate_au']*\\\n",
    "(df_train['rougher.input.feed_au'] - df_train['rougher.output.tail_au'])/\\\n",
    "(df_train['rougher.input.feed_au']*(df_train['rougher.output.concentrate_au'] - df_train['rougher.output.tail_au']))"
   ]
  },
  {
   "cell_type": "code",
   "execution_count": 13,
   "metadata": {
    "scrolled": false
   },
   "outputs": [
    {
     "data": {
      "text/plain": [
       "0        87.107763\n",
       "1        86.843261\n",
       "2        86.842308\n",
       "3        87.226430\n",
       "4        86.688794\n",
       "           ...    \n",
       "14144    89.574376\n",
       "14145    87.724007\n",
       "14146    88.890579\n",
       "14147    89.858126\n",
       "14148    89.514960\n",
       "Name: recovery_calc, Length: 14149, dtype: float64"
      ]
     },
     "execution_count": 13,
     "metadata": {},
     "output_type": "execute_result"
    }
   ],
   "source": [
    "df_train['recovery_calc'] # проверка создания столбца"
   ]
  },
  {
   "cell_type": "markdown",
   "metadata": {},
   "source": [
    "Рассчитаем среднюю абсолютную ошибку (МАЕ), сравнив данные в столбцах recovery_calc и rougher.output.recovery"
   ]
  },
  {
   "cell_type": "code",
   "execution_count": 14,
   "metadata": {
    "scrolled": true
   },
   "outputs": [
    {
     "name": "stdout",
     "output_type": "stream",
     "text": [
      "Recovery MAE = 1.1498046842860452e-14\n"
     ]
    }
   ],
   "source": [
    "print('Recovery MAE =', mean_absolute_error(df_train['rougher.output.recovery'], df_train['recovery_calc']))"
   ]
  },
  {
   "cell_type": "markdown",
   "metadata": {},
   "source": [
    "**Вывод.** Значение МАЕ получилось близким к нулю - эффективность была рассчитана верно."
   ]
  },
  {
   "cell_type": "markdown",
   "metadata": {},
   "source": [
    "### Анализ данных, недоступных в тестовой выборке"
   ]
  },
  {
   "cell_type": "markdown",
   "metadata": {},
   "source": [
    "Проанализируем данные, недоступные в тестовой выборке. Для этого преобразуем названия столбцов в train- и test-выборках в множества и отнимем одно множество от другого - в результате получим множество из названий столбцов, которых нет в тестовой выборке:"
   ]
  },
  {
   "cell_type": "code",
   "execution_count": 15,
   "metadata": {},
   "outputs": [],
   "source": [
    "columns_test_out = set(df_train.columns) - set(df_test.columns)"
   ]
  },
  {
   "cell_type": "code",
   "execution_count": 16,
   "metadata": {},
   "outputs": [
    {
     "data": {
      "text/plain": [
       "{'final.output.concentrate_ag',\n",
       " 'final.output.concentrate_au',\n",
       " 'final.output.concentrate_pb',\n",
       " 'final.output.concentrate_sol',\n",
       " 'final.output.recovery',\n",
       " 'final.output.tail_ag',\n",
       " 'final.output.tail_au',\n",
       " 'final.output.tail_pb',\n",
       " 'final.output.tail_sol',\n",
       " 'primary_cleaner.output.concentrate_ag',\n",
       " 'primary_cleaner.output.concentrate_au',\n",
       " 'primary_cleaner.output.concentrate_pb',\n",
       " 'primary_cleaner.output.concentrate_sol',\n",
       " 'primary_cleaner.output.tail_ag',\n",
       " 'primary_cleaner.output.tail_au',\n",
       " 'primary_cleaner.output.tail_pb',\n",
       " 'primary_cleaner.output.tail_sol',\n",
       " 'recovery_calc',\n",
       " 'rougher.calculation.au_pb_ratio',\n",
       " 'rougher.calculation.floatbank10_sulfate_to_au_feed',\n",
       " 'rougher.calculation.floatbank11_sulfate_to_au_feed',\n",
       " 'rougher.calculation.sulfate_to_au_concentrate',\n",
       " 'rougher.output.concentrate_ag',\n",
       " 'rougher.output.concentrate_au',\n",
       " 'rougher.output.concentrate_pb',\n",
       " 'rougher.output.concentrate_sol',\n",
       " 'rougher.output.recovery',\n",
       " 'rougher.output.tail_ag',\n",
       " 'rougher.output.tail_au',\n",
       " 'rougher.output.tail_pb',\n",
       " 'rougher.output.tail_sol',\n",
       " 'secondary_cleaner.output.tail_ag',\n",
       " 'secondary_cleaner.output.tail_au',\n",
       " 'secondary_cleaner.output.tail_pb',\n",
       " 'secondary_cleaner.output.tail_sol'}"
      ]
     },
     "execution_count": 16,
     "metadata": {},
     "output_type": "execute_result"
    }
   ],
   "source": [
    "columns_test_out"
   ]
  },
  {
   "cell_type": "markdown",
   "metadata": {},
   "source": [
    "**Вывод.** Тестовые данные не содержат данных с параметрами продукта (.output.) на выходе каждого этапа, в том числе не содержат двух целевых признаков, это параметры:\n",
    "- rougher.output.recovery - эффективность флотации и\n",
    "- final.output.recovery - общая эффективность обогащения."
   ]
  },
  {
   "cell_type": "markdown",
   "metadata": {},
   "source": [
    "Для добавления целевых признаков в тестовую выборку будем использовать значения столбца date в качестве индексов датафреймов:"
   ]
  },
  {
   "cell_type": "code",
   "execution_count": 17,
   "metadata": {},
   "outputs": [],
   "source": [
    "df_test.index = df_test['date']\n",
    "df_full.index = df_full['date']"
   ]
  },
  {
   "cell_type": "code",
   "execution_count": 18,
   "metadata": {},
   "outputs": [
    {
     "data": {
      "text/html": [
       "<div>\n",
       "<style scoped>\n",
       "    .dataframe tbody tr th:only-of-type {\n",
       "        vertical-align: middle;\n",
       "    }\n",
       "\n",
       "    .dataframe tbody tr th {\n",
       "        vertical-align: top;\n",
       "    }\n",
       "\n",
       "    .dataframe thead th {\n",
       "        text-align: right;\n",
       "    }\n",
       "</style>\n",
       "<table border=\"1\" class=\"dataframe\">\n",
       "  <thead>\n",
       "    <tr style=\"text-align: right;\">\n",
       "      <th></th>\n",
       "      <th>date</th>\n",
       "      <th>primary_cleaner.input.sulfate</th>\n",
       "      <th>primary_cleaner.input.depressant</th>\n",
       "      <th>primary_cleaner.input.feed_size</th>\n",
       "      <th>primary_cleaner.input.xanthate</th>\n",
       "      <th>primary_cleaner.state.floatbank8_a_air</th>\n",
       "      <th>primary_cleaner.state.floatbank8_a_level</th>\n",
       "      <th>primary_cleaner.state.floatbank8_b_air</th>\n",
       "      <th>primary_cleaner.state.floatbank8_b_level</th>\n",
       "      <th>primary_cleaner.state.floatbank8_c_air</th>\n",
       "      <th>...</th>\n",
       "      <th>secondary_cleaner.state.floatbank4_a_air</th>\n",
       "      <th>secondary_cleaner.state.floatbank4_a_level</th>\n",
       "      <th>secondary_cleaner.state.floatbank4_b_air</th>\n",
       "      <th>secondary_cleaner.state.floatbank4_b_level</th>\n",
       "      <th>secondary_cleaner.state.floatbank5_a_air</th>\n",
       "      <th>secondary_cleaner.state.floatbank5_a_level</th>\n",
       "      <th>secondary_cleaner.state.floatbank5_b_air</th>\n",
       "      <th>secondary_cleaner.state.floatbank5_b_level</th>\n",
       "      <th>secondary_cleaner.state.floatbank6_a_air</th>\n",
       "      <th>secondary_cleaner.state.floatbank6_a_level</th>\n",
       "    </tr>\n",
       "    <tr>\n",
       "      <th>date</th>\n",
       "      <th></th>\n",
       "      <th></th>\n",
       "      <th></th>\n",
       "      <th></th>\n",
       "      <th></th>\n",
       "      <th></th>\n",
       "      <th></th>\n",
       "      <th></th>\n",
       "      <th></th>\n",
       "      <th></th>\n",
       "      <th></th>\n",
       "      <th></th>\n",
       "      <th></th>\n",
       "      <th></th>\n",
       "      <th></th>\n",
       "      <th></th>\n",
       "      <th></th>\n",
       "      <th></th>\n",
       "      <th></th>\n",
       "      <th></th>\n",
       "      <th></th>\n",
       "    </tr>\n",
       "  </thead>\n",
       "  <tbody>\n",
       "    <tr>\n",
       "      <th>2016-09-01 00:59:59</th>\n",
       "      <td>2016-09-01 00:59:59</td>\n",
       "      <td>210.800909</td>\n",
       "      <td>14.993118</td>\n",
       "      <td>8.080000</td>\n",
       "      <td>1.005021</td>\n",
       "      <td>1398.981301</td>\n",
       "      <td>-500.225577</td>\n",
       "      <td>1399.144926</td>\n",
       "      <td>-499.919735</td>\n",
       "      <td>1400.102998</td>\n",
       "      <td>...</td>\n",
       "      <td>12.023554</td>\n",
       "      <td>-497.795834</td>\n",
       "      <td>8.016656</td>\n",
       "      <td>-501.289139</td>\n",
       "      <td>7.946562</td>\n",
       "      <td>-432.317850</td>\n",
       "      <td>4.872511</td>\n",
       "      <td>-500.037437</td>\n",
       "      <td>26.705889</td>\n",
       "      <td>-499.709414</td>\n",
       "    </tr>\n",
       "    <tr>\n",
       "      <th>2016-09-01 01:59:59</th>\n",
       "      <td>2016-09-01 01:59:59</td>\n",
       "      <td>215.392455</td>\n",
       "      <td>14.987471</td>\n",
       "      <td>8.080000</td>\n",
       "      <td>0.990469</td>\n",
       "      <td>1398.777912</td>\n",
       "      <td>-500.057435</td>\n",
       "      <td>1398.055362</td>\n",
       "      <td>-499.778182</td>\n",
       "      <td>1396.151033</td>\n",
       "      <td>...</td>\n",
       "      <td>12.058140</td>\n",
       "      <td>-498.695773</td>\n",
       "      <td>8.130979</td>\n",
       "      <td>-499.634209</td>\n",
       "      <td>7.958270</td>\n",
       "      <td>-525.839648</td>\n",
       "      <td>4.878850</td>\n",
       "      <td>-500.162375</td>\n",
       "      <td>25.019940</td>\n",
       "      <td>-499.819438</td>\n",
       "    </tr>\n",
       "    <tr>\n",
       "      <th>2016-09-01 02:59:59</th>\n",
       "      <td>2016-09-01 02:59:59</td>\n",
       "      <td>215.259946</td>\n",
       "      <td>12.884934</td>\n",
       "      <td>7.786667</td>\n",
       "      <td>0.996043</td>\n",
       "      <td>1398.493666</td>\n",
       "      <td>-500.868360</td>\n",
       "      <td>1398.860436</td>\n",
       "      <td>-499.764529</td>\n",
       "      <td>1398.075709</td>\n",
       "      <td>...</td>\n",
       "      <td>11.962366</td>\n",
       "      <td>-498.767484</td>\n",
       "      <td>8.096893</td>\n",
       "      <td>-500.827423</td>\n",
       "      <td>8.071056</td>\n",
       "      <td>-500.801673</td>\n",
       "      <td>4.905125</td>\n",
       "      <td>-499.828510</td>\n",
       "      <td>24.994862</td>\n",
       "      <td>-500.622559</td>\n",
       "    </tr>\n",
       "    <tr>\n",
       "      <th>2016-09-01 03:59:59</th>\n",
       "      <td>2016-09-01 03:59:59</td>\n",
       "      <td>215.336236</td>\n",
       "      <td>12.006805</td>\n",
       "      <td>7.640000</td>\n",
       "      <td>0.863514</td>\n",
       "      <td>1399.618111</td>\n",
       "      <td>-498.863574</td>\n",
       "      <td>1397.440120</td>\n",
       "      <td>-499.211024</td>\n",
       "      <td>1400.129303</td>\n",
       "      <td>...</td>\n",
       "      <td>12.033091</td>\n",
       "      <td>-498.350935</td>\n",
       "      <td>8.074946</td>\n",
       "      <td>-499.474407</td>\n",
       "      <td>7.897085</td>\n",
       "      <td>-500.868509</td>\n",
       "      <td>4.931400</td>\n",
       "      <td>-499.963623</td>\n",
       "      <td>24.948919</td>\n",
       "      <td>-498.709987</td>\n",
       "    </tr>\n",
       "    <tr>\n",
       "      <th>2016-09-01 04:59:59</th>\n",
       "      <td>2016-09-01 04:59:59</td>\n",
       "      <td>199.099327</td>\n",
       "      <td>10.682530</td>\n",
       "      <td>7.530000</td>\n",
       "      <td>0.805575</td>\n",
       "      <td>1401.268123</td>\n",
       "      <td>-500.808305</td>\n",
       "      <td>1398.128818</td>\n",
       "      <td>-499.504543</td>\n",
       "      <td>1402.172226</td>\n",
       "      <td>...</td>\n",
       "      <td>12.025367</td>\n",
       "      <td>-500.786497</td>\n",
       "      <td>8.054678</td>\n",
       "      <td>-500.397500</td>\n",
       "      <td>8.107890</td>\n",
       "      <td>-509.526725</td>\n",
       "      <td>4.957674</td>\n",
       "      <td>-500.360026</td>\n",
       "      <td>25.003331</td>\n",
       "      <td>-500.856333</td>\n",
       "    </tr>\n",
       "    <tr>\n",
       "      <th>...</th>\n",
       "      <td>...</td>\n",
       "      <td>...</td>\n",
       "      <td>...</td>\n",
       "      <td>...</td>\n",
       "      <td>...</td>\n",
       "      <td>...</td>\n",
       "      <td>...</td>\n",
       "      <td>...</td>\n",
       "      <td>...</td>\n",
       "      <td>...</td>\n",
       "      <td>...</td>\n",
       "      <td>...</td>\n",
       "      <td>...</td>\n",
       "      <td>...</td>\n",
       "      <td>...</td>\n",
       "      <td>...</td>\n",
       "      <td>...</td>\n",
       "      <td>...</td>\n",
       "      <td>...</td>\n",
       "      <td>...</td>\n",
       "      <td>...</td>\n",
       "    </tr>\n",
       "    <tr>\n",
       "      <th>2017-12-31 19:59:59</th>\n",
       "      <td>2017-12-31 19:59:59</td>\n",
       "      <td>173.957757</td>\n",
       "      <td>15.963399</td>\n",
       "      <td>8.070000</td>\n",
       "      <td>0.896701</td>\n",
       "      <td>1401.930554</td>\n",
       "      <td>-499.728848</td>\n",
       "      <td>1401.441445</td>\n",
       "      <td>-499.193423</td>\n",
       "      <td>1399.810313</td>\n",
       "      <td>...</td>\n",
       "      <td>13.995957</td>\n",
       "      <td>-500.157454</td>\n",
       "      <td>12.069155</td>\n",
       "      <td>-499.673279</td>\n",
       "      <td>7.977259</td>\n",
       "      <td>-499.516126</td>\n",
       "      <td>5.933319</td>\n",
       "      <td>-499.965973</td>\n",
       "      <td>8.987171</td>\n",
       "      <td>-499.755909</td>\n",
       "    </tr>\n",
       "    <tr>\n",
       "      <th>2017-12-31 20:59:59</th>\n",
       "      <td>2017-12-31 20:59:59</td>\n",
       "      <td>172.910270</td>\n",
       "      <td>16.002605</td>\n",
       "      <td>8.070000</td>\n",
       "      <td>0.896519</td>\n",
       "      <td>1447.075722</td>\n",
       "      <td>-494.716823</td>\n",
       "      <td>1448.851892</td>\n",
       "      <td>-465.963026</td>\n",
       "      <td>1443.890424</td>\n",
       "      <td>...</td>\n",
       "      <td>16.749781</td>\n",
       "      <td>-496.031539</td>\n",
       "      <td>13.365371</td>\n",
       "      <td>-499.122723</td>\n",
       "      <td>9.288553</td>\n",
       "      <td>-496.892967</td>\n",
       "      <td>7.372897</td>\n",
       "      <td>-499.942956</td>\n",
       "      <td>8.986832</td>\n",
       "      <td>-499.903761</td>\n",
       "    </tr>\n",
       "    <tr>\n",
       "      <th>2017-12-31 21:59:59</th>\n",
       "      <td>2017-12-31 21:59:59</td>\n",
       "      <td>171.135718</td>\n",
       "      <td>15.993669</td>\n",
       "      <td>8.070000</td>\n",
       "      <td>1.165996</td>\n",
       "      <td>1498.836182</td>\n",
       "      <td>-501.770403</td>\n",
       "      <td>1499.572353</td>\n",
       "      <td>-495.516347</td>\n",
       "      <td>1502.749213</td>\n",
       "      <td>...</td>\n",
       "      <td>19.994130</td>\n",
       "      <td>-499.791312</td>\n",
       "      <td>15.101425</td>\n",
       "      <td>-499.936252</td>\n",
       "      <td>10.989181</td>\n",
       "      <td>-498.347898</td>\n",
       "      <td>9.020944</td>\n",
       "      <td>-500.040448</td>\n",
       "      <td>8.982038</td>\n",
       "      <td>-497.789882</td>\n",
       "    </tr>\n",
       "    <tr>\n",
       "      <th>2017-12-31 22:59:59</th>\n",
       "      <td>2017-12-31 22:59:59</td>\n",
       "      <td>179.697158</td>\n",
       "      <td>15.438979</td>\n",
       "      <td>8.070000</td>\n",
       "      <td>1.501068</td>\n",
       "      <td>1498.466243</td>\n",
       "      <td>-500.483984</td>\n",
       "      <td>1497.986986</td>\n",
       "      <td>-519.200340</td>\n",
       "      <td>1496.569047</td>\n",
       "      <td>...</td>\n",
       "      <td>19.958760</td>\n",
       "      <td>-499.958750</td>\n",
       "      <td>15.026853</td>\n",
       "      <td>-499.723143</td>\n",
       "      <td>11.011607</td>\n",
       "      <td>-499.985046</td>\n",
       "      <td>9.009783</td>\n",
       "      <td>-499.937902</td>\n",
       "      <td>9.012660</td>\n",
       "      <td>-500.154284</td>\n",
       "    </tr>\n",
       "    <tr>\n",
       "      <th>2017-12-31 23:59:59</th>\n",
       "      <td>2017-12-31 23:59:59</td>\n",
       "      <td>181.556856</td>\n",
       "      <td>14.995850</td>\n",
       "      <td>8.070000</td>\n",
       "      <td>1.623454</td>\n",
       "      <td>1498.096303</td>\n",
       "      <td>-499.796922</td>\n",
       "      <td>1501.743791</td>\n",
       "      <td>-505.146931</td>\n",
       "      <td>1499.535978</td>\n",
       "      <td>...</td>\n",
       "      <td>20.034715</td>\n",
       "      <td>-500.728588</td>\n",
       "      <td>14.914199</td>\n",
       "      <td>-499.948518</td>\n",
       "      <td>10.986607</td>\n",
       "      <td>-500.658027</td>\n",
       "      <td>8.989497</td>\n",
       "      <td>-500.337588</td>\n",
       "      <td>8.988632</td>\n",
       "      <td>-500.764937</td>\n",
       "    </tr>\n",
       "  </tbody>\n",
       "</table>\n",
       "<p>5290 rows × 53 columns</p>\n",
       "</div>"
      ],
      "text/plain": [
       "                                    date  primary_cleaner.input.sulfate  \\\n",
       "date                                                                      \n",
       "2016-09-01 00:59:59  2016-09-01 00:59:59                     210.800909   \n",
       "2016-09-01 01:59:59  2016-09-01 01:59:59                     215.392455   \n",
       "2016-09-01 02:59:59  2016-09-01 02:59:59                     215.259946   \n",
       "2016-09-01 03:59:59  2016-09-01 03:59:59                     215.336236   \n",
       "2016-09-01 04:59:59  2016-09-01 04:59:59                     199.099327   \n",
       "...                                  ...                            ...   \n",
       "2017-12-31 19:59:59  2017-12-31 19:59:59                     173.957757   \n",
       "2017-12-31 20:59:59  2017-12-31 20:59:59                     172.910270   \n",
       "2017-12-31 21:59:59  2017-12-31 21:59:59                     171.135718   \n",
       "2017-12-31 22:59:59  2017-12-31 22:59:59                     179.697158   \n",
       "2017-12-31 23:59:59  2017-12-31 23:59:59                     181.556856   \n",
       "\n",
       "                     primary_cleaner.input.depressant  \\\n",
       "date                                                    \n",
       "2016-09-01 00:59:59                         14.993118   \n",
       "2016-09-01 01:59:59                         14.987471   \n",
       "2016-09-01 02:59:59                         12.884934   \n",
       "2016-09-01 03:59:59                         12.006805   \n",
       "2016-09-01 04:59:59                         10.682530   \n",
       "...                                               ...   \n",
       "2017-12-31 19:59:59                         15.963399   \n",
       "2017-12-31 20:59:59                         16.002605   \n",
       "2017-12-31 21:59:59                         15.993669   \n",
       "2017-12-31 22:59:59                         15.438979   \n",
       "2017-12-31 23:59:59                         14.995850   \n",
       "\n",
       "                     primary_cleaner.input.feed_size  \\\n",
       "date                                                   \n",
       "2016-09-01 00:59:59                         8.080000   \n",
       "2016-09-01 01:59:59                         8.080000   \n",
       "2016-09-01 02:59:59                         7.786667   \n",
       "2016-09-01 03:59:59                         7.640000   \n",
       "2016-09-01 04:59:59                         7.530000   \n",
       "...                                              ...   \n",
       "2017-12-31 19:59:59                         8.070000   \n",
       "2017-12-31 20:59:59                         8.070000   \n",
       "2017-12-31 21:59:59                         8.070000   \n",
       "2017-12-31 22:59:59                         8.070000   \n",
       "2017-12-31 23:59:59                         8.070000   \n",
       "\n",
       "                     primary_cleaner.input.xanthate  \\\n",
       "date                                                  \n",
       "2016-09-01 00:59:59                        1.005021   \n",
       "2016-09-01 01:59:59                        0.990469   \n",
       "2016-09-01 02:59:59                        0.996043   \n",
       "2016-09-01 03:59:59                        0.863514   \n",
       "2016-09-01 04:59:59                        0.805575   \n",
       "...                                             ...   \n",
       "2017-12-31 19:59:59                        0.896701   \n",
       "2017-12-31 20:59:59                        0.896519   \n",
       "2017-12-31 21:59:59                        1.165996   \n",
       "2017-12-31 22:59:59                        1.501068   \n",
       "2017-12-31 23:59:59                        1.623454   \n",
       "\n",
       "                     primary_cleaner.state.floatbank8_a_air  \\\n",
       "date                                                          \n",
       "2016-09-01 00:59:59                             1398.981301   \n",
       "2016-09-01 01:59:59                             1398.777912   \n",
       "2016-09-01 02:59:59                             1398.493666   \n",
       "2016-09-01 03:59:59                             1399.618111   \n",
       "2016-09-01 04:59:59                             1401.268123   \n",
       "...                                                     ...   \n",
       "2017-12-31 19:59:59                             1401.930554   \n",
       "2017-12-31 20:59:59                             1447.075722   \n",
       "2017-12-31 21:59:59                             1498.836182   \n",
       "2017-12-31 22:59:59                             1498.466243   \n",
       "2017-12-31 23:59:59                             1498.096303   \n",
       "\n",
       "                     primary_cleaner.state.floatbank8_a_level  \\\n",
       "date                                                            \n",
       "2016-09-01 00:59:59                               -500.225577   \n",
       "2016-09-01 01:59:59                               -500.057435   \n",
       "2016-09-01 02:59:59                               -500.868360   \n",
       "2016-09-01 03:59:59                               -498.863574   \n",
       "2016-09-01 04:59:59                               -500.808305   \n",
       "...                                                       ...   \n",
       "2017-12-31 19:59:59                               -499.728848   \n",
       "2017-12-31 20:59:59                               -494.716823   \n",
       "2017-12-31 21:59:59                               -501.770403   \n",
       "2017-12-31 22:59:59                               -500.483984   \n",
       "2017-12-31 23:59:59                               -499.796922   \n",
       "\n",
       "                     primary_cleaner.state.floatbank8_b_air  \\\n",
       "date                                                          \n",
       "2016-09-01 00:59:59                             1399.144926   \n",
       "2016-09-01 01:59:59                             1398.055362   \n",
       "2016-09-01 02:59:59                             1398.860436   \n",
       "2016-09-01 03:59:59                             1397.440120   \n",
       "2016-09-01 04:59:59                             1398.128818   \n",
       "...                                                     ...   \n",
       "2017-12-31 19:59:59                             1401.441445   \n",
       "2017-12-31 20:59:59                             1448.851892   \n",
       "2017-12-31 21:59:59                             1499.572353   \n",
       "2017-12-31 22:59:59                             1497.986986   \n",
       "2017-12-31 23:59:59                             1501.743791   \n",
       "\n",
       "                     primary_cleaner.state.floatbank8_b_level  \\\n",
       "date                                                            \n",
       "2016-09-01 00:59:59                               -499.919735   \n",
       "2016-09-01 01:59:59                               -499.778182   \n",
       "2016-09-01 02:59:59                               -499.764529   \n",
       "2016-09-01 03:59:59                               -499.211024   \n",
       "2016-09-01 04:59:59                               -499.504543   \n",
       "...                                                       ...   \n",
       "2017-12-31 19:59:59                               -499.193423   \n",
       "2017-12-31 20:59:59                               -465.963026   \n",
       "2017-12-31 21:59:59                               -495.516347   \n",
       "2017-12-31 22:59:59                               -519.200340   \n",
       "2017-12-31 23:59:59                               -505.146931   \n",
       "\n",
       "                     primary_cleaner.state.floatbank8_c_air  ...  \\\n",
       "date                                                         ...   \n",
       "2016-09-01 00:59:59                             1400.102998  ...   \n",
       "2016-09-01 01:59:59                             1396.151033  ...   \n",
       "2016-09-01 02:59:59                             1398.075709  ...   \n",
       "2016-09-01 03:59:59                             1400.129303  ...   \n",
       "2016-09-01 04:59:59                             1402.172226  ...   \n",
       "...                                                     ...  ...   \n",
       "2017-12-31 19:59:59                             1399.810313  ...   \n",
       "2017-12-31 20:59:59                             1443.890424  ...   \n",
       "2017-12-31 21:59:59                             1502.749213  ...   \n",
       "2017-12-31 22:59:59                             1496.569047  ...   \n",
       "2017-12-31 23:59:59                             1499.535978  ...   \n",
       "\n",
       "                     secondary_cleaner.state.floatbank4_a_air  \\\n",
       "date                                                            \n",
       "2016-09-01 00:59:59                                 12.023554   \n",
       "2016-09-01 01:59:59                                 12.058140   \n",
       "2016-09-01 02:59:59                                 11.962366   \n",
       "2016-09-01 03:59:59                                 12.033091   \n",
       "2016-09-01 04:59:59                                 12.025367   \n",
       "...                                                       ...   \n",
       "2017-12-31 19:59:59                                 13.995957   \n",
       "2017-12-31 20:59:59                                 16.749781   \n",
       "2017-12-31 21:59:59                                 19.994130   \n",
       "2017-12-31 22:59:59                                 19.958760   \n",
       "2017-12-31 23:59:59                                 20.034715   \n",
       "\n",
       "                     secondary_cleaner.state.floatbank4_a_level  \\\n",
       "date                                                              \n",
       "2016-09-01 00:59:59                                 -497.795834   \n",
       "2016-09-01 01:59:59                                 -498.695773   \n",
       "2016-09-01 02:59:59                                 -498.767484   \n",
       "2016-09-01 03:59:59                                 -498.350935   \n",
       "2016-09-01 04:59:59                                 -500.786497   \n",
       "...                                                         ...   \n",
       "2017-12-31 19:59:59                                 -500.157454   \n",
       "2017-12-31 20:59:59                                 -496.031539   \n",
       "2017-12-31 21:59:59                                 -499.791312   \n",
       "2017-12-31 22:59:59                                 -499.958750   \n",
       "2017-12-31 23:59:59                                 -500.728588   \n",
       "\n",
       "                     secondary_cleaner.state.floatbank4_b_air  \\\n",
       "date                                                            \n",
       "2016-09-01 00:59:59                                  8.016656   \n",
       "2016-09-01 01:59:59                                  8.130979   \n",
       "2016-09-01 02:59:59                                  8.096893   \n",
       "2016-09-01 03:59:59                                  8.074946   \n",
       "2016-09-01 04:59:59                                  8.054678   \n",
       "...                                                       ...   \n",
       "2017-12-31 19:59:59                                 12.069155   \n",
       "2017-12-31 20:59:59                                 13.365371   \n",
       "2017-12-31 21:59:59                                 15.101425   \n",
       "2017-12-31 22:59:59                                 15.026853   \n",
       "2017-12-31 23:59:59                                 14.914199   \n",
       "\n",
       "                     secondary_cleaner.state.floatbank4_b_level  \\\n",
       "date                                                              \n",
       "2016-09-01 00:59:59                                 -501.289139   \n",
       "2016-09-01 01:59:59                                 -499.634209   \n",
       "2016-09-01 02:59:59                                 -500.827423   \n",
       "2016-09-01 03:59:59                                 -499.474407   \n",
       "2016-09-01 04:59:59                                 -500.397500   \n",
       "...                                                         ...   \n",
       "2017-12-31 19:59:59                                 -499.673279   \n",
       "2017-12-31 20:59:59                                 -499.122723   \n",
       "2017-12-31 21:59:59                                 -499.936252   \n",
       "2017-12-31 22:59:59                                 -499.723143   \n",
       "2017-12-31 23:59:59                                 -499.948518   \n",
       "\n",
       "                     secondary_cleaner.state.floatbank5_a_air  \\\n",
       "date                                                            \n",
       "2016-09-01 00:59:59                                  7.946562   \n",
       "2016-09-01 01:59:59                                  7.958270   \n",
       "2016-09-01 02:59:59                                  8.071056   \n",
       "2016-09-01 03:59:59                                  7.897085   \n",
       "2016-09-01 04:59:59                                  8.107890   \n",
       "...                                                       ...   \n",
       "2017-12-31 19:59:59                                  7.977259   \n",
       "2017-12-31 20:59:59                                  9.288553   \n",
       "2017-12-31 21:59:59                                 10.989181   \n",
       "2017-12-31 22:59:59                                 11.011607   \n",
       "2017-12-31 23:59:59                                 10.986607   \n",
       "\n",
       "                     secondary_cleaner.state.floatbank5_a_level  \\\n",
       "date                                                              \n",
       "2016-09-01 00:59:59                                 -432.317850   \n",
       "2016-09-01 01:59:59                                 -525.839648   \n",
       "2016-09-01 02:59:59                                 -500.801673   \n",
       "2016-09-01 03:59:59                                 -500.868509   \n",
       "2016-09-01 04:59:59                                 -509.526725   \n",
       "...                                                         ...   \n",
       "2017-12-31 19:59:59                                 -499.516126   \n",
       "2017-12-31 20:59:59                                 -496.892967   \n",
       "2017-12-31 21:59:59                                 -498.347898   \n",
       "2017-12-31 22:59:59                                 -499.985046   \n",
       "2017-12-31 23:59:59                                 -500.658027   \n",
       "\n",
       "                     secondary_cleaner.state.floatbank5_b_air  \\\n",
       "date                                                            \n",
       "2016-09-01 00:59:59                                  4.872511   \n",
       "2016-09-01 01:59:59                                  4.878850   \n",
       "2016-09-01 02:59:59                                  4.905125   \n",
       "2016-09-01 03:59:59                                  4.931400   \n",
       "2016-09-01 04:59:59                                  4.957674   \n",
       "...                                                       ...   \n",
       "2017-12-31 19:59:59                                  5.933319   \n",
       "2017-12-31 20:59:59                                  7.372897   \n",
       "2017-12-31 21:59:59                                  9.020944   \n",
       "2017-12-31 22:59:59                                  9.009783   \n",
       "2017-12-31 23:59:59                                  8.989497   \n",
       "\n",
       "                     secondary_cleaner.state.floatbank5_b_level  \\\n",
       "date                                                              \n",
       "2016-09-01 00:59:59                                 -500.037437   \n",
       "2016-09-01 01:59:59                                 -500.162375   \n",
       "2016-09-01 02:59:59                                 -499.828510   \n",
       "2016-09-01 03:59:59                                 -499.963623   \n",
       "2016-09-01 04:59:59                                 -500.360026   \n",
       "...                                                         ...   \n",
       "2017-12-31 19:59:59                                 -499.965973   \n",
       "2017-12-31 20:59:59                                 -499.942956   \n",
       "2017-12-31 21:59:59                                 -500.040448   \n",
       "2017-12-31 22:59:59                                 -499.937902   \n",
       "2017-12-31 23:59:59                                 -500.337588   \n",
       "\n",
       "                     secondary_cleaner.state.floatbank6_a_air  \\\n",
       "date                                                            \n",
       "2016-09-01 00:59:59                                 26.705889   \n",
       "2016-09-01 01:59:59                                 25.019940   \n",
       "2016-09-01 02:59:59                                 24.994862   \n",
       "2016-09-01 03:59:59                                 24.948919   \n",
       "2016-09-01 04:59:59                                 25.003331   \n",
       "...                                                       ...   \n",
       "2017-12-31 19:59:59                                  8.987171   \n",
       "2017-12-31 20:59:59                                  8.986832   \n",
       "2017-12-31 21:59:59                                  8.982038   \n",
       "2017-12-31 22:59:59                                  9.012660   \n",
       "2017-12-31 23:59:59                                  8.988632   \n",
       "\n",
       "                     secondary_cleaner.state.floatbank6_a_level  \n",
       "date                                                             \n",
       "2016-09-01 00:59:59                                 -499.709414  \n",
       "2016-09-01 01:59:59                                 -499.819438  \n",
       "2016-09-01 02:59:59                                 -500.622559  \n",
       "2016-09-01 03:59:59                                 -498.709987  \n",
       "2016-09-01 04:59:59                                 -500.856333  \n",
       "...                                                         ...  \n",
       "2017-12-31 19:59:59                                 -499.755909  \n",
       "2017-12-31 20:59:59                                 -499.903761  \n",
       "2017-12-31 21:59:59                                 -497.789882  \n",
       "2017-12-31 22:59:59                                 -500.154284  \n",
       "2017-12-31 23:59:59                                 -500.764937  \n",
       "\n",
       "[5290 rows x 53 columns]"
      ]
     },
     "execution_count": 18,
     "metadata": {},
     "output_type": "execute_result"
    }
   ],
   "source": [
    "df_test # проверка"
   ]
  },
  {
   "cell_type": "markdown",
   "metadata": {},
   "source": [
    "Создадим новый столбец в тестовой выборке rougher.output.recovery (целевой признак №1), используя данные полной выборки и отфильровав нужные строки по датам-индексам тестовой выборки:"
   ]
  },
  {
   "cell_type": "code",
   "execution_count": 19,
   "metadata": {},
   "outputs": [],
   "source": [
    "df_test['rougher.output.recovery'] = df_full['rougher.output.recovery'][df_test.index]"
   ]
  },
  {
   "cell_type": "code",
   "execution_count": 20,
   "metadata": {},
   "outputs": [
    {
     "data": {
      "text/plain": [
       "date\n",
       "2016-09-01 00:59:59    89.993421\n",
       "2016-09-01 01:59:59    88.089657\n",
       "2016-09-01 02:59:59    88.412756\n",
       "2016-09-01 03:59:59    87.360133\n",
       "2016-09-01 04:59:59    83.236367\n",
       "                         ...    \n",
       "2017-12-31 19:59:59    95.172585\n",
       "2017-12-31 20:59:59    94.575036\n",
       "2017-12-31 21:59:59    93.018138\n",
       "2017-12-31 22:59:59    92.599042\n",
       "2017-12-31 23:59:59    91.177695\n",
       "Name: rougher.output.recovery, Length: 5290, dtype: float64"
      ]
     },
     "execution_count": 20,
     "metadata": {},
     "output_type": "execute_result"
    }
   ],
   "source": [
    "df_test['rougher.output.recovery'] # проверка"
   ]
  },
  {
   "cell_type": "markdown",
   "metadata": {},
   "source": [
    "Создадим новый столбец в тестовой выборке final.output.recovery (целевой признак №2), используя данные полной выборки и отфильровав нужные строки по датам-индексам тестовой выборки:"
   ]
  },
  {
   "cell_type": "code",
   "execution_count": 21,
   "metadata": {},
   "outputs": [],
   "source": [
    "df_test['final.output.recovery'] = df_full['final.output.recovery'][df_test.index]"
   ]
  },
  {
   "cell_type": "code",
   "execution_count": 22,
   "metadata": {},
   "outputs": [
    {
     "data": {
      "text/plain": [
       "date\n",
       "2016-09-01 00:59:59    70.273583\n",
       "2016-09-01 01:59:59    68.910432\n",
       "2016-09-01 02:59:59    68.143213\n",
       "2016-09-01 03:59:59    67.776393\n",
       "2016-09-01 04:59:59    61.467078\n",
       "                         ...    \n",
       "2017-12-31 19:59:59    68.919891\n",
       "2017-12-31 20:59:59    68.440582\n",
       "2017-12-31 21:59:59    67.092759\n",
       "2017-12-31 22:59:59    68.061186\n",
       "2017-12-31 23:59:59    71.699976\n",
       "Name: final.output.recovery, Length: 5290, dtype: float64"
      ]
     },
     "execution_count": 22,
     "metadata": {},
     "output_type": "execute_result"
    }
   ],
   "source": [
    "df_test['final.output.recovery'] # проверка"
   ]
  },
  {
   "cell_type": "markdown",
   "metadata": {},
   "source": [
    "### Корректировка данных в train-выборке"
   ]
  },
  {
   "cell_type": "markdown",
   "metadata": {},
   "source": [
    "Судя по заданию, полученному от заказчика, на вход модели будут всегда подаваться данные, соответствующие признакам в тестовой выборке. Поэтому для корректного обучения моделей необходимо в обучающей выборке оставить тоже только те признаки, которые есть в тестовой. \n",
    "\n",
    "Создадим в соответствии с указанным принципом датафрейм data_train, который будет использоваться для дальнейшего обучения моделей:"
   ]
  },
  {
   "cell_type": "code",
   "execution_count": 23,
   "metadata": {},
   "outputs": [],
   "source": [
    "data_train = df_train[df_test.columns]"
   ]
  },
  {
   "cell_type": "code",
   "execution_count": 24,
   "metadata": {
    "scrolled": true
   },
   "outputs": [
    {
     "name": "stdout",
     "output_type": "stream",
     "text": [
      "<class 'pandas.core.frame.DataFrame'>\n",
      "RangeIndex: 14149 entries, 0 to 14148\n",
      "Data columns (total 55 columns):\n",
      " #   Column                                      Non-Null Count  Dtype  \n",
      "---  ------                                      --------------  -----  \n",
      " 0   date                                        14149 non-null  object \n",
      " 1   primary_cleaner.input.sulfate               14149 non-null  float64\n",
      " 2   primary_cleaner.input.depressant            14149 non-null  float64\n",
      " 3   primary_cleaner.input.feed_size             14149 non-null  float64\n",
      " 4   primary_cleaner.input.xanthate              14149 non-null  float64\n",
      " 5   primary_cleaner.state.floatbank8_a_air      14149 non-null  float64\n",
      " 6   primary_cleaner.state.floatbank8_a_level    14149 non-null  float64\n",
      " 7   primary_cleaner.state.floatbank8_b_air      14149 non-null  float64\n",
      " 8   primary_cleaner.state.floatbank8_b_level    14149 non-null  float64\n",
      " 9   primary_cleaner.state.floatbank8_c_air      14149 non-null  float64\n",
      " 10  primary_cleaner.state.floatbank8_c_level    14149 non-null  float64\n",
      " 11  primary_cleaner.state.floatbank8_d_air      14149 non-null  float64\n",
      " 12  primary_cleaner.state.floatbank8_d_level    14149 non-null  float64\n",
      " 13  rougher.input.feed_ag                       14149 non-null  float64\n",
      " 14  rougher.input.feed_pb                       14149 non-null  float64\n",
      " 15  rougher.input.feed_rate                     14149 non-null  float64\n",
      " 16  rougher.input.feed_size                     14149 non-null  float64\n",
      " 17  rougher.input.feed_sol                      14149 non-null  float64\n",
      " 18  rougher.input.feed_au                       14149 non-null  float64\n",
      " 19  rougher.input.floatbank10_sulfate           14149 non-null  float64\n",
      " 20  rougher.input.floatbank10_xanthate          14149 non-null  float64\n",
      " 21  rougher.input.floatbank11_sulfate           14149 non-null  float64\n",
      " 22  rougher.input.floatbank11_xanthate          14149 non-null  float64\n",
      " 23  rougher.state.floatbank10_a_air             14149 non-null  float64\n",
      " 24  rougher.state.floatbank10_a_level           14149 non-null  float64\n",
      " 25  rougher.state.floatbank10_b_air             14149 non-null  float64\n",
      " 26  rougher.state.floatbank10_b_level           14149 non-null  float64\n",
      " 27  rougher.state.floatbank10_c_air             14149 non-null  float64\n",
      " 28  rougher.state.floatbank10_c_level           14149 non-null  float64\n",
      " 29  rougher.state.floatbank10_d_air             14149 non-null  float64\n",
      " 30  rougher.state.floatbank10_d_level           14149 non-null  float64\n",
      " 31  rougher.state.floatbank10_e_air             14149 non-null  float64\n",
      " 32  rougher.state.floatbank10_e_level           14149 non-null  float64\n",
      " 33  rougher.state.floatbank10_f_air             14149 non-null  float64\n",
      " 34  rougher.state.floatbank10_f_level           14149 non-null  float64\n",
      " 35  secondary_cleaner.state.floatbank2_a_air    14149 non-null  float64\n",
      " 36  secondary_cleaner.state.floatbank2_a_level  14149 non-null  float64\n",
      " 37  secondary_cleaner.state.floatbank2_b_air    14149 non-null  float64\n",
      " 38  secondary_cleaner.state.floatbank2_b_level  14149 non-null  float64\n",
      " 39  secondary_cleaner.state.floatbank3_a_air    14149 non-null  float64\n",
      " 40  secondary_cleaner.state.floatbank3_a_level  14149 non-null  float64\n",
      " 41  secondary_cleaner.state.floatbank3_b_air    14149 non-null  float64\n",
      " 42  secondary_cleaner.state.floatbank3_b_level  14149 non-null  float64\n",
      " 43  secondary_cleaner.state.floatbank4_a_air    14149 non-null  float64\n",
      " 44  secondary_cleaner.state.floatbank4_a_level  14149 non-null  float64\n",
      " 45  secondary_cleaner.state.floatbank4_b_air    14149 non-null  float64\n",
      " 46  secondary_cleaner.state.floatbank4_b_level  14149 non-null  float64\n",
      " 47  secondary_cleaner.state.floatbank5_a_air    14149 non-null  float64\n",
      " 48  secondary_cleaner.state.floatbank5_a_level  14149 non-null  float64\n",
      " 49  secondary_cleaner.state.floatbank5_b_air    14149 non-null  float64\n",
      " 50  secondary_cleaner.state.floatbank5_b_level  14149 non-null  float64\n",
      " 51  secondary_cleaner.state.floatbank6_a_air    14149 non-null  float64\n",
      " 52  secondary_cleaner.state.floatbank6_a_level  14149 non-null  float64\n",
      " 53  rougher.output.recovery                     14149 non-null  float64\n",
      " 54  final.output.recovery                       14149 non-null  float64\n",
      "dtypes: float64(54), object(1)\n",
      "memory usage: 5.9+ MB\n"
     ]
    }
   ],
   "source": [
    "data_train.info() # проверка"
   ]
  },
  {
   "cell_type": "markdown",
   "metadata": {},
   "source": [
    "**Вывод по разделу №1.** В обучающей и тестовой выборках теперь все признаки совпадают, пропусков нет."
   ]
  },
  {
   "cell_type": "markdown",
   "metadata": {},
   "source": [
    "## Анализ данных"
   ]
  },
  {
   "cell_type": "markdown",
   "metadata": {},
   "source": [
    "Проанализируем, как меняется концентрация металлов (Au, Ag, Pb) на различных этапах очистки. Дополнительно с помощью метода  value_counts() рассмотрим часто встречающиеся значения параметров:"
   ]
  },
  {
   "cell_type": "markdown",
   "metadata": {},
   "source": [
    "### Концентрация золота"
   ]
  },
  {
   "cell_type": "code",
   "execution_count": 25,
   "metadata": {},
   "outputs": [
    {
     "name": "stdout",
     "output_type": "stream",
     "text": [
      "Среднее содержание Au в сырье: 8.266097326589103\n",
      "Среднее содержание Au на этапе флотации: 19.772000139486316\n"
     ]
    },
    {
     "data": {
      "text/plain": [
       "0.000000     394\n",
       "13.791368     11\n",
       "20.341888      6\n",
       "18.652372      6\n",
       "0.010000       5\n",
       "            ... \n",
       "19.622257      1\n",
       "18.384403      1\n",
       "20.725496      1\n",
       "23.975396      1\n",
       "20.557015      1\n",
       "Name: rougher.output.concentrate_au, Length: 19015, dtype: int64"
      ]
     },
     "execution_count": 25,
     "metadata": {},
     "output_type": "execute_result"
    }
   ],
   "source": [
    "print('Среднее содержание Au в сырье:', df_full['rougher.input.feed_au'].mean())\n",
    "print('Среднее содержание Au на этапе флотации:', df_full['rougher.output.concentrate_au'].mean())\n",
    "df_full['rougher.output.concentrate_au'].value_counts()"
   ]
  },
  {
   "cell_type": "code",
   "execution_count": 26,
   "metadata": {},
   "outputs": [
    {
     "name": "stdout",
     "output_type": "stream",
     "text": [
      "Среднее содержание Au после этапа первичной очистки: 32.1194004078765\n"
     ]
    },
    {
     "data": {
      "text/plain": [
       "0.010000     117\n",
       "0.000000     108\n",
       "30.350809      6\n",
       "27.765463      5\n",
       "36.306431      5\n",
       "            ... \n",
       "36.108676      1\n",
       "32.090403      1\n",
       "32.920681      1\n",
       "38.134179      1\n",
       "33.611983      1\n",
       "Name: primary_cleaner.output.concentrate_au, Length: 19199, dtype: int64"
      ]
     },
     "execution_count": 26,
     "metadata": {},
     "output_type": "execute_result"
    }
   ],
   "source": [
    "print('Среднее содержание Au после этапа первичной очистки:', \n",
    "      df_full['primary_cleaner.output.concentrate_au'].mean())\n",
    "df_full['primary_cleaner.output.concentrate_au'].value_counts()"
   ]
  },
  {
   "cell_type": "code",
   "execution_count": 27,
   "metadata": {},
   "outputs": [
    {
     "name": "stdout",
     "output_type": "stream",
     "text": [
      "Среднее содержание Au в конечном продукте: 44.0765129419528\n"
     ]
    },
    {
     "data": {
      "text/plain": [
       "0.000000     98\n",
       "37.336849    11\n",
       "44.528214     7\n",
       "46.105030     6\n",
       "45.270618     5\n",
       "             ..\n",
       "43.058343     1\n",
       "41.332039     1\n",
       "43.590600     1\n",
       "44.653469     1\n",
       "47.956172     1\n",
       "Name: final.output.concentrate_au, Length: 19308, dtype: int64"
      ]
     },
     "execution_count": 27,
     "metadata": {},
     "output_type": "execute_result"
    }
   ],
   "source": [
    "print('Среднее содержание Au в конечном продукте:', \n",
    "      df_full['final.output.concentrate_au'].mean())\n",
    "df_full['final.output.concentrate_au'].value_counts()"
   ]
  },
  {
   "cell_type": "markdown",
   "metadata": {},
   "source": [
    "Рассмотрим концентрацию металла на гистограммах для каждого этапа очистки."
   ]
  },
  {
   "cell_type": "code",
   "execution_count": 28,
   "metadata": {},
   "outputs": [
    {
     "data": {
      "image/png": "[encoded data removed]",
      "text/plain": [
       "<Figure size 1008x504 with 1 Axes>"
      ]
     },
     "metadata": {
      "needs_background": "light"
     },
     "output_type": "display_data"
    }
   ],
   "source": [
    "bins = np.linspace(0, 60, 70)\n",
    "\n",
    "pyplot.figure(figsize=(14, 7))\n",
    "pyplot.hist(df_full['rougher.input.feed_au'], bins, alpha=0.5, label='Au, сырье', density=True)\n",
    "pyplot.hist(df_full['rougher.output.concentrate_au'], bins, alpha=0.5, label='Au, флотация', density=True)\n",
    "pyplot.hist(df_full['primary_cleaner.output.concentrate_au'], bins, alpha=0.5, label='Au, первичная очистка', density=True)\n",
    "pyplot.hist(df_full['final.output.concentrate_au'], bins, alpha=0.5, label='Au, конечный продукт', density=True)\n",
    "pyplot.legend(loc='upper right')\n",
    "pyplot.title('Концентрация золота на разных этапах технологического процесса')\n",
    "pyplot.show()"
   ]
  },
  {
   "cell_type": "markdown",
   "metadata": {},
   "source": [
    "**Вывод.** Ожидаемо, в процессе обогащения концентрация золота возрастает, в общей сложности более, чем в 5 раз (от сырья к конечному продукту). В трёх распределениях из четырех большинство из наиболее частых значений близки к среднему, распределение соответствующее флотации, ближе к нормальному. Обратим внимание на часто встречающиеся, нехарактерные значения равные нулю или близкие к нулю на всех этапах. Используем этот факт при дальнейшей обработке данных."
   ]
  },
  {
   "cell_type": "markdown",
   "metadata": {},
   "source": [
    "### Концентрация серебра"
   ]
  },
  {
   "cell_type": "code",
   "execution_count": 29,
   "metadata": {},
   "outputs": [
    {
     "name": "stdout",
     "output_type": "stream",
     "text": [
      "Среднее содержание Ag в сырье: 8.794927425814688\n",
      "Среднее содержание Ag на этапе флотации: 11.994759359873429\n"
     ]
    },
    {
     "data": {
      "text/plain": [
       "0.000000     394\n",
       "7.458753      11\n",
       "9.252737       6\n",
       "9.975555       6\n",
       "0.010000       5\n",
       "            ... \n",
       "12.603623      1\n",
       "7.610059       1\n",
       "13.353075      1\n",
       "12.803057      1\n",
       "10.304030      1\n",
       "Name: rougher.output.concentrate_ag, Length: 19015, dtype: int64"
      ]
     },
     "execution_count": 29,
     "metadata": {},
     "output_type": "execute_result"
    }
   ],
   "source": [
    "print('Среднее содержание Ag в сырье:', df_full['rougher.input.feed_ag'].mean())\n",
    "print('Среднее содержание Ag на этапе флотации:', \n",
    "      df_full['rougher.output.concentrate_ag'].mean())\n",
    "df_full['rougher.output.concentrate_ag'].value_counts()"
   ]
  },
  {
   "cell_type": "code",
   "execution_count": 30,
   "metadata": {},
   "outputs": [
    {
     "name": "stdout",
     "output_type": "stream",
     "text": [
      "Среднее содержание Ag после этапа первичной очистки: 8.44240807771906\n"
     ]
    },
    {
     "data": {
      "text/plain": [
       "0.010000    117\n",
       "0.000000    108\n",
       "8.339732      6\n",
       "7.925334      5\n",
       "9.987871      5\n",
       "           ... \n",
       "8.361700      1\n",
       "7.620419      1\n",
       "6.205785      1\n",
       "8.954860      1\n",
       "9.844056      1\n",
       "Name: primary_cleaner.output.concentrate_ag, Length: 19199, dtype: int64"
      ]
     },
     "execution_count": 30,
     "metadata": {},
     "output_type": "execute_result"
    }
   ],
   "source": [
    "print('Среднее содержание Ag после этапа первичной очистки:', \n",
    "      df_full['primary_cleaner.output.concentrate_ag'].mean())\n",
    "df_full['primary_cleaner.output.concentrate_ag'].value_counts()"
   ]
  },
  {
   "cell_type": "code",
   "execution_count": 31,
   "metadata": {},
   "outputs": [
    {
     "name": "stdout",
     "output_type": "stream",
     "text": [
      "Среднее содержание Ag в конечном продукте: 5.168386967510243\n"
     ]
    },
    {
     "data": {
      "text/plain": [
       "0.000000    98\n",
       "5.925380    11\n",
       "3.554558     7\n",
       "3.572025     6\n",
       "5.955403     5\n",
       "            ..\n",
       "6.703167     1\n",
       "4.707040     1\n",
       "4.932490     1\n",
       "4.112471     1\n",
       "4.334761     1\n",
       "Name: final.output.concentrate_ag, Length: 19307, dtype: int64"
      ]
     },
     "execution_count": 31,
     "metadata": {},
     "output_type": "execute_result"
    }
   ],
   "source": [
    "print('Среднее содержание Ag в конечном продукте:', \n",
    "      df_full['final.output.concentrate_ag'].mean())\n",
    "df_full['final.output.concentrate_ag'].value_counts()"
   ]
  },
  {
   "cell_type": "markdown",
   "metadata": {},
   "source": [
    "Рассмотрим концентрацию металла на гистограммах для каждого этапа очистки."
   ]
  },
  {
   "cell_type": "code",
   "execution_count": 32,
   "metadata": {},
   "outputs": [
    {
     "data": {
      "image/png": "[encoded data removed]",
      "text/plain": [
       "<Figure size 1008x504 with 1 Axes>"
      ]
     },
     "metadata": {
      "needs_background": "light"
     },
     "output_type": "display_data"
    }
   ],
   "source": [
    "bins = np.linspace(0, 20, 60)\n",
    "\n",
    "pyplot.figure(figsize=(14, 7))\n",
    "pyplot.hist(df_full['rougher.input.feed_ag'], bins, alpha=0.5, label='Ag, сырье', density=True)\n",
    "pyplot.hist(df_full['rougher.output.concentrate_ag'], bins, alpha=0.5, label='Ag, флотация', density=True)\n",
    "pyplot.hist(df_full['primary_cleaner.output.concentrate_ag'], bins, alpha=0.5, label='Ag, первичная очистка', density=True)\n",
    "pyplot.hist(df_full['final.output.concentrate_ag'], bins, alpha=0.5, label='Ag, конечный продукт', density=True)\n",
    "pyplot.legend(loc='upper right')\n",
    "pyplot.title('Концентрация серебра на разных этапах технологического процесса')\n",
    "pyplot.show()"
   ]
  },
  {
   "cell_type": "markdown",
   "metadata": {},
   "source": [
    "**Вывод.** В процессе обогащения концентрация серебра уменьшается, в общей сложности на 70% (от сырья к конечному продукту). После флотации концентрация серебра возрастает примерно в 1,5 раза, а после первичной очистки сокращается примерно до уровня показателей сырья. Далее после вторичной очистки (в конечном продукте) показатель снижается на 64%. Обратим внимание на часто встречающиеся, нехарактерные значения равные нулю или близкие к нулю на всех этапах. Используем этот факт при дальнейшей обработке данных."
   ]
  },
  {
   "cell_type": "markdown",
   "metadata": {},
   "source": [
    "### Концентрация свинца"
   ]
  },
  {
   "cell_type": "code",
   "execution_count": 33,
   "metadata": {},
   "outputs": [
    {
     "name": "stdout",
     "output_type": "stream",
     "text": [
      "Среднее содержание Pb в сырье: 3.585095711585748\n",
      "Среднее содержание Pb на этапе флотации: 7.606272313195003\n"
     ]
    },
    {
     "data": {
      "text/plain": [
       "0.000000     394\n",
       "13.077148     11\n",
       "8.452148       8\n",
       "10.452148      7\n",
       "9.764648       6\n",
       "            ... \n",
       "7.095515       1\n",
       "7.504966       1\n",
       "6.577116       1\n",
       "6.756150       1\n",
       "8.700049       1\n",
       "Name: rougher.output.concentrate_pb, Length: 18956, dtype: int64"
      ]
     },
     "execution_count": 33,
     "metadata": {},
     "output_type": "execute_result"
    }
   ],
   "source": [
    "print('Среднее содержание Pb в сырье:', df_full['rougher.input.feed_pb'].mean())\n",
    "print('Среднее содержание Pb на этапе флотации:', \n",
    "      df_full['rougher.output.concentrate_pb'].mean())\n",
    "df_full['rougher.output.concentrate_pb'].value_counts()"
   ]
  },
  {
   "cell_type": "code",
   "execution_count": 34,
   "metadata": {},
   "outputs": [
    {
     "name": "stdout",
     "output_type": "stream",
     "text": [
      "Среднее содержание Pb после этапа первичной очистки: 9.810316539310149\n"
     ]
    },
    {
     "data": {
      "text/plain": [
       "0.010000     118\n",
       "0.000000     114\n",
       "5.055124       7\n",
       "10.952148      6\n",
       "5.587420       6\n",
       "            ... \n",
       "8.730603       1\n",
       "12.906584      1\n",
       "7.282277       1\n",
       "10.741632      1\n",
       "9.759185       1\n",
       "Name: primary_cleaner.output.concentrate_pb, Length: 19055, dtype: int64"
      ]
     },
     "execution_count": 34,
     "metadata": {},
     "output_type": "execute_result"
    }
   ],
   "source": [
    "print('Среднее содержание Pb после этапа первичной очистки:', \n",
    "      df_full['primary_cleaner.output.concentrate_pb'].mean())\n",
    "df_full['primary_cleaner.output.concentrate_pb'].value_counts()"
   ]
  },
  {
   "cell_type": "code",
   "execution_count": 35,
   "metadata": {},
   "outputs": [
    {
     "name": "stdout",
     "output_type": "stream",
     "text": [
      "Среднее содержание Pb в конечном продукте: 9.978821384192907\n"
     ]
    },
    {
     "data": {
      "text/plain": [
       "0.000000     98\n",
       "14.764648    11\n",
       "11.452148     8\n",
       "12.202148     7\n",
       "12.577148     6\n",
       "             ..\n",
       "10.363694     1\n",
       "9.172506      1\n",
       "10.754769     1\n",
       "11.650345     1\n",
       "9.521703      1\n",
       "Name: final.output.concentrate_pb, Length: 19276, dtype: int64"
      ]
     },
     "execution_count": 35,
     "metadata": {},
     "output_type": "execute_result"
    }
   ],
   "source": [
    "print('Среднее содержание Pb в конечном продукте:', \n",
    "      df_full['final.output.concentrate_pb'].mean())\n",
    "df_full['final.output.concentrate_pb'].value_counts()"
   ]
  },
  {
   "cell_type": "markdown",
   "metadata": {},
   "source": [
    "Рассмотрим концентрацию металла на гистограммах для каждого этапа очистки."
   ]
  },
  {
   "cell_type": "code",
   "execution_count": 36,
   "metadata": {},
   "outputs": [
    {
     "data": {
      "image/png": "[encoded data removed]",
      "text/plain": [
       "<Figure size 1008x504 with 1 Axes>"
      ]
     },
     "metadata": {
      "needs_background": "light"
     },
     "output_type": "display_data"
    }
   ],
   "source": [
    "bins = np.linspace(0, 20, 60)\n",
    "\n",
    "\n",
    "pyplot.figure(figsize=(14, 7))\n",
    "pyplot.hist(df_full['rougher.input.feed_pb'], bins, alpha=0.5, label='Pb, сырье', density=True)\n",
    "pyplot.hist(df_full['rougher.output.concentrate_pb'], bins, alpha=0.5, label='Pb, флотация', density=True)\n",
    "pyplot.hist(df_full['primary_cleaner.output.concentrate_pb'], bins, alpha=0.5, label='Pb, первичная очистка', density=True)\n",
    "pyplot.hist(df_full['final.output.concentrate_pb'], bins, alpha=0.5, label='Pb, конечный продукт', density=True)\n",
    "pyplot.legend(loc='upper right')\n",
    "pyplot.title('Концентрация свинца на разных этапах технологического процесса')\n",
    "pyplot.show()"
   ]
  },
  {
   "cell_type": "markdown",
   "metadata": {},
   "source": [
    "**Вывод.** В процессе обогащения концентрация свинца увеличивается, в общей сложности более, чем в 2,7 раза (от сырья к конечному продукту). Основное увеличение концентрации происходит после флотации и первичной очистки, а после вторичной очистки концентрация меняется мало (среднее значение увеличивается всего на 1,7%). Обратим внимание на часто встречающиеся, нехарактерные значения равные нулю или близкие к нулю на всех этапах. Используем этот факт при дальнейшей обработке данных."
   ]
  },
  {
   "cell_type": "markdown",
   "metadata": {},
   "source": [
    "### Сравнение размеров гранул сырья"
   ]
  },
  {
   "cell_type": "markdown",
   "metadata": {},
   "source": [
    "Сравним распределения размеров гранул сырья на обучающей и тестовой выборках. Если распределения сильно отличаются друг от друга, оценка модели будет неправильной. Для анализа построим гистограммы распределения и вычислим средние значения:"
   ]
  },
  {
   "cell_type": "code",
   "execution_count": 37,
   "metadata": {},
   "outputs": [
    {
     "data": {
      "image/png": "[encoded data removed]",
      "text/plain": [
       "<Figure size 864x432 with 1 Axes>"
      ]
     },
     "metadata": {
      "needs_background": "light"
     },
     "output_type": "display_data"
    }
   ],
   "source": [
    "bins = np.linspace(0, 150, 60)\n",
    "\n",
    "pyplot.figure(figsize=(12, 6))\n",
    "pyplot.hist(df_test['rougher.input.feed_size'], bins, alpha=0.7, label='df_test, флотация', density=True)\n",
    "pyplot.hist(df_train['rougher.input.feed_size'], bins, alpha=0.5, label='df_train, флотация', density=True)\n",
    "pyplot.legend(loc='upper right')\n",
    "pyplot.title('Сравнение размеров гранул сырья на этапе флотации в обучающей и тестовой выборках')\n",
    "pyplot.show()"
   ]
  },
  {
   "cell_type": "code",
   "execution_count": 38,
   "metadata": {},
   "outputs": [
    {
     "name": "stdout",
     "output_type": "stream",
     "text": [
      "Соотношение среднего размера гранул сырья на этапе флотации: 1.0766200348502637\n"
     ]
    }
   ],
   "source": [
    "print('Соотношение среднего размера гранул сырья на этапе флотации:', \n",
    "      df_train['rougher.input.feed_size'].mean() / df_test['rougher.input.feed_size'].mean())"
   ]
  },
  {
   "cell_type": "markdown",
   "metadata": {},
   "source": [
    "**Вывод.** Распределения друг от друга отличаются мало, средние значения - отличаются незначительно (на 7,66%) - модель будет работать корректно."
   ]
  },
  {
   "cell_type": "code",
   "execution_count": 39,
   "metadata": {},
   "outputs": [
    {
     "data": {
      "image/png": "[encoded data removed]",
      "text/plain": [
       "<Figure size 864x432 with 1 Axes>"
      ]
     },
     "metadata": {
      "needs_background": "light"
     },
     "output_type": "display_data"
    }
   ],
   "source": [
    "bins = np.linspace(4, 10, 40)\n",
    "\n",
    "pyplot.figure(figsize=(12, 6))\n",
    "pyplot.hist(df_test['primary_cleaner.input.feed_size'], bins, alpha=0.7, density=True,\n",
    "            label='df_test, первичная очистка')\n",
    "pyplot.hist(df_train['primary_cleaner.input.feed_size'], bins, alpha=0.5, density=True,\n",
    "            label='df_train, первичная очистка')\n",
    "pyplot.legend(loc='upper left')\n",
    "pyplot.title('Сравнение размеров гранул сырья на этапе первичной оценки в обучающей и тестовой выборках')\n",
    "pyplot.show()"
   ]
  },
  {
   "cell_type": "code",
   "execution_count": 40,
   "metadata": {},
   "outputs": [
    {
     "name": "stdout",
     "output_type": "stream",
     "text": [
      "Соотношение среднего размера гранул сырья на этапе первичной очистки: 1.007702739186418\n"
     ]
    }
   ],
   "source": [
    "print('Соотношение среднего размера гранул сырья на этапе первичной очистки:', \n",
    "      df_train['primary_cleaner.input.feed_size'].mean() / df_test['primary_cleaner.input.feed_size'].mean())"
   ]
  },
  {
   "cell_type": "markdown",
   "metadata": {},
   "source": [
    "**Вывод.** Распределения друг от друга отличаются мало, средние значения - почти не отличаются (на 0,77%) - модель будет работать корректно."
   ]
  },
  {
   "cell_type": "markdown",
   "metadata": {},
   "source": [
    "### Анализ суммарной концентрации веществ"
   ]
  },
  {
   "cell_type": "markdown",
   "metadata": {},
   "source": [
    "Исследуем суммарную концентрацию всех веществ на разных стадиях: в сырье (rougher.input.feed), после флотации (rougher.output), после первичной очистки (primary_cleaner.output) и в финальном концентрате (final.output). \n",
    "\n",
    "Обратим внимание на строки (выявленные ранее) со значениями равными нулю и близкими к нулю. Предположительно, подобные аномальные данные образовались в результате сбоя измерительной аппаратуры. Такие строки, записанные во время сбоев аппаратуры, лучше полностью удалить - в них может содержаться недостоверная информация во всех столбцах.\n",
    "\n",
    "Оставим в датафрейме df_full_not0 только те строки полного датафрейма, где суммарная концентрация веществ на каждом этапе значительно отличается от нуля. Четыре раза последовательно применим фильтр на каждом этапе:"
   ]
  },
  {
   "cell_type": "code",
   "execution_count": 41,
   "metadata": {},
   "outputs": [],
   "source": [
    "df_full_not0 = df_full.loc[((df_full['rougher.input.feed_au'] + \n",
    "                         df_full['rougher.input.feed_ag'] + \n",
    "                         df_full['rougher.input.feed_pb'] + \n",
    "                         df_full['rougher.input.feed_sol'])>0.1)]"
   ]
  },
  {
   "cell_type": "code",
   "execution_count": 42,
   "metadata": {},
   "outputs": [],
   "source": [
    "df_full_not0 = df_full_not0.loc[((df_full['rougher.output.concentrate_au'] + \n",
    "                         df_full['rougher.output.concentrate_ag'] + \n",
    "                         df_full['rougher.output.concentrate_pb'] + \n",
    "                         df_full['rougher.output.concentrate_sol'])>0.1)]"
   ]
  },
  {
   "cell_type": "code",
   "execution_count": 43,
   "metadata": {},
   "outputs": [],
   "source": [
    "df_full_not0 = df_full_not0.loc[((df_full['primary_cleaner.output.concentrate_au'] + \n",
    "                         df_full['primary_cleaner.output.concentrate_ag'] + \n",
    "                         df_full['primary_cleaner.output.concentrate_pb'] + \n",
    "                         df_full['primary_cleaner.output.concentrate_sol'])>0.1)]"
   ]
  },
  {
   "cell_type": "code",
   "execution_count": 44,
   "metadata": {},
   "outputs": [],
   "source": [
    "df_full_not0 = df_full_not0.loc[((df_full['final.output.concentrate_au'] + \n",
    "                         df_full['final.output.concentrate_ag'] + \n",
    "                         df_full['final.output.concentrate_pb'] + \n",
    "                         df_full['final.output.concentrate_sol'])>0.1)]"
   ]
  },
  {
   "cell_type": "code",
   "execution_count": 45,
   "metadata": {},
   "outputs": [
    {
     "data": {
      "text/plain": [
       "(18725, 87)"
      ]
     },
     "execution_count": 45,
     "metadata": {},
     "output_type": "execute_result"
    }
   ],
   "source": [
    "df_full_not0.shape # проверка: всего удалили 714 строк"
   ]
  },
  {
   "cell_type": "code",
   "execution_count": 50,
   "metadata": {},
   "outputs": [],
   "source": [
    "df_full['sum']=df_full['rougher.input.feed_au'] + df_full['rougher.input.feed_ag'] + df_full['rougher.input.feed_pb'] + df_full['rougher.input.feed_sol']"
   ]
  },
  {
   "cell_type": "code",
   "execution_count": 61,
   "metadata": {},
   "outputs": [
    {
     "data": {
      "image/png": "[encoded data removed]",
      "text/plain": [
       "<Figure size 864x432 with 1 Axes>"
      ]
     },
     "metadata": {
      "needs_background": "light"
     },
     "output_type": "display_data"
    }
   ],
   "source": [
    "bins = np.linspace(0, 100, 60)\n",
    "\n",
    "pyplot.figure(figsize=(12, 6))\n",
    "pyplot.hist(df_full['sum'], bins, alpha=0.7, label='rougher.input.feed')\n",
    "#pyplot.hist(df_train['primary_cleaner.input.feed_size'], bins, alpha=0.5, density=True,\n",
    "#            label='df_train, первичная очистка')\n",
    "pyplot.legend(loc='upper left')\n",
    "pyplot.title('Анализ суммарной концентрации веществ до удаления аномалий')\n",
    "pyplot.show()"
   ]
  },
  {
   "cell_type": "code",
   "execution_count": 63,
   "metadata": {},
   "outputs": [],
   "source": [
    "df_full_not0['sum'] = df_full_not0['rougher.input.feed_au'] +\\\n",
    "                         df_full_not0['rougher.input.feed_ag'] +\\\n",
    "                         df_full_not0['rougher.input.feed_pb'] +\\\n",
    "                         df_full_not0['rougher.input.feed_sol']"
   ]
  },
  {
   "cell_type": "code",
   "execution_count": 68,
   "metadata": {},
   "outputs": [
    {
     "data": {
      "image/png": "[encoded data removed]",
      "text/plain": [
       "<Figure size 864x432 with 1 Axes>"
      ]
     },
     "metadata": {
      "needs_background": "light"
     },
     "output_type": "display_data"
    }
   ],
   "source": [
    "bins = np.linspace(0, 90, 60)\n",
    "\n",
    "pyplot.figure(figsize=(12, 6))\n",
    "pyplot.hist(df_full_not0['sum'], bins, alpha=0.7, label='rougher.input.feed')\n",
    "#pyplot.hist(df_train['primary_cleaner.input.feed_size'], bins, alpha=0.5, density=True,\n",
    "#            label='df_train, первичная очистка')\n",
    "pyplot.legend(loc='upper left')\n",
    "pyplot.title('Анализ суммарной концентрации веществ после удаления аномалий')\n",
    "pyplot.show()"
   ]
  },
  {
   "cell_type": "markdown",
   "metadata": {},
   "source": [
    "Создадим для дальнейшего использования и обучения моделей тестовый датафрейм data_test. Оставим в нём только те строки df_test, которые не содержат нулевых данных о суммарной концентрации, т.е. даты записи данных есть в столбце дат датафрейма df_full_not0. Сбросим индексы нового датафрейма: "
   ]
  },
  {
   "cell_type": "code",
   "execution_count": 46,
   "metadata": {},
   "outputs": [],
   "source": [
    "data_test = df_test.loc[df_test['date'].isin(df_full_not0['date'])].reset_index(drop=True)"
   ]
  },
  {
   "cell_type": "code",
   "execution_count": 47,
   "metadata": {},
   "outputs": [
    {
     "data": {
      "text/plain": [
       "(5123, 55)"
      ]
     },
     "execution_count": 47,
     "metadata": {},
     "output_type": "execute_result"
    }
   ],
   "source": [
    "data_test.shape # проверка: удалили 167 строк"
   ]
  },
  {
   "cell_type": "markdown",
   "metadata": {},
   "source": [
    "Аналогично преобразуем data_train: оставим в нём только те строки, которые не содержат нулевых данных о суммарной концентрации, т.е. даты записи данных есть в столбце дат датафрейма df_full_not0."
   ]
  },
  {
   "cell_type": "code",
   "execution_count": 48,
   "metadata": {},
   "outputs": [],
   "source": [
    "data_train = data_train.loc[data_train['date'].isin(df_full_not0['date'])]"
   ]
  },
  {
   "cell_type": "code",
   "execution_count": 49,
   "metadata": {},
   "outputs": [
    {
     "data": {
      "text/plain": [
       "(13602, 55)"
      ]
     },
     "execution_count": 49,
     "metadata": {},
     "output_type": "execute_result"
    }
   ],
   "source": [
    "data_train.shape # проверка: удалили 547 строк"
   ]
  },
  {
   "cell_type": "markdown",
   "metadata": {},
   "source": [
    "**Вывод по разделу №2.** Обучающая и тестовая выборки полностью готовы к созданию и обучению моделей."
   ]
  },
  {
   "cell_type": "markdown",
   "metadata": {},
   "source": [
    "## Создание моделей"
   ]
  },
  {
   "cell_type": "markdown",
   "metadata": {},
   "source": [
    "В целях выполнения проекта проведем эксперименты с тремя моделями:\n",
    "- модель линейной регрессии,\n",
    "- модель случайного леса и \n",
    "- модель CatBoostRegressor."
   ]
  },
  {
   "cell_type": "markdown",
   "metadata": {},
   "source": [
    "### Подготовка признаков"
   ]
  },
  {
   "cell_type": "markdown",
   "metadata": {},
   "source": [
    "Подготовим последовательно для обучающей и тестовой выборки обучающие признаки (features_train и features_test) и целевые признаки, по 2 для каждого этапа очистки: \n",
    "- target_train_rougher и target_test_rougher - для этапа флотации; \n",
    "- target_train_final и target_test_final - для окончательной очистки."
   ]
  },
  {
   "cell_type": "code",
   "execution_count": 50,
   "metadata": {},
   "outputs": [],
   "source": [
    "features_train = data_train.drop(['date','rougher.output.recovery', 'final.output.recovery'], axis=1)\n",
    "target_train_rougher = data_train['rougher.output.recovery']\n",
    "target_train_final = data_train['final.output.recovery']"
   ]
  },
  {
   "cell_type": "code",
   "execution_count": 51,
   "metadata": {},
   "outputs": [],
   "source": [
    "features_test = data_test.drop(['date','rougher.output.recovery', 'final.output.recovery'], axis=1)\n",
    "target_test_rougher = data_test['rougher.output.recovery']\n",
    "target_test_final = data_test['final.output.recovery']"
   ]
  },
  {
   "cell_type": "markdown",
   "metadata": {},
   "source": [
    "Отмасштабируем признаки с помощью StandardScaler():"
   ]
  },
  {
   "cell_type": "code",
   "execution_count": 52,
   "metadata": {},
   "outputs": [],
   "source": [
    "scaler = StandardScaler()\n",
    "\n",
    "scaler.fit(features_train)\n",
    "features_train = scaler.transform(features_train)\n",
    "features_test = scaler.transform(features_test)"
   ]
  },
  {
   "cell_type": "markdown",
   "metadata": {},
   "source": [
    "### Функции для расчетов"
   ]
  },
  {
   "cell_type": "markdown",
   "metadata": {},
   "source": [
    "Метриками качества для наших моделей будут служить метрики sMAPE для этапов флотации (smape_rougher) и конечной очистки (smape_final), а также итоговое sMAPE, рассчитываемое по формуле:\n",
    "\n",
    "Итоговое sMAPE = 25% х smape_rougher + 75% х smape_final\n",
    "\n",
    "Именно по значению итогового sMAPE (total_smape) мы будем оценивать качество моделей."
   ]
  },
  {
   "cell_type": "markdown",
   "metadata": {},
   "source": [
    "Создадим две функции для расчета метрик:\n",
    "- функцию sMAPE - для расчета smape_rougher и smape_final,\n",
    "- функцию total_sMAPE - для расчета total_smape\n",
    "    "
   ]
  },
  {
   "cell_type": "code",
   "execution_count": 53,
   "metadata": {},
   "outputs": [],
   "source": [
    "def sMAPE(target, predictions):\n",
    "    n = len(target)\n",
    "    res = 100/n * np.sum(np.abs(target - predictions)/((np.abs(target) + np.abs(predictions))/2))\n",
    "    return res\n",
    " \n",
    "def total_sMAPE(smape_rougher, smape_final):\n",
    "    return 0.25*smape_rougher + 0.75*smape_final"
   ]
  },
  {
   "cell_type": "markdown",
   "metadata": {},
   "source": [
    "Создадим \"скорер\" - метод расчета метрики качества, который будет использоваться в процессе кросс-валидации вместо скорера по умолчанию:"
   ]
  },
  {
   "cell_type": "code",
   "execution_count": 54,
   "metadata": {},
   "outputs": [],
   "source": [
    "scorer =  make_scorer(sMAPE)"
   ]
  },
  {
   "cell_type": "markdown",
   "metadata": {},
   "source": [
    "### Модель линейной регрессии"
   ]
  },
  {
   "cell_type": "code",
   "execution_count": 55,
   "metadata": {
    "scrolled": false
   },
   "outputs": [],
   "source": [
    "model_lr = LinearRegression() # инициализируем модель LinearRegression"
   ]
  },
  {
   "cell_type": "markdown",
   "metadata": {},
   "source": [
    "Дважды запустим процесс кросс-валидации (КВ), передав в него нашу модель и скорер и указав количество частей для разбиения признаков cv=5. В первом случае передадим в процесс КВ целевой признак флотации target_train_rougher, во втором случае - целевой признак конечной очистки target_train_final."
   ]
  },
  {
   "cell_type": "code",
   "execution_count": 56,
   "metadata": {},
   "outputs": [],
   "source": [
    "scores_train_rougher_lr = cross_val_score(model_lr, features_train, target_train_rougher, cv = 5, scoring=scorer)"
   ]
  },
  {
   "cell_type": "markdown",
   "metadata": {},
   "source": [
    "Итогом работы процесса КВ будет набор из пяти оценок, найдя среднюю из них, мы получим метрику sMAPE для каждого из двух этапов очистки:"
   ]
  },
  {
   "cell_type": "code",
   "execution_count": 57,
   "metadata": {},
   "outputs": [],
   "source": [
    "smape_rougher_lr = scores_train_rougher_lr.mean() # sMAPE для этапа флотации"
   ]
  },
  {
   "cell_type": "code",
   "execution_count": 58,
   "metadata": {},
   "outputs": [],
   "source": [
    "scores_train_final_lr = cross_val_score(model_lr, features_train, target_train_final, cv = 5, scoring=scorer)"
   ]
  },
  {
   "cell_type": "code",
   "execution_count": 59,
   "metadata": {},
   "outputs": [],
   "source": [
    "smape_final_lr = scores_train_final_lr.mean() # sMAPE для этапа конечной очистки"
   ]
  },
  {
   "cell_type": "markdown",
   "metadata": {},
   "source": [
    "Вызовем функцию total_sMAPE для расчета итогового sMAPE для модели:"
   ]
  },
  {
   "cell_type": "code",
   "execution_count": 60,
   "metadata": {},
   "outputs": [],
   "source": [
    "total_smape_lr = total_sMAPE(smape_rougher_lr, smape_final_lr)"
   ]
  },
  {
   "cell_type": "code",
   "execution_count": 61,
   "metadata": {},
   "outputs": [
    {
     "name": "stdout",
     "output_type": "stream",
     "text": [
      "Значение метрики total_sMAPE для модели линейной регрессии: 10.079140755126794\n"
     ]
    }
   ],
   "source": [
    "print('Значение метрики total_sMAPE для модели линейной регрессии:', total_smape_lr)"
   ]
  },
  {
   "cell_type": "markdown",
   "metadata": {},
   "source": [
    "**Вывод.** Невысокое качество модели линейной регрессии с метрикой более 10% требует объективной проверки. Для этого подойдёт константная модель."
   ]
  },
  {
   "cell_type": "markdown",
   "metadata": {},
   "source": [
    "### Константная модель"
   ]
  },
  {
   "cell_type": "markdown",
   "metadata": {},
   "source": [
    "Создадим константную модель DummyRegressor(), по умолчанию в ней strategy='mean', т.е. всегда предсказывается среднее значение. Проведём эксперимент с константной моделью по указанной выше процедуре и получим значение метрики total_smape:"
   ]
  },
  {
   "cell_type": "code",
   "execution_count": 62,
   "metadata": {},
   "outputs": [],
   "source": [
    "model_dr = DummyRegressor()"
   ]
  },
  {
   "cell_type": "code",
   "execution_count": 63,
   "metadata": {},
   "outputs": [
    {
     "data": {
      "text/plain": [
       "DummyRegressor(constant=None, quantile=None, strategy='mean')"
      ]
     },
     "execution_count": 63,
     "metadata": {},
     "output_type": "execute_result"
    }
   ],
   "source": [
    "model_dr"
   ]
  },
  {
   "cell_type": "code",
   "execution_count": 64,
   "metadata": {},
   "outputs": [],
   "source": [
    "scores_train_rougher_dr = cross_val_score(model_dr, features_train, target_train_rougher, cv = 5, scoring=scorer)"
   ]
  },
  {
   "cell_type": "code",
   "execution_count": 65,
   "metadata": {},
   "outputs": [],
   "source": [
    "scores_train_final_dr = cross_val_score(model_dr, features_train, target_train_final, cv = 5, scoring=scorer)"
   ]
  },
  {
   "cell_type": "code",
   "execution_count": 66,
   "metadata": {},
   "outputs": [],
   "source": [
    "smape_rougher_dr = scores_train_rougher_dr.mean() # sMAPE для этапа флотации"
   ]
  },
  {
   "cell_type": "code",
   "execution_count": 67,
   "metadata": {},
   "outputs": [],
   "source": [
    "smape_final_dr = scores_train_final_dr.mean() # sMAPE для этапа конечной очистки"
   ]
  },
  {
   "cell_type": "code",
   "execution_count": 68,
   "metadata": {},
   "outputs": [],
   "source": [
    "total_smape_dr = total_sMAPE(smape_rougher_dr, smape_final_dr)"
   ]
  },
  {
   "cell_type": "code",
   "execution_count": 69,
   "metadata": {},
   "outputs": [
    {
     "name": "stdout",
     "output_type": "stream",
     "text": [
      "Значение метрики total_sMAPE для константной модели: 9.643945176879651\n"
     ]
    }
   ],
   "source": [
    "print('Значение метрики total_sMAPE для константной модели:', total_smape_dr)"
   ]
  },
  {
   "cell_type": "markdown",
   "metadata": {},
   "source": [
    "**Вывод.** Константная модель показала качество лучше, чем линейная регрессия с параметрами по умолчанию. Линейная регрессия для нашей задачи работает неудовлетворительно.\n",
    "Будем использовать значение метрики total_sMAPE для константной модели 9.64 при оценке других моделей."
   ]
  },
  {
   "cell_type": "markdown",
   "metadata": {},
   "source": [
    "### Модель случайного леса"
   ]
  },
  {
   "cell_type": "markdown",
   "metadata": {},
   "source": [
    "Создадим модель случайного леса RandomForestRegressor() с параметрами, найденными экспериментальным путём, при которых модель работает лучше, чем с параметрами по умолчанию:\n",
    "- n_estimators=50 - количество деревьев,\n",
    "- max_depth=5 - максимальная глубина дерева.\n",
    "\n",
    "Проведём эксперимент с данной моделью по указанной выше процедуре и получим значение метрики total_smape:"
   ]
  },
  {
   "cell_type": "code",
   "execution_count": 70,
   "metadata": {},
   "outputs": [],
   "source": [
    "model_rf = RandomForestRegressor(random_state=12345, n_estimators=50, max_depth=5)# инициализируем модель RandomForestRegressor"
   ]
  },
  {
   "cell_type": "code",
   "execution_count": 71,
   "metadata": {},
   "outputs": [],
   "source": [
    "scores_train_rougher_rf = cross_val_score(model_rf, features_train, target_train_rougher, cv = 5, scoring=scorer)"
   ]
  },
  {
   "cell_type": "code",
   "execution_count": 72,
   "metadata": {},
   "outputs": [],
   "source": [
    "smape_rougher_rf = scores_train_rougher_rf.mean() # sMAPE для этапа флотации"
   ]
  },
  {
   "cell_type": "code",
   "execution_count": 73,
   "metadata": {},
   "outputs": [],
   "source": [
    "scores_train_final_rf = cross_val_score(model_rf, features_train, target_train_final, cv = 5, scoring=scorer)"
   ]
  },
  {
   "cell_type": "code",
   "execution_count": 74,
   "metadata": {},
   "outputs": [],
   "source": [
    "smape_final_rf = scores_train_final_rf.mean() # sMAPE для этапа конечной очистки"
   ]
  },
  {
   "cell_type": "code",
   "execution_count": 75,
   "metadata": {},
   "outputs": [],
   "source": [
    "total_smape_rf = total_sMAPE(smape_rougher_rf, smape_final_rf)"
   ]
  },
  {
   "cell_type": "code",
   "execution_count": 76,
   "metadata": {},
   "outputs": [
    {
     "name": "stdout",
     "output_type": "stream",
     "text": [
      "Значение метрики total_sMAPE для модели случайного леса: 8.22880379181631\n"
     ]
    }
   ],
   "source": [
    "print('Значение метрики total_sMAPE для модели случайного леса:', total_smape_rf)"
   ]
  },
  {
   "cell_type": "markdown",
   "metadata": {},
   "source": [
    "**Вывод.** Модель случайного леса показала значение метрики на 17% лучше, чем константная модель."
   ]
  },
  {
   "cell_type": "markdown",
   "metadata": {},
   "source": [
    "### Модель CatBoostRegressor"
   ]
  },
  {
   "cell_type": "markdown",
   "metadata": {},
   "source": [
    "Создадим модель CatBoostRegressor() с параметрами, найденными экспериментальным путём, при которых модель работает лучше, чем с параметрами по умолчанию:\n",
    "- iterations=500 - количество итераций,\n",
    "- learning_rate=0.008 - скорость обучения,\n",
    "- depth=3 - глубина дерева.\n",
    "\n",
    "Проведём эксперимент с данной моделью по указанной выше процедуре и получим значение метрики total_smape:"
   ]
  },
  {
   "cell_type": "code",
   "execution_count": 77,
   "metadata": {},
   "outputs": [],
   "source": [
    "model_cb = CatBoostRegressor(iterations=500, learning_rate=0.008, depth=3) # инициализируем модель CatBoostRegressor"
   ]
  },
  {
   "cell_type": "code",
   "execution_count": 78,
   "metadata": {},
   "outputs": [
    {
     "name": "stdout",
     "output_type": "stream",
     "text": [
      "0:\tlearn: 7.2311002\ttotal: 56.1ms\tremaining: 28s\n",
      "1:\tlearn: 7.2071070\ttotal: 63.3ms\tremaining: 15.8s\n",
      "2:\tlearn: 7.1834852\ttotal: 124ms\tremaining: 20.5s\n",
      "3:\tlearn: 7.1598553\ttotal: 130ms\tremaining: 16.2s\n",
      "4:\tlearn: 7.1359775\ttotal: 221ms\tremaining: 21.8s\n",
      "5:\tlearn: 7.1130323\ttotal: 228ms\tremaining: 18.7s\n",
      "6:\tlearn: 7.0925494\ttotal: 233ms\tremaining: 16.4s\n",
      "7:\tlearn: 7.0712211\ttotal: 323ms\tremaining: 19.9s\n",
      "8:\tlearn: 7.0485427\ttotal: 331ms\tremaining: 18s\n",
      "9:\tlearn: 7.0282104\ttotal: 337ms\tremaining: 16.5s\n",
      "10:\tlearn: 7.0088222\ttotal: 426ms\tremaining: 18.9s\n",
      "11:\tlearn: 6.9866915\ttotal: 433ms\tremaining: 17.6s\n",
      "12:\tlearn: 6.9674943\ttotal: 514ms\tremaining: 19.3s\n",
      "13:\tlearn: 6.9460926\ttotal: 523ms\tremaining: 18.1s\n",
      "14:\tlearn: 6.9259101\ttotal: 529ms\tremaining: 17.1s\n",
      "15:\tlearn: 6.9050530\ttotal: 534ms\tremaining: 16.2s\n",
      "16:\tlearn: 6.8859650\ttotal: 616ms\tremaining: 17.5s\n",
      "17:\tlearn: 6.8677065\ttotal: 623ms\tremaining: 16.7s\n",
      "18:\tlearn: 6.8473898\ttotal: 631ms\tremaining: 16s\n",
      "19:\tlearn: 6.8294185\ttotal: 715ms\tremaining: 17.2s\n",
      "20:\tlearn: 6.8096337\ttotal: 733ms\tremaining: 16.7s\n",
      "21:\tlearn: 6.7926765\ttotal: 743ms\tremaining: 16.2s\n",
      "22:\tlearn: 6.7741175\ttotal: 817ms\tremaining: 16.9s\n",
      "23:\tlearn: 6.7566854\ttotal: 829ms\tremaining: 16.4s\n",
      "24:\tlearn: 6.7378243\ttotal: 837ms\tremaining: 15.9s\n",
      "25:\tlearn: 6.7198558\ttotal: 911ms\tremaining: 16.6s\n",
      "26:\tlearn: 6.7014739\ttotal: 918ms\tremaining: 16.1s\n",
      "27:\tlearn: 6.6854103\ttotal: 1.01s\tremaining: 17s\n",
      "28:\tlearn: 6.6675805\ttotal: 1.03s\tremaining: 16.7s\n",
      "29:\tlearn: 6.6494480\ttotal: 1.03s\tremaining: 16.2s\n",
      "30:\tlearn: 6.6316274\ttotal: 1.11s\tremaining: 16.8s\n",
      "31:\tlearn: 6.6151207\ttotal: 1.12s\tremaining: 16.4s\n",
      "32:\tlearn: 6.5971604\ttotal: 1.12s\tremaining: 15.9s\n",
      "33:\tlearn: 6.5817755\ttotal: 1.13s\tremaining: 15.5s\n",
      "34:\tlearn: 6.5647605\ttotal: 1.14s\tremaining: 15.1s\n",
      "35:\tlearn: 6.5483098\ttotal: 1.23s\tremaining: 15.8s\n",
      "36:\tlearn: 6.5315768\ttotal: 1.23s\tremaining: 15.4s\n",
      "37:\tlearn: 6.5160082\ttotal: 1.25s\tremaining: 15.2s\n",
      "38:\tlearn: 6.5008966\ttotal: 1.33s\tremaining: 15.7s\n",
      "39:\tlearn: 6.4859130\ttotal: 1.33s\tremaining: 15.3s\n",
      "40:\tlearn: 6.4691051\ttotal: 1.34s\tremaining: 15s\n",
      "41:\tlearn: 6.4545356\ttotal: 1.43s\tremaining: 15.6s\n",
      "42:\tlearn: 6.4389508\ttotal: 1.43s\tremaining: 15.2s\n",
      "43:\tlearn: 6.4232483\ttotal: 1.52s\tremaining: 15.8s\n",
      "44:\tlearn: 6.4087577\ttotal: 1.53s\tremaining: 15.5s\n",
      "45:\tlearn: 6.3932512\ttotal: 1.54s\tremaining: 15.2s\n",
      "46:\tlearn: 6.3785946\ttotal: 1.62s\tremaining: 15.6s\n",
      "47:\tlearn: 6.3630969\ttotal: 1.63s\tremaining: 15.4s\n",
      "48:\tlearn: 6.3481049\ttotal: 1.64s\tremaining: 15.1s\n",
      "49:\tlearn: 6.3347350\ttotal: 1.72s\tremaining: 15.5s\n",
      "50:\tlearn: 6.3211410\ttotal: 1.73s\tremaining: 15.2s\n",
      "51:\tlearn: 6.3076453\ttotal: 1.82s\tremaining: 15.7s\n",
      "52:\tlearn: 6.2936550\ttotal: 1.82s\tremaining: 15.4s\n",
      "53:\tlearn: 6.2795083\ttotal: 1.91s\tremaining: 15.8s\n",
      "54:\tlearn: 6.2649975\ttotal: 1.92s\tremaining: 15.5s\n",
      "55:\tlearn: 6.2505501\ttotal: 1.93s\tremaining: 15.3s\n",
      "56:\tlearn: 6.2376484\ttotal: 2.01s\tremaining: 15.7s\n",
      "57:\tlearn: 6.2248011\ttotal: 2.02s\tremaining: 15.4s\n",
      "58:\tlearn: 6.2121210\ttotal: 2.03s\tremaining: 15.2s\n",
      "59:\tlearn: 6.1980900\ttotal: 2.12s\tremaining: 15.5s\n",
      "60:\tlearn: 6.1845641\ttotal: 2.12s\tremaining: 15.3s\n",
      "61:\tlearn: 6.1716619\ttotal: 2.13s\tremaining: 15s\n",
      "62:\tlearn: 6.1594981\ttotal: 2.21s\tremaining: 15.4s\n",
      "63:\tlearn: 6.1475912\ttotal: 2.22s\tremaining: 15.1s\n",
      "64:\tlearn: 6.1343420\ttotal: 2.31s\tremaining: 15.5s\n",
      "65:\tlearn: 6.1215566\ttotal: 2.32s\tremaining: 15.2s\n",
      "66:\tlearn: 6.1100656\ttotal: 2.32s\tremaining: 15s\n",
      "67:\tlearn: 6.0971079\ttotal: 2.41s\tremaining: 15.3s\n",
      "68:\tlearn: 6.0846307\ttotal: 2.42s\tremaining: 15.1s\n",
      "69:\tlearn: 6.0721581\ttotal: 2.5s\tremaining: 15.4s\n",
      "70:\tlearn: 6.0612420\ttotal: 2.51s\tremaining: 15.2s\n",
      "71:\tlearn: 6.0495483\ttotal: 2.6s\tremaining: 15.5s\n",
      "72:\tlearn: 6.0380921\ttotal: 2.61s\tremaining: 15.3s\n",
      "73:\tlearn: 6.0271196\ttotal: 2.62s\tremaining: 15.1s\n",
      "74:\tlearn: 6.0153729\ttotal: 2.71s\tremaining: 15.4s\n",
      "75:\tlearn: 6.0035665\ttotal: 2.72s\tremaining: 15.2s\n",
      "76:\tlearn: 5.9927850\ttotal: 2.8s\tremaining: 15.4s\n",
      "77:\tlearn: 5.9810844\ttotal: 2.81s\tremaining: 15.2s\n",
      "78:\tlearn: 5.9705413\ttotal: 2.82s\tremaining: 15s\n",
      "79:\tlearn: 5.9610749\ttotal: 2.9s\tremaining: 15.3s\n",
      "80:\tlearn: 5.9508312\ttotal: 2.91s\tremaining: 15.1s\n",
      "81:\tlearn: 5.9402141\ttotal: 3s\tremaining: 15.3s\n",
      "82:\tlearn: 5.9294658\ttotal: 3.01s\tremaining: 15.1s\n",
      "83:\tlearn: 5.9186099\ttotal: 3.02s\tremaining: 14.9s\n",
      "84:\tlearn: 5.9094791\ttotal: 3.1s\tremaining: 15.2s\n",
      "85:\tlearn: 5.8988314\ttotal: 3.11s\tremaining: 15s\n",
      "86:\tlearn: 5.8896620\ttotal: 3.2s\tremaining: 15.2s\n",
      "87:\tlearn: 5.8791952\ttotal: 3.21s\tremaining: 15s\n",
      "88:\tlearn: 5.8693598\ttotal: 3.21s\tremaining: 14.8s\n",
      "89:\tlearn: 5.8595457\ttotal: 3.3s\tremaining: 15s\n",
      "90:\tlearn: 5.8495299\ttotal: 3.31s\tremaining: 14.9s\n",
      "91:\tlearn: 5.8397832\ttotal: 3.4s\tremaining: 15.1s\n",
      "92:\tlearn: 5.8302692\ttotal: 3.4s\tremaining: 14.9s\n",
      "93:\tlearn: 5.8213101\ttotal: 3.41s\tremaining: 14.7s\n",
      "94:\tlearn: 5.8116538\ttotal: 3.5s\tremaining: 14.9s\n",
      "95:\tlearn: 5.8016334\ttotal: 3.51s\tremaining: 14.8s\n",
      "96:\tlearn: 5.7915828\ttotal: 3.6s\tremaining: 15s\n",
      "97:\tlearn: 5.7821048\ttotal: 3.61s\tremaining: 14.8s\n",
      "98:\tlearn: 5.7728304\ttotal: 3.62s\tremaining: 14.6s\n",
      "99:\tlearn: 5.7634446\ttotal: 3.7s\tremaining: 14.8s\n",
      "100:\tlearn: 5.7539859\ttotal: 3.7s\tremaining: 14.6s\n",
      "101:\tlearn: 5.7464153\ttotal: 3.79s\tremaining: 14.8s\n",
      "102:\tlearn: 5.7379911\ttotal: 3.8s\tremaining: 14.6s\n",
      "103:\tlearn: 5.7293940\ttotal: 3.8s\tremaining: 14.5s\n",
      "104:\tlearn: 5.7205195\ttotal: 3.9s\tremaining: 14.7s\n",
      "105:\tlearn: 5.7128625\ttotal: 3.9s\tremaining: 14.5s\n",
      "106:\tlearn: 5.7036057\ttotal: 3.99s\tremaining: 14.7s\n",
      "107:\tlearn: 5.6947381\ttotal: 4s\tremaining: 14.5s\n",
      "108:\tlearn: 5.6861500\ttotal: 4s\tremaining: 14.4s\n",
      "109:\tlearn: 5.6787112\ttotal: 4.09s\tremaining: 14.5s\n",
      "110:\tlearn: 5.6703776\ttotal: 4.1s\tremaining: 14.4s\n",
      "111:\tlearn: 5.6625120\ttotal: 4.19s\tremaining: 14.5s\n",
      "112:\tlearn: 5.6538056\ttotal: 4.19s\tremaining: 14.4s\n",
      "113:\tlearn: 5.6455030\ttotal: 4.2s\tremaining: 14.2s\n",
      "114:\tlearn: 5.6368058\ttotal: 4.29s\tremaining: 14.4s\n",
      "115:\tlearn: 5.6284482\ttotal: 4.29s\tremaining: 14.2s\n",
      "116:\tlearn: 5.6201914\ttotal: 4.38s\tremaining: 14.4s\n",
      "117:\tlearn: 5.6125948\ttotal: 4.39s\tremaining: 14.2s\n",
      "118:\tlearn: 5.6039952\ttotal: 4.4s\tremaining: 14.1s\n",
      "119:\tlearn: 5.5962952\ttotal: 4.49s\tremaining: 14.2s\n",
      "120:\tlearn: 5.5888459\ttotal: 4.49s\tremaining: 14.1s\n",
      "121:\tlearn: 5.5808982\ttotal: 4.5s\tremaining: 13.9s\n",
      "122:\tlearn: 5.5733722\ttotal: 4.59s\tremaining: 14.1s\n",
      "123:\tlearn: 5.5661966\ttotal: 4.59s\tremaining: 13.9s\n",
      "124:\tlearn: 5.5583402\ttotal: 4.68s\tremaining: 14s\n",
      "125:\tlearn: 5.5508238\ttotal: 4.69s\tremaining: 13.9s\n",
      "126:\tlearn: 5.5434790\ttotal: 4.69s\tremaining: 13.8s\n",
      "127:\tlearn: 5.5360542\ttotal: 4.78s\tremaining: 13.9s\n",
      "128:\tlearn: 5.5287188\ttotal: 4.79s\tremaining: 13.8s\n",
      "129:\tlearn: 5.5216100\ttotal: 4.8s\tremaining: 13.7s\n",
      "130:\tlearn: 5.5146110\ttotal: 4.88s\tremaining: 13.8s\n",
      "131:\tlearn: 5.5080084\ttotal: 4.89s\tremaining: 13.6s\n",
      "132:\tlearn: 5.5011268\ttotal: 4.89s\tremaining: 13.5s\n",
      "133:\tlearn: 5.4944053\ttotal: 4.98s\tremaining: 13.6s\n",
      "134:\tlearn: 5.4872873\ttotal: 4.99s\tremaining: 13.5s\n",
      "135:\tlearn: 5.4812046\ttotal: 5.08s\tremaining: 13.6s\n",
      "136:\tlearn: 5.4741462\ttotal: 5.08s\tremaining: 13.5s\n",
      "137:\tlearn: 5.4670693\ttotal: 5.09s\tremaining: 13.3s\n",
      "138:\tlearn: 5.4601448\ttotal: 5.18s\tremaining: 13.4s\n",
      "139:\tlearn: 5.4532754\ttotal: 5.18s\tremaining: 13.3s\n",
      "140:\tlearn: 5.4462726\ttotal: 5.19s\tremaining: 13.2s\n",
      "141:\tlearn: 5.4395977\ttotal: 5.28s\tremaining: 13.3s\n",
      "142:\tlearn: 5.4332022\ttotal: 5.28s\tremaining: 13.2s\n",
      "143:\tlearn: 5.4268164\ttotal: 5.29s\tremaining: 13.1s\n",
      "144:\tlearn: 5.4204331\ttotal: 5.38s\tremaining: 13.2s\n",
      "145:\tlearn: 5.4142236\ttotal: 5.38s\tremaining: 13.1s\n",
      "146:\tlearn: 5.4078968\ttotal: 5.39s\tremaining: 12.9s\n",
      "147:\tlearn: 5.4014672\ttotal: 5.48s\tremaining: 13s\n",
      "148:\tlearn: 5.3951332\ttotal: 5.48s\tremaining: 12.9s\n",
      "149:\tlearn: 5.3888129\ttotal: 5.57s\tremaining: 13s\n",
      "150:\tlearn: 5.3826644\ttotal: 5.58s\tremaining: 12.9s\n",
      "151:\tlearn: 5.3765115\ttotal: 5.58s\tremaining: 12.8s\n",
      "152:\tlearn: 5.3705632\ttotal: 5.67s\tremaining: 12.9s\n",
      "153:\tlearn: 5.3648497\ttotal: 5.68s\tremaining: 12.8s\n",
      "154:\tlearn: 5.3590781\ttotal: 5.68s\tremaining: 12.6s\n",
      "155:\tlearn: 5.3533089\ttotal: 5.77s\tremaining: 12.7s\n",
      "156:\tlearn: 5.3473298\ttotal: 5.78s\tremaining: 12.6s\n",
      "157:\tlearn: 5.3415798\ttotal: 5.78s\tremaining: 12.5s\n",
      "158:\tlearn: 5.3360584\ttotal: 5.87s\tremaining: 12.6s\n",
      "159:\tlearn: 5.3309136\ttotal: 5.88s\tremaining: 12.5s\n",
      "160:\tlearn: 5.3248741\ttotal: 5.96s\tremaining: 12.6s\n",
      "161:\tlearn: 5.3190250\ttotal: 5.97s\tremaining: 12.5s\n",
      "162:\tlearn: 5.3133639\ttotal: 5.98s\tremaining: 12.4s\n",
      "163:\tlearn: 5.3076960\ttotal: 6.07s\tremaining: 12.4s\n",
      "164:\tlearn: 5.3024315\ttotal: 6.07s\tremaining: 12.3s\n",
      "165:\tlearn: 5.2969028\ttotal: 6.08s\tremaining: 12.2s\n",
      "166:\tlearn: 5.2914721\ttotal: 6.2s\tremaining: 12.4s\n",
      "167:\tlearn: 5.2864390\ttotal: 6.21s\tremaining: 12.3s\n",
      "168:\tlearn: 5.2815110\ttotal: 6.26s\tremaining: 12.3s\n",
      "169:\tlearn: 5.2763637\ttotal: 6.27s\tremaining: 12.2s\n",
      "170:\tlearn: 5.2706824\ttotal: 6.36s\tremaining: 12.2s\n",
      "171:\tlearn: 5.2652865\ttotal: 6.37s\tremaining: 12.1s\n",
      "172:\tlearn: 5.2597806\ttotal: 6.37s\tremaining: 12s\n",
      "173:\tlearn: 5.2547304\ttotal: 6.46s\tremaining: 12.1s\n",
      "174:\tlearn: 5.2494552\ttotal: 6.46s\tremaining: 12s\n",
      "175:\tlearn: 5.2443608\ttotal: 6.47s\tremaining: 11.9s\n",
      "176:\tlearn: 5.2391697\ttotal: 6.48s\tremaining: 11.8s\n",
      "177:\tlearn: 5.2344368\ttotal: 6.48s\tremaining: 11.7s\n",
      "178:\tlearn: 5.2302568\ttotal: 6.49s\tremaining: 11.6s\n",
      "179:\tlearn: 5.2255364\ttotal: 6.58s\tremaining: 11.7s\n",
      "180:\tlearn: 5.2205619\ttotal: 6.58s\tremaining: 11.6s\n",
      "181:\tlearn: 5.2157120\ttotal: 6.59s\tremaining: 11.5s\n",
      "182:\tlearn: 5.2107137\ttotal: 6.68s\tremaining: 11.6s\n",
      "183:\tlearn: 5.2061320\ttotal: 6.68s\tremaining: 11.5s\n",
      "184:\tlearn: 5.2010331\ttotal: 6.77s\tremaining: 11.5s\n",
      "185:\tlearn: 5.1968157\ttotal: 6.78s\tremaining: 11.4s\n",
      "186:\tlearn: 5.1922709\ttotal: 6.79s\tremaining: 11.4s\n",
      "187:\tlearn: 5.1874064\ttotal: 6.87s\tremaining: 11.4s\n",
      "188:\tlearn: 5.1834079\ttotal: 6.88s\tremaining: 11.3s\n",
      "189:\tlearn: 5.1790199\ttotal: 6.89s\tremaining: 11.2s\n",
      "190:\tlearn: 5.1744006\ttotal: 6.97s\tremaining: 11.3s\n",
      "191:\tlearn: 5.1699687\ttotal: 6.98s\tremaining: 11.2s\n",
      "192:\tlearn: 5.1656360\ttotal: 7.07s\tremaining: 11.2s\n",
      "193:\tlearn: 5.1606220\ttotal: 7.08s\tremaining: 11.2s\n",
      "194:\tlearn: 5.1565394\ttotal: 7.08s\tremaining: 11.1s\n",
      "195:\tlearn: 5.1525026\ttotal: 7.17s\tremaining: 11.1s\n",
      "196:\tlearn: 5.1481641\ttotal: 7.18s\tremaining: 11s\n",
      "197:\tlearn: 5.1440828\ttotal: 7.27s\tremaining: 11.1s\n",
      "198:\tlearn: 5.1389033\ttotal: 7.27s\tremaining: 11s\n",
      "199:\tlearn: 5.1353167\ttotal: 7.28s\tremaining: 10.9s\n",
      "200:\tlearn: 5.1312098\ttotal: 7.37s\tremaining: 11s\n",
      "201:\tlearn: 5.1270882\ttotal: 7.37s\tremaining: 10.9s\n",
      "202:\tlearn: 5.1230914\ttotal: 7.46s\tremaining: 10.9s\n",
      "203:\tlearn: 5.1190365\ttotal: 7.47s\tremaining: 10.8s\n",
      "204:\tlearn: 5.1150677\ttotal: 7.56s\tremaining: 10.9s\n",
      "205:\tlearn: 5.1112027\ttotal: 7.57s\tremaining: 10.8s\n",
      "206:\tlearn: 5.1068784\ttotal: 7.58s\tremaining: 10.7s\n",
      "207:\tlearn: 5.1029671\ttotal: 7.67s\tremaining: 10.8s\n",
      "208:\tlearn: 5.0990289\ttotal: 7.67s\tremaining: 10.7s\n",
      "209:\tlearn: 5.0956145\ttotal: 7.76s\tremaining: 10.7s\n",
      "210:\tlearn: 5.0918265\ttotal: 7.77s\tremaining: 10.6s\n",
      "211:\tlearn: 5.0877155\ttotal: 7.78s\tremaining: 10.6s\n",
      "212:\tlearn: 5.0840232\ttotal: 7.86s\tremaining: 10.6s\n",
      "213:\tlearn: 5.0798673\ttotal: 7.87s\tremaining: 10.5s\n",
      "214:\tlearn: 5.0768350\ttotal: 7.96s\tremaining: 10.6s\n",
      "215:\tlearn: 5.0731149\ttotal: 7.96s\tremaining: 10.5s\n",
      "216:\tlearn: 5.0694011\ttotal: 7.97s\tremaining: 10.4s\n",
      "217:\tlearn: 5.0658500\ttotal: 8.06s\tremaining: 10.4s\n",
      "218:\tlearn: 5.0618700\ttotal: 8.07s\tremaining: 10.4s\n",
      "219:\tlearn: 5.0584183\ttotal: 8.07s\tremaining: 10.3s\n",
      "220:\tlearn: 5.0542858\ttotal: 8.16s\tremaining: 10.3s\n",
      "221:\tlearn: 5.0505517\ttotal: 8.17s\tremaining: 10.2s\n",
      "222:\tlearn: 5.0468047\ttotal: 8.17s\tremaining: 10.2s\n",
      "223:\tlearn: 5.0433539\ttotal: 8.26s\tremaining: 10.2s\n",
      "224:\tlearn: 5.0397165\ttotal: 8.27s\tremaining: 10.1s\n",
      "225:\tlearn: 5.0364659\ttotal: 8.35s\tremaining: 10.1s\n",
      "226:\tlearn: 5.0333428\ttotal: 8.36s\tremaining: 10.1s\n",
      "227:\tlearn: 5.0298998\ttotal: 8.37s\tremaining: 9.98s\n",
      "228:\tlearn: 5.0264434\ttotal: 8.46s\tremaining: 10s\n",
      "229:\tlearn: 5.0232257\ttotal: 8.46s\tremaining: 9.93s\n",
      "230:\tlearn: 5.0196677\ttotal: 8.47s\tremaining: 9.86s\n",
      "231:\tlearn: 5.0160457\ttotal: 8.56s\tremaining: 9.88s\n",
      "232:\tlearn: 5.0127212\ttotal: 8.56s\tremaining: 9.81s\n",
      "233:\tlearn: 5.0096798\ttotal: 8.65s\tremaining: 9.83s\n",
      "234:\tlearn: 5.0065459\ttotal: 8.66s\tremaining: 9.76s\n",
      "235:\tlearn: 5.0035761\ttotal: 8.67s\tremaining: 9.69s\n",
      "236:\tlearn: 5.0001290\ttotal: 8.75s\tremaining: 9.71s\n",
      "237:\tlearn: 4.9965296\ttotal: 8.76s\tremaining: 9.64s\n",
      "238:\tlearn: 4.9935649\ttotal: 8.76s\tremaining: 9.57s\n",
      "239:\tlearn: 4.9899371\ttotal: 8.85s\tremaining: 9.59s\n",
      "240:\tlearn: 4.9868083\ttotal: 8.86s\tremaining: 9.52s\n",
      "241:\tlearn: 4.9841559\ttotal: 8.95s\tremaining: 9.54s\n",
      "242:\tlearn: 4.9812212\ttotal: 8.95s\tremaining: 9.47s\n",
      "243:\tlearn: 4.9782304\ttotal: 8.96s\tremaining: 9.4s\n",
      "244:\tlearn: 4.9753968\ttotal: 9.05s\tremaining: 9.42s\n",
      "245:\tlearn: 4.9722463\ttotal: 9.06s\tremaining: 9.35s\n",
      "246:\tlearn: 4.9691227\ttotal: 9.14s\tremaining: 9.37s\n",
      "247:\tlearn: 4.9663963\ttotal: 9.15s\tremaining: 9.3s\n",
      "248:\tlearn: 4.9633636\ttotal: 9.16s\tremaining: 9.23s\n",
      "249:\tlearn: 4.9603326\ttotal: 9.24s\tremaining: 9.24s\n",
      "250:\tlearn: 4.9572491\ttotal: 9.25s\tremaining: 9.18s\n",
      "251:\tlearn: 4.9542805\ttotal: 9.26s\tremaining: 9.11s\n",
      "252:\tlearn: 4.9512800\ttotal: 9.34s\tremaining: 9.12s\n",
      "253:\tlearn: 4.9480112\ttotal: 9.35s\tremaining: 9.06s\n",
      "254:\tlearn: 4.9448839\ttotal: 9.36s\tremaining: 8.99s\n",
      "255:\tlearn: 4.9415439\ttotal: 9.44s\tremaining: 9s\n",
      "256:\tlearn: 4.9386905\ttotal: 9.45s\tremaining: 8.94s\n",
      "257:\tlearn: 4.9357233\ttotal: 9.46s\tremaining: 8.87s\n",
      "258:\tlearn: 4.9330420\ttotal: 9.54s\tremaining: 8.88s\n",
      "259:\tlearn: 4.9303777\ttotal: 9.55s\tremaining: 8.82s\n",
      "260:\tlearn: 4.9276004\ttotal: 9.64s\tremaining: 8.83s\n",
      "261:\tlearn: 4.9247156\ttotal: 9.65s\tremaining: 8.76s\n",
      "262:\tlearn: 4.9217112\ttotal: 9.65s\tremaining: 8.7s\n",
      "263:\tlearn: 4.9192806\ttotal: 9.74s\tremaining: 8.71s\n",
      "264:\tlearn: 4.9166164\ttotal: 9.74s\tremaining: 8.64s\n",
      "265:\tlearn: 4.9133872\ttotal: 9.75s\tremaining: 8.58s\n",
      "266:\tlearn: 4.9102592\ttotal: 9.84s\tremaining: 8.59s\n",
      "267:\tlearn: 4.9074936\ttotal: 9.85s\tremaining: 8.52s\n",
      "268:\tlearn: 4.9047309\ttotal: 9.85s\tremaining: 8.46s\n",
      "269:\tlearn: 4.9020821\ttotal: 9.94s\tremaining: 8.47s\n",
      "270:\tlearn: 4.8990199\ttotal: 9.95s\tremaining: 8.41s\n",
      "271:\tlearn: 4.8961172\ttotal: 9.96s\tremaining: 8.35s\n",
      "272:\tlearn: 4.8935528\ttotal: 10s\tremaining: 8.35s\n",
      "273:\tlearn: 4.8903440\ttotal: 10s\tremaining: 8.29s\n",
      "274:\tlearn: 4.8878568\ttotal: 10.1s\tremaining: 8.29s\n",
      "275:\tlearn: 4.8853407\ttotal: 10.1s\tremaining: 8.23s\n",
      "276:\tlearn: 4.8823558\ttotal: 10.1s\tremaining: 8.17s\n",
      "277:\tlearn: 4.8796814\ttotal: 10.2s\tremaining: 8.17s\n",
      "278:\tlearn: 4.8773027\ttotal: 10.2s\tremaining: 8.11s\n",
      "279:\tlearn: 4.8750365\ttotal: 10.3s\tremaining: 8.11s\n",
      "280:\tlearn: 4.8726121\ttotal: 10.3s\tremaining: 8.05s\n",
      "281:\tlearn: 4.8705162\ttotal: 10.3s\tremaining: 8s\n",
      "282:\tlearn: 4.8679737\ttotal: 10.4s\tremaining: 8s\n",
      "283:\tlearn: 4.8653812\ttotal: 10.4s\tremaining: 7.94s\n",
      "284:\tlearn: 4.8631213\ttotal: 10.5s\tremaining: 7.94s\n",
      "285:\tlearn: 4.8607962\ttotal: 10.5s\tremaining: 7.88s\n",
      "286:\tlearn: 4.8583751\ttotal: 10.5s\tremaining: 7.82s\n",
      "287:\tlearn: 4.8564167\ttotal: 10.5s\tremaining: 7.76s\n",
      "288:\tlearn: 4.8538908\ttotal: 10.6s\tremaining: 7.7s\n",
      "289:\tlearn: 4.8516018\ttotal: 10.6s\tremaining: 7.64s\n",
      "290:\tlearn: 4.8493156\ttotal: 10.6s\tremaining: 7.65s\n",
      "291:\tlearn: 4.8472447\ttotal: 10.7s\tremaining: 7.59s\n",
      "292:\tlearn: 4.8450314\ttotal: 10.7s\tremaining: 7.59s\n",
      "293:\tlearn: 4.8429545\ttotal: 10.7s\tremaining: 7.53s\n",
      "294:\tlearn: 4.8396565\ttotal: 10.8s\tremaining: 7.47s\n",
      "295:\tlearn: 4.8373943\ttotal: 10.8s\tremaining: 7.47s\n",
      "296:\tlearn: 4.8348746\ttotal: 10.8s\tremaining: 7.42s\n",
      "297:\tlearn: 4.8323022\ttotal: 10.9s\tremaining: 7.36s\n",
      "298:\tlearn: 4.8297637\ttotal: 10.9s\tremaining: 7.36s\n",
      "299:\tlearn: 4.8268523\ttotal: 11s\tremaining: 7.3s\n",
      "300:\tlearn: 4.8244145\ttotal: 11s\tremaining: 7.3s\n",
      "301:\tlearn: 4.8221866\ttotal: 11s\tremaining: 7.24s\n",
      "302:\tlearn: 4.8200957\ttotal: 11.1s\tremaining: 7.19s\n",
      "303:\tlearn: 4.8180497\ttotal: 11.1s\tremaining: 7.18s\n",
      "304:\tlearn: 4.8159640\ttotal: 11.1s\tremaining: 7.13s\n",
      "305:\tlearn: 4.8138391\ttotal: 11.2s\tremaining: 7.12s\n",
      "306:\tlearn: 4.8115099\ttotal: 11.3s\tremaining: 7.07s\n",
      "307:\tlearn: 4.8092119\ttotal: 11.3s\tremaining: 7.02s\n",
      "308:\tlearn: 4.8063067\ttotal: 11.3s\tremaining: 7.01s\n",
      "309:\tlearn: 4.8039288\ttotal: 11.3s\tremaining: 6.95s\n",
      "310:\tlearn: 4.8019434\ttotal: 11.3s\tremaining: 6.9s\n",
      "311:\tlearn: 4.7998983\ttotal: 11.4s\tremaining: 6.89s\n",
      "312:\tlearn: 4.7973864\ttotal: 11.4s\tremaining: 6.83s\n",
      "313:\tlearn: 4.7948235\ttotal: 11.4s\tremaining: 6.78s\n",
      "314:\tlearn: 4.7918865\ttotal: 11.5s\tremaining: 6.77s\n",
      "315:\tlearn: 4.7896792\ttotal: 11.5s\tremaining: 6.72s\n",
      "316:\tlearn: 4.7869421\ttotal: 11.5s\tremaining: 6.66s\n",
      "317:\tlearn: 4.7846897\ttotal: 11.6s\tremaining: 6.66s\n",
      "318:\tlearn: 4.7825448\ttotal: 11.6s\tremaining: 6.61s\n",
      "319:\tlearn: 4.7803906\ttotal: 11.7s\tremaining: 6.6s\n",
      "320:\tlearn: 4.7780059\ttotal: 11.7s\tremaining: 6.54s\n",
      "321:\tlearn: 4.7758218\ttotal: 11.7s\tremaining: 6.49s\n",
      "322:\tlearn: 4.7740923\ttotal: 11.8s\tremaining: 6.48s\n",
      "323:\tlearn: 4.7718857\ttotal: 11.8s\tremaining: 6.43s\n",
      "324:\tlearn: 4.7697934\ttotal: 11.9s\tremaining: 6.42s\n",
      "325:\tlearn: 4.7681240\ttotal: 11.9s\tremaining: 6.37s\n",
      "326:\tlearn: 4.7655910\ttotal: 11.9s\tremaining: 6.32s\n",
      "327:\tlearn: 4.7631508\ttotal: 12s\tremaining: 6.31s\n",
      "328:\tlearn: 4.7612554\ttotal: 12s\tremaining: 6.25s\n",
      "329:\tlearn: 4.7594237\ttotal: 12s\tremaining: 6.2s\n",
      "330:\tlearn: 4.7571635\ttotal: 12.1s\tremaining: 6.19s\n",
      "331:\tlearn: 4.7550521\ttotal: 12.1s\tremaining: 6.14s\n",
      "332:\tlearn: 4.7529740\ttotal: 12.2s\tremaining: 6.13s\n",
      "333:\tlearn: 4.7510781\ttotal: 12.2s\tremaining: 6.08s\n",
      "334:\tlearn: 4.7489165\ttotal: 12.3s\tremaining: 6.03s\n",
      "335:\tlearn: 4.7472517\ttotal: 12.3s\tremaining: 6.01s\n",
      "336:\tlearn: 4.7456542\ttotal: 12.3s\tremaining: 5.96s\n",
      "337:\tlearn: 4.7437938\ttotal: 12.3s\tremaining: 5.91s\n",
      "338:\tlearn: 4.7418192\ttotal: 12.4s\tremaining: 5.9s\n",
      "339:\tlearn: 4.7401287\ttotal: 12.4s\tremaining: 5.85s\n",
      "340:\tlearn: 4.7381526\ttotal: 12.4s\tremaining: 5.8s\n",
      "341:\tlearn: 4.7360694\ttotal: 12.5s\tremaining: 5.79s\n",
      "342:\tlearn: 4.7337792\ttotal: 12.5s\tremaining: 5.74s\n",
      "343:\tlearn: 4.7319250\ttotal: 12.5s\tremaining: 5.69s\n",
      "344:\tlearn: 4.7301107\ttotal: 12.6s\tremaining: 5.67s\n",
      "345:\tlearn: 4.7281057\ttotal: 12.6s\tremaining: 5.62s\n",
      "346:\tlearn: 4.7258011\ttotal: 12.7s\tremaining: 5.61s\n",
      "347:\tlearn: 4.7239504\ttotal: 12.7s\tremaining: 5.56s\n",
      "348:\tlearn: 4.7220890\ttotal: 12.7s\tremaining: 5.51s\n",
      "349:\tlearn: 4.7199435\ttotal: 12.8s\tremaining: 5.49s\n",
      "350:\tlearn: 4.7178958\ttotal: 12.8s\tremaining: 5.44s\n",
      "351:\tlearn: 4.7159260\ttotal: 12.8s\tremaining: 5.39s\n",
      "352:\tlearn: 4.7138799\ttotal: 12.9s\tremaining: 5.38s\n",
      "353:\tlearn: 4.7113588\ttotal: 12.9s\tremaining: 5.33s\n",
      "354:\tlearn: 4.7093393\ttotal: 12.9s\tremaining: 5.28s\n",
      "355:\tlearn: 4.7074002\ttotal: 13s\tremaining: 5.26s\n",
      "356:\tlearn: 4.7056613\ttotal: 13s\tremaining: 5.21s\n",
      "357:\tlearn: 4.7037041\ttotal: 13s\tremaining: 5.17s\n",
      "358:\tlearn: 4.7020052\ttotal: 13.1s\tremaining: 5.15s\n",
      "359:\tlearn: 4.7004164\ttotal: 13.1s\tremaining: 5.1s\n",
      "360:\tlearn: 4.6982147\ttotal: 13.2s\tremaining: 5.08s\n",
      "361:\tlearn: 4.6966426\ttotal: 13.2s\tremaining: 5.04s\n",
      "362:\tlearn: 4.6947643\ttotal: 13.2s\tremaining: 4.99s\n",
      "363:\tlearn: 4.6931315\ttotal: 13.3s\tremaining: 4.97s\n",
      "364:\tlearn: 4.6912934\ttotal: 13.3s\tremaining: 4.92s\n",
      "365:\tlearn: 4.6897305\ttotal: 13.3s\tremaining: 4.88s\n",
      "366:\tlearn: 4.6879095\ttotal: 13.4s\tremaining: 4.86s\n",
      "367:\tlearn: 4.6864755\ttotal: 13.4s\tremaining: 4.81s\n",
      "368:\tlearn: 4.6848202\ttotal: 13.5s\tremaining: 4.79s\n",
      "369:\tlearn: 4.6828779\ttotal: 13.5s\tremaining: 4.75s\n",
      "370:\tlearn: 4.6812625\ttotal: 13.6s\tremaining: 4.73s\n",
      "371:\tlearn: 4.6797673\ttotal: 13.6s\tremaining: 4.68s\n",
      "372:\tlearn: 4.6776069\ttotal: 13.6s\tremaining: 4.64s\n",
      "373:\tlearn: 4.6754624\ttotal: 13.7s\tremaining: 4.62s\n",
      "374:\tlearn: 4.6736921\ttotal: 13.7s\tremaining: 4.57s\n",
      "375:\tlearn: 4.6717873\ttotal: 13.8s\tremaining: 4.55s\n",
      "376:\tlearn: 4.6697366\ttotal: 13.8s\tremaining: 4.5s\n",
      "377:\tlearn: 4.6680706\ttotal: 13.8s\tremaining: 4.46s\n",
      "378:\tlearn: 4.6663083\ttotal: 13.9s\tremaining: 4.44s\n",
      "379:\tlearn: 4.6647209\ttotal: 13.9s\tremaining: 4.39s\n",
      "380:\tlearn: 4.6631864\ttotal: 14s\tremaining: 4.37s\n",
      "381:\tlearn: 4.6612111\ttotal: 14s\tremaining: 4.33s\n",
      "382:\tlearn: 4.6594870\ttotal: 14s\tremaining: 4.28s\n",
      "383:\tlearn: 4.6578442\ttotal: 14.1s\tremaining: 4.26s\n",
      "384:\tlearn: 4.6555435\ttotal: 14.1s\tremaining: 4.21s\n",
      "385:\tlearn: 4.6537210\ttotal: 14.2s\tremaining: 4.19s\n",
      "386:\tlearn: 4.6519995\ttotal: 14.2s\tremaining: 4.15s\n",
      "387:\tlearn: 4.6504972\ttotal: 14.2s\tremaining: 4.1s\n",
      "388:\tlearn: 4.6489728\ttotal: 14.3s\tremaining: 4.08s\n",
      "389:\tlearn: 4.6477133\ttotal: 14.3s\tremaining: 4.03s\n",
      "390:\tlearn: 4.6456830\ttotal: 14.4s\tremaining: 4.01s\n",
      "391:\tlearn: 4.6439036\ttotal: 14.4s\tremaining: 3.97s\n",
      "392:\tlearn: 4.6420490\ttotal: 14.4s\tremaining: 3.92s\n",
      "393:\tlearn: 4.6403097\ttotal: 14.5s\tremaining: 3.9s\n",
      "394:\tlearn: 4.6387360\ttotal: 14.5s\tremaining: 3.85s\n",
      "395:\tlearn: 4.6365247\ttotal: 14.5s\tremaining: 3.81s\n",
      "396:\tlearn: 4.6349564\ttotal: 14.6s\tremaining: 3.79s\n",
      "397:\tlearn: 4.6332725\ttotal: 14.6s\tremaining: 3.74s\n",
      "398:\tlearn: 4.6310755\ttotal: 14.7s\tremaining: 3.72s\n",
      "399:\tlearn: 4.6296806\ttotal: 14.7s\tremaining: 3.67s\n",
      "400:\tlearn: 4.6275705\ttotal: 14.8s\tremaining: 3.65s\n",
      "401:\tlearn: 4.6256519\ttotal: 14.8s\tremaining: 3.61s\n",
      "402:\tlearn: 4.6242339\ttotal: 14.8s\tremaining: 3.56s\n",
      "403:\tlearn: 4.6222297\ttotal: 14.9s\tremaining: 3.54s\n",
      "404:\tlearn: 4.6201816\ttotal: 14.9s\tremaining: 3.49s\n",
      "405:\tlearn: 4.6186344\ttotal: 14.9s\tremaining: 3.45s\n",
      "406:\tlearn: 4.6168973\ttotal: 15s\tremaining: 3.42s\n",
      "407:\tlearn: 4.6150692\ttotal: 15s\tremaining: 3.38s\n",
      "408:\tlearn: 4.6137841\ttotal: 15.1s\tremaining: 3.36s\n",
      "409:\tlearn: 4.6123456\ttotal: 15.1s\tremaining: 3.31s\n",
      "410:\tlearn: 4.6110623\ttotal: 15.1s\tremaining: 3.27s\n",
      "411:\tlearn: 4.6095180\ttotal: 15.2s\tremaining: 3.24s\n",
      "412:\tlearn: 4.6082453\ttotal: 15.2s\tremaining: 3.2s\n",
      "413:\tlearn: 4.6067999\ttotal: 15.3s\tremaining: 3.17s\n",
      "414:\tlearn: 4.6051135\ttotal: 15.3s\tremaining: 3.13s\n",
      "415:\tlearn: 4.6035847\ttotal: 15.3s\tremaining: 3.09s\n",
      "416:\tlearn: 4.6017261\ttotal: 15.4s\tremaining: 3.06s\n",
      "417:\tlearn: 4.5999953\ttotal: 15.4s\tremaining: 3.02s\n",
      "418:\tlearn: 4.5981166\ttotal: 15.5s\tremaining: 2.99s\n",
      "419:\tlearn: 4.5966329\ttotal: 15.5s\tremaining: 2.95s\n",
      "420:\tlearn: 4.5949535\ttotal: 15.5s\tremaining: 2.91s\n",
      "421:\tlearn: 4.5937762\ttotal: 15.6s\tremaining: 2.88s\n",
      "422:\tlearn: 4.5923791\ttotal: 15.6s\tremaining: 2.84s\n",
      "423:\tlearn: 4.5908638\ttotal: 15.7s\tremaining: 2.81s\n",
      "424:\tlearn: 4.5896801\ttotal: 15.7s\tremaining: 2.77s\n",
      "425:\tlearn: 4.5880504\ttotal: 15.7s\tremaining: 2.73s\n",
      "426:\tlearn: 4.5865341\ttotal: 15.8s\tremaining: 2.7s\n",
      "427:\tlearn: 4.5854345\ttotal: 15.8s\tremaining: 2.66s\n",
      "428:\tlearn: 4.5841037\ttotal: 15.8s\tremaining: 2.61s\n",
      "429:\tlearn: 4.5824386\ttotal: 15.9s\tremaining: 2.58s\n",
      "430:\tlearn: 4.5811136\ttotal: 15.9s\tremaining: 2.54s\n",
      "431:\tlearn: 4.5791779\ttotal: 16s\tremaining: 2.51s\n",
      "432:\tlearn: 4.5778518\ttotal: 16s\tremaining: 2.47s\n",
      "433:\tlearn: 4.5766654\ttotal: 16s\tremaining: 2.43s\n",
      "434:\tlearn: 4.5753798\ttotal: 16.1s\tremaining: 2.4s\n",
      "435:\tlearn: 4.5740662\ttotal: 16.1s\tremaining: 2.36s\n",
      "436:\tlearn: 4.5725045\ttotal: 16.2s\tremaining: 2.33s\n",
      "437:\tlearn: 4.5711507\ttotal: 16.2s\tremaining: 2.29s\n",
      "438:\tlearn: 4.5695592\ttotal: 16.2s\tremaining: 2.25s\n",
      "439:\tlearn: 4.5682297\ttotal: 16.3s\tremaining: 2.22s\n",
      "440:\tlearn: 4.5664114\ttotal: 16.3s\tremaining: 2.18s\n",
      "441:\tlearn: 4.5652735\ttotal: 16.3s\tremaining: 2.14s\n",
      "442:\tlearn: 4.5641910\ttotal: 16.4s\tremaining: 2.11s\n",
      "443:\tlearn: 4.5624642\ttotal: 16.4s\tremaining: 2.07s\n",
      "444:\tlearn: 4.5606583\ttotal: 16.4s\tremaining: 2.02s\n",
      "445:\tlearn: 4.5594477\ttotal: 16.5s\tremaining: 1.99s\n",
      "446:\tlearn: 4.5578536\ttotal: 16.5s\tremaining: 1.95s\n",
      "447:\tlearn: 4.5562646\ttotal: 16.6s\tremaining: 1.92s\n",
      "448:\tlearn: 4.5552301\ttotal: 16.6s\tremaining: 1.88s\n",
      "449:\tlearn: 4.5538206\ttotal: 16.6s\tremaining: 1.84s\n",
      "450:\tlearn: 4.5525515\ttotal: 16.7s\tremaining: 1.81s\n",
      "451:\tlearn: 4.5514051\ttotal: 16.7s\tremaining: 1.77s\n",
      "452:\tlearn: 4.5500522\ttotal: 16.7s\tremaining: 1.73s\n",
      "453:\tlearn: 4.5487998\ttotal: 16.8s\tremaining: 1.7s\n",
      "454:\tlearn: 4.5478992\ttotal: 16.8s\tremaining: 1.66s\n",
      "455:\tlearn: 4.5465846\ttotal: 16.8s\tremaining: 1.62s\n",
      "456:\tlearn: 4.5453600\ttotal: 16.9s\tremaining: 1.59s\n",
      "457:\tlearn: 4.5433988\ttotal: 16.9s\tremaining: 1.55s\n",
      "458:\tlearn: 4.5420159\ttotal: 16.9s\tremaining: 1.51s\n",
      "459:\tlearn: 4.5407016\ttotal: 17s\tremaining: 1.48s\n",
      "460:\tlearn: 4.5394706\ttotal: 17s\tremaining: 1.44s\n",
      "461:\tlearn: 4.5379113\ttotal: 17.1s\tremaining: 1.4s\n",
      "462:\tlearn: 4.5366080\ttotal: 17.1s\tremaining: 1.36s\n",
      "463:\tlearn: 4.5353783\ttotal: 17.1s\tremaining: 1.32s\n",
      "464:\tlearn: 4.5341490\ttotal: 17.2s\tremaining: 1.29s\n",
      "465:\tlearn: 4.5327818\ttotal: 17.2s\tremaining: 1.25s\n",
      "466:\tlearn: 4.5311516\ttotal: 17.2s\tremaining: 1.21s\n",
      "467:\tlearn: 4.5297071\ttotal: 17.3s\tremaining: 1.18s\n",
      "468:\tlearn: 4.5285569\ttotal: 17.3s\tremaining: 1.14s\n",
      "469:\tlearn: 4.5274900\ttotal: 17.4s\tremaining: 1.11s\n",
      "470:\tlearn: 4.5261766\ttotal: 17.4s\tremaining: 1.07s\n",
      "471:\tlearn: 4.5249454\ttotal: 17.4s\tremaining: 1.03s\n",
      "472:\tlearn: 4.5235133\ttotal: 17.5s\tremaining: 997ms\n",
      "473:\tlearn: 4.5223064\ttotal: 17.5s\tremaining: 958ms\n",
      "474:\tlearn: 4.5205453\ttotal: 17.5s\tremaining: 920ms\n",
      "475:\tlearn: 4.5193225\ttotal: 17.6s\tremaining: 885ms\n",
      "476:\tlearn: 4.5175207\ttotal: 17.6s\tremaining: 847ms\n",
      "477:\tlearn: 4.5164718\ttotal: 17.6s\tremaining: 809ms\n",
      "478:\tlearn: 4.5149952\ttotal: 17.7s\tremaining: 774ms\n",
      "479:\tlearn: 4.5132252\ttotal: 17.7s\tremaining: 736ms\n",
      "480:\tlearn: 4.5119011\ttotal: 17.7s\tremaining: 698ms\n",
      "481:\tlearn: 4.5109916\ttotal: 17.7s\tremaining: 660ms\n",
      "482:\tlearn: 4.5094973\ttotal: 17.8s\tremaining: 625ms\n",
      "483:\tlearn: 4.5076449\ttotal: 17.8s\tremaining: 587ms\n",
      "484:\tlearn: 4.5064554\ttotal: 17.8s\tremaining: 550ms\n",
      "485:\tlearn: 4.5050432\ttotal: 17.9s\tremaining: 514ms\n",
      "486:\tlearn: 4.5036854\ttotal: 17.9s\tremaining: 477ms\n",
      "487:\tlearn: 4.5022398\ttotal: 17.9s\tremaining: 439ms\n",
      "488:\tlearn: 4.5013666\ttotal: 17.9s\tremaining: 404ms\n",
      "489:\tlearn: 4.4997319\ttotal: 18s\tremaining: 366ms\n",
      "490:\tlearn: 4.4985892\ttotal: 18s\tremaining: 329ms\n",
      "491:\tlearn: 4.4973693\ttotal: 18.1s\tremaining: 294ms\n",
      "492:\tlearn: 4.4961292\ttotal: 18.1s\tremaining: 256ms\n",
      "493:\tlearn: 4.4943844\ttotal: 18.1s\tremaining: 219ms\n",
      "494:\tlearn: 4.4934861\ttotal: 18.1s\tremaining: 183ms\n",
      "495:\tlearn: 4.4919359\ttotal: 18.2s\tremaining: 146ms\n",
      "496:\tlearn: 4.4904392\ttotal: 18.2s\tremaining: 110ms\n",
      "497:\tlearn: 4.4893154\ttotal: 18.2s\tremaining: 73.3ms\n",
      "498:\tlearn: 4.4882096\ttotal: 18.3s\tremaining: 36.6ms\n",
      "499:\tlearn: 4.4867854\ttotal: 18.3s\tremaining: 0us\n",
      "0:\tlearn: 7.6881604\ttotal: 13.3ms\tremaining: 6.63s\n",
      "1:\tlearn: 7.6666561\ttotal: 82.1ms\tremaining: 20.4s\n",
      "2:\tlearn: 7.6454876\ttotal: 91.3ms\tremaining: 15.1s\n",
      "3:\tlearn: 7.6232772\ttotal: 99.3ms\tremaining: 12.3s\n",
      "4:\tlearn: 7.6008681\ttotal: 107ms\tremaining: 10.6s\n",
      "5:\tlearn: 7.5802325\ttotal: 177ms\tremaining: 14.6s\n",
      "6:\tlearn: 7.5599500\ttotal: 184ms\tremaining: 13s\n",
      "7:\tlearn: 7.5396901\ttotal: 270ms\tremaining: 16.6s\n",
      "8:\tlearn: 7.5192746\ttotal: 278ms\tremaining: 15.2s\n",
      "9:\tlearn: 7.4999528\ttotal: 288ms\tremaining: 14.1s\n",
      "10:\tlearn: 7.4809146\ttotal: 368ms\tremaining: 16.4s\n",
      "11:\tlearn: 7.4611723\ttotal: 376ms\tremaining: 15.3s\n",
      "12:\tlearn: 7.4423384\ttotal: 382ms\tremaining: 14.3s\n",
      "13:\tlearn: 7.4224981\ttotal: 469ms\tremaining: 16.3s\n",
      "14:\tlearn: 7.4047558\ttotal: 478ms\tremaining: 15.5s\n",
      "15:\tlearn: 7.3862720\ttotal: 484ms\tremaining: 14.6s\n",
      "16:\tlearn: 7.3680627\ttotal: 564ms\tremaining: 16s\n",
      "17:\tlearn: 7.3503212\ttotal: 571ms\tremaining: 15.3s\n",
      "18:\tlearn: 7.3318346\ttotal: 579ms\tremaining: 14.7s\n",
      "19:\tlearn: 7.3108690\ttotal: 667ms\tremaining: 16s\n",
      "20:\tlearn: 7.2936902\ttotal: 674ms\tremaining: 15.4s\n",
      "21:\tlearn: 7.2753037\ttotal: 761ms\tremaining: 16.5s\n",
      "22:\tlearn: 7.2575625\ttotal: 768ms\tremaining: 15.9s\n",
      "23:\tlearn: 7.2403174\ttotal: 774ms\tremaining: 15.3s\n",
      "24:\tlearn: 7.2229848\ttotal: 858ms\tremaining: 16.3s\n",
      "25:\tlearn: 7.2070342\ttotal: 864ms\tremaining: 15.8s\n",
      "26:\tlearn: 7.1903508\ttotal: 873ms\tremaining: 15.3s\n",
      "27:\tlearn: 7.1710349\ttotal: 956ms\tremaining: 16.1s\n",
      "28:\tlearn: 7.1536881\ttotal: 963ms\tremaining: 15.6s\n",
      "29:\tlearn: 7.1382581\ttotal: 969ms\tremaining: 15.2s\n",
      "30:\tlearn: 7.1229518\ttotal: 1.05s\tremaining: 16s\n",
      "31:\tlearn: 7.1045473\ttotal: 1.06s\tremaining: 15.5s\n",
      "32:\tlearn: 7.0863347\ttotal: 1.08s\tremaining: 15.2s\n",
      "33:\tlearn: 7.0704949\ttotal: 1.15s\tremaining: 15.8s\n",
      "34:\tlearn: 7.0540654\ttotal: 1.17s\tremaining: 15.5s\n",
      "35:\tlearn: 7.0392413\ttotal: 1.17s\tremaining: 15.1s\n",
      "36:\tlearn: 7.0220462\ttotal: 1.25s\tremaining: 15.7s\n",
      "37:\tlearn: 7.0079060\ttotal: 1.26s\tremaining: 15.4s\n",
      "38:\tlearn: 6.9919280\ttotal: 1.28s\tremaining: 15.2s\n",
      "39:\tlearn: 6.9772803\ttotal: 1.36s\tremaining: 15.6s\n",
      "40:\tlearn: 6.9633820\ttotal: 1.36s\tremaining: 15.3s\n",
      "41:\tlearn: 6.9461475\ttotal: 1.37s\tremaining: 14.9s\n",
      "42:\tlearn: 6.9316009\ttotal: 1.45s\tremaining: 15.4s\n",
      "43:\tlearn: 6.9169469\ttotal: 1.45s\tremaining: 15.1s\n",
      "44:\tlearn: 6.9023804\ttotal: 1.46s\tremaining: 14.8s\n",
      "45:\tlearn: 6.8886259\ttotal: 1.56s\tremaining: 15.4s\n",
      "46:\tlearn: 6.8758412\ttotal: 1.57s\tremaining: 15.1s\n",
      "47:\tlearn: 6.8627179\ttotal: 1.65s\tremaining: 15.6s\n",
      "48:\tlearn: 6.8488282\ttotal: 1.67s\tremaining: 15.4s\n",
      "49:\tlearn: 6.8360275\ttotal: 1.74s\tremaining: 15.7s\n",
      "50:\tlearn: 6.8232058\ttotal: 1.75s\tremaining: 15.4s\n",
      "51:\tlearn: 6.8106356\ttotal: 1.76s\tremaining: 15.1s\n",
      "52:\tlearn: 6.7950536\ttotal: 1.84s\tremaining: 15.5s\n",
      "53:\tlearn: 6.7807866\ttotal: 1.85s\tremaining: 15.3s\n",
      "54:\tlearn: 6.7677472\ttotal: 1.86s\tremaining: 15.1s\n",
      "55:\tlearn: 6.7554854\ttotal: 1.94s\tremaining: 15.4s\n",
      "56:\tlearn: 6.7430654\ttotal: 1.95s\tremaining: 15.1s\n",
      "57:\tlearn: 6.7309524\ttotal: 1.95s\tremaining: 14.9s\n",
      "58:\tlearn: 6.7176604\ttotal: 2.04s\tremaining: 15.2s\n",
      "59:\tlearn: 6.7043061\ttotal: 2.04s\tremaining: 15s\n",
      "60:\tlearn: 6.6904297\ttotal: 2.05s\tremaining: 14.8s\n",
      "61:\tlearn: 6.6788823\ttotal: 2.15s\tremaining: 15.2s\n",
      "62:\tlearn: 6.6645261\ttotal: 2.15s\tremaining: 14.9s\n",
      "63:\tlearn: 6.6509944\ttotal: 2.23s\tremaining: 15.2s\n",
      "64:\tlearn: 6.6366774\ttotal: 2.24s\tremaining: 15s\n",
      "65:\tlearn: 6.6254692\ttotal: 2.25s\tremaining: 14.8s\n",
      "66:\tlearn: 6.6115929\ttotal: 2.25s\tremaining: 14.6s\n",
      "67:\tlearn: 6.5999327\ttotal: 2.33s\tremaining: 14.8s\n",
      "68:\tlearn: 6.5865055\ttotal: 2.33s\tremaining: 14.6s\n",
      "69:\tlearn: 6.5760389\ttotal: 2.34s\tremaining: 14.4s\n",
      "70:\tlearn: 6.5628076\ttotal: 2.43s\tremaining: 14.7s\n",
      "71:\tlearn: 6.5521224\ttotal: 2.44s\tremaining: 14.5s\n",
      "72:\tlearn: 6.5392723\ttotal: 2.44s\tremaining: 14.3s\n",
      "73:\tlearn: 6.5284933\ttotal: 2.53s\tremaining: 14.5s\n",
      "74:\tlearn: 6.5167505\ttotal: 2.54s\tremaining: 14.4s\n",
      "75:\tlearn: 6.5047516\ttotal: 2.62s\tremaining: 14.6s\n",
      "76:\tlearn: 6.4934425\ttotal: 2.63s\tremaining: 14.4s\n",
      "77:\tlearn: 6.4810263\ttotal: 2.63s\tremaining: 14.2s\n",
      "78:\tlearn: 6.4710283\ttotal: 2.65s\tremaining: 14.1s\n",
      "79:\tlearn: 6.4593417\ttotal: 2.72s\tremaining: 14.3s\n",
      "80:\tlearn: 6.4491087\ttotal: 2.73s\tremaining: 14.1s\n",
      "81:\tlearn: 6.4376148\ttotal: 2.73s\tremaining: 13.9s\n",
      "82:\tlearn: 6.4258935\ttotal: 2.81s\tremaining: 14.1s\n",
      "83:\tlearn: 6.4141032\ttotal: 2.82s\tremaining: 14s\n",
      "84:\tlearn: 6.4025366\ttotal: 2.83s\tremaining: 13.8s\n",
      "85:\tlearn: 6.3913189\ttotal: 2.94s\tremaining: 14.1s\n",
      "86:\tlearn: 6.3826912\ttotal: 2.95s\tremaining: 14s\n",
      "87:\tlearn: 6.3739886\ttotal: 2.95s\tremaining: 13.8s\n",
      "88:\tlearn: 6.3652108\ttotal: 3.01s\tremaining: 13.9s\n",
      "89:\tlearn: 6.3543268\ttotal: 3.02s\tremaining: 13.7s\n",
      "90:\tlearn: 6.3431354\ttotal: 3.02s\tremaining: 13.6s\n",
      "91:\tlearn: 6.3325471\ttotal: 3.11s\tremaining: 13.8s\n",
      "92:\tlearn: 6.3235120\ttotal: 3.12s\tremaining: 13.7s\n",
      "93:\tlearn: 6.3148629\ttotal: 3.13s\tremaining: 13.5s\n",
      "94:\tlearn: 6.3051193\ttotal: 3.21s\tremaining: 13.7s\n",
      "95:\tlearn: 6.2947499\ttotal: 3.22s\tremaining: 13.5s\n",
      "96:\tlearn: 6.2866900\ttotal: 3.23s\tremaining: 13.4s\n",
      "97:\tlearn: 6.2784509\ttotal: 3.31s\tremaining: 13.6s\n",
      "98:\tlearn: 6.2682459\ttotal: 3.32s\tremaining: 13.4s\n",
      "99:\tlearn: 6.2592891\ttotal: 3.33s\tremaining: 13.3s\n",
      "100:\tlearn: 6.2510814\ttotal: 3.41s\tremaining: 13.5s\n",
      "101:\tlearn: 6.2424120\ttotal: 3.41s\tremaining: 13.3s\n",
      "102:\tlearn: 6.2345771\ttotal: 3.42s\tremaining: 13.2s\n",
      "103:\tlearn: 6.2265116\ttotal: 3.5s\tremaining: 13.3s\n",
      "104:\tlearn: 6.2182394\ttotal: 3.51s\tremaining: 13.2s\n",
      "105:\tlearn: 6.2091854\ttotal: 3.52s\tremaining: 13.1s\n",
      "106:\tlearn: 6.2003394\ttotal: 3.6s\tremaining: 13.2s\n",
      "107:\tlearn: 6.1924223\ttotal: 3.61s\tremaining: 13.1s\n",
      "108:\tlearn: 6.1835369\ttotal: 3.61s\tremaining: 13s\n",
      "109:\tlearn: 6.1751308\ttotal: 3.7s\tremaining: 13.1s\n",
      "110:\tlearn: 6.1680866\ttotal: 3.7s\tremaining: 13s\n",
      "111:\tlearn: 6.1589121\ttotal: 3.71s\tremaining: 12.8s\n",
      "112:\tlearn: 6.1506332\ttotal: 3.79s\tremaining: 13s\n",
      "113:\tlearn: 6.1423177\ttotal: 3.8s\tremaining: 12.9s\n",
      "114:\tlearn: 6.1345596\ttotal: 3.82s\tremaining: 12.8s\n",
      "115:\tlearn: 6.1272948\ttotal: 3.89s\tremaining: 12.9s\n",
      "116:\tlearn: 6.1187534\ttotal: 3.9s\tremaining: 12.8s\n",
      "117:\tlearn: 6.1112602\ttotal: 3.91s\tremaining: 12.6s\n",
      "118:\tlearn: 6.1033902\ttotal: 3.99s\tremaining: 12.8s\n",
      "119:\tlearn: 6.0957175\ttotal: 4s\tremaining: 12.7s\n",
      "120:\tlearn: 6.0873838\ttotal: 4s\tremaining: 12.5s\n",
      "121:\tlearn: 6.0804330\ttotal: 4.01s\tremaining: 12.4s\n",
      "122:\tlearn: 6.0722834\ttotal: 4.09s\tremaining: 12.5s\n",
      "123:\tlearn: 6.0650137\ttotal: 4.1s\tremaining: 12.4s\n",
      "124:\tlearn: 6.0578581\ttotal: 4.1s\tremaining: 12.3s\n",
      "125:\tlearn: 6.0510054\ttotal: 4.11s\tremaining: 12.2s\n",
      "126:\tlearn: 6.0442018\ttotal: 4.2s\tremaining: 12.3s\n",
      "127:\tlearn: 6.0374611\ttotal: 4.2s\tremaining: 12.2s\n",
      "128:\tlearn: 6.0309486\ttotal: 4.21s\tremaining: 12.1s\n",
      "129:\tlearn: 6.0240571\ttotal: 4.22s\tremaining: 12s\n",
      "130:\tlearn: 6.0171530\ttotal: 4.3s\tremaining: 12.1s\n",
      "131:\tlearn: 6.0094734\ttotal: 4.3s\tremaining: 12s\n",
      "132:\tlearn: 6.0012794\ttotal: 4.31s\tremaining: 11.9s\n",
      "133:\tlearn: 5.9945687\ttotal: 4.39s\tremaining: 12s\n",
      "134:\tlearn: 5.9877606\ttotal: 4.4s\tremaining: 11.9s\n",
      "135:\tlearn: 5.9812295\ttotal: 4.41s\tremaining: 11.8s\n",
      "136:\tlearn: 5.9754519\ttotal: 4.49s\tremaining: 11.9s\n",
      "137:\tlearn: 5.9689117\ttotal: 4.5s\tremaining: 11.8s\n",
      "138:\tlearn: 5.9624779\ttotal: 4.51s\tremaining: 11.7s\n",
      "139:\tlearn: 5.9549456\ttotal: 4.58s\tremaining: 11.8s\n",
      "140:\tlearn: 5.9492058\ttotal: 4.62s\tremaining: 11.8s\n",
      "141:\tlearn: 5.9427106\ttotal: 4.63s\tremaining: 11.7s\n",
      "142:\tlearn: 5.9356682\ttotal: 4.69s\tremaining: 11.7s\n",
      "143:\tlearn: 5.9288144\ttotal: 4.69s\tremaining: 11.6s\n",
      "144:\tlearn: 5.9225810\ttotal: 4.7s\tremaining: 11.5s\n",
      "145:\tlearn: 5.9163691\ttotal: 4.79s\tremaining: 11.6s\n",
      "146:\tlearn: 5.9094995\ttotal: 4.8s\tremaining: 11.5s\n",
      "147:\tlearn: 5.9028813\ttotal: 4.88s\tremaining: 11.6s\n",
      "148:\tlearn: 5.8969588\ttotal: 4.88s\tremaining: 11.5s\n",
      "149:\tlearn: 5.8905767\ttotal: 4.89s\tremaining: 11.4s\n",
      "150:\tlearn: 5.8842935\ttotal: 4.9s\tremaining: 11.3s\n",
      "151:\tlearn: 5.8782226\ttotal: 4.98s\tremaining: 11.4s\n",
      "152:\tlearn: 5.8725963\ttotal: 4.99s\tremaining: 11.3s\n",
      "153:\tlearn: 5.8661639\ttotal: 5s\tremaining: 11.2s\n",
      "154:\tlearn: 5.8605778\ttotal: 5.07s\tremaining: 11.3s\n",
      "155:\tlearn: 5.8543971\ttotal: 5.08s\tremaining: 11.2s\n",
      "156:\tlearn: 5.8480425\ttotal: 5.09s\tremaining: 11.1s\n",
      "157:\tlearn: 5.8430181\ttotal: 5.09s\tremaining: 11s\n",
      "158:\tlearn: 5.8369265\ttotal: 5.18s\tremaining: 11.1s\n",
      "159:\tlearn: 5.8314077\ttotal: 5.19s\tremaining: 11s\n",
      "160:\tlearn: 5.8248498\ttotal: 5.19s\tremaining: 10.9s\n",
      "161:\tlearn: 5.8196288\ttotal: 5.27s\tremaining: 11s\n",
      "162:\tlearn: 5.8130068\ttotal: 5.28s\tremaining: 10.9s\n",
      "163:\tlearn: 5.8078180\ttotal: 5.29s\tremaining: 10.8s\n",
      "164:\tlearn: 5.8027388\ttotal: 5.29s\tremaining: 10.8s\n",
      "165:\tlearn: 5.7975449\ttotal: 5.38s\tremaining: 10.8s\n",
      "166:\tlearn: 5.7925649\ttotal: 5.38s\tremaining: 10.7s\n",
      "167:\tlearn: 5.7879021\ttotal: 5.39s\tremaining: 10.6s\n",
      "168:\tlearn: 5.7822792\ttotal: 5.47s\tremaining: 10.7s\n",
      "169:\tlearn: 5.7767638\ttotal: 5.48s\tremaining: 10.6s\n",
      "170:\tlearn: 5.7713826\ttotal: 5.57s\tremaining: 10.7s\n",
      "171:\tlearn: 5.7658836\ttotal: 5.59s\tremaining: 10.7s\n",
      "172:\tlearn: 5.7600826\ttotal: 5.6s\tremaining: 10.6s\n",
      "173:\tlearn: 5.7547781\ttotal: 5.61s\tremaining: 10.5s\n",
      "174:\tlearn: 5.7494463\ttotal: 5.67s\tremaining: 10.5s\n",
      "175:\tlearn: 5.7441987\ttotal: 5.68s\tremaining: 10.5s\n",
      "176:\tlearn: 5.7389337\ttotal: 5.69s\tremaining: 10.4s\n",
      "177:\tlearn: 5.7336671\ttotal: 5.77s\tremaining: 10.4s\n",
      "178:\tlearn: 5.7289233\ttotal: 5.77s\tremaining: 10.4s\n",
      "179:\tlearn: 5.7240838\ttotal: 5.78s\tremaining: 10.3s\n",
      "180:\tlearn: 5.7182011\ttotal: 5.86s\tremaining: 10.3s\n",
      "181:\tlearn: 5.7133468\ttotal: 5.87s\tremaining: 10.3s\n",
      "182:\tlearn: 5.7084538\ttotal: 5.88s\tremaining: 10.2s\n",
      "183:\tlearn: 5.7042904\ttotal: 5.96s\tremaining: 10.2s\n",
      "184:\tlearn: 5.7000072\ttotal: 5.97s\tremaining: 10.2s\n",
      "185:\tlearn: 5.6952893\ttotal: 5.98s\tremaining: 10.1s\n",
      "186:\tlearn: 5.6907220\ttotal: 6.06s\tremaining: 10.1s\n",
      "187:\tlearn: 5.6857817\ttotal: 6.07s\tremaining: 10.1s\n",
      "188:\tlearn: 5.6807795\ttotal: 6.08s\tremaining: 10s\n",
      "189:\tlearn: 5.6759414\ttotal: 6.16s\tremaining: 10.1s\n",
      "190:\tlearn: 5.6716211\ttotal: 6.17s\tremaining: 9.98s\n",
      "191:\tlearn: 5.6669399\ttotal: 6.17s\tremaining: 9.9s\n",
      "192:\tlearn: 5.6627535\ttotal: 6.26s\tremaining: 9.96s\n",
      "193:\tlearn: 5.6581182\ttotal: 6.26s\tremaining: 9.88s\n",
      "194:\tlearn: 5.6537975\ttotal: 6.27s\tremaining: 9.81s\n",
      "195:\tlearn: 5.6490578\ttotal: 6.36s\tremaining: 9.87s\n",
      "196:\tlearn: 5.6439796\ttotal: 6.37s\tremaining: 9.8s\n",
      "197:\tlearn: 5.6397343\ttotal: 6.38s\tremaining: 9.72s\n",
      "198:\tlearn: 5.6352266\ttotal: 6.45s\tremaining: 9.76s\n",
      "199:\tlearn: 5.6310251\ttotal: 6.46s\tremaining: 9.69s\n",
      "200:\tlearn: 5.6269483\ttotal: 6.47s\tremaining: 9.62s\n",
      "201:\tlearn: 5.6228835\ttotal: 6.48s\tremaining: 9.55s\n",
      "202:\tlearn: 5.6184102\ttotal: 6.55s\tremaining: 9.59s\n",
      "203:\tlearn: 5.6142928\ttotal: 6.56s\tremaining: 9.52s\n",
      "204:\tlearn: 5.6098296\ttotal: 6.57s\tremaining: 9.45s\n",
      "205:\tlearn: 5.6051289\ttotal: 6.65s\tremaining: 9.5s\n",
      "206:\tlearn: 5.6003694\ttotal: 6.66s\tremaining: 9.43s\n",
      "207:\tlearn: 5.5963225\ttotal: 6.67s\tremaining: 9.36s\n",
      "208:\tlearn: 5.5918745\ttotal: 6.75s\tremaining: 9.4s\n",
      "209:\tlearn: 5.5882945\ttotal: 6.75s\tremaining: 9.33s\n",
      "210:\tlearn: 5.5840448\ttotal: 6.76s\tremaining: 9.26s\n",
      "211:\tlearn: 5.5803120\ttotal: 6.85s\tremaining: 9.3s\n",
      "212:\tlearn: 5.5759957\ttotal: 6.86s\tremaining: 9.24s\n",
      "213:\tlearn: 5.5718798\ttotal: 6.86s\tremaining: 9.17s\n",
      "214:\tlearn: 5.5680340\ttotal: 6.95s\tremaining: 9.21s\n",
      "215:\tlearn: 5.5642017\ttotal: 6.96s\tremaining: 9.14s\n",
      "216:\tlearn: 5.5604435\ttotal: 6.96s\tremaining: 9.08s\n",
      "217:\tlearn: 5.5567983\ttotal: 7.05s\tremaining: 9.12s\n",
      "218:\tlearn: 5.5526485\ttotal: 7.06s\tremaining: 9.05s\n",
      "219:\tlearn: 5.5491388\ttotal: 7.06s\tremaining: 8.99s\n",
      "220:\tlearn: 5.5455215\ttotal: 7.15s\tremaining: 9.03s\n",
      "221:\tlearn: 5.5417532\ttotal: 7.2s\tremaining: 9.01s\n",
      "222:\tlearn: 5.5377838\ttotal: 7.25s\tremaining: 9s\n",
      "223:\tlearn: 5.5341925\ttotal: 7.25s\tremaining: 8.94s\n",
      "224:\tlearn: 5.5305377\ttotal: 7.33s\tremaining: 8.96s\n",
      "225:\tlearn: 5.5268472\ttotal: 7.35s\tremaining: 8.91s\n",
      "226:\tlearn: 5.5231440\ttotal: 7.36s\tremaining: 8.85s\n",
      "227:\tlearn: 5.5191323\ttotal: 7.44s\tremaining: 8.88s\n",
      "228:\tlearn: 5.5151705\ttotal: 7.45s\tremaining: 8.81s\n",
      "229:\tlearn: 5.5113483\ttotal: 7.45s\tremaining: 8.75s\n",
      "230:\tlearn: 5.5072656\ttotal: 7.54s\tremaining: 8.78s\n",
      "231:\tlearn: 5.5040611\ttotal: 7.54s\tremaining: 8.71s\n",
      "232:\tlearn: 5.5004681\ttotal: 7.55s\tremaining: 8.65s\n",
      "233:\tlearn: 5.4967542\ttotal: 7.64s\tremaining: 8.68s\n",
      "234:\tlearn: 5.4930221\ttotal: 7.64s\tremaining: 8.62s\n",
      "235:\tlearn: 5.4892714\ttotal: 7.65s\tremaining: 8.56s\n",
      "236:\tlearn: 5.4860649\ttotal: 7.74s\tremaining: 8.59s\n",
      "237:\tlearn: 5.4830588\ttotal: 7.75s\tremaining: 8.53s\n",
      "238:\tlearn: 5.4796718\ttotal: 7.83s\tremaining: 8.56s\n",
      "239:\tlearn: 5.4760527\ttotal: 7.84s\tremaining: 8.49s\n",
      "240:\tlearn: 5.4723573\ttotal: 7.85s\tremaining: 8.43s\n",
      "241:\tlearn: 5.4686615\ttotal: 7.93s\tremaining: 8.46s\n",
      "242:\tlearn: 5.4651318\ttotal: 7.94s\tremaining: 8.4s\n",
      "243:\tlearn: 5.4622742\ttotal: 7.95s\tremaining: 8.34s\n",
      "244:\tlearn: 5.4590602\ttotal: 8.04s\tremaining: 8.37s\n",
      "245:\tlearn: 5.4555177\ttotal: 8.04s\tremaining: 8.3s\n",
      "246:\tlearn: 5.4522308\ttotal: 8.05s\tremaining: 8.24s\n",
      "247:\tlearn: 5.4490669\ttotal: 8.14s\tremaining: 8.27s\n",
      "248:\tlearn: 5.4455411\ttotal: 8.14s\tremaining: 8.21s\n",
      "249:\tlearn: 5.4421561\ttotal: 8.23s\tremaining: 8.23s\n",
      "250:\tlearn: 5.4386083\ttotal: 8.24s\tremaining: 8.17s\n",
      "251:\tlearn: 5.4355230\ttotal: 8.24s\tremaining: 8.11s\n",
      "252:\tlearn: 5.4324592\ttotal: 8.34s\tremaining: 8.14s\n",
      "253:\tlearn: 5.4289062\ttotal: 8.34s\tremaining: 8.08s\n",
      "254:\tlearn: 5.4261072\ttotal: 8.43s\tremaining: 8.1s\n",
      "255:\tlearn: 5.4229355\ttotal: 8.44s\tremaining: 8.04s\n",
      "256:\tlearn: 5.4194243\ttotal: 8.44s\tremaining: 7.98s\n",
      "257:\tlearn: 5.4165106\ttotal: 8.53s\tremaining: 8s\n",
      "258:\tlearn: 5.4125129\ttotal: 8.54s\tremaining: 7.94s\n",
      "259:\tlearn: 5.4096846\ttotal: 8.63s\tremaining: 7.96s\n",
      "260:\tlearn: 5.4066250\ttotal: 8.63s\tremaining: 7.9s\n",
      "261:\tlearn: 5.4035535\ttotal: 8.64s\tremaining: 7.85s\n",
      "262:\tlearn: 5.4002236\ttotal: 8.72s\tremaining: 7.86s\n",
      "263:\tlearn: 5.3974575\ttotal: 8.73s\tremaining: 7.81s\n",
      "264:\tlearn: 5.3944549\ttotal: 8.74s\tremaining: 7.75s\n",
      "265:\tlearn: 5.3919688\ttotal: 8.82s\tremaining: 7.76s\n",
      "266:\tlearn: 5.3890483\ttotal: 8.83s\tremaining: 7.71s\n",
      "267:\tlearn: 5.3856330\ttotal: 8.84s\tremaining: 7.65s\n",
      "268:\tlearn: 5.3824619\ttotal: 8.92s\tremaining: 7.66s\n",
      "269:\tlearn: 5.3793053\ttotal: 8.93s\tremaining: 7.61s\n",
      "270:\tlearn: 5.3760242\ttotal: 8.94s\tremaining: 7.55s\n",
      "271:\tlearn: 5.3727931\ttotal: 9.03s\tremaining: 7.57s\n",
      "272:\tlearn: 5.3699323\ttotal: 9.03s\tremaining: 7.51s\n",
      "273:\tlearn: 5.3667325\ttotal: 9.04s\tremaining: 7.46s\n",
      "274:\tlearn: 5.3636412\ttotal: 9.12s\tremaining: 7.46s\n",
      "275:\tlearn: 5.3611553\ttotal: 9.13s\tremaining: 7.41s\n",
      "276:\tlearn: 5.3588007\ttotal: 9.13s\tremaining: 7.35s\n",
      "277:\tlearn: 5.3561930\ttotal: 9.22s\tremaining: 7.36s\n",
      "278:\tlearn: 5.3528071\ttotal: 9.23s\tremaining: 7.31s\n",
      "279:\tlearn: 5.3500251\ttotal: 9.23s\tremaining: 7.25s\n",
      "280:\tlearn: 5.3472443\ttotal: 9.32s\tremaining: 7.26s\n",
      "281:\tlearn: 5.3442441\ttotal: 9.32s\tremaining: 7.21s\n",
      "282:\tlearn: 5.3411821\ttotal: 9.33s\tremaining: 7.16s\n",
      "283:\tlearn: 5.3381453\ttotal: 9.42s\tremaining: 7.16s\n",
      "284:\tlearn: 5.3355392\ttotal: 9.43s\tremaining: 7.11s\n",
      "285:\tlearn: 5.3328834\ttotal: 9.44s\tremaining: 7.06s\n",
      "286:\tlearn: 5.3297459\ttotal: 9.52s\tremaining: 7.06s\n",
      "287:\tlearn: 5.3269592\ttotal: 9.52s\tremaining: 7.01s\n",
      "288:\tlearn: 5.3245337\ttotal: 9.53s\tremaining: 6.96s\n",
      "289:\tlearn: 5.3219392\ttotal: 9.62s\tremaining: 6.96s\n",
      "290:\tlearn: 5.3192229\ttotal: 9.62s\tremaining: 6.91s\n",
      "291:\tlearn: 5.3167518\ttotal: 9.71s\tremaining: 6.92s\n",
      "292:\tlearn: 5.3140690\ttotal: 9.72s\tremaining: 6.87s\n",
      "293:\tlearn: 5.3116871\ttotal: 9.72s\tremaining: 6.81s\n",
      "294:\tlearn: 5.3091539\ttotal: 9.73s\tremaining: 6.76s\n",
      "295:\tlearn: 5.3065295\ttotal: 9.82s\tremaining: 6.76s\n",
      "296:\tlearn: 5.3039192\ttotal: 9.82s\tremaining: 6.71s\n",
      "297:\tlearn: 5.3015826\ttotal: 9.91s\tremaining: 6.72s\n",
      "298:\tlearn: 5.2986500\ttotal: 9.92s\tremaining: 6.67s\n",
      "299:\tlearn: 5.2962604\ttotal: 10s\tremaining: 6.67s\n",
      "300:\tlearn: 5.2936606\ttotal: 10s\tremaining: 6.62s\n",
      "301:\tlearn: 5.2911703\ttotal: 10s\tremaining: 6.57s\n",
      "302:\tlearn: 5.2892083\ttotal: 10.1s\tremaining: 6.57s\n",
      "303:\tlearn: 5.2864433\ttotal: 10.1s\tremaining: 6.52s\n",
      "304:\tlearn: 5.2839251\ttotal: 10.1s\tremaining: 6.47s\n",
      "305:\tlearn: 5.2815995\ttotal: 10.2s\tremaining: 6.47s\n",
      "306:\tlearn: 5.2791666\ttotal: 10.2s\tremaining: 6.42s\n",
      "307:\tlearn: 5.2760572\ttotal: 10.2s\tremaining: 6.38s\n",
      "308:\tlearn: 5.2733514\ttotal: 10.3s\tremaining: 6.37s\n",
      "309:\tlearn: 5.2703868\ttotal: 10.3s\tremaining: 6.33s\n",
      "310:\tlearn: 5.2675509\ttotal: 10.4s\tremaining: 6.32s\n",
      "311:\tlearn: 5.2647570\ttotal: 10.4s\tremaining: 6.28s\n",
      "312:\tlearn: 5.2626375\ttotal: 10.4s\tremaining: 6.23s\n",
      "313:\tlearn: 5.2599631\ttotal: 10.5s\tremaining: 6.22s\n",
      "314:\tlearn: 5.2577677\ttotal: 10.5s\tremaining: 6.17s\n",
      "315:\tlearn: 5.2558275\ttotal: 10.6s\tremaining: 6.17s\n",
      "316:\tlearn: 5.2537249\ttotal: 10.6s\tremaining: 6.12s\n",
      "317:\tlearn: 5.2513395\ttotal: 10.6s\tremaining: 6.08s\n",
      "318:\tlearn: 5.2491340\ttotal: 10.6s\tremaining: 6.03s\n",
      "319:\tlearn: 5.2464297\ttotal: 10.7s\tremaining: 6.02s\n",
      "320:\tlearn: 5.2440644\ttotal: 10.7s\tremaining: 5.97s\n",
      "321:\tlearn: 5.2423639\ttotal: 10.7s\tremaining: 5.92s\n",
      "322:\tlearn: 5.2396778\ttotal: 10.8s\tremaining: 5.92s\n",
      "323:\tlearn: 5.2368841\ttotal: 10.8s\tremaining: 5.87s\n",
      "324:\tlearn: 5.2345533\ttotal: 10.8s\tremaining: 5.82s\n",
      "325:\tlearn: 5.2315949\ttotal: 10.9s\tremaining: 5.81s\n",
      "326:\tlearn: 5.2297877\ttotal: 10.9s\tremaining: 5.76s\n",
      "327:\tlearn: 5.2270172\ttotal: 10.9s\tremaining: 5.72s\n",
      "328:\tlearn: 5.2243648\ttotal: 11s\tremaining: 5.71s\n",
      "329:\tlearn: 5.2225206\ttotal: 11s\tremaining: 5.66s\n",
      "330:\tlearn: 5.2195036\ttotal: 11.1s\tremaining: 5.66s\n",
      "331:\tlearn: 5.2167716\ttotal: 11.1s\tremaining: 5.61s\n",
      "332:\tlearn: 5.2144723\ttotal: 11.1s\tremaining: 5.57s\n",
      "333:\tlearn: 5.2124393\ttotal: 11.2s\tremaining: 5.56s\n",
      "334:\tlearn: 5.2101741\ttotal: 11.2s\tremaining: 5.51s\n",
      "335:\tlearn: 5.2084465\ttotal: 11.2s\tremaining: 5.46s\n",
      "336:\tlearn: 5.2056996\ttotal: 11.3s\tremaining: 5.46s\n",
      "337:\tlearn: 5.2035881\ttotal: 11.3s\tremaining: 5.41s\n",
      "338:\tlearn: 5.2009477\ttotal: 11.4s\tremaining: 5.4s\n",
      "339:\tlearn: 5.1980705\ttotal: 11.4s\tremaining: 5.36s\n",
      "340:\tlearn: 5.1957421\ttotal: 11.4s\tremaining: 5.31s\n",
      "341:\tlearn: 5.1936657\ttotal: 11.5s\tremaining: 5.3s\n",
      "342:\tlearn: 5.1914520\ttotal: 11.5s\tremaining: 5.26s\n",
      "343:\tlearn: 5.1892766\ttotal: 11.5s\tremaining: 5.21s\n",
      "344:\tlearn: 5.1873549\ttotal: 11.6s\tremaining: 5.2s\n",
      "345:\tlearn: 5.1849121\ttotal: 11.6s\tremaining: 5.16s\n",
      "346:\tlearn: 5.1826271\ttotal: 11.6s\tremaining: 5.11s\n",
      "347:\tlearn: 5.1804109\ttotal: 11.7s\tremaining: 5.1s\n",
      "348:\tlearn: 5.1783093\ttotal: 11.7s\tremaining: 5.06s\n",
      "349:\tlearn: 5.1759418\ttotal: 11.8s\tremaining: 5.05s\n",
      "350:\tlearn: 5.1737876\ttotal: 11.8s\tremaining: 5s\n",
      "351:\tlearn: 5.1717303\ttotal: 11.8s\tremaining: 4.96s\n",
      "352:\tlearn: 5.1694585\ttotal: 11.9s\tremaining: 4.95s\n",
      "353:\tlearn: 5.1676372\ttotal: 11.9s\tremaining: 4.9s\n",
      "354:\tlearn: 5.1656327\ttotal: 12s\tremaining: 4.89s\n",
      "355:\tlearn: 5.1639488\ttotal: 12s\tremaining: 4.85s\n",
      "356:\tlearn: 5.1611247\ttotal: 12s\tremaining: 4.8s\n",
      "357:\tlearn: 5.1588082\ttotal: 12.1s\tremaining: 4.79s\n",
      "358:\tlearn: 5.1566539\ttotal: 12.1s\tremaining: 4.75s\n",
      "359:\tlearn: 5.1552098\ttotal: 12.1s\tremaining: 4.71s\n",
      "360:\tlearn: 5.1531151\ttotal: 12.2s\tremaining: 4.69s\n",
      "361:\tlearn: 5.1513455\ttotal: 12.2s\tremaining: 4.64s\n",
      "362:\tlearn: 5.1492829\ttotal: 12.3s\tremaining: 4.63s\n",
      "363:\tlearn: 5.1469361\ttotal: 12.3s\tremaining: 4.59s\n",
      "364:\tlearn: 5.1441388\ttotal: 12.3s\tremaining: 4.54s\n",
      "365:\tlearn: 5.1416126\ttotal: 12.4s\tremaining: 4.53s\n",
      "366:\tlearn: 5.1398958\ttotal: 12.4s\tremaining: 4.49s\n",
      "367:\tlearn: 5.1376791\ttotal: 12.5s\tremaining: 4.47s\n",
      "368:\tlearn: 5.1354713\ttotal: 12.5s\tremaining: 4.43s\n",
      "369:\tlearn: 5.1337804\ttotal: 12.5s\tremaining: 4.38s\n",
      "370:\tlearn: 5.1313650\ttotal: 12.6s\tremaining: 4.37s\n",
      "371:\tlearn: 5.1295796\ttotal: 12.6s\tremaining: 4.33s\n",
      "372:\tlearn: 5.1280978\ttotal: 12.6s\tremaining: 4.28s\n",
      "373:\tlearn: 5.1258163\ttotal: 12.7s\tremaining: 4.27s\n",
      "374:\tlearn: 5.1235582\ttotal: 12.7s\tremaining: 4.22s\n",
      "375:\tlearn: 5.1218979\ttotal: 12.8s\tremaining: 4.21s\n",
      "376:\tlearn: 5.1195211\ttotal: 12.8s\tremaining: 4.17s\n",
      "377:\tlearn: 5.1176709\ttotal: 12.9s\tremaining: 4.15s\n",
      "378:\tlearn: 5.1161356\ttotal: 12.9s\tremaining: 4.11s\n",
      "379:\tlearn: 5.1141056\ttotal: 12.9s\tremaining: 4.07s\n",
      "380:\tlearn: 5.1119526\ttotal: 13s\tremaining: 4.05s\n",
      "381:\tlearn: 5.1101127\ttotal: 13s\tremaining: 4.01s\n",
      "382:\tlearn: 5.1080139\ttotal: 13.1s\tremaining: 3.99s\n",
      "383:\tlearn: 5.1058784\ttotal: 13.1s\tremaining: 3.95s\n",
      "384:\tlearn: 5.1042327\ttotal: 13.2s\tremaining: 3.93s\n",
      "385:\tlearn: 5.1023867\ttotal: 13.2s\tremaining: 3.89s\n",
      "386:\tlearn: 5.1004877\ttotal: 13.2s\tremaining: 3.85s\n",
      "387:\tlearn: 5.0982182\ttotal: 13.3s\tremaining: 3.83s\n",
      "388:\tlearn: 5.0960501\ttotal: 13.3s\tremaining: 3.79s\n",
      "389:\tlearn: 5.0940626\ttotal: 13.4s\tremaining: 3.77s\n",
      "390:\tlearn: 5.0917436\ttotal: 13.4s\tremaining: 3.73s\n",
      "391:\tlearn: 5.0899814\ttotal: 13.4s\tremaining: 3.68s\n",
      "392:\tlearn: 5.0881010\ttotal: 13.5s\tremaining: 3.66s\n",
      "393:\tlearn: 5.0861472\ttotal: 13.5s\tremaining: 3.62s\n",
      "394:\tlearn: 5.0838502\ttotal: 13.5s\tremaining: 3.58s\n",
      "395:\tlearn: 5.0809544\ttotal: 13.6s\tremaining: 3.56s\n",
      "396:\tlearn: 5.0791793\ttotal: 13.6s\tremaining: 3.52s\n",
      "397:\tlearn: 5.0767027\ttotal: 13.7s\tremaining: 3.5s\n",
      "398:\tlearn: 5.0747343\ttotal: 13.7s\tremaining: 3.46s\n",
      "399:\tlearn: 5.0728363\ttotal: 13.7s\tremaining: 3.42s\n",
      "400:\tlearn: 5.0710838\ttotal: 13.8s\tremaining: 3.4s\n",
      "401:\tlearn: 5.0692346\ttotal: 13.8s\tremaining: 3.35s\n",
      "402:\tlearn: 5.0673091\ttotal: 13.8s\tremaining: 3.31s\n",
      "403:\tlearn: 5.0653815\ttotal: 13.9s\tremaining: 3.29s\n",
      "404:\tlearn: 5.0637099\ttotal: 13.9s\tremaining: 3.25s\n",
      "405:\tlearn: 5.0617372\ttotal: 13.9s\tremaining: 3.21s\n",
      "406:\tlearn: 5.0597860\ttotal: 14s\tremaining: 3.19s\n",
      "407:\tlearn: 5.0578451\ttotal: 14s\tremaining: 3.15s\n",
      "408:\tlearn: 5.0563210\ttotal: 14.1s\tremaining: 3.13s\n",
      "409:\tlearn: 5.0545499\ttotal: 14.1s\tremaining: 3.08s\n",
      "410:\tlearn: 5.0522149\ttotal: 14.1s\tremaining: 3.04s\n",
      "411:\tlearn: 5.0507260\ttotal: 14.2s\tremaining: 3.02s\n",
      "412:\tlearn: 5.0485519\ttotal: 14.2s\tremaining: 2.98s\n",
      "413:\tlearn: 5.0472451\ttotal: 14.2s\tremaining: 2.96s\n",
      "414:\tlearn: 5.0456661\ttotal: 14.3s\tremaining: 2.92s\n",
      "415:\tlearn: 5.0442076\ttotal: 14.3s\tremaining: 2.88s\n",
      "416:\tlearn: 5.0426876\ttotal: 14.4s\tremaining: 2.86s\n",
      "417:\tlearn: 5.0413631\ttotal: 14.4s\tremaining: 2.82s\n",
      "418:\tlearn: 5.0402226\ttotal: 14.4s\tremaining: 2.79s\n",
      "419:\tlearn: 5.0386337\ttotal: 14.5s\tremaining: 2.75s\n",
      "420:\tlearn: 5.0367239\ttotal: 14.5s\tremaining: 2.71s\n",
      "421:\tlearn: 5.0344954\ttotal: 14.5s\tremaining: 2.69s\n",
      "422:\tlearn: 5.0322619\ttotal: 14.6s\tremaining: 2.65s\n",
      "423:\tlearn: 5.0303787\ttotal: 14.6s\tremaining: 2.62s\n",
      "424:\tlearn: 5.0287712\ttotal: 14.6s\tremaining: 2.58s\n",
      "425:\tlearn: 5.0272886\ttotal: 14.7s\tremaining: 2.54s\n",
      "426:\tlearn: 5.0255201\ttotal: 14.7s\tremaining: 2.52s\n",
      "427:\tlearn: 5.0236628\ttotal: 14.8s\tremaining: 2.48s\n",
      "428:\tlearn: 5.0217858\ttotal: 14.8s\tremaining: 2.44s\n",
      "429:\tlearn: 5.0194457\ttotal: 14.8s\tremaining: 2.42s\n",
      "430:\tlearn: 5.0180158\ttotal: 14.9s\tremaining: 2.38s\n",
      "431:\tlearn: 5.0161916\ttotal: 14.9s\tremaining: 2.35s\n",
      "432:\tlearn: 5.0150588\ttotal: 14.9s\tremaining: 2.31s\n",
      "433:\tlearn: 5.0133766\ttotal: 15s\tremaining: 2.27s\n",
      "434:\tlearn: 5.0119400\ttotal: 15s\tremaining: 2.25s\n",
      "435:\tlearn: 5.0102807\ttotal: 15.1s\tremaining: 2.21s\n",
      "436:\tlearn: 5.0081793\ttotal: 15.1s\tremaining: 2.18s\n",
      "437:\tlearn: 5.0059810\ttotal: 15.1s\tremaining: 2.14s\n",
      "438:\tlearn: 5.0046882\ttotal: 15.2s\tremaining: 2.1s\n",
      "439:\tlearn: 5.0033824\ttotal: 15.2s\tremaining: 2.08s\n",
      "440:\tlearn: 5.0013731\ttotal: 15.2s\tremaining: 2.04s\n",
      "441:\tlearn: 4.9993050\ttotal: 15.3s\tremaining: 2.01s\n",
      "442:\tlearn: 4.9975322\ttotal: 15.3s\tremaining: 1.97s\n",
      "443:\tlearn: 4.9958658\ttotal: 15.3s\tremaining: 1.94s\n",
      "444:\tlearn: 4.9933358\ttotal: 15.4s\tremaining: 1.91s\n",
      "445:\tlearn: 4.9916938\ttotal: 15.4s\tremaining: 1.87s\n",
      "446:\tlearn: 4.9901488\ttotal: 15.5s\tremaining: 1.84s\n",
      "447:\tlearn: 4.9883869\ttotal: 15.5s\tremaining: 1.8s\n",
      "448:\tlearn: 4.9868690\ttotal: 15.6s\tremaining: 1.78s\n",
      "449:\tlearn: 4.9849813\ttotal: 15.6s\tremaining: 1.74s\n",
      "450:\tlearn: 4.9835971\ttotal: 15.6s\tremaining: 1.7s\n",
      "451:\tlearn: 4.9819381\ttotal: 15.7s\tremaining: 1.67s\n",
      "452:\tlearn: 4.9807846\ttotal: 15.8s\tremaining: 1.63s\n",
      "453:\tlearn: 4.9794380\ttotal: 15.8s\tremaining: 1.6s\n",
      "454:\tlearn: 4.9775602\ttotal: 15.8s\tremaining: 1.57s\n",
      "455:\tlearn: 4.9762645\ttotal: 15.8s\tremaining: 1.53s\n",
      "456:\tlearn: 4.9747829\ttotal: 15.9s\tremaining: 1.5s\n",
      "457:\tlearn: 4.9730085\ttotal: 15.9s\tremaining: 1.46s\n",
      "458:\tlearn: 4.9714118\ttotal: 15.9s\tremaining: 1.42s\n",
      "459:\tlearn: 4.9698836\ttotal: 16s\tremaining: 1.39s\n",
      "460:\tlearn: 4.9680728\ttotal: 16s\tremaining: 1.36s\n",
      "461:\tlearn: 4.9661493\ttotal: 16.1s\tremaining: 1.33s\n",
      "462:\tlearn: 4.9644987\ttotal: 16.1s\tremaining: 1.29s\n",
      "463:\tlearn: 4.9628928\ttotal: 16.1s\tremaining: 1.25s\n",
      "464:\tlearn: 4.9611494\ttotal: 16.2s\tremaining: 1.22s\n",
      "465:\tlearn: 4.9597772\ttotal: 16.2s\tremaining: 1.18s\n",
      "466:\tlearn: 4.9579583\ttotal: 16.3s\tremaining: 1.15s\n",
      "467:\tlearn: 4.9563609\ttotal: 16.3s\tremaining: 1.12s\n",
      "468:\tlearn: 4.9545703\ttotal: 16.3s\tremaining: 1.08s\n",
      "469:\tlearn: 4.9525421\ttotal: 16.4s\tremaining: 1.05s\n",
      "470:\tlearn: 4.9508233\ttotal: 16.4s\tremaining: 1.01s\n",
      "471:\tlearn: 4.9492178\ttotal: 16.5s\tremaining: 980ms\n",
      "472:\tlearn: 4.9477019\ttotal: 16.5s\tremaining: 944ms\n",
      "473:\tlearn: 4.9465672\ttotal: 16.5s\tremaining: 907ms\n",
      "474:\tlearn: 4.9441135\ttotal: 16.6s\tremaining: 875ms\n",
      "475:\tlearn: 4.9425428\ttotal: 16.6s\tremaining: 839ms\n",
      "476:\tlearn: 4.9406433\ttotal: 16.7s\tremaining: 806ms\n",
      "477:\tlearn: 4.9392024\ttotal: 16.7s\tremaining: 770ms\n",
      "478:\tlearn: 4.9375684\ttotal: 16.7s\tremaining: 734ms\n",
      "479:\tlearn: 4.9358251\ttotal: 16.8s\tremaining: 701ms\n",
      "480:\tlearn: 4.9341884\ttotal: 16.8s\tremaining: 665ms\n",
      "481:\tlearn: 4.9328944\ttotal: 16.9s\tremaining: 632ms\n",
      "482:\tlearn: 4.9317185\ttotal: 16.9s\tremaining: 596ms\n",
      "483:\tlearn: 4.9301925\ttotal: 16.9s\tremaining: 560ms\n",
      "484:\tlearn: 4.9280432\ttotal: 17s\tremaining: 526ms\n",
      "485:\tlearn: 4.9262553\ttotal: 17s\tremaining: 490ms\n",
      "486:\tlearn: 4.9247909\ttotal: 17s\tremaining: 455ms\n",
      "487:\tlearn: 4.9232668\ttotal: 17.1s\tremaining: 421ms\n",
      "488:\tlearn: 4.9216714\ttotal: 17.1s\tremaining: 385ms\n",
      "489:\tlearn: 4.9202399\ttotal: 17.1s\tremaining: 350ms\n",
      "490:\tlearn: 4.9187625\ttotal: 17.2s\tremaining: 316ms\n",
      "491:\tlearn: 4.9169227\ttotal: 17.2s\tremaining: 280ms\n",
      "492:\tlearn: 4.9157103\ttotal: 17.3s\tremaining: 246ms\n",
      "493:\tlearn: 4.9138907\ttotal: 17.3s\tremaining: 210ms\n",
      "494:\tlearn: 4.9124845\ttotal: 17.3s\tremaining: 175ms\n",
      "495:\tlearn: 4.9112429\ttotal: 17.3s\tremaining: 140ms\n",
      "496:\tlearn: 4.9096631\ttotal: 17.4s\tremaining: 105ms\n",
      "497:\tlearn: 4.9085809\ttotal: 17.4s\tremaining: 70ms\n",
      "498:\tlearn: 4.9072495\ttotal: 17.5s\tremaining: 35.1ms\n",
      "499:\tlearn: 4.9056548\ttotal: 17.5s\tremaining: 0us\n",
      "0:\tlearn: 8.3570732\ttotal: 2.47ms\tremaining: 1.23s\n",
      "1:\tlearn: 8.3283630\ttotal: 4.68ms\tremaining: 1.17s\n",
      "2:\tlearn: 8.2994172\ttotal: 7.03ms\tremaining: 1.16s\n",
      "3:\tlearn: 8.2721438\ttotal: 9.31ms\tremaining: 1.15s\n",
      "4:\tlearn: 8.2459400\ttotal: 97.4ms\tremaining: 9.64s\n",
      "5:\tlearn: 8.2203706\ttotal: 103ms\tremaining: 8.52s\n",
      "6:\tlearn: 8.1928606\ttotal: 194ms\tremaining: 13.6s\n",
      "7:\tlearn: 8.1674890\ttotal: 200ms\tremaining: 12.3s\n",
      "8:\tlearn: 8.1434555\ttotal: 206ms\tremaining: 11.2s\n",
      "9:\tlearn: 8.1167707\ttotal: 296ms\tremaining: 14.5s\n",
      "10:\tlearn: 8.0903515\ttotal: 303ms\tremaining: 13.5s\n",
      "11:\tlearn: 8.0679981\ttotal: 394ms\tremaining: 16s\n",
      "12:\tlearn: 8.0430084\ttotal: 401ms\tremaining: 15s\n",
      "13:\tlearn: 8.0194858\ttotal: 491ms\tremaining: 17s\n",
      "14:\tlearn: 7.9975319\ttotal: 498ms\tremaining: 16.1s\n",
      "15:\tlearn: 7.9748295\ttotal: 508ms\tremaining: 15.4s\n",
      "16:\tlearn: 7.9520826\ttotal: 593ms\tremaining: 16.8s\n",
      "17:\tlearn: 7.9283498\ttotal: 599ms\tremaining: 16s\n",
      "18:\tlearn: 7.9065258\ttotal: 688ms\tremaining: 17.4s\n",
      "19:\tlearn: 7.8835280\ttotal: 696ms\tremaining: 16.7s\n",
      "20:\tlearn: 7.8609694\ttotal: 703ms\tremaining: 16s\n",
      "21:\tlearn: 7.8371223\ttotal: 795ms\tremaining: 17.3s\n",
      "22:\tlearn: 7.8173987\ttotal: 802ms\tremaining: 16.6s\n",
      "23:\tlearn: 7.7960731\ttotal: 890ms\tremaining: 17.6s\n",
      "24:\tlearn: 7.7744815\ttotal: 896ms\tremaining: 17s\n",
      "25:\tlearn: 7.7539689\ttotal: 987ms\tremaining: 18s\n",
      "26:\tlearn: 7.7330193\ttotal: 993ms\tremaining: 17.4s\n",
      "27:\tlearn: 7.7137857\ttotal: 1000ms\tremaining: 16.9s\n",
      "28:\tlearn: 7.6924831\ttotal: 1.09s\tremaining: 17.7s\n",
      "29:\tlearn: 7.6713963\ttotal: 1.1s\tremaining: 17.2s\n",
      "30:\tlearn: 7.6508610\ttotal: 1.19s\tremaining: 18s\n",
      "31:\tlearn: 7.6290038\ttotal: 1.2s\tremaining: 17.5s\n",
      "32:\tlearn: 7.6072808\ttotal: 1.29s\tremaining: 18.2s\n",
      "33:\tlearn: 7.5888125\ttotal: 1.29s\tremaining: 17.7s\n",
      "34:\tlearn: 7.5681192\ttotal: 1.38s\tremaining: 18.3s\n",
      "35:\tlearn: 7.5487548\ttotal: 1.39s\tremaining: 17.9s\n",
      "36:\tlearn: 7.5283164\ttotal: 1.39s\tremaining: 17.4s\n",
      "37:\tlearn: 7.5094796\ttotal: 1.48s\tremaining: 18s\n",
      "38:\tlearn: 7.4894834\ttotal: 1.49s\tremaining: 17.6s\n",
      "39:\tlearn: 7.4714129\ttotal: 1.58s\tremaining: 18.2s\n",
      "40:\tlearn: 7.4530713\ttotal: 1.59s\tremaining: 17.8s\n",
      "41:\tlearn: 7.4346622\ttotal: 1.69s\tremaining: 18.4s\n",
      "42:\tlearn: 7.4153520\ttotal: 1.69s\tremaining: 18s\n",
      "43:\tlearn: 7.3963203\ttotal: 1.78s\tremaining: 18.4s\n",
      "44:\tlearn: 7.3780864\ttotal: 1.78s\tremaining: 18s\n",
      "45:\tlearn: 7.3612016\ttotal: 1.87s\tremaining: 18.5s\n",
      "46:\tlearn: 7.3427682\ttotal: 1.88s\tremaining: 18.2s\n",
      "47:\tlearn: 7.3257114\ttotal: 1.89s\tremaining: 17.8s\n",
      "48:\tlearn: 7.3079198\ttotal: 1.98s\tremaining: 18.2s\n",
      "49:\tlearn: 7.2907864\ttotal: 1.99s\tremaining: 17.9s\n",
      "50:\tlearn: 7.2729260\ttotal: 2.08s\tremaining: 18.3s\n",
      "51:\tlearn: 7.2551786\ttotal: 2.08s\tremaining: 17.9s\n",
      "52:\tlearn: 7.2353008\ttotal: 2.1s\tremaining: 17.7s\n",
      "53:\tlearn: 7.2166015\ttotal: 2.18s\tremaining: 18s\n",
      "54:\tlearn: 7.2005887\ttotal: 2.18s\tremaining: 17.7s\n",
      "55:\tlearn: 7.1833687\ttotal: 2.27s\tremaining: 18s\n",
      "56:\tlearn: 7.1649356\ttotal: 2.28s\tremaining: 17.7s\n",
      "57:\tlearn: 7.1491388\ttotal: 2.29s\tremaining: 17.4s\n",
      "58:\tlearn: 7.1331824\ttotal: 2.37s\tremaining: 17.7s\n",
      "59:\tlearn: 7.1174986\ttotal: 2.38s\tremaining: 17.4s\n",
      "60:\tlearn: 7.1010109\ttotal: 2.47s\tremaining: 17.8s\n",
      "61:\tlearn: 7.0856243\ttotal: 2.47s\tremaining: 17.5s\n",
      "62:\tlearn: 7.0685414\ttotal: 2.48s\tremaining: 17.2s\n",
      "63:\tlearn: 7.0527404\ttotal: 2.57s\tremaining: 17.5s\n",
      "64:\tlearn: 7.0377113\ttotal: 2.58s\tremaining: 17.3s\n",
      "65:\tlearn: 7.0213974\ttotal: 2.67s\tremaining: 17.5s\n",
      "66:\tlearn: 7.0060674\ttotal: 2.67s\tremaining: 17.3s\n",
      "67:\tlearn: 6.9911396\ttotal: 2.77s\tremaining: 17.6s\n",
      "68:\tlearn: 6.9763061\ttotal: 2.77s\tremaining: 17.3s\n",
      "69:\tlearn: 6.9626681\ttotal: 2.78s\tremaining: 17.1s\n",
      "70:\tlearn: 6.9496512\ttotal: 2.87s\tremaining: 17.3s\n",
      "71:\tlearn: 6.9340410\ttotal: 2.87s\tremaining: 17.1s\n",
      "72:\tlearn: 6.9210968\ttotal: 2.96s\tremaining: 17.3s\n",
      "73:\tlearn: 6.9060797\ttotal: 2.97s\tremaining: 17.1s\n",
      "74:\tlearn: 6.8924187\ttotal: 3.06s\tremaining: 17.3s\n",
      "75:\tlearn: 6.8770982\ttotal: 3.06s\tremaining: 17.1s\n",
      "76:\tlearn: 6.8635179\ttotal: 3.07s\tremaining: 16.9s\n",
      "77:\tlearn: 6.8497483\ttotal: 3.16s\tremaining: 17.1s\n",
      "78:\tlearn: 6.8371609\ttotal: 3.17s\tremaining: 16.9s\n",
      "79:\tlearn: 6.8235681\ttotal: 3.26s\tremaining: 17.1s\n",
      "80:\tlearn: 6.8109383\ttotal: 3.27s\tremaining: 16.9s\n",
      "81:\tlearn: 6.7984778\ttotal: 3.27s\tremaining: 16.7s\n",
      "82:\tlearn: 6.7839666\ttotal: 3.36s\tremaining: 16.9s\n",
      "83:\tlearn: 6.7711268\ttotal: 3.37s\tremaining: 16.7s\n",
      "84:\tlearn: 6.7577301\ttotal: 3.46s\tremaining: 16.9s\n",
      "85:\tlearn: 6.7444761\ttotal: 3.47s\tremaining: 16.7s\n",
      "86:\tlearn: 6.7327824\ttotal: 3.56s\tremaining: 16.9s\n",
      "87:\tlearn: 6.7218073\ttotal: 3.57s\tremaining: 16.7s\n",
      "88:\tlearn: 6.7100636\ttotal: 3.65s\tremaining: 16.9s\n",
      "89:\tlearn: 6.6963597\ttotal: 3.66s\tremaining: 16.7s\n",
      "90:\tlearn: 6.6839220\ttotal: 3.75s\tremaining: 16.9s\n",
      "91:\tlearn: 6.6713284\ttotal: 3.76s\tremaining: 16.7s\n",
      "92:\tlearn: 6.6603911\ttotal: 3.85s\tremaining: 16.9s\n",
      "93:\tlearn: 6.6492519\ttotal: 3.86s\tremaining: 16.7s\n",
      "94:\tlearn: 6.6379510\ttotal: 3.88s\tremaining: 16.5s\n",
      "95:\tlearn: 6.6271346\ttotal: 3.96s\tremaining: 16.6s\n",
      "96:\tlearn: 6.6156514\ttotal: 3.97s\tremaining: 16.5s\n",
      "97:\tlearn: 6.6045782\ttotal: 4.05s\tremaining: 16.6s\n",
      "98:\tlearn: 6.5914548\ttotal: 4.06s\tremaining: 16.4s\n",
      "99:\tlearn: 6.5796242\ttotal: 4.15s\tremaining: 16.6s\n",
      "100:\tlearn: 6.5701578\ttotal: 4.16s\tremaining: 16.4s\n",
      "101:\tlearn: 6.5595645\ttotal: 4.16s\tremaining: 16.2s\n",
      "102:\tlearn: 6.5495798\ttotal: 4.25s\tremaining: 16.4s\n",
      "103:\tlearn: 6.5376743\ttotal: 4.26s\tremaining: 16.2s\n",
      "104:\tlearn: 6.5272235\ttotal: 4.35s\tremaining: 16.4s\n",
      "105:\tlearn: 6.5170145\ttotal: 4.36s\tremaining: 16.2s\n",
      "106:\tlearn: 6.5066204\ttotal: 4.45s\tremaining: 16.3s\n",
      "107:\tlearn: 6.4958532\ttotal: 4.46s\tremaining: 16.2s\n",
      "108:\tlearn: 6.4842960\ttotal: 4.54s\tremaining: 16.3s\n",
      "109:\tlearn: 6.4741634\ttotal: 4.55s\tremaining: 16.1s\n",
      "110:\tlearn: 6.4635536\ttotal: 4.56s\tremaining: 16s\n",
      "111:\tlearn: 6.4529936\ttotal: 4.67s\tremaining: 16.2s\n",
      "112:\tlearn: 6.4428957\ttotal: 4.67s\tremaining: 16s\n",
      "113:\tlearn: 6.4338773\ttotal: 4.74s\tremaining: 16.1s\n",
      "114:\tlearn: 6.4237393\ttotal: 4.75s\tremaining: 15.9s\n",
      "115:\tlearn: 6.4137972\ttotal: 4.75s\tremaining: 15.7s\n",
      "116:\tlearn: 6.4040952\ttotal: 4.85s\tremaining: 15.9s\n",
      "117:\tlearn: 6.3948346\ttotal: 4.86s\tremaining: 15.7s\n",
      "118:\tlearn: 6.3843082\ttotal: 4.86s\tremaining: 15.6s\n",
      "119:\tlearn: 6.3741781\ttotal: 4.94s\tremaining: 15.6s\n",
      "120:\tlearn: 6.3653595\ttotal: 4.95s\tremaining: 15.5s\n",
      "121:\tlearn: 6.3568831\ttotal: 5.04s\tremaining: 15.6s\n",
      "122:\tlearn: 6.3473644\ttotal: 5.05s\tremaining: 15.5s\n",
      "123:\tlearn: 6.3390243\ttotal: 5.05s\tremaining: 15.3s\n",
      "124:\tlearn: 6.3303861\ttotal: 5.14s\tremaining: 15.4s\n",
      "125:\tlearn: 6.3204499\ttotal: 5.15s\tremaining: 15.3s\n",
      "126:\tlearn: 6.3121433\ttotal: 5.24s\tremaining: 15.4s\n",
      "127:\tlearn: 6.3037006\ttotal: 5.24s\tremaining: 15.2s\n",
      "128:\tlearn: 6.2949196\ttotal: 5.33s\tremaining: 15.3s\n",
      "129:\tlearn: 6.2867958\ttotal: 5.34s\tremaining: 15.2s\n",
      "130:\tlearn: 6.2786368\ttotal: 5.35s\tremaining: 15.1s\n",
      "131:\tlearn: 6.2700974\ttotal: 5.44s\tremaining: 15.2s\n",
      "132:\tlearn: 6.2604100\ttotal: 5.45s\tremaining: 15s\n",
      "133:\tlearn: 6.2520376\ttotal: 5.54s\tremaining: 15.1s\n",
      "134:\tlearn: 6.2428548\ttotal: 5.55s\tremaining: 15s\n",
      "135:\tlearn: 6.2335795\ttotal: 5.63s\tremaining: 15.1s\n",
      "136:\tlearn: 6.2265831\ttotal: 5.63s\tremaining: 14.9s\n",
      "137:\tlearn: 6.2183795\ttotal: 5.64s\tremaining: 14.8s\n",
      "138:\tlearn: 6.2101012\ttotal: 5.73s\tremaining: 14.9s\n",
      "139:\tlearn: 6.2009620\ttotal: 5.74s\tremaining: 14.8s\n",
      "140:\tlearn: 6.1931262\ttotal: 5.83s\tremaining: 14.8s\n",
      "141:\tlearn: 6.1859431\ttotal: 5.83s\tremaining: 14.7s\n",
      "142:\tlearn: 6.1768723\ttotal: 5.92s\tremaining: 14.8s\n",
      "143:\tlearn: 6.1689363\ttotal: 5.93s\tremaining: 14.7s\n",
      "144:\tlearn: 6.1620824\ttotal: 5.94s\tremaining: 14.5s\n",
      "145:\tlearn: 6.1548690\ttotal: 6.03s\tremaining: 14.6s\n",
      "146:\tlearn: 6.1480186\ttotal: 6.03s\tremaining: 14.5s\n",
      "147:\tlearn: 6.1411566\ttotal: 6.12s\tremaining: 14.6s\n",
      "148:\tlearn: 6.1338438\ttotal: 6.13s\tremaining: 14.4s\n",
      "149:\tlearn: 6.1264256\ttotal: 6.13s\tremaining: 14.3s\n",
      "150:\tlearn: 6.1193539\ttotal: 6.22s\tremaining: 14.4s\n",
      "151:\tlearn: 6.1110835\ttotal: 6.22s\tremaining: 14.3s\n",
      "152:\tlearn: 6.1038016\ttotal: 6.32s\tremaining: 14.3s\n",
      "153:\tlearn: 6.0971669\ttotal: 6.32s\tremaining: 14.2s\n",
      "154:\tlearn: 6.0890255\ttotal: 6.42s\tremaining: 14.3s\n",
      "155:\tlearn: 6.0811103\ttotal: 6.43s\tremaining: 14.2s\n",
      "156:\tlearn: 6.0747259\ttotal: 6.43s\tremaining: 14.1s\n",
      "157:\tlearn: 6.0683436\ttotal: 6.52s\tremaining: 14.1s\n",
      "158:\tlearn: 6.0623073\ttotal: 6.52s\tremaining: 14s\n",
      "159:\tlearn: 6.0557112\ttotal: 6.61s\tremaining: 14.1s\n",
      "160:\tlearn: 6.0489079\ttotal: 6.62s\tremaining: 13.9s\n",
      "161:\tlearn: 6.0424827\ttotal: 6.62s\tremaining: 13.8s\n",
      "162:\tlearn: 6.0357776\ttotal: 6.71s\tremaining: 13.9s\n",
      "163:\tlearn: 6.0293040\ttotal: 6.72s\tremaining: 13.8s\n",
      "164:\tlearn: 6.0226921\ttotal: 6.72s\tremaining: 13.7s\n",
      "165:\tlearn: 6.0161985\ttotal: 6.81s\tremaining: 13.7s\n",
      "166:\tlearn: 6.0106889\ttotal: 6.82s\tremaining: 13.6s\n",
      "167:\tlearn: 6.0045514\ttotal: 6.82s\tremaining: 13.5s\n",
      "168:\tlearn: 5.9991272\ttotal: 6.91s\tremaining: 13.5s\n",
      "169:\tlearn: 5.9931523\ttotal: 6.92s\tremaining: 13.4s\n",
      "170:\tlearn: 5.9864890\ttotal: 7.01s\tremaining: 13.5s\n",
      "171:\tlearn: 5.9799758\ttotal: 7.01s\tremaining: 13.4s\n",
      "172:\tlearn: 5.9744396\ttotal: 7.02s\tremaining: 13.3s\n",
      "173:\tlearn: 5.9685354\ttotal: 7.11s\tremaining: 13.3s\n",
      "174:\tlearn: 5.9633944\ttotal: 7.12s\tremaining: 13.2s\n",
      "175:\tlearn: 5.9573797\ttotal: 7.12s\tremaining: 13.1s\n",
      "176:\tlearn: 5.9512496\ttotal: 7.21s\tremaining: 13.2s\n",
      "177:\tlearn: 5.9457407\ttotal: 7.22s\tremaining: 13.1s\n",
      "178:\tlearn: 5.9407700\ttotal: 7.23s\tremaining: 13s\n",
      "179:\tlearn: 5.9347188\ttotal: 7.31s\tremaining: 13s\n",
      "180:\tlearn: 5.9290724\ttotal: 7.31s\tremaining: 12.9s\n",
      "181:\tlearn: 5.9235466\ttotal: 7.4s\tremaining: 12.9s\n",
      "182:\tlearn: 5.9185714\ttotal: 7.41s\tremaining: 12.8s\n",
      "183:\tlearn: 5.9134162\ttotal: 7.41s\tremaining: 12.7s\n",
      "184:\tlearn: 5.9079008\ttotal: 7.5s\tremaining: 12.8s\n",
      "185:\tlearn: 5.9021937\ttotal: 7.51s\tremaining: 12.7s\n",
      "186:\tlearn: 5.8975089\ttotal: 7.6s\tremaining: 12.7s\n",
      "187:\tlearn: 5.8919528\ttotal: 7.61s\tremaining: 12.6s\n",
      "188:\tlearn: 5.8869761\ttotal: 7.61s\tremaining: 12.5s\n",
      "189:\tlearn: 5.8818569\ttotal: 7.7s\tremaining: 12.6s\n",
      "190:\tlearn: 5.8766477\ttotal: 7.71s\tremaining: 12.5s\n",
      "191:\tlearn: 5.8710829\ttotal: 7.8s\tremaining: 12.5s\n",
      "192:\tlearn: 5.8648388\ttotal: 7.81s\tremaining: 12.4s\n",
      "193:\tlearn: 5.8597432\ttotal: 7.9s\tremaining: 12.5s\n",
      "194:\tlearn: 5.8547613\ttotal: 7.91s\tremaining: 12.4s\n",
      "195:\tlearn: 5.8504552\ttotal: 7.99s\tremaining: 12.4s\n",
      "196:\tlearn: 5.8444248\ttotal: 8s\tremaining: 12.3s\n",
      "197:\tlearn: 5.8399781\ttotal: 8.09s\tremaining: 12.3s\n",
      "198:\tlearn: 5.8353923\ttotal: 8.1s\tremaining: 12.3s\n",
      "199:\tlearn: 5.8308598\ttotal: 8.11s\tremaining: 12.2s\n",
      "200:\tlearn: 5.8260647\ttotal: 8.19s\tremaining: 12.2s\n",
      "201:\tlearn: 5.8214113\ttotal: 8.2s\tremaining: 12.1s\n",
      "202:\tlearn: 5.8162149\ttotal: 8.29s\tremaining: 12.1s\n",
      "203:\tlearn: 5.8120456\ttotal: 8.3s\tremaining: 12s\n",
      "204:\tlearn: 5.8079748\ttotal: 8.3s\tremaining: 11.9s\n",
      "205:\tlearn: 5.8030819\ttotal: 8.39s\tremaining: 12s\n",
      "206:\tlearn: 5.7985685\ttotal: 8.4s\tremaining: 11.9s\n",
      "207:\tlearn: 5.7941443\ttotal: 8.49s\tremaining: 11.9s\n",
      "208:\tlearn: 5.7897784\ttotal: 8.49s\tremaining: 11.8s\n",
      "209:\tlearn: 5.7850417\ttotal: 8.5s\tremaining: 11.7s\n",
      "210:\tlearn: 5.7808163\ttotal: 8.59s\tremaining: 11.8s\n",
      "211:\tlearn: 5.7754248\ttotal: 8.6s\tremaining: 11.7s\n",
      "212:\tlearn: 5.7710975\ttotal: 8.69s\tremaining: 11.7s\n",
      "213:\tlearn: 5.7669234\ttotal: 8.7s\tremaining: 11.6s\n",
      "214:\tlearn: 5.7622594\ttotal: 8.79s\tremaining: 11.6s\n",
      "215:\tlearn: 5.7581325\ttotal: 8.79s\tremaining: 11.6s\n",
      "216:\tlearn: 5.7540124\ttotal: 8.88s\tremaining: 11.6s\n",
      "217:\tlearn: 5.7498217\ttotal: 8.89s\tremaining: 11.5s\n",
      "218:\tlearn: 5.7452551\ttotal: 8.89s\tremaining: 11.4s\n",
      "219:\tlearn: 5.7409417\ttotal: 8.98s\tremaining: 11.4s\n",
      "220:\tlearn: 5.7371805\ttotal: 8.99s\tremaining: 11.4s\n",
      "221:\tlearn: 5.7326752\ttotal: 9.08s\tremaining: 11.4s\n",
      "222:\tlearn: 5.7284931\ttotal: 9.09s\tremaining: 11.3s\n",
      "223:\tlearn: 5.7248582\ttotal: 9.09s\tremaining: 11.2s\n",
      "224:\tlearn: 5.7211325\ttotal: 9.18s\tremaining: 11.2s\n",
      "225:\tlearn: 5.7174711\ttotal: 9.19s\tremaining: 11.1s\n",
      "226:\tlearn: 5.7136084\ttotal: 9.19s\tremaining: 11.1s\n",
      "227:\tlearn: 5.7098866\ttotal: 9.28s\tremaining: 11.1s\n",
      "228:\tlearn: 5.7056976\ttotal: 9.29s\tremaining: 11s\n",
      "229:\tlearn: 5.7015053\ttotal: 9.29s\tremaining: 10.9s\n",
      "230:\tlearn: 5.6973570\ttotal: 9.38s\tremaining: 10.9s\n",
      "231:\tlearn: 5.6937548\ttotal: 9.39s\tremaining: 10.8s\n",
      "232:\tlearn: 5.6899915\ttotal: 9.48s\tremaining: 10.9s\n",
      "233:\tlearn: 5.6862603\ttotal: 9.48s\tremaining: 10.8s\n",
      "234:\tlearn: 5.6826988\ttotal: 9.49s\tremaining: 10.7s\n",
      "235:\tlearn: 5.6789987\ttotal: 9.58s\tremaining: 10.7s\n",
      "236:\tlearn: 5.6750247\ttotal: 9.58s\tremaining: 10.6s\n",
      "237:\tlearn: 5.6711539\ttotal: 9.59s\tremaining: 10.6s\n",
      "238:\tlearn: 5.6676715\ttotal: 9.68s\tremaining: 10.6s\n",
      "239:\tlearn: 5.6638035\ttotal: 9.68s\tremaining: 10.5s\n",
      "240:\tlearn: 5.6601372\ttotal: 9.77s\tremaining: 10.5s\n",
      "241:\tlearn: 5.6559290\ttotal: 9.78s\tremaining: 10.4s\n",
      "242:\tlearn: 5.6523627\ttotal: 9.78s\tremaining: 10.3s\n",
      "243:\tlearn: 5.6490846\ttotal: 9.87s\tremaining: 10.4s\n",
      "244:\tlearn: 5.6458684\ttotal: 9.88s\tremaining: 10.3s\n",
      "245:\tlearn: 5.6424096\ttotal: 9.97s\tremaining: 10.3s\n",
      "246:\tlearn: 5.6389060\ttotal: 9.98s\tremaining: 10.2s\n",
      "247:\tlearn: 5.6356410\ttotal: 9.99s\tremaining: 10.1s\n",
      "248:\tlearn: 5.6321800\ttotal: 10.1s\tremaining: 10.2s\n",
      "249:\tlearn: 5.6288360\ttotal: 10.1s\tremaining: 10.1s\n",
      "250:\tlearn: 5.6256149\ttotal: 10.2s\tremaining: 10.1s\n",
      "251:\tlearn: 5.6225960\ttotal: 10.2s\tremaining: 10s\n",
      "252:\tlearn: 5.6194086\ttotal: 10.2s\tremaining: 9.94s\n",
      "253:\tlearn: 5.6154362\ttotal: 10.3s\tremaining: 9.95s\n",
      "254:\tlearn: 5.6120671\ttotal: 10.3s\tremaining: 9.87s\n",
      "255:\tlearn: 5.6086309\ttotal: 10.4s\tremaining: 9.88s\n",
      "256:\tlearn: 5.6054831\ttotal: 10.4s\tremaining: 9.81s\n",
      "257:\tlearn: 5.6025223\ttotal: 10.4s\tremaining: 9.73s\n",
      "258:\tlearn: 5.5981254\ttotal: 10.5s\tremaining: 9.74s\n",
      "259:\tlearn: 5.5949881\ttotal: 10.5s\tremaining: 9.67s\n",
      "260:\tlearn: 5.5916588\ttotal: 10.6s\tremaining: 9.67s\n",
      "261:\tlearn: 5.5890888\ttotal: 10.6s\tremaining: 9.6s\n",
      "262:\tlearn: 5.5861921\ttotal: 10.6s\tremaining: 9.53s\n",
      "263:\tlearn: 5.5833163\ttotal: 10.7s\tremaining: 9.53s\n",
      "264:\tlearn: 5.5798556\ttotal: 10.7s\tremaining: 9.46s\n",
      "265:\tlearn: 5.5766154\ttotal: 10.7s\tremaining: 9.39s\n",
      "266:\tlearn: 5.5738042\ttotal: 10.8s\tremaining: 9.39s\n",
      "267:\tlearn: 5.5708415\ttotal: 10.8s\tremaining: 9.32s\n",
      "268:\tlearn: 5.5674548\ttotal: 10.8s\tremaining: 9.25s\n",
      "269:\tlearn: 5.5646855\ttotal: 10.9s\tremaining: 9.25s\n",
      "270:\tlearn: 5.5615456\ttotal: 10.9s\tremaining: 9.19s\n",
      "271:\tlearn: 5.5576427\ttotal: 11s\tremaining: 9.19s\n",
      "272:\tlearn: 5.5548199\ttotal: 11s\tremaining: 9.12s\n",
      "273:\tlearn: 5.5518207\ttotal: 11s\tremaining: 9.05s\n",
      "274:\tlearn: 5.5490928\ttotal: 11.1s\tremaining: 9.05s\n",
      "275:\tlearn: 5.5461269\ttotal: 11.1s\tremaining: 8.98s\n",
      "276:\tlearn: 5.5429933\ttotal: 11.1s\tremaining: 8.91s\n",
      "277:\tlearn: 5.5398008\ttotal: 11.2s\tremaining: 8.91s\n",
      "278:\tlearn: 5.5371713\ttotal: 11.2s\tremaining: 8.85s\n",
      "279:\tlearn: 5.5343208\ttotal: 11.3s\tremaining: 8.85s\n",
      "280:\tlearn: 5.5313945\ttotal: 11.3s\tremaining: 8.78s\n",
      "281:\tlearn: 5.5282972\ttotal: 11.4s\tremaining: 8.78s\n",
      "282:\tlearn: 5.5256641\ttotal: 11.4s\tremaining: 8.71s\n",
      "283:\tlearn: 5.5228942\ttotal: 11.5s\tremaining: 8.71s\n",
      "284:\tlearn: 5.5198877\ttotal: 11.5s\tremaining: 8.65s\n",
      "285:\tlearn: 5.5175878\ttotal: 11.6s\tremaining: 8.64s\n",
      "286:\tlearn: 5.5144435\ttotal: 11.6s\tremaining: 8.58s\n",
      "287:\tlearn: 5.5114043\ttotal: 11.6s\tremaining: 8.51s\n",
      "288:\tlearn: 5.5086886\ttotal: 11.7s\tremaining: 8.51s\n",
      "289:\tlearn: 5.5055962\ttotal: 11.7s\tremaining: 8.45s\n",
      "290:\tlearn: 5.5032993\ttotal: 11.8s\tremaining: 8.44s\n",
      "291:\tlearn: 5.5008304\ttotal: 11.8s\tremaining: 8.38s\n",
      "292:\tlearn: 5.4978412\ttotal: 11.8s\tremaining: 8.37s\n",
      "293:\tlearn: 5.4953493\ttotal: 11.9s\tremaining: 8.31s\n",
      "294:\tlearn: 5.4932521\ttotal: 11.9s\tremaining: 8.24s\n",
      "295:\tlearn: 5.4902659\ttotal: 12s\tremaining: 8.24s\n",
      "296:\tlearn: 5.4878314\ttotal: 12s\tremaining: 8.18s\n",
      "297:\tlearn: 5.4854053\ttotal: 12.1s\tremaining: 8.17s\n",
      "298:\tlearn: 5.4829459\ttotal: 12.1s\tremaining: 8.11s\n",
      "299:\tlearn: 5.4799459\ttotal: 12.2s\tremaining: 8.1s\n",
      "300:\tlearn: 5.4771441\ttotal: 12.2s\tremaining: 8.04s\n",
      "301:\tlearn: 5.4747721\ttotal: 12.2s\tremaining: 8.03s\n",
      "302:\tlearn: 5.4723147\ttotal: 12.3s\tremaining: 7.97s\n",
      "303:\tlearn: 5.4695748\ttotal: 12.3s\tremaining: 7.9s\n",
      "304:\tlearn: 5.4673868\ttotal: 12.3s\tremaining: 7.89s\n",
      "305:\tlearn: 5.4651947\ttotal: 12.4s\tremaining: 7.83s\n",
      "306:\tlearn: 5.4626437\ttotal: 12.4s\tremaining: 7.83s\n",
      "307:\tlearn: 5.4602910\ttotal: 12.5s\tremaining: 7.76s\n",
      "308:\tlearn: 5.4580564\ttotal: 12.5s\tremaining: 7.75s\n",
      "309:\tlearn: 5.4555453\ttotal: 12.6s\tremaining: 7.69s\n",
      "310:\tlearn: 5.4533340\ttotal: 12.6s\tremaining: 7.68s\n",
      "311:\tlearn: 5.4513165\ttotal: 12.7s\tremaining: 7.62s\n",
      "312:\tlearn: 5.4491736\ttotal: 12.7s\tremaining: 7.61s\n",
      "313:\tlearn: 5.4470693\ttotal: 12.7s\tremaining: 7.55s\n",
      "314:\tlearn: 5.4448090\ttotal: 12.8s\tremaining: 7.49s\n",
      "315:\tlearn: 5.4428907\ttotal: 12.8s\tremaining: 7.48s\n",
      "316:\tlearn: 5.4405923\ttotal: 12.9s\tremaining: 7.43s\n",
      "317:\tlearn: 5.4386530\ttotal: 12.9s\tremaining: 7.41s\n",
      "318:\tlearn: 5.4368921\ttotal: 13s\tremaining: 7.35s\n",
      "319:\tlearn: 5.4345858\ttotal: 13s\tremaining: 7.33s\n",
      "320:\tlearn: 5.4322814\ttotal: 13s\tremaining: 7.28s\n",
      "321:\tlearn: 5.4299634\ttotal: 13.1s\tremaining: 7.21s\n",
      "322:\tlearn: 5.4277772\ttotal: 13.1s\tremaining: 7.2s\n",
      "323:\tlearn: 5.4253537\ttotal: 13.1s\tremaining: 7.14s\n",
      "324:\tlearn: 5.4231775\ttotal: 13.2s\tremaining: 7.08s\n",
      "325:\tlearn: 5.4211070\ttotal: 13.2s\tremaining: 7.07s\n",
      "326:\tlearn: 5.4189547\ttotal: 13.3s\tremaining: 7.01s\n",
      "327:\tlearn: 5.4167019\ttotal: 13.3s\tremaining: 6.99s\n",
      "328:\tlearn: 5.4148941\ttotal: 13.3s\tremaining: 6.93s\n",
      "329:\tlearn: 5.4128573\ttotal: 13.3s\tremaining: 6.88s\n",
      "330:\tlearn: 5.4107970\ttotal: 13.4s\tremaining: 6.86s\n",
      "331:\tlearn: 5.4086321\ttotal: 13.4s\tremaining: 6.8s\n",
      "332:\tlearn: 5.4065486\ttotal: 13.5s\tremaining: 6.79s\n",
      "333:\tlearn: 5.4045108\ttotal: 13.5s\tremaining: 6.73s\n",
      "334:\tlearn: 5.4016548\ttotal: 13.5s\tremaining: 6.67s\n",
      "335:\tlearn: 5.3993699\ttotal: 13.6s\tremaining: 6.66s\n",
      "336:\tlearn: 5.3972832\ttotal: 13.7s\tremaining: 6.61s\n",
      "337:\tlearn: 5.3952641\ttotal: 13.7s\tremaining: 6.58s\n",
      "338:\tlearn: 5.3927116\ttotal: 13.7s\tremaining: 6.53s\n",
      "339:\tlearn: 5.3901004\ttotal: 13.7s\tremaining: 6.47s\n",
      "340:\tlearn: 5.3882100\ttotal: 13.8s\tremaining: 6.45s\n",
      "341:\tlearn: 5.3863561\ttotal: 13.8s\tremaining: 6.39s\n",
      "342:\tlearn: 5.3843309\ttotal: 13.9s\tremaining: 6.38s\n",
      "343:\tlearn: 5.3825365\ttotal: 13.9s\tremaining: 6.32s\n",
      "344:\tlearn: 5.3799984\ttotal: 13.9s\tremaining: 6.26s\n",
      "345:\tlearn: 5.3779795\ttotal: 14s\tremaining: 6.25s\n",
      "346:\tlearn: 5.3760341\ttotal: 14s\tremaining: 6.19s\n",
      "347:\tlearn: 5.3737780\ttotal: 14s\tremaining: 6.13s\n",
      "348:\tlearn: 5.3714989\ttotal: 14.1s\tremaining: 6.12s\n",
      "349:\tlearn: 5.3694130\ttotal: 14.1s\tremaining: 6.06s\n",
      "350:\tlearn: 5.3669326\ttotal: 14.2s\tremaining: 6.01s\n",
      "351:\tlearn: 5.3650931\ttotal: 14.2s\tremaining: 5.98s\n",
      "352:\tlearn: 5.3627152\ttotal: 14.2s\tremaining: 5.93s\n",
      "353:\tlearn: 5.3600104\ttotal: 14.2s\tremaining: 5.87s\n",
      "354:\tlearn: 5.3585424\ttotal: 14.3s\tremaining: 5.85s\n",
      "355:\tlearn: 5.3566612\ttotal: 14.3s\tremaining: 5.8s\n",
      "356:\tlearn: 5.3544266\ttotal: 14.4s\tremaining: 5.78s\n",
      "357:\tlearn: 5.3527640\ttotal: 14.4s\tremaining: 5.72s\n",
      "358:\tlearn: 5.3505620\ttotal: 14.4s\tremaining: 5.67s\n",
      "359:\tlearn: 5.3489428\ttotal: 14.5s\tremaining: 5.65s\n",
      "360:\tlearn: 5.3471004\ttotal: 14.5s\tremaining: 5.59s\n",
      "361:\tlearn: 5.3451158\ttotal: 14.5s\tremaining: 5.54s\n",
      "362:\tlearn: 5.3432722\ttotal: 14.6s\tremaining: 5.52s\n",
      "363:\tlearn: 5.3411007\ttotal: 14.6s\tremaining: 5.47s\n",
      "364:\tlearn: 5.3390477\ttotal: 14.7s\tremaining: 5.45s\n",
      "365:\tlearn: 5.3371809\ttotal: 14.7s\tremaining: 5.39s\n",
      "366:\tlearn: 5.3354338\ttotal: 14.8s\tremaining: 5.37s\n",
      "367:\tlearn: 5.3337662\ttotal: 14.8s\tremaining: 5.32s\n",
      "368:\tlearn: 5.3320088\ttotal: 14.8s\tremaining: 5.26s\n",
      "369:\tlearn: 5.3305803\ttotal: 14.9s\tremaining: 5.24s\n",
      "370:\tlearn: 5.3288874\ttotal: 14.9s\tremaining: 5.19s\n",
      "371:\tlearn: 5.3271868\ttotal: 14.9s\tremaining: 5.14s\n",
      "372:\tlearn: 5.3256186\ttotal: 15s\tremaining: 5.11s\n",
      "373:\tlearn: 5.3230938\ttotal: 15s\tremaining: 5.06s\n",
      "374:\tlearn: 5.3214350\ttotal: 15s\tremaining: 5.01s\n",
      "375:\tlearn: 5.3197039\ttotal: 15.1s\tremaining: 4.99s\n",
      "376:\tlearn: 5.3180770\ttotal: 15.1s\tremaining: 4.93s\n",
      "377:\tlearn: 5.3163486\ttotal: 15.2s\tremaining: 4.91s\n",
      "378:\tlearn: 5.3148962\ttotal: 15.2s\tremaining: 4.86s\n",
      "379:\tlearn: 5.3127958\ttotal: 15.2s\tremaining: 4.81s\n",
      "380:\tlearn: 5.3114380\ttotal: 15.3s\tremaining: 4.78s\n",
      "381:\tlearn: 5.3097754\ttotal: 15.3s\tremaining: 4.73s\n",
      "382:\tlearn: 5.3080915\ttotal: 15.4s\tremaining: 4.71s\n",
      "383:\tlearn: 5.3059629\ttotal: 15.4s\tremaining: 4.66s\n",
      "384:\tlearn: 5.3042298\ttotal: 15.4s\tremaining: 4.61s\n",
      "385:\tlearn: 5.3025656\ttotal: 15.5s\tremaining: 4.58s\n",
      "386:\tlearn: 5.3003278\ttotal: 15.5s\tremaining: 4.53s\n",
      "387:\tlearn: 5.2981434\ttotal: 15.6s\tremaining: 4.5s\n",
      "388:\tlearn: 5.2965571\ttotal: 15.6s\tremaining: 4.46s\n",
      "389:\tlearn: 5.2951008\ttotal: 15.6s\tremaining: 4.41s\n",
      "390:\tlearn: 5.2935731\ttotal: 15.7s\tremaining: 4.38s\n",
      "391:\tlearn: 5.2924690\ttotal: 15.7s\tremaining: 4.33s\n",
      "392:\tlearn: 5.2904768\ttotal: 15.7s\tremaining: 4.28s\n",
      "393:\tlearn: 5.2889160\ttotal: 15.8s\tremaining: 4.25s\n",
      "394:\tlearn: 5.2873536\ttotal: 15.8s\tremaining: 4.2s\n",
      "395:\tlearn: 5.2856213\ttotal: 15.9s\tremaining: 4.18s\n",
      "396:\tlearn: 5.2836112\ttotal: 15.9s\tremaining: 4.13s\n",
      "397:\tlearn: 5.2819640\ttotal: 15.9s\tremaining: 4.08s\n",
      "398:\tlearn: 5.2803410\ttotal: 16s\tremaining: 4.05s\n",
      "399:\tlearn: 5.2782599\ttotal: 16s\tremaining: 4.01s\n",
      "400:\tlearn: 5.2766960\ttotal: 16.1s\tremaining: 3.98s\n",
      "401:\tlearn: 5.2752512\ttotal: 16.1s\tremaining: 3.93s\n",
      "402:\tlearn: 5.2733218\ttotal: 16.1s\tremaining: 3.88s\n",
      "403:\tlearn: 5.2715736\ttotal: 16.2s\tremaining: 3.85s\n",
      "404:\tlearn: 5.2695813\ttotal: 16.2s\tremaining: 3.8s\n",
      "405:\tlearn: 5.2680664\ttotal: 16.2s\tremaining: 3.75s\n",
      "406:\tlearn: 5.2667576\ttotal: 16.3s\tremaining: 3.73s\n",
      "407:\tlearn: 5.2654245\ttotal: 16.3s\tremaining: 3.68s\n",
      "408:\tlearn: 5.2639796\ttotal: 16.4s\tremaining: 3.65s\n",
      "409:\tlearn: 5.2624196\ttotal: 16.4s\tremaining: 3.6s\n",
      "410:\tlearn: 5.2608573\ttotal: 16.4s\tremaining: 3.56s\n",
      "411:\tlearn: 5.2595355\ttotal: 16.5s\tremaining: 3.52s\n",
      "412:\tlearn: 5.2584508\ttotal: 16.5s\tremaining: 3.48s\n",
      "413:\tlearn: 5.2563713\ttotal: 16.6s\tremaining: 3.45s\n",
      "414:\tlearn: 5.2551493\ttotal: 16.6s\tremaining: 3.4s\n",
      "415:\tlearn: 5.2537593\ttotal: 16.7s\tremaining: 3.37s\n",
      "416:\tlearn: 5.2525226\ttotal: 16.7s\tremaining: 3.32s\n",
      "417:\tlearn: 5.2509985\ttotal: 16.7s\tremaining: 3.28s\n",
      "418:\tlearn: 5.2492961\ttotal: 16.8s\tremaining: 3.25s\n",
      "419:\tlearn: 5.2472162\ttotal: 16.8s\tremaining: 3.2s\n",
      "420:\tlearn: 5.2455688\ttotal: 16.9s\tremaining: 3.17s\n",
      "421:\tlearn: 5.2440457\ttotal: 16.9s\tremaining: 3.12s\n",
      "422:\tlearn: 5.2422126\ttotal: 16.9s\tremaining: 3.08s\n",
      "423:\tlearn: 5.2404620\ttotal: 17s\tremaining: 3.05s\n",
      "424:\tlearn: 5.2389674\ttotal: 17s\tremaining: 3s\n",
      "425:\tlearn: 5.2375244\ttotal: 17.1s\tremaining: 2.97s\n",
      "426:\tlearn: 5.2360769\ttotal: 17.1s\tremaining: 2.92s\n",
      "427:\tlearn: 5.2346040\ttotal: 17.1s\tremaining: 2.88s\n",
      "428:\tlearn: 5.2333395\ttotal: 17.2s\tremaining: 2.85s\n",
      "429:\tlearn: 5.2314784\ttotal: 17.2s\tremaining: 2.8s\n",
      "430:\tlearn: 5.2301998\ttotal: 17.3s\tremaining: 2.77s\n",
      "431:\tlearn: 5.2282955\ttotal: 17.3s\tremaining: 2.72s\n",
      "432:\tlearn: 5.2269684\ttotal: 17.3s\tremaining: 2.68s\n",
      "433:\tlearn: 5.2254101\ttotal: 17.3s\tremaining: 2.63s\n",
      "434:\tlearn: 5.2240574\ttotal: 17.4s\tremaining: 2.6s\n",
      "435:\tlearn: 5.2229916\ttotal: 17.4s\tremaining: 2.55s\n",
      "436:\tlearn: 5.2211615\ttotal: 17.5s\tremaining: 2.52s\n",
      "437:\tlearn: 5.2200509\ttotal: 17.5s\tremaining: 2.48s\n",
      "438:\tlearn: 5.2186019\ttotal: 17.5s\tremaining: 2.43s\n",
      "439:\tlearn: 5.2174065\ttotal: 17.6s\tremaining: 2.4s\n",
      "440:\tlearn: 5.2160356\ttotal: 17.6s\tremaining: 2.35s\n",
      "441:\tlearn: 5.2148334\ttotal: 17.6s\tremaining: 2.31s\n",
      "442:\tlearn: 5.2132169\ttotal: 17.7s\tremaining: 2.27s\n",
      "443:\tlearn: 5.2120518\ttotal: 17.7s\tremaining: 2.23s\n",
      "444:\tlearn: 5.2099274\ttotal: 17.8s\tremaining: 2.2s\n",
      "445:\tlearn: 5.2084046\ttotal: 17.8s\tremaining: 2.15s\n",
      "446:\tlearn: 5.2071628\ttotal: 17.8s\tremaining: 2.11s\n",
      "447:\tlearn: 5.2057300\ttotal: 17.9s\tremaining: 2.08s\n",
      "448:\tlearn: 5.2039045\ttotal: 17.9s\tremaining: 2.03s\n",
      "449:\tlearn: 5.2025288\ttotal: 18s\tremaining: 2s\n",
      "450:\tlearn: 5.2012576\ttotal: 18s\tremaining: 1.95s\n",
      "451:\tlearn: 5.1998598\ttotal: 18.1s\tremaining: 1.92s\n",
      "452:\tlearn: 5.1984566\ttotal: 18.1s\tremaining: 1.88s\n",
      "453:\tlearn: 5.1971688\ttotal: 18.1s\tremaining: 1.83s\n",
      "454:\tlearn: 5.1955939\ttotal: 18.2s\tremaining: 1.8s\n",
      "455:\tlearn: 5.1941375\ttotal: 18.2s\tremaining: 1.75s\n",
      "456:\tlearn: 5.1923149\ttotal: 18.2s\tremaining: 1.71s\n",
      "457:\tlearn: 5.1911107\ttotal: 18.2s\tremaining: 1.67s\n",
      "458:\tlearn: 5.1895408\ttotal: 18.3s\tremaining: 1.63s\n",
      "459:\tlearn: 5.1876629\ttotal: 18.3s\tremaining: 1.59s\n",
      "460:\tlearn: 5.1860906\ttotal: 18.4s\tremaining: 1.55s\n",
      "461:\tlearn: 5.1840893\ttotal: 18.4s\tremaining: 1.51s\n",
      "462:\tlearn: 5.1822451\ttotal: 18.4s\tremaining: 1.47s\n",
      "463:\tlearn: 5.1809520\ttotal: 18.5s\tremaining: 1.43s\n",
      "464:\tlearn: 5.1795482\ttotal: 18.5s\tremaining: 1.39s\n",
      "465:\tlearn: 5.1785081\ttotal: 18.6s\tremaining: 1.35s\n",
      "466:\tlearn: 5.1775441\ttotal: 18.6s\tremaining: 1.31s\n",
      "467:\tlearn: 5.1763782\ttotal: 18.6s\tremaining: 1.27s\n",
      "468:\tlearn: 5.1743762\ttotal: 18.7s\tremaining: 1.23s\n",
      "469:\tlearn: 5.1726972\ttotal: 18.7s\tremaining: 1.19s\n",
      "470:\tlearn: 5.1711188\ttotal: 18.8s\tremaining: 1.16s\n",
      "471:\tlearn: 5.1699690\ttotal: 18.8s\tremaining: 1.11s\n",
      "472:\tlearn: 5.1687663\ttotal: 18.8s\tremaining: 1.07s\n",
      "473:\tlearn: 5.1675964\ttotal: 18.9s\tremaining: 1.03s\n",
      "474:\tlearn: 5.1662604\ttotal: 18.9s\tremaining: 993ms\n",
      "475:\tlearn: 5.1647768\ttotal: 18.9s\tremaining: 952ms\n",
      "476:\tlearn: 5.1634259\ttotal: 19s\tremaining: 915ms\n",
      "477:\tlearn: 5.1617866\ttotal: 19s\tremaining: 873ms\n",
      "478:\tlearn: 5.1604241\ttotal: 19.1s\tremaining: 836ms\n",
      "479:\tlearn: 5.1594080\ttotal: 19.1s\tremaining: 795ms\n",
      "480:\tlearn: 5.1583473\ttotal: 19.2s\tremaining: 757ms\n",
      "481:\tlearn: 5.1573045\ttotal: 19.2s\tremaining: 716ms\n",
      "482:\tlearn: 5.1563162\ttotal: 19.2s\tremaining: 675ms\n",
      "483:\tlearn: 5.1546890\ttotal: 19.3s\tremaining: 637ms\n",
      "484:\tlearn: 5.1534609\ttotal: 19.3s\tremaining: 596ms\n",
      "485:\tlearn: 5.1521778\ttotal: 19.3s\tremaining: 555ms\n",
      "486:\tlearn: 5.1509409\ttotal: 19.4s\tremaining: 517ms\n",
      "487:\tlearn: 5.1492056\ttotal: 19.4s\tremaining: 477ms\n",
      "488:\tlearn: 5.1480248\ttotal: 19.4s\tremaining: 436ms\n",
      "489:\tlearn: 5.1470778\ttotal: 19.5s\tremaining: 397ms\n",
      "490:\tlearn: 5.1457978\ttotal: 19.5s\tremaining: 357ms\n",
      "491:\tlearn: 5.1442340\ttotal: 19.5s\tremaining: 317ms\n",
      "492:\tlearn: 5.1422755\ttotal: 19.6s\tremaining: 278ms\n",
      "493:\tlearn: 5.1403931\ttotal: 19.6s\tremaining: 238ms\n",
      "494:\tlearn: 5.1391613\ttotal: 19.7s\tremaining: 199ms\n",
      "495:\tlearn: 5.1381303\ttotal: 19.7s\tremaining: 159ms\n",
      "496:\tlearn: 5.1366504\ttotal: 19.7s\tremaining: 119ms\n",
      "497:\tlearn: 5.1355219\ttotal: 19.8s\tremaining: 79.3ms\n",
      "498:\tlearn: 5.1345538\ttotal: 19.8s\tremaining: 39.6ms\n",
      "499:\tlearn: 5.1335965\ttotal: 19.9s\tremaining: 0us\n",
      "0:\tlearn: 8.0260600\ttotal: 7.78ms\tremaining: 3.88s\n",
      "1:\tlearn: 8.0010556\ttotal: 16ms\tremaining: 3.97s\n",
      "2:\tlearn: 7.9754977\ttotal: 65.4ms\tremaining: 10.8s\n",
      "3:\tlearn: 7.9513314\ttotal: 72ms\tremaining: 8.93s\n",
      "4:\tlearn: 7.9281017\ttotal: 78ms\tremaining: 7.72s\n",
      "5:\tlearn: 7.9036611\ttotal: 161ms\tremaining: 13.2s\n",
      "6:\tlearn: 7.8787180\ttotal: 168ms\tremaining: 11.8s\n",
      "7:\tlearn: 7.8557950\ttotal: 256ms\tremaining: 15.7s\n",
      "8:\tlearn: 7.8310402\ttotal: 262ms\tremaining: 14.3s\n",
      "9:\tlearn: 7.8067101\ttotal: 269ms\tremaining: 13.2s\n",
      "10:\tlearn: 7.7834667\ttotal: 356ms\tremaining: 15.8s\n",
      "11:\tlearn: 7.7616496\ttotal: 363ms\tremaining: 14.7s\n",
      "12:\tlearn: 7.7398252\ttotal: 370ms\tremaining: 13.9s\n",
      "13:\tlearn: 7.7165836\ttotal: 458ms\tremaining: 15.9s\n",
      "14:\tlearn: 7.6940233\ttotal: 470ms\tremaining: 15.2s\n",
      "15:\tlearn: 7.6729441\ttotal: 553ms\tremaining: 16.7s\n",
      "16:\tlearn: 7.6518077\ttotal: 559ms\tremaining: 15.9s\n",
      "17:\tlearn: 7.6292717\ttotal: 566ms\tremaining: 15.2s\n",
      "18:\tlearn: 7.6085359\ttotal: 656ms\tremaining: 16.6s\n",
      "19:\tlearn: 7.5877034\ttotal: 666ms\tremaining: 16s\n",
      "20:\tlearn: 7.5688464\ttotal: 750ms\tremaining: 17.1s\n",
      "21:\tlearn: 7.5476133\ttotal: 763ms\tremaining: 16.6s\n",
      "22:\tlearn: 7.5279601\ttotal: 771ms\tremaining: 16s\n",
      "23:\tlearn: 7.5091165\ttotal: 854ms\tremaining: 16.9s\n",
      "24:\tlearn: 7.4899438\ttotal: 862ms\tremaining: 16.4s\n",
      "25:\tlearn: 7.4714702\ttotal: 953ms\tremaining: 17.4s\n",
      "26:\tlearn: 7.4530988\ttotal: 960ms\tremaining: 16.8s\n",
      "27:\tlearn: 7.4354369\ttotal: 1.05s\tremaining: 17.7s\n",
      "28:\tlearn: 7.4173617\ttotal: 1.06s\tremaining: 17.2s\n",
      "29:\tlearn: 7.3982351\ttotal: 1.15s\tremaining: 18s\n",
      "30:\tlearn: 7.3799784\ttotal: 1.15s\tremaining: 17.5s\n",
      "31:\tlearn: 7.3613869\ttotal: 1.25s\tremaining: 18.2s\n",
      "32:\tlearn: 7.3437613\ttotal: 1.25s\tremaining: 17.7s\n",
      "33:\tlearn: 7.3263652\ttotal: 1.26s\tremaining: 17.2s\n",
      "34:\tlearn: 7.3077565\ttotal: 1.35s\tremaining: 17.9s\n",
      "35:\tlearn: 7.2897819\ttotal: 1.36s\tremaining: 17.5s\n",
      "36:\tlearn: 7.2709849\ttotal: 1.45s\tremaining: 18.1s\n",
      "37:\tlearn: 7.2549232\ttotal: 1.45s\tremaining: 17.6s\n",
      "38:\tlearn: 7.2374524\ttotal: 1.54s\tremaining: 18.2s\n",
      "39:\tlearn: 7.2215733\ttotal: 1.55s\tremaining: 17.8s\n",
      "40:\tlearn: 7.2054362\ttotal: 1.55s\tremaining: 17.4s\n",
      "41:\tlearn: 7.1884106\ttotal: 1.64s\tremaining: 17.9s\n",
      "42:\tlearn: 7.1721226\ttotal: 1.65s\tremaining: 17.5s\n",
      "43:\tlearn: 7.1568016\ttotal: 1.65s\tremaining: 17.1s\n",
      "44:\tlearn: 7.1394985\ttotal: 1.74s\tremaining: 17.6s\n",
      "45:\tlearn: 7.1219823\ttotal: 1.75s\tremaining: 17.3s\n",
      "46:\tlearn: 7.1063328\ttotal: 1.84s\tremaining: 17.7s\n",
      "47:\tlearn: 7.0906013\ttotal: 1.85s\tremaining: 17.4s\n",
      "48:\tlearn: 7.0756568\ttotal: 1.94s\tremaining: 17.8s\n",
      "49:\tlearn: 7.0610586\ttotal: 1.94s\tremaining: 17.5s\n",
      "50:\tlearn: 7.0454694\ttotal: 2.04s\tremaining: 17.9s\n",
      "51:\tlearn: 7.0308886\ttotal: 2.04s\tremaining: 17.6s\n",
      "52:\tlearn: 7.0161986\ttotal: 2.13s\tremaining: 18s\n",
      "53:\tlearn: 7.0022396\ttotal: 2.14s\tremaining: 17.7s\n",
      "54:\tlearn: 6.9863801\ttotal: 2.15s\tremaining: 17.4s\n",
      "55:\tlearn: 6.9723647\ttotal: 2.24s\tremaining: 17.7s\n",
      "56:\tlearn: 6.9581026\ttotal: 2.24s\tremaining: 17.4s\n",
      "57:\tlearn: 6.9450763\ttotal: 2.33s\tremaining: 17.8s\n",
      "58:\tlearn: 6.9297984\ttotal: 2.34s\tremaining: 17.5s\n",
      "59:\tlearn: 6.9161502\ttotal: 2.35s\tremaining: 17.2s\n",
      "60:\tlearn: 6.9038645\ttotal: 2.44s\tremaining: 17.5s\n",
      "61:\tlearn: 6.8901619\ttotal: 2.44s\tremaining: 17.3s\n",
      "62:\tlearn: 6.8762870\ttotal: 2.53s\tremaining: 17.6s\n",
      "63:\tlearn: 6.8620905\ttotal: 2.54s\tremaining: 17.3s\n",
      "64:\tlearn: 6.8502776\ttotal: 2.63s\tremaining: 17.6s\n",
      "65:\tlearn: 6.8378404\ttotal: 2.64s\tremaining: 17.3s\n",
      "66:\tlearn: 6.8254863\ttotal: 2.64s\tremaining: 17.1s\n",
      "67:\tlearn: 6.8131791\ttotal: 2.73s\tremaining: 17.4s\n",
      "68:\tlearn: 6.7993259\ttotal: 2.74s\tremaining: 17.1s\n",
      "69:\tlearn: 6.7870041\ttotal: 2.83s\tremaining: 17.4s\n",
      "70:\tlearn: 6.7735769\ttotal: 2.84s\tremaining: 17.1s\n",
      "71:\tlearn: 6.7621544\ttotal: 2.93s\tremaining: 17.4s\n",
      "72:\tlearn: 6.7503763\ttotal: 2.94s\tremaining: 17.2s\n",
      "73:\tlearn: 6.7379673\ttotal: 2.94s\tremaining: 16.9s\n",
      "74:\tlearn: 6.7268908\ttotal: 3.03s\tremaining: 17.2s\n",
      "75:\tlearn: 6.7149133\ttotal: 3.04s\tremaining: 16.9s\n",
      "76:\tlearn: 6.7041486\ttotal: 3.13s\tremaining: 17.2s\n",
      "77:\tlearn: 6.6922715\ttotal: 3.13s\tremaining: 17s\n",
      "78:\tlearn: 6.6806554\ttotal: 3.23s\tremaining: 17.2s\n",
      "79:\tlearn: 6.6697799\ttotal: 3.23s\tremaining: 17s\n",
      "80:\tlearn: 6.6588141\ttotal: 3.24s\tremaining: 16.7s\n",
      "81:\tlearn: 6.6477455\ttotal: 3.33s\tremaining: 17s\n",
      "82:\tlearn: 6.6373480\ttotal: 3.33s\tremaining: 16.7s\n",
      "83:\tlearn: 6.6264496\ttotal: 3.42s\tremaining: 17s\n",
      "84:\tlearn: 6.6150798\ttotal: 3.43s\tremaining: 16.7s\n",
      "85:\tlearn: 6.6038661\ttotal: 3.44s\tremaining: 16.6s\n",
      "86:\tlearn: 6.5932290\ttotal: 3.52s\tremaining: 16.7s\n",
      "87:\tlearn: 6.5827350\ttotal: 3.53s\tremaining: 16.5s\n",
      "88:\tlearn: 6.5715059\ttotal: 3.62s\tremaining: 16.7s\n",
      "89:\tlearn: 6.5610737\ttotal: 3.63s\tremaining: 16.5s\n",
      "90:\tlearn: 6.5505620\ttotal: 3.63s\tremaining: 16.3s\n",
      "91:\tlearn: 6.5399589\ttotal: 3.72s\tremaining: 16.5s\n",
      "92:\tlearn: 6.5307619\ttotal: 3.73s\tremaining: 16.3s\n",
      "93:\tlearn: 6.5204891\ttotal: 3.82s\tremaining: 16.5s\n",
      "94:\tlearn: 6.5102523\ttotal: 3.83s\tremaining: 16.3s\n",
      "95:\tlearn: 6.5001434\ttotal: 3.92s\tremaining: 16.5s\n",
      "96:\tlearn: 6.4900286\ttotal: 3.93s\tremaining: 16.3s\n",
      "97:\tlearn: 6.4800406\ttotal: 4.02s\tremaining: 16.5s\n",
      "98:\tlearn: 6.4699198\ttotal: 4.02s\tremaining: 16.3s\n",
      "99:\tlearn: 6.4606005\ttotal: 4.11s\tremaining: 16.5s\n",
      "100:\tlearn: 6.4510241\ttotal: 4.12s\tremaining: 16.3s\n",
      "101:\tlearn: 6.4413549\ttotal: 4.21s\tremaining: 16.4s\n",
      "102:\tlearn: 6.4311165\ttotal: 4.22s\tremaining: 16.3s\n",
      "103:\tlearn: 6.4213560\ttotal: 4.23s\tremaining: 16.1s\n",
      "104:\tlearn: 6.4117082\ttotal: 4.32s\tremaining: 16.2s\n",
      "105:\tlearn: 6.4027373\ttotal: 4.32s\tremaining: 16.1s\n",
      "106:\tlearn: 6.3941784\ttotal: 4.41s\tremaining: 16.2s\n",
      "107:\tlearn: 6.3847834\ttotal: 4.42s\tremaining: 16s\n",
      "108:\tlearn: 6.3754326\ttotal: 4.43s\tremaining: 15.9s\n",
      "109:\tlearn: 6.3666341\ttotal: 4.51s\tremaining: 16s\n",
      "110:\tlearn: 6.3578463\ttotal: 4.52s\tremaining: 15.8s\n",
      "111:\tlearn: 6.3489766\ttotal: 4.61s\tremaining: 16s\n",
      "112:\tlearn: 6.3410859\ttotal: 4.62s\tremaining: 15.8s\n",
      "113:\tlearn: 6.3322308\ttotal: 4.62s\tremaining: 15.7s\n",
      "114:\tlearn: 6.3233697\ttotal: 4.71s\tremaining: 15.8s\n",
      "115:\tlearn: 6.3148283\ttotal: 4.72s\tremaining: 15.6s\n",
      "116:\tlearn: 6.3070907\ttotal: 4.81s\tremaining: 15.7s\n",
      "117:\tlearn: 6.2991846\ttotal: 4.82s\tremaining: 15.6s\n",
      "118:\tlearn: 6.2904972\ttotal: 4.91s\tremaining: 15.7s\n",
      "119:\tlearn: 6.2817872\ttotal: 4.91s\tremaining: 15.6s\n",
      "120:\tlearn: 6.2740680\ttotal: 4.92s\tremaining: 15.4s\n",
      "121:\tlearn: 6.2662420\ttotal: 5s\tremaining: 15.5s\n",
      "122:\tlearn: 6.2581514\ttotal: 5.01s\tremaining: 15.4s\n",
      "123:\tlearn: 6.2497077\ttotal: 5.1s\tremaining: 15.5s\n",
      "124:\tlearn: 6.2414207\ttotal: 5.11s\tremaining: 15.3s\n",
      "125:\tlearn: 6.2338535\ttotal: 5.11s\tremaining: 15.2s\n",
      "126:\tlearn: 6.2258047\ttotal: 5.2s\tremaining: 15.3s\n",
      "127:\tlearn: 6.2183961\ttotal: 5.21s\tremaining: 15.1s\n",
      "128:\tlearn: 6.2109626\ttotal: 5.21s\tremaining: 15s\n",
      "129:\tlearn: 6.2037056\ttotal: 5.3s\tremaining: 15.1s\n",
      "130:\tlearn: 6.1958582\ttotal: 5.31s\tremaining: 15s\n",
      "131:\tlearn: 6.1876541\ttotal: 5.4s\tremaining: 15.1s\n",
      "132:\tlearn: 6.1794420\ttotal: 5.41s\tremaining: 14.9s\n",
      "133:\tlearn: 6.1727448\ttotal: 5.41s\tremaining: 14.8s\n",
      "134:\tlearn: 6.1652929\ttotal: 5.5s\tremaining: 14.9s\n",
      "135:\tlearn: 6.1580178\ttotal: 5.51s\tremaining: 14.7s\n",
      "136:\tlearn: 6.1506318\ttotal: 5.6s\tremaining: 14.8s\n",
      "137:\tlearn: 6.1435772\ttotal: 5.61s\tremaining: 14.7s\n",
      "138:\tlearn: 6.1362297\ttotal: 5.7s\tremaining: 14.8s\n",
      "139:\tlearn: 6.1286731\ttotal: 5.7s\tremaining: 14.7s\n",
      "140:\tlearn: 6.1223395\ttotal: 5.71s\tremaining: 14.5s\n",
      "141:\tlearn: 6.1156825\ttotal: 5.8s\tremaining: 14.6s\n",
      "142:\tlearn: 6.1086349\ttotal: 5.8s\tremaining: 14.5s\n",
      "143:\tlearn: 6.1018931\ttotal: 5.9s\tremaining: 14.6s\n",
      "144:\tlearn: 6.0960824\ttotal: 5.9s\tremaining: 14.5s\n",
      "145:\tlearn: 6.0887537\ttotal: 5.99s\tremaining: 14.5s\n",
      "146:\tlearn: 6.0819362\ttotal: 6s\tremaining: 14.4s\n",
      "147:\tlearn: 6.0760171\ttotal: 6s\tremaining: 14.3s\n",
      "148:\tlearn: 6.0703272\ttotal: 6.09s\tremaining: 14.4s\n",
      "149:\tlearn: 6.0641591\ttotal: 6.1s\tremaining: 14.2s\n",
      "150:\tlearn: 6.0578715\ttotal: 6.19s\tremaining: 14.3s\n",
      "151:\tlearn: 6.0524044\ttotal: 6.2s\tremaining: 14.2s\n",
      "152:\tlearn: 6.0462386\ttotal: 6.2s\tremaining: 14.1s\n",
      "153:\tlearn: 6.0402651\ttotal: 6.29s\tremaining: 14.1s\n",
      "154:\tlearn: 6.0339852\ttotal: 6.29s\tremaining: 14s\n",
      "155:\tlearn: 6.0277318\ttotal: 6.39s\tremaining: 14.1s\n",
      "156:\tlearn: 6.0217853\ttotal: 6.39s\tremaining: 14s\n",
      "157:\tlearn: 6.0162436\ttotal: 6.4s\tremaining: 13.8s\n",
      "158:\tlearn: 6.0102332\ttotal: 6.49s\tremaining: 13.9s\n",
      "159:\tlearn: 6.0040570\ttotal: 6.49s\tremaining: 13.8s\n",
      "160:\tlearn: 5.9980001\ttotal: 6.5s\tremaining: 13.7s\n",
      "161:\tlearn: 5.9923684\ttotal: 6.58s\tremaining: 13.7s\n",
      "162:\tlearn: 5.9862804\ttotal: 6.59s\tremaining: 13.6s\n",
      "163:\tlearn: 5.9812378\ttotal: 6.6s\tremaining: 13.5s\n",
      "164:\tlearn: 5.9753065\ttotal: 6.69s\tremaining: 13.6s\n",
      "165:\tlearn: 5.9690729\ttotal: 6.69s\tremaining: 13.5s\n",
      "166:\tlearn: 5.9636051\ttotal: 6.78s\tremaining: 13.5s\n",
      "167:\tlearn: 5.9579960\ttotal: 6.79s\tremaining: 13.4s\n",
      "168:\tlearn: 5.9524977\ttotal: 6.79s\tremaining: 13.3s\n",
      "169:\tlearn: 5.9472998\ttotal: 6.88s\tremaining: 13.4s\n",
      "170:\tlearn: 5.9423643\ttotal: 6.89s\tremaining: 13.3s\n",
      "171:\tlearn: 5.9366796\ttotal: 6.89s\tremaining: 13.1s\n",
      "172:\tlearn: 5.9312528\ttotal: 6.98s\tremaining: 13.2s\n",
      "173:\tlearn: 5.9254472\ttotal: 6.99s\tremaining: 13.1s\n",
      "174:\tlearn: 5.9203021\ttotal: 7.08s\tremaining: 13.2s\n",
      "175:\tlearn: 5.9147081\ttotal: 7.09s\tremaining: 13s\n",
      "176:\tlearn: 5.9093447\ttotal: 7.18s\tremaining: 13.1s\n",
      "177:\tlearn: 5.9049042\ttotal: 7.18s\tremaining: 13s\n",
      "178:\tlearn: 5.8995798\ttotal: 7.19s\tremaining: 12.9s\n",
      "179:\tlearn: 5.8944956\ttotal: 7.28s\tremaining: 12.9s\n",
      "180:\tlearn: 5.8895830\ttotal: 7.29s\tremaining: 12.8s\n",
      "181:\tlearn: 5.8843066\ttotal: 7.38s\tremaining: 12.9s\n",
      "182:\tlearn: 5.8793827\ttotal: 7.38s\tremaining: 12.8s\n",
      "183:\tlearn: 5.8746066\ttotal: 7.39s\tremaining: 12.7s\n",
      "184:\tlearn: 5.8697269\ttotal: 7.48s\tremaining: 12.7s\n",
      "185:\tlearn: 5.8651629\ttotal: 7.48s\tremaining: 12.6s\n",
      "186:\tlearn: 5.8605681\ttotal: 7.49s\tremaining: 12.5s\n",
      "187:\tlearn: 5.8555473\ttotal: 7.58s\tremaining: 12.6s\n",
      "188:\tlearn: 5.8507190\ttotal: 7.58s\tremaining: 12.5s\n",
      "189:\tlearn: 5.8456530\ttotal: 7.59s\tremaining: 12.4s\n",
      "190:\tlearn: 5.8409706\ttotal: 7.68s\tremaining: 12.4s\n",
      "191:\tlearn: 5.8362788\ttotal: 7.68s\tremaining: 12.3s\n",
      "192:\tlearn: 5.8318373\ttotal: 7.77s\tremaining: 12.4s\n",
      "193:\tlearn: 5.8279600\ttotal: 7.78s\tremaining: 12.3s\n",
      "194:\tlearn: 5.8238957\ttotal: 7.87s\tremaining: 12.3s\n",
      "195:\tlearn: 5.8193873\ttotal: 7.88s\tremaining: 12.2s\n",
      "196:\tlearn: 5.8139941\ttotal: 7.88s\tremaining: 12.1s\n",
      "197:\tlearn: 5.8096243\ttotal: 7.97s\tremaining: 12.2s\n",
      "198:\tlearn: 5.8057226\ttotal: 7.97s\tremaining: 12.1s\n",
      "199:\tlearn: 5.8017685\ttotal: 7.98s\tremaining: 12s\n",
      "200:\tlearn: 5.7975275\ttotal: 8.07s\tremaining: 12s\n",
      "201:\tlearn: 5.7927968\ttotal: 8.07s\tremaining: 11.9s\n",
      "202:\tlearn: 5.7883715\ttotal: 8.08s\tremaining: 11.8s\n",
      "203:\tlearn: 5.7846806\ttotal: 8.17s\tremaining: 11.9s\n",
      "204:\tlearn: 5.7799971\ttotal: 8.18s\tremaining: 11.8s\n",
      "205:\tlearn: 5.7752964\ttotal: 8.27s\tremaining: 11.8s\n",
      "206:\tlearn: 5.7709605\ttotal: 8.27s\tremaining: 11.7s\n",
      "207:\tlearn: 5.7666829\ttotal: 8.37s\tremaining: 11.7s\n",
      "208:\tlearn: 5.7621240\ttotal: 8.39s\tremaining: 11.7s\n",
      "209:\tlearn: 5.7579001\ttotal: 8.46s\tremaining: 11.7s\n",
      "210:\tlearn: 5.7539840\ttotal: 8.47s\tremaining: 11.6s\n",
      "211:\tlearn: 5.7503271\ttotal: 8.47s\tremaining: 11.5s\n",
      "212:\tlearn: 5.7463932\ttotal: 8.56s\tremaining: 11.5s\n",
      "213:\tlearn: 5.7422611\ttotal: 8.57s\tremaining: 11.5s\n",
      "214:\tlearn: 5.7383755\ttotal: 8.66s\tremaining: 11.5s\n",
      "215:\tlearn: 5.7344965\ttotal: 8.67s\tremaining: 11.4s\n",
      "216:\tlearn: 5.7303902\ttotal: 8.76s\tremaining: 11.4s\n",
      "217:\tlearn: 5.7272827\ttotal: 8.77s\tremaining: 11.3s\n",
      "218:\tlearn: 5.7232539\ttotal: 8.77s\tremaining: 11.3s\n",
      "219:\tlearn: 5.7202240\ttotal: 8.86s\tremaining: 11.3s\n",
      "220:\tlearn: 5.7159148\ttotal: 8.87s\tremaining: 11.2s\n",
      "221:\tlearn: 5.7120337\ttotal: 8.87s\tremaining: 11.1s\n",
      "222:\tlearn: 5.7080591\ttotal: 8.96s\tremaining: 11.1s\n",
      "223:\tlearn: 5.7048115\ttotal: 8.97s\tremaining: 11.1s\n",
      "224:\tlearn: 5.7013147\ttotal: 9.06s\tremaining: 11.1s\n",
      "225:\tlearn: 5.6976198\ttotal: 9.07s\tremaining: 11s\n",
      "226:\tlearn: 5.6945061\ttotal: 9.16s\tremaining: 11s\n",
      "227:\tlearn: 5.6903484\ttotal: 9.17s\tremaining: 10.9s\n",
      "228:\tlearn: 5.6863543\ttotal: 9.26s\tremaining: 11s\n",
      "229:\tlearn: 5.6828055\ttotal: 9.27s\tremaining: 10.9s\n",
      "230:\tlearn: 5.6789300\ttotal: 9.36s\tremaining: 10.9s\n",
      "231:\tlearn: 5.6756542\ttotal: 9.36s\tremaining: 10.8s\n",
      "232:\tlearn: 5.6724494\ttotal: 9.37s\tremaining: 10.7s\n",
      "233:\tlearn: 5.6691117\ttotal: 9.46s\tremaining: 10.8s\n",
      "234:\tlearn: 5.6655924\ttotal: 9.46s\tremaining: 10.7s\n",
      "235:\tlearn: 5.6611492\ttotal: 9.56s\tremaining: 10.7s\n",
      "236:\tlearn: 5.6577878\ttotal: 9.56s\tremaining: 10.6s\n",
      "237:\tlearn: 5.6543245\ttotal: 9.57s\tremaining: 10.5s\n",
      "238:\tlearn: 5.6514438\ttotal: 9.66s\tremaining: 10.5s\n",
      "239:\tlearn: 5.6479025\ttotal: 9.67s\tremaining: 10.5s\n",
      "240:\tlearn: 5.6445777\ttotal: 9.76s\tremaining: 10.5s\n",
      "241:\tlearn: 5.6418800\ttotal: 9.76s\tremaining: 10.4s\n",
      "242:\tlearn: 5.6382681\ttotal: 9.85s\tremaining: 10.4s\n",
      "243:\tlearn: 5.6355368\ttotal: 9.86s\tremaining: 10.3s\n",
      "244:\tlearn: 5.6324853\ttotal: 9.95s\tremaining: 10.4s\n",
      "245:\tlearn: 5.6295340\ttotal: 9.96s\tremaining: 10.3s\n",
      "246:\tlearn: 5.6261600\ttotal: 10.1s\tremaining: 10.3s\n",
      "247:\tlearn: 5.6229553\ttotal: 10.1s\tremaining: 10.2s\n",
      "248:\tlearn: 5.6191785\ttotal: 10.1s\tremaining: 10.2s\n",
      "249:\tlearn: 5.6152857\ttotal: 10.2s\tremaining: 10.2s\n",
      "250:\tlearn: 5.6117719\ttotal: 10.2s\tremaining: 10.1s\n",
      "251:\tlearn: 5.6082784\ttotal: 10.2s\tremaining: 10.1s\n",
      "252:\tlearn: 5.6044287\ttotal: 10.3s\tremaining: 10s\n",
      "253:\tlearn: 5.6010364\ttotal: 10.3s\tremaining: 10s\n",
      "254:\tlearn: 5.5984271\ttotal: 10.3s\tremaining: 9.94s\n",
      "255:\tlearn: 5.5948715\ttotal: 10.4s\tremaining: 9.88s\n",
      "256:\tlearn: 5.5914779\ttotal: 10.4s\tremaining: 9.88s\n",
      "257:\tlearn: 5.5882991\ttotal: 10.5s\tremaining: 9.8s\n",
      "258:\tlearn: 5.5850663\ttotal: 10.5s\tremaining: 9.81s\n",
      "259:\tlearn: 5.5818759\ttotal: 10.5s\tremaining: 9.74s\n",
      "260:\tlearn: 5.5786028\ttotal: 10.6s\tremaining: 9.66s\n",
      "261:\tlearn: 5.5756879\ttotal: 10.6s\tremaining: 9.67s\n",
      "262:\tlearn: 5.5726149\ttotal: 10.7s\tremaining: 9.6s\n",
      "263:\tlearn: 5.5699580\ttotal: 10.7s\tremaining: 9.6s\n",
      "264:\tlearn: 5.5674349\ttotal: 10.8s\tremaining: 9.53s\n",
      "265:\tlearn: 5.5645963\ttotal: 10.8s\tremaining: 9.54s\n",
      "266:\tlearn: 5.5613424\ttotal: 10.8s\tremaining: 9.47s\n",
      "267:\tlearn: 5.5580863\ttotal: 10.9s\tremaining: 9.47s\n",
      "268:\tlearn: 5.5549856\ttotal: 10.9s\tremaining: 9.4s\n",
      "269:\tlearn: 5.5518926\ttotal: 11s\tremaining: 9.4s\n",
      "270:\tlearn: 5.5491383\ttotal: 11s\tremaining: 9.33s\n",
      "271:\tlearn: 5.5457993\ttotal: 11s\tremaining: 9.26s\n",
      "272:\tlearn: 5.5433488\ttotal: 11.1s\tremaining: 9.26s\n",
      "273:\tlearn: 5.5408141\ttotal: 11.1s\tremaining: 9.19s\n",
      "274:\tlearn: 5.5384676\ttotal: 11.2s\tremaining: 9.19s\n",
      "275:\tlearn: 5.5349689\ttotal: 11.2s\tremaining: 9.12s\n",
      "276:\tlearn: 5.5323915\ttotal: 11.2s\tremaining: 9.05s\n",
      "277:\tlearn: 5.5298000\ttotal: 11.3s\tremaining: 9.05s\n",
      "278:\tlearn: 5.5272059\ttotal: 11.3s\tremaining: 8.98s\n",
      "279:\tlearn: 5.5235402\ttotal: 11.4s\tremaining: 8.98s\n",
      "280:\tlearn: 5.5206437\ttotal: 11.4s\tremaining: 8.91s\n",
      "281:\tlearn: 5.5174721\ttotal: 11.4s\tremaining: 8.85s\n",
      "282:\tlearn: 5.5148955\ttotal: 11.5s\tremaining: 8.85s\n",
      "283:\tlearn: 5.5123076\ttotal: 11.5s\tremaining: 8.78s\n",
      "284:\tlearn: 5.5093027\ttotal: 11.6s\tremaining: 8.78s\n",
      "285:\tlearn: 5.5067093\ttotal: 11.6s\tremaining: 8.71s\n",
      "286:\tlearn: 5.5040485\ttotal: 11.6s\tremaining: 8.64s\n",
      "287:\tlearn: 5.5012769\ttotal: 11.7s\tremaining: 8.63s\n",
      "288:\tlearn: 5.4990399\ttotal: 11.7s\tremaining: 8.57s\n",
      "289:\tlearn: 5.4965867\ttotal: 11.8s\tremaining: 8.56s\n",
      "290:\tlearn: 5.4939212\ttotal: 11.8s\tremaining: 8.5s\n",
      "291:\tlearn: 5.4918939\ttotal: 11.8s\tremaining: 8.43s\n",
      "292:\tlearn: 5.4886812\ttotal: 11.9s\tremaining: 8.43s\n",
      "293:\tlearn: 5.4861752\ttotal: 11.9s\tremaining: 8.36s\n",
      "294:\tlearn: 5.4833259\ttotal: 12s\tremaining: 8.36s\n",
      "295:\tlearn: 5.4806518\ttotal: 12s\tremaining: 8.29s\n",
      "296:\tlearn: 5.4775065\ttotal: 12s\tremaining: 8.23s\n",
      "297:\tlearn: 5.4748732\ttotal: 12.1s\tremaining: 8.22s\n",
      "298:\tlearn: 5.4720565\ttotal: 12.1s\tremaining: 8.16s\n",
      "299:\tlearn: 5.4694752\ttotal: 12.2s\tremaining: 8.15s\n",
      "300:\tlearn: 5.4666326\ttotal: 12.2s\tremaining: 8.09s\n",
      "301:\tlearn: 5.4638162\ttotal: 12.3s\tremaining: 8.08s\n",
      "302:\tlearn: 5.4616555\ttotal: 12.3s\tremaining: 8.01s\n",
      "303:\tlearn: 5.4590307\ttotal: 12.3s\tremaining: 7.95s\n",
      "304:\tlearn: 5.4571069\ttotal: 12.4s\tremaining: 7.94s\n",
      "305:\tlearn: 5.4546894\ttotal: 12.4s\tremaining: 7.88s\n",
      "306:\tlearn: 5.4513795\ttotal: 12.5s\tremaining: 7.87s\n",
      "307:\tlearn: 5.4491392\ttotal: 12.5s\tremaining: 7.81s\n",
      "308:\tlearn: 5.4465375\ttotal: 12.6s\tremaining: 7.8s\n",
      "309:\tlearn: 5.4440173\ttotal: 12.6s\tremaining: 7.74s\n",
      "310:\tlearn: 5.4417730\ttotal: 12.6s\tremaining: 7.68s\n",
      "311:\tlearn: 5.4393099\ttotal: 12.7s\tremaining: 7.67s\n",
      "312:\tlearn: 5.4372292\ttotal: 12.7s\tremaining: 7.6s\n",
      "313:\tlearn: 5.4349625\ttotal: 12.8s\tremaining: 7.59s\n",
      "314:\tlearn: 5.4324110\ttotal: 12.8s\tremaining: 7.53s\n",
      "315:\tlearn: 5.4301367\ttotal: 12.9s\tremaining: 7.52s\n",
      "316:\tlearn: 5.4277922\ttotal: 12.9s\tremaining: 7.46s\n",
      "317:\tlearn: 5.4254475\ttotal: 12.9s\tremaining: 7.4s\n",
      "318:\tlearn: 5.4232187\ttotal: 13s\tremaining: 7.38s\n",
      "319:\tlearn: 5.4204205\ttotal: 13s\tremaining: 7.33s\n",
      "320:\tlearn: 5.4182376\ttotal: 13.1s\tremaining: 7.31s\n",
      "321:\tlearn: 5.4160734\ttotal: 13.1s\tremaining: 7.25s\n",
      "322:\tlearn: 5.4131221\ttotal: 13.2s\tremaining: 7.24s\n",
      "323:\tlearn: 5.4106584\ttotal: 13.2s\tremaining: 7.18s\n",
      "324:\tlearn: 5.4082034\ttotal: 13.2s\tremaining: 7.12s\n",
      "325:\tlearn: 5.4057716\ttotal: 13.3s\tremaining: 7.11s\n",
      "326:\tlearn: 5.4037573\ttotal: 13.3s\tremaining: 7.05s\n",
      "327:\tlearn: 5.4010292\ttotal: 13.4s\tremaining: 7.03s\n",
      "328:\tlearn: 5.3991135\ttotal: 13.4s\tremaining: 6.97s\n",
      "329:\tlearn: 5.3967584\ttotal: 13.4s\tremaining: 6.91s\n",
      "330:\tlearn: 5.3945463\ttotal: 13.5s\tremaining: 6.9s\n",
      "331:\tlearn: 5.3924021\ttotal: 13.5s\tremaining: 6.84s\n",
      "332:\tlearn: 5.3903295\ttotal: 13.6s\tremaining: 6.83s\n",
      "333:\tlearn: 5.3880649\ttotal: 13.6s\tremaining: 6.77s\n",
      "334:\tlearn: 5.3859478\ttotal: 13.7s\tremaining: 6.75s\n",
      "335:\tlearn: 5.3840659\ttotal: 13.7s\tremaining: 6.69s\n",
      "336:\tlearn: 5.3817113\ttotal: 13.7s\tremaining: 6.64s\n",
      "337:\tlearn: 5.3792574\ttotal: 13.8s\tremaining: 6.62s\n",
      "338:\tlearn: 5.3774864\ttotal: 13.8s\tremaining: 6.56s\n",
      "339:\tlearn: 5.3752427\ttotal: 13.9s\tremaining: 6.54s\n",
      "340:\tlearn: 5.3731572\ttotal: 13.9s\tremaining: 6.49s\n",
      "341:\tlearn: 5.3706497\ttotal: 14s\tremaining: 6.47s\n",
      "342:\tlearn: 5.3687120\ttotal: 14s\tremaining: 6.41s\n",
      "343:\tlearn: 5.3665286\ttotal: 14.1s\tremaining: 6.39s\n",
      "344:\tlearn: 5.3643486\ttotal: 14.1s\tremaining: 6.34s\n",
      "345:\tlearn: 5.3627734\ttotal: 14.1s\tremaining: 6.28s\n",
      "346:\tlearn: 5.3601348\ttotal: 14.2s\tremaining: 6.26s\n",
      "347:\tlearn: 5.3577430\ttotal: 14.2s\tremaining: 6.21s\n",
      "348:\tlearn: 5.3555235\ttotal: 14.3s\tremaining: 6.19s\n",
      "349:\tlearn: 5.3533311\ttotal: 14.3s\tremaining: 6.13s\n",
      "350:\tlearn: 5.3514483\ttotal: 14.3s\tremaining: 6.08s\n",
      "351:\tlearn: 5.3493513\ttotal: 14.4s\tremaining: 6.05s\n",
      "352:\tlearn: 5.3473132\ttotal: 14.4s\tremaining: 6s\n",
      "353:\tlearn: 5.3456727\ttotal: 14.4s\tremaining: 5.94s\n",
      "354:\tlearn: 5.3437195\ttotal: 14.5s\tremaining: 5.92s\n",
      "355:\tlearn: 5.3417573\ttotal: 14.5s\tremaining: 5.87s\n",
      "356:\tlearn: 5.3397611\ttotal: 14.5s\tremaining: 5.81s\n",
      "357:\tlearn: 5.3375606\ttotal: 14.6s\tremaining: 5.79s\n",
      "358:\tlearn: 5.3357837\ttotal: 14.6s\tremaining: 5.74s\n",
      "359:\tlearn: 5.3334427\ttotal: 14.7s\tremaining: 5.71s\n",
      "360:\tlearn: 5.3314167\ttotal: 14.7s\tremaining: 5.66s\n",
      "361:\tlearn: 5.3295424\ttotal: 14.7s\tremaining: 5.61s\n",
      "362:\tlearn: 5.3278891\ttotal: 14.8s\tremaining: 5.58s\n",
      "363:\tlearn: 5.3257014\ttotal: 14.8s\tremaining: 5.53s\n",
      "364:\tlearn: 5.3235925\ttotal: 14.9s\tremaining: 5.51s\n",
      "365:\tlearn: 5.3217378\ttotal: 14.9s\tremaining: 5.45s\n",
      "366:\tlearn: 5.3199535\ttotal: 14.9s\tremaining: 5.4s\n",
      "367:\tlearn: 5.3183964\ttotal: 15s\tremaining: 5.38s\n",
      "368:\tlearn: 5.3165975\ttotal: 15s\tremaining: 5.32s\n",
      "369:\tlearn: 5.3149335\ttotal: 15s\tremaining: 5.27s\n",
      "370:\tlearn: 5.3127695\ttotal: 15.1s\tremaining: 5.25s\n",
      "371:\tlearn: 5.3111942\ttotal: 15.1s\tremaining: 5.2s\n",
      "372:\tlearn: 5.3095446\ttotal: 15.2s\tremaining: 5.17s\n",
      "373:\tlearn: 5.3072519\ttotal: 15.2s\tremaining: 5.12s\n",
      "374:\tlearn: 5.3052535\ttotal: 15.2s\tremaining: 5.07s\n",
      "375:\tlearn: 5.3037410\ttotal: 15.3s\tremaining: 5.04s\n",
      "376:\tlearn: 5.3022420\ttotal: 15.3s\tremaining: 5s\n",
      "377:\tlearn: 5.3006116\ttotal: 15.4s\tremaining: 4.97s\n",
      "378:\tlearn: 5.2991134\ttotal: 15.4s\tremaining: 4.92s\n",
      "379:\tlearn: 5.2975934\ttotal: 15.5s\tremaining: 4.89s\n",
      "380:\tlearn: 5.2959668\ttotal: 15.5s\tremaining: 4.84s\n",
      "381:\tlearn: 5.2936860\ttotal: 15.6s\tremaining: 4.81s\n",
      "382:\tlearn: 5.2913580\ttotal: 15.6s\tremaining: 4.76s\n",
      "383:\tlearn: 5.2890981\ttotal: 15.6s\tremaining: 4.71s\n",
      "384:\tlearn: 5.2877863\ttotal: 15.7s\tremaining: 4.68s\n",
      "385:\tlearn: 5.2860679\ttotal: 15.7s\tremaining: 4.63s\n",
      "386:\tlearn: 5.2844704\ttotal: 15.8s\tremaining: 4.61s\n",
      "387:\tlearn: 5.2829162\ttotal: 15.8s\tremaining: 4.56s\n",
      "388:\tlearn: 5.2814628\ttotal: 15.8s\tremaining: 4.51s\n",
      "389:\tlearn: 5.2799435\ttotal: 15.9s\tremaining: 4.48s\n",
      "390:\tlearn: 5.2777099\ttotal: 15.9s\tremaining: 4.43s\n",
      "391:\tlearn: 5.2760172\ttotal: 16s\tremaining: 4.4s\n",
      "392:\tlearn: 5.2740242\ttotal: 16s\tremaining: 4.35s\n",
      "393:\tlearn: 5.2722629\ttotal: 16.1s\tremaining: 4.33s\n",
      "394:\tlearn: 5.2702521\ttotal: 16.1s\tremaining: 4.28s\n",
      "395:\tlearn: 5.2684031\ttotal: 16.1s\tremaining: 4.22s\n",
      "396:\tlearn: 5.2666698\ttotal: 16.2s\tremaining: 4.2s\n",
      "397:\tlearn: 5.2646699\ttotal: 16.2s\tremaining: 4.15s\n",
      "398:\tlearn: 5.2627377\ttotal: 16.3s\tremaining: 4.12s\n",
      "399:\tlearn: 5.2607892\ttotal: 16.3s\tremaining: 4.07s\n",
      "400:\tlearn: 5.2588174\ttotal: 16.3s\tremaining: 4.02s\n",
      "401:\tlearn: 5.2572397\ttotal: 16.4s\tremaining: 3.99s\n",
      "402:\tlearn: 5.2552609\ttotal: 16.4s\tremaining: 3.94s\n",
      "403:\tlearn: 5.2535394\ttotal: 16.5s\tremaining: 3.91s\n",
      "404:\tlearn: 5.2513748\ttotal: 16.5s\tremaining: 3.87s\n",
      "405:\tlearn: 5.2498484\ttotal: 16.6s\tremaining: 3.84s\n",
      "406:\tlearn: 5.2483091\ttotal: 16.6s\tremaining: 3.79s\n",
      "407:\tlearn: 5.2465748\ttotal: 16.6s\tremaining: 3.74s\n",
      "408:\tlearn: 5.2446325\ttotal: 16.7s\tremaining: 3.71s\n",
      "409:\tlearn: 5.2432728\ttotal: 16.7s\tremaining: 3.66s\n",
      "410:\tlearn: 5.2420344\ttotal: 16.8s\tremaining: 3.63s\n",
      "411:\tlearn: 5.2403842\ttotal: 16.8s\tremaining: 3.58s\n",
      "412:\tlearn: 5.2390926\ttotal: 16.8s\tremaining: 3.54s\n",
      "413:\tlearn: 5.2374457\ttotal: 16.9s\tremaining: 3.5s\n",
      "414:\tlearn: 5.2361181\ttotal: 16.9s\tremaining: 3.46s\n",
      "415:\tlearn: 5.2339884\ttotal: 17s\tremaining: 3.43s\n",
      "416:\tlearn: 5.2322263\ttotal: 17s\tremaining: 3.38s\n",
      "417:\tlearn: 5.2302889\ttotal: 17s\tremaining: 3.33s\n",
      "418:\tlearn: 5.2284508\ttotal: 17.1s\tremaining: 3.3s\n",
      "419:\tlearn: 5.2271445\ttotal: 17.1s\tremaining: 3.25s\n",
      "420:\tlearn: 5.2252802\ttotal: 17.1s\tremaining: 3.21s\n",
      "421:\tlearn: 5.2237775\ttotal: 17.2s\tremaining: 3.17s\n",
      "422:\tlearn: 5.2223858\ttotal: 17.2s\tremaining: 3.13s\n",
      "423:\tlearn: 5.2203450\ttotal: 17.3s\tremaining: 3.09s\n",
      "424:\tlearn: 5.2192203\ttotal: 17.3s\tremaining: 3.05s\n",
      "425:\tlearn: 5.2173223\ttotal: 17.4s\tremaining: 3.02s\n",
      "426:\tlearn: 5.2156322\ttotal: 17.4s\tremaining: 2.97s\n",
      "427:\tlearn: 5.2144178\ttotal: 17.4s\tremaining: 2.92s\n",
      "428:\tlearn: 5.2130969\ttotal: 17.5s\tremaining: 2.89s\n",
      "429:\tlearn: 5.2118627\ttotal: 17.5s\tremaining: 2.84s\n",
      "430:\tlearn: 5.2104377\ttotal: 17.6s\tremaining: 2.81s\n",
      "431:\tlearn: 5.2085318\ttotal: 17.6s\tremaining: 2.77s\n",
      "432:\tlearn: 5.2072271\ttotal: 17.7s\tremaining: 2.73s\n",
      "433:\tlearn: 5.2059378\ttotal: 17.7s\tremaining: 2.69s\n",
      "434:\tlearn: 5.2044451\ttotal: 17.7s\tremaining: 2.64s\n",
      "435:\tlearn: 5.2028229\ttotal: 17.8s\tremaining: 2.61s\n",
      "436:\tlearn: 5.2013262\ttotal: 17.8s\tremaining: 2.56s\n",
      "437:\tlearn: 5.1994888\ttotal: 17.9s\tremaining: 2.53s\n",
      "438:\tlearn: 5.1978989\ttotal: 17.9s\tremaining: 2.48s\n",
      "439:\tlearn: 5.1964885\ttotal: 18s\tremaining: 2.45s\n",
      "440:\tlearn: 5.1949410\ttotal: 18s\tremaining: 2.4s\n",
      "441:\tlearn: 5.1935919\ttotal: 18s\tremaining: 2.36s\n",
      "442:\tlearn: 5.1922115\ttotal: 18.1s\tremaining: 2.32s\n",
      "443:\tlearn: 5.1907679\ttotal: 18.1s\tremaining: 2.28s\n",
      "444:\tlearn: 5.1885559\ttotal: 18.1s\tremaining: 2.23s\n",
      "445:\tlearn: 5.1870832\ttotal: 18.2s\tremaining: 2.2s\n",
      "446:\tlearn: 5.1852149\ttotal: 18.2s\tremaining: 2.15s\n",
      "447:\tlearn: 5.1835033\ttotal: 18.3s\tremaining: 2.12s\n",
      "448:\tlearn: 5.1817946\ttotal: 18.3s\tremaining: 2.07s\n",
      "449:\tlearn: 5.1802563\ttotal: 18.3s\tremaining: 2.03s\n",
      "450:\tlearn: 5.1791079\ttotal: 18.4s\tremaining: 1.99s\n",
      "451:\tlearn: 5.1774634\ttotal: 18.4s\tremaining: 1.95s\n",
      "452:\tlearn: 5.1760485\ttotal: 18.5s\tremaining: 1.91s\n",
      "453:\tlearn: 5.1743774\ttotal: 18.5s\tremaining: 1.87s\n",
      "454:\tlearn: 5.1730806\ttotal: 18.6s\tremaining: 1.83s\n",
      "455:\tlearn: 5.1716364\ttotal: 18.6s\tremaining: 1.79s\n",
      "456:\tlearn: 5.1705823\ttotal: 18.6s\tremaining: 1.75s\n",
      "457:\tlearn: 5.1689672\ttotal: 18.7s\tremaining: 1.71s\n",
      "458:\tlearn: 5.1673591\ttotal: 18.7s\tremaining: 1.67s\n",
      "459:\tlearn: 5.1660936\ttotal: 18.7s\tremaining: 1.63s\n",
      "460:\tlearn: 5.1648086\ttotal: 18.8s\tremaining: 1.59s\n",
      "461:\tlearn: 5.1632946\ttotal: 18.8s\tremaining: 1.54s\n",
      "462:\tlearn: 5.1617255\ttotal: 18.9s\tremaining: 1.51s\n",
      "463:\tlearn: 5.1598389\ttotal: 18.9s\tremaining: 1.46s\n",
      "464:\tlearn: 5.1583744\ttotal: 18.9s\tremaining: 1.43s\n",
      "465:\tlearn: 5.1570215\ttotal: 19s\tremaining: 1.38s\n",
      "466:\tlearn: 5.1556179\ttotal: 19s\tremaining: 1.34s\n",
      "467:\tlearn: 5.1543099\ttotal: 19s\tremaining: 1.3s\n",
      "468:\tlearn: 5.1528829\ttotal: 19.1s\tremaining: 1.26s\n",
      "469:\tlearn: 5.1514573\ttotal: 19.1s\tremaining: 1.22s\n",
      "470:\tlearn: 5.1499130\ttotal: 19.2s\tremaining: 1.18s\n",
      "471:\tlearn: 5.1487466\ttotal: 19.2s\tremaining: 1.14s\n",
      "472:\tlearn: 5.1473857\ttotal: 19.2s\tremaining: 1.1s\n",
      "473:\tlearn: 5.1458273\ttotal: 19.3s\tremaining: 1.06s\n",
      "474:\tlearn: 5.1443463\ttotal: 19.3s\tremaining: 1.02s\n",
      "475:\tlearn: 5.1430041\ttotal: 19.4s\tremaining: 976ms\n",
      "476:\tlearn: 5.1415557\ttotal: 19.4s\tremaining: 937ms\n",
      "477:\tlearn: 5.1403287\ttotal: 19.4s\tremaining: 895ms\n",
      "478:\tlearn: 5.1389147\ttotal: 19.5s\tremaining: 853ms\n",
      "479:\tlearn: 5.1374017\ttotal: 19.5s\tremaining: 814ms\n",
      "480:\tlearn: 5.1360784\ttotal: 19.6s\tremaining: 772ms\n",
      "481:\tlearn: 5.1337692\ttotal: 19.6s\tremaining: 733ms\n",
      "482:\tlearn: 5.1326430\ttotal: 19.6s\tremaining: 692ms\n",
      "483:\tlearn: 5.1311782\ttotal: 19.7s\tremaining: 653ms\n",
      "484:\tlearn: 5.1296125\ttotal: 19.7s\tremaining: 611ms\n",
      "485:\tlearn: 5.1274826\ttotal: 19.8s\tremaining: 569ms\n",
      "486:\tlearn: 5.1262728\ttotal: 19.8s\tremaining: 530ms\n",
      "487:\tlearn: 5.1246237\ttotal: 19.8s\tremaining: 488ms\n",
      "488:\tlearn: 5.1228013\ttotal: 19.9s\tremaining: 449ms\n",
      "489:\tlearn: 5.1217856\ttotal: 19.9s\tremaining: 407ms\n",
      "490:\tlearn: 5.1206520\ttotal: 20s\tremaining: 367ms\n",
      "491:\tlearn: 5.1196275\ttotal: 20s\tremaining: 326ms\n",
      "492:\tlearn: 5.1173012\ttotal: 20.1s\tremaining: 286ms\n",
      "493:\tlearn: 5.1158088\ttotal: 20.1s\tremaining: 245ms\n",
      "494:\tlearn: 5.1147513\ttotal: 20.1s\tremaining: 204ms\n",
      "495:\tlearn: 5.1131243\ttotal: 20.2s\tremaining: 163ms\n",
      "496:\tlearn: 5.1116090\ttotal: 20.3s\tremaining: 122ms\n",
      "497:\tlearn: 5.1103398\ttotal: 20.3s\tremaining: 81.7ms\n",
      "498:\tlearn: 5.1084524\ttotal: 20.3s\tremaining: 40.8ms\n",
      "499:\tlearn: 5.1071700\ttotal: 20.4s\tremaining: 0us\n",
      "0:\tlearn: 7.8239878\ttotal: 6.22ms\tremaining: 3.1s\n",
      "1:\tlearn: 7.8009090\ttotal: 11.5ms\tremaining: 2.87s\n",
      "2:\tlearn: 7.7771973\ttotal: 26.7ms\tremaining: 4.42s\n",
      "3:\tlearn: 7.7544335\ttotal: 31.9ms\tremaining: 3.95s\n",
      "4:\tlearn: 7.7308262\ttotal: 124ms\tremaining: 12.2s\n",
      "5:\tlearn: 7.7083557\ttotal: 130ms\tremaining: 10.7s\n",
      "6:\tlearn: 7.6852810\ttotal: 136ms\tremaining: 9.57s\n",
      "7:\tlearn: 7.6625433\ttotal: 227ms\tremaining: 13.9s\n",
      "8:\tlearn: 7.6403058\ttotal: 233ms\tremaining: 12.7s\n",
      "9:\tlearn: 7.6179167\ttotal: 325ms\tremaining: 15.9s\n",
      "10:\tlearn: 7.5962854\ttotal: 331ms\tremaining: 14.7s\n",
      "11:\tlearn: 7.5744073\ttotal: 422ms\tremaining: 17.2s\n",
      "12:\tlearn: 7.5528722\ttotal: 428ms\tremaining: 16s\n",
      "13:\tlearn: 7.5322533\ttotal: 434ms\tremaining: 15.1s\n",
      "14:\tlearn: 7.5113518\ttotal: 523ms\tremaining: 16.9s\n",
      "15:\tlearn: 7.4906895\ttotal: 529ms\tremaining: 16s\n",
      "16:\tlearn: 7.4716840\ttotal: 619ms\tremaining: 17.6s\n",
      "17:\tlearn: 7.4508360\ttotal: 624ms\tremaining: 16.7s\n",
      "18:\tlearn: 7.4323100\ttotal: 632ms\tremaining: 16s\n",
      "19:\tlearn: 7.4125153\ttotal: 721ms\tremaining: 17.3s\n",
      "20:\tlearn: 7.3926945\ttotal: 727ms\tremaining: 16.6s\n",
      "21:\tlearn: 7.3729050\ttotal: 818ms\tremaining: 17.8s\n",
      "22:\tlearn: 7.3545457\ttotal: 824ms\tremaining: 17.1s\n",
      "23:\tlearn: 7.3359636\ttotal: 830ms\tremaining: 16.5s\n",
      "24:\tlearn: 7.3168564\ttotal: 919ms\tremaining: 17.5s\n",
      "25:\tlearn: 7.2988397\ttotal: 925ms\tremaining: 16.9s\n",
      "26:\tlearn: 7.2800187\ttotal: 1.01s\tremaining: 17.8s\n",
      "27:\tlearn: 7.2628055\ttotal: 1.02s\tremaining: 17.2s\n",
      "28:\tlearn: 7.2453346\ttotal: 1.03s\tremaining: 16.7s\n",
      "29:\tlearn: 7.2274231\ttotal: 1.12s\tremaining: 17.5s\n",
      "30:\tlearn: 7.2098517\ttotal: 1.12s\tremaining: 17s\n",
      "31:\tlearn: 7.1924994\ttotal: 1.21s\tremaining: 17.8s\n",
      "32:\tlearn: 7.1759903\ttotal: 1.22s\tremaining: 17.3s\n",
      "33:\tlearn: 7.1582040\ttotal: 1.23s\tremaining: 16.8s\n",
      "34:\tlearn: 7.1404258\ttotal: 1.31s\tremaining: 17.5s\n",
      "35:\tlearn: 7.1231903\ttotal: 1.32s\tremaining: 17s\n",
      "36:\tlearn: 7.1062557\ttotal: 1.41s\tremaining: 17.7s\n",
      "37:\tlearn: 7.0893535\ttotal: 1.42s\tremaining: 17.2s\n",
      "38:\tlearn: 7.0734486\ttotal: 1.42s\tremaining: 16.8s\n",
      "39:\tlearn: 7.0568200\ttotal: 1.51s\tremaining: 17.4s\n",
      "40:\tlearn: 7.0406270\ttotal: 1.52s\tremaining: 17s\n",
      "41:\tlearn: 7.0260245\ttotal: 1.61s\tremaining: 17.6s\n",
      "42:\tlearn: 7.0106961\ttotal: 1.62s\tremaining: 17.2s\n",
      "43:\tlearn: 6.9944853\ttotal: 1.71s\tremaining: 17.7s\n",
      "44:\tlearn: 6.9787180\ttotal: 1.72s\tremaining: 17.4s\n",
      "45:\tlearn: 6.9630173\ttotal: 1.72s\tremaining: 17s\n",
      "46:\tlearn: 6.9473100\ttotal: 1.81s\tremaining: 17.4s\n",
      "47:\tlearn: 6.9321288\ttotal: 1.81s\tremaining: 17.1s\n",
      "48:\tlearn: 6.9170057\ttotal: 1.91s\tremaining: 17.5s\n",
      "49:\tlearn: 6.9033015\ttotal: 1.91s\tremaining: 17.2s\n",
      "50:\tlearn: 6.8888248\ttotal: 1.92s\tremaining: 16.9s\n",
      "51:\tlearn: 6.8752044\ttotal: 2.01s\tremaining: 17.3s\n",
      "52:\tlearn: 6.8597630\ttotal: 2.01s\tremaining: 17s\n",
      "53:\tlearn: 6.8450017\ttotal: 2.1s\tremaining: 17.4s\n",
      "54:\tlearn: 6.8306493\ttotal: 2.11s\tremaining: 17.1s\n",
      "55:\tlearn: 6.8155556\ttotal: 2.12s\tremaining: 16.8s\n",
      "56:\tlearn: 6.8015378\ttotal: 2.2s\tremaining: 17.1s\n",
      "57:\tlearn: 6.7881986\ttotal: 2.21s\tremaining: 16.8s\n",
      "58:\tlearn: 6.7748179\ttotal: 2.21s\tremaining: 16.5s\n",
      "59:\tlearn: 6.7603866\ttotal: 2.3s\tremaining: 16.9s\n",
      "60:\tlearn: 6.7465197\ttotal: 2.31s\tremaining: 16.6s\n",
      "61:\tlearn: 6.7336087\ttotal: 2.4s\tremaining: 16.9s\n",
      "62:\tlearn: 6.7197454\ttotal: 2.4s\tremaining: 16.7s\n",
      "63:\tlearn: 6.7062790\ttotal: 2.41s\tremaining: 16.4s\n",
      "64:\tlearn: 6.6938946\ttotal: 2.5s\tremaining: 16.7s\n",
      "65:\tlearn: 6.6811115\ttotal: 2.51s\tremaining: 16.5s\n",
      "66:\tlearn: 6.6692873\ttotal: 2.6s\tremaining: 16.8s\n",
      "67:\tlearn: 6.6565400\ttotal: 2.6s\tremaining: 16.5s\n",
      "68:\tlearn: 6.6439495\ttotal: 2.61s\tremaining: 16.3s\n",
      "69:\tlearn: 6.6323250\ttotal: 2.7s\tremaining: 16.6s\n",
      "70:\tlearn: 6.6210944\ttotal: 2.7s\tremaining: 16.3s\n",
      "71:\tlearn: 6.6092834\ttotal: 2.79s\tremaining: 16.6s\n",
      "72:\tlearn: 6.5964354\ttotal: 2.8s\tremaining: 16.4s\n",
      "73:\tlearn: 6.5843803\ttotal: 2.8s\tremaining: 16.1s\n",
      "74:\tlearn: 6.5728671\ttotal: 2.9s\tremaining: 16.4s\n",
      "75:\tlearn: 6.5617367\ttotal: 2.9s\tremaining: 16.2s\n",
      "76:\tlearn: 6.5499708\ttotal: 2.99s\tremaining: 16.4s\n",
      "77:\tlearn: 6.5382690\ttotal: 3s\tremaining: 16.2s\n",
      "78:\tlearn: 6.5263584\ttotal: 3.09s\tremaining: 16.5s\n",
      "79:\tlearn: 6.5144262\ttotal: 3.09s\tremaining: 16.2s\n",
      "80:\tlearn: 6.5035310\ttotal: 3.1s\tremaining: 16s\n",
      "81:\tlearn: 6.4918133\ttotal: 3.19s\tremaining: 16.3s\n",
      "82:\tlearn: 6.4807905\ttotal: 3.2s\tremaining: 16.1s\n",
      "83:\tlearn: 6.4693766\ttotal: 3.29s\tremaining: 16.3s\n",
      "84:\tlearn: 6.4582681\ttotal: 3.29s\tremaining: 16.1s\n",
      "85:\tlearn: 6.4475032\ttotal: 3.3s\tremaining: 15.9s\n",
      "86:\tlearn: 6.4365521\ttotal: 3.39s\tremaining: 16.1s\n",
      "87:\tlearn: 6.4261030\ttotal: 3.39s\tremaining: 15.9s\n",
      "88:\tlearn: 6.4162693\ttotal: 3.48s\tremaining: 16.1s\n",
      "89:\tlearn: 6.4063170\ttotal: 3.49s\tremaining: 15.9s\n",
      "90:\tlearn: 6.3957414\ttotal: 3.5s\tremaining: 15.7s\n",
      "91:\tlearn: 6.3858774\ttotal: 3.58s\tremaining: 15.9s\n",
      "92:\tlearn: 6.3750568\ttotal: 3.59s\tremaining: 15.7s\n",
      "93:\tlearn: 6.3649216\ttotal: 3.68s\tremaining: 15.9s\n",
      "94:\tlearn: 6.3542210\ttotal: 3.69s\tremaining: 15.7s\n",
      "95:\tlearn: 6.3439557\ttotal: 3.69s\tremaining: 15.6s\n",
      "96:\tlearn: 6.3330775\ttotal: 3.78s\tremaining: 15.7s\n",
      "97:\tlearn: 6.3233961\ttotal: 3.79s\tremaining: 15.5s\n",
      "98:\tlearn: 6.3131001\ttotal: 3.88s\tremaining: 15.7s\n",
      "99:\tlearn: 6.3033454\ttotal: 3.88s\tremaining: 15.5s\n",
      "100:\tlearn: 6.2942256\ttotal: 3.9s\tremaining: 15.4s\n",
      "101:\tlearn: 6.2860221\ttotal: 3.98s\tremaining: 15.5s\n",
      "102:\tlearn: 6.2769347\ttotal: 3.99s\tremaining: 15.4s\n",
      "103:\tlearn: 6.2677011\ttotal: 4.08s\tremaining: 15.5s\n",
      "104:\tlearn: 6.2579343\ttotal: 4.09s\tremaining: 15.4s\n",
      "105:\tlearn: 6.2488657\ttotal: 4.09s\tremaining: 15.2s\n",
      "106:\tlearn: 6.2398973\ttotal: 4.18s\tremaining: 15.4s\n",
      "107:\tlearn: 6.2306815\ttotal: 4.19s\tremaining: 15.2s\n",
      "108:\tlearn: 6.2214593\ttotal: 4.28s\tremaining: 15.3s\n",
      "109:\tlearn: 6.2128541\ttotal: 4.29s\tremaining: 15.2s\n",
      "110:\tlearn: 6.2051844\ttotal: 4.38s\tremaining: 15.3s\n",
      "111:\tlearn: 6.1967905\ttotal: 4.38s\tremaining: 15.2s\n",
      "112:\tlearn: 6.1883022\ttotal: 4.39s\tremaining: 15s\n",
      "113:\tlearn: 6.1799049\ttotal: 4.48s\tremaining: 15.2s\n",
      "114:\tlearn: 6.1708584\ttotal: 4.48s\tremaining: 15s\n",
      "115:\tlearn: 6.1624475\ttotal: 4.57s\tremaining: 15.1s\n",
      "116:\tlearn: 6.1542275\ttotal: 4.58s\tremaining: 15s\n",
      "117:\tlearn: 6.1458380\ttotal: 4.59s\tremaining: 14.9s\n",
      "118:\tlearn: 6.1379530\ttotal: 4.68s\tremaining: 15s\n",
      "119:\tlearn: 6.1301985\ttotal: 4.68s\tremaining: 14.8s\n",
      "120:\tlearn: 6.1218716\ttotal: 4.77s\tremaining: 14.9s\n",
      "121:\tlearn: 6.1130702\ttotal: 4.78s\tremaining: 14.8s\n",
      "122:\tlearn: 6.1050002\ttotal: 4.79s\tremaining: 14.7s\n",
      "123:\tlearn: 6.0979311\ttotal: 4.87s\tremaining: 14.8s\n",
      "124:\tlearn: 6.0895711\ttotal: 4.88s\tremaining: 14.6s\n",
      "125:\tlearn: 6.0823852\ttotal: 4.97s\tremaining: 14.8s\n",
      "126:\tlearn: 6.0744689\ttotal: 4.98s\tremaining: 14.6s\n",
      "127:\tlearn: 6.0676594\ttotal: 5.07s\tremaining: 14.7s\n",
      "128:\tlearn: 6.0600942\ttotal: 5.08s\tremaining: 14.6s\n",
      "129:\tlearn: 6.0535983\ttotal: 5.08s\tremaining: 14.5s\n",
      "130:\tlearn: 6.0462037\ttotal: 5.17s\tremaining: 14.6s\n",
      "131:\tlearn: 6.0390825\ttotal: 5.18s\tremaining: 14.4s\n",
      "132:\tlearn: 6.0320959\ttotal: 5.27s\tremaining: 14.6s\n",
      "133:\tlearn: 6.0251493\ttotal: 5.28s\tremaining: 14.4s\n",
      "134:\tlearn: 6.0177800\ttotal: 5.36s\tremaining: 14.5s\n",
      "135:\tlearn: 6.0107607\ttotal: 5.37s\tremaining: 14.4s\n",
      "136:\tlearn: 6.0043282\ttotal: 5.38s\tremaining: 14.2s\n",
      "137:\tlearn: 5.9975225\ttotal: 5.47s\tremaining: 14.3s\n",
      "138:\tlearn: 5.9900938\ttotal: 5.47s\tremaining: 14.2s\n",
      "139:\tlearn: 5.9831310\ttotal: 5.56s\tremaining: 14.3s\n",
      "140:\tlearn: 5.9763155\ttotal: 5.57s\tremaining: 14.2s\n",
      "141:\tlearn: 5.9696239\ttotal: 5.58s\tremaining: 14.1s\n",
      "142:\tlearn: 5.9630990\ttotal: 5.66s\tremaining: 14.1s\n",
      "143:\tlearn: 5.9573087\ttotal: 5.67s\tremaining: 14s\n",
      "144:\tlearn: 5.9516788\ttotal: 5.76s\tremaining: 14.1s\n",
      "145:\tlearn: 5.9456629\ttotal: 5.77s\tremaining: 14s\n",
      "146:\tlearn: 5.9391651\ttotal: 5.78s\tremaining: 13.9s\n",
      "147:\tlearn: 5.9325079\ttotal: 5.86s\tremaining: 13.9s\n",
      "148:\tlearn: 5.9255825\ttotal: 5.87s\tremaining: 13.8s\n",
      "149:\tlearn: 5.9193294\ttotal: 5.96s\tremaining: 13.9s\n",
      "150:\tlearn: 5.9128474\ttotal: 5.97s\tremaining: 13.8s\n",
      "151:\tlearn: 5.9070454\ttotal: 5.97s\tremaining: 13.7s\n",
      "152:\tlearn: 5.9011822\ttotal: 6.07s\tremaining: 13.8s\n",
      "153:\tlearn: 5.8950163\ttotal: 6.08s\tremaining: 13.7s\n",
      "154:\tlearn: 5.8886999\ttotal: 6.16s\tremaining: 13.7s\n",
      "155:\tlearn: 5.8825952\ttotal: 6.16s\tremaining: 13.6s\n",
      "156:\tlearn: 5.8764726\ttotal: 6.17s\tremaining: 13.5s\n",
      "157:\tlearn: 5.8706431\ttotal: 6.26s\tremaining: 13.5s\n",
      "158:\tlearn: 5.8645980\ttotal: 6.26s\tremaining: 13.4s\n",
      "159:\tlearn: 5.8589084\ttotal: 6.36s\tremaining: 13.5s\n",
      "160:\tlearn: 5.8531447\ttotal: 6.36s\tremaining: 13.4s\n",
      "161:\tlearn: 5.8471525\ttotal: 6.45s\tremaining: 13.5s\n",
      "162:\tlearn: 5.8410870\ttotal: 6.46s\tremaining: 13.4s\n",
      "163:\tlearn: 5.8361161\ttotal: 6.46s\tremaining: 13.2s\n",
      "164:\tlearn: 5.8303376\ttotal: 6.55s\tremaining: 13.3s\n",
      "165:\tlearn: 5.8246314\ttotal: 6.56s\tremaining: 13.2s\n",
      "166:\tlearn: 5.8192313\ttotal: 6.65s\tremaining: 13.3s\n",
      "167:\tlearn: 5.8141055\ttotal: 6.66s\tremaining: 13.2s\n",
      "168:\tlearn: 5.8084541\ttotal: 6.66s\tremaining: 13.1s\n",
      "169:\tlearn: 5.8029049\ttotal: 6.75s\tremaining: 13.1s\n",
      "170:\tlearn: 5.7978082\ttotal: 6.76s\tremaining: 13s\n",
      "171:\tlearn: 5.7922568\ttotal: 6.76s\tremaining: 12.9s\n",
      "172:\tlearn: 5.7873583\ttotal: 6.86s\tremaining: 13s\n",
      "173:\tlearn: 5.7821890\ttotal: 6.86s\tremaining: 12.9s\n",
      "174:\tlearn: 5.7768398\ttotal: 6.95s\tremaining: 12.9s\n",
      "175:\tlearn: 5.7718956\ttotal: 6.96s\tremaining: 12.8s\n",
      "176:\tlearn: 5.7672675\ttotal: 6.97s\tremaining: 12.7s\n",
      "177:\tlearn: 5.7624378\ttotal: 7.04s\tremaining: 12.7s\n",
      "178:\tlearn: 5.7573086\ttotal: 7.05s\tremaining: 12.6s\n",
      "179:\tlearn: 5.7523551\ttotal: 7.14s\tremaining: 12.7s\n",
      "180:\tlearn: 5.7475975\ttotal: 7.14s\tremaining: 12.6s\n",
      "181:\tlearn: 5.7425691\ttotal: 7.23s\tremaining: 12.6s\n",
      "182:\tlearn: 5.7383670\ttotal: 7.24s\tremaining: 12.5s\n",
      "183:\tlearn: 5.7331681\ttotal: 7.24s\tremaining: 12.4s\n",
      "184:\tlearn: 5.7282385\ttotal: 7.24s\tremaining: 12.3s\n",
      "185:\tlearn: 5.7227786\ttotal: 7.25s\tremaining: 12.2s\n",
      "186:\tlearn: 5.7181879\ttotal: 7.34s\tremaining: 12.3s\n",
      "187:\tlearn: 5.7130678\ttotal: 7.34s\tremaining: 12.2s\n",
      "188:\tlearn: 5.7084609\ttotal: 7.43s\tremaining: 12.2s\n",
      "189:\tlearn: 5.7036770\ttotal: 7.44s\tremaining: 12.1s\n",
      "190:\tlearn: 5.6994206\ttotal: 7.45s\tremaining: 12s\n",
      "191:\tlearn: 5.6947898\ttotal: 7.54s\tremaining: 12.1s\n",
      "192:\tlearn: 5.6903195\ttotal: 7.54s\tremaining: 12s\n",
      "193:\tlearn: 5.6857573\ttotal: 7.63s\tremaining: 12s\n",
      "194:\tlearn: 5.6806597\ttotal: 7.64s\tremaining: 11.9s\n",
      "195:\tlearn: 5.6760892\ttotal: 7.64s\tremaining: 11.9s\n",
      "196:\tlearn: 5.6719249\ttotal: 7.73s\tremaining: 11.9s\n",
      "197:\tlearn: 5.6677665\ttotal: 7.74s\tremaining: 11.8s\n",
      "198:\tlearn: 5.6631285\ttotal: 7.83s\tremaining: 11.8s\n",
      "199:\tlearn: 5.6586884\ttotal: 7.83s\tremaining: 11.7s\n",
      "200:\tlearn: 5.6542960\ttotal: 7.84s\tremaining: 11.7s\n",
      "201:\tlearn: 5.6495638\ttotal: 7.93s\tremaining: 11.7s\n",
      "202:\tlearn: 5.6451338\ttotal: 7.93s\tremaining: 11.6s\n",
      "203:\tlearn: 5.6410655\ttotal: 7.94s\tremaining: 11.5s\n",
      "204:\tlearn: 5.6368297\ttotal: 8.03s\tremaining: 11.6s\n",
      "205:\tlearn: 5.6328522\ttotal: 8.03s\tremaining: 11.5s\n",
      "206:\tlearn: 5.6283788\ttotal: 8.04s\tremaining: 11.4s\n",
      "207:\tlearn: 5.6239349\ttotal: 8.13s\tremaining: 11.4s\n",
      "208:\tlearn: 5.6197874\ttotal: 8.13s\tremaining: 11.3s\n",
      "209:\tlearn: 5.6157556\ttotal: 8.22s\tremaining: 11.4s\n",
      "210:\tlearn: 5.6117191\ttotal: 8.23s\tremaining: 11.3s\n",
      "211:\tlearn: 5.6078440\ttotal: 8.23s\tremaining: 11.2s\n",
      "212:\tlearn: 5.6028932\ttotal: 8.32s\tremaining: 11.2s\n",
      "213:\tlearn: 5.5987999\ttotal: 8.33s\tremaining: 11.1s\n",
      "214:\tlearn: 5.5948923\ttotal: 8.34s\tremaining: 11s\n",
      "215:\tlearn: 5.5909794\ttotal: 8.44s\tremaining: 11.1s\n",
      "216:\tlearn: 5.5873652\ttotal: 8.44s\tremaining: 11s\n",
      "217:\tlearn: 5.5837636\ttotal: 8.52s\tremaining: 11s\n",
      "218:\tlearn: 5.5798560\ttotal: 8.53s\tremaining: 10.9s\n",
      "219:\tlearn: 5.5758751\ttotal: 8.53s\tremaining: 10.9s\n",
      "220:\tlearn: 5.5719671\ttotal: 8.62s\tremaining: 10.9s\n",
      "221:\tlearn: 5.5681350\ttotal: 8.62s\tremaining: 10.8s\n",
      "222:\tlearn: 5.5636407\ttotal: 8.63s\tremaining: 10.7s\n",
      "223:\tlearn: 5.5601103\ttotal: 8.63s\tremaining: 10.6s\n",
      "224:\tlearn: 5.5560241\ttotal: 8.72s\tremaining: 10.7s\n",
      "225:\tlearn: 5.5518602\ttotal: 8.73s\tremaining: 10.6s\n",
      "226:\tlearn: 5.5484220\ttotal: 8.81s\tremaining: 10.6s\n",
      "227:\tlearn: 5.5446452\ttotal: 8.82s\tremaining: 10.5s\n",
      "228:\tlearn: 5.5408911\ttotal: 8.83s\tremaining: 10.4s\n",
      "229:\tlearn: 5.5377517\ttotal: 8.92s\tremaining: 10.5s\n",
      "230:\tlearn: 5.5340987\ttotal: 8.93s\tremaining: 10.4s\n",
      "231:\tlearn: 5.5301181\ttotal: 9.01s\tremaining: 10.4s\n",
      "232:\tlearn: 5.5268383\ttotal: 9.02s\tremaining: 10.3s\n",
      "233:\tlearn: 5.5233038\ttotal: 9.11s\tremaining: 10.4s\n",
      "234:\tlearn: 5.5199330\ttotal: 9.12s\tremaining: 10.3s\n",
      "235:\tlearn: 5.5162737\ttotal: 9.13s\tremaining: 10.2s\n",
      "236:\tlearn: 5.5121139\ttotal: 9.21s\tremaining: 10.2s\n",
      "237:\tlearn: 5.5084234\ttotal: 9.22s\tremaining: 10.2s\n",
      "238:\tlearn: 5.5048454\ttotal: 9.31s\tremaining: 10.2s\n",
      "239:\tlearn: 5.5014021\ttotal: 9.32s\tremaining: 10.1s\n",
      "240:\tlearn: 5.4981488\ttotal: 9.32s\tremaining: 10s\n",
      "241:\tlearn: 5.4946067\ttotal: 9.41s\tremaining: 10s\n",
      "242:\tlearn: 5.4910526\ttotal: 9.41s\tremaining: 9.96s\n",
      "243:\tlearn: 5.4878814\ttotal: 9.42s\tremaining: 9.89s\n",
      "244:\tlearn: 5.4848209\ttotal: 9.45s\tremaining: 9.83s\n",
      "245:\tlearn: 5.4812046\ttotal: 9.51s\tremaining: 9.82s\n",
      "246:\tlearn: 5.4773177\ttotal: 9.52s\tremaining: 9.75s\n",
      "247:\tlearn: 5.4729687\ttotal: 9.6s\tremaining: 9.76s\n",
      "248:\tlearn: 5.4694248\ttotal: 9.61s\tremaining: 9.69s\n",
      "249:\tlearn: 5.4661343\ttotal: 9.62s\tremaining: 9.62s\n",
      "250:\tlearn: 5.4629360\ttotal: 9.7s\tremaining: 9.62s\n",
      "251:\tlearn: 5.4590325\ttotal: 9.71s\tremaining: 9.55s\n",
      "252:\tlearn: 5.4559005\ttotal: 9.71s\tremaining: 9.48s\n",
      "253:\tlearn: 5.4525435\ttotal: 9.72s\tremaining: 9.41s\n",
      "254:\tlearn: 5.4493973\ttotal: 9.8s\tremaining: 9.41s\n",
      "255:\tlearn: 5.4461159\ttotal: 9.81s\tremaining: 9.35s\n",
      "256:\tlearn: 5.4429864\ttotal: 9.82s\tremaining: 9.29s\n",
      "257:\tlearn: 5.4401158\ttotal: 9.9s\tremaining: 9.29s\n",
      "258:\tlearn: 5.4370699\ttotal: 9.91s\tremaining: 9.22s\n",
      "259:\tlearn: 5.4338674\ttotal: 9.92s\tremaining: 9.15s\n",
      "260:\tlearn: 5.4303179\ttotal: 10s\tremaining: 9.16s\n",
      "261:\tlearn: 5.4264914\ttotal: 10s\tremaining: 9.09s\n",
      "262:\tlearn: 5.4235028\ttotal: 10s\tremaining: 9.03s\n",
      "263:\tlearn: 5.4201001\ttotal: 10.1s\tremaining: 9.03s\n",
      "264:\tlearn: 5.4170088\ttotal: 10.1s\tremaining: 8.96s\n",
      "265:\tlearn: 5.4137400\ttotal: 10.2s\tremaining: 8.96s\n",
      "266:\tlearn: 5.4105554\ttotal: 10.2s\tremaining: 8.9s\n",
      "267:\tlearn: 5.4074415\ttotal: 10.2s\tremaining: 8.84s\n",
      "268:\tlearn: 5.4043249\ttotal: 10.3s\tremaining: 8.84s\n",
      "269:\tlearn: 5.4016199\ttotal: 10.3s\tremaining: 8.77s\n",
      "270:\tlearn: 5.3989360\ttotal: 10.3s\tremaining: 8.71s\n",
      "271:\tlearn: 5.3959092\ttotal: 10.4s\tremaining: 8.71s\n",
      "272:\tlearn: 5.3932219\ttotal: 10.4s\tremaining: 8.65s\n",
      "273:\tlearn: 5.3904152\ttotal: 10.4s\tremaining: 8.58s\n",
      "274:\tlearn: 5.3876787\ttotal: 10.5s\tremaining: 8.58s\n",
      "275:\tlearn: 5.3844589\ttotal: 10.5s\tremaining: 8.52s\n",
      "276:\tlearn: 5.3812973\ttotal: 10.5s\tremaining: 8.45s\n",
      "277:\tlearn: 5.3787674\ttotal: 10.6s\tremaining: 8.45s\n",
      "278:\tlearn: 5.3759559\ttotal: 10.6s\tremaining: 8.39s\n",
      "279:\tlearn: 5.3726029\ttotal: 10.6s\tremaining: 8.32s\n",
      "280:\tlearn: 5.3701635\ttotal: 10.7s\tremaining: 8.32s\n",
      "281:\tlearn: 5.3676981\ttotal: 10.7s\tremaining: 8.27s\n",
      "282:\tlearn: 5.3650492\ttotal: 10.7s\tremaining: 8.21s\n",
      "283:\tlearn: 5.3620625\ttotal: 10.8s\tremaining: 8.2s\n",
      "284:\tlearn: 5.3591947\ttotal: 10.8s\tremaining: 8.14s\n",
      "285:\tlearn: 5.3566217\ttotal: 10.8s\tremaining: 8.08s\n",
      "286:\tlearn: 5.3538931\ttotal: 10.9s\tremaining: 8.07s\n",
      "287:\tlearn: 5.3510263\ttotal: 10.9s\tremaining: 8.01s\n",
      "288:\tlearn: 5.3480832\ttotal: 10.9s\tremaining: 7.95s\n",
      "289:\tlearn: 5.3455179\ttotal: 11s\tremaining: 7.95s\n",
      "290:\tlearn: 5.3423156\ttotal: 11s\tremaining: 7.89s\n",
      "291:\tlearn: 5.3397463\ttotal: 11s\tremaining: 7.83s\n",
      "292:\tlearn: 5.3368130\ttotal: 11.1s\tremaining: 7.83s\n",
      "293:\tlearn: 5.3342177\ttotal: 11.1s\tremaining: 7.77s\n",
      "294:\tlearn: 5.3317190\ttotal: 11.2s\tremaining: 7.76s\n",
      "295:\tlearn: 5.3285767\ttotal: 11.2s\tremaining: 7.71s\n",
      "296:\tlearn: 5.3259000\ttotal: 11.2s\tremaining: 7.65s\n",
      "297:\tlearn: 5.3232749\ttotal: 11.3s\tremaining: 7.64s\n",
      "298:\tlearn: 5.3209038\ttotal: 11.3s\tremaining: 7.58s\n",
      "299:\tlearn: 5.3176954\ttotal: 11.3s\tremaining: 7.53s\n",
      "300:\tlearn: 5.3151533\ttotal: 11.3s\tremaining: 7.47s\n",
      "301:\tlearn: 5.3126881\ttotal: 11.4s\tremaining: 7.46s\n",
      "302:\tlearn: 5.3099514\ttotal: 11.4s\tremaining: 7.4s\n",
      "303:\tlearn: 5.3078620\ttotal: 11.4s\tremaining: 7.34s\n",
      "304:\tlearn: 5.3054864\ttotal: 11.5s\tremaining: 7.33s\n",
      "305:\tlearn: 5.3027885\ttotal: 11.5s\tremaining: 7.28s\n",
      "306:\tlearn: 5.3004833\ttotal: 11.6s\tremaining: 7.27s\n",
      "307:\tlearn: 5.2978658\ttotal: 11.6s\tremaining: 7.21s\n",
      "308:\tlearn: 5.2948311\ttotal: 11.6s\tremaining: 7.16s\n",
      "309:\tlearn: 5.2919722\ttotal: 11.7s\tremaining: 7.15s\n",
      "310:\tlearn: 5.2899779\ttotal: 11.7s\tremaining: 7.09s\n",
      "311:\tlearn: 5.2872019\ttotal: 11.7s\tremaining: 7.04s\n",
      "312:\tlearn: 5.2839695\ttotal: 11.8s\tremaining: 7.03s\n",
      "313:\tlearn: 5.2818758\ttotal: 11.8s\tremaining: 6.97s\n",
      "314:\tlearn: 5.2794671\ttotal: 11.9s\tremaining: 6.97s\n",
      "315:\tlearn: 5.2772846\ttotal: 11.9s\tremaining: 6.91s\n",
      "316:\tlearn: 5.2749437\ttotal: 11.9s\tremaining: 6.86s\n",
      "317:\tlearn: 5.2727952\ttotal: 12s\tremaining: 6.85s\n",
      "318:\tlearn: 5.2705765\ttotal: 12s\tremaining: 6.8s\n",
      "319:\tlearn: 5.2682625\ttotal: 12s\tremaining: 6.75s\n",
      "320:\tlearn: 5.2659219\ttotal: 12.1s\tremaining: 6.72s\n",
      "321:\tlearn: 5.2631827\ttotal: 12.1s\tremaining: 6.67s\n",
      "322:\tlearn: 5.2605338\ttotal: 12.1s\tremaining: 6.62s\n",
      "323:\tlearn: 5.2583672\ttotal: 12.1s\tremaining: 6.56s\n",
      "324:\tlearn: 5.2562003\ttotal: 12.2s\tremaining: 6.55s\n",
      "325:\tlearn: 5.2536668\ttotal: 12.2s\tremaining: 6.49s\n",
      "326:\tlearn: 5.2517492\ttotal: 12.2s\tremaining: 6.44s\n",
      "327:\tlearn: 5.2497624\ttotal: 12.3s\tremaining: 6.43s\n",
      "328:\tlearn: 5.2472814\ttotal: 12.3s\tremaining: 6.37s\n",
      "329:\tlearn: 5.2451452\ttotal: 12.3s\tremaining: 6.32s\n",
      "330:\tlearn: 5.2432660\ttotal: 12.3s\tremaining: 6.27s\n",
      "331:\tlearn: 5.2408919\ttotal: 12.4s\tremaining: 6.25s\n",
      "332:\tlearn: 5.2387257\ttotal: 12.4s\tremaining: 6.2s\n",
      "333:\tlearn: 5.2365400\ttotal: 12.4s\tremaining: 6.15s\n",
      "334:\tlearn: 5.2346755\ttotal: 12.5s\tremaining: 6.13s\n",
      "335:\tlearn: 5.2326350\ttotal: 12.5s\tremaining: 6.08s\n",
      "336:\tlearn: 5.2307378\ttotal: 12.5s\tremaining: 6.03s\n",
      "337:\tlearn: 5.2284619\ttotal: 12.6s\tremaining: 6.02s\n",
      "338:\tlearn: 5.2263569\ttotal: 12.6s\tremaining: 5.96s\n",
      "339:\tlearn: 5.2244762\ttotal: 12.6s\tremaining: 5.91s\n",
      "340:\tlearn: 5.2225465\ttotal: 12.7s\tremaining: 5.9s\n",
      "341:\tlearn: 5.2203917\ttotal: 12.7s\tremaining: 5.85s\n",
      "342:\tlearn: 5.2173986\ttotal: 12.7s\tremaining: 5.8s\n",
      "343:\tlearn: 5.2155283\ttotal: 12.8s\tremaining: 5.78s\n",
      "344:\tlearn: 5.2132725\ttotal: 12.8s\tremaining: 5.73s\n",
      "345:\tlearn: 5.2116555\ttotal: 12.8s\tremaining: 5.68s\n",
      "346:\tlearn: 5.2092026\ttotal: 12.8s\tremaining: 5.67s\n",
      "347:\tlearn: 5.2069048\ttotal: 12.9s\tremaining: 5.62s\n",
      "348:\tlearn: 5.2046939\ttotal: 12.9s\tremaining: 5.57s\n",
      "349:\tlearn: 5.2027332\ttotal: 12.9s\tremaining: 5.55s\n",
      "350:\tlearn: 5.2003912\ttotal: 13s\tremaining: 5.5s\n",
      "351:\tlearn: 5.1984674\ttotal: 13s\tremaining: 5.45s\n",
      "352:\tlearn: 5.1960638\ttotal: 13s\tremaining: 5.43s\n",
      "353:\tlearn: 5.1939159\ttotal: 13.1s\tremaining: 5.38s\n",
      "354:\tlearn: 5.1919486\ttotal: 13.1s\tremaining: 5.33s\n",
      "355:\tlearn: 5.1896975\ttotal: 13.1s\tremaining: 5.32s\n",
      "356:\tlearn: 5.1880448\ttotal: 13.2s\tremaining: 5.27s\n",
      "357:\tlearn: 5.1858656\ttotal: 13.2s\tremaining: 5.22s\n",
      "358:\tlearn: 5.1838423\ttotal: 13.2s\tremaining: 5.2s\n",
      "359:\tlearn: 5.1818087\ttotal: 13.3s\tremaining: 5.15s\n",
      "360:\tlearn: 5.1799941\ttotal: 13.3s\tremaining: 5.13s\n",
      "361:\tlearn: 5.1783357\ttotal: 13.3s\tremaining: 5.09s\n",
      "362:\tlearn: 5.1759259\ttotal: 13.4s\tremaining: 5.04s\n",
      "363:\tlearn: 5.1738324\ttotal: 13.4s\tremaining: 5.02s\n",
      "364:\tlearn: 5.1719550\ttotal: 13.4s\tremaining: 4.97s\n",
      "365:\tlearn: 5.1701358\ttotal: 13.5s\tremaining: 4.92s\n",
      "366:\tlearn: 5.1682291\ttotal: 13.5s\tremaining: 4.91s\n",
      "367:\tlearn: 5.1664424\ttotal: 13.5s\tremaining: 4.86s\n",
      "368:\tlearn: 5.1647256\ttotal: 13.6s\tremaining: 4.84s\n",
      "369:\tlearn: 5.1634572\ttotal: 13.6s\tremaining: 4.79s\n",
      "370:\tlearn: 5.1615000\ttotal: 13.6s\tremaining: 4.75s\n",
      "371:\tlearn: 5.1595859\ttotal: 13.7s\tremaining: 4.7s\n",
      "372:\tlearn: 5.1569781\ttotal: 13.7s\tremaining: 4.68s\n",
      "373:\tlearn: 5.1554253\ttotal: 13.7s\tremaining: 4.63s\n",
      "374:\tlearn: 5.1537407\ttotal: 13.8s\tremaining: 4.61s\n",
      "375:\tlearn: 5.1518435\ttotal: 13.8s\tremaining: 4.56s\n",
      "376:\tlearn: 5.1497149\ttotal: 13.8s\tremaining: 4.52s\n",
      "377:\tlearn: 5.1479269\ttotal: 13.9s\tremaining: 4.5s\n",
      "378:\tlearn: 5.1456974\ttotal: 13.9s\tremaining: 4.45s\n",
      "379:\tlearn: 5.1441156\ttotal: 13.9s\tremaining: 4.4s\n",
      "380:\tlearn: 5.1424835\ttotal: 14s\tremaining: 4.38s\n",
      "381:\tlearn: 5.1409892\ttotal: 14s\tremaining: 4.34s\n",
      "382:\tlearn: 5.1387095\ttotal: 14s\tremaining: 4.29s\n",
      "383:\tlearn: 5.1366059\ttotal: 14.1s\tremaining: 4.27s\n",
      "384:\tlearn: 5.1350300\ttotal: 14.1s\tremaining: 4.22s\n",
      "385:\tlearn: 5.1334608\ttotal: 14.1s\tremaining: 4.18s\n",
      "386:\tlearn: 5.1308629\ttotal: 14.2s\tremaining: 4.16s\n",
      "387:\tlearn: 5.1290832\ttotal: 14.2s\tremaining: 4.11s\n",
      "388:\tlearn: 5.1276294\ttotal: 14.3s\tremaining: 4.07s\n",
      "389:\tlearn: 5.1257700\ttotal: 14.3s\tremaining: 4.04s\n",
      "390:\tlearn: 5.1235878\ttotal: 14.3s\tremaining: 3.99s\n",
      "391:\tlearn: 5.1221263\ttotal: 14.3s\tremaining: 3.95s\n",
      "392:\tlearn: 5.1205195\ttotal: 14.3s\tremaining: 3.9s\n",
      "393:\tlearn: 5.1188377\ttotal: 14.4s\tremaining: 3.88s\n",
      "394:\tlearn: 5.1166527\ttotal: 14.4s\tremaining: 3.83s\n",
      "395:\tlearn: 5.1147053\ttotal: 14.4s\tremaining: 3.79s\n",
      "396:\tlearn: 5.1123327\ttotal: 14.5s\tremaining: 3.76s\n",
      "397:\tlearn: 5.1108679\ttotal: 14.5s\tremaining: 3.72s\n",
      "398:\tlearn: 5.1094132\ttotal: 14.5s\tremaining: 3.67s\n",
      "399:\tlearn: 5.1077601\ttotal: 14.6s\tremaining: 3.65s\n",
      "400:\tlearn: 5.1065795\ttotal: 14.6s\tremaining: 3.6s\n",
      "401:\tlearn: 5.1050124\ttotal: 14.6s\tremaining: 3.56s\n",
      "402:\tlearn: 5.1037355\ttotal: 14.7s\tremaining: 3.54s\n",
      "403:\tlearn: 5.1023929\ttotal: 14.7s\tremaining: 3.49s\n",
      "404:\tlearn: 5.1007838\ttotal: 14.7s\tremaining: 3.45s\n",
      "405:\tlearn: 5.0990996\ttotal: 14.8s\tremaining: 3.42s\n",
      "406:\tlearn: 5.0974052\ttotal: 14.8s\tremaining: 3.38s\n",
      "407:\tlearn: 5.0958296\ttotal: 14.8s\tremaining: 3.34s\n",
      "408:\tlearn: 5.0943877\ttotal: 14.8s\tremaining: 3.29s\n",
      "409:\tlearn: 5.0926828\ttotal: 14.9s\tremaining: 3.27s\n",
      "410:\tlearn: 5.0913286\ttotal: 14.9s\tremaining: 3.23s\n",
      "411:\tlearn: 5.0895647\ttotal: 14.9s\tremaining: 3.18s\n",
      "412:\tlearn: 5.0880702\ttotal: 15s\tremaining: 3.16s\n",
      "413:\tlearn: 5.0866359\ttotal: 15s\tremaining: 3.12s\n",
      "414:\tlearn: 5.0849634\ttotal: 15.1s\tremaining: 3.09s\n",
      "415:\tlearn: 5.0832093\ttotal: 15.1s\tremaining: 3.05s\n",
      "416:\tlearn: 5.0817794\ttotal: 15.1s\tremaining: 3s\n",
      "417:\tlearn: 5.0804314\ttotal: 15.2s\tremaining: 2.98s\n",
      "418:\tlearn: 5.0789600\ttotal: 15.2s\tremaining: 2.94s\n",
      "419:\tlearn: 5.0775658\ttotal: 15.2s\tremaining: 2.9s\n",
      "420:\tlearn: 5.0760058\ttotal: 15.2s\tremaining: 2.85s\n",
      "421:\tlearn: 5.0745910\ttotal: 15.3s\tremaining: 2.83s\n",
      "422:\tlearn: 5.0732399\ttotal: 15.3s\tremaining: 2.78s\n",
      "423:\tlearn: 5.0713981\ttotal: 15.3s\tremaining: 2.74s\n",
      "424:\tlearn: 5.0700261\ttotal: 15.4s\tremaining: 2.72s\n",
      "425:\tlearn: 5.0681434\ttotal: 15.4s\tremaining: 2.68s\n",
      "426:\tlearn: 5.0667449\ttotal: 15.4s\tremaining: 2.63s\n",
      "427:\tlearn: 5.0652750\ttotal: 15.5s\tremaining: 2.6s\n",
      "428:\tlearn: 5.0641632\ttotal: 15.5s\tremaining: 2.56s\n",
      "429:\tlearn: 5.0629308\ttotal: 15.6s\tremaining: 2.54s\n",
      "430:\tlearn: 5.0612189\ttotal: 15.6s\tremaining: 2.49s\n",
      "431:\tlearn: 5.0600676\ttotal: 15.6s\tremaining: 2.45s\n",
      "432:\tlearn: 5.0585302\ttotal: 15.7s\tremaining: 2.42s\n",
      "433:\tlearn: 5.0570604\ttotal: 15.7s\tremaining: 2.38s\n",
      "434:\tlearn: 5.0550443\ttotal: 15.7s\tremaining: 2.34s\n",
      "435:\tlearn: 5.0536980\ttotal: 15.8s\tremaining: 2.31s\n",
      "436:\tlearn: 5.0515975\ttotal: 15.8s\tremaining: 2.27s\n",
      "437:\tlearn: 5.0498600\ttotal: 15.8s\tremaining: 2.23s\n",
      "438:\tlearn: 5.0486404\ttotal: 15.8s\tremaining: 2.19s\n",
      "439:\tlearn: 5.0469910\ttotal: 15.9s\tremaining: 2.16s\n",
      "440:\tlearn: 5.0450889\ttotal: 15.9s\tremaining: 2.12s\n",
      "441:\tlearn: 5.0435149\ttotal: 15.9s\tremaining: 2.08s\n",
      "442:\tlearn: 5.0425305\ttotal: 15.9s\tremaining: 2.04s\n",
      "443:\tlearn: 5.0409588\ttotal: 16s\tremaining: 2.01s\n",
      "444:\tlearn: 5.0398751\ttotal: 16s\tremaining: 1.97s\n",
      "445:\tlearn: 5.0380823\ttotal: 16.1s\tremaining: 1.95s\n",
      "446:\tlearn: 5.0367445\ttotal: 16.1s\tremaining: 1.91s\n",
      "447:\tlearn: 5.0350682\ttotal: 16.1s\tremaining: 1.87s\n",
      "448:\tlearn: 5.0338999\ttotal: 16.2s\tremaining: 1.83s\n",
      "449:\tlearn: 5.0328251\ttotal: 16.2s\tremaining: 1.8s\n",
      "450:\tlearn: 5.0310625\ttotal: 16.2s\tremaining: 1.76s\n",
      "451:\tlearn: 5.0296271\ttotal: 16.3s\tremaining: 1.73s\n",
      "452:\tlearn: 5.0282786\ttotal: 16.3s\tremaining: 1.69s\n",
      "453:\tlearn: 5.0270573\ttotal: 16.3s\tremaining: 1.65s\n",
      "454:\tlearn: 5.0259631\ttotal: 16.4s\tremaining: 1.62s\n",
      "455:\tlearn: 5.0247860\ttotal: 16.4s\tremaining: 1.58s\n",
      "456:\tlearn: 5.0235731\ttotal: 16.5s\tremaining: 1.55s\n",
      "457:\tlearn: 5.0220392\ttotal: 16.5s\tremaining: 1.51s\n",
      "458:\tlearn: 5.0204281\ttotal: 16.5s\tremaining: 1.47s\n",
      "459:\tlearn: 5.0192980\ttotal: 16.6s\tremaining: 1.44s\n",
      "460:\tlearn: 5.0181012\ttotal: 16.6s\tremaining: 1.4s\n",
      "461:\tlearn: 5.0166508\ttotal: 16.6s\tremaining: 1.36s\n",
      "462:\tlearn: 5.0155503\ttotal: 16.7s\tremaining: 1.33s\n",
      "463:\tlearn: 5.0143764\ttotal: 16.7s\tremaining: 1.29s\n",
      "464:\tlearn: 5.0131470\ttotal: 16.7s\tremaining: 1.25s\n",
      "465:\tlearn: 5.0118267\ttotal: 16.8s\tremaining: 1.22s\n",
      "466:\tlearn: 5.0105328\ttotal: 16.8s\tremaining: 1.18s\n",
      "467:\tlearn: 5.0093948\ttotal: 16.8s\tremaining: 1.15s\n",
      "468:\tlearn: 5.0079161\ttotal: 16.9s\tremaining: 1.11s\n",
      "469:\tlearn: 5.0065566\ttotal: 16.9s\tremaining: 1.08s\n",
      "470:\tlearn: 5.0047705\ttotal: 16.9s\tremaining: 1.04s\n",
      "471:\tlearn: 5.0032436\ttotal: 16.9s\tremaining: 1s\n",
      "472:\tlearn: 5.0018063\ttotal: 16.9s\tremaining: 967ms\n",
      "473:\tlearn: 5.0009841\ttotal: 17s\tremaining: 930ms\n",
      "474:\tlearn: 4.9995928\ttotal: 17s\tremaining: 893ms\n",
      "475:\tlearn: 4.9983479\ttotal: 17.1s\tremaining: 861ms\n",
      "476:\tlearn: 4.9966400\ttotal: 17.1s\tremaining: 824ms\n",
      "477:\tlearn: 4.9945341\ttotal: 17.1s\tremaining: 789ms\n",
      "478:\tlearn: 4.9934856\ttotal: 17.2s\tremaining: 752ms\n",
      "479:\tlearn: 4.9921562\ttotal: 17.2s\tremaining: 715ms\n",
      "480:\tlearn: 4.9911143\ttotal: 17.2s\tremaining: 678ms\n",
      "481:\tlearn: 4.9898289\ttotal: 17.2s\tremaining: 644ms\n",
      "482:\tlearn: 4.9888579\ttotal: 17.3s\tremaining: 607ms\n",
      "483:\tlearn: 4.9872011\ttotal: 17.3s\tremaining: 571ms\n",
      "484:\tlearn: 4.9855522\ttotal: 17.3s\tremaining: 536ms\n",
      "485:\tlearn: 4.9844287\ttotal: 17.3s\tremaining: 500ms\n",
      "486:\tlearn: 4.9833397\ttotal: 17.4s\tremaining: 463ms\n",
      "487:\tlearn: 4.9822736\ttotal: 17.4s\tremaining: 429ms\n",
      "488:\tlearn: 4.9809453\ttotal: 17.4s\tremaining: 392ms\n",
      "489:\tlearn: 4.9796285\ttotal: 17.4s\tremaining: 356ms\n",
      "490:\tlearn: 4.9786933\ttotal: 17.5s\tremaining: 322ms\n",
      "491:\tlearn: 4.9767930\ttotal: 17.6s\tremaining: 285ms\n",
      "492:\tlearn: 4.9757047\ttotal: 17.6s\tremaining: 249ms\n",
      "493:\tlearn: 4.9741208\ttotal: 17.6s\tremaining: 214ms\n",
      "494:\tlearn: 4.9723639\ttotal: 17.6s\tremaining: 178ms\n",
      "495:\tlearn: 4.9712675\ttotal: 17.7s\tremaining: 143ms\n",
      "496:\tlearn: 4.9697467\ttotal: 17.7s\tremaining: 107ms\n",
      "497:\tlearn: 4.9683018\ttotal: 17.7s\tremaining: 71.3ms\n",
      "498:\tlearn: 4.9671978\ttotal: 17.8s\tremaining: 35.7ms\n",
      "499:\tlearn: 4.9662028\ttotal: 17.8s\tremaining: 0us\n"
     ]
    }
   ],
   "source": [
    "scores_train_rougher_cb = cross_val_score(model_cb, features_train, target_train_rougher, cv = 5, scoring=scorer)"
   ]
  },
  {
   "cell_type": "code",
   "execution_count": 79,
   "metadata": {},
   "outputs": [],
   "source": [
    "smape_rougher_cb = scores_train_rougher_cb.mean() # sMAPE для этапа флотации"
   ]
  },
  {
   "cell_type": "code",
   "execution_count": 80,
   "metadata": {},
   "outputs": [
    {
     "name": "stdout",
     "output_type": "stream",
     "text": [
      "0:\tlearn: 9.0448665\ttotal: 6.83ms\tremaining: 3.41s\n",
      "1:\tlearn: 9.0272774\ttotal: 13.3ms\tremaining: 3.31s\n",
      "2:\tlearn: 9.0103553\ttotal: 62.5ms\tremaining: 10.4s\n",
      "3:\tlearn: 8.9934149\ttotal: 69.8ms\tremaining: 8.66s\n",
      "4:\tlearn: 8.9759849\ttotal: 75.7ms\tremaining: 7.49s\n",
      "5:\tlearn: 8.9597203\ttotal: 164ms\tremaining: 13.5s\n",
      "6:\tlearn: 8.9430010\ttotal: 170ms\tremaining: 12s\n",
      "7:\tlearn: 8.9267272\ttotal: 177ms\tremaining: 10.9s\n",
      "8:\tlearn: 8.9103542\ttotal: 266ms\tremaining: 14.5s\n",
      "9:\tlearn: 8.8934367\ttotal: 273ms\tremaining: 13.4s\n",
      "10:\tlearn: 8.8773324\ttotal: 362ms\tremaining: 16.1s\n",
      "11:\tlearn: 8.8616935\ttotal: 369ms\tremaining: 15s\n",
      "12:\tlearn: 8.8462957\ttotal: 456ms\tremaining: 17.1s\n",
      "13:\tlearn: 8.8306321\ttotal: 466ms\tremaining: 16.2s\n",
      "14:\tlearn: 8.8153999\ttotal: 474ms\tremaining: 15.3s\n",
      "15:\tlearn: 8.8002373\ttotal: 560ms\tremaining: 16.9s\n",
      "16:\tlearn: 8.7857414\ttotal: 567ms\tremaining: 16.1s\n",
      "17:\tlearn: 8.7714540\ttotal: 575ms\tremaining: 15.4s\n",
      "18:\tlearn: 8.7562762\ttotal: 660ms\tremaining: 16.7s\n",
      "19:\tlearn: 8.7417923\ttotal: 667ms\tremaining: 16s\n",
      "20:\tlearn: 8.7277530\ttotal: 678ms\tremaining: 15.5s\n",
      "21:\tlearn: 8.7132413\ttotal: 758ms\tremaining: 16.5s\n",
      "22:\tlearn: 8.6990622\ttotal: 767ms\tremaining: 15.9s\n",
      "23:\tlearn: 8.6855827\ttotal: 863ms\tremaining: 17.1s\n",
      "24:\tlearn: 8.6723514\ttotal: 878ms\tremaining: 16.7s\n",
      "25:\tlearn: 8.6593689\ttotal: 974ms\tremaining: 17.7s\n",
      "26:\tlearn: 8.6447828\ttotal: 979ms\tremaining: 17.1s\n",
      "27:\tlearn: 8.6306680\ttotal: 1.05s\tremaining: 17.8s\n",
      "28:\tlearn: 8.6175933\ttotal: 1.06s\tremaining: 17.2s\n",
      "29:\tlearn: 8.6048587\ttotal: 1.15s\tremaining: 18s\n",
      "30:\tlearn: 8.5914903\ttotal: 1.16s\tremaining: 17.5s\n",
      "31:\tlearn: 8.5779084\ttotal: 1.16s\tremaining: 17s\n",
      "32:\tlearn: 8.5643040\ttotal: 1.25s\tremaining: 17.7s\n",
      "33:\tlearn: 8.5516553\ttotal: 1.26s\tremaining: 17.2s\n",
      "34:\tlearn: 8.5386055\ttotal: 1.35s\tremaining: 17.9s\n",
      "35:\tlearn: 8.5255726\ttotal: 1.35s\tremaining: 17.5s\n",
      "36:\tlearn: 8.5124866\ttotal: 1.36s\tremaining: 17s\n",
      "37:\tlearn: 8.5014676\ttotal: 1.45s\tremaining: 17.6s\n",
      "38:\tlearn: 8.4891503\ttotal: 1.46s\tremaining: 17.2s\n",
      "39:\tlearn: 8.4768216\ttotal: 1.54s\tremaining: 17.7s\n",
      "40:\tlearn: 8.4650155\ttotal: 1.55s\tremaining: 17.4s\n",
      "41:\tlearn: 8.4535741\ttotal: 1.56s\tremaining: 17s\n",
      "42:\tlearn: 8.4409497\ttotal: 1.65s\tremaining: 17.5s\n",
      "43:\tlearn: 8.4291759\ttotal: 1.65s\tremaining: 17.1s\n",
      "44:\tlearn: 8.4179292\ttotal: 1.75s\tremaining: 17.6s\n",
      "45:\tlearn: 8.4076770\ttotal: 1.75s\tremaining: 17.3s\n",
      "46:\tlearn: 8.3967611\ttotal: 1.76s\tremaining: 17s\n",
      "47:\tlearn: 8.3865979\ttotal: 1.84s\tremaining: 17.4s\n",
      "48:\tlearn: 8.3754869\ttotal: 1.85s\tremaining: 17s\n",
      "49:\tlearn: 8.3647285\ttotal: 1.85s\tremaining: 16.7s\n",
      "50:\tlearn: 8.3538095\ttotal: 1.94s\tremaining: 17.1s\n",
      "51:\tlearn: 8.3433541\ttotal: 1.95s\tremaining: 16.8s\n",
      "52:\tlearn: 8.3332620\ttotal: 2.04s\tremaining: 17.2s\n",
      "53:\tlearn: 8.3216787\ttotal: 2.04s\tremaining: 16.9s\n",
      "54:\tlearn: 8.3108235\ttotal: 2.05s\tremaining: 16.6s\n",
      "55:\tlearn: 8.3001054\ttotal: 2.14s\tremaining: 17s\n",
      "56:\tlearn: 8.2910794\ttotal: 2.14s\tremaining: 16.7s\n",
      "57:\tlearn: 8.2819469\ttotal: 2.15s\tremaining: 16.4s\n",
      "58:\tlearn: 8.2715743\ttotal: 2.24s\tremaining: 16.8s\n",
      "59:\tlearn: 8.2619609\ttotal: 2.25s\tremaining: 16.5s\n",
      "60:\tlearn: 8.2532088\ttotal: 2.33s\tremaining: 16.8s\n",
      "61:\tlearn: 8.2431055\ttotal: 2.34s\tremaining: 16.6s\n",
      "62:\tlearn: 8.2326267\ttotal: 2.35s\tremaining: 16.3s\n",
      "63:\tlearn: 8.2226296\ttotal: 2.44s\tremaining: 16.6s\n",
      "64:\tlearn: 8.2140868\ttotal: 2.44s\tremaining: 16.4s\n",
      "65:\tlearn: 8.2051730\ttotal: 2.45s\tremaining: 16.1s\n",
      "66:\tlearn: 8.1959927\ttotal: 2.54s\tremaining: 16.4s\n",
      "67:\tlearn: 8.1862838\ttotal: 2.54s\tremaining: 16.2s\n",
      "68:\tlearn: 8.1760032\ttotal: 2.63s\tremaining: 16.4s\n",
      "69:\tlearn: 8.1672750\ttotal: 2.64s\tremaining: 16.2s\n",
      "70:\tlearn: 8.1585834\ttotal: 2.65s\tremaining: 16s\n",
      "71:\tlearn: 8.1505171\ttotal: 2.73s\tremaining: 16.2s\n",
      "72:\tlearn: 8.1420683\ttotal: 2.74s\tremaining: 16s\n",
      "73:\tlearn: 8.1339312\ttotal: 2.74s\tremaining: 15.8s\n",
      "74:\tlearn: 8.1252090\ttotal: 2.83s\tremaining: 16.1s\n",
      "75:\tlearn: 8.1174963\ttotal: 2.84s\tremaining: 15.8s\n",
      "76:\tlearn: 8.1093250\ttotal: 2.93s\tremaining: 16.1s\n",
      "77:\tlearn: 8.1006040\ttotal: 2.94s\tremaining: 15.9s\n",
      "78:\tlearn: 8.0922254\ttotal: 2.95s\tremaining: 15.7s\n",
      "79:\tlearn: 8.0840470\ttotal: 3.03s\tremaining: 15.9s\n",
      "80:\tlearn: 8.0757222\ttotal: 3.04s\tremaining: 15.7s\n",
      "81:\tlearn: 8.0669434\ttotal: 3.13s\tremaining: 15.9s\n",
      "82:\tlearn: 8.0585193\ttotal: 3.13s\tremaining: 15.7s\n",
      "83:\tlearn: 8.0509851\ttotal: 3.14s\tremaining: 15.6s\n",
      "84:\tlearn: 8.0431037\ttotal: 3.23s\tremaining: 15.8s\n",
      "85:\tlearn: 8.0349307\ttotal: 3.24s\tremaining: 15.6s\n",
      "86:\tlearn: 8.0269522\ttotal: 3.33s\tremaining: 15.8s\n",
      "87:\tlearn: 8.0195881\ttotal: 3.33s\tremaining: 15.6s\n",
      "88:\tlearn: 8.0121283\ttotal: 3.34s\tremaining: 15.4s\n",
      "89:\tlearn: 8.0047126\ttotal: 3.43s\tremaining: 15.6s\n",
      "90:\tlearn: 7.9980456\ttotal: 3.44s\tremaining: 15.4s\n",
      "91:\tlearn: 7.9903477\ttotal: 3.52s\tremaining: 15.6s\n",
      "92:\tlearn: 7.9836474\ttotal: 3.53s\tremaining: 15.5s\n",
      "93:\tlearn: 7.9763219\ttotal: 3.62s\tremaining: 15.6s\n",
      "94:\tlearn: 7.9694033\ttotal: 3.63s\tremaining: 15.5s\n",
      "95:\tlearn: 7.9620143\ttotal: 3.63s\tremaining: 15.3s\n",
      "96:\tlearn: 7.9545590\ttotal: 3.72s\tremaining: 15.5s\n",
      "97:\tlearn: 7.9478756\ttotal: 3.73s\tremaining: 15.3s\n",
      "98:\tlearn: 7.9410963\ttotal: 3.73s\tremaining: 15.1s\n",
      "99:\tlearn: 7.9338873\ttotal: 3.83s\tremaining: 15.3s\n",
      "100:\tlearn: 7.9269535\ttotal: 3.83s\tremaining: 15.1s\n",
      "101:\tlearn: 7.9201249\ttotal: 3.91s\tremaining: 15.3s\n",
      "102:\tlearn: 7.9135208\ttotal: 3.91s\tremaining: 15.1s\n",
      "103:\tlearn: 7.9066989\ttotal: 3.92s\tremaining: 14.9s\n",
      "104:\tlearn: 7.8986834\ttotal: 4.01s\tremaining: 15.1s\n",
      "105:\tlearn: 7.8920554\ttotal: 4.01s\tremaining: 14.9s\n",
      "106:\tlearn: 7.8848213\ttotal: 4.1s\tremaining: 15.1s\n",
      "107:\tlearn: 7.8780778\ttotal: 4.11s\tremaining: 14.9s\n",
      "108:\tlearn: 7.8713983\ttotal: 4.12s\tremaining: 14.8s\n",
      "109:\tlearn: 7.8658627\ttotal: 4.21s\tremaining: 14.9s\n",
      "110:\tlearn: 7.8595341\ttotal: 4.22s\tremaining: 14.8s\n",
      "111:\tlearn: 7.8536352\ttotal: 4.3s\tremaining: 14.9s\n",
      "112:\tlearn: 7.8472745\ttotal: 4.31s\tremaining: 14.8s\n",
      "113:\tlearn: 7.8406082\ttotal: 4.4s\tremaining: 14.9s\n",
      "114:\tlearn: 7.8345300\ttotal: 4.41s\tremaining: 14.7s\n",
      "115:\tlearn: 7.8281884\ttotal: 4.41s\tremaining: 14.6s\n",
      "116:\tlearn: 7.8220270\ttotal: 4.5s\tremaining: 14.7s\n",
      "117:\tlearn: 7.8158084\ttotal: 4.51s\tremaining: 14.6s\n",
      "118:\tlearn: 7.8100478\ttotal: 4.51s\tremaining: 14.4s\n",
      "119:\tlearn: 7.8038140\ttotal: 4.59s\tremaining: 14.6s\n",
      "120:\tlearn: 7.7981542\ttotal: 4.6s\tremaining: 14.4s\n",
      "121:\tlearn: 7.7910404\ttotal: 4.7s\tremaining: 14.5s\n",
      "122:\tlearn: 7.7859719\ttotal: 4.7s\tremaining: 14.4s\n",
      "123:\tlearn: 7.7799037\ttotal: 4.71s\tremaining: 14.3s\n",
      "124:\tlearn: 7.7740638\ttotal: 4.8s\tremaining: 14.4s\n",
      "125:\tlearn: 7.7668769\ttotal: 4.8s\tremaining: 14.3s\n",
      "126:\tlearn: 7.7610345\ttotal: 4.89s\tremaining: 14.4s\n",
      "127:\tlearn: 7.7556468\ttotal: 4.9s\tremaining: 14.2s\n",
      "128:\tlearn: 7.7499832\ttotal: 4.92s\tremaining: 14.1s\n",
      "129:\tlearn: 7.7452416\ttotal: 5s\tremaining: 14.2s\n",
      "130:\tlearn: 7.7403529\ttotal: 5.01s\tremaining: 14.1s\n",
      "131:\tlearn: 7.7344666\ttotal: 5.09s\tremaining: 14.2s\n",
      "132:\tlearn: 7.7291382\ttotal: 5.1s\tremaining: 14.1s\n",
      "133:\tlearn: 7.7228809\ttotal: 5.11s\tremaining: 13.9s\n",
      "134:\tlearn: 7.7172243\ttotal: 5.19s\tremaining: 14s\n",
      "135:\tlearn: 7.7120358\ttotal: 5.2s\tremaining: 13.9s\n",
      "136:\tlearn: 7.7066315\ttotal: 5.29s\tremaining: 14s\n",
      "137:\tlearn: 7.7011118\ttotal: 5.3s\tremaining: 13.9s\n",
      "138:\tlearn: 7.6960082\ttotal: 5.39s\tremaining: 14s\n",
      "139:\tlearn: 7.6905563\ttotal: 5.39s\tremaining: 13.9s\n",
      "140:\tlearn: 7.6854278\ttotal: 5.49s\tremaining: 14s\n",
      "141:\tlearn: 7.6800034\ttotal: 5.5s\tremaining: 13.9s\n",
      "142:\tlearn: 7.6743563\ttotal: 5.5s\tremaining: 13.7s\n",
      "143:\tlearn: 7.6701986\ttotal: 5.59s\tremaining: 13.8s\n",
      "144:\tlearn: 7.6649064\ttotal: 5.59s\tremaining: 13.7s\n",
      "145:\tlearn: 7.6590645\ttotal: 5.69s\tremaining: 13.8s\n",
      "146:\tlearn: 7.6532672\ttotal: 5.69s\tremaining: 13.7s\n",
      "147:\tlearn: 7.6482154\ttotal: 5.79s\tremaining: 13.8s\n",
      "148:\tlearn: 7.6432312\ttotal: 5.79s\tremaining: 13.6s\n",
      "149:\tlearn: 7.6382445\ttotal: 5.8s\tremaining: 13.5s\n",
      "150:\tlearn: 7.6331316\ttotal: 5.89s\tremaining: 13.6s\n",
      "151:\tlearn: 7.6289232\ttotal: 5.89s\tremaining: 13.5s\n",
      "152:\tlearn: 7.6243972\ttotal: 5.98s\tremaining: 13.6s\n",
      "153:\tlearn: 7.6192968\ttotal: 5.99s\tremaining: 13.5s\n",
      "154:\tlearn: 7.6147138\ttotal: 6s\tremaining: 13.3s\n",
      "155:\tlearn: 7.6099227\ttotal: 6.09s\tremaining: 13.4s\n",
      "156:\tlearn: 7.6054391\ttotal: 6.09s\tremaining: 13.3s\n",
      "157:\tlearn: 7.6009577\ttotal: 6.18s\tremaining: 13.4s\n",
      "158:\tlearn: 7.5968183\ttotal: 6.19s\tremaining: 13.3s\n",
      "159:\tlearn: 7.5924176\ttotal: 6.28s\tremaining: 13.3s\n",
      "160:\tlearn: 7.5879875\ttotal: 6.32s\tremaining: 13.3s\n",
      "161:\tlearn: 7.5828488\ttotal: 6.38s\tremaining: 13.3s\n",
      "162:\tlearn: 7.5786131\ttotal: 6.39s\tremaining: 13.2s\n",
      "163:\tlearn: 7.5741818\ttotal: 6.48s\tremaining: 13.3s\n",
      "164:\tlearn: 7.5701043\ttotal: 6.49s\tremaining: 13.2s\n",
      "165:\tlearn: 7.5663165\ttotal: 6.58s\tremaining: 13.2s\n",
      "166:\tlearn: 7.5621128\ttotal: 6.58s\tremaining: 13.1s\n",
      "167:\tlearn: 7.5578439\ttotal: 6.59s\tremaining: 13s\n",
      "168:\tlearn: 7.5539403\ttotal: 6.68s\tremaining: 13.1s\n",
      "169:\tlearn: 7.5496412\ttotal: 6.69s\tremaining: 13s\n",
      "170:\tlearn: 7.5452764\ttotal: 6.78s\tremaining: 13s\n",
      "171:\tlearn: 7.5408803\ttotal: 6.78s\tremaining: 12.9s\n",
      "172:\tlearn: 7.5367188\ttotal: 6.87s\tremaining: 13s\n",
      "173:\tlearn: 7.5326164\ttotal: 6.88s\tremaining: 12.9s\n",
      "174:\tlearn: 7.5288779\ttotal: 6.88s\tremaining: 12.8s\n",
      "175:\tlearn: 7.5249159\ttotal: 6.97s\tremaining: 12.8s\n",
      "176:\tlearn: 7.5209229\ttotal: 6.98s\tremaining: 12.7s\n",
      "177:\tlearn: 7.5167504\ttotal: 6.99s\tremaining: 12.6s\n",
      "178:\tlearn: 7.5132452\ttotal: 7.07s\tremaining: 12.7s\n",
      "179:\tlearn: 7.5090334\ttotal: 7.08s\tremaining: 12.6s\n",
      "180:\tlearn: 7.5048631\ttotal: 7.16s\tremaining: 12.6s\n",
      "181:\tlearn: 7.5009723\ttotal: 7.17s\tremaining: 12.5s\n",
      "182:\tlearn: 7.4974740\ttotal: 7.17s\tremaining: 12.4s\n",
      "183:\tlearn: 7.4940101\ttotal: 7.26s\tremaining: 12.5s\n",
      "184:\tlearn: 7.4900813\ttotal: 7.28s\tremaining: 12.4s\n",
      "185:\tlearn: 7.4861407\ttotal: 7.36s\tremaining: 12.4s\n",
      "186:\tlearn: 7.4826511\ttotal: 7.37s\tremaining: 12.3s\n",
      "187:\tlearn: 7.4784579\ttotal: 7.46s\tremaining: 12.4s\n",
      "188:\tlearn: 7.4751930\ttotal: 7.46s\tremaining: 12.3s\n",
      "189:\tlearn: 7.4719999\ttotal: 7.47s\tremaining: 12.2s\n",
      "190:\tlearn: 7.4672645\ttotal: 7.56s\tremaining: 12.2s\n",
      "191:\tlearn: 7.4638447\ttotal: 7.56s\tremaining: 12.1s\n",
      "192:\tlearn: 7.4599922\ttotal: 7.57s\tremaining: 12s\n",
      "193:\tlearn: 7.4555164\ttotal: 7.66s\tremaining: 12.1s\n",
      "194:\tlearn: 7.4526439\ttotal: 7.67s\tremaining: 12s\n",
      "195:\tlearn: 7.4492554\ttotal: 7.76s\tremaining: 12s\n",
      "196:\tlearn: 7.4453643\ttotal: 7.77s\tremaining: 11.9s\n",
      "197:\tlearn: 7.4417897\ttotal: 7.85s\tremaining: 12s\n",
      "198:\tlearn: 7.4381220\ttotal: 7.86s\tremaining: 11.9s\n",
      "199:\tlearn: 7.4343498\ttotal: 7.95s\tremaining: 11.9s\n",
      "200:\tlearn: 7.4309475\ttotal: 7.96s\tremaining: 11.8s\n",
      "201:\tlearn: 7.4276040\ttotal: 8.05s\tremaining: 11.9s\n",
      "202:\tlearn: 7.4244519\ttotal: 8.05s\tremaining: 11.8s\n",
      "203:\tlearn: 7.4208165\ttotal: 8.06s\tremaining: 11.7s\n",
      "204:\tlearn: 7.4166389\ttotal: 8.15s\tremaining: 11.7s\n",
      "205:\tlearn: 7.4137122\ttotal: 8.16s\tremaining: 11.6s\n",
      "206:\tlearn: 7.4100423\ttotal: 8.25s\tremaining: 11.7s\n",
      "207:\tlearn: 7.4064193\ttotal: 8.26s\tremaining: 11.6s\n",
      "208:\tlearn: 7.4020412\ttotal: 8.34s\tremaining: 11.6s\n",
      "209:\tlearn: 7.3990204\ttotal: 8.35s\tremaining: 11.5s\n",
      "210:\tlearn: 7.3955189\ttotal: 8.36s\tremaining: 11.4s\n",
      "211:\tlearn: 7.3924054\ttotal: 8.44s\tremaining: 11.5s\n",
      "212:\tlearn: 7.3889591\ttotal: 8.45s\tremaining: 11.4s\n",
      "213:\tlearn: 7.3858927\ttotal: 8.54s\tremaining: 11.4s\n",
      "214:\tlearn: 7.3829573\ttotal: 8.55s\tremaining: 11.3s\n",
      "215:\tlearn: 7.3795684\ttotal: 8.55s\tremaining: 11.2s\n",
      "216:\tlearn: 7.3766505\ttotal: 8.64s\tremaining: 11.3s\n",
      "217:\tlearn: 7.3733166\ttotal: 8.65s\tremaining: 11.2s\n",
      "218:\tlearn: 7.3700018\ttotal: 8.74s\tremaining: 11.2s\n",
      "219:\tlearn: 7.3671182\ttotal: 8.75s\tremaining: 11.1s\n",
      "220:\tlearn: 7.3639498\ttotal: 8.76s\tremaining: 11.1s\n",
      "221:\tlearn: 7.3612686\ttotal: 8.84s\tremaining: 11.1s\n",
      "222:\tlearn: 7.3582276\ttotal: 8.85s\tremaining: 11s\n",
      "223:\tlearn: 7.3551468\ttotal: 8.94s\tremaining: 11s\n",
      "224:\tlearn: 7.3522126\ttotal: 8.95s\tremaining: 10.9s\n",
      "225:\tlearn: 7.3495623\ttotal: 9.04s\tremaining: 11s\n",
      "226:\tlearn: 7.3465898\ttotal: 9.04s\tremaining: 10.9s\n",
      "227:\tlearn: 7.3433835\ttotal: 9.05s\tremaining: 10.8s\n",
      "228:\tlearn: 7.3406378\ttotal: 9.14s\tremaining: 10.8s\n",
      "229:\tlearn: 7.3376092\ttotal: 9.15s\tremaining: 10.7s\n",
      "230:\tlearn: 7.3343991\ttotal: 9.24s\tremaining: 10.8s\n",
      "231:\tlearn: 7.3309499\ttotal: 9.24s\tremaining: 10.7s\n",
      "232:\tlearn: 7.3281899\ttotal: 9.34s\tremaining: 10.7s\n",
      "233:\tlearn: 7.3245198\ttotal: 9.34s\tremaining: 10.6s\n",
      "234:\tlearn: 7.3216249\ttotal: 9.35s\tremaining: 10.5s\n",
      "235:\tlearn: 7.3181280\ttotal: 9.36s\tremaining: 10.5s\n",
      "236:\tlearn: 7.3154850\ttotal: 9.37s\tremaining: 10.4s\n",
      "237:\tlearn: 7.3128761\ttotal: 9.46s\tremaining: 10.4s\n",
      "238:\tlearn: 7.3105974\ttotal: 9.46s\tremaining: 10.3s\n",
      "239:\tlearn: 7.3077256\ttotal: 9.55s\tremaining: 10.3s\n",
      "240:\tlearn: 7.3054637\ttotal: 9.56s\tremaining: 10.3s\n",
      "241:\tlearn: 7.3025364\ttotal: 9.65s\tremaining: 10.3s\n",
      "242:\tlearn: 7.3002058\ttotal: 9.66s\tremaining: 10.2s\n",
      "243:\tlearn: 7.2979710\ttotal: 9.75s\tremaining: 10.2s\n",
      "244:\tlearn: 7.2954173\ttotal: 9.75s\tremaining: 10.2s\n",
      "245:\tlearn: 7.2928897\ttotal: 9.76s\tremaining: 10.1s\n",
      "246:\tlearn: 7.2901385\ttotal: 9.85s\tremaining: 10.1s\n",
      "247:\tlearn: 7.2880332\ttotal: 9.86s\tremaining: 10s\n",
      "248:\tlearn: 7.2851445\ttotal: 9.95s\tremaining: 10s\n",
      "249:\tlearn: 7.2826732\ttotal: 9.95s\tremaining: 9.95s\n",
      "250:\tlearn: 7.2800505\ttotal: 9.96s\tremaining: 9.88s\n",
      "251:\tlearn: 7.2769568\ttotal: 10s\tremaining: 9.89s\n",
      "252:\tlearn: 7.2742617\ttotal: 10.1s\tremaining: 9.81s\n",
      "253:\tlearn: 7.2714976\ttotal: 10.1s\tremaining: 9.75s\n",
      "254:\tlearn: 7.2689757\ttotal: 10.1s\tremaining: 9.67s\n",
      "255:\tlearn: 7.2666073\ttotal: 10.1s\tremaining: 9.6s\n",
      "256:\tlearn: 7.2641760\ttotal: 10.2s\tremaining: 9.61s\n",
      "257:\tlearn: 7.2618634\ttotal: 10.2s\tremaining: 9.54s\n",
      "258:\tlearn: 7.2592391\ttotal: 10.3s\tremaining: 9.55s\n",
      "259:\tlearn: 7.2567270\ttotal: 10.3s\tremaining: 9.48s\n",
      "260:\tlearn: 7.2546864\ttotal: 10.3s\tremaining: 9.41s\n",
      "261:\tlearn: 7.2520470\ttotal: 10.4s\tremaining: 9.42s\n",
      "262:\tlearn: 7.2498449\ttotal: 10.4s\tremaining: 9.35s\n",
      "263:\tlearn: 7.2465895\ttotal: 10.5s\tremaining: 9.35s\n",
      "264:\tlearn: 7.2436887\ttotal: 10.5s\tremaining: 9.28s\n",
      "265:\tlearn: 7.2413885\ttotal: 10.5s\tremaining: 9.21s\n",
      "266:\tlearn: 7.2390967\ttotal: 10.6s\tremaining: 9.22s\n",
      "267:\tlearn: 7.2361183\ttotal: 10.6s\tremaining: 9.15s\n",
      "268:\tlearn: 7.2341084\ttotal: 10.6s\tremaining: 9.08s\n",
      "269:\tlearn: 7.2314847\ttotal: 10.7s\tremaining: 9.08s\n",
      "270:\tlearn: 7.2294197\ttotal: 10.7s\tremaining: 9.02s\n",
      "271:\tlearn: 7.2269986\ttotal: 10.8s\tremaining: 9.02s\n",
      "272:\tlearn: 7.2248531\ttotal: 10.8s\tremaining: 8.95s\n",
      "273:\tlearn: 7.2223953\ttotal: 10.9s\tremaining: 8.96s\n",
      "274:\tlearn: 7.2199109\ttotal: 10.9s\tremaining: 8.89s\n",
      "275:\tlearn: 7.2176206\ttotal: 11s\tremaining: 8.89s\n",
      "276:\tlearn: 7.2153468\ttotal: 11s\tremaining: 8.82s\n",
      "277:\tlearn: 7.2128349\ttotal: 11s\tremaining: 8.76s\n",
      "278:\tlearn: 7.2105695\ttotal: 11.1s\tremaining: 8.76s\n",
      "279:\tlearn: 7.2081467\ttotal: 11.1s\tremaining: 8.7s\n",
      "280:\tlearn: 7.2063014\ttotal: 11.2s\tremaining: 8.7s\n",
      "281:\tlearn: 7.2039804\ttotal: 11.2s\tremaining: 8.63s\n",
      "282:\tlearn: 7.2018816\ttotal: 11.3s\tremaining: 8.63s\n",
      "283:\tlearn: 7.1995404\ttotal: 11.3s\tremaining: 8.56s\n",
      "284:\tlearn: 7.1976829\ttotal: 11.3s\tremaining: 8.5s\n",
      "285:\tlearn: 7.1958107\ttotal: 11.4s\tremaining: 8.5s\n",
      "286:\tlearn: 7.1932809\ttotal: 11.4s\tremaining: 8.43s\n",
      "287:\tlearn: 7.1911059\ttotal: 11.4s\tremaining: 8.37s\n",
      "288:\tlearn: 7.1882840\ttotal: 11.5s\tremaining: 8.36s\n",
      "289:\tlearn: 7.1862170\ttotal: 11.5s\tremaining: 8.3s\n",
      "290:\tlearn: 7.1831145\ttotal: 11.5s\tremaining: 8.29s\n",
      "291:\tlearn: 7.1803395\ttotal: 11.6s\tremaining: 8.23s\n",
      "292:\tlearn: 7.1782974\ttotal: 11.6s\tremaining: 8.17s\n",
      "293:\tlearn: 7.1764709\ttotal: 11.6s\tremaining: 8.16s\n",
      "294:\tlearn: 7.1745991\ttotal: 11.7s\tremaining: 8.1s\n",
      "295:\tlearn: 7.1725691\ttotal: 11.7s\tremaining: 8.09s\n",
      "296:\tlearn: 7.1705909\ttotal: 11.8s\tremaining: 8.03s\n",
      "297:\tlearn: 7.1685903\ttotal: 11.8s\tremaining: 8.02s\n",
      "298:\tlearn: 7.1664982\ttotal: 11.8s\tremaining: 7.96s\n",
      "299:\tlearn: 7.1645379\ttotal: 11.8s\tremaining: 7.9s\n",
      "300:\tlearn: 7.1625604\ttotal: 11.9s\tremaining: 7.89s\n",
      "301:\tlearn: 7.1605463\ttotal: 11.9s\tremaining: 7.83s\n",
      "302:\tlearn: 7.1586243\ttotal: 12s\tremaining: 7.83s\n",
      "303:\tlearn: 7.1566934\ttotal: 12s\tremaining: 7.77s\n",
      "304:\tlearn: 7.1539455\ttotal: 12.1s\tremaining: 7.76s\n",
      "305:\tlearn: 7.1517740\ttotal: 12.1s\tremaining: 7.7s\n",
      "306:\tlearn: 7.1501874\ttotal: 12.2s\tremaining: 7.69s\n",
      "307:\tlearn: 7.1486249\ttotal: 12.2s\tremaining: 7.63s\n",
      "308:\tlearn: 7.1466020\ttotal: 12.2s\tremaining: 7.57s\n",
      "309:\tlearn: 7.1444805\ttotal: 12.3s\tremaining: 7.56s\n",
      "310:\tlearn: 7.1422835\ttotal: 12.3s\tremaining: 7.5s\n",
      "311:\tlearn: 7.1404727\ttotal: 12.3s\tremaining: 7.44s\n",
      "312:\tlearn: 7.1389608\ttotal: 12.4s\tremaining: 7.38s\n",
      "313:\tlearn: 7.1372031\ttotal: 12.4s\tremaining: 7.32s\n",
      "314:\tlearn: 7.1355511\ttotal: 12.5s\tremaining: 7.31s\n",
      "315:\tlearn: 7.1339102\ttotal: 12.5s\tremaining: 7.25s\n",
      "316:\tlearn: 7.1318281\ttotal: 12.5s\tremaining: 7.24s\n",
      "317:\tlearn: 7.1299088\ttotal: 12.6s\tremaining: 7.19s\n",
      "318:\tlearn: 7.1278736\ttotal: 12.6s\tremaining: 7.13s\n",
      "319:\tlearn: 7.1258595\ttotal: 12.7s\tremaining: 7.12s\n",
      "320:\tlearn: 7.1242032\ttotal: 12.7s\tremaining: 7.06s\n",
      "321:\tlearn: 7.1226030\ttotal: 12.7s\tremaining: 7.05s\n",
      "322:\tlearn: 7.1206219\ttotal: 12.8s\tremaining: 6.99s\n",
      "323:\tlearn: 7.1187698\ttotal: 12.8s\tremaining: 6.98s\n",
      "324:\tlearn: 7.1166837\ttotal: 12.9s\tremaining: 6.92s\n",
      "325:\tlearn: 7.1149455\ttotal: 12.9s\tremaining: 6.86s\n",
      "326:\tlearn: 7.1135707\ttotal: 12.9s\tremaining: 6.85s\n",
      "327:\tlearn: 7.1115319\ttotal: 13s\tremaining: 6.79s\n",
      "328:\tlearn: 7.1093639\ttotal: 13s\tremaining: 6.78s\n",
      "329:\tlearn: 7.1076386\ttotal: 13.1s\tremaining: 6.72s\n",
      "330:\tlearn: 7.1049143\ttotal: 13.1s\tremaining: 6.71s\n",
      "331:\tlearn: 7.1030686\ttotal: 13.1s\tremaining: 6.65s\n",
      "332:\tlearn: 7.1015625\ttotal: 13.2s\tremaining: 6.6s\n",
      "333:\tlearn: 7.0999893\ttotal: 13.2s\tremaining: 6.58s\n",
      "334:\tlearn: 7.0984629\ttotal: 13.3s\tremaining: 6.53s\n",
      "335:\tlearn: 7.0969030\ttotal: 13.3s\tremaining: 6.51s\n",
      "336:\tlearn: 7.0949039\ttotal: 13.4s\tremaining: 6.46s\n",
      "337:\tlearn: 7.0929331\ttotal: 13.4s\tremaining: 6.44s\n",
      "338:\tlearn: 7.0911021\ttotal: 13.5s\tremaining: 6.39s\n",
      "339:\tlearn: 7.0895071\ttotal: 13.5s\tremaining: 6.37s\n",
      "340:\tlearn: 7.0878847\ttotal: 13.5s\tremaining: 6.32s\n",
      "341:\tlearn: 7.0860790\ttotal: 13.6s\tremaining: 6.26s\n",
      "342:\tlearn: 7.0842343\ttotal: 13.6s\tremaining: 6.24s\n",
      "343:\tlearn: 7.0827496\ttotal: 13.6s\tremaining: 6.19s\n",
      "344:\tlearn: 7.0811495\ttotal: 13.7s\tremaining: 6.17s\n",
      "345:\tlearn: 7.0792532\ttotal: 13.7s\tremaining: 6.12s\n",
      "346:\tlearn: 7.0772419\ttotal: 13.8s\tremaining: 6.1s\n",
      "347:\tlearn: 7.0754682\ttotal: 13.8s\tremaining: 6.05s\n",
      "348:\tlearn: 7.0738315\ttotal: 13.9s\tremaining: 6.03s\n",
      "349:\tlearn: 7.0721330\ttotal: 13.9s\tremaining: 5.97s\n",
      "350:\tlearn: 7.0707338\ttotal: 13.9s\tremaining: 5.92s\n",
      "351:\tlearn: 7.0690017\ttotal: 14s\tremaining: 5.9s\n",
      "352:\tlearn: 7.0674204\ttotal: 14s\tremaining: 5.85s\n",
      "353:\tlearn: 7.0661593\ttotal: 14.1s\tremaining: 5.83s\n",
      "354:\tlearn: 7.0642289\ttotal: 14.1s\tremaining: 5.78s\n",
      "355:\tlearn: 7.0623604\ttotal: 14.2s\tremaining: 5.76s\n",
      "356:\tlearn: 7.0606066\ttotal: 14.2s\tremaining: 5.7s\n",
      "357:\tlearn: 7.0584126\ttotal: 14.2s\tremaining: 5.65s\n",
      "358:\tlearn: 7.0567246\ttotal: 14.3s\tremaining: 5.63s\n",
      "359:\tlearn: 7.0552624\ttotal: 14.3s\tremaining: 5.58s\n",
      "360:\tlearn: 7.0534988\ttotal: 14.4s\tremaining: 5.56s\n",
      "361:\tlearn: 7.0520415\ttotal: 14.4s\tremaining: 5.5s\n",
      "362:\tlearn: 7.0506029\ttotal: 14.5s\tremaining: 5.48s\n",
      "363:\tlearn: 7.0488305\ttotal: 14.5s\tremaining: 5.43s\n",
      "364:\tlearn: 7.0471650\ttotal: 14.5s\tremaining: 5.38s\n",
      "365:\tlearn: 7.0454613\ttotal: 14.6s\tremaining: 5.36s\n",
      "366:\tlearn: 7.0438921\ttotal: 14.6s\tremaining: 5.3s\n",
      "367:\tlearn: 7.0423617\ttotal: 14.7s\tremaining: 5.28s\n",
      "368:\tlearn: 7.0411817\ttotal: 14.7s\tremaining: 5.23s\n",
      "369:\tlearn: 7.0401783\ttotal: 14.7s\tremaining: 5.18s\n",
      "370:\tlearn: 7.0385466\ttotal: 14.8s\tremaining: 5.16s\n",
      "371:\tlearn: 7.0372492\ttotal: 14.8s\tremaining: 5.11s\n",
      "372:\tlearn: 7.0356583\ttotal: 14.8s\tremaining: 5.05s\n",
      "373:\tlearn: 7.0338383\ttotal: 14.9s\tremaining: 5.03s\n",
      "374:\tlearn: 7.0323834\ttotal: 14.9s\tremaining: 4.98s\n",
      "375:\tlearn: 7.0309111\ttotal: 14.9s\tremaining: 4.93s\n",
      "376:\tlearn: 7.0295713\ttotal: 15s\tremaining: 4.9s\n",
      "377:\tlearn: 7.0278745\ttotal: 15s\tremaining: 4.85s\n",
      "378:\tlearn: 7.0264966\ttotal: 15.1s\tremaining: 4.83s\n",
      "379:\tlearn: 7.0247467\ttotal: 15.1s\tremaining: 4.78s\n",
      "380:\tlearn: 7.0233589\ttotal: 15.1s\tremaining: 4.73s\n",
      "381:\tlearn: 7.0218554\ttotal: 15.2s\tremaining: 4.7s\n",
      "382:\tlearn: 7.0203623\ttotal: 15.2s\tremaining: 4.65s\n",
      "383:\tlearn: 7.0185255\ttotal: 15.2s\tremaining: 4.6s\n",
      "384:\tlearn: 7.0169215\ttotal: 15.3s\tremaining: 4.58s\n",
      "385:\tlearn: 7.0153902\ttotal: 15.3s\tremaining: 4.53s\n",
      "386:\tlearn: 7.0141033\ttotal: 15.3s\tremaining: 4.48s\n",
      "387:\tlearn: 7.0128062\ttotal: 15.3s\tremaining: 4.43s\n",
      "388:\tlearn: 7.0107475\ttotal: 15.3s\tremaining: 4.38s\n",
      "389:\tlearn: 7.0092815\ttotal: 15.4s\tremaining: 4.35s\n",
      "390:\tlearn: 7.0080395\ttotal: 15.4s\tremaining: 4.3s\n",
      "391:\tlearn: 7.0068413\ttotal: 15.5s\tremaining: 4.28s\n",
      "392:\tlearn: 7.0052960\ttotal: 15.5s\tremaining: 4.23s\n",
      "393:\tlearn: 7.0040485\ttotal: 15.5s\tremaining: 4.18s\n",
      "394:\tlearn: 7.0024740\ttotal: 15.6s\tremaining: 4.16s\n",
      "395:\tlearn: 7.0009043\ttotal: 15.6s\tremaining: 4.11s\n",
      "396:\tlearn: 6.9990423\ttotal: 15.7s\tremaining: 4.08s\n",
      "397:\tlearn: 6.9972795\ttotal: 15.7s\tremaining: 4.03s\n",
      "398:\tlearn: 6.9959444\ttotal: 15.7s\tremaining: 3.98s\n",
      "399:\tlearn: 6.9948675\ttotal: 15.8s\tremaining: 3.96s\n",
      "400:\tlearn: 6.9936147\ttotal: 15.8s\tremaining: 3.91s\n",
      "401:\tlearn: 6.9923002\ttotal: 15.8s\tremaining: 3.86s\n",
      "402:\tlearn: 6.9909168\ttotal: 15.9s\tremaining: 3.83s\n",
      "403:\tlearn: 6.9893093\ttotal: 15.9s\tremaining: 3.79s\n",
      "404:\tlearn: 6.9876025\ttotal: 16s\tremaining: 3.76s\n",
      "405:\tlearn: 6.9864434\ttotal: 16s\tremaining: 3.71s\n",
      "406:\tlearn: 6.9852618\ttotal: 16s\tremaining: 3.67s\n",
      "407:\tlearn: 6.9840415\ttotal: 16.1s\tremaining: 3.64s\n",
      "408:\tlearn: 6.9826334\ttotal: 16.1s\tremaining: 3.59s\n",
      "409:\tlearn: 6.9816202\ttotal: 16.1s\tremaining: 3.54s\n",
      "410:\tlearn: 6.9801907\ttotal: 16.2s\tremaining: 3.51s\n",
      "411:\tlearn: 6.9785193\ttotal: 16.2s\tremaining: 3.47s\n",
      "412:\tlearn: 6.9771001\ttotal: 16.2s\tremaining: 3.42s\n",
      "413:\tlearn: 6.9758252\ttotal: 16.3s\tremaining: 3.39s\n",
      "414:\tlearn: 6.9739084\ttotal: 16.3s\tremaining: 3.34s\n",
      "415:\tlearn: 6.9727014\ttotal: 16.3s\tremaining: 3.3s\n",
      "416:\tlearn: 6.9704687\ttotal: 16.4s\tremaining: 3.27s\n",
      "417:\tlearn: 6.9690390\ttotal: 16.4s\tremaining: 3.22s\n",
      "418:\tlearn: 6.9675383\ttotal: 16.4s\tremaining: 3.17s\n",
      "419:\tlearn: 6.9661836\ttotal: 16.5s\tremaining: 3.15s\n",
      "420:\tlearn: 6.9650321\ttotal: 16.5s\tremaining: 3.1s\n",
      "421:\tlearn: 6.9632776\ttotal: 16.6s\tremaining: 3.07s\n",
      "422:\tlearn: 6.9619463\ttotal: 16.6s\tremaining: 3.02s\n",
      "423:\tlearn: 6.9605288\ttotal: 16.6s\tremaining: 2.98s\n",
      "424:\tlearn: 6.9594548\ttotal: 16.7s\tremaining: 2.95s\n",
      "425:\tlearn: 6.9579920\ttotal: 16.7s\tremaining: 2.9s\n",
      "426:\tlearn: 6.9567702\ttotal: 16.8s\tremaining: 2.87s\n",
      "427:\tlearn: 6.9553490\ttotal: 16.8s\tremaining: 2.83s\n",
      "428:\tlearn: 6.9541510\ttotal: 16.8s\tremaining: 2.78s\n",
      "429:\tlearn: 6.9528650\ttotal: 16.9s\tremaining: 2.75s\n",
      "430:\tlearn: 6.9512663\ttotal: 16.9s\tremaining: 2.71s\n",
      "431:\tlearn: 6.9501426\ttotal: 17s\tremaining: 2.68s\n",
      "432:\tlearn: 6.9485980\ttotal: 17s\tremaining: 2.63s\n",
      "433:\tlearn: 6.9473766\ttotal: 17.1s\tremaining: 2.6s\n",
      "434:\tlearn: 6.9456604\ttotal: 17.1s\tremaining: 2.56s\n",
      "435:\tlearn: 6.9445905\ttotal: 17.1s\tremaining: 2.51s\n",
      "436:\tlearn: 6.9435379\ttotal: 17.2s\tremaining: 2.48s\n",
      "437:\tlearn: 6.9423014\ttotal: 17.2s\tremaining: 2.44s\n",
      "438:\tlearn: 6.9410513\ttotal: 17.2s\tremaining: 2.39s\n",
      "439:\tlearn: 6.9400155\ttotal: 17.2s\tremaining: 2.35s\n",
      "440:\tlearn: 6.9387658\ttotal: 17.2s\tremaining: 2.31s\n",
      "441:\tlearn: 6.9373732\ttotal: 17.3s\tremaining: 2.27s\n",
      "442:\tlearn: 6.9361453\ttotal: 17.3s\tremaining: 2.23s\n",
      "443:\tlearn: 6.9350894\ttotal: 17.4s\tremaining: 2.2s\n",
      "444:\tlearn: 6.9335865\ttotal: 17.4s\tremaining: 2.15s\n",
      "445:\tlearn: 6.9322482\ttotal: 17.5s\tremaining: 2.12s\n",
      "446:\tlearn: 6.9307585\ttotal: 17.5s\tremaining: 2.08s\n",
      "447:\tlearn: 6.9295948\ttotal: 17.6s\tremaining: 2.04s\n",
      "448:\tlearn: 6.9286127\ttotal: 17.6s\tremaining: 2s\n",
      "449:\tlearn: 6.9272289\ttotal: 17.7s\tremaining: 1.97s\n",
      "450:\tlearn: 6.9262716\ttotal: 17.7s\tremaining: 1.93s\n",
      "451:\tlearn: 6.9251953\ttotal: 17.7s\tremaining: 1.88s\n",
      "452:\tlearn: 6.9241048\ttotal: 17.8s\tremaining: 1.85s\n",
      "453:\tlearn: 6.9227328\ttotal: 17.8s\tremaining: 1.8s\n",
      "454:\tlearn: 6.9215028\ttotal: 17.9s\tremaining: 1.77s\n",
      "455:\tlearn: 6.9202058\ttotal: 17.9s\tremaining: 1.73s\n",
      "456:\tlearn: 6.9188464\ttotal: 17.9s\tremaining: 1.69s\n",
      "457:\tlearn: 6.9177901\ttotal: 18s\tremaining: 1.65s\n",
      "458:\tlearn: 6.9168232\ttotal: 18s\tremaining: 1.61s\n",
      "459:\tlearn: 6.9158322\ttotal: 18.1s\tremaining: 1.57s\n",
      "460:\tlearn: 6.9140247\ttotal: 18.1s\tremaining: 1.53s\n",
      "461:\tlearn: 6.9127647\ttotal: 18.1s\tremaining: 1.49s\n",
      "462:\tlearn: 6.9116998\ttotal: 18.2s\tremaining: 1.46s\n",
      "463:\tlearn: 6.9107685\ttotal: 18.2s\tremaining: 1.41s\n",
      "464:\tlearn: 6.9091085\ttotal: 18.3s\tremaining: 1.38s\n",
      "465:\tlearn: 6.9077883\ttotal: 18.3s\tremaining: 1.34s\n",
      "466:\tlearn: 6.9067814\ttotal: 18.4s\tremaining: 1.3s\n",
      "467:\tlearn: 6.9055549\ttotal: 18.4s\tremaining: 1.26s\n",
      "468:\tlearn: 6.9042015\ttotal: 18.4s\tremaining: 1.22s\n",
      "469:\tlearn: 6.9030034\ttotal: 18.5s\tremaining: 1.18s\n",
      "470:\tlearn: 6.9015778\ttotal: 18.5s\tremaining: 1.14s\n",
      "471:\tlearn: 6.9006057\ttotal: 18.6s\tremaining: 1.1s\n",
      "472:\tlearn: 6.8992806\ttotal: 18.6s\tremaining: 1.06s\n",
      "473:\tlearn: 6.8980260\ttotal: 18.6s\tremaining: 1.02s\n",
      "474:\tlearn: 6.8969188\ttotal: 18.7s\tremaining: 985ms\n",
      "475:\tlearn: 6.8956908\ttotal: 18.7s\tremaining: 944ms\n",
      "476:\tlearn: 6.8948041\ttotal: 18.8s\tremaining: 906ms\n",
      "477:\tlearn: 6.8937994\ttotal: 18.8s\tremaining: 866ms\n",
      "478:\tlearn: 6.8926967\ttotal: 18.8s\tremaining: 825ms\n",
      "479:\tlearn: 6.8916766\ttotal: 18.9s\tremaining: 787ms\n",
      "480:\tlearn: 6.8905492\ttotal: 18.9s\tremaining: 747ms\n",
      "481:\tlearn: 6.8892877\ttotal: 18.9s\tremaining: 706ms\n",
      "482:\tlearn: 6.8882113\ttotal: 18.9s\tremaining: 666ms\n",
      "483:\tlearn: 6.8865855\ttotal: 19s\tremaining: 628ms\n",
      "484:\tlearn: 6.8851764\ttotal: 19s\tremaining: 588ms\n",
      "485:\tlearn: 6.8842344\ttotal: 19s\tremaining: 548ms\n",
      "486:\tlearn: 6.8831545\ttotal: 19.1s\tremaining: 510ms\n",
      "487:\tlearn: 6.8823111\ttotal: 19.1s\tremaining: 470ms\n",
      "488:\tlearn: 6.8810329\ttotal: 19.1s\tremaining: 430ms\n",
      "489:\tlearn: 6.8798171\ttotal: 19.2s\tremaining: 392ms\n",
      "490:\tlearn: 6.8789418\ttotal: 19.2s\tremaining: 352ms\n",
      "491:\tlearn: 6.8775365\ttotal: 19.2s\tremaining: 312ms\n",
      "492:\tlearn: 6.8761665\ttotal: 19.2s\tremaining: 273ms\n",
      "493:\tlearn: 6.8752171\ttotal: 19.3s\tremaining: 234ms\n",
      "494:\tlearn: 6.8740144\ttotal: 19.3s\tremaining: 195ms\n",
      "495:\tlearn: 6.8730161\ttotal: 19.3s\tremaining: 156ms\n",
      "496:\tlearn: 6.8718481\ttotal: 19.4s\tremaining: 117ms\n",
      "497:\tlearn: 6.8704003\ttotal: 19.4s\tremaining: 77.9ms\n",
      "498:\tlearn: 6.8693611\ttotal: 19.5s\tremaining: 39.1ms\n",
      "499:\tlearn: 6.8682431\ttotal: 19.5s\tremaining: 0us\n",
      "0:\tlearn: 9.4089000\ttotal: 8.83ms\tremaining: 4.41s\n",
      "1:\tlearn: 9.3912077\ttotal: 16.4ms\tremaining: 4.09s\n",
      "2:\tlearn: 9.3737020\ttotal: 77.4ms\tremaining: 12.8s\n",
      "3:\tlearn: 9.3564759\ttotal: 85.3ms\tremaining: 10.6s\n",
      "4:\tlearn: 9.3389458\ttotal: 175ms\tremaining: 17.3s\n",
      "5:\tlearn: 9.3216642\ttotal: 182ms\tremaining: 15s\n",
      "6:\tlearn: 9.3048849\ttotal: 272ms\tremaining: 19.2s\n",
      "7:\tlearn: 9.2879248\ttotal: 278ms\tremaining: 17.1s\n",
      "8:\tlearn: 9.2707980\ttotal: 284ms\tremaining: 15.5s\n",
      "9:\tlearn: 9.2544074\ttotal: 383ms\tremaining: 18.8s\n",
      "10:\tlearn: 9.2397062\ttotal: 389ms\tremaining: 17.3s\n",
      "11:\tlearn: 9.2228972\ttotal: 472ms\tremaining: 19.2s\n",
      "12:\tlearn: 9.2069216\ttotal: 480ms\tremaining: 18s\n",
      "13:\tlearn: 9.1910612\ttotal: 567ms\tremaining: 19.7s\n",
      "14:\tlearn: 9.1760943\ttotal: 574ms\tremaining: 18.5s\n",
      "15:\tlearn: 9.1606988\ttotal: 580ms\tremaining: 17.5s\n",
      "16:\tlearn: 9.1452569\ttotal: 669ms\tremaining: 19s\n",
      "17:\tlearn: 9.1300487\ttotal: 678ms\tremaining: 18.1s\n",
      "18:\tlearn: 9.1153273\ttotal: 766ms\tremaining: 19.4s\n",
      "19:\tlearn: 9.1001914\ttotal: 774ms\tremaining: 18.6s\n",
      "20:\tlearn: 9.0854051\ttotal: 865ms\tremaining: 19.7s\n",
      "21:\tlearn: 9.0705381\ttotal: 872ms\tremaining: 19s\n",
      "22:\tlearn: 9.0565108\ttotal: 880ms\tremaining: 18.2s\n",
      "23:\tlearn: 9.0418976\ttotal: 968ms\tremaining: 19.2s\n",
      "24:\tlearn: 9.0283720\ttotal: 975ms\tremaining: 18.5s\n",
      "25:\tlearn: 9.0148018\ttotal: 1.07s\tremaining: 19.4s\n",
      "26:\tlearn: 9.0010925\ttotal: 1.07s\tremaining: 18.8s\n",
      "27:\tlearn: 8.9885778\ttotal: 1.16s\tremaining: 19.6s\n",
      "28:\tlearn: 8.9749294\ttotal: 1.17s\tremaining: 19s\n",
      "29:\tlearn: 8.9608812\ttotal: 1.17s\tremaining: 18.4s\n",
      "30:\tlearn: 8.9477476\ttotal: 1.26s\tremaining: 19.1s\n",
      "31:\tlearn: 8.9339866\ttotal: 1.27s\tremaining: 18.6s\n",
      "32:\tlearn: 8.9207488\ttotal: 1.36s\tremaining: 19.2s\n",
      "33:\tlearn: 8.9073406\ttotal: 1.36s\tremaining: 18.7s\n",
      "34:\tlearn: 8.8941589\ttotal: 1.37s\tremaining: 18.2s\n",
      "35:\tlearn: 8.8827589\ttotal: 1.46s\tremaining: 18.8s\n",
      "36:\tlearn: 8.8699715\ttotal: 1.47s\tremaining: 18.3s\n",
      "37:\tlearn: 8.8572595\ttotal: 1.47s\tremaining: 17.9s\n",
      "38:\tlearn: 8.8442285\ttotal: 1.56s\tremaining: 18.5s\n",
      "39:\tlearn: 8.8327236\ttotal: 1.57s\tremaining: 18.1s\n",
      "40:\tlearn: 8.8200767\ttotal: 1.65s\tremaining: 18.5s\n",
      "41:\tlearn: 8.8083834\ttotal: 1.66s\tremaining: 18.1s\n",
      "42:\tlearn: 8.7958678\ttotal: 1.67s\tremaining: 17.7s\n",
      "43:\tlearn: 8.7842020\ttotal: 1.75s\tremaining: 18.2s\n",
      "44:\tlearn: 8.7720658\ttotal: 1.76s\tremaining: 17.8s\n",
      "45:\tlearn: 8.7609730\ttotal: 1.77s\tremaining: 17.5s\n",
      "46:\tlearn: 8.7497914\ttotal: 1.86s\tremaining: 17.9s\n",
      "47:\tlearn: 8.7374840\ttotal: 1.87s\tremaining: 17.6s\n",
      "48:\tlearn: 8.7261558\ttotal: 1.95s\tremaining: 18s\n",
      "49:\tlearn: 8.7154642\ttotal: 1.96s\tremaining: 17.6s\n",
      "50:\tlearn: 8.7048621\ttotal: 2.05s\tremaining: 18.1s\n",
      "51:\tlearn: 8.6939224\ttotal: 2.06s\tremaining: 17.8s\n",
      "52:\tlearn: 8.6837509\ttotal: 2.15s\tremaining: 18.1s\n",
      "53:\tlearn: 8.6732706\ttotal: 2.15s\tremaining: 17.8s\n",
      "54:\tlearn: 8.6617964\ttotal: 2.16s\tremaining: 17.5s\n",
      "55:\tlearn: 8.6507195\ttotal: 2.25s\tremaining: 17.9s\n",
      "56:\tlearn: 8.6401376\ttotal: 2.26s\tremaining: 17.6s\n",
      "57:\tlearn: 8.6302737\ttotal: 2.27s\tremaining: 17.3s\n",
      "58:\tlearn: 8.6184486\ttotal: 2.36s\tremaining: 17.7s\n",
      "59:\tlearn: 8.6078328\ttotal: 2.37s\tremaining: 17.4s\n",
      "60:\tlearn: 8.5973770\ttotal: 2.45s\tremaining: 17.6s\n",
      "61:\tlearn: 8.5874973\ttotal: 2.45s\tremaining: 17.3s\n",
      "62:\tlearn: 8.5779168\ttotal: 2.46s\tremaining: 17.1s\n",
      "63:\tlearn: 8.5679733\ttotal: 2.54s\tremaining: 17.3s\n",
      "64:\tlearn: 8.5582793\ttotal: 2.55s\tremaining: 17.1s\n",
      "65:\tlearn: 8.5481227\ttotal: 2.64s\tremaining: 17.3s\n",
      "66:\tlearn: 8.5383032\ttotal: 2.64s\tremaining: 17.1s\n",
      "67:\tlearn: 8.5282201\ttotal: 2.65s\tremaining: 16.8s\n",
      "68:\tlearn: 8.5186194\ttotal: 2.74s\tremaining: 17.1s\n",
      "69:\tlearn: 8.5090793\ttotal: 2.75s\tremaining: 16.9s\n",
      "70:\tlearn: 8.4995340\ttotal: 2.75s\tremaining: 16.6s\n",
      "71:\tlearn: 8.4899449\ttotal: 2.84s\tremaining: 16.9s\n",
      "72:\tlearn: 8.4807512\ttotal: 2.85s\tremaining: 16.6s\n",
      "73:\tlearn: 8.4714489\ttotal: 2.93s\tremaining: 16.9s\n",
      "74:\tlearn: 8.4615071\ttotal: 2.94s\tremaining: 16.7s\n",
      "75:\tlearn: 8.4522585\ttotal: 2.95s\tremaining: 16.4s\n",
      "76:\tlearn: 8.4436071\ttotal: 3.04s\tremaining: 16.7s\n",
      "77:\tlearn: 8.4342807\ttotal: 3.04s\tremaining: 16.5s\n",
      "78:\tlearn: 8.4260174\ttotal: 3.05s\tremaining: 16.2s\n",
      "79:\tlearn: 8.4177167\ttotal: 3.14s\tremaining: 16.5s\n",
      "80:\tlearn: 8.4089206\ttotal: 3.15s\tremaining: 16.3s\n",
      "81:\tlearn: 8.4001562\ttotal: 3.16s\tremaining: 16.1s\n",
      "82:\tlearn: 8.3915963\ttotal: 3.25s\tremaining: 16.3s\n",
      "83:\tlearn: 8.3830593\ttotal: 3.25s\tremaining: 16.1s\n",
      "84:\tlearn: 8.3745699\ttotal: 3.35s\tremaining: 16.3s\n",
      "85:\tlearn: 8.3659139\ttotal: 3.35s\tremaining: 16.1s\n",
      "86:\tlearn: 8.3580838\ttotal: 3.36s\tremaining: 15.9s\n",
      "87:\tlearn: 8.3501409\ttotal: 3.44s\tremaining: 16.1s\n",
      "88:\tlearn: 8.3418899\ttotal: 3.45s\tremaining: 15.9s\n",
      "89:\tlearn: 8.3335890\ttotal: 3.54s\tremaining: 16.1s\n",
      "90:\tlearn: 8.3259974\ttotal: 3.55s\tremaining: 15.9s\n",
      "91:\tlearn: 8.3167146\ttotal: 3.55s\tremaining: 15.8s\n",
      "92:\tlearn: 8.3094329\ttotal: 3.64s\tremaining: 15.9s\n",
      "93:\tlearn: 8.3019695\ttotal: 3.64s\tremaining: 15.7s\n",
      "94:\tlearn: 8.2939101\ttotal: 3.65s\tremaining: 15.6s\n",
      "95:\tlearn: 8.2868538\ttotal: 3.75s\tremaining: 15.8s\n",
      "96:\tlearn: 8.2791097\ttotal: 3.75s\tremaining: 15.6s\n",
      "97:\tlearn: 8.2716788\ttotal: 3.83s\tremaining: 15.7s\n",
      "98:\tlearn: 8.2635039\ttotal: 3.85s\tremaining: 15.6s\n",
      "99:\tlearn: 8.2562589\ttotal: 3.85s\tremaining: 15.4s\n",
      "100:\tlearn: 8.2485990\ttotal: 3.93s\tremaining: 15.5s\n",
      "101:\tlearn: 8.2417561\ttotal: 3.94s\tremaining: 15.4s\n",
      "102:\tlearn: 8.2338339\ttotal: 4.02s\tremaining: 15.5s\n",
      "103:\tlearn: 8.2266858\ttotal: 4.03s\tremaining: 15.3s\n",
      "104:\tlearn: 8.2188903\ttotal: 4.04s\tremaining: 15.2s\n",
      "105:\tlearn: 8.2100709\ttotal: 4.12s\tremaining: 15.3s\n",
      "106:\tlearn: 8.2030457\ttotal: 4.13s\tremaining: 15.2s\n",
      "107:\tlearn: 8.1958257\ttotal: 4.14s\tremaining: 15s\n",
      "108:\tlearn: 8.1887155\ttotal: 4.23s\tremaining: 15.2s\n",
      "109:\tlearn: 8.1810144\ttotal: 4.23s\tremaining: 15s\n",
      "110:\tlearn: 8.1743033\ttotal: 4.32s\tremaining: 15.1s\n",
      "111:\tlearn: 8.1677060\ttotal: 4.33s\tremaining: 15s\n",
      "112:\tlearn: 8.1610680\ttotal: 4.33s\tremaining: 14.8s\n",
      "113:\tlearn: 8.1540039\ttotal: 4.42s\tremaining: 15s\n",
      "114:\tlearn: 8.1471294\ttotal: 4.44s\tremaining: 14.9s\n",
      "115:\tlearn: 8.1411879\ttotal: 4.44s\tremaining: 14.7s\n",
      "116:\tlearn: 8.1338331\ttotal: 4.53s\tremaining: 14.8s\n",
      "117:\tlearn: 8.1269326\ttotal: 4.54s\tremaining: 14.7s\n",
      "118:\tlearn: 8.1195491\ttotal: 4.61s\tremaining: 14.8s\n",
      "119:\tlearn: 8.1129815\ttotal: 4.62s\tremaining: 14.6s\n",
      "120:\tlearn: 8.1064948\ttotal: 4.63s\tremaining: 14.5s\n",
      "121:\tlearn: 8.0999901\ttotal: 4.72s\tremaining: 14.6s\n",
      "122:\tlearn: 8.0933322\ttotal: 4.73s\tremaining: 14.5s\n",
      "123:\tlearn: 8.0858834\ttotal: 4.82s\tremaining: 14.6s\n",
      "124:\tlearn: 8.0803089\ttotal: 4.83s\tremaining: 14.5s\n",
      "125:\tlearn: 8.0739254\ttotal: 4.84s\tremaining: 14.4s\n",
      "126:\tlearn: 8.0670009\ttotal: 4.92s\tremaining: 14.5s\n",
      "127:\tlearn: 8.0603235\ttotal: 4.93s\tremaining: 14.3s\n",
      "128:\tlearn: 8.0538383\ttotal: 5.01s\tremaining: 14.4s\n",
      "129:\tlearn: 8.0481386\ttotal: 5.02s\tremaining: 14.3s\n",
      "130:\tlearn: 8.0426915\ttotal: 5.03s\tremaining: 14.2s\n",
      "131:\tlearn: 8.0362984\ttotal: 5.13s\tremaining: 14.3s\n",
      "132:\tlearn: 8.0300304\ttotal: 5.13s\tremaining: 14.2s\n",
      "133:\tlearn: 8.0238644\ttotal: 5.14s\tremaining: 14s\n",
      "134:\tlearn: 8.0181611\ttotal: 5.24s\tremaining: 14.2s\n",
      "135:\tlearn: 8.0125795\ttotal: 5.25s\tremaining: 14s\n",
      "136:\tlearn: 8.0076395\ttotal: 5.3s\tremaining: 14.1s\n",
      "137:\tlearn: 8.0016366\ttotal: 5.31s\tremaining: 13.9s\n",
      "138:\tlearn: 7.9963256\ttotal: 5.32s\tremaining: 13.8s\n",
      "139:\tlearn: 7.9903208\ttotal: 5.4s\tremaining: 13.9s\n",
      "140:\tlearn: 7.9848103\ttotal: 5.41s\tremaining: 13.8s\n",
      "141:\tlearn: 7.9790478\ttotal: 5.43s\tremaining: 13.7s\n",
      "142:\tlearn: 7.9735674\ttotal: 5.52s\tremaining: 13.8s\n",
      "143:\tlearn: 7.9678976\ttotal: 5.53s\tremaining: 13.7s\n",
      "144:\tlearn: 7.9631515\ttotal: 5.54s\tremaining: 13.6s\n",
      "145:\tlearn: 7.9574461\ttotal: 5.6s\tremaining: 13.6s\n",
      "146:\tlearn: 7.9524183\ttotal: 5.62s\tremaining: 13.5s\n",
      "147:\tlearn: 7.9469388\ttotal: 5.63s\tremaining: 13.4s\n",
      "148:\tlearn: 7.9419686\ttotal: 5.7s\tremaining: 13.4s\n",
      "149:\tlearn: 7.9357261\ttotal: 5.71s\tremaining: 13.3s\n",
      "150:\tlearn: 7.9305066\ttotal: 5.72s\tremaining: 13.2s\n",
      "151:\tlearn: 7.9254395\ttotal: 5.8s\tremaining: 13.3s\n",
      "152:\tlearn: 7.9200778\ttotal: 5.81s\tremaining: 13.2s\n",
      "153:\tlearn: 7.9149175\ttotal: 5.82s\tremaining: 13.1s\n",
      "154:\tlearn: 7.9097292\ttotal: 5.89s\tremaining: 13.1s\n",
      "155:\tlearn: 7.9030219\ttotal: 5.91s\tremaining: 13s\n",
      "156:\tlearn: 7.8969204\ttotal: 5.99s\tremaining: 13.1s\n",
      "157:\tlearn: 7.8918412\ttotal: 5.99s\tremaining: 13s\n",
      "158:\tlearn: 7.8867493\ttotal: 6s\tremaining: 12.9s\n",
      "159:\tlearn: 7.8824386\ttotal: 6.09s\tremaining: 12.9s\n",
      "160:\tlearn: 7.8777566\ttotal: 6.09s\tremaining: 12.8s\n",
      "161:\tlearn: 7.8729403\ttotal: 6.1s\tremaining: 12.7s\n",
      "162:\tlearn: 7.8688484\ttotal: 6.19s\tremaining: 12.8s\n",
      "163:\tlearn: 7.8638409\ttotal: 6.2s\tremaining: 12.7s\n",
      "164:\tlearn: 7.8597050\ttotal: 6.29s\tremaining: 12.8s\n",
      "165:\tlearn: 7.8554015\ttotal: 6.29s\tremaining: 12.7s\n",
      "166:\tlearn: 7.8503251\ttotal: 6.38s\tremaining: 12.7s\n",
      "167:\tlearn: 7.8462157\ttotal: 6.39s\tremaining: 12.6s\n",
      "168:\tlearn: 7.8419094\ttotal: 6.48s\tremaining: 12.7s\n",
      "169:\tlearn: 7.8375698\ttotal: 6.49s\tremaining: 12.6s\n",
      "170:\tlearn: 7.8330438\ttotal: 6.5s\tremaining: 12.5s\n",
      "171:\tlearn: 7.8280038\ttotal: 6.58s\tremaining: 12.6s\n",
      "172:\tlearn: 7.8230099\ttotal: 6.59s\tremaining: 12.5s\n",
      "173:\tlearn: 7.8180391\ttotal: 6.6s\tremaining: 12.4s\n",
      "174:\tlearn: 7.8132324\ttotal: 6.68s\tremaining: 12.4s\n",
      "175:\tlearn: 7.8090467\ttotal: 6.69s\tremaining: 12.3s\n",
      "176:\tlearn: 7.8036382\ttotal: 6.78s\tremaining: 12.4s\n",
      "177:\tlearn: 7.7987101\ttotal: 6.79s\tremaining: 12.3s\n",
      "178:\tlearn: 7.7945487\ttotal: 6.87s\tremaining: 12.3s\n",
      "179:\tlearn: 7.7902087\ttotal: 6.88s\tremaining: 12.2s\n",
      "180:\tlearn: 7.7855572\ttotal: 6.89s\tremaining: 12.1s\n",
      "181:\tlearn: 7.7806578\ttotal: 6.97s\tremaining: 12.2s\n",
      "182:\tlearn: 7.7762645\ttotal: 6.98s\tremaining: 12.1s\n",
      "183:\tlearn: 7.7720062\ttotal: 7.07s\tremaining: 12.1s\n",
      "184:\tlearn: 7.7677826\ttotal: 7.08s\tremaining: 12.1s\n",
      "185:\tlearn: 7.7631776\ttotal: 7.16s\tremaining: 12.1s\n",
      "186:\tlearn: 7.7594348\ttotal: 7.17s\tremaining: 12s\n",
      "187:\tlearn: 7.7552453\ttotal: 7.18s\tremaining: 11.9s\n",
      "188:\tlearn: 7.7505056\ttotal: 7.2s\tremaining: 11.8s\n",
      "189:\tlearn: 7.7463905\ttotal: 7.27s\tremaining: 11.9s\n",
      "190:\tlearn: 7.7421946\ttotal: 7.28s\tremaining: 11.8s\n",
      "191:\tlearn: 7.7378129\ttotal: 7.36s\tremaining: 11.8s\n",
      "192:\tlearn: 7.7339000\ttotal: 7.37s\tremaining: 11.7s\n",
      "193:\tlearn: 7.7298466\ttotal: 7.38s\tremaining: 11.6s\n",
      "194:\tlearn: 7.7256800\ttotal: 7.46s\tremaining: 11.7s\n",
      "195:\tlearn: 7.7204067\ttotal: 7.47s\tremaining: 11.6s\n",
      "196:\tlearn: 7.7161231\ttotal: 7.56s\tremaining: 11.6s\n",
      "197:\tlearn: 7.7118124\ttotal: 7.57s\tremaining: 11.5s\n",
      "198:\tlearn: 7.7069592\ttotal: 7.57s\tremaining: 11.5s\n",
      "199:\tlearn: 7.7028646\ttotal: 7.66s\tremaining: 11.5s\n",
      "200:\tlearn: 7.6994695\ttotal: 7.67s\tremaining: 11.4s\n",
      "201:\tlearn: 7.6954670\ttotal: 7.75s\tremaining: 11.4s\n",
      "202:\tlearn: 7.6919179\ttotal: 7.76s\tremaining: 11.4s\n",
      "203:\tlearn: 7.6881265\ttotal: 7.76s\tremaining: 11.3s\n",
      "204:\tlearn: 7.6840645\ttotal: 7.85s\tremaining: 11.3s\n",
      "205:\tlearn: 7.6807190\ttotal: 7.86s\tremaining: 11.2s\n",
      "206:\tlearn: 7.6770112\ttotal: 7.87s\tremaining: 11.1s\n",
      "207:\tlearn: 7.6733377\ttotal: 7.96s\tremaining: 11.2s\n",
      "208:\tlearn: 7.6688698\ttotal: 7.96s\tremaining: 11.1s\n",
      "209:\tlearn: 7.6654387\ttotal: 8.05s\tremaining: 11.1s\n",
      "210:\tlearn: 7.6623188\ttotal: 8.06s\tremaining: 11s\n",
      "211:\tlearn: 7.6588383\ttotal: 8.06s\tremaining: 11s\n",
      "212:\tlearn: 7.6549406\ttotal: 8.15s\tremaining: 11s\n",
      "213:\tlearn: 7.6509055\ttotal: 8.16s\tremaining: 10.9s\n",
      "214:\tlearn: 7.6471906\ttotal: 8.25s\tremaining: 10.9s\n",
      "215:\tlearn: 7.6437415\ttotal: 8.26s\tremaining: 10.9s\n",
      "216:\tlearn: 7.6397569\ttotal: 8.26s\tremaining: 10.8s\n",
      "217:\tlearn: 7.6361705\ttotal: 8.35s\tremaining: 10.8s\n",
      "218:\tlearn: 7.6322954\ttotal: 8.36s\tremaining: 10.7s\n",
      "219:\tlearn: 7.6296618\ttotal: 8.45s\tremaining: 10.8s\n",
      "220:\tlearn: 7.6263881\ttotal: 8.45s\tremaining: 10.7s\n",
      "221:\tlearn: 7.6230288\ttotal: 8.46s\tremaining: 10.6s\n",
      "222:\tlearn: 7.6193657\ttotal: 8.55s\tremaining: 10.6s\n",
      "223:\tlearn: 7.6162262\ttotal: 8.55s\tremaining: 10.5s\n",
      "224:\tlearn: 7.6132642\ttotal: 8.65s\tremaining: 10.6s\n",
      "225:\tlearn: 7.6105246\ttotal: 8.65s\tremaining: 10.5s\n",
      "226:\tlearn: 7.6076058\ttotal: 8.74s\tremaining: 10.5s\n",
      "227:\tlearn: 7.6042151\ttotal: 8.75s\tremaining: 10.4s\n",
      "228:\tlearn: 7.6004147\ttotal: 8.76s\tremaining: 10.4s\n",
      "229:\tlearn: 7.5976594\ttotal: 8.85s\tremaining: 10.4s\n",
      "230:\tlearn: 7.5942994\ttotal: 8.85s\tremaining: 10.3s\n",
      "231:\tlearn: 7.5909367\ttotal: 8.94s\tremaining: 10.3s\n",
      "232:\tlearn: 7.5875488\ttotal: 8.95s\tremaining: 10.3s\n",
      "233:\tlearn: 7.5843715\ttotal: 9.04s\tremaining: 10.3s\n",
      "234:\tlearn: 7.5812218\ttotal: 9.05s\tremaining: 10.2s\n",
      "235:\tlearn: 7.5771187\ttotal: 9.05s\tremaining: 10.1s\n",
      "236:\tlearn: 7.5738834\ttotal: 9.14s\tremaining: 10.1s\n",
      "237:\tlearn: 7.5701975\ttotal: 9.15s\tremaining: 10.1s\n",
      "238:\tlearn: 7.5663099\ttotal: 9.24s\tremaining: 10.1s\n",
      "239:\tlearn: 7.5632444\ttotal: 9.24s\tremaining: 10s\n",
      "240:\tlearn: 7.5605273\ttotal: 9.34s\tremaining: 10s\n",
      "241:\tlearn: 7.5580894\ttotal: 9.34s\tremaining: 9.96s\n",
      "242:\tlearn: 7.5552370\ttotal: 9.35s\tremaining: 9.89s\n",
      "243:\tlearn: 7.5530185\ttotal: 9.44s\tremaining: 9.9s\n",
      "244:\tlearn: 7.5503087\ttotal: 9.44s\tremaining: 9.83s\n",
      "245:\tlearn: 7.5472568\ttotal: 9.54s\tremaining: 9.85s\n",
      "246:\tlearn: 7.5434765\ttotal: 9.54s\tremaining: 9.77s\n",
      "247:\tlearn: 7.5406384\ttotal: 9.55s\tremaining: 9.7s\n",
      "248:\tlearn: 7.5377477\ttotal: 9.64s\tremaining: 9.71s\n",
      "249:\tlearn: 7.5351868\ttotal: 9.64s\tremaining: 9.64s\n",
      "250:\tlearn: 7.5321739\ttotal: 9.73s\tremaining: 9.66s\n",
      "251:\tlearn: 7.5292392\ttotal: 9.74s\tremaining: 9.59s\n",
      "252:\tlearn: 7.5264337\ttotal: 9.83s\tremaining: 9.6s\n",
      "253:\tlearn: 7.5234725\ttotal: 9.84s\tremaining: 9.53s\n",
      "254:\tlearn: 7.5202596\ttotal: 9.93s\tremaining: 9.54s\n",
      "255:\tlearn: 7.5172531\ttotal: 9.94s\tremaining: 9.47s\n",
      "256:\tlearn: 7.5151458\ttotal: 9.94s\tremaining: 9.4s\n",
      "257:\tlearn: 7.5121588\ttotal: 10s\tremaining: 9.41s\n",
      "258:\tlearn: 7.5092896\ttotal: 10s\tremaining: 9.34s\n",
      "259:\tlearn: 7.5064759\ttotal: 10.1s\tremaining: 9.35s\n",
      "260:\tlearn: 7.5039509\ttotal: 10.1s\tremaining: 9.28s\n",
      "261:\tlearn: 7.5015813\ttotal: 10.1s\tremaining: 9.21s\n",
      "262:\tlearn: 7.4991946\ttotal: 10.2s\tremaining: 9.22s\n",
      "263:\tlearn: 7.4966001\ttotal: 10.2s\tremaining: 9.15s\n",
      "264:\tlearn: 7.4941519\ttotal: 10.3s\tremaining: 9.16s\n",
      "265:\tlearn: 7.4911824\ttotal: 10.3s\tremaining: 9.09s\n",
      "266:\tlearn: 7.4887637\ttotal: 10.3s\tremaining: 9.02s\n",
      "267:\tlearn: 7.4860667\ttotal: 10.4s\tremaining: 9.03s\n",
      "268:\tlearn: 7.4838067\ttotal: 10.4s\tremaining: 8.96s\n",
      "269:\tlearn: 7.4809013\ttotal: 10.5s\tremaining: 8.96s\n",
      "270:\tlearn: 7.4788667\ttotal: 10.5s\tremaining: 8.9s\n",
      "271:\tlearn: 7.4763404\ttotal: 10.6s\tremaining: 8.9s\n",
      "272:\tlearn: 7.4738211\ttotal: 10.6s\tremaining: 8.84s\n",
      "273:\tlearn: 7.4702867\ttotal: 10.6s\tremaining: 8.77s\n",
      "274:\tlearn: 7.4674671\ttotal: 10.7s\tremaining: 8.77s\n",
      "275:\tlearn: 7.4654538\ttotal: 10.7s\tremaining: 8.71s\n",
      "276:\tlearn: 7.4632471\ttotal: 10.8s\tremaining: 8.71s\n",
      "277:\tlearn: 7.4604673\ttotal: 10.8s\tremaining: 8.64s\n",
      "278:\tlearn: 7.4579601\ttotal: 10.8s\tremaining: 8.58s\n",
      "279:\tlearn: 7.4560364\ttotal: 10.9s\tremaining: 8.58s\n",
      "280:\tlearn: 7.4538783\ttotal: 10.9s\tremaining: 8.52s\n",
      "281:\tlearn: 7.4512878\ttotal: 11s\tremaining: 8.52s\n",
      "282:\tlearn: 7.4490147\ttotal: 11s\tremaining: 8.45s\n",
      "283:\tlearn: 7.4470927\ttotal: 11s\tremaining: 8.39s\n",
      "284:\tlearn: 7.4449658\ttotal: 11.1s\tremaining: 8.39s\n",
      "285:\tlearn: 7.4429033\ttotal: 11.1s\tremaining: 8.33s\n",
      "286:\tlearn: 7.4408315\ttotal: 11.2s\tremaining: 8.33s\n",
      "287:\tlearn: 7.4386008\ttotal: 11.2s\tremaining: 8.26s\n",
      "288:\tlearn: 7.4358801\ttotal: 11.3s\tremaining: 8.26s\n",
      "289:\tlearn: 7.4339016\ttotal: 11.3s\tremaining: 8.2s\n",
      "290:\tlearn: 7.4309093\ttotal: 11.3s\tremaining: 8.15s\n",
      "291:\tlearn: 7.4283405\ttotal: 11.4s\tremaining: 8.13s\n",
      "292:\tlearn: 7.4258083\ttotal: 11.4s\tremaining: 8.07s\n",
      "293:\tlearn: 7.4239219\ttotal: 11.5s\tremaining: 8.07s\n",
      "294:\tlearn: 7.4212126\ttotal: 11.5s\tremaining: 8.01s\n",
      "295:\tlearn: 7.4188259\ttotal: 11.6s\tremaining: 8s\n",
      "296:\tlearn: 7.4168240\ttotal: 11.6s\tremaining: 7.94s\n",
      "297:\tlearn: 7.4142239\ttotal: 11.6s\tremaining: 7.88s\n",
      "298:\tlearn: 7.4113780\ttotal: 11.7s\tremaining: 7.88s\n",
      "299:\tlearn: 7.4089060\ttotal: 11.7s\tremaining: 7.81s\n",
      "300:\tlearn: 7.4062992\ttotal: 11.8s\tremaining: 7.81s\n",
      "301:\tlearn: 7.4042091\ttotal: 11.8s\tremaining: 7.75s\n",
      "302:\tlearn: 7.4016003\ttotal: 11.8s\tremaining: 7.69s\n",
      "303:\tlearn: 7.4000288\ttotal: 11.9s\tremaining: 7.68s\n",
      "304:\tlearn: 7.3981504\ttotal: 11.9s\tremaining: 7.62s\n",
      "305:\tlearn: 7.3959137\ttotal: 12s\tremaining: 7.61s\n",
      "306:\tlearn: 7.3940997\ttotal: 12s\tremaining: 7.55s\n",
      "307:\tlearn: 7.3922170\ttotal: 12.1s\tremaining: 7.55s\n",
      "308:\tlearn: 7.3895842\ttotal: 12.1s\tremaining: 7.49s\n",
      "309:\tlearn: 7.3866825\ttotal: 12.1s\tremaining: 7.43s\n",
      "310:\tlearn: 7.3847688\ttotal: 12.2s\tremaining: 7.42s\n",
      "311:\tlearn: 7.3831171\ttotal: 12.2s\tremaining: 7.36s\n",
      "312:\tlearn: 7.3805658\ttotal: 12.2s\tremaining: 7.3s\n",
      "313:\tlearn: 7.3782983\ttotal: 12.3s\tremaining: 7.29s\n",
      "314:\tlearn: 7.3764420\ttotal: 12.3s\tremaining: 7.23s\n",
      "315:\tlearn: 7.3745899\ttotal: 12.4s\tremaining: 7.22s\n",
      "316:\tlearn: 7.3726909\ttotal: 12.4s\tremaining: 7.17s\n",
      "317:\tlearn: 7.3705776\ttotal: 12.5s\tremaining: 7.16s\n",
      "318:\tlearn: 7.3677682\ttotal: 12.5s\tremaining: 7.1s\n",
      "319:\tlearn: 7.3653026\ttotal: 12.6s\tremaining: 7.09s\n",
      "320:\tlearn: 7.3631765\ttotal: 12.6s\tremaining: 7.03s\n",
      "321:\tlearn: 7.3607978\ttotal: 12.6s\tremaining: 6.97s\n",
      "322:\tlearn: 7.3586807\ttotal: 12.7s\tremaining: 6.96s\n",
      "323:\tlearn: 7.3569179\ttotal: 12.7s\tremaining: 6.91s\n",
      "324:\tlearn: 7.3550193\ttotal: 12.8s\tremaining: 6.89s\n",
      "325:\tlearn: 7.3532490\ttotal: 12.8s\tremaining: 6.83s\n",
      "326:\tlearn: 7.3518163\ttotal: 12.8s\tremaining: 6.78s\n",
      "327:\tlearn: 7.3500555\ttotal: 12.9s\tremaining: 6.77s\n",
      "328:\tlearn: 7.3479355\ttotal: 12.9s\tremaining: 6.71s\n",
      "329:\tlearn: 7.3459577\ttotal: 13s\tremaining: 6.7s\n",
      "330:\tlearn: 7.3440321\ttotal: 13s\tremaining: 6.64s\n",
      "331:\tlearn: 7.3420019\ttotal: 13.1s\tremaining: 6.63s\n",
      "332:\tlearn: 7.3402201\ttotal: 13.1s\tremaining: 6.57s\n",
      "333:\tlearn: 7.3383654\ttotal: 13.2s\tremaining: 6.56s\n",
      "334:\tlearn: 7.3365949\ttotal: 13.2s\tremaining: 6.5s\n",
      "335:\tlearn: 7.3351707\ttotal: 13.2s\tremaining: 6.45s\n",
      "336:\tlearn: 7.3329594\ttotal: 13.3s\tremaining: 6.43s\n",
      "337:\tlearn: 7.3311457\ttotal: 13.3s\tremaining: 6.38s\n",
      "338:\tlearn: 7.3296113\ttotal: 13.4s\tremaining: 6.36s\n",
      "339:\tlearn: 7.3279572\ttotal: 13.4s\tremaining: 6.31s\n",
      "340:\tlearn: 7.3261025\ttotal: 13.4s\tremaining: 6.25s\n",
      "341:\tlearn: 7.3242980\ttotal: 13.5s\tremaining: 6.23s\n",
      "342:\tlearn: 7.3226913\ttotal: 13.5s\tremaining: 6.18s\n",
      "343:\tlearn: 7.3213265\ttotal: 13.6s\tremaining: 6.16s\n",
      "344:\tlearn: 7.3197902\ttotal: 13.6s\tremaining: 6.11s\n",
      "345:\tlearn: 7.3183896\ttotal: 13.7s\tremaining: 6.09s\n",
      "346:\tlearn: 7.3168054\ttotal: 13.7s\tremaining: 6.04s\n",
      "347:\tlearn: 7.3149328\ttotal: 13.7s\tremaining: 5.98s\n",
      "348:\tlearn: 7.3129073\ttotal: 13.8s\tremaining: 5.96s\n",
      "349:\tlearn: 7.3113155\ttotal: 13.8s\tremaining: 5.91s\n",
      "350:\tlearn: 7.3096967\ttotal: 13.9s\tremaining: 5.89s\n",
      "351:\tlearn: 7.3076674\ttotal: 13.9s\tremaining: 5.84s\n",
      "352:\tlearn: 7.3062291\ttotal: 14s\tremaining: 5.82s\n",
      "353:\tlearn: 7.3039125\ttotal: 14s\tremaining: 5.77s\n",
      "354:\tlearn: 7.3018185\ttotal: 14.1s\tremaining: 5.75s\n",
      "355:\tlearn: 7.2998784\ttotal: 14.1s\tremaining: 5.7s\n",
      "356:\tlearn: 7.2984420\ttotal: 14.2s\tremaining: 5.68s\n",
      "357:\tlearn: 7.2964759\ttotal: 14.2s\tremaining: 5.63s\n",
      "358:\tlearn: 7.2947974\ttotal: 14.3s\tremaining: 5.61s\n",
      "359:\tlearn: 7.2929658\ttotal: 14.3s\tremaining: 5.55s\n",
      "360:\tlearn: 7.2910079\ttotal: 14.3s\tremaining: 5.5s\n",
      "361:\tlearn: 7.2893507\ttotal: 14.4s\tremaining: 5.48s\n",
      "362:\tlearn: 7.2877211\ttotal: 14.4s\tremaining: 5.43s\n",
      "363:\tlearn: 7.2862540\ttotal: 14.5s\tremaining: 5.41s\n",
      "364:\tlearn: 7.2848050\ttotal: 14.5s\tremaining: 5.36s\n",
      "365:\tlearn: 7.2829317\ttotal: 14.5s\tremaining: 5.3s\n",
      "366:\tlearn: 7.2812926\ttotal: 14.6s\tremaining: 5.28s\n",
      "367:\tlearn: 7.2792863\ttotal: 14.6s\tremaining: 5.23s\n",
      "368:\tlearn: 7.2777681\ttotal: 14.7s\tremaining: 5.21s\n",
      "369:\tlearn: 7.2765853\ttotal: 14.7s\tremaining: 5.16s\n",
      "370:\tlearn: 7.2747142\ttotal: 14.8s\tremaining: 5.14s\n",
      "371:\tlearn: 7.2725963\ttotal: 14.8s\tremaining: 5.09s\n",
      "372:\tlearn: 7.2708051\ttotal: 14.9s\tremaining: 5.06s\n",
      "373:\tlearn: 7.2691409\ttotal: 14.9s\tremaining: 5.01s\n",
      "374:\tlearn: 7.2675187\ttotal: 15s\tremaining: 4.99s\n",
      "375:\tlearn: 7.2660395\ttotal: 15s\tremaining: 4.94s\n",
      "376:\tlearn: 7.2643191\ttotal: 15s\tremaining: 4.89s\n",
      "377:\tlearn: 7.2629885\ttotal: 15.1s\tremaining: 4.86s\n",
      "378:\tlearn: 7.2616088\ttotal: 15.1s\tremaining: 4.81s\n",
      "379:\tlearn: 7.2600458\ttotal: 15.2s\tremaining: 4.79s\n",
      "380:\tlearn: 7.2587413\ttotal: 15.2s\tremaining: 4.74s\n",
      "381:\tlearn: 7.2570785\ttotal: 15.3s\tremaining: 4.71s\n",
      "382:\tlearn: 7.2558437\ttotal: 15.3s\tremaining: 4.66s\n",
      "383:\tlearn: 7.2539918\ttotal: 15.3s\tremaining: 4.61s\n",
      "384:\tlearn: 7.2523493\ttotal: 15.4s\tremaining: 4.59s\n",
      "385:\tlearn: 7.2507757\ttotal: 15.4s\tremaining: 4.54s\n",
      "386:\tlearn: 7.2494911\ttotal: 15.5s\tremaining: 4.51s\n",
      "387:\tlearn: 7.2476061\ttotal: 15.5s\tremaining: 4.46s\n",
      "388:\tlearn: 7.2460656\ttotal: 15.5s\tremaining: 4.42s\n",
      "389:\tlearn: 7.2446093\ttotal: 15.6s\tremaining: 4.39s\n",
      "390:\tlearn: 7.2431251\ttotal: 15.6s\tremaining: 4.34s\n",
      "391:\tlearn: 7.2419396\ttotal: 15.6s\tremaining: 4.29s\n",
      "392:\tlearn: 7.2406573\ttotal: 15.7s\tremaining: 4.26s\n",
      "393:\tlearn: 7.2394295\ttotal: 15.7s\tremaining: 4.21s\n",
      "394:\tlearn: 7.2381213\ttotal: 15.8s\tremaining: 4.19s\n",
      "395:\tlearn: 7.2368755\ttotal: 15.8s\tremaining: 4.14s\n",
      "396:\tlearn: 7.2353777\ttotal: 15.9s\tremaining: 4.11s\n",
      "397:\tlearn: 7.2339737\ttotal: 15.9s\tremaining: 4.07s\n",
      "398:\tlearn: 7.2326691\ttotal: 15.9s\tremaining: 4.02s\n",
      "399:\tlearn: 7.2314515\ttotal: 16s\tremaining: 3.99s\n",
      "400:\tlearn: 7.2304988\ttotal: 16s\tremaining: 3.94s\n",
      "401:\tlearn: 7.2291846\ttotal: 16.1s\tremaining: 3.91s\n",
      "402:\tlearn: 7.2279006\ttotal: 16.1s\tremaining: 3.87s\n",
      "403:\tlearn: 7.2262981\ttotal: 16.1s\tremaining: 3.84s\n",
      "404:\tlearn: 7.2247429\ttotal: 16.2s\tremaining: 3.79s\n",
      "405:\tlearn: 7.2235292\ttotal: 16.2s\tremaining: 3.74s\n",
      "406:\tlearn: 7.2221747\ttotal: 16.3s\tremaining: 3.71s\n",
      "407:\tlearn: 7.2210694\ttotal: 16.3s\tremaining: 3.67s\n",
      "408:\tlearn: 7.2192548\ttotal: 16.3s\tremaining: 3.64s\n",
      "409:\tlearn: 7.2178828\ttotal: 16.4s\tremaining: 3.59s\n",
      "410:\tlearn: 7.2160879\ttotal: 16.4s\tremaining: 3.54s\n",
      "411:\tlearn: 7.2144274\ttotal: 16.5s\tremaining: 3.51s\n",
      "412:\tlearn: 7.2128343\ttotal: 16.5s\tremaining: 3.47s\n",
      "413:\tlearn: 7.2117226\ttotal: 16.5s\tremaining: 3.42s\n",
      "414:\tlearn: 7.2099407\ttotal: 16.5s\tremaining: 3.39s\n",
      "415:\tlearn: 7.2088109\ttotal: 16.6s\tremaining: 3.34s\n",
      "416:\tlearn: 7.2070856\ttotal: 16.6s\tremaining: 3.29s\n",
      "417:\tlearn: 7.2051432\ttotal: 16.6s\tremaining: 3.27s\n",
      "418:\tlearn: 7.2036222\ttotal: 16.6s\tremaining: 3.22s\n",
      "419:\tlearn: 7.2022254\ttotal: 16.7s\tremaining: 3.17s\n",
      "420:\tlearn: 7.2010518\ttotal: 16.7s\tremaining: 3.14s\n",
      "421:\tlearn: 7.1992805\ttotal: 16.8s\tremaining: 3.1s\n",
      "422:\tlearn: 7.1979193\ttotal: 16.8s\tremaining: 3.06s\n",
      "423:\tlearn: 7.1968295\ttotal: 16.8s\tremaining: 3.02s\n",
      "424:\tlearn: 7.1956917\ttotal: 16.9s\tremaining: 2.97s\n",
      "425:\tlearn: 7.1942405\ttotal: 16.9s\tremaining: 2.94s\n",
      "426:\tlearn: 7.1927496\ttotal: 16.9s\tremaining: 2.9s\n",
      "427:\tlearn: 7.1914397\ttotal: 16.9s\tremaining: 2.85s\n",
      "428:\tlearn: 7.1901423\ttotal: 17s\tremaining: 2.82s\n",
      "429:\tlearn: 7.1892456\ttotal: 17s\tremaining: 2.77s\n",
      "430:\tlearn: 7.1877932\ttotal: 17.1s\tremaining: 2.74s\n",
      "431:\tlearn: 7.1862681\ttotal: 17.1s\tremaining: 2.7s\n",
      "432:\tlearn: 7.1849149\ttotal: 17.1s\tremaining: 2.65s\n",
      "433:\tlearn: 7.1831708\ttotal: 17.2s\tremaining: 2.62s\n",
      "434:\tlearn: 7.1816533\ttotal: 17.2s\tremaining: 2.58s\n",
      "435:\tlearn: 7.1803930\ttotal: 17.3s\tremaining: 2.54s\n",
      "436:\tlearn: 7.1788648\ttotal: 17.4s\tremaining: 2.5s\n",
      "437:\tlearn: 7.1773198\ttotal: 17.4s\tremaining: 2.47s\n",
      "438:\tlearn: 7.1761679\ttotal: 17.4s\tremaining: 2.42s\n",
      "439:\tlearn: 7.1748463\ttotal: 17.5s\tremaining: 2.39s\n",
      "440:\tlearn: 7.1737773\ttotal: 17.5s\tremaining: 2.35s\n",
      "441:\tlearn: 7.1728650\ttotal: 17.5s\tremaining: 2.3s\n",
      "442:\tlearn: 7.1718708\ttotal: 17.6s\tremaining: 2.27s\n",
      "443:\tlearn: 7.1704970\ttotal: 17.6s\tremaining: 2.22s\n",
      "444:\tlearn: 7.1688215\ttotal: 17.7s\tremaining: 2.19s\n",
      "445:\tlearn: 7.1671716\ttotal: 17.7s\tremaining: 2.15s\n",
      "446:\tlearn: 7.1661089\ttotal: 17.7s\tremaining: 2.1s\n",
      "447:\tlearn: 7.1648370\ttotal: 17.8s\tremaining: 2.07s\n",
      "448:\tlearn: 7.1635384\ttotal: 17.8s\tremaining: 2.02s\n",
      "449:\tlearn: 7.1624196\ttotal: 17.8s\tremaining: 1.98s\n",
      "450:\tlearn: 7.1612104\ttotal: 17.9s\tremaining: 1.95s\n",
      "451:\tlearn: 7.1597749\ttotal: 17.9s\tremaining: 1.9s\n",
      "452:\tlearn: 7.1587296\ttotal: 18s\tremaining: 1.87s\n",
      "453:\tlearn: 7.1574397\ttotal: 18s\tremaining: 1.83s\n",
      "454:\tlearn: 7.1564408\ttotal: 18.1s\tremaining: 1.79s\n",
      "455:\tlearn: 7.1549740\ttotal: 18.1s\tremaining: 1.75s\n",
      "456:\tlearn: 7.1538306\ttotal: 18.1s\tremaining: 1.71s\n",
      "457:\tlearn: 7.1528891\ttotal: 18.2s\tremaining: 1.67s\n",
      "458:\tlearn: 7.1518668\ttotal: 18.2s\tremaining: 1.63s\n",
      "459:\tlearn: 7.1509555\ttotal: 18.3s\tremaining: 1.59s\n",
      "460:\tlearn: 7.1496717\ttotal: 18.3s\tremaining: 1.55s\n",
      "461:\tlearn: 7.1486552\ttotal: 18.3s\tremaining: 1.51s\n",
      "462:\tlearn: 7.1476309\ttotal: 18.4s\tremaining: 1.47s\n",
      "463:\tlearn: 7.1467249\ttotal: 18.4s\tremaining: 1.43s\n",
      "464:\tlearn: 7.1457477\ttotal: 18.4s\tremaining: 1.39s\n",
      "465:\tlearn: 7.1445900\ttotal: 18.5s\tremaining: 1.35s\n",
      "466:\tlearn: 7.1431356\ttotal: 18.5s\tremaining: 1.31s\n",
      "467:\tlearn: 7.1420547\ttotal: 18.6s\tremaining: 1.27s\n",
      "468:\tlearn: 7.1410524\ttotal: 18.6s\tremaining: 1.23s\n",
      "469:\tlearn: 7.1400767\ttotal: 18.7s\tremaining: 1.19s\n",
      "470:\tlearn: 7.1388167\ttotal: 18.7s\tremaining: 1.15s\n",
      "471:\tlearn: 7.1374110\ttotal: 18.7s\tremaining: 1.11s\n",
      "472:\tlearn: 7.1356331\ttotal: 18.8s\tremaining: 1.07s\n",
      "473:\tlearn: 7.1340719\ttotal: 18.8s\tremaining: 1.03s\n",
      "474:\tlearn: 7.1327856\ttotal: 18.8s\tremaining: 991ms\n",
      "475:\tlearn: 7.1319035\ttotal: 18.9s\tremaining: 954ms\n",
      "476:\tlearn: 7.1309997\ttotal: 18.9s\tremaining: 912ms\n",
      "477:\tlearn: 7.1297992\ttotal: 18.9s\tremaining: 871ms\n",
      "478:\tlearn: 7.1288405\ttotal: 19s\tremaining: 833ms\n",
      "479:\tlearn: 7.1276022\ttotal: 19s\tremaining: 792ms\n",
      "480:\tlearn: 7.1265329\ttotal: 19.1s\tremaining: 755ms\n",
      "481:\tlearn: 7.1253189\ttotal: 19.1s\tremaining: 714ms\n",
      "482:\tlearn: 7.1243068\ttotal: 19.1s\tremaining: 673ms\n",
      "483:\tlearn: 7.1231000\ttotal: 19.2s\tremaining: 635ms\n",
      "484:\tlearn: 7.1217685\ttotal: 19.2s\tremaining: 594ms\n",
      "485:\tlearn: 7.1207967\ttotal: 19.2s\tremaining: 554ms\n",
      "486:\tlearn: 7.1197457\ttotal: 19.3s\tremaining: 515ms\n",
      "487:\tlearn: 7.1184163\ttotal: 19.3s\tremaining: 475ms\n",
      "488:\tlearn: 7.1171381\ttotal: 19.3s\tremaining: 435ms\n",
      "489:\tlearn: 7.1159130\ttotal: 19.4s\tremaining: 396ms\n",
      "490:\tlearn: 7.1150162\ttotal: 19.4s\tremaining: 356ms\n",
      "491:\tlearn: 7.1139802\ttotal: 19.4s\tremaining: 316ms\n",
      "492:\tlearn: 7.1131195\ttotal: 19.5s\tremaining: 277ms\n",
      "493:\tlearn: 7.1118271\ttotal: 19.5s\tremaining: 237ms\n",
      "494:\tlearn: 7.1108444\ttotal: 19.5s\tremaining: 197ms\n",
      "495:\tlearn: 7.1095796\ttotal: 19.6s\tremaining: 158ms\n",
      "496:\tlearn: 7.1084787\ttotal: 19.6s\tremaining: 118ms\n",
      "497:\tlearn: 7.1075224\ttotal: 19.7s\tremaining: 79.1ms\n",
      "498:\tlearn: 7.1065356\ttotal: 19.7s\tremaining: 39.5ms\n",
      "499:\tlearn: 7.1054165\ttotal: 19.7s\tremaining: 0us\n",
      "0:\tlearn: 9.1031356\ttotal: 8.63ms\tremaining: 4.31s\n",
      "1:\tlearn: 9.0859738\ttotal: 14.5ms\tremaining: 3.62s\n",
      "2:\tlearn: 9.0683761\ttotal: 90.7ms\tremaining: 15s\n",
      "3:\tlearn: 9.0499445\ttotal: 97.4ms\tremaining: 12.1s\n",
      "4:\tlearn: 9.0322642\ttotal: 190ms\tremaining: 18.8s\n",
      "5:\tlearn: 9.0154413\ttotal: 196ms\tremaining: 16.2s\n",
      "6:\tlearn: 8.9980509\ttotal: 287ms\tremaining: 20.2s\n",
      "7:\tlearn: 8.9813635\ttotal: 294ms\tremaining: 18.1s\n",
      "8:\tlearn: 8.9665989\ttotal: 300ms\tremaining: 16.4s\n",
      "9:\tlearn: 8.9489991\ttotal: 391ms\tremaining: 19.2s\n",
      "10:\tlearn: 8.9329413\ttotal: 398ms\tremaining: 17.7s\n",
      "11:\tlearn: 8.9154496\ttotal: 487ms\tremaining: 19.8s\n",
      "12:\tlearn: 8.8987496\ttotal: 493ms\tremaining: 18.5s\n",
      "13:\tlearn: 8.8829447\ttotal: 585ms\tremaining: 20.3s\n",
      "14:\tlearn: 8.8678759\ttotal: 591ms\tremaining: 19.1s\n",
      "15:\tlearn: 8.8513122\ttotal: 683ms\tremaining: 20.7s\n",
      "16:\tlearn: 8.8342886\ttotal: 692ms\tremaining: 19.6s\n",
      "17:\tlearn: 8.8197790\ttotal: 698ms\tremaining: 18.7s\n",
      "18:\tlearn: 8.8051751\ttotal: 786ms\tremaining: 19.9s\n",
      "19:\tlearn: 8.7893481\ttotal: 793ms\tremaining: 19s\n",
      "20:\tlearn: 8.7747355\ttotal: 883ms\tremaining: 20.1s\n",
      "21:\tlearn: 8.7597968\ttotal: 890ms\tremaining: 19.3s\n",
      "22:\tlearn: 8.7469449\ttotal: 982ms\tremaining: 20.4s\n",
      "23:\tlearn: 8.7324892\ttotal: 987ms\tremaining: 19.6s\n",
      "24:\tlearn: 8.7186505\ttotal: 994ms\tremaining: 18.9s\n",
      "25:\tlearn: 8.7051654\ttotal: 1.08s\tremaining: 19.8s\n",
      "26:\tlearn: 8.6910909\ttotal: 1.09s\tremaining: 19.1s\n",
      "27:\tlearn: 8.6762616\ttotal: 1.18s\tremaining: 19.9s\n",
      "28:\tlearn: 8.6626886\ttotal: 1.19s\tremaining: 19.3s\n",
      "29:\tlearn: 8.6492085\ttotal: 1.28s\tremaining: 20s\n",
      "30:\tlearn: 8.6358579\ttotal: 1.28s\tremaining: 19.4s\n",
      "31:\tlearn: 8.6230903\ttotal: 1.29s\tremaining: 18.9s\n",
      "32:\tlearn: 8.6083460\ttotal: 1.38s\tremaining: 19.5s\n",
      "33:\tlearn: 8.5953466\ttotal: 1.39s\tremaining: 19s\n",
      "34:\tlearn: 8.5823914\ttotal: 1.48s\tremaining: 19.6s\n",
      "35:\tlearn: 8.5702432\ttotal: 1.48s\tremaining: 19.1s\n",
      "36:\tlearn: 8.5573784\ttotal: 1.57s\tremaining: 19.7s\n",
      "37:\tlearn: 8.5456737\ttotal: 1.59s\tremaining: 19.4s\n",
      "38:\tlearn: 8.5321385\ttotal: 1.67s\tremaining: 19.8s\n",
      "39:\tlearn: 8.5193147\ttotal: 1.68s\tremaining: 19.3s\n",
      "40:\tlearn: 8.5065117\ttotal: 1.69s\tremaining: 18.9s\n",
      "41:\tlearn: 8.4947764\ttotal: 1.77s\tremaining: 19.4s\n",
      "42:\tlearn: 8.4815952\ttotal: 1.78s\tremaining: 18.9s\n",
      "43:\tlearn: 8.4689618\ttotal: 1.87s\tremaining: 19.4s\n",
      "44:\tlearn: 8.4569808\ttotal: 1.88s\tremaining: 19s\n",
      "45:\tlearn: 8.4452522\ttotal: 1.97s\tremaining: 19.5s\n",
      "46:\tlearn: 8.4333728\ttotal: 1.98s\tremaining: 19.1s\n",
      "47:\tlearn: 8.4218259\ttotal: 2.07s\tremaining: 19.5s\n",
      "48:\tlearn: 8.4110594\ttotal: 2.08s\tremaining: 19.1s\n",
      "49:\tlearn: 8.3995687\ttotal: 2.17s\tremaining: 19.5s\n",
      "50:\tlearn: 8.3873985\ttotal: 2.17s\tremaining: 19.1s\n",
      "51:\tlearn: 8.3751780\ttotal: 2.18s\tremaining: 18.8s\n",
      "52:\tlearn: 8.3645453\ttotal: 2.27s\tremaining: 19.1s\n",
      "53:\tlearn: 8.3543793\ttotal: 2.27s\tremaining: 18.8s\n",
      "54:\tlearn: 8.3434575\ttotal: 2.36s\tremaining: 19.1s\n",
      "55:\tlearn: 8.3328994\ttotal: 2.37s\tremaining: 18.8s\n",
      "56:\tlearn: 8.3230939\ttotal: 2.38s\tremaining: 18.5s\n",
      "57:\tlearn: 8.3135134\ttotal: 2.47s\tremaining: 18.8s\n",
      "58:\tlearn: 8.3030103\ttotal: 2.47s\tremaining: 18.5s\n",
      "59:\tlearn: 8.2934423\ttotal: 2.56s\tremaining: 18.8s\n",
      "60:\tlearn: 8.2834089\ttotal: 2.57s\tremaining: 18.5s\n",
      "61:\tlearn: 8.2737807\ttotal: 2.66s\tremaining: 18.8s\n",
      "62:\tlearn: 8.2631779\ttotal: 2.67s\tremaining: 18.5s\n",
      "63:\tlearn: 8.2536141\ttotal: 2.76s\tremaining: 18.8s\n",
      "64:\tlearn: 8.2444097\ttotal: 2.77s\tremaining: 18.5s\n",
      "65:\tlearn: 8.2340992\ttotal: 2.86s\tremaining: 18.8s\n",
      "66:\tlearn: 8.2247777\ttotal: 2.87s\tremaining: 18.5s\n",
      "67:\tlearn: 8.2147578\ttotal: 2.87s\tremaining: 18.2s\n",
      "68:\tlearn: 8.2051864\ttotal: 2.96s\tremaining: 18.5s\n",
      "69:\tlearn: 8.1957737\ttotal: 2.97s\tremaining: 18.2s\n",
      "70:\tlearn: 8.1854364\ttotal: 3.06s\tremaining: 18.5s\n",
      "71:\tlearn: 8.1767177\ttotal: 3.06s\tremaining: 18.2s\n",
      "72:\tlearn: 8.1672694\ttotal: 3.16s\tremaining: 18.5s\n",
      "73:\tlearn: 8.1581945\ttotal: 3.16s\tremaining: 18.2s\n",
      "74:\tlearn: 8.1482013\ttotal: 3.17s\tremaining: 18s\n",
      "75:\tlearn: 8.1399552\ttotal: 3.26s\tremaining: 18.2s\n",
      "76:\tlearn: 8.1302861\ttotal: 3.27s\tremaining: 17.9s\n",
      "77:\tlearn: 8.1217202\ttotal: 3.36s\tremaining: 18.2s\n",
      "78:\tlearn: 8.1130212\ttotal: 3.36s\tremaining: 17.9s\n",
      "79:\tlearn: 8.1040840\ttotal: 3.45s\tremaining: 18.1s\n",
      "80:\tlearn: 8.0968500\ttotal: 3.46s\tremaining: 17.9s\n",
      "81:\tlearn: 8.0883344\ttotal: 3.47s\tremaining: 17.7s\n",
      "82:\tlearn: 8.0801876\ttotal: 3.56s\tremaining: 17.9s\n",
      "83:\tlearn: 8.0720279\ttotal: 3.56s\tremaining: 17.6s\n",
      "84:\tlearn: 8.0641339\ttotal: 3.65s\tremaining: 17.8s\n",
      "85:\tlearn: 8.0552240\ttotal: 3.66s\tremaining: 17.6s\n",
      "86:\tlearn: 8.0464264\ttotal: 3.75s\tremaining: 17.8s\n",
      "87:\tlearn: 8.0393487\ttotal: 3.76s\tremaining: 17.6s\n",
      "88:\tlearn: 8.0311680\ttotal: 3.76s\tremaining: 17.4s\n",
      "89:\tlearn: 8.0234533\ttotal: 3.85s\tremaining: 17.5s\n",
      "90:\tlearn: 8.0155754\ttotal: 3.86s\tremaining: 17.3s\n",
      "91:\tlearn: 8.0076143\ttotal: 3.95s\tremaining: 17.5s\n",
      "92:\tlearn: 8.0007934\ttotal: 3.95s\tremaining: 17.3s\n",
      "93:\tlearn: 7.9926132\ttotal: 3.96s\tremaining: 17.1s\n",
      "94:\tlearn: 7.9852661\ttotal: 4.05s\tremaining: 17.3s\n",
      "95:\tlearn: 7.9783292\ttotal: 4.05s\tremaining: 17.1s\n",
      "96:\tlearn: 7.9714411\ttotal: 4.06s\tremaining: 16.9s\n",
      "97:\tlearn: 7.9645979\ttotal: 4.15s\tremaining: 17s\n",
      "98:\tlearn: 7.9576860\ttotal: 4.16s\tremaining: 16.8s\n",
      "99:\tlearn: 7.9511746\ttotal: 4.25s\tremaining: 17s\n",
      "100:\tlearn: 7.9450755\ttotal: 4.25s\tremaining: 16.8s\n",
      "101:\tlearn: 7.9384712\ttotal: 4.34s\tremaining: 17s\n",
      "102:\tlearn: 7.9309758\ttotal: 4.35s\tremaining: 16.8s\n",
      "103:\tlearn: 7.9241598\ttotal: 4.36s\tremaining: 16.6s\n",
      "104:\tlearn: 7.9178957\ttotal: 4.37s\tremaining: 16.4s\n",
      "105:\tlearn: 7.9108059\ttotal: 4.37s\tremaining: 16.3s\n",
      "106:\tlearn: 7.9037013\ttotal: 4.46s\tremaining: 16.4s\n",
      "107:\tlearn: 7.8971697\ttotal: 4.47s\tremaining: 16.2s\n",
      "108:\tlearn: 7.8910006\ttotal: 4.56s\tremaining: 16.3s\n",
      "109:\tlearn: 7.8849699\ttotal: 4.56s\tremaining: 16.2s\n",
      "110:\tlearn: 7.8791358\ttotal: 4.57s\tremaining: 16s\n",
      "111:\tlearn: 7.8731562\ttotal: 4.66s\tremaining: 16.1s\n",
      "112:\tlearn: 7.8663904\ttotal: 4.67s\tremaining: 16s\n",
      "113:\tlearn: 7.8598825\ttotal: 4.76s\tremaining: 16.1s\n",
      "114:\tlearn: 7.8537136\ttotal: 4.76s\tremaining: 16s\n",
      "115:\tlearn: 7.8478134\ttotal: 4.78s\tremaining: 15.8s\n",
      "116:\tlearn: 7.8421126\ttotal: 4.86s\tremaining: 15.9s\n",
      "117:\tlearn: 7.8364581\ttotal: 4.86s\tremaining: 15.7s\n",
      "118:\tlearn: 7.8303358\ttotal: 4.95s\tremaining: 15.9s\n",
      "119:\tlearn: 7.8245817\ttotal: 4.97s\tremaining: 15.7s\n",
      "120:\tlearn: 7.8183803\ttotal: 5.05s\tremaining: 15.8s\n",
      "121:\tlearn: 7.8123446\ttotal: 5.06s\tremaining: 15.7s\n",
      "122:\tlearn: 7.8059184\ttotal: 5.15s\tremaining: 15.8s\n",
      "123:\tlearn: 7.8002295\ttotal: 5.16s\tremaining: 15.6s\n",
      "124:\tlearn: 7.7948239\ttotal: 5.16s\tremaining: 15.5s\n",
      "125:\tlearn: 7.7893524\ttotal: 5.25s\tremaining: 15.6s\n",
      "126:\tlearn: 7.7838694\ttotal: 5.26s\tremaining: 15.4s\n",
      "127:\tlearn: 7.7783669\ttotal: 5.35s\tremaining: 15.5s\n",
      "128:\tlearn: 7.7735818\ttotal: 5.36s\tremaining: 15.4s\n",
      "129:\tlearn: 7.7677787\ttotal: 5.36s\tremaining: 15.3s\n",
      "130:\tlearn: 7.7629845\ttotal: 5.45s\tremaining: 15.4s\n",
      "131:\tlearn: 7.7569228\ttotal: 5.46s\tremaining: 15.2s\n",
      "132:\tlearn: 7.7513232\ttotal: 5.55s\tremaining: 15.3s\n",
      "133:\tlearn: 7.7463101\ttotal: 5.55s\tremaining: 15.2s\n",
      "134:\tlearn: 7.7410763\ttotal: 5.64s\tremaining: 15.3s\n",
      "135:\tlearn: 7.7366315\ttotal: 5.66s\tremaining: 15.1s\n",
      "136:\tlearn: 7.7321656\ttotal: 5.66s\tremaining: 15s\n",
      "137:\tlearn: 7.7274752\ttotal: 5.74s\tremaining: 15.1s\n",
      "138:\tlearn: 7.7221318\ttotal: 5.75s\tremaining: 14.9s\n",
      "139:\tlearn: 7.7173429\ttotal: 5.84s\tremaining: 15s\n",
      "140:\tlearn: 7.7122386\ttotal: 5.85s\tremaining: 14.9s\n",
      "141:\tlearn: 7.7074250\ttotal: 5.94s\tremaining: 15s\n",
      "142:\tlearn: 7.7030411\ttotal: 5.95s\tremaining: 14.8s\n",
      "143:\tlearn: 7.6985462\ttotal: 5.96s\tremaining: 14.7s\n",
      "144:\tlearn: 7.6935872\ttotal: 6.04s\tremaining: 14.8s\n",
      "145:\tlearn: 7.6893138\ttotal: 6.05s\tremaining: 14.7s\n",
      "146:\tlearn: 7.6850133\ttotal: 6.14s\tremaining: 14.7s\n",
      "147:\tlearn: 7.6808363\ttotal: 6.15s\tremaining: 14.6s\n",
      "148:\tlearn: 7.6761328\ttotal: 6.24s\tremaining: 14.7s\n",
      "149:\tlearn: 7.6709460\ttotal: 6.25s\tremaining: 14.6s\n",
      "150:\tlearn: 7.6661797\ttotal: 6.34s\tremaining: 14.6s\n",
      "151:\tlearn: 7.6620155\ttotal: 6.34s\tremaining: 14.5s\n",
      "152:\tlearn: 7.6579443\ttotal: 6.35s\tremaining: 14.4s\n",
      "153:\tlearn: 7.6528997\ttotal: 6.44s\tremaining: 14.5s\n",
      "154:\tlearn: 7.6486397\ttotal: 6.45s\tremaining: 14.3s\n",
      "155:\tlearn: 7.6440006\ttotal: 6.54s\tremaining: 14.4s\n",
      "156:\tlearn: 7.6394850\ttotal: 6.54s\tremaining: 14.3s\n",
      "157:\tlearn: 7.6348363\ttotal: 6.64s\tremaining: 14.4s\n",
      "158:\tlearn: 7.6309811\ttotal: 6.64s\tremaining: 14.2s\n",
      "159:\tlearn: 7.6272073\ttotal: 6.73s\tremaining: 14.3s\n",
      "160:\tlearn: 7.6227438\ttotal: 6.74s\tremaining: 14.2s\n",
      "161:\tlearn: 7.6184811\ttotal: 6.74s\tremaining: 14.1s\n",
      "162:\tlearn: 7.6143870\ttotal: 6.83s\tremaining: 14.1s\n",
      "163:\tlearn: 7.6108448\ttotal: 6.84s\tremaining: 14s\n",
      "164:\tlearn: 7.6067197\ttotal: 6.94s\tremaining: 14.1s\n",
      "165:\tlearn: 7.6030128\ttotal: 6.94s\tremaining: 14s\n",
      "166:\tlearn: 7.5990761\ttotal: 6.95s\tremaining: 13.9s\n",
      "167:\tlearn: 7.5952205\ttotal: 7.03s\tremaining: 13.9s\n",
      "168:\tlearn: 7.5910282\ttotal: 7.04s\tremaining: 13.8s\n",
      "169:\tlearn: 7.5868767\ttotal: 7.13s\tremaining: 13.8s\n",
      "170:\tlearn: 7.5826342\ttotal: 7.13s\tremaining: 13.7s\n",
      "171:\tlearn: 7.5783491\ttotal: 7.14s\tremaining: 13.6s\n",
      "172:\tlearn: 7.5743871\ttotal: 7.23s\tremaining: 13.7s\n",
      "173:\tlearn: 7.5706453\ttotal: 7.23s\tremaining: 13.6s\n",
      "174:\tlearn: 7.5674523\ttotal: 7.32s\tremaining: 13.6s\n",
      "175:\tlearn: 7.5636197\ttotal: 7.33s\tremaining: 13.5s\n",
      "176:\tlearn: 7.5593393\ttotal: 7.33s\tremaining: 13.4s\n",
      "177:\tlearn: 7.5549747\ttotal: 7.42s\tremaining: 13.4s\n",
      "178:\tlearn: 7.5508245\ttotal: 7.43s\tremaining: 13.3s\n",
      "179:\tlearn: 7.5467253\ttotal: 7.44s\tremaining: 13.2s\n",
      "180:\tlearn: 7.5429369\ttotal: 7.53s\tremaining: 13.3s\n",
      "181:\tlearn: 7.5390688\ttotal: 7.53s\tremaining: 13.2s\n",
      "182:\tlearn: 7.5356517\ttotal: 7.62s\tremaining: 13.2s\n",
      "183:\tlearn: 7.5316449\ttotal: 7.63s\tremaining: 13.1s\n",
      "184:\tlearn: 7.5283558\ttotal: 7.63s\tremaining: 13s\n",
      "185:\tlearn: 7.5248564\ttotal: 7.72s\tremaining: 13s\n",
      "186:\tlearn: 7.5210416\ttotal: 7.73s\tremaining: 12.9s\n",
      "187:\tlearn: 7.5178261\ttotal: 7.82s\tremaining: 13s\n",
      "188:\tlearn: 7.5144406\ttotal: 7.82s\tremaining: 12.9s\n",
      "189:\tlearn: 7.5105014\ttotal: 7.83s\tremaining: 12.8s\n",
      "190:\tlearn: 7.5068541\ttotal: 7.92s\tremaining: 12.8s\n",
      "191:\tlearn: 7.5035299\ttotal: 7.92s\tremaining: 12.7s\n",
      "192:\tlearn: 7.4998454\ttotal: 7.93s\tremaining: 12.6s\n",
      "193:\tlearn: 7.4971507\ttotal: 8.02s\tremaining: 12.6s\n",
      "194:\tlearn: 7.4941089\ttotal: 8.03s\tremaining: 12.6s\n",
      "195:\tlearn: 7.4896976\ttotal: 8.11s\tremaining: 12.6s\n",
      "196:\tlearn: 7.4860267\ttotal: 8.12s\tremaining: 12.5s\n",
      "197:\tlearn: 7.4830411\ttotal: 8.12s\tremaining: 12.4s\n",
      "198:\tlearn: 7.4795337\ttotal: 8.21s\tremaining: 12.4s\n",
      "199:\tlearn: 7.4763933\ttotal: 8.22s\tremaining: 12.3s\n",
      "200:\tlearn: 7.4731322\ttotal: 8.23s\tremaining: 12.2s\n",
      "201:\tlearn: 7.4699299\ttotal: 8.31s\tremaining: 12.3s\n",
      "202:\tlearn: 7.4666296\ttotal: 8.32s\tremaining: 12.2s\n",
      "203:\tlearn: 7.4635542\ttotal: 8.32s\tremaining: 12.1s\n",
      "204:\tlearn: 7.4606696\ttotal: 8.41s\tremaining: 12.1s\n",
      "205:\tlearn: 7.4578492\ttotal: 8.42s\tremaining: 12s\n",
      "206:\tlearn: 7.4540660\ttotal: 8.51s\tremaining: 12s\n",
      "207:\tlearn: 7.4509589\ttotal: 8.51s\tremaining: 12s\n",
      "208:\tlearn: 7.4477144\ttotal: 8.52s\tremaining: 11.9s\n",
      "209:\tlearn: 7.4444627\ttotal: 8.61s\tremaining: 11.9s\n",
      "210:\tlearn: 7.4411414\ttotal: 8.62s\tremaining: 11.8s\n",
      "211:\tlearn: 7.4382540\ttotal: 8.62s\tremaining: 11.7s\n",
      "212:\tlearn: 7.4350737\ttotal: 8.71s\tremaining: 11.7s\n",
      "213:\tlearn: 7.4319290\ttotal: 8.72s\tremaining: 11.6s\n",
      "214:\tlearn: 7.4292867\ttotal: 8.72s\tremaining: 11.6s\n",
      "215:\tlearn: 7.4264666\ttotal: 8.81s\tremaining: 11.6s\n",
      "216:\tlearn: 7.4231178\ttotal: 8.81s\tremaining: 11.5s\n",
      "217:\tlearn: 7.4206899\ttotal: 8.9s\tremaining: 11.5s\n",
      "218:\tlearn: 7.4181850\ttotal: 8.91s\tremaining: 11.4s\n",
      "219:\tlearn: 7.4149899\ttotal: 8.91s\tremaining: 11.3s\n",
      "220:\tlearn: 7.4117744\ttotal: 9.01s\tremaining: 11.4s\n",
      "221:\tlearn: 7.4095062\ttotal: 9.01s\tremaining: 11.3s\n",
      "222:\tlearn: 7.4064314\ttotal: 9.02s\tremaining: 11.2s\n",
      "223:\tlearn: 7.4033063\ttotal: 9.11s\tremaining: 11.2s\n",
      "224:\tlearn: 7.4007161\ttotal: 9.11s\tremaining: 11.1s\n",
      "225:\tlearn: 7.3978545\ttotal: 9.2s\tremaining: 11.2s\n",
      "226:\tlearn: 7.3953057\ttotal: 9.21s\tremaining: 11.1s\n",
      "227:\tlearn: 7.3927323\ttotal: 9.21s\tremaining: 11s\n",
      "228:\tlearn: 7.3899589\ttotal: 9.3s\tremaining: 11s\n",
      "229:\tlearn: 7.3872626\ttotal: 9.31s\tremaining: 10.9s\n",
      "230:\tlearn: 7.3842734\ttotal: 9.31s\tremaining: 10.8s\n",
      "231:\tlearn: 7.3813127\ttotal: 9.4s\tremaining: 10.9s\n",
      "232:\tlearn: 7.3791016\ttotal: 9.41s\tremaining: 10.8s\n",
      "233:\tlearn: 7.3763543\ttotal: 9.49s\tremaining: 10.8s\n",
      "234:\tlearn: 7.3737106\ttotal: 9.5s\tremaining: 10.7s\n",
      "235:\tlearn: 7.3710449\ttotal: 9.51s\tremaining: 10.6s\n",
      "236:\tlearn: 7.3685028\ttotal: 9.59s\tremaining: 10.6s\n",
      "237:\tlearn: 7.3656556\ttotal: 9.6s\tremaining: 10.6s\n",
      "238:\tlearn: 7.3629798\ttotal: 9.61s\tremaining: 10.5s\n",
      "239:\tlearn: 7.3602323\ttotal: 9.7s\tremaining: 10.5s\n",
      "240:\tlearn: 7.3572340\ttotal: 9.7s\tremaining: 10.4s\n",
      "241:\tlearn: 7.3547441\ttotal: 9.79s\tremaining: 10.4s\n",
      "242:\tlearn: 7.3524615\ttotal: 9.8s\tremaining: 10.4s\n",
      "243:\tlearn: 7.3500432\ttotal: 9.8s\tremaining: 10.3s\n",
      "244:\tlearn: 7.3466637\ttotal: 9.89s\tremaining: 10.3s\n",
      "245:\tlearn: 7.3444144\ttotal: 9.9s\tremaining: 10.2s\n",
      "246:\tlearn: 7.3415460\ttotal: 9.9s\tremaining: 10.1s\n",
      "247:\tlearn: 7.3388468\ttotal: 9.99s\tremaining: 10.2s\n",
      "248:\tlearn: 7.3356416\ttotal: 10s\tremaining: 10.1s\n",
      "249:\tlearn: 7.3332604\ttotal: 10.1s\tremaining: 10.1s\n",
      "250:\tlearn: 7.3309083\ttotal: 10.1s\tremaining: 10s\n",
      "251:\tlearn: 7.3287877\ttotal: 10.1s\tremaining: 9.94s\n",
      "252:\tlearn: 7.3264092\ttotal: 10.2s\tremaining: 9.95s\n",
      "253:\tlearn: 7.3236441\ttotal: 10.2s\tremaining: 9.87s\n",
      "254:\tlearn: 7.3214882\ttotal: 10.3s\tremaining: 9.88s\n",
      "255:\tlearn: 7.3187970\ttotal: 10.3s\tremaining: 9.81s\n",
      "256:\tlearn: 7.3165786\ttotal: 10.3s\tremaining: 9.74s\n",
      "257:\tlearn: 7.3136974\ttotal: 10.4s\tremaining: 9.74s\n",
      "258:\tlearn: 7.3116969\ttotal: 10.4s\tremaining: 9.67s\n",
      "259:\tlearn: 7.3099176\ttotal: 10.4s\tremaining: 9.6s\n",
      "260:\tlearn: 7.3071272\ttotal: 10.5s\tremaining: 9.6s\n",
      "261:\tlearn: 7.3040765\ttotal: 10.5s\tremaining: 9.53s\n",
      "262:\tlearn: 7.3020720\ttotal: 10.5s\tremaining: 9.46s\n",
      "263:\tlearn: 7.2995519\ttotal: 10.6s\tremaining: 9.46s\n",
      "264:\tlearn: 7.2968996\ttotal: 10.6s\tremaining: 9.39s\n",
      "265:\tlearn: 7.2937023\ttotal: 10.7s\tremaining: 9.39s\n",
      "266:\tlearn: 7.2914103\ttotal: 10.7s\tremaining: 9.33s\n",
      "267:\tlearn: 7.2889615\ttotal: 10.7s\tremaining: 9.26s\n",
      "268:\tlearn: 7.2870282\ttotal: 10.8s\tremaining: 9.26s\n",
      "269:\tlearn: 7.2844759\ttotal: 10.8s\tremaining: 9.19s\n",
      "270:\tlearn: 7.2817388\ttotal: 10.9s\tremaining: 9.19s\n",
      "271:\tlearn: 7.2796119\ttotal: 10.9s\tremaining: 9.12s\n",
      "272:\tlearn: 7.2767728\ttotal: 10.9s\tremaining: 9.06s\n",
      "273:\tlearn: 7.2743984\ttotal: 11s\tremaining: 9.06s\n",
      "274:\tlearn: 7.2723506\ttotal: 11s\tremaining: 8.99s\n",
      "275:\tlearn: 7.2700637\ttotal: 11.1s\tremaining: 8.99s\n",
      "276:\tlearn: 7.2679932\ttotal: 11.1s\tremaining: 8.92s\n",
      "277:\tlearn: 7.2656502\ttotal: 11.2s\tremaining: 8.92s\n",
      "278:\tlearn: 7.2632613\ttotal: 11.2s\tremaining: 8.86s\n",
      "279:\tlearn: 7.2611192\ttotal: 11.2s\tremaining: 8.8s\n",
      "280:\tlearn: 7.2588033\ttotal: 11.3s\tremaining: 8.79s\n",
      "281:\tlearn: 7.2564400\ttotal: 11.3s\tremaining: 8.72s\n",
      "282:\tlearn: 7.2543040\ttotal: 11.4s\tremaining: 8.72s\n",
      "283:\tlearn: 7.2524740\ttotal: 11.4s\tremaining: 8.66s\n",
      "284:\tlearn: 7.2503948\ttotal: 11.5s\tremaining: 8.65s\n",
      "285:\tlearn: 7.2477658\ttotal: 11.5s\tremaining: 8.59s\n",
      "286:\tlearn: 7.2455909\ttotal: 11.5s\tremaining: 8.52s\n",
      "287:\tlearn: 7.2438179\ttotal: 11.6s\tremaining: 8.52s\n",
      "288:\tlearn: 7.2417060\ttotal: 11.6s\tremaining: 8.46s\n",
      "289:\tlearn: 7.2399247\ttotal: 11.7s\tremaining: 8.45s\n",
      "290:\tlearn: 7.2379264\ttotal: 11.7s\tremaining: 8.39s\n",
      "291:\tlearn: 7.2363072\ttotal: 11.8s\tremaining: 8.38s\n",
      "292:\tlearn: 7.2339655\ttotal: 11.8s\tremaining: 8.32s\n",
      "293:\tlearn: 7.2317184\ttotal: 11.8s\tremaining: 8.26s\n",
      "294:\tlearn: 7.2299371\ttotal: 11.9s\tremaining: 8.25s\n",
      "295:\tlearn: 7.2277318\ttotal: 11.9s\tremaining: 8.19s\n",
      "296:\tlearn: 7.2255373\ttotal: 12s\tremaining: 8.18s\n",
      "297:\tlearn: 7.2235595\ttotal: 12s\tremaining: 8.12s\n",
      "298:\tlearn: 7.2213960\ttotal: 12s\tremaining: 8.05s\n",
      "299:\tlearn: 7.2191727\ttotal: 12.1s\tremaining: 8.05s\n",
      "300:\tlearn: 7.2172698\ttotal: 12.2s\tremaining: 8.04s\n",
      "301:\tlearn: 7.2153491\ttotal: 12.2s\tremaining: 7.98s\n",
      "302:\tlearn: 7.2134454\ttotal: 12.2s\tremaining: 7.92s\n",
      "303:\tlearn: 7.2113685\ttotal: 12.3s\tremaining: 7.91s\n",
      "304:\tlearn: 7.2091952\ttotal: 12.4s\tremaining: 7.9s\n",
      "305:\tlearn: 7.2066663\ttotal: 12.4s\tremaining: 7.84s\n",
      "306:\tlearn: 7.2047835\ttotal: 12.4s\tremaining: 7.78s\n",
      "307:\tlearn: 7.2031002\ttotal: 12.5s\tremaining: 7.77s\n",
      "308:\tlearn: 7.2010154\ttotal: 12.5s\tremaining: 7.71s\n",
      "309:\tlearn: 7.1985229\ttotal: 12.6s\tremaining: 7.7s\n",
      "310:\tlearn: 7.1966854\ttotal: 12.6s\tremaining: 7.64s\n",
      "311:\tlearn: 7.1949044\ttotal: 12.6s\tremaining: 7.58s\n",
      "312:\tlearn: 7.1931345\ttotal: 12.7s\tremaining: 7.56s\n",
      "313:\tlearn: 7.1913066\ttotal: 12.7s\tremaining: 7.5s\n",
      "314:\tlearn: 7.1888187\ttotal: 12.8s\tremaining: 7.49s\n",
      "315:\tlearn: 7.1867537\ttotal: 12.8s\tremaining: 7.43s\n",
      "316:\tlearn: 7.1846847\ttotal: 12.9s\tremaining: 7.42s\n",
      "317:\tlearn: 7.1827625\ttotal: 12.9s\tremaining: 7.36s\n",
      "318:\tlearn: 7.1812250\ttotal: 12.9s\tremaining: 7.3s\n",
      "319:\tlearn: 7.1787799\ttotal: 13s\tremaining: 7.29s\n",
      "320:\tlearn: 7.1770776\ttotal: 13s\tremaining: 7.23s\n",
      "321:\tlearn: 7.1751956\ttotal: 13.1s\tremaining: 7.22s\n",
      "322:\tlearn: 7.1734328\ttotal: 13.1s\tremaining: 7.16s\n",
      "323:\tlearn: 7.1716838\ttotal: 13.2s\tremaining: 7.14s\n",
      "324:\tlearn: 7.1698614\ttotal: 13.2s\tremaining: 7.09s\n",
      "325:\tlearn: 7.1679697\ttotal: 13.2s\tremaining: 7.07s\n",
      "326:\tlearn: 7.1657020\ttotal: 13.3s\tremaining: 7.01s\n",
      "327:\tlearn: 7.1635364\ttotal: 13.3s\tremaining: 6.95s\n",
      "328:\tlearn: 7.1617932\ttotal: 13.4s\tremaining: 6.94s\n",
      "329:\tlearn: 7.1600548\ttotal: 13.4s\tremaining: 6.88s\n",
      "330:\tlearn: 7.1577900\ttotal: 13.4s\tremaining: 6.87s\n",
      "331:\tlearn: 7.1558925\ttotal: 13.5s\tremaining: 6.81s\n",
      "332:\tlearn: 7.1544140\ttotal: 13.5s\tremaining: 6.79s\n",
      "333:\tlearn: 7.1529931\ttotal: 13.6s\tremaining: 6.74s\n",
      "334:\tlearn: 7.1517677\ttotal: 13.6s\tremaining: 6.68s\n",
      "335:\tlearn: 7.1502312\ttotal: 13.6s\tremaining: 6.66s\n",
      "336:\tlearn: 7.1483141\ttotal: 13.7s\tremaining: 6.6s\n",
      "337:\tlearn: 7.1462164\ttotal: 13.7s\tremaining: 6.55s\n",
      "338:\tlearn: 7.1445114\ttotal: 13.8s\tremaining: 6.53s\n",
      "339:\tlearn: 7.1423709\ttotal: 13.8s\tremaining: 6.47s\n",
      "340:\tlearn: 7.1406190\ttotal: 13.8s\tremaining: 6.46s\n",
      "341:\tlearn: 7.1390288\ttotal: 13.9s\tremaining: 6.4s\n",
      "342:\tlearn: 7.1376321\ttotal: 13.9s\tremaining: 6.38s\n",
      "343:\tlearn: 7.1362330\ttotal: 13.9s\tremaining: 6.33s\n",
      "344:\tlearn: 7.1345903\ttotal: 14s\tremaining: 6.27s\n",
      "345:\tlearn: 7.1331391\ttotal: 14s\tremaining: 6.25s\n",
      "346:\tlearn: 7.1317839\ttotal: 14.1s\tremaining: 6.2s\n",
      "347:\tlearn: 7.1300721\ttotal: 14.1s\tremaining: 6.18s\n",
      "348:\tlearn: 7.1283818\ttotal: 14.2s\tremaining: 6.12s\n",
      "349:\tlearn: 7.1269842\ttotal: 14.2s\tremaining: 6.1s\n",
      "350:\tlearn: 7.1249737\ttotal: 14.2s\tremaining: 6.05s\n",
      "351:\tlearn: 7.1231481\ttotal: 14.3s\tremaining: 6.03s\n",
      "352:\tlearn: 7.1214146\ttotal: 14.3s\tremaining: 5.97s\n",
      "353:\tlearn: 7.1196120\ttotal: 14.4s\tremaining: 5.95s\n",
      "354:\tlearn: 7.1180637\ttotal: 14.4s\tremaining: 5.9s\n",
      "355:\tlearn: 7.1163079\ttotal: 14.4s\tremaining: 5.84s\n",
      "356:\tlearn: 7.1145669\ttotal: 14.5s\tremaining: 5.82s\n",
      "357:\tlearn: 7.1128595\ttotal: 14.5s\tremaining: 5.77s\n",
      "358:\tlearn: 7.1113403\ttotal: 14.6s\tremaining: 5.75s\n",
      "359:\tlearn: 7.1097110\ttotal: 14.6s\tremaining: 5.69s\n",
      "360:\tlearn: 7.1083988\ttotal: 14.6s\tremaining: 5.64s\n",
      "361:\tlearn: 7.1067970\ttotal: 14.7s\tremaining: 5.62s\n",
      "362:\tlearn: 7.1050949\ttotal: 14.8s\tremaining: 5.6s\n",
      "363:\tlearn: 7.1033787\ttotal: 14.8s\tremaining: 5.54s\n",
      "364:\tlearn: 7.1016672\ttotal: 14.8s\tremaining: 5.49s\n",
      "365:\tlearn: 7.0997511\ttotal: 14.9s\tremaining: 5.47s\n",
      "366:\tlearn: 7.0981821\ttotal: 14.9s\tremaining: 5.41s\n",
      "367:\tlearn: 7.0965713\ttotal: 14.9s\tremaining: 5.36s\n",
      "368:\tlearn: 7.0949269\ttotal: 15s\tremaining: 5.34s\n",
      "369:\tlearn: 7.0939189\ttotal: 15s\tremaining: 5.28s\n",
      "370:\tlearn: 7.0920620\ttotal: 15.1s\tremaining: 5.26s\n",
      "371:\tlearn: 7.0908467\ttotal: 15.1s\tremaining: 5.21s\n",
      "372:\tlearn: 7.0895309\ttotal: 15.2s\tremaining: 5.18s\n",
      "373:\tlearn: 7.0877565\ttotal: 15.2s\tremaining: 5.13s\n",
      "374:\tlearn: 7.0862891\ttotal: 15.2s\tremaining: 5.08s\n",
      "375:\tlearn: 7.0847507\ttotal: 15.3s\tremaining: 5.05s\n",
      "376:\tlearn: 7.0833369\ttotal: 15.3s\tremaining: 5s\n",
      "377:\tlearn: 7.0819879\ttotal: 15.4s\tremaining: 4.98s\n",
      "378:\tlearn: 7.0804645\ttotal: 15.4s\tremaining: 4.93s\n",
      "379:\tlearn: 7.0791229\ttotal: 15.5s\tremaining: 4.9s\n",
      "380:\tlearn: 7.0778552\ttotal: 15.5s\tremaining: 4.85s\n",
      "381:\tlearn: 7.0766234\ttotal: 15.5s\tremaining: 4.8s\n",
      "382:\tlearn: 7.0754766\ttotal: 15.6s\tremaining: 4.77s\n",
      "383:\tlearn: 7.0739021\ttotal: 15.6s\tremaining: 4.72s\n",
      "384:\tlearn: 7.0721987\ttotal: 15.6s\tremaining: 4.67s\n",
      "385:\tlearn: 7.0709430\ttotal: 15.7s\tremaining: 4.64s\n",
      "386:\tlearn: 7.0695873\ttotal: 15.7s\tremaining: 4.59s\n",
      "387:\tlearn: 7.0681954\ttotal: 15.8s\tremaining: 4.57s\n",
      "388:\tlearn: 7.0665926\ttotal: 15.8s\tremaining: 4.52s\n",
      "389:\tlearn: 7.0652787\ttotal: 15.9s\tremaining: 4.49s\n",
      "390:\tlearn: 7.0633194\ttotal: 15.9s\tremaining: 4.44s\n",
      "391:\tlearn: 7.0620515\ttotal: 15.9s\tremaining: 4.39s\n",
      "392:\tlearn: 7.0608368\ttotal: 16s\tremaining: 4.36s\n",
      "393:\tlearn: 7.0597221\ttotal: 16s\tremaining: 4.31s\n",
      "394:\tlearn: 7.0582904\ttotal: 16.1s\tremaining: 4.29s\n",
      "395:\tlearn: 7.0567465\ttotal: 16.1s\tremaining: 4.24s\n",
      "396:\tlearn: 7.0551921\ttotal: 16.2s\tremaining: 4.21s\n",
      "397:\tlearn: 7.0538237\ttotal: 16.2s\tremaining: 4.16s\n",
      "398:\tlearn: 7.0524295\ttotal: 16.2s\tremaining: 4.11s\n",
      "399:\tlearn: 7.0508024\ttotal: 16.3s\tremaining: 4.08s\n",
      "400:\tlearn: 7.0494135\ttotal: 16.3s\tremaining: 4.03s\n",
      "401:\tlearn: 7.0479947\ttotal: 16.4s\tremaining: 4s\n",
      "402:\tlearn: 7.0469550\ttotal: 16.4s\tremaining: 3.95s\n",
      "403:\tlearn: 7.0455062\ttotal: 16.5s\tremaining: 3.92s\n",
      "404:\tlearn: 7.0440561\ttotal: 16.5s\tremaining: 3.88s\n",
      "405:\tlearn: 7.0429237\ttotal: 16.6s\tremaining: 3.85s\n",
      "406:\tlearn: 7.0409367\ttotal: 16.6s\tremaining: 3.8s\n",
      "407:\tlearn: 7.0395097\ttotal: 16.6s\tremaining: 3.75s\n",
      "408:\tlearn: 7.0383241\ttotal: 16.7s\tremaining: 3.72s\n",
      "409:\tlearn: 7.0368751\ttotal: 16.7s\tremaining: 3.67s\n",
      "410:\tlearn: 7.0357032\ttotal: 16.8s\tremaining: 3.65s\n",
      "411:\tlearn: 7.0346213\ttotal: 16.8s\tremaining: 3.6s\n",
      "412:\tlearn: 7.0336295\ttotal: 16.8s\tremaining: 3.55s\n",
      "413:\tlearn: 7.0325771\ttotal: 16.9s\tremaining: 3.51s\n",
      "414:\tlearn: 7.0308363\ttotal: 16.9s\tremaining: 3.46s\n",
      "415:\tlearn: 7.0296487\ttotal: 17s\tremaining: 3.43s\n",
      "416:\tlearn: 7.0284581\ttotal: 17s\tremaining: 3.38s\n",
      "417:\tlearn: 7.0267791\ttotal: 17s\tremaining: 3.34s\n",
      "418:\tlearn: 7.0257281\ttotal: 17.1s\tremaining: 3.31s\n",
      "419:\tlearn: 7.0244202\ttotal: 17.1s\tremaining: 3.26s\n",
      "420:\tlearn: 7.0232742\ttotal: 17.1s\tremaining: 3.21s\n",
      "421:\tlearn: 7.0218685\ttotal: 17.2s\tremaining: 3.18s\n",
      "422:\tlearn: 7.0208680\ttotal: 17.2s\tremaining: 3.13s\n",
      "423:\tlearn: 7.0191272\ttotal: 17.3s\tremaining: 3.1s\n",
      "424:\tlearn: 7.0179563\ttotal: 17.3s\tremaining: 3.05s\n",
      "425:\tlearn: 7.0160630\ttotal: 17.4s\tremaining: 3.02s\n",
      "426:\tlearn: 7.0144503\ttotal: 17.4s\tremaining: 2.98s\n",
      "427:\tlearn: 7.0131496\ttotal: 17.4s\tremaining: 2.93s\n",
      "428:\tlearn: 7.0112655\ttotal: 17.5s\tremaining: 2.9s\n",
      "429:\tlearn: 7.0104760\ttotal: 17.5s\tremaining: 2.85s\n",
      "430:\tlearn: 7.0091757\ttotal: 17.6s\tremaining: 2.82s\n",
      "431:\tlearn: 7.0081829\ttotal: 17.6s\tremaining: 2.77s\n",
      "432:\tlearn: 7.0071744\ttotal: 17.6s\tremaining: 2.72s\n",
      "433:\tlearn: 7.0063986\ttotal: 17.7s\tremaining: 2.69s\n",
      "434:\tlearn: 7.0053119\ttotal: 17.7s\tremaining: 2.65s\n",
      "435:\tlearn: 7.0040665\ttotal: 17.8s\tremaining: 2.61s\n",
      "436:\tlearn: 7.0031097\ttotal: 17.8s\tremaining: 2.57s\n",
      "437:\tlearn: 7.0022746\ttotal: 17.8s\tremaining: 2.52s\n",
      "438:\tlearn: 7.0012509\ttotal: 17.9s\tremaining: 2.49s\n",
      "439:\tlearn: 6.9998800\ttotal: 17.9s\tremaining: 2.44s\n",
      "440:\tlearn: 6.9988240\ttotal: 18s\tremaining: 2.41s\n",
      "441:\tlearn: 6.9975919\ttotal: 18s\tremaining: 2.36s\n",
      "442:\tlearn: 6.9963708\ttotal: 18.1s\tremaining: 2.33s\n",
      "443:\tlearn: 6.9950981\ttotal: 18.1s\tremaining: 2.28s\n",
      "444:\tlearn: 6.9938444\ttotal: 18.1s\tremaining: 2.24s\n",
      "445:\tlearn: 6.9925740\ttotal: 18.2s\tremaining: 2.2s\n",
      "446:\tlearn: 6.9912673\ttotal: 18.2s\tremaining: 2.16s\n",
      "447:\tlearn: 6.9900260\ttotal: 18.2s\tremaining: 2.11s\n",
      "448:\tlearn: 6.9882438\ttotal: 18.3s\tremaining: 2.08s\n",
      "449:\tlearn: 6.9869604\ttotal: 18.3s\tremaining: 2.03s\n",
      "450:\tlearn: 6.9859167\ttotal: 18.4s\tremaining: 2s\n",
      "451:\tlearn: 6.9850500\ttotal: 18.4s\tremaining: 1.95s\n",
      "452:\tlearn: 6.9838216\ttotal: 18.4s\tremaining: 1.91s\n",
      "453:\tlearn: 6.9826684\ttotal: 18.5s\tremaining: 1.87s\n",
      "454:\tlearn: 6.9815046\ttotal: 18.5s\tremaining: 1.83s\n",
      "455:\tlearn: 6.9802258\ttotal: 18.6s\tremaining: 1.79s\n",
      "456:\tlearn: 6.9790928\ttotal: 18.6s\tremaining: 1.75s\n",
      "457:\tlearn: 6.9780955\ttotal: 18.6s\tremaining: 1.7s\n",
      "458:\tlearn: 6.9771310\ttotal: 18.7s\tremaining: 1.67s\n",
      "459:\tlearn: 6.9760602\ttotal: 18.7s\tremaining: 1.63s\n",
      "460:\tlearn: 6.9748581\ttotal: 18.7s\tremaining: 1.58s\n",
      "461:\tlearn: 6.9739721\ttotal: 18.8s\tremaining: 1.54s\n",
      "462:\tlearn: 6.9728817\ttotal: 18.8s\tremaining: 1.5s\n",
      "463:\tlearn: 6.9719354\ttotal: 18.8s\tremaining: 1.46s\n",
      "464:\tlearn: 6.9705504\ttotal: 18.9s\tremaining: 1.42s\n",
      "465:\tlearn: 6.9688045\ttotal: 18.9s\tremaining: 1.38s\n",
      "466:\tlearn: 6.9679523\ttotal: 19s\tremaining: 1.34s\n",
      "467:\tlearn: 6.9667887\ttotal: 19s\tremaining: 1.3s\n",
      "468:\tlearn: 6.9656813\ttotal: 19s\tremaining: 1.25s\n",
      "469:\tlearn: 6.9648602\ttotal: 19.1s\tremaining: 1.22s\n",
      "470:\tlearn: 6.9638643\ttotal: 19.1s\tremaining: 1.17s\n",
      "471:\tlearn: 6.9626765\ttotal: 19.1s\tremaining: 1.13s\n",
      "472:\tlearn: 6.9614424\ttotal: 19.2s\tremaining: 1.09s\n",
      "473:\tlearn: 6.9606486\ttotal: 19.2s\tremaining: 1.05s\n",
      "474:\tlearn: 6.9596212\ttotal: 19.3s\tremaining: 1.01s\n",
      "475:\tlearn: 6.9585035\ttotal: 19.3s\tremaining: 972ms\n",
      "476:\tlearn: 6.9574409\ttotal: 19.4s\tremaining: 934ms\n",
      "477:\tlearn: 6.9564853\ttotal: 19.4s\tremaining: 892ms\n",
      "478:\tlearn: 6.9554704\ttotal: 19.4s\tremaining: 850ms\n",
      "479:\tlearn: 6.9541008\ttotal: 19.5s\tremaining: 811ms\n",
      "480:\tlearn: 6.9530844\ttotal: 19.5s\tremaining: 769ms\n",
      "481:\tlearn: 6.9520576\ttotal: 19.6s\tremaining: 731ms\n",
      "482:\tlearn: 6.9505686\ttotal: 19.6s\tremaining: 689ms\n",
      "483:\tlearn: 6.9493336\ttotal: 19.7s\tremaining: 650ms\n",
      "484:\tlearn: 6.9481046\ttotal: 19.7s\tremaining: 608ms\n",
      "485:\tlearn: 6.9472361\ttotal: 19.7s\tremaining: 567ms\n",
      "486:\tlearn: 6.9456972\ttotal: 19.8s\tremaining: 528ms\n",
      "487:\tlearn: 6.9444806\ttotal: 19.8s\tremaining: 486ms\n",
      "488:\tlearn: 6.9430795\ttotal: 19.9s\tremaining: 447ms\n",
      "489:\tlearn: 6.9415836\ttotal: 19.9s\tremaining: 405ms\n",
      "490:\tlearn: 6.9404161\ttotal: 20s\tremaining: 366ms\n",
      "491:\tlearn: 6.9394101\ttotal: 20s\tremaining: 325ms\n",
      "492:\tlearn: 6.9377460\ttotal: 20s\tremaining: 284ms\n",
      "493:\tlearn: 6.9367109\ttotal: 20.1s\tremaining: 244ms\n",
      "494:\tlearn: 6.9356570\ttotal: 20.1s\tremaining: 203ms\n",
      "495:\tlearn: 6.9345826\ttotal: 20.2s\tremaining: 163ms\n",
      "496:\tlearn: 6.9336218\ttotal: 20.2s\tremaining: 122ms\n",
      "497:\tlearn: 6.9325607\ttotal: 20.3s\tremaining: 81.4ms\n",
      "498:\tlearn: 6.9314269\ttotal: 20.3s\tremaining: 40.6ms\n",
      "499:\tlearn: 6.9305743\ttotal: 20.4s\tremaining: 0us\n",
      "0:\tlearn: 8.9659772\ttotal: 6.18ms\tremaining: 3.08s\n",
      "1:\tlearn: 8.9517948\ttotal: 12.4ms\tremaining: 3.08s\n",
      "2:\tlearn: 8.9361627\ttotal: 62.7ms\tremaining: 10.4s\n",
      "3:\tlearn: 8.9220814\ttotal: 68.1ms\tremaining: 8.44s\n",
      "4:\tlearn: 8.9067849\ttotal: 160ms\tremaining: 15.8s\n",
      "5:\tlearn: 8.8913041\ttotal: 164ms\tremaining: 13.5s\n",
      "6:\tlearn: 8.8760440\ttotal: 168ms\tremaining: 11.9s\n",
      "7:\tlearn: 8.8616315\ttotal: 174ms\tremaining: 10.7s\n",
      "8:\tlearn: 8.8471753\ttotal: 263ms\tremaining: 14.4s\n",
      "9:\tlearn: 8.8339657\ttotal: 269ms\tremaining: 13.2s\n",
      "10:\tlearn: 8.8205674\ttotal: 360ms\tremaining: 16s\n",
      "11:\tlearn: 8.8074496\ttotal: 367ms\tremaining: 14.9s\n",
      "12:\tlearn: 8.7936847\ttotal: 374ms\tremaining: 14s\n",
      "13:\tlearn: 8.7808174\ttotal: 461ms\tremaining: 16s\n",
      "14:\tlearn: 8.7678176\ttotal: 469ms\tremaining: 15.2s\n",
      "15:\tlearn: 8.7552409\ttotal: 558ms\tremaining: 16.9s\n",
      "16:\tlearn: 8.7431060\ttotal: 564ms\tremaining: 16s\n",
      "17:\tlearn: 8.7316178\ttotal: 653ms\tremaining: 17.5s\n",
      "18:\tlearn: 8.7184313\ttotal: 662ms\tremaining: 16.8s\n",
      "19:\tlearn: 8.7055134\ttotal: 679ms\tremaining: 16.3s\n",
      "20:\tlearn: 8.6930079\ttotal: 757ms\tremaining: 17.3s\n",
      "21:\tlearn: 8.6803743\ttotal: 763ms\tremaining: 16.6s\n",
      "22:\tlearn: 8.6682985\ttotal: 853ms\tremaining: 17.7s\n",
      "23:\tlearn: 8.6557547\ttotal: 874ms\tremaining: 17.3s\n",
      "24:\tlearn: 8.6436743\ttotal: 952ms\tremaining: 18.1s\n",
      "25:\tlearn: 8.6318611\ttotal: 959ms\tremaining: 17.5s\n",
      "26:\tlearn: 8.6198208\ttotal: 1.05s\tremaining: 18.4s\n",
      "27:\tlearn: 8.6094776\ttotal: 1.05s\tremaining: 17.8s\n",
      "28:\tlearn: 8.5984766\ttotal: 1.06s\tremaining: 17.2s\n",
      "29:\tlearn: 8.5876411\ttotal: 1.15s\tremaining: 18.1s\n",
      "30:\tlearn: 8.5765156\ttotal: 1.16s\tremaining: 17.5s\n",
      "31:\tlearn: 8.5669800\ttotal: 1.25s\tremaining: 18.3s\n",
      "32:\tlearn: 8.5561134\ttotal: 1.25s\tremaining: 17.7s\n",
      "33:\tlearn: 8.5454558\ttotal: 1.26s\tremaining: 17.3s\n",
      "34:\tlearn: 8.5349052\ttotal: 1.35s\tremaining: 17.9s\n",
      "35:\tlearn: 8.5241668\ttotal: 1.36s\tremaining: 17.5s\n",
      "36:\tlearn: 8.5141864\ttotal: 1.45s\tremaining: 18.1s\n",
      "37:\tlearn: 8.5045197\ttotal: 1.45s\tremaining: 17.7s\n",
      "38:\tlearn: 8.4945463\ttotal: 1.54s\tremaining: 18.2s\n",
      "39:\tlearn: 8.4844132\ttotal: 1.55s\tremaining: 17.8s\n",
      "40:\tlearn: 8.4741184\ttotal: 1.56s\tremaining: 17.4s\n",
      "41:\tlearn: 8.4642784\ttotal: 1.65s\tremaining: 18s\n",
      "42:\tlearn: 8.4542106\ttotal: 1.65s\tremaining: 17.6s\n",
      "43:\tlearn: 8.4446304\ttotal: 1.75s\tremaining: 18.1s\n",
      "44:\tlearn: 8.4358622\ttotal: 1.75s\tremaining: 17.7s\n",
      "45:\tlearn: 8.4278686\ttotal: 1.84s\tremaining: 18.2s\n",
      "46:\tlearn: 8.4186767\ttotal: 1.85s\tremaining: 17.9s\n",
      "47:\tlearn: 8.4095343\ttotal: 1.94s\tremaining: 18.3s\n",
      "48:\tlearn: 8.4000851\ttotal: 1.94s\tremaining: 17.9s\n",
      "49:\tlearn: 8.3918845\ttotal: 1.95s\tremaining: 17.6s\n",
      "50:\tlearn: 8.3830604\ttotal: 2.04s\tremaining: 18s\n",
      "51:\tlearn: 8.3740745\ttotal: 2.05s\tremaining: 17.6s\n",
      "52:\tlearn: 8.3650162\ttotal: 2.14s\tremaining: 18s\n",
      "53:\tlearn: 8.3559861\ttotal: 2.14s\tremaining: 17.7s\n",
      "54:\tlearn: 8.3479404\ttotal: 2.23s\tremaining: 18.1s\n",
      "55:\tlearn: 8.3391273\ttotal: 2.24s\tremaining: 17.8s\n",
      "56:\tlearn: 8.3304782\ttotal: 2.33s\tremaining: 18.1s\n",
      "57:\tlearn: 8.3217976\ttotal: 2.34s\tremaining: 17.8s\n",
      "58:\tlearn: 8.3136318\ttotal: 2.35s\tremaining: 17.5s\n",
      "59:\tlearn: 8.3059729\ttotal: 2.44s\tremaining: 17.9s\n",
      "60:\tlearn: 8.2992713\ttotal: 2.44s\tremaining: 17.6s\n",
      "61:\tlearn: 8.2909764\ttotal: 2.54s\tremaining: 17.9s\n",
      "62:\tlearn: 8.2829882\ttotal: 2.54s\tremaining: 17.6s\n",
      "63:\tlearn: 8.2743792\ttotal: 2.63s\tremaining: 17.9s\n",
      "64:\tlearn: 8.2668792\ttotal: 2.64s\tremaining: 17.7s\n",
      "65:\tlearn: 8.2588884\ttotal: 2.64s\tremaining: 17.4s\n",
      "66:\tlearn: 8.2508620\ttotal: 2.73s\tremaining: 17.7s\n",
      "67:\tlearn: 8.2429267\ttotal: 2.74s\tremaining: 17.4s\n",
      "68:\tlearn: 8.2354002\ttotal: 2.83s\tremaining: 17.7s\n",
      "69:\tlearn: 8.2279798\ttotal: 2.84s\tremaining: 17.4s\n",
      "70:\tlearn: 8.2207954\ttotal: 2.93s\tremaining: 17.7s\n",
      "71:\tlearn: 8.2131146\ttotal: 2.93s\tremaining: 17.4s\n",
      "72:\tlearn: 8.2054439\ttotal: 2.95s\tremaining: 17.2s\n",
      "73:\tlearn: 8.1988635\ttotal: 3.03s\tremaining: 17.4s\n",
      "74:\tlearn: 8.1916154\ttotal: 3.04s\tremaining: 17.2s\n",
      "75:\tlearn: 8.1837611\ttotal: 3.13s\tremaining: 17.5s\n",
      "76:\tlearn: 8.1773942\ttotal: 3.13s\tremaining: 17.2s\n",
      "77:\tlearn: 8.1707903\ttotal: 3.14s\tremaining: 17s\n",
      "78:\tlearn: 8.1639556\ttotal: 3.23s\tremaining: 17.2s\n",
      "79:\tlearn: 8.1574695\ttotal: 3.24s\tremaining: 17s\n",
      "80:\tlearn: 8.1504888\ttotal: 3.33s\tremaining: 17.2s\n",
      "81:\tlearn: 8.1431638\ttotal: 3.33s\tremaining: 17s\n",
      "82:\tlearn: 8.1365108\ttotal: 3.42s\tremaining: 17.2s\n",
      "83:\tlearn: 8.1295775\ttotal: 3.43s\tremaining: 17s\n",
      "84:\tlearn: 8.1227135\ttotal: 3.44s\tremaining: 16.8s\n",
      "85:\tlearn: 8.1155747\ttotal: 3.52s\tremaining: 17s\n",
      "86:\tlearn: 8.1085579\ttotal: 3.53s\tremaining: 16.8s\n",
      "87:\tlearn: 8.1018212\ttotal: 3.62s\tremaining: 17s\n",
      "88:\tlearn: 8.0955240\ttotal: 3.63s\tremaining: 16.8s\n",
      "89:\tlearn: 8.0890998\ttotal: 3.72s\tremaining: 16.9s\n",
      "90:\tlearn: 8.0828314\ttotal: 3.72s\tremaining: 16.7s\n",
      "91:\tlearn: 8.0763058\ttotal: 3.73s\tremaining: 16.5s\n",
      "92:\tlearn: 8.0703074\ttotal: 3.82s\tremaining: 16.7s\n",
      "93:\tlearn: 8.0636441\ttotal: 3.83s\tremaining: 16.5s\n",
      "94:\tlearn: 8.0579754\ttotal: 3.92s\tremaining: 16.7s\n",
      "95:\tlearn: 8.0523900\ttotal: 3.92s\tremaining: 16.5s\n",
      "96:\tlearn: 8.0462164\ttotal: 4.02s\tremaining: 16.7s\n",
      "97:\tlearn: 8.0406037\ttotal: 4.02s\tremaining: 16.5s\n",
      "98:\tlearn: 8.0342416\ttotal: 4.03s\tremaining: 16.3s\n",
      "99:\tlearn: 8.0277427\ttotal: 4.12s\tremaining: 16.5s\n",
      "100:\tlearn: 8.0217587\ttotal: 4.12s\tremaining: 16.3s\n",
      "101:\tlearn: 8.0162598\ttotal: 4.13s\tremaining: 16.1s\n",
      "102:\tlearn: 8.0101458\ttotal: 4.22s\tremaining: 16.3s\n",
      "103:\tlearn: 8.0038613\ttotal: 4.22s\tremaining: 16.1s\n",
      "104:\tlearn: 7.9980545\ttotal: 4.32s\tremaining: 16.2s\n",
      "105:\tlearn: 7.9926528\ttotal: 4.32s\tremaining: 16.1s\n",
      "106:\tlearn: 7.9861783\ttotal: 4.41s\tremaining: 16.2s\n",
      "107:\tlearn: 7.9805070\ttotal: 4.43s\tremaining: 16.1s\n",
      "108:\tlearn: 7.9744551\ttotal: 4.51s\tremaining: 16.2s\n",
      "109:\tlearn: 7.9687624\ttotal: 4.52s\tremaining: 16s\n",
      "110:\tlearn: 7.9630083\ttotal: 4.52s\tremaining: 15.9s\n",
      "111:\tlearn: 7.9566964\ttotal: 4.61s\tremaining: 16s\n",
      "112:\tlearn: 7.9516360\ttotal: 4.62s\tremaining: 15.8s\n",
      "113:\tlearn: 7.9462006\ttotal: 4.71s\tremaining: 15.9s\n",
      "114:\tlearn: 7.9409355\ttotal: 4.71s\tremaining: 15.8s\n",
      "115:\tlearn: 7.9357568\ttotal: 4.72s\tremaining: 15.6s\n",
      "116:\tlearn: 7.9301884\ttotal: 4.81s\tremaining: 15.8s\n",
      "117:\tlearn: 7.9249187\ttotal: 4.82s\tremaining: 15.6s\n",
      "118:\tlearn: 7.9194811\ttotal: 4.91s\tremaining: 15.7s\n",
      "119:\tlearn: 7.9139526\ttotal: 4.91s\tremaining: 15.6s\n",
      "120:\tlearn: 7.9083933\ttotal: 5s\tremaining: 15.7s\n",
      "121:\tlearn: 7.9031245\ttotal: 5.01s\tremaining: 15.5s\n",
      "122:\tlearn: 7.8984196\ttotal: 5.02s\tremaining: 15.4s\n",
      "123:\tlearn: 7.8926420\ttotal: 5.11s\tremaining: 15.5s\n",
      "124:\tlearn: 7.8876701\ttotal: 5.11s\tremaining: 15.3s\n",
      "125:\tlearn: 7.8826561\ttotal: 5.2s\tremaining: 15.4s\n",
      "126:\tlearn: 7.8770462\ttotal: 5.21s\tremaining: 15.3s\n",
      "127:\tlearn: 7.8717348\ttotal: 5.22s\tremaining: 15.2s\n",
      "128:\tlearn: 7.8668355\ttotal: 5.3s\tremaining: 15.3s\n",
      "129:\tlearn: 7.8617624\ttotal: 5.31s\tremaining: 15.1s\n",
      "130:\tlearn: 7.8576112\ttotal: 5.4s\tremaining: 15.2s\n",
      "131:\tlearn: 7.8528354\ttotal: 5.41s\tremaining: 15.1s\n",
      "132:\tlearn: 7.8476942\ttotal: 5.5s\tremaining: 15.2s\n",
      "133:\tlearn: 7.8419558\ttotal: 5.5s\tremaining: 15s\n",
      "134:\tlearn: 7.8373411\ttotal: 5.51s\tremaining: 14.9s\n",
      "135:\tlearn: 7.8328305\ttotal: 5.6s\tremaining: 15s\n",
      "136:\tlearn: 7.8289165\ttotal: 5.61s\tremaining: 14.9s\n",
      "137:\tlearn: 7.8240739\ttotal: 5.7s\tremaining: 14.9s\n",
      "138:\tlearn: 7.8199822\ttotal: 5.71s\tremaining: 14.8s\n",
      "139:\tlearn: 7.8153923\ttotal: 5.71s\tremaining: 14.7s\n",
      "140:\tlearn: 7.8110271\ttotal: 5.8s\tremaining: 14.8s\n",
      "141:\tlearn: 7.8063425\ttotal: 5.8s\tremaining: 14.6s\n",
      "142:\tlearn: 7.8013197\ttotal: 5.89s\tremaining: 14.7s\n",
      "143:\tlearn: 7.7965221\ttotal: 5.9s\tremaining: 14.6s\n",
      "144:\tlearn: 7.7919637\ttotal: 5.91s\tremaining: 14.5s\n",
      "145:\tlearn: 7.7864592\ttotal: 6s\tremaining: 14.5s\n",
      "146:\tlearn: 7.7818984\ttotal: 6s\tremaining: 14.4s\n",
      "147:\tlearn: 7.7778015\ttotal: 6.09s\tremaining: 14.5s\n",
      "148:\tlearn: 7.7732797\ttotal: 6.1s\tremaining: 14.4s\n",
      "149:\tlearn: 7.7688282\ttotal: 6.1s\tremaining: 14.2s\n",
      "150:\tlearn: 7.7640083\ttotal: 6.2s\tremaining: 14.3s\n",
      "151:\tlearn: 7.7595253\ttotal: 6.21s\tremaining: 14.2s\n",
      "152:\tlearn: 7.7552322\ttotal: 6.21s\tremaining: 14.1s\n",
      "153:\tlearn: 7.7510239\ttotal: 6.29s\tremaining: 14.1s\n",
      "154:\tlearn: 7.7470877\ttotal: 6.3s\tremaining: 14s\n",
      "155:\tlearn: 7.7426364\ttotal: 6.39s\tremaining: 14.1s\n",
      "156:\tlearn: 7.7387500\ttotal: 6.39s\tremaining: 14s\n",
      "157:\tlearn: 7.7341740\ttotal: 6.4s\tremaining: 13.9s\n",
      "158:\tlearn: 7.7302455\ttotal: 6.49s\tremaining: 13.9s\n",
      "159:\tlearn: 7.7266211\ttotal: 6.5s\tremaining: 13.8s\n",
      "160:\tlearn: 7.7227784\ttotal: 6.59s\tremaining: 13.9s\n",
      "161:\tlearn: 7.7177778\ttotal: 6.59s\tremaining: 13.8s\n",
      "162:\tlearn: 7.7134210\ttotal: 6.6s\tremaining: 13.6s\n",
      "163:\tlearn: 7.7093354\ttotal: 6.69s\tremaining: 13.7s\n",
      "164:\tlearn: 7.7053915\ttotal: 6.7s\tremaining: 13.6s\n",
      "165:\tlearn: 7.7011820\ttotal: 6.79s\tremaining: 13.7s\n",
      "166:\tlearn: 7.6973419\ttotal: 6.79s\tremaining: 13.5s\n",
      "167:\tlearn: 7.6936078\ttotal: 6.88s\tremaining: 13.6s\n",
      "168:\tlearn: 7.6902466\ttotal: 6.89s\tremaining: 13.5s\n",
      "169:\tlearn: 7.6861924\ttotal: 6.89s\tremaining: 13.4s\n",
      "170:\tlearn: 7.6824174\ttotal: 6.99s\tremaining: 13.4s\n",
      "171:\tlearn: 7.6783566\ttotal: 6.99s\tremaining: 13.3s\n",
      "172:\tlearn: 7.6738938\ttotal: 7.08s\tremaining: 13.4s\n",
      "173:\tlearn: 7.6706355\ttotal: 7.09s\tremaining: 13.3s\n",
      "174:\tlearn: 7.6666060\ttotal: 7.18s\tremaining: 13.3s\n",
      "175:\tlearn: 7.6625656\ttotal: 7.19s\tremaining: 13.2s\n",
      "176:\tlearn: 7.6588349\ttotal: 7.19s\tremaining: 13.1s\n",
      "177:\tlearn: 7.6554802\ttotal: 7.28s\tremaining: 13.2s\n",
      "178:\tlearn: 7.6511110\ttotal: 7.29s\tremaining: 13.1s\n",
      "179:\tlearn: 7.6476550\ttotal: 7.38s\tremaining: 13.1s\n",
      "180:\tlearn: 7.6442714\ttotal: 7.38s\tremaining: 13s\n",
      "181:\tlearn: 7.6409671\ttotal: 7.39s\tremaining: 12.9s\n",
      "182:\tlearn: 7.6377495\ttotal: 7.48s\tremaining: 13s\n",
      "183:\tlearn: 7.6343845\ttotal: 7.49s\tremaining: 12.9s\n",
      "184:\tlearn: 7.6306525\ttotal: 7.58s\tremaining: 12.9s\n",
      "185:\tlearn: 7.6272438\ttotal: 7.58s\tremaining: 12.8s\n",
      "186:\tlearn: 7.6236473\ttotal: 7.67s\tremaining: 12.8s\n",
      "187:\tlearn: 7.6192873\ttotal: 7.68s\tremaining: 12.7s\n",
      "188:\tlearn: 7.6161224\ttotal: 7.77s\tremaining: 12.8s\n",
      "189:\tlearn: 7.6126428\ttotal: 7.78s\tremaining: 12.7s\n",
      "190:\tlearn: 7.6083063\ttotal: 7.79s\tremaining: 12.6s\n",
      "191:\tlearn: 7.6047844\ttotal: 7.88s\tremaining: 12.6s\n",
      "192:\tlearn: 7.6015560\ttotal: 7.89s\tremaining: 12.6s\n",
      "193:\tlearn: 7.5975253\ttotal: 7.98s\tremaining: 12.6s\n",
      "194:\tlearn: 7.5947239\ttotal: 7.98s\tremaining: 12.5s\n",
      "195:\tlearn: 7.5915921\ttotal: 8.07s\tremaining: 12.5s\n",
      "196:\tlearn: 7.5889783\ttotal: 8.08s\tremaining: 12.4s\n",
      "197:\tlearn: 7.5857265\ttotal: 8.17s\tremaining: 12.5s\n",
      "198:\tlearn: 7.5817239\ttotal: 8.18s\tremaining: 12.4s\n",
      "199:\tlearn: 7.5789023\ttotal: 8.18s\tremaining: 12.3s\n",
      "200:\tlearn: 7.5754657\ttotal: 8.27s\tremaining: 12.3s\n",
      "201:\tlearn: 7.5727715\ttotal: 8.28s\tremaining: 12.2s\n",
      "202:\tlearn: 7.5696636\ttotal: 8.37s\tremaining: 12.2s\n",
      "203:\tlearn: 7.5666164\ttotal: 8.38s\tremaining: 12.2s\n",
      "204:\tlearn: 7.5628079\ttotal: 8.47s\tremaining: 12.2s\n",
      "205:\tlearn: 7.5593402\ttotal: 8.47s\tremaining: 12.1s\n",
      "206:\tlearn: 7.5561335\ttotal: 8.48s\tremaining: 12s\n",
      "207:\tlearn: 7.5530285\ttotal: 8.57s\tremaining: 12s\n",
      "208:\tlearn: 7.5498275\ttotal: 8.57s\tremaining: 11.9s\n",
      "209:\tlearn: 7.5469866\ttotal: 8.66s\tremaining: 12s\n",
      "210:\tlearn: 7.5440785\ttotal: 8.67s\tremaining: 11.9s\n",
      "211:\tlearn: 7.5416290\ttotal: 8.68s\tremaining: 11.8s\n",
      "212:\tlearn: 7.5387572\ttotal: 8.77s\tremaining: 11.8s\n",
      "213:\tlearn: 7.5358260\ttotal: 8.77s\tremaining: 11.7s\n",
      "214:\tlearn: 7.5322761\ttotal: 8.86s\tremaining: 11.7s\n",
      "215:\tlearn: 7.5294092\ttotal: 8.87s\tremaining: 11.7s\n",
      "216:\tlearn: 7.5266996\ttotal: 8.87s\tremaining: 11.6s\n",
      "217:\tlearn: 7.5236293\ttotal: 8.96s\tremaining: 11.6s\n",
      "218:\tlearn: 7.5209766\ttotal: 8.97s\tremaining: 11.5s\n",
      "219:\tlearn: 7.5182532\ttotal: 9.06s\tremaining: 11.5s\n",
      "220:\tlearn: 7.5145638\ttotal: 9.07s\tremaining: 11.4s\n",
      "221:\tlearn: 7.5115379\ttotal: 9.07s\tremaining: 11.4s\n",
      "222:\tlearn: 7.5091331\ttotal: 9.16s\tremaining: 11.4s\n",
      "223:\tlearn: 7.5063923\ttotal: 9.17s\tremaining: 11.3s\n",
      "224:\tlearn: 7.5037750\ttotal: 9.26s\tremaining: 11.3s\n",
      "225:\tlearn: 7.5010688\ttotal: 9.27s\tremaining: 11.2s\n",
      "226:\tlearn: 7.4981313\ttotal: 9.27s\tremaining: 11.2s\n",
      "227:\tlearn: 7.4950962\ttotal: 9.36s\tremaining: 11.2s\n",
      "228:\tlearn: 7.4915884\ttotal: 9.36s\tremaining: 11.1s\n",
      "229:\tlearn: 7.4886263\ttotal: 9.46s\tremaining: 11.1s\n",
      "230:\tlearn: 7.4854307\ttotal: 9.47s\tremaining: 11s\n",
      "231:\tlearn: 7.4818625\ttotal: 9.47s\tremaining: 10.9s\n",
      "232:\tlearn: 7.4784711\ttotal: 9.56s\tremaining: 11s\n",
      "233:\tlearn: 7.4752604\ttotal: 9.57s\tremaining: 10.9s\n",
      "234:\tlearn: 7.4718940\ttotal: 9.66s\tremaining: 10.9s\n",
      "235:\tlearn: 7.4692564\ttotal: 9.67s\tremaining: 10.8s\n",
      "236:\tlearn: 7.4660928\ttotal: 9.68s\tremaining: 10.7s\n",
      "237:\tlearn: 7.4637162\ttotal: 9.76s\tremaining: 10.7s\n",
      "238:\tlearn: 7.4602298\ttotal: 9.76s\tremaining: 10.7s\n",
      "239:\tlearn: 7.4574930\ttotal: 9.77s\tremaining: 10.6s\n",
      "240:\tlearn: 7.4549238\ttotal: 9.85s\tremaining: 10.6s\n",
      "241:\tlearn: 7.4517237\ttotal: 9.86s\tremaining: 10.5s\n",
      "242:\tlearn: 7.4492417\ttotal: 9.95s\tremaining: 10.5s\n",
      "243:\tlearn: 7.4469429\ttotal: 9.96s\tremaining: 10.4s\n",
      "244:\tlearn: 7.4443769\ttotal: 10s\tremaining: 10.5s\n",
      "245:\tlearn: 7.4417858\ttotal: 10.1s\tremaining: 10.4s\n",
      "246:\tlearn: 7.4387716\ttotal: 10.1s\tremaining: 10.3s\n",
      "247:\tlearn: 7.4364467\ttotal: 10.2s\tremaining: 10.3s\n",
      "248:\tlearn: 7.4336353\ttotal: 10.2s\tremaining: 10.2s\n",
      "249:\tlearn: 7.4303090\ttotal: 10.2s\tremaining: 10.2s\n",
      "250:\tlearn: 7.4280357\ttotal: 10.3s\tremaining: 10.2s\n",
      "251:\tlearn: 7.4256122\ttotal: 10.3s\tremaining: 10.1s\n",
      "252:\tlearn: 7.4235681\ttotal: 10.3s\tremaining: 10.1s\n",
      "253:\tlearn: 7.4208071\ttotal: 10.4s\tremaining: 10s\n",
      "254:\tlearn: 7.4189391\ttotal: 10.4s\tremaining: 10s\n",
      "255:\tlearn: 7.4163777\ttotal: 10.5s\tremaining: 9.96s\n",
      "256:\tlearn: 7.4139479\ttotal: 10.5s\tremaining: 9.97s\n",
      "257:\tlearn: 7.4113796\ttotal: 10.6s\tremaining: 9.9s\n",
      "258:\tlearn: 7.4088492\ttotal: 10.6s\tremaining: 9.83s\n",
      "259:\tlearn: 7.4065354\ttotal: 10.6s\tremaining: 9.82s\n",
      "260:\tlearn: 7.4042400\ttotal: 10.7s\tremaining: 9.75s\n",
      "261:\tlearn: 7.4020283\ttotal: 10.7s\tremaining: 9.75s\n",
      "262:\tlearn: 7.3999849\ttotal: 10.7s\tremaining: 9.68s\n",
      "263:\tlearn: 7.3969438\ttotal: 10.8s\tremaining: 9.61s\n",
      "264:\tlearn: 7.3941291\ttotal: 10.8s\tremaining: 9.61s\n",
      "265:\tlearn: 7.3918078\ttotal: 10.8s\tremaining: 9.54s\n",
      "266:\tlearn: 7.3895831\ttotal: 10.9s\tremaining: 9.54s\n",
      "267:\tlearn: 7.3874171\ttotal: 10.9s\tremaining: 9.47s\n",
      "268:\tlearn: 7.3853570\ttotal: 10.9s\tremaining: 9.4s\n",
      "269:\tlearn: 7.3827768\ttotal: 11s\tremaining: 9.4s\n",
      "270:\tlearn: 7.3807857\ttotal: 11s\tremaining: 9.33s\n",
      "271:\tlearn: 7.3783708\ttotal: 11.1s\tremaining: 9.33s\n",
      "272:\tlearn: 7.3762210\ttotal: 11.1s\tremaining: 9.26s\n",
      "273:\tlearn: 7.3734772\ttotal: 11.1s\tremaining: 9.19s\n",
      "274:\tlearn: 7.3711907\ttotal: 11.3s\tremaining: 9.21s\n",
      "275:\tlearn: 7.3689489\ttotal: 11.3s\tremaining: 9.2s\n",
      "276:\tlearn: 7.3662714\ttotal: 11.3s\tremaining: 9.13s\n",
      "277:\tlearn: 7.3640752\ttotal: 11.3s\tremaining: 9.06s\n",
      "278:\tlearn: 7.3619839\ttotal: 11.4s\tremaining: 9.06s\n",
      "279:\tlearn: 7.3597337\ttotal: 11.4s\tremaining: 8.99s\n",
      "280:\tlearn: 7.3577871\ttotal: 11.5s\tremaining: 8.99s\n",
      "281:\tlearn: 7.3558369\ttotal: 11.5s\tremaining: 8.92s\n",
      "282:\tlearn: 7.3537228\ttotal: 11.5s\tremaining: 8.86s\n",
      "283:\tlearn: 7.3514422\ttotal: 11.6s\tremaining: 8.85s\n",
      "284:\tlearn: 7.3492153\ttotal: 11.6s\tremaining: 8.78s\n",
      "285:\tlearn: 7.3467057\ttotal: 11.7s\tremaining: 8.78s\n",
      "286:\tlearn: 7.3443969\ttotal: 11.7s\tremaining: 8.71s\n",
      "287:\tlearn: 7.3426650\ttotal: 11.7s\tremaining: 8.65s\n",
      "288:\tlearn: 7.3407030\ttotal: 11.8s\tremaining: 8.64s\n",
      "289:\tlearn: 7.3389495\ttotal: 11.8s\tremaining: 8.57s\n",
      "290:\tlearn: 7.3369115\ttotal: 11.9s\tremaining: 8.56s\n",
      "291:\tlearn: 7.3350938\ttotal: 11.9s\tremaining: 8.5s\n",
      "292:\tlearn: 7.3327230\ttotal: 11.9s\tremaining: 8.43s\n",
      "293:\tlearn: 7.3308378\ttotal: 12s\tremaining: 8.43s\n",
      "294:\tlearn: 7.3284721\ttotal: 12s\tremaining: 8.36s\n",
      "295:\tlearn: 7.3257396\ttotal: 12.1s\tremaining: 8.35s\n",
      "296:\tlearn: 7.3223784\ttotal: 12.1s\tremaining: 8.29s\n",
      "297:\tlearn: 7.3195458\ttotal: 12.1s\tremaining: 8.22s\n",
      "298:\tlearn: 7.3174322\ttotal: 12.2s\tremaining: 8.22s\n",
      "299:\tlearn: 7.3144517\ttotal: 12.2s\tremaining: 8.15s\n",
      "300:\tlearn: 7.3127225\ttotal: 12.3s\tremaining: 8.14s\n",
      "301:\tlearn: 7.3102356\ttotal: 12.3s\tremaining: 8.08s\n",
      "302:\tlearn: 7.3085335\ttotal: 12.3s\tremaining: 8.02s\n",
      "303:\tlearn: 7.3063378\ttotal: 12.4s\tremaining: 8.01s\n",
      "304:\tlearn: 7.3044468\ttotal: 12.4s\tremaining: 7.94s\n",
      "305:\tlearn: 7.3023288\ttotal: 12.4s\tremaining: 7.88s\n",
      "306:\tlearn: 7.3008238\ttotal: 12.5s\tremaining: 7.87s\n",
      "307:\tlearn: 7.2993364\ttotal: 12.5s\tremaining: 7.81s\n",
      "308:\tlearn: 7.2961583\ttotal: 12.5s\tremaining: 7.74s\n",
      "309:\tlearn: 7.2935982\ttotal: 12.6s\tremaining: 7.73s\n",
      "310:\tlearn: 7.2918112\ttotal: 12.6s\tremaining: 7.67s\n",
      "311:\tlearn: 7.2897789\ttotal: 12.7s\tremaining: 7.66s\n",
      "312:\tlearn: 7.2868976\ttotal: 12.7s\tremaining: 7.6s\n",
      "313:\tlearn: 7.2853332\ttotal: 12.7s\tremaining: 7.54s\n",
      "314:\tlearn: 7.2834944\ttotal: 12.7s\tremaining: 7.49s\n",
      "315:\tlearn: 7.2818387\ttotal: 12.8s\tremaining: 7.46s\n",
      "316:\tlearn: 7.2799581\ttotal: 12.8s\tremaining: 7.4s\n",
      "317:\tlearn: 7.2778305\ttotal: 12.9s\tremaining: 7.39s\n",
      "318:\tlearn: 7.2759339\ttotal: 12.9s\tremaining: 7.33s\n",
      "319:\tlearn: 7.2738716\ttotal: 13s\tremaining: 7.32s\n",
      "320:\tlearn: 7.2724102\ttotal: 13s\tremaining: 7.26s\n",
      "321:\tlearn: 7.2702738\ttotal: 13s\tremaining: 7.2s\n",
      "322:\tlearn: 7.2690166\ttotal: 13.1s\tremaining: 7.19s\n",
      "323:\tlearn: 7.2672162\ttotal: 13.1s\tremaining: 7.13s\n",
      "324:\tlearn: 7.2654348\ttotal: 13.2s\tremaining: 7.11s\n",
      "325:\tlearn: 7.2638992\ttotal: 13.2s\tremaining: 7.05s\n",
      "326:\tlearn: 7.2623726\ttotal: 13.3s\tremaining: 7.04s\n",
      "327:\tlearn: 7.2606398\ttotal: 13.3s\tremaining: 6.98s\n",
      "328:\tlearn: 7.2585330\ttotal: 13.3s\tremaining: 6.92s\n",
      "329:\tlearn: 7.2563403\ttotal: 13.4s\tremaining: 6.91s\n",
      "330:\tlearn: 7.2542177\ttotal: 13.4s\tremaining: 6.85s\n",
      "331:\tlearn: 7.2517750\ttotal: 13.4s\tremaining: 6.79s\n",
      "332:\tlearn: 7.2492540\ttotal: 13.5s\tremaining: 6.77s\n",
      "333:\tlearn: 7.2473057\ttotal: 13.5s\tremaining: 6.71s\n",
      "334:\tlearn: 7.2449804\ttotal: 13.6s\tremaining: 6.7s\n",
      "335:\tlearn: 7.2431237\ttotal: 13.6s\tremaining: 6.64s\n",
      "336:\tlearn: 7.2414619\ttotal: 13.7s\tremaining: 6.63s\n",
      "337:\tlearn: 7.2402464\ttotal: 13.7s\tremaining: 6.57s\n",
      "338:\tlearn: 7.2387252\ttotal: 13.7s\tremaining: 6.51s\n",
      "339:\tlearn: 7.2367225\ttotal: 13.7s\tremaining: 6.45s\n",
      "340:\tlearn: 7.2352832\ttotal: 13.8s\tremaining: 6.44s\n",
      "341:\tlearn: 7.2335142\ttotal: 13.8s\tremaining: 6.38s\n",
      "342:\tlearn: 7.2320049\ttotal: 13.9s\tremaining: 6.36s\n",
      "343:\tlearn: 7.2307810\ttotal: 13.9s\tremaining: 6.3s\n",
      "344:\tlearn: 7.2291377\ttotal: 13.9s\tremaining: 6.25s\n",
      "345:\tlearn: 7.2277974\ttotal: 14s\tremaining: 6.23s\n",
      "346:\tlearn: 7.2257849\ttotal: 14s\tremaining: 6.17s\n",
      "347:\tlearn: 7.2241122\ttotal: 14s\tremaining: 6.12s\n",
      "348:\tlearn: 7.2226961\ttotal: 14.1s\tremaining: 6.1s\n",
      "349:\tlearn: 7.2205106\ttotal: 14.1s\tremaining: 6.04s\n",
      "350:\tlearn: 7.2190275\ttotal: 14.1s\tremaining: 5.99s\n",
      "351:\tlearn: 7.2173516\ttotal: 14.2s\tremaining: 5.97s\n",
      "352:\tlearn: 7.2156291\ttotal: 14.2s\tremaining: 5.91s\n",
      "353:\tlearn: 7.2142693\ttotal: 14.2s\tremaining: 5.86s\n",
      "354:\tlearn: 7.2126943\ttotal: 14.3s\tremaining: 5.84s\n",
      "355:\tlearn: 7.2110220\ttotal: 14.3s\tremaining: 5.79s\n",
      "356:\tlearn: 7.2092141\ttotal: 14.4s\tremaining: 5.76s\n",
      "357:\tlearn: 7.2075081\ttotal: 14.4s\tremaining: 5.71s\n",
      "358:\tlearn: 7.2061825\ttotal: 14.4s\tremaining: 5.66s\n",
      "359:\tlearn: 7.2043491\ttotal: 14.5s\tremaining: 5.63s\n",
      "360:\tlearn: 7.2026496\ttotal: 14.5s\tremaining: 5.58s\n",
      "361:\tlearn: 7.2010070\ttotal: 14.6s\tremaining: 5.56s\n",
      "362:\tlearn: 7.1994811\ttotal: 14.6s\tremaining: 5.51s\n",
      "363:\tlearn: 7.1974519\ttotal: 14.6s\tremaining: 5.46s\n",
      "364:\tlearn: 7.1960421\ttotal: 14.7s\tremaining: 5.43s\n",
      "365:\tlearn: 7.1944351\ttotal: 14.7s\tremaining: 5.38s\n",
      "366:\tlearn: 7.1926973\ttotal: 14.8s\tremaining: 5.36s\n",
      "367:\tlearn: 7.1913942\ttotal: 14.8s\tremaining: 5.32s\n",
      "368:\tlearn: 7.1899150\ttotal: 14.9s\tremaining: 5.28s\n",
      "369:\tlearn: 7.1881786\ttotal: 14.9s\tremaining: 5.23s\n",
      "370:\tlearn: 7.1864731\ttotal: 15s\tremaining: 5.21s\n",
      "371:\tlearn: 7.1851170\ttotal: 15s\tremaining: 5.16s\n",
      "372:\tlearn: 7.1840558\ttotal: 15s\tremaining: 5.1s\n",
      "373:\tlearn: 7.1825726\ttotal: 15.1s\tremaining: 5.08s\n",
      "374:\tlearn: 7.1808263\ttotal: 15.1s\tremaining: 5.03s\n",
      "375:\tlearn: 7.1787397\ttotal: 15.1s\tremaining: 4.98s\n",
      "376:\tlearn: 7.1773160\ttotal: 15.2s\tremaining: 4.95s\n",
      "377:\tlearn: 7.1759488\ttotal: 15.2s\tremaining: 4.9s\n",
      "378:\tlearn: 7.1746583\ttotal: 15.3s\tremaining: 4.88s\n",
      "379:\tlearn: 7.1730038\ttotal: 15.3s\tremaining: 4.83s\n",
      "380:\tlearn: 7.1715128\ttotal: 15.4s\tremaining: 4.8s\n",
      "381:\tlearn: 7.1700684\ttotal: 15.4s\tremaining: 4.75s\n",
      "382:\tlearn: 7.1686813\ttotal: 15.4s\tremaining: 4.7s\n",
      "383:\tlearn: 7.1664621\ttotal: 15.5s\tremaining: 4.67s\n",
      "384:\tlearn: 7.1650652\ttotal: 15.5s\tremaining: 4.62s\n",
      "385:\tlearn: 7.1635490\ttotal: 15.5s\tremaining: 4.57s\n",
      "386:\tlearn: 7.1618266\ttotal: 15.6s\tremaining: 4.55s\n",
      "387:\tlearn: 7.1604594\ttotal: 15.6s\tremaining: 4.5s\n",
      "388:\tlearn: 7.1585875\ttotal: 15.7s\tremaining: 4.47s\n",
      "389:\tlearn: 7.1571623\ttotal: 15.7s\tremaining: 4.42s\n",
      "390:\tlearn: 7.1548984\ttotal: 15.8s\tremaining: 4.4s\n",
      "391:\tlearn: 7.1537317\ttotal: 15.8s\tremaining: 4.35s\n",
      "392:\tlearn: 7.1526706\ttotal: 15.8s\tremaining: 4.3s\n",
      "393:\tlearn: 7.1507596\ttotal: 15.9s\tremaining: 4.27s\n",
      "394:\tlearn: 7.1494677\ttotal: 15.9s\tremaining: 4.22s\n",
      "395:\tlearn: 7.1478637\ttotal: 15.9s\tremaining: 4.17s\n",
      "396:\tlearn: 7.1462756\ttotal: 16s\tremaining: 4.14s\n",
      "397:\tlearn: 7.1448377\ttotal: 16s\tremaining: 4.09s\n",
      "398:\tlearn: 7.1434469\ttotal: 16.1s\tremaining: 4.07s\n",
      "399:\tlearn: 7.1422675\ttotal: 16.1s\tremaining: 4.02s\n",
      "400:\tlearn: 7.1407639\ttotal: 16.1s\tremaining: 3.97s\n",
      "401:\tlearn: 7.1392972\ttotal: 16.2s\tremaining: 3.94s\n",
      "402:\tlearn: 7.1371256\ttotal: 16.2s\tremaining: 3.89s\n",
      "403:\tlearn: 7.1360578\ttotal: 16.2s\tremaining: 3.84s\n",
      "404:\tlearn: 7.1348014\ttotal: 16.3s\tremaining: 3.82s\n",
      "405:\tlearn: 7.1332283\ttotal: 16.3s\tremaining: 3.77s\n",
      "406:\tlearn: 7.1319534\ttotal: 16.4s\tremaining: 3.74s\n",
      "407:\tlearn: 7.1306773\ttotal: 16.4s\tremaining: 3.69s\n",
      "408:\tlearn: 7.1292332\ttotal: 16.4s\tremaining: 3.64s\n",
      "409:\tlearn: 7.1278538\ttotal: 16.5s\tremaining: 3.61s\n",
      "410:\tlearn: 7.1263547\ttotal: 16.5s\tremaining: 3.57s\n",
      "411:\tlearn: 7.1249788\ttotal: 16.5s\tremaining: 3.52s\n",
      "412:\tlearn: 7.1239132\ttotal: 16.6s\tremaining: 3.49s\n",
      "413:\tlearn: 7.1226794\ttotal: 16.6s\tremaining: 3.44s\n",
      "414:\tlearn: 7.1207902\ttotal: 16.6s\tremaining: 3.39s\n",
      "415:\tlearn: 7.1199902\ttotal: 16.7s\tremaining: 3.36s\n",
      "416:\tlearn: 7.1186497\ttotal: 16.7s\tremaining: 3.32s\n",
      "417:\tlearn: 7.1170199\ttotal: 16.8s\tremaining: 3.29s\n",
      "418:\tlearn: 7.1155997\ttotal: 16.8s\tremaining: 3.24s\n",
      "419:\tlearn: 7.1140138\ttotal: 16.8s\tremaining: 3.19s\n",
      "420:\tlearn: 7.1130867\ttotal: 16.9s\tremaining: 3.16s\n",
      "421:\tlearn: 7.1111360\ttotal: 16.9s\tremaining: 3.12s\n",
      "422:\tlearn: 7.1096774\ttotal: 17s\tremaining: 3.09s\n",
      "423:\tlearn: 7.1082754\ttotal: 17s\tremaining: 3.04s\n",
      "424:\tlearn: 7.1071462\ttotal: 17s\tremaining: 2.99s\n",
      "425:\tlearn: 7.1047782\ttotal: 17.1s\tremaining: 2.96s\n",
      "426:\tlearn: 7.1034129\ttotal: 17.1s\tremaining: 2.92s\n",
      "427:\tlearn: 7.1018282\ttotal: 17.2s\tremaining: 2.88s\n",
      "428:\tlearn: 7.1004205\ttotal: 17.2s\tremaining: 2.84s\n",
      "429:\tlearn: 7.0994081\ttotal: 17.2s\tremaining: 2.79s\n",
      "430:\tlearn: 7.0978865\ttotal: 17.3s\tremaining: 2.76s\n",
      "431:\tlearn: 7.0962944\ttotal: 17.3s\tremaining: 2.72s\n",
      "432:\tlearn: 7.0946611\ttotal: 17.4s\tremaining: 2.69s\n",
      "433:\tlearn: 7.0932788\ttotal: 17.4s\tremaining: 2.64s\n",
      "434:\tlearn: 7.0917322\ttotal: 17.5s\tremaining: 2.61s\n",
      "435:\tlearn: 7.0899364\ttotal: 17.5s\tremaining: 2.56s\n",
      "436:\tlearn: 7.0884069\ttotal: 17.5s\tremaining: 2.52s\n",
      "437:\tlearn: 7.0871542\ttotal: 17.6s\tremaining: 2.48s\n",
      "438:\tlearn: 7.0854011\ttotal: 17.6s\tremaining: 2.44s\n",
      "439:\tlearn: 7.0838055\ttotal: 17.6s\tremaining: 2.41s\n",
      "440:\tlearn: 7.0823989\ttotal: 17.7s\tremaining: 2.36s\n",
      "441:\tlearn: 7.0809561\ttotal: 17.7s\tremaining: 2.32s\n",
      "442:\tlearn: 7.0800152\ttotal: 17.7s\tremaining: 2.28s\n",
      "443:\tlearn: 7.0789265\ttotal: 17.8s\tremaining: 2.24s\n",
      "444:\tlearn: 7.0772150\ttotal: 17.8s\tremaining: 2.19s\n",
      "445:\tlearn: 7.0760347\ttotal: 17.9s\tremaining: 2.16s\n",
      "446:\tlearn: 7.0748629\ttotal: 17.9s\tremaining: 2.12s\n",
      "447:\tlearn: 7.0733120\ttotal: 17.9s\tremaining: 2.08s\n",
      "448:\tlearn: 7.0720126\ttotal: 18s\tremaining: 2.04s\n",
      "449:\tlearn: 7.0708180\ttotal: 18s\tremaining: 2s\n",
      "450:\tlearn: 7.0694033\ttotal: 18s\tremaining: 1.96s\n",
      "451:\tlearn: 7.0685742\ttotal: 18.1s\tremaining: 1.92s\n",
      "452:\tlearn: 7.0671040\ttotal: 18.1s\tremaining: 1.88s\n",
      "453:\tlearn: 7.0659077\ttotal: 18.1s\tremaining: 1.84s\n",
      "454:\tlearn: 7.0648087\ttotal: 18.2s\tremaining: 1.79s\n",
      "455:\tlearn: 7.0631346\ttotal: 18.2s\tremaining: 1.76s\n",
      "456:\tlearn: 7.0612775\ttotal: 18.3s\tremaining: 1.72s\n",
      "457:\tlearn: 7.0603845\ttotal: 18.3s\tremaining: 1.68s\n",
      "458:\tlearn: 7.0587903\ttotal: 18.3s\tremaining: 1.64s\n",
      "459:\tlearn: 7.0578429\ttotal: 18.4s\tremaining: 1.6s\n",
      "460:\tlearn: 7.0565620\ttotal: 18.4s\tremaining: 1.56s\n",
      "461:\tlearn: 7.0553482\ttotal: 18.4s\tremaining: 1.52s\n",
      "462:\tlearn: 7.0545664\ttotal: 18.5s\tremaining: 1.48s\n",
      "463:\tlearn: 7.0532399\ttotal: 18.5s\tremaining: 1.44s\n",
      "464:\tlearn: 7.0520371\ttotal: 18.6s\tremaining: 1.4s\n",
      "465:\tlearn: 7.0509833\ttotal: 18.6s\tremaining: 1.36s\n",
      "466:\tlearn: 7.0502104\ttotal: 18.7s\tremaining: 1.32s\n",
      "467:\tlearn: 7.0486600\ttotal: 18.7s\tremaining: 1.27s\n",
      "468:\tlearn: 7.0474769\ttotal: 18.7s\tremaining: 1.24s\n",
      "469:\tlearn: 7.0465441\ttotal: 18.7s\tremaining: 1.2s\n",
      "470:\tlearn: 7.0451924\ttotal: 18.8s\tremaining: 1.16s\n",
      "471:\tlearn: 7.0437943\ttotal: 18.8s\tremaining: 1.12s\n",
      "472:\tlearn: 7.0423237\ttotal: 18.8s\tremaining: 1.07s\n",
      "473:\tlearn: 7.0415408\ttotal: 18.9s\tremaining: 1.04s\n",
      "474:\tlearn: 7.0404891\ttotal: 18.9s\tremaining: 997ms\n",
      "475:\tlearn: 7.0390490\ttotal: 19s\tremaining: 959ms\n",
      "476:\tlearn: 7.0378889\ttotal: 19s\tremaining: 918ms\n",
      "477:\tlearn: 7.0367413\ttotal: 19s\tremaining: 876ms\n",
      "478:\tlearn: 7.0354490\ttotal: 19.1s\tremaining: 839ms\n",
      "479:\tlearn: 7.0342057\ttotal: 19.1s\tremaining: 797ms\n",
      "480:\tlearn: 7.0333836\ttotal: 19.1s\tremaining: 756ms\n",
      "481:\tlearn: 7.0324678\ttotal: 19.2s\tremaining: 718ms\n",
      "482:\tlearn: 7.0313317\ttotal: 19.2s\tremaining: 677ms\n",
      "483:\tlearn: 7.0300286\ttotal: 19.3s\tremaining: 639ms\n",
      "484:\tlearn: 7.0290078\ttotal: 19.3s\tremaining: 598ms\n",
      "485:\tlearn: 7.0281642\ttotal: 19.4s\tremaining: 560ms\n",
      "486:\tlearn: 7.0269272\ttotal: 19.4s\tremaining: 519ms\n",
      "487:\tlearn: 7.0257479\ttotal: 19.4s\tremaining: 478ms\n",
      "488:\tlearn: 7.0243647\ttotal: 19.5s\tremaining: 439ms\n",
      "489:\tlearn: 7.0231509\ttotal: 19.5s\tremaining: 399ms\n",
      "490:\tlearn: 7.0217392\ttotal: 19.5s\tremaining: 358ms\n",
      "491:\tlearn: 7.0206504\ttotal: 19.6s\tremaining: 319ms\n",
      "492:\tlearn: 7.0195485\ttotal: 19.6s\tremaining: 279ms\n",
      "493:\tlearn: 7.0184901\ttotal: 19.7s\tremaining: 240ms\n",
      "494:\tlearn: 7.0174259\ttotal: 19.7s\tremaining: 199ms\n",
      "495:\tlearn: 7.0162885\ttotal: 19.7s\tremaining: 159ms\n",
      "496:\tlearn: 7.0153546\ttotal: 19.8s\tremaining: 120ms\n",
      "497:\tlearn: 7.0137800\ttotal: 19.8s\tremaining: 79.6ms\n",
      "498:\tlearn: 7.0129407\ttotal: 19.9s\tremaining: 39.9ms\n",
      "499:\tlearn: 7.0121496\ttotal: 19.9s\tremaining: 0us\n",
      "0:\tlearn: 9.0427740\ttotal: 7.78ms\tremaining: 3.88s\n",
      "1:\tlearn: 9.0245245\ttotal: 14.4ms\tremaining: 3.6s\n",
      "2:\tlearn: 9.0063138\ttotal: 101ms\tremaining: 16.7s\n",
      "3:\tlearn: 8.9887389\ttotal: 107ms\tremaining: 13.3s\n",
      "4:\tlearn: 8.9701777\ttotal: 198ms\tremaining: 19.6s\n",
      "5:\tlearn: 8.9520237\ttotal: 204ms\tremaining: 16.8s\n",
      "6:\tlearn: 8.9345106\ttotal: 211ms\tremaining: 14.8s\n",
      "7:\tlearn: 8.9183426\ttotal: 298ms\tremaining: 18.3s\n",
      "8:\tlearn: 8.9007252\ttotal: 304ms\tremaining: 16.6s\n",
      "9:\tlearn: 8.8841843\ttotal: 394ms\tremaining: 19.3s\n",
      "10:\tlearn: 8.8676240\ttotal: 401ms\tremaining: 17.8s\n",
      "11:\tlearn: 8.8511849\ttotal: 412ms\tremaining: 16.7s\n",
      "12:\tlearn: 8.8344911\ttotal: 418ms\tremaining: 15.7s\n",
      "13:\tlearn: 8.8181986\ttotal: 424ms\tremaining: 14.7s\n",
      "14:\tlearn: 8.8032629\ttotal: 514ms\tremaining: 16.6s\n",
      "15:\tlearn: 8.7870481\ttotal: 520ms\tremaining: 15.7s\n",
      "16:\tlearn: 8.7712116\ttotal: 611ms\tremaining: 17.4s\n",
      "17:\tlearn: 8.7566111\ttotal: 618ms\tremaining: 16.5s\n",
      "18:\tlearn: 8.7419980\ttotal: 624ms\tremaining: 15.8s\n",
      "19:\tlearn: 8.7266873\ttotal: 713ms\tremaining: 17.1s\n",
      "20:\tlearn: 8.7115607\ttotal: 720ms\tremaining: 16.4s\n",
      "21:\tlearn: 8.6965620\ttotal: 810ms\tremaining: 17.6s\n",
      "22:\tlearn: 8.6821967\ttotal: 818ms\tremaining: 17s\n",
      "23:\tlearn: 8.6674342\ttotal: 906ms\tremaining: 18s\n",
      "24:\tlearn: 8.6534453\ttotal: 913ms\tremaining: 17.3s\n",
      "25:\tlearn: 8.6393650\ttotal: 924ms\tremaining: 16.9s\n",
      "26:\tlearn: 8.6248677\ttotal: 1.01s\tremaining: 17.7s\n",
      "27:\tlearn: 8.6113354\ttotal: 1.02s\tremaining: 17.1s\n",
      "28:\tlearn: 8.5978058\ttotal: 1.11s\tremaining: 18s\n",
      "29:\tlearn: 8.5847687\ttotal: 1.11s\tremaining: 17.4s\n",
      "30:\tlearn: 8.5713376\ttotal: 1.2s\tremaining: 18.2s\n",
      "31:\tlearn: 8.5579492\ttotal: 1.21s\tremaining: 17.7s\n",
      "32:\tlearn: 8.5446079\ttotal: 1.22s\tremaining: 17.2s\n",
      "33:\tlearn: 8.5316029\ttotal: 1.31s\tremaining: 17.9s\n",
      "34:\tlearn: 8.5191043\ttotal: 1.31s\tremaining: 17.4s\n",
      "35:\tlearn: 8.5069400\ttotal: 1.4s\tremaining: 18.1s\n",
      "36:\tlearn: 8.4946558\ttotal: 1.41s\tremaining: 17.6s\n",
      "37:\tlearn: 8.4830027\ttotal: 1.5s\tremaining: 18.2s\n",
      "38:\tlearn: 8.4712324\ttotal: 1.51s\tremaining: 17.8s\n",
      "39:\tlearn: 8.4588876\ttotal: 1.51s\tremaining: 17.4s\n",
      "40:\tlearn: 8.4469064\ttotal: 1.6s\tremaining: 17.9s\n",
      "41:\tlearn: 8.4354852\ttotal: 1.61s\tremaining: 17.5s\n",
      "42:\tlearn: 8.4236725\ttotal: 1.7s\tremaining: 18.1s\n",
      "43:\tlearn: 8.4116691\ttotal: 1.71s\tremaining: 17.7s\n",
      "44:\tlearn: 8.4002430\ttotal: 1.71s\tremaining: 17.3s\n",
      "45:\tlearn: 8.3889893\ttotal: 1.8s\tremaining: 17.8s\n",
      "46:\tlearn: 8.3778643\ttotal: 1.8s\tremaining: 17.4s\n",
      "47:\tlearn: 8.3668757\ttotal: 1.9s\tremaining: 17.9s\n",
      "48:\tlearn: 8.3557582\ttotal: 1.9s\tremaining: 17.5s\n",
      "49:\tlearn: 8.3452732\ttotal: 1.91s\tremaining: 17.2s\n",
      "50:\tlearn: 8.3345894\ttotal: 2s\tremaining: 17.6s\n",
      "51:\tlearn: 8.3238710\ttotal: 2s\tremaining: 17.2s\n",
      "52:\tlearn: 8.3136978\ttotal: 2.09s\tremaining: 17.6s\n",
      "53:\tlearn: 8.3030712\ttotal: 2.1s\tremaining: 17.3s\n",
      "54:\tlearn: 8.2925397\ttotal: 2.1s\tremaining: 17s\n",
      "55:\tlearn: 8.2824788\ttotal: 2.19s\tremaining: 17.4s\n",
      "56:\tlearn: 8.2733191\ttotal: 2.2s\tremaining: 17.1s\n",
      "57:\tlearn: 8.2636399\ttotal: 2.2s\tremaining: 16.8s\n",
      "58:\tlearn: 8.2535972\ttotal: 2.29s\tremaining: 17.1s\n",
      "59:\tlearn: 8.2447523\ttotal: 2.3s\tremaining: 16.9s\n",
      "60:\tlearn: 8.2347500\ttotal: 2.39s\tremaining: 17.2s\n",
      "61:\tlearn: 8.2253261\ttotal: 2.39s\tremaining: 16.9s\n",
      "62:\tlearn: 8.2158844\ttotal: 2.4s\tremaining: 16.6s\n",
      "63:\tlearn: 8.2062365\ttotal: 2.49s\tremaining: 17s\n",
      "64:\tlearn: 8.1965757\ttotal: 2.5s\tremaining: 16.7s\n",
      "65:\tlearn: 8.1880140\ttotal: 2.59s\tremaining: 17s\n",
      "66:\tlearn: 8.1801407\ttotal: 2.59s\tremaining: 16.8s\n",
      "67:\tlearn: 8.1706105\ttotal: 2.68s\tremaining: 17.1s\n",
      "68:\tlearn: 8.1614987\ttotal: 2.69s\tremaining: 16.8s\n",
      "69:\tlearn: 8.1520840\ttotal: 2.69s\tremaining: 16.6s\n",
      "70:\tlearn: 8.1433404\ttotal: 2.78s\tremaining: 16.8s\n",
      "71:\tlearn: 8.1347952\ttotal: 2.79s\tremaining: 16.6s\n",
      "72:\tlearn: 8.1264732\ttotal: 2.8s\tremaining: 16.4s\n",
      "73:\tlearn: 8.1161046\ttotal: 2.89s\tremaining: 16.6s\n",
      "74:\tlearn: 8.1066330\ttotal: 2.89s\tremaining: 16.4s\n",
      "75:\tlearn: 8.0984687\ttotal: 2.98s\tremaining: 16.6s\n",
      "76:\tlearn: 8.0890338\ttotal: 2.99s\tremaining: 16.4s\n",
      "77:\tlearn: 8.0808267\ttotal: 3.08s\tremaining: 16.7s\n",
      "78:\tlearn: 8.0730719\ttotal: 3.08s\tremaining: 16.4s\n",
      "79:\tlearn: 8.0651888\ttotal: 3.09s\tremaining: 16.2s\n",
      "80:\tlearn: 8.0572419\ttotal: 3.18s\tremaining: 16.5s\n",
      "81:\tlearn: 8.0495163\ttotal: 3.19s\tremaining: 16.3s\n",
      "82:\tlearn: 8.0405406\ttotal: 3.28s\tremaining: 16.5s\n",
      "83:\tlearn: 8.0330275\ttotal: 3.29s\tremaining: 16.3s\n",
      "84:\tlearn: 8.0248210\ttotal: 3.38s\tremaining: 16.5s\n",
      "85:\tlearn: 8.0166876\ttotal: 3.38s\tremaining: 16.3s\n",
      "86:\tlearn: 8.0086991\ttotal: 3.39s\tremaining: 16.1s\n",
      "87:\tlearn: 8.0007902\ttotal: 3.48s\tremaining: 16.3s\n",
      "88:\tlearn: 7.9930449\ttotal: 3.49s\tremaining: 16.1s\n",
      "89:\tlearn: 7.9853008\ttotal: 3.58s\tremaining: 16.3s\n",
      "90:\tlearn: 7.9779444\ttotal: 3.58s\tremaining: 16.1s\n",
      "91:\tlearn: 7.9702055\ttotal: 3.67s\tremaining: 16.3s\n",
      "92:\tlearn: 7.9625139\ttotal: 3.68s\tremaining: 16.1s\n",
      "93:\tlearn: 7.9547784\ttotal: 3.69s\tremaining: 15.9s\n",
      "94:\tlearn: 7.9481114\ttotal: 3.78s\tremaining: 16.1s\n",
      "95:\tlearn: 7.9407990\ttotal: 3.78s\tremaining: 15.9s\n",
      "96:\tlearn: 7.9336842\ttotal: 3.87s\tremaining: 16.1s\n",
      "97:\tlearn: 7.9272469\ttotal: 3.88s\tremaining: 15.9s\n",
      "98:\tlearn: 7.9197760\ttotal: 3.97s\tremaining: 16.1s\n",
      "99:\tlearn: 7.9128339\ttotal: 3.98s\tremaining: 15.9s\n",
      "100:\tlearn: 7.9055841\ttotal: 3.99s\tremaining: 15.8s\n",
      "101:\tlearn: 7.8993163\ttotal: 4.07s\tremaining: 15.9s\n",
      "102:\tlearn: 7.8920159\ttotal: 4.08s\tremaining: 15.7s\n",
      "103:\tlearn: 7.8857105\ttotal: 4.17s\tremaining: 15.9s\n",
      "104:\tlearn: 7.8790872\ttotal: 4.18s\tremaining: 15.7s\n",
      "105:\tlearn: 7.8721503\ttotal: 4.27s\tremaining: 15.9s\n",
      "106:\tlearn: 7.8657035\ttotal: 4.28s\tremaining: 15.7s\n",
      "107:\tlearn: 7.8586685\ttotal: 4.28s\tremaining: 15.5s\n",
      "108:\tlearn: 7.8521299\ttotal: 4.37s\tremaining: 15.7s\n",
      "109:\tlearn: 7.8456212\ttotal: 4.38s\tremaining: 15.5s\n",
      "110:\tlearn: 7.8398291\ttotal: 4.47s\tremaining: 15.7s\n",
      "111:\tlearn: 7.8333861\ttotal: 4.47s\tremaining: 15.5s\n",
      "112:\tlearn: 7.8269158\ttotal: 4.57s\tremaining: 15.6s\n",
      "113:\tlearn: 7.8202548\ttotal: 4.57s\tremaining: 15.5s\n",
      "114:\tlearn: 7.8140088\ttotal: 4.66s\tremaining: 15.6s\n",
      "115:\tlearn: 7.8081368\ttotal: 4.67s\tremaining: 15.5s\n",
      "116:\tlearn: 7.8019530\ttotal: 4.67s\tremaining: 15.3s\n",
      "117:\tlearn: 7.7956852\ttotal: 4.76s\tremaining: 15.4s\n",
      "118:\tlearn: 7.7892747\ttotal: 4.77s\tremaining: 15.3s\n",
      "119:\tlearn: 7.7831958\ttotal: 4.87s\tremaining: 15.4s\n",
      "120:\tlearn: 7.7766958\ttotal: 4.87s\tremaining: 15.3s\n",
      "121:\tlearn: 7.7699281\ttotal: 4.96s\tremaining: 15.4s\n",
      "122:\tlearn: 7.7642808\ttotal: 4.97s\tremaining: 15.2s\n",
      "123:\tlearn: 7.7569304\ttotal: 4.97s\tremaining: 15.1s\n",
      "124:\tlearn: 7.7510782\ttotal: 5.06s\tremaining: 15.2s\n",
      "125:\tlearn: 7.7442584\ttotal: 5.07s\tremaining: 15s\n",
      "126:\tlearn: 7.7377661\ttotal: 5.16s\tremaining: 15.2s\n",
      "127:\tlearn: 7.7309145\ttotal: 5.17s\tremaining: 15s\n",
      "128:\tlearn: 7.7252574\ttotal: 5.17s\tremaining: 14.9s\n",
      "129:\tlearn: 7.7192368\ttotal: 5.26s\tremaining: 15s\n",
      "130:\tlearn: 7.7141544\ttotal: 5.26s\tremaining: 14.8s\n",
      "131:\tlearn: 7.7091087\ttotal: 5.36s\tremaining: 14.9s\n",
      "132:\tlearn: 7.7029509\ttotal: 5.36s\tremaining: 14.8s\n",
      "133:\tlearn: 7.6967843\ttotal: 5.37s\tremaining: 14.7s\n",
      "134:\tlearn: 7.6898867\ttotal: 5.46s\tremaining: 14.8s\n",
      "135:\tlearn: 7.6837526\ttotal: 5.46s\tremaining: 14.6s\n",
      "136:\tlearn: 7.6791948\ttotal: 5.55s\tremaining: 14.7s\n",
      "137:\tlearn: 7.6744136\ttotal: 5.56s\tremaining: 14.6s\n",
      "138:\tlearn: 7.6687328\ttotal: 5.65s\tremaining: 14.7s\n",
      "139:\tlearn: 7.6636471\ttotal: 5.66s\tremaining: 14.6s\n",
      "140:\tlearn: 7.6573243\ttotal: 5.67s\tremaining: 14.4s\n",
      "141:\tlearn: 7.6516974\ttotal: 5.75s\tremaining: 14.5s\n",
      "142:\tlearn: 7.6456015\ttotal: 5.76s\tremaining: 14.4s\n",
      "143:\tlearn: 7.6400431\ttotal: 5.85s\tremaining: 14.5s\n",
      "144:\tlearn: 7.6356143\ttotal: 5.86s\tremaining: 14.3s\n",
      "145:\tlearn: 7.6300778\ttotal: 5.95s\tremaining: 14.4s\n",
      "146:\tlearn: 7.6251599\ttotal: 5.95s\tremaining: 14.3s\n",
      "147:\tlearn: 7.6194736\ttotal: 5.96s\tremaining: 14.2s\n",
      "148:\tlearn: 7.6148204\ttotal: 6.05s\tremaining: 14.3s\n",
      "149:\tlearn: 7.6102329\ttotal: 6.06s\tremaining: 14.1s\n",
      "150:\tlearn: 7.6052376\ttotal: 6.06s\tremaining: 14s\n",
      "151:\tlearn: 7.6002216\ttotal: 6.15s\tremaining: 14.1s\n",
      "152:\tlearn: 7.5952007\ttotal: 6.16s\tremaining: 14s\n",
      "153:\tlearn: 7.5908290\ttotal: 6.25s\tremaining: 14s\n",
      "154:\tlearn: 7.5856611\ttotal: 6.25s\tremaining: 13.9s\n",
      "155:\tlearn: 7.5806207\ttotal: 6.26s\tremaining: 13.8s\n",
      "156:\tlearn: 7.5761414\ttotal: 6.35s\tremaining: 13.9s\n",
      "157:\tlearn: 7.5712844\ttotal: 6.35s\tremaining: 13.8s\n",
      "158:\tlearn: 7.5661654\ttotal: 6.44s\tremaining: 13.8s\n",
      "159:\tlearn: 7.5616974\ttotal: 6.45s\tremaining: 13.7s\n",
      "160:\tlearn: 7.5567291\ttotal: 6.45s\tremaining: 13.6s\n",
      "161:\tlearn: 7.5524991\ttotal: 6.54s\tremaining: 13.7s\n",
      "162:\tlearn: 7.5484234\ttotal: 6.55s\tremaining: 13.5s\n",
      "163:\tlearn: 7.5437304\ttotal: 6.55s\tremaining: 13.4s\n",
      "164:\tlearn: 7.5392142\ttotal: 6.64s\tremaining: 13.5s\n",
      "165:\tlearn: 7.5342910\ttotal: 6.65s\tremaining: 13.4s\n",
      "166:\tlearn: 7.5294020\ttotal: 6.65s\tremaining: 13.3s\n",
      "167:\tlearn: 7.5250392\ttotal: 6.74s\tremaining: 13.3s\n",
      "168:\tlearn: 7.5211531\ttotal: 6.75s\tremaining: 13.2s\n",
      "169:\tlearn: 7.5168772\ttotal: 6.84s\tremaining: 13.3s\n",
      "170:\tlearn: 7.5126870\ttotal: 6.84s\tremaining: 13.2s\n",
      "171:\tlearn: 7.5084330\ttotal: 6.85s\tremaining: 13.1s\n",
      "172:\tlearn: 7.5031047\ttotal: 6.94s\tremaining: 13.1s\n",
      "173:\tlearn: 7.4983966\ttotal: 6.94s\tremaining: 13s\n",
      "174:\tlearn: 7.4936573\ttotal: 6.95s\tremaining: 12.9s\n",
      "175:\tlearn: 7.4892552\ttotal: 7.04s\tremaining: 13s\n",
      "176:\tlearn: 7.4852542\ttotal: 7.04s\tremaining: 12.9s\n",
      "177:\tlearn: 7.4803370\ttotal: 7.05s\tremaining: 12.8s\n",
      "178:\tlearn: 7.4758002\ttotal: 7.14s\tremaining: 12.8s\n",
      "179:\tlearn: 7.4709504\ttotal: 7.14s\tremaining: 12.7s\n",
      "180:\tlearn: 7.4673014\ttotal: 7.23s\tremaining: 12.7s\n",
      "181:\tlearn: 7.4634145\ttotal: 7.24s\tremaining: 12.6s\n",
      "182:\tlearn: 7.4596887\ttotal: 7.24s\tremaining: 12.5s\n",
      "183:\tlearn: 7.4556699\ttotal: 7.33s\tremaining: 12.6s\n",
      "184:\tlearn: 7.4517801\ttotal: 7.34s\tremaining: 12.5s\n",
      "185:\tlearn: 7.4467491\ttotal: 7.34s\tremaining: 12.4s\n",
      "186:\tlearn: 7.4427703\ttotal: 7.43s\tremaining: 12.4s\n",
      "187:\tlearn: 7.4385348\ttotal: 7.44s\tremaining: 12.3s\n",
      "188:\tlearn: 7.4344984\ttotal: 7.45s\tremaining: 12.3s\n",
      "189:\tlearn: 7.4297193\ttotal: 7.53s\tremaining: 12.3s\n",
      "190:\tlearn: 7.4251120\ttotal: 7.54s\tremaining: 12.2s\n",
      "191:\tlearn: 7.4198635\ttotal: 7.63s\tremaining: 12.2s\n",
      "192:\tlearn: 7.4159839\ttotal: 7.63s\tremaining: 12.1s\n",
      "193:\tlearn: 7.4121477\ttotal: 7.64s\tremaining: 12s\n",
      "194:\tlearn: 7.4083862\ttotal: 7.73s\tremaining: 12.1s\n",
      "195:\tlearn: 7.4045115\ttotal: 7.73s\tremaining: 12s\n",
      "196:\tlearn: 7.4007685\ttotal: 7.74s\tremaining: 11.9s\n",
      "197:\tlearn: 7.3979859\ttotal: 7.83s\tremaining: 11.9s\n",
      "198:\tlearn: 7.3941974\ttotal: 7.83s\tremaining: 11.8s\n",
      "199:\tlearn: 7.3905222\ttotal: 7.92s\tremaining: 11.9s\n",
      "200:\tlearn: 7.3869986\ttotal: 7.93s\tremaining: 11.8s\n",
      "201:\tlearn: 7.3836467\ttotal: 8.02s\tremaining: 11.8s\n",
      "202:\tlearn: 7.3798499\ttotal: 8.03s\tremaining: 11.7s\n",
      "203:\tlearn: 7.3752097\ttotal: 8.03s\tremaining: 11.7s\n",
      "204:\tlearn: 7.3712190\ttotal: 8.12s\tremaining: 11.7s\n",
      "205:\tlearn: 7.3685197\ttotal: 8.13s\tremaining: 11.6s\n",
      "206:\tlearn: 7.3646512\ttotal: 8.13s\tremaining: 11.5s\n",
      "207:\tlearn: 7.3611890\ttotal: 8.22s\tremaining: 11.5s\n",
      "208:\tlearn: 7.3578589\ttotal: 8.23s\tremaining: 11.5s\n",
      "209:\tlearn: 7.3546713\ttotal: 8.32s\tremaining: 11.5s\n",
      "210:\tlearn: 7.3514478\ttotal: 8.33s\tremaining: 11.4s\n",
      "211:\tlearn: 7.3479979\ttotal: 8.42s\tremaining: 11.4s\n",
      "212:\tlearn: 7.3436023\ttotal: 8.43s\tremaining: 11.4s\n",
      "213:\tlearn: 7.3399984\ttotal: 8.43s\tremaining: 11.3s\n",
      "214:\tlearn: 7.3362754\ttotal: 8.52s\tremaining: 11.3s\n",
      "215:\tlearn: 7.3328534\ttotal: 8.53s\tremaining: 11.2s\n",
      "216:\tlearn: 7.3294090\ttotal: 8.62s\tremaining: 11.2s\n",
      "217:\tlearn: 7.3266826\ttotal: 8.62s\tremaining: 11.2s\n",
      "218:\tlearn: 7.3232991\ttotal: 8.71s\tremaining: 11.2s\n",
      "219:\tlearn: 7.3197099\ttotal: 8.72s\tremaining: 11.1s\n",
      "220:\tlearn: 7.3168189\ttotal: 8.72s\tremaining: 11s\n",
      "221:\tlearn: 7.3142925\ttotal: 8.81s\tremaining: 11s\n",
      "222:\tlearn: 7.3112968\ttotal: 8.83s\tremaining: 11s\n",
      "223:\tlearn: 7.3076530\ttotal: 8.83s\tremaining: 10.9s\n",
      "224:\tlearn: 7.3049499\ttotal: 8.92s\tremaining: 10.9s\n",
      "225:\tlearn: 7.3020034\ttotal: 8.92s\tremaining: 10.8s\n",
      "226:\tlearn: 7.2994250\ttotal: 9.01s\tremaining: 10.8s\n",
      "227:\tlearn: 7.2962484\ttotal: 9.02s\tremaining: 10.8s\n",
      "228:\tlearn: 7.2928795\ttotal: 9.11s\tremaining: 10.8s\n",
      "229:\tlearn: 7.2899504\ttotal: 9.12s\tremaining: 10.7s\n",
      "230:\tlearn: 7.2865276\ttotal: 9.12s\tremaining: 10.6s\n",
      "231:\tlearn: 7.2830736\ttotal: 9.21s\tremaining: 10.6s\n",
      "232:\tlearn: 7.2786767\ttotal: 9.22s\tremaining: 10.6s\n",
      "233:\tlearn: 7.2756534\ttotal: 9.31s\tremaining: 10.6s\n",
      "234:\tlearn: 7.2721034\ttotal: 9.32s\tremaining: 10.5s\n",
      "235:\tlearn: 7.2695260\ttotal: 9.41s\tremaining: 10.5s\n",
      "236:\tlearn: 7.2667022\ttotal: 9.41s\tremaining: 10.4s\n",
      "237:\tlearn: 7.2633179\ttotal: 9.51s\tremaining: 10.5s\n",
      "238:\tlearn: 7.2604153\ttotal: 9.51s\tremaining: 10.4s\n",
      "239:\tlearn: 7.2575416\ttotal: 9.52s\tremaining: 10.3s\n",
      "240:\tlearn: 7.2549525\ttotal: 9.61s\tremaining: 10.3s\n",
      "241:\tlearn: 7.2522818\ttotal: 9.61s\tremaining: 10.2s\n",
      "242:\tlearn: 7.2493839\ttotal: 9.71s\tremaining: 10.3s\n",
      "243:\tlearn: 7.2473246\ttotal: 9.71s\tremaining: 10.2s\n",
      "244:\tlearn: 7.2443322\ttotal: 9.72s\tremaining: 10.1s\n",
      "245:\tlearn: 7.2408648\ttotal: 9.8s\tremaining: 10.1s\n",
      "246:\tlearn: 7.2374520\ttotal: 9.81s\tremaining: 10s\n",
      "247:\tlearn: 7.2335696\ttotal: 9.82s\tremaining: 9.97s\n",
      "248:\tlearn: 7.2310643\ttotal: 9.91s\tremaining: 9.98s\n",
      "249:\tlearn: 7.2282772\ttotal: 9.91s\tremaining: 9.91s\n",
      "250:\tlearn: 7.2260603\ttotal: 10s\tremaining: 9.92s\n",
      "251:\tlearn: 7.2233735\ttotal: 10s\tremaining: 9.85s\n",
      "252:\tlearn: 7.2209131\ttotal: 10s\tremaining: 9.77s\n",
      "253:\tlearn: 7.2185166\ttotal: 10.1s\tremaining: 9.78s\n",
      "254:\tlearn: 7.2153603\ttotal: 10.1s\tremaining: 9.71s\n",
      "255:\tlearn: 7.2126499\ttotal: 10.2s\tremaining: 9.72s\n",
      "256:\tlearn: 7.2088654\ttotal: 10.2s\tremaining: 9.65s\n",
      "257:\tlearn: 7.2065073\ttotal: 10.2s\tremaining: 9.58s\n",
      "258:\tlearn: 7.2025496\ttotal: 10.3s\tremaining: 9.58s\n",
      "259:\tlearn: 7.1988291\ttotal: 10.3s\tremaining: 9.51s\n",
      "260:\tlearn: 7.1965945\ttotal: 10.4s\tremaining: 9.52s\n",
      "261:\tlearn: 7.1940202\ttotal: 10.4s\tremaining: 9.45s\n",
      "262:\tlearn: 7.1906970\ttotal: 10.4s\tremaining: 9.38s\n",
      "263:\tlearn: 7.1883870\ttotal: 10.5s\tremaining: 9.39s\n",
      "264:\tlearn: 7.1860574\ttotal: 10.5s\tremaining: 9.32s\n",
      "265:\tlearn: 7.1833372\ttotal: 10.6s\tremaining: 9.32s\n",
      "266:\tlearn: 7.1810265\ttotal: 10.6s\tremaining: 9.25s\n",
      "267:\tlearn: 7.1789546\ttotal: 10.6s\tremaining: 9.19s\n",
      "268:\tlearn: 7.1765326\ttotal: 10.7s\tremaining: 9.19s\n",
      "269:\tlearn: 7.1739310\ttotal: 10.7s\tremaining: 9.12s\n",
      "270:\tlearn: 7.1715969\ttotal: 10.8s\tremaining: 9.12s\n",
      "271:\tlearn: 7.1689842\ttotal: 10.8s\tremaining: 9.05s\n",
      "272:\tlearn: 7.1663792\ttotal: 10.9s\tremaining: 9.06s\n",
      "273:\tlearn: 7.1637117\ttotal: 10.9s\tremaining: 8.99s\n",
      "274:\tlearn: 7.1608247\ttotal: 10.9s\tremaining: 8.92s\n",
      "275:\tlearn: 7.1582775\ttotal: 11s\tremaining: 8.92s\n",
      "276:\tlearn: 7.1555534\ttotal: 11s\tremaining: 8.86s\n",
      "277:\tlearn: 7.1528602\ttotal: 11s\tremaining: 8.8s\n",
      "278:\tlearn: 7.1507221\ttotal: 11.1s\tremaining: 8.79s\n",
      "279:\tlearn: 7.1484051\ttotal: 11.1s\tremaining: 8.72s\n",
      "280:\tlearn: 7.1457274\ttotal: 11.2s\tremaining: 8.72s\n",
      "281:\tlearn: 7.1430514\ttotal: 11.2s\tremaining: 8.65s\n",
      "282:\tlearn: 7.1405431\ttotal: 11.2s\tremaining: 8.6s\n",
      "283:\tlearn: 7.1379012\ttotal: 11.3s\tremaining: 8.59s\n",
      "284:\tlearn: 7.1355308\ttotal: 11.3s\tremaining: 8.52s\n",
      "285:\tlearn: 7.1329584\ttotal: 11.4s\tremaining: 8.52s\n",
      "286:\tlearn: 7.1296402\ttotal: 11.4s\tremaining: 8.46s\n",
      "287:\tlearn: 7.1273451\ttotal: 11.5s\tremaining: 8.45s\n",
      "288:\tlearn: 7.1251731\ttotal: 11.5s\tremaining: 8.39s\n",
      "289:\tlearn: 7.1233114\ttotal: 11.5s\tremaining: 8.32s\n",
      "290:\tlearn: 7.1202974\ttotal: 11.6s\tremaining: 8.32s\n",
      "291:\tlearn: 7.1180620\ttotal: 11.6s\tremaining: 8.26s\n",
      "292:\tlearn: 7.1156014\ttotal: 11.6s\tremaining: 8.19s\n",
      "293:\tlearn: 7.1130339\ttotal: 11.7s\tremaining: 8.19s\n",
      "294:\tlearn: 7.1106210\ttotal: 11.7s\tremaining: 8.13s\n",
      "295:\tlearn: 7.1075603\ttotal: 11.8s\tremaining: 8.12s\n",
      "296:\tlearn: 7.1052791\ttotal: 11.8s\tremaining: 8.09s\n",
      "297:\tlearn: 7.1031884\ttotal: 11.9s\tremaining: 8.05s\n",
      "298:\tlearn: 7.1011550\ttotal: 11.9s\tremaining: 7.99s\n",
      "299:\tlearn: 7.0989371\ttotal: 12s\tremaining: 7.99s\n",
      "300:\tlearn: 7.0967364\ttotal: 12s\tremaining: 7.93s\n",
      "301:\tlearn: 7.0941671\ttotal: 12s\tremaining: 7.87s\n",
      "302:\tlearn: 7.0920073\ttotal: 12.1s\tremaining: 7.85s\n",
      "303:\tlearn: 7.0896615\ttotal: 12.1s\tremaining: 7.79s\n",
      "304:\tlearn: 7.0871077\ttotal: 12.2s\tremaining: 7.79s\n",
      "305:\tlearn: 7.0846085\ttotal: 12.2s\tremaining: 7.72s\n",
      "306:\tlearn: 7.0829935\ttotal: 12.2s\tremaining: 7.66s\n",
      "307:\tlearn: 7.0809402\ttotal: 12.3s\tremaining: 7.65s\n",
      "308:\tlearn: 7.0790781\ttotal: 12.3s\tremaining: 7.59s\n",
      "309:\tlearn: 7.0769735\ttotal: 12.3s\tremaining: 7.53s\n",
      "310:\tlearn: 7.0752758\ttotal: 12.4s\tremaining: 7.52s\n",
      "311:\tlearn: 7.0732909\ttotal: 12.4s\tremaining: 7.46s\n",
      "312:\tlearn: 7.0714290\ttotal: 12.5s\tremaining: 7.45s\n",
      "313:\tlearn: 7.0696059\ttotal: 12.5s\tremaining: 7.39s\n",
      "314:\tlearn: 7.0674779\ttotal: 12.6s\tremaining: 7.38s\n",
      "315:\tlearn: 7.0652561\ttotal: 12.6s\tremaining: 7.32s\n",
      "316:\tlearn: 7.0633525\ttotal: 12.6s\tremaining: 7.26s\n",
      "317:\tlearn: 7.0613880\ttotal: 12.7s\tremaining: 7.25s\n",
      "318:\tlearn: 7.0593759\ttotal: 12.7s\tremaining: 7.2s\n",
      "319:\tlearn: 7.0564670\ttotal: 12.8s\tremaining: 7.18s\n",
      "320:\tlearn: 7.0538336\ttotal: 12.8s\tremaining: 7.13s\n",
      "321:\tlearn: 7.0516437\ttotal: 12.9s\tremaining: 7.11s\n",
      "322:\tlearn: 7.0491932\ttotal: 12.9s\tremaining: 7.05s\n",
      "323:\tlearn: 7.0476885\ttotal: 12.9s\tremaining: 7s\n",
      "324:\tlearn: 7.0457583\ttotal: 13s\tremaining: 6.98s\n",
      "325:\tlearn: 7.0438524\ttotal: 13s\tremaining: 6.92s\n",
      "326:\tlearn: 7.0423311\ttotal: 13.1s\tremaining: 6.91s\n",
      "327:\tlearn: 7.0405120\ttotal: 13.1s\tremaining: 6.86s\n",
      "328:\tlearn: 7.0382643\ttotal: 13.2s\tremaining: 6.84s\n",
      "329:\tlearn: 7.0364425\ttotal: 13.2s\tremaining: 6.78s\n",
      "330:\tlearn: 7.0338257\ttotal: 13.2s\tremaining: 6.73s\n",
      "331:\tlearn: 7.0314957\ttotal: 13.3s\tremaining: 6.71s\n",
      "332:\tlearn: 7.0300235\ttotal: 13.3s\tremaining: 6.66s\n",
      "333:\tlearn: 7.0281751\ttotal: 13.4s\tremaining: 6.64s\n",
      "334:\tlearn: 7.0267008\ttotal: 13.4s\tremaining: 6.58s\n",
      "335:\tlearn: 7.0252899\ttotal: 13.4s\tremaining: 6.53s\n",
      "336:\tlearn: 7.0231235\ttotal: 13.5s\tremaining: 6.51s\n",
      "337:\tlearn: 7.0213043\ttotal: 13.5s\tremaining: 6.45s\n",
      "338:\tlearn: 7.0198880\ttotal: 13.6s\tremaining: 6.45s\n",
      "339:\tlearn: 7.0183679\ttotal: 13.6s\tremaining: 6.39s\n",
      "340:\tlearn: 7.0164866\ttotal: 13.6s\tremaining: 6.34s\n",
      "341:\tlearn: 7.0151530\ttotal: 13.6s\tremaining: 6.3s\n",
      "342:\tlearn: 7.0135491\ttotal: 13.7s\tremaining: 6.25s\n",
      "343:\tlearn: 7.0119106\ttotal: 13.7s\tremaining: 6.19s\n",
      "344:\tlearn: 7.0101044\ttotal: 13.8s\tremaining: 6.18s\n",
      "345:\tlearn: 7.0081160\ttotal: 13.8s\tremaining: 6.13s\n",
      "346:\tlearn: 7.0056990\ttotal: 13.8s\tremaining: 6.1s\n",
      "347:\tlearn: 7.0041575\ttotal: 13.8s\tremaining: 6.05s\n",
      "348:\tlearn: 7.0022004\ttotal: 13.9s\tremaining: 5.99s\n",
      "349:\tlearn: 7.0006705\ttotal: 13.9s\tremaining: 5.97s\n",
      "350:\tlearn: 6.9985314\ttotal: 13.9s\tremaining: 5.92s\n",
      "351:\tlearn: 6.9969190\ttotal: 14s\tremaining: 5.87s\n",
      "352:\tlearn: 6.9948925\ttotal: 14s\tremaining: 5.85s\n",
      "353:\tlearn: 6.9934094\ttotal: 14s\tremaining: 5.79s\n",
      "354:\tlearn: 6.9917553\ttotal: 14.1s\tremaining: 5.77s\n",
      "355:\tlearn: 6.9899226\ttotal: 14.1s\tremaining: 5.72s\n",
      "356:\tlearn: 6.9872835\ttotal: 14.2s\tremaining: 5.67s\n",
      "357:\tlearn: 6.9855460\ttotal: 14.2s\tremaining: 5.65s\n",
      "358:\tlearn: 6.9840656\ttotal: 14.3s\tremaining: 5.6s\n",
      "359:\tlearn: 6.9816580\ttotal: 14.3s\tremaining: 5.55s\n",
      "360:\tlearn: 6.9798417\ttotal: 14.3s\tremaining: 5.52s\n",
      "361:\tlearn: 6.9781818\ttotal: 14.3s\tremaining: 5.47s\n",
      "362:\tlearn: 6.9766530\ttotal: 14.4s\tremaining: 5.45s\n",
      "363:\tlearn: 6.9751170\ttotal: 14.4s\tremaining: 5.4s\n",
      "364:\tlearn: 6.9723286\ttotal: 14.5s\tremaining: 5.34s\n",
      "365:\tlearn: 6.9705816\ttotal: 14.5s\tremaining: 5.32s\n",
      "366:\tlearn: 6.9691133\ttotal: 14.5s\tremaining: 5.27s\n",
      "367:\tlearn: 6.9673026\ttotal: 14.6s\tremaining: 5.25s\n",
      "368:\tlearn: 6.9654898\ttotal: 14.6s\tremaining: 5.2s\n",
      "369:\tlearn: 6.9628308\ttotal: 14.7s\tremaining: 5.15s\n",
      "370:\tlearn: 6.9613492\ttotal: 14.7s\tremaining: 5.12s\n",
      "371:\tlearn: 6.9596716\ttotal: 14.7s\tremaining: 5.07s\n",
      "372:\tlearn: 6.9580629\ttotal: 14.8s\tremaining: 5.05s\n",
      "373:\tlearn: 6.9566604\ttotal: 14.8s\tremaining: 5s\n",
      "374:\tlearn: 6.9549418\ttotal: 14.8s\tremaining: 4.95s\n",
      "375:\tlearn: 6.9532788\ttotal: 14.9s\tremaining: 4.93s\n",
      "376:\tlearn: 6.9511342\ttotal: 14.9s\tremaining: 4.88s\n",
      "377:\tlearn: 6.9496402\ttotal: 15s\tremaining: 4.85s\n",
      "378:\tlearn: 6.9482724\ttotal: 15s\tremaining: 4.8s\n",
      "379:\tlearn: 6.9464794\ttotal: 15s\tremaining: 4.75s\n",
      "380:\tlearn: 6.9450291\ttotal: 15.1s\tremaining: 4.73s\n",
      "381:\tlearn: 6.9432169\ttotal: 15.1s\tremaining: 4.68s\n",
      "382:\tlearn: 6.9414481\ttotal: 15.2s\tremaining: 4.65s\n",
      "383:\tlearn: 6.9391579\ttotal: 15.2s\tremaining: 4.6s\n",
      "384:\tlearn: 6.9370470\ttotal: 15.2s\tremaining: 4.55s\n",
      "385:\tlearn: 6.9353778\ttotal: 15.2s\tremaining: 4.5s\n",
      "386:\tlearn: 6.9337263\ttotal: 15.3s\tremaining: 4.47s\n",
      "387:\tlearn: 6.9322694\ttotal: 15.3s\tremaining: 4.43s\n",
      "388:\tlearn: 6.9307378\ttotal: 15.4s\tremaining: 4.4s\n",
      "389:\tlearn: 6.9291429\ttotal: 15.4s\tremaining: 4.35s\n",
      "390:\tlearn: 6.9273472\ttotal: 15.4s\tremaining: 4.3s\n",
      "391:\tlearn: 6.9261581\ttotal: 15.4s\tremaining: 4.25s\n",
      "392:\tlearn: 6.9248303\ttotal: 15.5s\tremaining: 4.23s\n",
      "393:\tlearn: 6.9225401\ttotal: 15.5s\tremaining: 4.18s\n",
      "394:\tlearn: 6.9211789\ttotal: 15.6s\tremaining: 4.15s\n",
      "395:\tlearn: 6.9196800\ttotal: 15.6s\tremaining: 4.1s\n",
      "396:\tlearn: 6.9178142\ttotal: 15.6s\tremaining: 4.06s\n",
      "397:\tlearn: 6.9158766\ttotal: 15.7s\tremaining: 4.03s\n",
      "398:\tlearn: 6.9134927\ttotal: 15.7s\tremaining: 3.98s\n",
      "399:\tlearn: 6.9120608\ttotal: 15.7s\tremaining: 3.93s\n",
      "400:\tlearn: 6.9106736\ttotal: 15.8s\tremaining: 3.91s\n",
      "401:\tlearn: 6.9091035\ttotal: 15.8s\tremaining: 3.86s\n",
      "402:\tlearn: 6.9074651\ttotal: 15.8s\tremaining: 3.81s\n",
      "403:\tlearn: 6.9060459\ttotal: 15.9s\tremaining: 3.78s\n",
      "404:\tlearn: 6.9044244\ttotal: 15.9s\tremaining: 3.74s\n",
      "405:\tlearn: 6.9032407\ttotal: 15.9s\tremaining: 3.69s\n",
      "406:\tlearn: 6.9011874\ttotal: 16s\tremaining: 3.66s\n",
      "407:\tlearn: 6.8995898\ttotal: 16s\tremaining: 3.61s\n",
      "408:\tlearn: 6.8977536\ttotal: 16s\tremaining: 3.57s\n",
      "409:\tlearn: 6.8963133\ttotal: 16.1s\tremaining: 3.54s\n",
      "410:\tlearn: 6.8949744\ttotal: 16.1s\tremaining: 3.49s\n",
      "411:\tlearn: 6.8932153\ttotal: 16.2s\tremaining: 3.46s\n",
      "412:\tlearn: 6.8915584\ttotal: 16.2s\tremaining: 3.42s\n",
      "413:\tlearn: 6.8906752\ttotal: 16.2s\tremaining: 3.37s\n",
      "414:\tlearn: 6.8893276\ttotal: 16.3s\tremaining: 3.34s\n",
      "415:\tlearn: 6.8870679\ttotal: 16.3s\tremaining: 3.3s\n",
      "416:\tlearn: 6.8857275\ttotal: 16.3s\tremaining: 3.25s\n",
      "417:\tlearn: 6.8846933\ttotal: 16.4s\tremaining: 3.22s\n",
      "418:\tlearn: 6.8827172\ttotal: 16.4s\tremaining: 3.17s\n",
      "419:\tlearn: 6.8812010\ttotal: 16.4s\tremaining: 3.13s\n",
      "420:\tlearn: 6.8801177\ttotal: 16.5s\tremaining: 3.1s\n",
      "421:\tlearn: 6.8783143\ttotal: 16.5s\tremaining: 3.05s\n",
      "422:\tlearn: 6.8764989\ttotal: 16.6s\tremaining: 3.02s\n",
      "423:\tlearn: 6.8747598\ttotal: 16.6s\tremaining: 2.98s\n",
      "424:\tlearn: 6.8734839\ttotal: 16.6s\tremaining: 2.93s\n",
      "425:\tlearn: 6.8720424\ttotal: 16.7s\tremaining: 2.9s\n",
      "426:\tlearn: 6.8702717\ttotal: 16.7s\tremaining: 2.86s\n",
      "427:\tlearn: 6.8691639\ttotal: 16.7s\tremaining: 2.81s\n",
      "428:\tlearn: 6.8680393\ttotal: 16.7s\tremaining: 2.77s\n",
      "429:\tlearn: 6.8669189\ttotal: 16.7s\tremaining: 2.72s\n",
      "430:\tlearn: 6.8657467\ttotal: 16.8s\tremaining: 2.69s\n",
      "431:\tlearn: 6.8644547\ttotal: 16.8s\tremaining: 2.65s\n",
      "432:\tlearn: 6.8627443\ttotal: 16.8s\tremaining: 2.6s\n",
      "433:\tlearn: 6.8613133\ttotal: 16.9s\tremaining: 2.57s\n",
      "434:\tlearn: 6.8598585\ttotal: 16.9s\tremaining: 2.53s\n",
      "435:\tlearn: 6.8584223\ttotal: 17s\tremaining: 2.5s\n",
      "436:\tlearn: 6.8573060\ttotal: 17s\tremaining: 2.45s\n",
      "437:\tlearn: 6.8560100\ttotal: 17s\tremaining: 2.41s\n",
      "438:\tlearn: 6.8545151\ttotal: 17.1s\tremaining: 2.38s\n",
      "439:\tlearn: 6.8526457\ttotal: 17.1s\tremaining: 2.33s\n",
      "440:\tlearn: 6.8511519\ttotal: 17.1s\tremaining: 2.29s\n",
      "441:\tlearn: 6.8493846\ttotal: 17.2s\tremaining: 2.26s\n",
      "442:\tlearn: 6.8481584\ttotal: 17.2s\tremaining: 2.22s\n",
      "443:\tlearn: 6.8464505\ttotal: 17.3s\tremaining: 2.18s\n",
      "444:\tlearn: 6.8448610\ttotal: 17.3s\tremaining: 2.14s\n",
      "445:\tlearn: 6.8437377\ttotal: 17.3s\tremaining: 2.1s\n",
      "446:\tlearn: 6.8420097\ttotal: 17.4s\tremaining: 2.06s\n",
      "447:\tlearn: 6.8399792\ttotal: 17.4s\tremaining: 2.02s\n",
      "448:\tlearn: 6.8388017\ttotal: 17.5s\tremaining: 1.99s\n",
      "449:\tlearn: 6.8373047\ttotal: 17.5s\tremaining: 1.95s\n",
      "450:\tlearn: 6.8360930\ttotal: 17.6s\tremaining: 1.91s\n",
      "451:\tlearn: 6.8342967\ttotal: 17.6s\tremaining: 1.87s\n",
      "452:\tlearn: 6.8325788\ttotal: 17.6s\tremaining: 1.83s\n",
      "453:\tlearn: 6.8311417\ttotal: 17.7s\tremaining: 1.79s\n",
      "454:\tlearn: 6.8300389\ttotal: 17.7s\tremaining: 1.75s\n",
      "455:\tlearn: 6.8287055\ttotal: 17.8s\tremaining: 1.72s\n",
      "456:\tlearn: 6.8272763\ttotal: 17.8s\tremaining: 1.68s\n",
      "457:\tlearn: 6.8262922\ttotal: 17.8s\tremaining: 1.63s\n",
      "458:\tlearn: 6.8251294\ttotal: 17.9s\tremaining: 1.6s\n",
      "459:\tlearn: 6.8239186\ttotal: 17.9s\tremaining: 1.56s\n",
      "460:\tlearn: 6.8224654\ttotal: 18s\tremaining: 1.52s\n",
      "461:\tlearn: 6.8209030\ttotal: 18s\tremaining: 1.48s\n",
      "462:\tlearn: 6.8192294\ttotal: 18s\tremaining: 1.44s\n",
      "463:\tlearn: 6.8176613\ttotal: 18.1s\tremaining: 1.4s\n",
      "464:\tlearn: 6.8167273\ttotal: 18.1s\tremaining: 1.36s\n",
      "465:\tlearn: 6.8151917\ttotal: 18.1s\tremaining: 1.32s\n",
      "466:\tlearn: 6.8144583\ttotal: 18.2s\tremaining: 1.29s\n",
      "467:\tlearn: 6.8131512\ttotal: 18.2s\tremaining: 1.25s\n",
      "468:\tlearn: 6.8119472\ttotal: 18.3s\tremaining: 1.21s\n",
      "469:\tlearn: 6.8104915\ttotal: 18.3s\tremaining: 1.17s\n",
      "470:\tlearn: 6.8091098\ttotal: 18.3s\tremaining: 1.13s\n",
      "471:\tlearn: 6.8075930\ttotal: 18.4s\tremaining: 1.09s\n",
      "472:\tlearn: 6.8060451\ttotal: 18.4s\tremaining: 1.05s\n",
      "473:\tlearn: 6.8047567\ttotal: 18.5s\tremaining: 1.01s\n",
      "474:\tlearn: 6.8034454\ttotal: 18.5s\tremaining: 974ms\n",
      "475:\tlearn: 6.8016337\ttotal: 18.5s\tremaining: 933ms\n",
      "476:\tlearn: 6.8004751\ttotal: 18.6s\tremaining: 897ms\n",
      "477:\tlearn: 6.7986478\ttotal: 18.6s\tremaining: 856ms\n",
      "478:\tlearn: 6.7975737\ttotal: 18.7s\tremaining: 820ms\n",
      "479:\tlearn: 6.7962336\ttotal: 18.7s\tremaining: 779ms\n",
      "480:\tlearn: 6.7952311\ttotal: 18.7s\tremaining: 739ms\n",
      "481:\tlearn: 6.7937337\ttotal: 18.8s\tremaining: 702ms\n",
      "482:\tlearn: 6.7924814\ttotal: 18.8s\tremaining: 662ms\n",
      "483:\tlearn: 6.7910346\ttotal: 18.8s\tremaining: 622ms\n",
      "484:\tlearn: 6.7896151\ttotal: 18.9s\tremaining: 585ms\n",
      "485:\tlearn: 6.7885343\ttotal: 18.9s\tremaining: 545ms\n",
      "486:\tlearn: 6.7871277\ttotal: 19s\tremaining: 507ms\n",
      "487:\tlearn: 6.7856787\ttotal: 19s\tremaining: 467ms\n",
      "488:\tlearn: 6.7846190\ttotal: 19s\tremaining: 427ms\n",
      "489:\tlearn: 6.7832847\ttotal: 19.1s\tremaining: 390ms\n",
      "490:\tlearn: 6.7816991\ttotal: 19.1s\tremaining: 350ms\n",
      "491:\tlearn: 6.7803070\ttotal: 19.2s\tremaining: 312ms\n",
      "492:\tlearn: 6.7788478\ttotal: 19.2s\tremaining: 272ms\n",
      "493:\tlearn: 6.7778023\ttotal: 19.2s\tremaining: 233ms\n",
      "494:\tlearn: 6.7766728\ttotal: 19.3s\tremaining: 195ms\n",
      "495:\tlearn: 6.7757254\ttotal: 19.3s\tremaining: 156ms\n",
      "496:\tlearn: 6.7747495\ttotal: 19.4s\tremaining: 117ms\n",
      "497:\tlearn: 6.7737355\ttotal: 19.4s\tremaining: 77.9ms\n",
      "498:\tlearn: 6.7722996\ttotal: 19.5s\tremaining: 39ms\n",
      "499:\tlearn: 6.7710518\ttotal: 19.5s\tremaining: 0us\n"
     ]
    }
   ],
   "source": [
    "scores_train_final_cb = cross_val_score(model_cb, features_train, target_train_final, cv = 5, scoring=scorer)"
   ]
  },
  {
   "cell_type": "code",
   "execution_count": 81,
   "metadata": {},
   "outputs": [],
   "source": [
    "smape_final_cb = scores_train_final_cb.mean() # sMAPE для этапа конечной очистки"
   ]
  },
  {
   "cell_type": "code",
   "execution_count": 82,
   "metadata": {},
   "outputs": [],
   "source": [
    "total_smape_cb = total_sMAPE(smape_rougher_cb, smape_final_cb)"
   ]
  },
  {
   "cell_type": "code",
   "execution_count": 83,
   "metadata": {},
   "outputs": [
    {
     "name": "stdout",
     "output_type": "stream",
     "text": [
      "Значение метрики total_sMAPE для модели CatBoostRegressor: 8.123153946157371\n"
     ]
    }
   ],
   "source": [
    "print('Значение метрики total_sMAPE для модели CatBoostRegressor:', total_smape_cb)"
   ]
  },
  {
   "cell_type": "markdown",
   "metadata": {},
   "source": [
    "**Вывод.** Использование модели CatBoostRegressor позволило ещё улучшить значение итоговой метрики качества на 1,3%. Данная модель показала наилучший итоговый результат и будет проверена на тестовой выборке для рекомендации заказчику."
   ]
  },
  {
   "cell_type": "markdown",
   "metadata": {},
   "source": [
    "### Проверка на тестовой выборке"
   ]
  },
  {
   "cell_type": "markdown",
   "metadata": {},
   "source": [
    "Обучим модель CatBoostRegressor на обучающей выборке и сделаем предсказания на тестовой выборке дважды - для двух этапов очистки, после чего рассчитаем метрику качества:"
   ]
  },
  {
   "cell_type": "code",
   "execution_count": 84,
   "metadata": {},
   "outputs": [
    {
     "name": "stdout",
     "output_type": "stream",
     "text": [
      "0:\tlearn: 7.8880186\ttotal: 8.69ms\tremaining: 4.33s\n",
      "1:\tlearn: 7.8643885\ttotal: 16.7ms\tremaining: 4.16s\n",
      "2:\tlearn: 7.8404961\ttotal: 23.9ms\tremaining: 3.96s\n",
      "3:\tlearn: 7.8174209\ttotal: 115ms\tremaining: 14.3s\n",
      "4:\tlearn: 7.7945283\ttotal: 122ms\tremaining: 12s\n",
      "5:\tlearn: 7.7721442\ttotal: 215ms\tremaining: 17.7s\n",
      "6:\tlearn: 7.7500195\ttotal: 222ms\tremaining: 15.6s\n",
      "7:\tlearn: 7.7287763\ttotal: 312ms\tremaining: 19.2s\n",
      "8:\tlearn: 7.7073323\ttotal: 319ms\tremaining: 17.4s\n",
      "9:\tlearn: 7.6859528\ttotal: 412ms\tremaining: 20.2s\n",
      "10:\tlearn: 7.6649827\ttotal: 419ms\tremaining: 18.6s\n",
      "11:\tlearn: 7.6450329\ttotal: 508ms\tremaining: 20.7s\n",
      "12:\tlearn: 7.6247941\ttotal: 516ms\tremaining: 19.3s\n",
      "13:\tlearn: 7.6039440\ttotal: 606ms\tremaining: 21s\n",
      "14:\tlearn: 7.5843359\ttotal: 612ms\tremaining: 19.8s\n",
      "15:\tlearn: 7.5639039\ttotal: 618ms\tremaining: 18.7s\n",
      "16:\tlearn: 7.5440764\ttotal: 709ms\tremaining: 20.1s\n",
      "17:\tlearn: 7.5240304\ttotal: 716ms\tremaining: 19.2s\n",
      "18:\tlearn: 7.5039078\ttotal: 810ms\tremaining: 20.5s\n",
      "19:\tlearn: 7.4849190\ttotal: 816ms\tremaining: 19.6s\n",
      "20:\tlearn: 7.4666393\ttotal: 906ms\tremaining: 20.7s\n",
      "21:\tlearn: 7.4474649\ttotal: 912ms\tremaining: 19.8s\n",
      "22:\tlearn: 7.4285396\ttotal: 1s\tremaining: 20.8s\n",
      "23:\tlearn: 7.4097420\ttotal: 1.01s\tremaining: 20s\n",
      "24:\tlearn: 7.3921795\ttotal: 1.1s\tremaining: 20.9s\n",
      "25:\tlearn: 7.3754587\ttotal: 1.1s\tremaining: 20.2s\n",
      "26:\tlearn: 7.3577143\ttotal: 1.11s\tremaining: 19.5s\n",
      "27:\tlearn: 7.3411606\ttotal: 1.2s\tremaining: 20.2s\n",
      "28:\tlearn: 7.3236028\ttotal: 1.21s\tremaining: 19.6s\n",
      "29:\tlearn: 7.3058220\ttotal: 1.21s\tremaining: 19s\n",
      "30:\tlearn: 7.2886431\ttotal: 1.3s\tremaining: 19.7s\n",
      "31:\tlearn: 7.2719344\ttotal: 1.31s\tremaining: 19.1s\n",
      "32:\tlearn: 7.2528277\ttotal: 1.31s\tremaining: 18.6s\n",
      "33:\tlearn: 7.2362342\ttotal: 1.4s\tremaining: 19.2s\n",
      "34:\tlearn: 7.2192961\ttotal: 1.41s\tremaining: 18.7s\n",
      "35:\tlearn: 7.2025509\ttotal: 1.5s\tremaining: 19.3s\n",
      "36:\tlearn: 7.1861571\ttotal: 1.5s\tremaining: 18.8s\n",
      "37:\tlearn: 7.1712497\ttotal: 1.59s\tremaining: 19.4s\n",
      "38:\tlearn: 7.1547155\ttotal: 1.6s\tremaining: 18.9s\n",
      "39:\tlearn: 7.1388342\ttotal: 1.6s\tremaining: 18.5s\n",
      "40:\tlearn: 7.1237439\ttotal: 1.7s\tremaining: 19s\n",
      "41:\tlearn: 7.1079301\ttotal: 1.7s\tremaining: 18.5s\n",
      "42:\tlearn: 7.0923232\ttotal: 1.79s\tremaining: 19.1s\n",
      "43:\tlearn: 7.0773084\ttotal: 1.8s\tremaining: 18.6s\n",
      "44:\tlearn: 7.0621661\ttotal: 1.89s\tremaining: 19.1s\n",
      "45:\tlearn: 7.0483794\ttotal: 1.9s\tremaining: 18.7s\n",
      "46:\tlearn: 7.0342429\ttotal: 1.9s\tremaining: 18.3s\n",
      "47:\tlearn: 7.0198619\ttotal: 1.99s\tremaining: 18.8s\n",
      "48:\tlearn: 7.0053039\ttotal: 2s\tremaining: 18.4s\n",
      "49:\tlearn: 6.9915169\ttotal: 2.09s\tremaining: 18.8s\n",
      "50:\tlearn: 6.9778704\ttotal: 2.1s\tremaining: 18.5s\n",
      "51:\tlearn: 6.9639926\ttotal: 2.19s\tremaining: 18.9s\n",
      "52:\tlearn: 6.9478705\ttotal: 2.2s\tremaining: 18.5s\n",
      "53:\tlearn: 6.9318629\ttotal: 2.2s\tremaining: 18.2s\n",
      "54:\tlearn: 6.9186663\ttotal: 2.29s\tremaining: 18.5s\n",
      "55:\tlearn: 6.9048703\ttotal: 2.3s\tremaining: 18.2s\n",
      "56:\tlearn: 6.8910503\ttotal: 2.39s\tremaining: 18.6s\n",
      "57:\tlearn: 6.8786489\ttotal: 2.4s\tremaining: 18.3s\n",
      "58:\tlearn: 6.8658407\ttotal: 2.48s\tremaining: 18.6s\n",
      "59:\tlearn: 6.8526226\ttotal: 2.49s\tremaining: 18.3s\n",
      "60:\tlearn: 6.8387735\ttotal: 2.58s\tremaining: 18.6s\n",
      "61:\tlearn: 6.8264501\ttotal: 2.59s\tremaining: 18.3s\n",
      "62:\tlearn: 6.8139491\ttotal: 2.59s\tremaining: 18s\n",
      "63:\tlearn: 6.8015164\ttotal: 2.69s\tremaining: 18.3s\n",
      "64:\tlearn: 6.7870724\ttotal: 2.69s\tremaining: 18s\n",
      "65:\tlearn: 6.7728116\ttotal: 2.78s\tremaining: 18.3s\n",
      "66:\tlearn: 6.7603508\ttotal: 2.79s\tremaining: 18s\n",
      "67:\tlearn: 6.7493118\ttotal: 2.79s\tremaining: 17.8s\n",
      "68:\tlearn: 6.7357735\ttotal: 2.88s\tremaining: 18s\n",
      "69:\tlearn: 6.7242760\ttotal: 2.89s\tremaining: 17.8s\n",
      "70:\tlearn: 6.7125232\ttotal: 2.98s\tremaining: 18s\n",
      "71:\tlearn: 6.6992171\ttotal: 2.99s\tremaining: 17.8s\n",
      "72:\tlearn: 6.6857730\ttotal: 3.08s\tremaining: 18s\n",
      "73:\tlearn: 6.6730469\ttotal: 3.09s\tremaining: 17.8s\n",
      "74:\tlearn: 6.6599645\ttotal: 3.1s\tremaining: 17.5s\n",
      "75:\tlearn: 6.6476946\ttotal: 3.18s\tremaining: 17.7s\n",
      "76:\tlearn: 6.6356087\ttotal: 3.19s\tremaining: 17.5s\n",
      "77:\tlearn: 6.6232664\ttotal: 3.28s\tremaining: 17.7s\n",
      "78:\tlearn: 6.6120318\ttotal: 3.29s\tremaining: 17.5s\n",
      "79:\tlearn: 6.5997100\ttotal: 3.37s\tremaining: 17.7s\n",
      "80:\tlearn: 6.5891998\ttotal: 3.38s\tremaining: 17.5s\n",
      "81:\tlearn: 6.5767295\ttotal: 3.39s\tremaining: 17.3s\n",
      "82:\tlearn: 6.5651107\ttotal: 3.48s\tremaining: 17.5s\n",
      "83:\tlearn: 6.5551488\ttotal: 3.49s\tremaining: 17.3s\n",
      "84:\tlearn: 6.5436822\ttotal: 3.57s\tremaining: 17.4s\n",
      "85:\tlearn: 6.5333542\ttotal: 3.58s\tremaining: 17.2s\n",
      "86:\tlearn: 6.5237872\ttotal: 3.67s\tremaining: 17.4s\n",
      "87:\tlearn: 6.5120467\ttotal: 3.68s\tremaining: 17.2s\n",
      "88:\tlearn: 6.5005623\ttotal: 3.68s\tremaining: 17s\n",
      "89:\tlearn: 6.4890508\ttotal: 3.78s\tremaining: 17.2s\n",
      "90:\tlearn: 6.4781096\ttotal: 3.79s\tremaining: 17s\n",
      "91:\tlearn: 6.4675671\ttotal: 3.8s\tremaining: 16.8s\n",
      "92:\tlearn: 6.4567770\ttotal: 3.87s\tremaining: 17s\n",
      "93:\tlearn: 6.4470877\ttotal: 3.88s\tremaining: 16.8s\n",
      "94:\tlearn: 6.4371079\ttotal: 3.97s\tremaining: 16.9s\n",
      "95:\tlearn: 6.4275714\ttotal: 3.98s\tremaining: 16.7s\n",
      "96:\tlearn: 6.4183066\ttotal: 3.98s\tremaining: 16.6s\n",
      "97:\tlearn: 6.4089738\ttotal: 4.07s\tremaining: 16.7s\n",
      "98:\tlearn: 6.3985954\ttotal: 4.08s\tremaining: 16.5s\n",
      "99:\tlearn: 6.3889377\ttotal: 4.17s\tremaining: 16.7s\n",
      "100:\tlearn: 6.3805162\ttotal: 4.17s\tremaining: 16.5s\n",
      "101:\tlearn: 6.3716998\ttotal: 4.18s\tremaining: 16.3s\n",
      "102:\tlearn: 6.3634463\ttotal: 4.28s\tremaining: 16.5s\n",
      "103:\tlearn: 6.3532922\ttotal: 4.28s\tremaining: 16.3s\n",
      "104:\tlearn: 6.3438238\ttotal: 4.36s\tremaining: 16.4s\n",
      "105:\tlearn: 6.3358283\ttotal: 4.37s\tremaining: 16.3s\n",
      "106:\tlearn: 6.3260564\ttotal: 4.38s\tremaining: 16.1s\n",
      "107:\tlearn: 6.3162301\ttotal: 4.39s\tremaining: 15.9s\n",
      "108:\tlearn: 6.3064032\ttotal: 4.4s\tremaining: 15.8s\n",
      "109:\tlearn: 6.2981355\ttotal: 4.48s\tremaining: 15.9s\n",
      "110:\tlearn: 6.2885863\ttotal: 4.49s\tremaining: 15.7s\n",
      "111:\tlearn: 6.2796132\ttotal: 4.58s\tremaining: 15.9s\n",
      "112:\tlearn: 6.2704399\ttotal: 4.59s\tremaining: 15.7s\n",
      "113:\tlearn: 6.2624241\ttotal: 4.68s\tremaining: 15.8s\n",
      "114:\tlearn: 6.2537103\ttotal: 4.68s\tremaining: 15.7s\n",
      "115:\tlearn: 6.2457855\ttotal: 4.69s\tremaining: 15.5s\n",
      "116:\tlearn: 6.2375784\ttotal: 4.77s\tremaining: 15.6s\n",
      "117:\tlearn: 6.2288926\ttotal: 4.78s\tremaining: 15.5s\n",
      "118:\tlearn: 6.2200550\ttotal: 4.79s\tremaining: 15.3s\n",
      "119:\tlearn: 6.2117737\ttotal: 4.87s\tremaining: 15.4s\n",
      "120:\tlearn: 6.2032567\ttotal: 4.88s\tremaining: 15.3s\n",
      "121:\tlearn: 6.1955723\ttotal: 4.97s\tremaining: 15.4s\n",
      "122:\tlearn: 6.1869743\ttotal: 4.98s\tremaining: 15.3s\n",
      "123:\tlearn: 6.1788953\ttotal: 5.07s\tremaining: 15.4s\n",
      "124:\tlearn: 6.1705581\ttotal: 5.07s\tremaining: 15.2s\n",
      "125:\tlearn: 6.1627445\ttotal: 5.08s\tremaining: 15.1s\n",
      "126:\tlearn: 6.1555339\ttotal: 5.17s\tremaining: 15.2s\n",
      "127:\tlearn: 6.1485549\ttotal: 5.18s\tremaining: 15s\n",
      "128:\tlearn: 6.1409464\ttotal: 5.26s\tremaining: 15.1s\n",
      "129:\tlearn: 6.1335869\ttotal: 5.27s\tremaining: 15s\n",
      "130:\tlearn: 6.1261487\ttotal: 5.28s\tremaining: 14.9s\n",
      "131:\tlearn: 6.1180900\ttotal: 5.38s\tremaining: 15s\n",
      "132:\tlearn: 6.1104238\ttotal: 5.39s\tremaining: 14.9s\n",
      "133:\tlearn: 6.1034985\ttotal: 5.46s\tremaining: 14.9s\n",
      "134:\tlearn: 6.0958908\ttotal: 5.46s\tremaining: 14.8s\n",
      "135:\tlearn: 6.0882448\ttotal: 5.47s\tremaining: 14.6s\n",
      "136:\tlearn: 6.0811015\ttotal: 5.56s\tremaining: 14.7s\n",
      "137:\tlearn: 6.0740121\ttotal: 5.57s\tremaining: 14.6s\n",
      "138:\tlearn: 6.0664477\ttotal: 5.66s\tremaining: 14.7s\n",
      "139:\tlearn: 6.0589142\ttotal: 5.66s\tremaining: 14.6s\n",
      "140:\tlearn: 6.0527925\ttotal: 5.67s\tremaining: 14.4s\n",
      "141:\tlearn: 6.0464210\ttotal: 5.76s\tremaining: 14.5s\n",
      "142:\tlearn: 6.0395101\ttotal: 5.76s\tremaining: 14.4s\n",
      "143:\tlearn: 6.0329000\ttotal: 5.85s\tremaining: 14.5s\n",
      "144:\tlearn: 6.0257968\ttotal: 5.86s\tremaining: 14.3s\n",
      "145:\tlearn: 6.0187753\ttotal: 5.87s\tremaining: 14.2s\n",
      "146:\tlearn: 6.0120710\ttotal: 5.95s\tremaining: 14.3s\n",
      "147:\tlearn: 6.0055623\ttotal: 5.96s\tremaining: 14.2s\n",
      "148:\tlearn: 5.9996209\ttotal: 5.96s\tremaining: 14s\n",
      "149:\tlearn: 5.9928609\ttotal: 6.06s\tremaining: 14.1s\n",
      "150:\tlearn: 5.9866241\ttotal: 6.07s\tremaining: 14s\n",
      "151:\tlearn: 5.9807692\ttotal: 6.08s\tremaining: 13.9s\n",
      "152:\tlearn: 5.9745470\ttotal: 6.16s\tremaining: 14s\n",
      "153:\tlearn: 5.9683020\ttotal: 6.16s\tremaining: 13.8s\n",
      "154:\tlearn: 5.9616492\ttotal: 6.25s\tremaining: 13.9s\n",
      "155:\tlearn: 5.9558868\ttotal: 6.25s\tremaining: 13.8s\n",
      "156:\tlearn: 5.9493497\ttotal: 6.26s\tremaining: 13.7s\n",
      "157:\tlearn: 5.9437248\ttotal: 6.35s\tremaining: 13.7s\n",
      "158:\tlearn: 5.9376318\ttotal: 6.35s\tremaining: 13.6s\n",
      "159:\tlearn: 5.9318770\ttotal: 6.44s\tremaining: 13.7s\n",
      "160:\tlearn: 5.9261965\ttotal: 6.45s\tremaining: 13.6s\n",
      "161:\tlearn: 5.9205816\ttotal: 6.54s\tremaining: 13.6s\n",
      "162:\tlearn: 5.9137863\ttotal: 6.55s\tremaining: 13.5s\n",
      "163:\tlearn: 5.9086383\ttotal: 6.55s\tremaining: 13.4s\n",
      "164:\tlearn: 5.9026725\ttotal: 6.64s\tremaining: 13.5s\n",
      "165:\tlearn: 5.8964765\ttotal: 6.65s\tremaining: 13.4s\n",
      "166:\tlearn: 5.8912137\ttotal: 6.74s\tremaining: 13.4s\n",
      "167:\tlearn: 5.8857725\ttotal: 6.75s\tremaining: 13.3s\n",
      "168:\tlearn: 5.8807950\ttotal: 6.76s\tremaining: 13.2s\n",
      "169:\tlearn: 5.8747959\ttotal: 6.84s\tremaining: 13.3s\n",
      "170:\tlearn: 5.8695969\ttotal: 6.85s\tremaining: 13.2s\n",
      "171:\tlearn: 5.8639184\ttotal: 6.94s\tremaining: 13.2s\n",
      "172:\tlearn: 5.8586901\ttotal: 6.94s\tremaining: 13.1s\n",
      "173:\tlearn: 5.8526239\ttotal: 7.03s\tremaining: 13.2s\n",
      "174:\tlearn: 5.8473730\ttotal: 7.04s\tremaining: 13.1s\n",
      "175:\tlearn: 5.8420584\ttotal: 7.05s\tremaining: 13s\n",
      "176:\tlearn: 5.8368052\ttotal: 7.14s\tremaining: 13s\n",
      "177:\tlearn: 5.8312628\ttotal: 7.15s\tremaining: 12.9s\n",
      "178:\tlearn: 5.8262694\ttotal: 7.23s\tremaining: 13s\n",
      "179:\tlearn: 5.8209815\ttotal: 7.24s\tremaining: 12.9s\n",
      "180:\tlearn: 5.8158162\ttotal: 7.25s\tremaining: 12.8s\n",
      "181:\tlearn: 5.8107192\ttotal: 7.33s\tremaining: 12.8s\n",
      "182:\tlearn: 5.8057607\ttotal: 7.34s\tremaining: 12.7s\n",
      "183:\tlearn: 5.8007609\ttotal: 7.43s\tremaining: 12.8s\n",
      "184:\tlearn: 5.7954710\ttotal: 7.44s\tremaining: 12.7s\n",
      "185:\tlearn: 5.7907214\ttotal: 7.45s\tremaining: 12.6s\n",
      "186:\tlearn: 5.7859055\ttotal: 7.53s\tremaining: 12.6s\n",
      "187:\tlearn: 5.7812320\ttotal: 7.54s\tremaining: 12.5s\n",
      "188:\tlearn: 5.7764655\ttotal: 7.54s\tremaining: 12.4s\n",
      "189:\tlearn: 5.7714968\ttotal: 7.63s\tremaining: 12.5s\n",
      "190:\tlearn: 5.7664145\ttotal: 7.64s\tremaining: 12.4s\n",
      "191:\tlearn: 5.7616401\ttotal: 7.73s\tremaining: 12.4s\n",
      "192:\tlearn: 5.7569583\ttotal: 7.74s\tremaining: 12.3s\n",
      "193:\tlearn: 5.7520374\ttotal: 7.83s\tremaining: 12.3s\n",
      "194:\tlearn: 5.7476175\ttotal: 7.83s\tremaining: 12.3s\n",
      "195:\tlearn: 5.7433801\ttotal: 7.84s\tremaining: 12.2s\n",
      "196:\tlearn: 5.7384537\ttotal: 7.93s\tremaining: 12.2s\n",
      "197:\tlearn: 5.7331813\ttotal: 7.93s\tremaining: 12.1s\n",
      "198:\tlearn: 5.7286307\ttotal: 8.03s\tremaining: 12.2s\n",
      "199:\tlearn: 5.7239048\ttotal: 8.04s\tremaining: 12.1s\n",
      "200:\tlearn: 5.7198448\ttotal: 8.12s\tremaining: 12.1s\n",
      "201:\tlearn: 5.7148823\ttotal: 8.13s\tremaining: 12s\n",
      "202:\tlearn: 5.7106612\ttotal: 8.22s\tremaining: 12s\n",
      "203:\tlearn: 5.7066911\ttotal: 8.23s\tremaining: 11.9s\n",
      "204:\tlearn: 5.7027515\ttotal: 8.32s\tremaining: 12s\n",
      "205:\tlearn: 5.6979152\ttotal: 8.33s\tremaining: 11.9s\n",
      "206:\tlearn: 5.6929548\ttotal: 8.33s\tremaining: 11.8s\n",
      "207:\tlearn: 5.6889487\ttotal: 8.42s\tremaining: 11.8s\n",
      "208:\tlearn: 5.6847957\ttotal: 8.43s\tremaining: 11.7s\n",
      "209:\tlearn: 5.6807426\ttotal: 8.52s\tremaining: 11.8s\n",
      "210:\tlearn: 5.6768721\ttotal: 8.53s\tremaining: 11.7s\n",
      "211:\tlearn: 5.6724541\ttotal: 8.62s\tremaining: 11.7s\n",
      "212:\tlearn: 5.6679671\ttotal: 8.62s\tremaining: 11.6s\n",
      "213:\tlearn: 5.6638759\ttotal: 8.63s\tremaining: 11.5s\n",
      "214:\tlearn: 5.6600533\ttotal: 8.72s\tremaining: 11.6s\n",
      "215:\tlearn: 5.6560999\ttotal: 8.73s\tremaining: 11.5s\n",
      "216:\tlearn: 5.6522842\ttotal: 8.82s\tremaining: 11.5s\n",
      "217:\tlearn: 5.6487846\ttotal: 8.83s\tremaining: 11.4s\n",
      "218:\tlearn: 5.6445743\ttotal: 8.91s\tremaining: 11.4s\n",
      "219:\tlearn: 5.6407657\ttotal: 8.92s\tremaining: 11.4s\n",
      "220:\tlearn: 5.6371060\ttotal: 8.93s\tremaining: 11.3s\n",
      "221:\tlearn: 5.6330869\ttotal: 9.02s\tremaining: 11.3s\n",
      "222:\tlearn: 5.6293312\ttotal: 9.02s\tremaining: 11.2s\n",
      "223:\tlearn: 5.6256765\ttotal: 9.11s\tremaining: 11.2s\n",
      "224:\tlearn: 5.6216792\ttotal: 9.12s\tremaining: 11.1s\n",
      "225:\tlearn: 5.6177107\ttotal: 9.13s\tremaining: 11.1s\n",
      "226:\tlearn: 5.6143776\ttotal: 9.21s\tremaining: 11.1s\n",
      "227:\tlearn: 5.6108051\ttotal: 9.22s\tremaining: 11s\n",
      "228:\tlearn: 5.6074255\ttotal: 9.31s\tremaining: 11s\n",
      "229:\tlearn: 5.6036783\ttotal: 9.31s\tremaining: 10.9s\n",
      "230:\tlearn: 5.6000674\ttotal: 9.32s\tremaining: 10.9s\n",
      "231:\tlearn: 5.5959403\ttotal: 9.41s\tremaining: 10.9s\n",
      "232:\tlearn: 5.5921019\ttotal: 9.42s\tremaining: 10.8s\n",
      "233:\tlearn: 5.5883570\ttotal: 9.51s\tremaining: 10.8s\n",
      "234:\tlearn: 5.5838834\ttotal: 9.51s\tremaining: 10.7s\n",
      "235:\tlearn: 5.5804424\ttotal: 9.52s\tremaining: 10.6s\n",
      "236:\tlearn: 5.5769546\ttotal: 9.61s\tremaining: 10.7s\n",
      "237:\tlearn: 5.5736641\ttotal: 9.62s\tremaining: 10.6s\n",
      "238:\tlearn: 5.5703532\ttotal: 9.7s\tremaining: 10.6s\n",
      "239:\tlearn: 5.5667245\ttotal: 9.71s\tremaining: 10.5s\n",
      "240:\tlearn: 5.5635809\ttotal: 9.72s\tremaining: 10.4s\n",
      "241:\tlearn: 5.5603684\ttotal: 9.8s\tremaining: 10.5s\n",
      "242:\tlearn: 5.5570274\ttotal: 9.81s\tremaining: 10.4s\n",
      "243:\tlearn: 5.5533833\ttotal: 9.9s\tremaining: 10.4s\n",
      "244:\tlearn: 5.5506774\ttotal: 9.91s\tremaining: 10.3s\n",
      "245:\tlearn: 5.5473461\ttotal: 10s\tremaining: 10.3s\n",
      "246:\tlearn: 5.5439240\ttotal: 10s\tremaining: 10.2s\n",
      "247:\tlearn: 5.5404065\ttotal: 10s\tremaining: 10.2s\n",
      "248:\tlearn: 5.5371703\ttotal: 10.1s\tremaining: 10.2s\n",
      "249:\tlearn: 5.5342494\ttotal: 10.1s\tremaining: 10.1s\n",
      "250:\tlearn: 5.5312281\ttotal: 10.2s\tremaining: 10.1s\n",
      "251:\tlearn: 5.5279495\ttotal: 10.2s\tremaining: 10s\n",
      "252:\tlearn: 5.5245690\ttotal: 10.3s\tremaining: 10.1s\n",
      "253:\tlearn: 5.5210381\ttotal: 10.3s\tremaining: 9.97s\n",
      "254:\tlearn: 5.5180016\ttotal: 10.3s\tremaining: 9.9s\n",
      "255:\tlearn: 5.5149967\ttotal: 10.4s\tremaining: 9.91s\n",
      "256:\tlearn: 5.5115551\ttotal: 10.4s\tremaining: 9.84s\n",
      "257:\tlearn: 5.5086257\ttotal: 10.5s\tremaining: 9.84s\n",
      "258:\tlearn: 5.5052586\ttotal: 10.5s\tremaining: 9.77s\n",
      "259:\tlearn: 5.5022478\ttotal: 10.6s\tremaining: 9.78s\n",
      "260:\tlearn: 5.4990090\ttotal: 10.6s\tremaining: 9.7s\n",
      "261:\tlearn: 5.4954939\ttotal: 10.6s\tremaining: 9.63s\n",
      "262:\tlearn: 5.4926414\ttotal: 10.7s\tremaining: 9.63s\n",
      "263:\tlearn: 5.4897683\ttotal: 10.7s\tremaining: 9.56s\n",
      "264:\tlearn: 5.4867118\ttotal: 10.8s\tremaining: 9.57s\n",
      "265:\tlearn: 5.4838320\ttotal: 10.8s\tremaining: 9.5s\n",
      "266:\tlearn: 5.4806731\ttotal: 10.9s\tremaining: 9.5s\n",
      "267:\tlearn: 5.4779773\ttotal: 10.9s\tremaining: 9.43s\n",
      "268:\tlearn: 5.4750719\ttotal: 10.9s\tremaining: 9.36s\n",
      "269:\tlearn: 5.4721113\ttotal: 11s\tremaining: 9.36s\n",
      "270:\tlearn: 5.4693853\ttotal: 11s\tremaining: 9.29s\n",
      "271:\tlearn: 5.4659608\ttotal: 11.1s\tremaining: 9.29s\n",
      "272:\tlearn: 5.4633337\ttotal: 11.1s\tremaining: 9.22s\n",
      "273:\tlearn: 5.4604692\ttotal: 11.1s\tremaining: 9.15s\n",
      "274:\tlearn: 5.4577903\ttotal: 11.2s\tremaining: 9.15s\n",
      "275:\tlearn: 5.4552220\ttotal: 11.2s\tremaining: 9.09s\n",
      "276:\tlearn: 5.4526810\ttotal: 11.3s\tremaining: 9.08s\n",
      "277:\tlearn: 5.4496747\ttotal: 11.3s\tremaining: 9.02s\n",
      "278:\tlearn: 5.4469686\ttotal: 11.4s\tremaining: 9.02s\n",
      "279:\tlearn: 5.4446503\ttotal: 11.4s\tremaining: 8.95s\n",
      "280:\tlearn: 5.4418170\ttotal: 11.4s\tremaining: 8.88s\n",
      "281:\tlearn: 5.4384966\ttotal: 11.5s\tremaining: 8.88s\n",
      "282:\tlearn: 5.4359393\ttotal: 11.5s\tremaining: 8.81s\n",
      "283:\tlearn: 5.4325778\ttotal: 11.6s\tremaining: 8.81s\n",
      "284:\tlearn: 5.4299954\ttotal: 11.6s\tremaining: 8.74s\n",
      "285:\tlearn: 5.4276649\ttotal: 11.7s\tremaining: 8.74s\n",
      "286:\tlearn: 5.4246628\ttotal: 11.7s\tremaining: 8.67s\n",
      "287:\tlearn: 5.4218165\ttotal: 11.7s\tremaining: 8.61s\n",
      "288:\tlearn: 5.4190923\ttotal: 11.8s\tremaining: 8.6s\n",
      "289:\tlearn: 5.4164587\ttotal: 11.8s\tremaining: 8.54s\n",
      "290:\tlearn: 5.4140460\ttotal: 11.9s\tremaining: 8.53s\n",
      "291:\tlearn: 5.4116473\ttotal: 11.9s\tremaining: 8.47s\n",
      "292:\tlearn: 5.4090822\ttotal: 12s\tremaining: 8.46s\n",
      "293:\tlearn: 5.4065039\ttotal: 12s\tremaining: 8.4s\n",
      "294:\tlearn: 5.4045258\ttotal: 12s\tremaining: 8.33s\n",
      "295:\tlearn: 5.4017911\ttotal: 12.1s\tremaining: 8.32s\n",
      "296:\tlearn: 5.3994474\ttotal: 12.1s\tremaining: 8.26s\n",
      "297:\tlearn: 5.3969296\ttotal: 12.2s\tremaining: 8.25s\n",
      "298:\tlearn: 5.3941909\ttotal: 12.2s\tremaining: 8.19s\n",
      "299:\tlearn: 5.3916044\ttotal: 12.2s\tremaining: 8.12s\n",
      "300:\tlearn: 5.3890160\ttotal: 12.3s\tremaining: 8.12s\n",
      "301:\tlearn: 5.3870620\ttotal: 12.3s\tremaining: 8.05s\n",
      "302:\tlearn: 5.3846865\ttotal: 12.4s\tremaining: 8.04s\n",
      "303:\tlearn: 5.3821989\ttotal: 12.4s\tremaining: 7.98s\n",
      "304:\tlearn: 5.3794601\ttotal: 12.4s\tremaining: 7.92s\n",
      "305:\tlearn: 5.3770726\ttotal: 12.5s\tremaining: 7.91s\n",
      "306:\tlearn: 5.3748327\ttotal: 12.5s\tremaining: 7.85s\n",
      "307:\tlearn: 5.3723846\ttotal: 12.6s\tremaining: 7.84s\n",
      "308:\tlearn: 5.3699750\ttotal: 12.6s\tremaining: 7.77s\n",
      "309:\tlearn: 5.3676073\ttotal: 12.7s\tremaining: 7.76s\n",
      "310:\tlearn: 5.3655466\ttotal: 12.7s\tremaining: 7.7s\n",
      "311:\tlearn: 5.3626726\ttotal: 12.7s\tremaining: 7.64s\n",
      "312:\tlearn: 5.3607375\ttotal: 12.8s\tremaining: 7.63s\n",
      "313:\tlearn: 5.3584883\ttotal: 12.8s\tremaining: 7.57s\n",
      "314:\tlearn: 5.3563491\ttotal: 12.8s\tremaining: 7.5s\n",
      "315:\tlearn: 5.3542361\ttotal: 12.9s\tremaining: 7.49s\n",
      "316:\tlearn: 5.3521101\ttotal: 12.9s\tremaining: 7.43s\n",
      "317:\tlearn: 5.3497981\ttotal: 13s\tremaining: 7.42s\n",
      "318:\tlearn: 5.3470201\ttotal: 13s\tremaining: 7.36s\n",
      "319:\tlearn: 5.3445292\ttotal: 13s\tremaining: 7.3s\n",
      "320:\tlearn: 5.3419977\ttotal: 13.1s\tremaining: 7.29s\n",
      "321:\tlearn: 5.3401611\ttotal: 13.1s\tremaining: 7.23s\n",
      "322:\tlearn: 5.3382121\ttotal: 13.2s\tremaining: 7.21s\n",
      "323:\tlearn: 5.3356118\ttotal: 13.2s\tremaining: 7.15s\n",
      "324:\tlearn: 5.3335494\ttotal: 13.2s\tremaining: 7.09s\n",
      "325:\tlearn: 5.3314918\ttotal: 13.3s\tremaining: 7.08s\n",
      "326:\tlearn: 5.3296736\ttotal: 13.3s\tremaining: 7.02s\n",
      "327:\tlearn: 5.3278207\ttotal: 13.4s\tremaining: 7.01s\n",
      "328:\tlearn: 5.3256229\ttotal: 13.4s\tremaining: 6.95s\n",
      "329:\tlearn: 5.3238519\ttotal: 13.4s\tremaining: 6.89s\n",
      "330:\tlearn: 5.3216296\ttotal: 13.5s\tremaining: 6.87s\n",
      "331:\tlearn: 5.3197055\ttotal: 13.5s\tremaining: 6.82s\n",
      "332:\tlearn: 5.3179527\ttotal: 13.6s\tremaining: 6.8s\n",
      "333:\tlearn: 5.3161848\ttotal: 13.6s\tremaining: 6.74s\n",
      "334:\tlearn: 5.3140035\ttotal: 13.6s\tremaining: 6.68s\n",
      "335:\tlearn: 5.3118559\ttotal: 13.7s\tremaining: 6.67s\n",
      "336:\tlearn: 5.3100768\ttotal: 13.7s\tremaining: 6.61s\n",
      "337:\tlearn: 5.3076146\ttotal: 13.8s\tremaining: 6.59s\n",
      "338:\tlearn: 5.3054155\ttotal: 13.8s\tremaining: 6.54s\n",
      "339:\tlearn: 5.3036759\ttotal: 13.8s\tremaining: 6.48s\n",
      "340:\tlearn: 5.3016777\ttotal: 13.9s\tremaining: 6.46s\n",
      "341:\tlearn: 5.2991696\ttotal: 13.9s\tremaining: 6.41s\n",
      "342:\tlearn: 5.2967666\ttotal: 14s\tremaining: 6.39s\n",
      "343:\tlearn: 5.2950409\ttotal: 14s\tremaining: 6.33s\n",
      "344:\tlearn: 5.2932318\ttotal: 14.1s\tremaining: 6.31s\n",
      "345:\tlearn: 5.2915114\ttotal: 14.1s\tremaining: 6.26s\n",
      "346:\tlearn: 5.2897179\ttotal: 14.1s\tremaining: 6.2s\n",
      "347:\tlearn: 5.2870321\ttotal: 14.2s\tremaining: 6.18s\n",
      "348:\tlearn: 5.2852163\ttotal: 14.2s\tremaining: 6.13s\n",
      "349:\tlearn: 5.2833180\ttotal: 14.3s\tremaining: 6.11s\n",
      "350:\tlearn: 5.2812428\ttotal: 14.3s\tremaining: 6.05s\n",
      "351:\tlearn: 5.2790631\ttotal: 14.3s\tremaining: 6s\n",
      "352:\tlearn: 5.2770057\ttotal: 14.4s\tremaining: 5.98s\n",
      "353:\tlearn: 5.2749263\ttotal: 14.4s\tremaining: 5.92s\n",
      "354:\tlearn: 5.2727638\ttotal: 14.4s\tremaining: 5.9s\n",
      "355:\tlearn: 5.2702959\ttotal: 14.5s\tremaining: 5.85s\n",
      "356:\tlearn: 5.2685951\ttotal: 14.5s\tremaining: 5.83s\n",
      "357:\tlearn: 5.2664003\ttotal: 14.6s\tremaining: 5.77s\n",
      "358:\tlearn: 5.2647357\ttotal: 14.6s\tremaining: 5.72s\n",
      "359:\tlearn: 5.2628324\ttotal: 14.6s\tremaining: 5.7s\n",
      "360:\tlearn: 5.2612508\ttotal: 14.7s\tremaining: 5.64s\n",
      "361:\tlearn: 5.2591729\ttotal: 14.7s\tremaining: 5.62s\n",
      "362:\tlearn: 5.2569253\ttotal: 14.8s\tremaining: 5.57s\n",
      "363:\tlearn: 5.2553499\ttotal: 14.8s\tremaining: 5.51s\n",
      "364:\tlearn: 5.2537244\ttotal: 14.9s\tremaining: 5.5s\n",
      "365:\tlearn: 5.2520520\ttotal: 14.9s\tremaining: 5.45s\n",
      "366:\tlearn: 5.2505134\ttotal: 14.9s\tremaining: 5.42s\n",
      "367:\tlearn: 5.2486559\ttotal: 15s\tremaining: 5.36s\n",
      "368:\tlearn: 5.2471209\ttotal: 15s\tremaining: 5.34s\n",
      "369:\tlearn: 5.2452222\ttotal: 15.1s\tremaining: 5.29s\n",
      "370:\tlearn: 5.2432666\ttotal: 15.1s\tremaining: 5.24s\n",
      "371:\tlearn: 5.2412198\ttotal: 15.1s\tremaining: 5.21s\n",
      "372:\tlearn: 5.2391675\ttotal: 15.2s\tremaining: 5.16s\n",
      "373:\tlearn: 5.2368047\ttotal: 15.2s\tremaining: 5.13s\n",
      "374:\tlearn: 5.2349610\ttotal: 15.2s\tremaining: 5.08s\n",
      "375:\tlearn: 5.2331920\ttotal: 15.3s\tremaining: 5.03s\n",
      "376:\tlearn: 5.2313600\ttotal: 15.3s\tremaining: 5.01s\n",
      "377:\tlearn: 5.2296891\ttotal: 15.3s\tremaining: 4.95s\n",
      "378:\tlearn: 5.2280706\ttotal: 15.4s\tremaining: 4.93s\n",
      "379:\tlearn: 5.2257290\ttotal: 15.4s\tremaining: 4.88s\n",
      "380:\tlearn: 5.2236148\ttotal: 15.5s\tremaining: 4.85s\n",
      "381:\tlearn: 5.2219553\ttotal: 15.5s\tremaining: 4.8s\n",
      "382:\tlearn: 5.2200158\ttotal: 15.6s\tremaining: 4.75s\n",
      "383:\tlearn: 5.2179943\ttotal: 15.6s\tremaining: 4.72s\n",
      "384:\tlearn: 5.2163932\ttotal: 15.6s\tremaining: 4.67s\n",
      "385:\tlearn: 5.2148255\ttotal: 15.6s\tremaining: 4.62s\n",
      "386:\tlearn: 5.2126773\ttotal: 15.7s\tremaining: 4.59s\n",
      "387:\tlearn: 5.2112596\ttotal: 15.7s\tremaining: 4.54s\n",
      "388:\tlearn: 5.2097373\ttotal: 15.8s\tremaining: 4.52s\n",
      "389:\tlearn: 5.2076537\ttotal: 15.8s\tremaining: 4.47s\n",
      "390:\tlearn: 5.2054458\ttotal: 15.8s\tremaining: 4.42s\n",
      "391:\tlearn: 5.2037264\ttotal: 15.9s\tremaining: 4.39s\n",
      "392:\tlearn: 5.2018263\ttotal: 15.9s\tremaining: 4.34s\n",
      "393:\tlearn: 5.1998102\ttotal: 16s\tremaining: 4.31s\n",
      "394:\tlearn: 5.1983794\ttotal: 16s\tremaining: 4.26s\n",
      "395:\tlearn: 5.1965488\ttotal: 16s\tremaining: 4.21s\n",
      "396:\tlearn: 5.1952695\ttotal: 16.1s\tremaining: 4.18s\n",
      "397:\tlearn: 5.1932816\ttotal: 16.1s\tremaining: 4.14s\n",
      "398:\tlearn: 5.1915741\ttotal: 16.2s\tremaining: 4.11s\n",
      "399:\tlearn: 5.1897147\ttotal: 16.2s\tremaining: 4.06s\n",
      "400:\tlearn: 5.1878309\ttotal: 16.2s\tremaining: 4.01s\n",
      "401:\tlearn: 5.1862269\ttotal: 16.3s\tremaining: 3.98s\n",
      "402:\tlearn: 5.1845752\ttotal: 16.3s\tremaining: 3.93s\n",
      "403:\tlearn: 5.1828887\ttotal: 16.4s\tremaining: 3.9s\n",
      "404:\tlearn: 5.1817575\ttotal: 16.4s\tremaining: 3.85s\n",
      "405:\tlearn: 5.1803620\ttotal: 16.4s\tremaining: 3.8s\n",
      "406:\tlearn: 5.1789237\ttotal: 16.5s\tremaining: 3.78s\n",
      "407:\tlearn: 5.1771798\ttotal: 16.5s\tremaining: 3.73s\n",
      "408:\tlearn: 5.1753156\ttotal: 16.6s\tremaining: 3.7s\n",
      "409:\tlearn: 5.1736537\ttotal: 16.6s\tremaining: 3.65s\n",
      "410:\tlearn: 5.1723614\ttotal: 16.6s\tremaining: 3.6s\n",
      "411:\tlearn: 5.1703629\ttotal: 16.7s\tremaining: 3.57s\n",
      "412:\tlearn: 5.1685908\ttotal: 16.7s\tremaining: 3.52s\n",
      "413:\tlearn: 5.1674582\ttotal: 16.7s\tremaining: 3.48s\n",
      "414:\tlearn: 5.1656187\ttotal: 16.8s\tremaining: 3.44s\n",
      "415:\tlearn: 5.1640650\ttotal: 16.8s\tremaining: 3.4s\n",
      "416:\tlearn: 5.1623522\ttotal: 16.8s\tremaining: 3.35s\n",
      "417:\tlearn: 5.1603802\ttotal: 16.9s\tremaining: 3.32s\n",
      "418:\tlearn: 5.1589995\ttotal: 16.9s\tremaining: 3.27s\n",
      "419:\tlearn: 5.1573328\ttotal: 17s\tremaining: 3.24s\n",
      "420:\tlearn: 5.1556394\ttotal: 17s\tremaining: 3.19s\n",
      "421:\tlearn: 5.1537627\ttotal: 17s\tremaining: 3.15s\n",
      "422:\tlearn: 5.1524863\ttotal: 17.1s\tremaining: 3.12s\n",
      "423:\tlearn: 5.1508613\ttotal: 17.1s\tremaining: 3.07s\n",
      "424:\tlearn: 5.1495986\ttotal: 17.2s\tremaining: 3.04s\n",
      "425:\tlearn: 5.1483528\ttotal: 17.2s\tremaining: 2.99s\n",
      "426:\tlearn: 5.1467987\ttotal: 17.2s\tremaining: 2.94s\n",
      "427:\tlearn: 5.1454654\ttotal: 17.3s\tremaining: 2.91s\n",
      "428:\tlearn: 5.1442203\ttotal: 17.3s\tremaining: 2.87s\n",
      "429:\tlearn: 5.1422411\ttotal: 17.3s\tremaining: 2.82s\n",
      "430:\tlearn: 5.1404095\ttotal: 17.4s\tremaining: 2.79s\n",
      "431:\tlearn: 5.1385630\ttotal: 17.4s\tremaining: 2.74s\n",
      "432:\tlearn: 5.1368728\ttotal: 17.5s\tremaining: 2.71s\n",
      "433:\tlearn: 5.1354841\ttotal: 17.5s\tremaining: 2.66s\n",
      "434:\tlearn: 5.1339264\ttotal: 17.5s\tremaining: 2.62s\n",
      "435:\tlearn: 5.1324716\ttotal: 17.6s\tremaining: 2.58s\n",
      "436:\tlearn: 5.1307695\ttotal: 17.6s\tremaining: 2.54s\n",
      "437:\tlearn: 5.1290339\ttotal: 17.7s\tremaining: 2.51s\n",
      "438:\tlearn: 5.1280180\ttotal: 17.7s\tremaining: 2.46s\n",
      "439:\tlearn: 5.1268599\ttotal: 17.8s\tremaining: 2.43s\n",
      "440:\tlearn: 5.1250977\ttotal: 17.8s\tremaining: 2.38s\n",
      "441:\tlearn: 5.1239695\ttotal: 17.8s\tremaining: 2.34s\n",
      "442:\tlearn: 5.1227191\ttotal: 17.9s\tremaining: 2.3s\n",
      "443:\tlearn: 5.1209247\ttotal: 17.9s\tremaining: 2.26s\n",
      "444:\tlearn: 5.1194314\ttotal: 17.9s\tremaining: 2.21s\n",
      "445:\tlearn: 5.1180662\ttotal: 17.9s\tremaining: 2.17s\n",
      "446:\tlearn: 5.1167037\ttotal: 18s\tremaining: 2.13s\n",
      "447:\tlearn: 5.1151701\ttotal: 18s\tremaining: 2.09s\n",
      "448:\tlearn: 5.1135334\ttotal: 18s\tremaining: 2.05s\n",
      "449:\tlearn: 5.1117307\ttotal: 18.1s\tremaining: 2.01s\n",
      "450:\tlearn: 5.1106147\ttotal: 18.1s\tremaining: 1.97s\n",
      "451:\tlearn: 5.1092901\ttotal: 18.2s\tremaining: 1.93s\n",
      "452:\tlearn: 5.1080123\ttotal: 18.2s\tremaining: 1.89s\n",
      "453:\tlearn: 5.1059486\ttotal: 18.3s\tremaining: 1.85s\n",
      "454:\tlearn: 5.1046957\ttotal: 18.3s\tremaining: 1.81s\n",
      "455:\tlearn: 5.1031866\ttotal: 18.4s\tremaining: 1.77s\n",
      "456:\tlearn: 5.1017105\ttotal: 18.4s\tremaining: 1.73s\n",
      "457:\tlearn: 5.1000567\ttotal: 18.4s\tremaining: 1.69s\n",
      "458:\tlearn: 5.0989792\ttotal: 18.5s\tremaining: 1.65s\n",
      "459:\tlearn: 5.0976413\ttotal: 18.5s\tremaining: 1.61s\n",
      "460:\tlearn: 5.0964422\ttotal: 18.6s\tremaining: 1.57s\n",
      "461:\tlearn: 5.0948729\ttotal: 18.6s\tremaining: 1.53s\n",
      "462:\tlearn: 5.0936135\ttotal: 18.6s\tremaining: 1.49s\n",
      "463:\tlearn: 5.0925224\ttotal: 18.7s\tremaining: 1.45s\n",
      "464:\tlearn: 5.0911324\ttotal: 18.7s\tremaining: 1.41s\n",
      "465:\tlearn: 5.0897096\ttotal: 18.8s\tremaining: 1.37s\n",
      "466:\tlearn: 5.0884194\ttotal: 18.8s\tremaining: 1.33s\n",
      "467:\tlearn: 5.0873009\ttotal: 18.9s\tremaining: 1.29s\n",
      "468:\tlearn: 5.0861374\ttotal: 18.9s\tremaining: 1.25s\n",
      "469:\tlearn: 5.0839713\ttotal: 18.9s\tremaining: 1.21s\n",
      "470:\tlearn: 5.0825525\ttotal: 19s\tremaining: 1.17s\n",
      "471:\tlearn: 5.0815074\ttotal: 19s\tremaining: 1.13s\n",
      "472:\tlearn: 5.0804024\ttotal: 19.1s\tremaining: 1.09s\n",
      "473:\tlearn: 5.0793905\ttotal: 19.1s\tremaining: 1.05s\n",
      "474:\tlearn: 5.0778553\ttotal: 19.1s\tremaining: 1s\n",
      "475:\tlearn: 5.0764049\ttotal: 19.2s\tremaining: 968ms\n",
      "476:\tlearn: 5.0748598\ttotal: 19.2s\tremaining: 926ms\n",
      "477:\tlearn: 5.0736984\ttotal: 19.3s\tremaining: 888ms\n",
      "478:\tlearn: 5.0719101\ttotal: 19.3s\tremaining: 846ms\n",
      "479:\tlearn: 5.0705531\ttotal: 19.4s\tremaining: 808ms\n",
      "480:\tlearn: 5.0693921\ttotal: 19.4s\tremaining: 766ms\n",
      "481:\tlearn: 5.0683062\ttotal: 19.4s\tremaining: 725ms\n",
      "482:\tlearn: 5.0669549\ttotal: 19.5s\tremaining: 686ms\n",
      "483:\tlearn: 5.0655746\ttotal: 19.5s\tremaining: 645ms\n",
      "484:\tlearn: 5.0641278\ttotal: 19.6s\tremaining: 606ms\n",
      "485:\tlearn: 5.0629713\ttotal: 19.6s\tremaining: 564ms\n",
      "486:\tlearn: 5.0618659\ttotal: 19.7s\tremaining: 525ms\n",
      "487:\tlearn: 5.0601536\ttotal: 19.7s\tremaining: 484ms\n",
      "488:\tlearn: 5.0587112\ttotal: 19.7s\tremaining: 443ms\n",
      "489:\tlearn: 5.0575905\ttotal: 19.8s\tremaining: 404ms\n",
      "490:\tlearn: 5.0560738\ttotal: 19.8s\tremaining: 363ms\n",
      "491:\tlearn: 5.0546632\ttotal: 19.9s\tremaining: 323ms\n",
      "492:\tlearn: 5.0531821\ttotal: 19.9s\tremaining: 282ms\n",
      "493:\tlearn: 5.0512484\ttotal: 19.9s\tremaining: 242ms\n",
      "494:\tlearn: 5.0496104\ttotal: 20s\tremaining: 202ms\n",
      "495:\tlearn: 5.0483056\ttotal: 20s\tremaining: 161ms\n",
      "496:\tlearn: 5.0470159\ttotal: 20.1s\tremaining: 121ms\n",
      "497:\tlearn: 5.0458311\ttotal: 20.1s\tremaining: 80.7ms\n",
      "498:\tlearn: 5.0446943\ttotal: 20.2s\tremaining: 40.4ms\n",
      "499:\tlearn: 5.0437669\ttotal: 20.2s\tremaining: 0us\n"
     ]
    }
   ],
   "source": [
    "model_cb.fit(features_train, target_train_rougher) # обучение и предсказания для этапа флотации\n",
    "prediction_test_rougher = model_cb.predict(features_test)"
   ]
  },
  {
   "cell_type": "code",
   "execution_count": 85,
   "metadata": {},
   "outputs": [
    {
     "name": "stdout",
     "output_type": "stream",
     "text": [
      "0:\tlearn: 9.1293537\ttotal: 6.73ms\tremaining: 3.36s\n",
      "1:\tlearn: 9.1135369\ttotal: 13.2ms\tremaining: 3.28s\n",
      "2:\tlearn: 9.0958535\ttotal: 54.2ms\tremaining: 8.98s\n",
      "3:\tlearn: 9.0786903\ttotal: 60.6ms\tremaining: 7.51s\n",
      "4:\tlearn: 9.0618243\ttotal: 151ms\tremaining: 14.9s\n",
      "5:\tlearn: 9.0452473\ttotal: 157ms\tremaining: 12.9s\n",
      "6:\tlearn: 9.0288069\ttotal: 162ms\tremaining: 11.4s\n",
      "7:\tlearn: 9.0130926\ttotal: 249ms\tremaining: 15.3s\n",
      "8:\tlearn: 8.9975108\ttotal: 263ms\tremaining: 14.4s\n",
      "9:\tlearn: 8.9812649\ttotal: 346ms\tremaining: 17s\n",
      "10:\tlearn: 8.9660728\ttotal: 351ms\tremaining: 15.6s\n",
      "11:\tlearn: 8.9511434\ttotal: 357ms\tremaining: 14.5s\n",
      "12:\tlearn: 8.9359425\ttotal: 445ms\tremaining: 16.7s\n",
      "13:\tlearn: 8.9215177\ttotal: 451ms\tremaining: 15.7s\n",
      "14:\tlearn: 8.9077068\ttotal: 457ms\tremaining: 14.8s\n",
      "15:\tlearn: 8.8926928\ttotal: 549ms\tremaining: 16.6s\n",
      "16:\tlearn: 8.8787388\ttotal: 554ms\tremaining: 15.8s\n",
      "17:\tlearn: 8.8649775\ttotal: 642ms\tremaining: 17.2s\n",
      "18:\tlearn: 8.8511592\ttotal: 647ms\tremaining: 16.4s\n",
      "19:\tlearn: 8.8365674\ttotal: 653ms\tremaining: 15.7s\n",
      "20:\tlearn: 8.8226319\ttotal: 658ms\tremaining: 15s\n",
      "21:\tlearn: 8.8086490\ttotal: 744ms\tremaining: 16.2s\n",
      "22:\tlearn: 8.7959239\ttotal: 750ms\tremaining: 15.5s\n",
      "23:\tlearn: 8.7819327\ttotal: 840ms\tremaining: 16.7s\n",
      "24:\tlearn: 8.7691291\ttotal: 847ms\tremaining: 16.1s\n",
      "25:\tlearn: 8.7567383\ttotal: 852ms\tremaining: 15.5s\n",
      "26:\tlearn: 8.7438671\ttotal: 942ms\tremaining: 16.5s\n",
      "27:\tlearn: 8.7304415\ttotal: 949ms\tremaining: 16s\n",
      "28:\tlearn: 8.7185254\ttotal: 1.04s\tremaining: 16.9s\n",
      "29:\tlearn: 8.7064364\ttotal: 1.04s\tremaining: 16.3s\n",
      "30:\tlearn: 8.6945553\ttotal: 1.05s\tremaining: 15.9s\n",
      "31:\tlearn: 8.6813552\ttotal: 1.14s\tremaining: 16.7s\n",
      "32:\tlearn: 8.6693690\ttotal: 1.15s\tremaining: 16.3s\n",
      "33:\tlearn: 8.6564838\ttotal: 1.24s\tremaining: 17s\n",
      "34:\tlearn: 8.6439836\ttotal: 1.25s\tremaining: 16.6s\n",
      "35:\tlearn: 8.6326627\ttotal: 1.33s\tremaining: 17.2s\n",
      "36:\tlearn: 8.6203982\ttotal: 1.34s\tremaining: 16.8s\n",
      "37:\tlearn: 8.6094958\ttotal: 1.35s\tremaining: 16.4s\n",
      "38:\tlearn: 8.5975616\ttotal: 1.45s\tremaining: 17.1s\n",
      "39:\tlearn: 8.5870045\ttotal: 1.46s\tremaining: 16.7s\n",
      "40:\tlearn: 8.5751823\ttotal: 1.53s\tremaining: 17.2s\n",
      "41:\tlearn: 8.5652130\ttotal: 1.54s\tremaining: 16.8s\n",
      "42:\tlearn: 8.5541553\ttotal: 1.55s\tremaining: 16.4s\n",
      "43:\tlearn: 8.5426662\ttotal: 1.63s\tremaining: 16.9s\n",
      "44:\tlearn: 8.5323696\ttotal: 1.64s\tremaining: 16.6s\n",
      "45:\tlearn: 8.5218768\ttotal: 1.65s\tremaining: 16.2s\n",
      "46:\tlearn: 8.5112645\ttotal: 1.73s\tremaining: 16.7s\n",
      "47:\tlearn: 8.4996616\ttotal: 1.74s\tremaining: 16.4s\n",
      "48:\tlearn: 8.4894513\ttotal: 1.83s\tremaining: 16.8s\n",
      "49:\tlearn: 8.4786327\ttotal: 1.84s\tremaining: 16.5s\n",
      "50:\tlearn: 8.4680024\ttotal: 1.93s\tremaining: 17s\n",
      "51:\tlearn: 8.4574640\ttotal: 1.93s\tremaining: 16.7s\n",
      "52:\tlearn: 8.4468827\ttotal: 1.94s\tremaining: 16.4s\n",
      "53:\tlearn: 8.4355915\ttotal: 2.02s\tremaining: 16.7s\n",
      "54:\tlearn: 8.4266836\ttotal: 2.03s\tremaining: 16.5s\n",
      "55:\tlearn: 8.4163788\ttotal: 2.12s\tremaining: 16.8s\n",
      "56:\tlearn: 8.4069581\ttotal: 2.13s\tremaining: 16.6s\n",
      "57:\tlearn: 8.3985400\ttotal: 2.13s\tremaining: 16.3s\n",
      "58:\tlearn: 8.3894646\ttotal: 2.22s\tremaining: 16.6s\n",
      "59:\tlearn: 8.3806978\ttotal: 2.23s\tremaining: 16.4s\n",
      "60:\tlearn: 8.3716878\ttotal: 2.24s\tremaining: 16.1s\n",
      "61:\tlearn: 8.3623786\ttotal: 2.33s\tremaining: 16.4s\n",
      "62:\tlearn: 8.3528597\ttotal: 2.33s\tremaining: 16.2s\n",
      "63:\tlearn: 8.3438876\ttotal: 2.42s\tremaining: 16.5s\n",
      "64:\tlearn: 8.3345694\ttotal: 2.43s\tremaining: 16.2s\n",
      "65:\tlearn: 8.3260993\ttotal: 2.43s\tremaining: 16s\n",
      "66:\tlearn: 8.3183736\ttotal: 2.52s\tremaining: 16.3s\n",
      "67:\tlearn: 8.3094346\ttotal: 2.53s\tremaining: 16.1s\n",
      "68:\tlearn: 8.3005454\ttotal: 2.62s\tremaining: 16.4s\n",
      "69:\tlearn: 8.2919834\ttotal: 2.63s\tremaining: 16.1s\n",
      "70:\tlearn: 8.2832363\ttotal: 2.72s\tremaining: 16.4s\n",
      "71:\tlearn: 8.2753819\ttotal: 2.73s\tremaining: 16.2s\n",
      "72:\tlearn: 8.2669421\ttotal: 2.74s\tremaining: 16s\n",
      "73:\tlearn: 8.2589609\ttotal: 2.82s\tremaining: 16.3s\n",
      "74:\tlearn: 8.2502131\ttotal: 2.83s\tremaining: 16s\n",
      "75:\tlearn: 8.2417116\ttotal: 2.92s\tremaining: 16.3s\n",
      "76:\tlearn: 8.2329478\ttotal: 2.95s\tremaining: 16.2s\n",
      "77:\tlearn: 8.2249778\ttotal: 3.01s\tremaining: 16.3s\n",
      "78:\tlearn: 8.2176604\ttotal: 3.01s\tremaining: 16.1s\n",
      "79:\tlearn: 8.2095508\ttotal: 3.1s\tremaining: 16.3s\n",
      "80:\tlearn: 8.2017655\ttotal: 3.11s\tremaining: 16.1s\n",
      "81:\tlearn: 8.1930668\ttotal: 3.12s\tremaining: 15.9s\n",
      "82:\tlearn: 8.1859179\ttotal: 3.21s\tremaining: 16.1s\n",
      "83:\tlearn: 8.1780836\ttotal: 3.21s\tremaining: 15.9s\n",
      "84:\tlearn: 8.1700880\ttotal: 3.31s\tremaining: 16.1s\n",
      "85:\tlearn: 8.1623541\ttotal: 3.31s\tremaining: 15.9s\n",
      "86:\tlearn: 8.1546073\ttotal: 3.4s\tremaining: 16.1s\n",
      "87:\tlearn: 8.1476255\ttotal: 3.41s\tremaining: 16s\n",
      "88:\tlearn: 8.1403995\ttotal: 3.42s\tremaining: 15.8s\n",
      "89:\tlearn: 8.1330146\ttotal: 3.5s\tremaining: 16s\n",
      "90:\tlearn: 8.1267309\ttotal: 3.51s\tremaining: 15.8s\n",
      "91:\tlearn: 8.1199174\ttotal: 3.51s\tremaining: 15.6s\n",
      "92:\tlearn: 8.1132734\ttotal: 3.6s\tremaining: 15.8s\n",
      "93:\tlearn: 8.1061383\ttotal: 3.61s\tremaining: 15.6s\n",
      "94:\tlearn: 8.0994140\ttotal: 3.7s\tremaining: 15.8s\n",
      "95:\tlearn: 8.0926256\ttotal: 3.71s\tremaining: 15.6s\n",
      "96:\tlearn: 8.0851953\ttotal: 3.71s\tremaining: 15.4s\n",
      "97:\tlearn: 8.0783138\ttotal: 3.8s\tremaining: 15.6s\n",
      "98:\tlearn: 8.0711394\ttotal: 3.81s\tremaining: 15.4s\n",
      "99:\tlearn: 8.0642058\ttotal: 3.9s\tremaining: 15.6s\n",
      "100:\tlearn: 8.0581055\ttotal: 3.9s\tremaining: 15.4s\n",
      "101:\tlearn: 8.0520455\ttotal: 4s\tremaining: 15.6s\n",
      "102:\tlearn: 8.0452598\ttotal: 4s\tremaining: 15.4s\n",
      "103:\tlearn: 8.0390233\ttotal: 4.01s\tremaining: 15.3s\n",
      "104:\tlearn: 8.0333071\ttotal: 4.1s\tremaining: 15.4s\n",
      "105:\tlearn: 8.0265661\ttotal: 4.1s\tremaining: 15.3s\n",
      "106:\tlearn: 8.0201730\ttotal: 4.19s\tremaining: 15.4s\n",
      "107:\tlearn: 8.0141741\ttotal: 4.2s\tremaining: 15.2s\n",
      "108:\tlearn: 8.0086571\ttotal: 4.2s\tremaining: 15.1s\n",
      "109:\tlearn: 8.0012823\ttotal: 4.29s\tremaining: 15.2s\n",
      "110:\tlearn: 7.9953929\ttotal: 4.3s\tremaining: 15.1s\n",
      "111:\tlearn: 7.9892211\ttotal: 4.39s\tremaining: 15.2s\n",
      "112:\tlearn: 7.9833768\ttotal: 4.4s\tremaining: 15.1s\n",
      "113:\tlearn: 7.9770345\ttotal: 4.4s\tremaining: 14.9s\n",
      "114:\tlearn: 7.9710796\ttotal: 4.49s\tremaining: 15s\n",
      "115:\tlearn: 7.9650046\ttotal: 4.5s\tremaining: 14.9s\n",
      "116:\tlearn: 7.9590110\ttotal: 4.59s\tremaining: 15s\n",
      "117:\tlearn: 7.9531546\ttotal: 4.6s\tremaining: 14.9s\n",
      "118:\tlearn: 7.9468663\ttotal: 4.6s\tremaining: 14.7s\n",
      "119:\tlearn: 7.9402767\ttotal: 4.7s\tremaining: 14.9s\n",
      "120:\tlearn: 7.9346296\ttotal: 4.7s\tremaining: 14.7s\n",
      "121:\tlearn: 7.9290622\ttotal: 4.79s\tremaining: 14.9s\n",
      "122:\tlearn: 7.9229456\ttotal: 4.8s\tremaining: 14.7s\n",
      "123:\tlearn: 7.9169199\ttotal: 4.81s\tremaining: 14.6s\n",
      "124:\tlearn: 7.9106641\ttotal: 4.89s\tremaining: 14.7s\n",
      "125:\tlearn: 7.9042670\ttotal: 4.9s\tremaining: 14.5s\n",
      "126:\tlearn: 7.8986084\ttotal: 4.98s\tremaining: 14.6s\n",
      "127:\tlearn: 7.8934171\ttotal: 4.99s\tremaining: 14.5s\n",
      "128:\tlearn: 7.8881156\ttotal: 5s\tremaining: 14.4s\n",
      "129:\tlearn: 7.8828738\ttotal: 5.08s\tremaining: 14.5s\n",
      "130:\tlearn: 7.8779410\ttotal: 5.09s\tremaining: 14.3s\n",
      "131:\tlearn: 7.8723241\ttotal: 5.09s\tremaining: 14.2s\n",
      "132:\tlearn: 7.8668763\ttotal: 5.18s\tremaining: 14.3s\n",
      "133:\tlearn: 7.8607783\ttotal: 5.19s\tremaining: 14.2s\n",
      "134:\tlearn: 7.8550489\ttotal: 5.19s\tremaining: 14s\n",
      "135:\tlearn: 7.8491095\ttotal: 5.28s\tremaining: 14.1s\n",
      "136:\tlearn: 7.8449279\ttotal: 5.29s\tremaining: 14s\n",
      "137:\tlearn: 7.8398799\ttotal: 5.38s\tremaining: 14.1s\n",
      "138:\tlearn: 7.8348080\ttotal: 5.39s\tremaining: 14s\n",
      "139:\tlearn: 7.8297527\ttotal: 5.48s\tremaining: 14.1s\n",
      "140:\tlearn: 7.8246416\ttotal: 5.48s\tremaining: 14s\n",
      "141:\tlearn: 7.8199315\ttotal: 5.49s\tremaining: 13.8s\n",
      "142:\tlearn: 7.8151948\ttotal: 5.58s\tremaining: 13.9s\n",
      "143:\tlearn: 7.8106741\ttotal: 5.58s\tremaining: 13.8s\n",
      "144:\tlearn: 7.8063132\ttotal: 5.67s\tremaining: 13.9s\n",
      "145:\tlearn: 7.8006594\ttotal: 5.68s\tremaining: 13.8s\n",
      "146:\tlearn: 7.7960363\ttotal: 5.69s\tremaining: 13.7s\n",
      "147:\tlearn: 7.7909200\ttotal: 5.77s\tremaining: 13.7s\n",
      "148:\tlearn: 7.7860200\ttotal: 5.78s\tremaining: 13.6s\n",
      "149:\tlearn: 7.7817059\ttotal: 5.79s\tremaining: 13.5s\n",
      "150:\tlearn: 7.7764071\ttotal: 5.88s\tremaining: 13.6s\n",
      "151:\tlearn: 7.7716466\ttotal: 5.88s\tremaining: 13.5s\n",
      "152:\tlearn: 7.7667272\ttotal: 5.97s\tremaining: 13.5s\n",
      "153:\tlearn: 7.7621778\ttotal: 5.98s\tremaining: 13.4s\n",
      "154:\tlearn: 7.7574809\ttotal: 5.99s\tremaining: 13.3s\n",
      "155:\tlearn: 7.7533775\ttotal: 6.08s\tremaining: 13.4s\n",
      "156:\tlearn: 7.7490742\ttotal: 6.08s\tremaining: 13.3s\n",
      "157:\tlearn: 7.7446959\ttotal: 6.17s\tremaining: 13.3s\n",
      "158:\tlearn: 7.7405353\ttotal: 6.17s\tremaining: 13.2s\n",
      "159:\tlearn: 7.7364284\ttotal: 6.18s\tremaining: 13.1s\n",
      "160:\tlearn: 7.7310363\ttotal: 6.27s\tremaining: 13.2s\n",
      "161:\tlearn: 7.7271071\ttotal: 6.28s\tremaining: 13.1s\n",
      "162:\tlearn: 7.7234132\ttotal: 6.37s\tremaining: 13.2s\n",
      "163:\tlearn: 7.7193597\ttotal: 6.37s\tremaining: 13.1s\n",
      "164:\tlearn: 7.7154075\ttotal: 6.38s\tremaining: 12.9s\n",
      "165:\tlearn: 7.7115230\ttotal: 6.46s\tremaining: 13s\n",
      "166:\tlearn: 7.7072109\ttotal: 6.48s\tremaining: 12.9s\n",
      "167:\tlearn: 7.7029209\ttotal: 6.56s\tremaining: 13s\n",
      "168:\tlearn: 7.6991229\ttotal: 6.57s\tremaining: 12.9s\n",
      "169:\tlearn: 7.6952404\ttotal: 6.57s\tremaining: 12.8s\n",
      "170:\tlearn: 7.6911895\ttotal: 6.67s\tremaining: 12.8s\n",
      "171:\tlearn: 7.6871512\ttotal: 6.67s\tremaining: 12.7s\n",
      "172:\tlearn: 7.6825860\ttotal: 6.76s\tremaining: 12.8s\n",
      "173:\tlearn: 7.6793242\ttotal: 6.77s\tremaining: 12.7s\n",
      "174:\tlearn: 7.6751565\ttotal: 6.86s\tremaining: 12.7s\n",
      "175:\tlearn: 7.6712368\ttotal: 6.87s\tremaining: 12.6s\n",
      "176:\tlearn: 7.6670034\ttotal: 6.87s\tremaining: 12.5s\n",
      "177:\tlearn: 7.6631002\ttotal: 6.96s\tremaining: 12.6s\n",
      "178:\tlearn: 7.6592540\ttotal: 6.97s\tremaining: 12.5s\n",
      "179:\tlearn: 7.6548303\ttotal: 7.06s\tremaining: 12.6s\n",
      "180:\tlearn: 7.6514409\ttotal: 7.07s\tremaining: 12.5s\n",
      "181:\tlearn: 7.6468821\ttotal: 7.15s\tremaining: 12.5s\n",
      "182:\tlearn: 7.6432855\ttotal: 7.16s\tremaining: 12.4s\n",
      "183:\tlearn: 7.6394809\ttotal: 7.17s\tremaining: 12.3s\n",
      "184:\tlearn: 7.6359039\ttotal: 7.26s\tremaining: 12.4s\n",
      "185:\tlearn: 7.6318283\ttotal: 7.26s\tremaining: 12.3s\n",
      "186:\tlearn: 7.6280196\ttotal: 7.35s\tremaining: 12.3s\n",
      "187:\tlearn: 7.6243985\ttotal: 7.36s\tremaining: 12.2s\n",
      "188:\tlearn: 7.6208871\ttotal: 7.45s\tremaining: 12.3s\n",
      "189:\tlearn: 7.6168014\ttotal: 7.46s\tremaining: 12.2s\n",
      "190:\tlearn: 7.6127327\ttotal: 7.47s\tremaining: 12.1s\n",
      "191:\tlearn: 7.6084579\ttotal: 7.55s\tremaining: 12.1s\n",
      "192:\tlearn: 7.6047511\ttotal: 7.56s\tremaining: 12s\n",
      "193:\tlearn: 7.6014629\ttotal: 7.65s\tremaining: 12.1s\n",
      "194:\tlearn: 7.5988567\ttotal: 7.66s\tremaining: 12s\n",
      "195:\tlearn: 7.5954528\ttotal: 7.75s\tremaining: 12s\n",
      "196:\tlearn: 7.5919074\ttotal: 7.75s\tremaining: 11.9s\n",
      "197:\tlearn: 7.5883559\ttotal: 7.76s\tremaining: 11.8s\n",
      "198:\tlearn: 7.5852248\ttotal: 7.85s\tremaining: 11.9s\n",
      "199:\tlearn: 7.5823270\ttotal: 7.86s\tremaining: 11.8s\n",
      "200:\tlearn: 7.5790921\ttotal: 7.95s\tremaining: 11.8s\n",
      "201:\tlearn: 7.5758409\ttotal: 7.95s\tremaining: 11.7s\n",
      "202:\tlearn: 7.5725482\ttotal: 7.96s\tremaining: 11.6s\n",
      "203:\tlearn: 7.5690715\ttotal: 8.05s\tremaining: 11.7s\n",
      "204:\tlearn: 7.5655634\ttotal: 8.05s\tremaining: 11.6s\n",
      "205:\tlearn: 7.5625825\ttotal: 8.14s\tremaining: 11.6s\n",
      "206:\tlearn: 7.5597484\ttotal: 8.15s\tremaining: 11.5s\n",
      "207:\tlearn: 7.5566611\ttotal: 8.16s\tremaining: 11.4s\n",
      "208:\tlearn: 7.5532242\ttotal: 8.24s\tremaining: 11.5s\n",
      "209:\tlearn: 7.5502652\ttotal: 8.25s\tremaining: 11.4s\n",
      "210:\tlearn: 7.5472031\ttotal: 8.34s\tremaining: 11.4s\n",
      "211:\tlearn: 7.5438746\ttotal: 8.35s\tremaining: 11.3s\n",
      "212:\tlearn: 7.5405386\ttotal: 8.44s\tremaining: 11.4s\n",
      "213:\tlearn: 7.5371991\ttotal: 8.45s\tremaining: 11.3s\n",
      "214:\tlearn: 7.5343802\ttotal: 8.45s\tremaining: 11.2s\n",
      "215:\tlearn: 7.5316575\ttotal: 8.54s\tremaining: 11.2s\n",
      "216:\tlearn: 7.5283565\ttotal: 8.55s\tremaining: 11.2s\n",
      "217:\tlearn: 7.5252543\ttotal: 8.64s\tremaining: 11.2s\n",
      "218:\tlearn: 7.5220567\ttotal: 8.64s\tremaining: 11.1s\n",
      "219:\tlearn: 7.5192963\ttotal: 8.65s\tremaining: 11s\n",
      "220:\tlearn: 7.5163227\ttotal: 8.74s\tremaining: 11s\n",
      "221:\tlearn: 7.5137445\ttotal: 8.74s\tremaining: 11s\n",
      "222:\tlearn: 7.5111100\ttotal: 8.84s\tremaining: 11s\n",
      "223:\tlearn: 7.5081319\ttotal: 8.84s\tremaining: 10.9s\n",
      "224:\tlearn: 7.5055663\ttotal: 8.93s\tremaining: 10.9s\n",
      "225:\tlearn: 7.5028714\ttotal: 8.94s\tremaining: 10.8s\n",
      "226:\tlearn: 7.4999856\ttotal: 8.95s\tremaining: 10.8s\n",
      "227:\tlearn: 7.4970264\ttotal: 9.04s\tremaining: 10.8s\n",
      "228:\tlearn: 7.4940716\ttotal: 9.04s\tremaining: 10.7s\n",
      "229:\tlearn: 7.4909727\ttotal: 9.05s\tremaining: 10.6s\n",
      "230:\tlearn: 7.4880594\ttotal: 9.14s\tremaining: 10.6s\n",
      "231:\tlearn: 7.4846643\ttotal: 9.14s\tremaining: 10.6s\n",
      "232:\tlearn: 7.4821245\ttotal: 9.23s\tremaining: 10.6s\n",
      "233:\tlearn: 7.4794685\ttotal: 9.24s\tremaining: 10.5s\n",
      "234:\tlearn: 7.4765303\ttotal: 9.33s\tremaining: 10.5s\n",
      "235:\tlearn: 7.4725820\ttotal: 9.34s\tremaining: 10.4s\n",
      "236:\tlearn: 7.4696852\ttotal: 9.34s\tremaining: 10.4s\n",
      "237:\tlearn: 7.4671448\ttotal: 9.43s\tremaining: 10.4s\n",
      "238:\tlearn: 7.4643874\ttotal: 9.44s\tremaining: 10.3s\n",
      "239:\tlearn: 7.4617197\ttotal: 9.44s\tremaining: 10.2s\n",
      "240:\tlearn: 7.4592288\ttotal: 9.52s\tremaining: 10.2s\n",
      "241:\tlearn: 7.4565931\ttotal: 9.53s\tremaining: 10.2s\n",
      "242:\tlearn: 7.4538433\ttotal: 9.62s\tremaining: 10.2s\n",
      "243:\tlearn: 7.4515213\ttotal: 9.62s\tremaining: 10.1s\n",
      "244:\tlearn: 7.4483649\ttotal: 9.63s\tremaining: 10s\n",
      "245:\tlearn: 7.4453516\ttotal: 9.72s\tremaining: 10s\n",
      "246:\tlearn: 7.4423373\ttotal: 9.72s\tremaining: 9.96s\n",
      "247:\tlearn: 7.4398436\ttotal: 9.82s\tremaining: 9.97s\n",
      "248:\tlearn: 7.4369431\ttotal: 9.82s\tremaining: 9.9s\n",
      "249:\tlearn: 7.4345683\ttotal: 9.83s\tremaining: 9.83s\n",
      "250:\tlearn: 7.4320731\ttotal: 9.92s\tremaining: 9.84s\n",
      "251:\tlearn: 7.4291585\ttotal: 9.93s\tremaining: 9.77s\n",
      "252:\tlearn: 7.4265131\ttotal: 10s\tremaining: 9.78s\n",
      "253:\tlearn: 7.4237728\ttotal: 10s\tremaining: 9.7s\n",
      "254:\tlearn: 7.4214645\ttotal: 10s\tremaining: 9.63s\n",
      "255:\tlearn: 7.4190459\ttotal: 10.1s\tremaining: 9.64s\n",
      "256:\tlearn: 7.4163159\ttotal: 10.1s\tremaining: 9.57s\n",
      "257:\tlearn: 7.4140180\ttotal: 10.2s\tremaining: 9.58s\n",
      "258:\tlearn: 7.4116575\ttotal: 10.2s\tremaining: 9.51s\n",
      "259:\tlearn: 7.4090370\ttotal: 10.2s\tremaining: 9.44s\n",
      "260:\tlearn: 7.4070466\ttotal: 10.3s\tremaining: 9.44s\n",
      "261:\tlearn: 7.4048362\ttotal: 10.3s\tremaining: 9.37s\n",
      "262:\tlearn: 7.4027947\ttotal: 10.4s\tremaining: 9.38s\n",
      "263:\tlearn: 7.4003945\ttotal: 10.4s\tremaining: 9.31s\n",
      "264:\tlearn: 7.3981016\ttotal: 10.5s\tremaining: 9.32s\n",
      "265:\tlearn: 7.3960320\ttotal: 10.5s\tremaining: 9.25s\n",
      "266:\tlearn: 7.3938489\ttotal: 10.5s\tremaining: 9.19s\n",
      "267:\tlearn: 7.3919164\ttotal: 10.6s\tremaining: 9.18s\n",
      "268:\tlearn: 7.3900480\ttotal: 10.6s\tremaining: 9.12s\n",
      "269:\tlearn: 7.3876713\ttotal: 10.7s\tremaining: 9.12s\n",
      "270:\tlearn: 7.3855667\ttotal: 10.7s\tremaining: 9.05s\n",
      "271:\tlearn: 7.3831437\ttotal: 10.7s\tremaining: 8.98s\n",
      "272:\tlearn: 7.3810937\ttotal: 10.8s\tremaining: 8.99s\n",
      "273:\tlearn: 7.3781985\ttotal: 10.8s\tremaining: 8.92s\n",
      "274:\tlearn: 7.3756163\ttotal: 10.9s\tremaining: 8.92s\n",
      "275:\tlearn: 7.3734323\ttotal: 10.9s\tremaining: 8.85s\n",
      "276:\tlearn: 7.3713976\ttotal: 10.9s\tremaining: 8.79s\n",
      "277:\tlearn: 7.3683751\ttotal: 11s\tremaining: 8.79s\n",
      "278:\tlearn: 7.3662273\ttotal: 11s\tremaining: 8.72s\n",
      "279:\tlearn: 7.3642486\ttotal: 11.1s\tremaining: 8.72s\n",
      "280:\tlearn: 7.3624508\ttotal: 11.1s\tremaining: 8.66s\n",
      "281:\tlearn: 7.3605131\ttotal: 11.1s\tremaining: 8.59s\n",
      "282:\tlearn: 7.3581595\ttotal: 11.2s\tremaining: 8.59s\n",
      "283:\tlearn: 7.3557912\ttotal: 11.2s\tremaining: 8.53s\n",
      "284:\tlearn: 7.3539063\ttotal: 11.3s\tremaining: 8.52s\n",
      "285:\tlearn: 7.3516050\ttotal: 11.3s\tremaining: 8.46s\n",
      "286:\tlearn: 7.3492094\ttotal: 11.4s\tremaining: 8.46s\n",
      "287:\tlearn: 7.3470394\ttotal: 11.4s\tremaining: 8.39s\n",
      "288:\tlearn: 7.3443108\ttotal: 11.4s\tremaining: 8.33s\n",
      "289:\tlearn: 7.3425624\ttotal: 11.5s\tremaining: 8.33s\n",
      "290:\tlearn: 7.3401200\ttotal: 11.5s\tremaining: 8.26s\n",
      "291:\tlearn: 7.3376656\ttotal: 11.5s\tremaining: 8.2s\n",
      "292:\tlearn: 7.3357689\ttotal: 11.6s\tremaining: 8.19s\n",
      "293:\tlearn: 7.3339843\ttotal: 11.6s\tremaining: 8.13s\n",
      "294:\tlearn: 7.3309281\ttotal: 11.7s\tremaining: 8.13s\n",
      "295:\tlearn: 7.3286755\ttotal: 11.7s\tremaining: 8.06s\n",
      "296:\tlearn: 7.3262012\ttotal: 11.7s\tremaining: 8s\n",
      "297:\tlearn: 7.3243278\ttotal: 11.8s\tremaining: 8s\n",
      "298:\tlearn: 7.3222297\ttotal: 11.8s\tremaining: 7.93s\n",
      "299:\tlearn: 7.3200897\ttotal: 11.9s\tremaining: 7.93s\n",
      "300:\tlearn: 7.3178009\ttotal: 11.9s\tremaining: 7.86s\n",
      "301:\tlearn: 7.3160482\ttotal: 11.9s\tremaining: 7.8s\n",
      "302:\tlearn: 7.3141419\ttotal: 12s\tremaining: 7.8s\n",
      "303:\tlearn: 7.3119142\ttotal: 12s\tremaining: 7.74s\n",
      "304:\tlearn: 7.3091634\ttotal: 12.1s\tremaining: 7.73s\n",
      "305:\tlearn: 7.3071409\ttotal: 12.1s\tremaining: 7.67s\n",
      "306:\tlearn: 7.3056400\ttotal: 12.1s\tremaining: 7.61s\n",
      "307:\tlearn: 7.3040985\ttotal: 12.2s\tremaining: 7.6s\n",
      "308:\tlearn: 7.3021745\ttotal: 12.2s\tremaining: 7.54s\n",
      "309:\tlearn: 7.2998168\ttotal: 12.3s\tremaining: 7.53s\n",
      "310:\tlearn: 7.2980324\ttotal: 12.3s\tremaining: 7.47s\n",
      "311:\tlearn: 7.2958878\ttotal: 12.4s\tremaining: 7.46s\n",
      "312:\tlearn: 7.2938503\ttotal: 12.4s\tremaining: 7.4s\n",
      "313:\tlearn: 7.2916575\ttotal: 12.5s\tremaining: 7.39s\n",
      "314:\tlearn: 7.2900488\ttotal: 12.5s\tremaining: 7.33s\n",
      "315:\tlearn: 7.2884360\ttotal: 12.5s\tremaining: 7.28s\n",
      "316:\tlearn: 7.2865720\ttotal: 12.6s\tremaining: 7.26s\n",
      "317:\tlearn: 7.2846472\ttotal: 12.6s\tremaining: 7.21s\n",
      "318:\tlearn: 7.2826457\ttotal: 12.7s\tremaining: 7.2s\n",
      "319:\tlearn: 7.2806001\ttotal: 12.7s\tremaining: 7.14s\n",
      "320:\tlearn: 7.2789726\ttotal: 12.7s\tremaining: 7.08s\n",
      "321:\tlearn: 7.2770660\ttotal: 12.8s\tremaining: 7.07s\n",
      "322:\tlearn: 7.2754510\ttotal: 12.8s\tremaining: 7.01s\n",
      "323:\tlearn: 7.2736836\ttotal: 12.9s\tremaining: 7s\n",
      "324:\tlearn: 7.2717936\ttotal: 12.9s\tremaining: 6.94s\n",
      "325:\tlearn: 7.2698899\ttotal: 13s\tremaining: 6.93s\n",
      "326:\tlearn: 7.2683246\ttotal: 13s\tremaining: 6.87s\n",
      "327:\tlearn: 7.2664041\ttotal: 13s\tremaining: 6.81s\n",
      "328:\tlearn: 7.2647661\ttotal: 13.1s\tremaining: 6.8s\n",
      "329:\tlearn: 7.2630127\ttotal: 13.1s\tremaining: 6.74s\n",
      "330:\tlearn: 7.2613180\ttotal: 13.1s\tremaining: 6.68s\n",
      "331:\tlearn: 7.2596740\ttotal: 13.2s\tremaining: 6.67s\n",
      "332:\tlearn: 7.2583191\ttotal: 13.2s\tremaining: 6.61s\n",
      "333:\tlearn: 7.2566810\ttotal: 13.2s\tremaining: 6.55s\n",
      "334:\tlearn: 7.2554475\ttotal: 13.3s\tremaining: 6.54s\n",
      "335:\tlearn: 7.2537777\ttotal: 13.3s\tremaining: 6.48s\n",
      "336:\tlearn: 7.2521603\ttotal: 13.3s\tremaining: 6.43s\n",
      "337:\tlearn: 7.2507480\ttotal: 13.4s\tremaining: 6.41s\n",
      "338:\tlearn: 7.2493364\ttotal: 13.4s\tremaining: 6.36s\n",
      "339:\tlearn: 7.2475365\ttotal: 13.5s\tremaining: 6.34s\n",
      "340:\tlearn: 7.2456666\ttotal: 13.5s\tremaining: 6.29s\n",
      "341:\tlearn: 7.2439307\ttotal: 13.6s\tremaining: 6.27s\n",
      "342:\tlearn: 7.2417950\ttotal: 13.6s\tremaining: 6.21s\n",
      "343:\tlearn: 7.2401509\ttotal: 13.6s\tremaining: 6.16s\n",
      "344:\tlearn: 7.2385462\ttotal: 13.7s\tremaining: 6.14s\n",
      "345:\tlearn: 7.2368145\ttotal: 13.7s\tremaining: 6.09s\n",
      "346:\tlearn: 7.2353274\ttotal: 13.8s\tremaining: 6.07s\n",
      "347:\tlearn: 7.2336009\ttotal: 13.8s\tremaining: 6.01s\n",
      "348:\tlearn: 7.2321195\ttotal: 13.8s\tremaining: 5.96s\n",
      "349:\tlearn: 7.2308386\ttotal: 13.9s\tremaining: 5.94s\n",
      "350:\tlearn: 7.2288927\ttotal: 13.9s\tremaining: 5.89s\n",
      "351:\tlearn: 7.2271310\ttotal: 13.9s\tremaining: 5.83s\n",
      "352:\tlearn: 7.2249519\ttotal: 14s\tremaining: 5.82s\n",
      "353:\tlearn: 7.2229933\ttotal: 14s\tremaining: 5.76s\n",
      "354:\tlearn: 7.2214901\ttotal: 14.1s\tremaining: 5.75s\n",
      "355:\tlearn: 7.2195417\ttotal: 14.1s\tremaining: 5.69s\n",
      "356:\tlearn: 7.2180348\ttotal: 14.1s\tremaining: 5.64s\n",
      "357:\tlearn: 7.2162225\ttotal: 14.2s\tremaining: 5.62s\n",
      "358:\tlearn: 7.2149166\ttotal: 14.2s\tremaining: 5.57s\n",
      "359:\tlearn: 7.2130555\ttotal: 14.3s\tremaining: 5.55s\n",
      "360:\tlearn: 7.2111772\ttotal: 14.3s\tremaining: 5.49s\n",
      "361:\tlearn: 7.2096962\ttotal: 14.3s\tremaining: 5.44s\n",
      "362:\tlearn: 7.2080427\ttotal: 14.4s\tremaining: 5.42s\n",
      "363:\tlearn: 7.2063766\ttotal: 14.4s\tremaining: 5.37s\n",
      "364:\tlearn: 7.2050999\ttotal: 14.5s\tremaining: 5.35s\n",
      "365:\tlearn: 7.2034721\ttotal: 14.5s\tremaining: 5.3s\n",
      "366:\tlearn: 7.2019327\ttotal: 14.5s\tremaining: 5.25s\n",
      "367:\tlearn: 7.2005070\ttotal: 14.6s\tremaining: 5.22s\n",
      "368:\tlearn: 7.1990044\ttotal: 14.6s\tremaining: 5.17s\n",
      "369:\tlearn: 7.1979776\ttotal: 14.7s\tremaining: 5.15s\n",
      "370:\tlearn: 7.1964745\ttotal: 14.7s\tremaining: 5.1s\n",
      "371:\tlearn: 7.1953042\ttotal: 14.7s\tremaining: 5.05s\n",
      "372:\tlearn: 7.1943040\ttotal: 14.8s\tremaining: 5.03s\n",
      "373:\tlearn: 7.1928495\ttotal: 14.8s\tremaining: 4.97s\n",
      "374:\tlearn: 7.1915335\ttotal: 14.8s\tremaining: 4.92s\n",
      "375:\tlearn: 7.1903354\ttotal: 14.9s\tremaining: 4.9s\n",
      "376:\tlearn: 7.1884014\ttotal: 14.9s\tremaining: 4.85s\n",
      "377:\tlearn: 7.1869077\ttotal: 15s\tremaining: 4.83s\n",
      "378:\tlearn: 7.1856381\ttotal: 15s\tremaining: 4.78s\n",
      "379:\tlearn: 7.1838370\ttotal: 15s\tremaining: 4.72s\n",
      "380:\tlearn: 7.1827128\ttotal: 15.1s\tremaining: 4.7s\n",
      "381:\tlearn: 7.1812759\ttotal: 15.1s\tremaining: 4.65s\n",
      "382:\tlearn: 7.1799233\ttotal: 15.1s\tremaining: 4.6s\n",
      "383:\tlearn: 7.1783382\ttotal: 15.2s\tremaining: 4.58s\n",
      "384:\tlearn: 7.1768544\ttotal: 15.2s\tremaining: 4.53s\n",
      "385:\tlearn: 7.1752222\ttotal: 15.3s\tremaining: 4.5s\n",
      "386:\tlearn: 7.1740439\ttotal: 15.3s\tremaining: 4.46s\n",
      "387:\tlearn: 7.1724672\ttotal: 15.3s\tremaining: 4.41s\n",
      "388:\tlearn: 7.1710344\ttotal: 15.4s\tremaining: 4.38s\n",
      "389:\tlearn: 7.1693071\ttotal: 15.4s\tremaining: 4.33s\n",
      "390:\tlearn: 7.1678333\ttotal: 15.4s\tremaining: 4.28s\n",
      "391:\tlearn: 7.1665394\ttotal: 15.5s\tremaining: 4.26s\n",
      "392:\tlearn: 7.1648729\ttotal: 15.5s\tremaining: 4.21s\n",
      "393:\tlearn: 7.1634070\ttotal: 15.5s\tremaining: 4.18s\n",
      "394:\tlearn: 7.1622393\ttotal: 15.6s\tremaining: 4.13s\n",
      "395:\tlearn: 7.1610395\ttotal: 15.6s\tremaining: 4.09s\n",
      "396:\tlearn: 7.1594326\ttotal: 15.7s\tremaining: 4.06s\n",
      "397:\tlearn: 7.1582049\ttotal: 15.7s\tremaining: 4.01s\n",
      "398:\tlearn: 7.1568619\ttotal: 15.7s\tremaining: 3.98s\n",
      "399:\tlearn: 7.1555989\ttotal: 15.8s\tremaining: 3.94s\n",
      "400:\tlearn: 7.1544692\ttotal: 15.8s\tremaining: 3.89s\n",
      "401:\tlearn: 7.1529029\ttotal: 15.8s\tremaining: 3.86s\n",
      "402:\tlearn: 7.1516191\ttotal: 15.9s\tremaining: 3.81s\n",
      "403:\tlearn: 7.1505505\ttotal: 15.9s\tremaining: 3.77s\n",
      "404:\tlearn: 7.1494205\ttotal: 15.9s\tremaining: 3.74s\n",
      "405:\tlearn: 7.1478329\ttotal: 16s\tremaining: 3.69s\n",
      "406:\tlearn: 7.1468099\ttotal: 16s\tremaining: 3.65s\n",
      "407:\tlearn: 7.1455182\ttotal: 16s\tremaining: 3.62s\n",
      "408:\tlearn: 7.1442745\ttotal: 16.1s\tremaining: 3.57s\n",
      "409:\tlearn: 7.1432955\ttotal: 16.1s\tremaining: 3.54s\n",
      "410:\tlearn: 7.1421209\ttotal: 16.2s\tremaining: 3.5s\n",
      "411:\tlearn: 7.1407053\ttotal: 16.2s\tremaining: 3.45s\n",
      "412:\tlearn: 7.1393704\ttotal: 16.2s\tremaining: 3.42s\n",
      "413:\tlearn: 7.1383399\ttotal: 16.3s\tremaining: 3.38s\n",
      "414:\tlearn: 7.1374465\ttotal: 16.3s\tremaining: 3.35s\n",
      "415:\tlearn: 7.1364288\ttotal: 16.3s\tremaining: 3.3s\n",
      "416:\tlearn: 7.1352242\ttotal: 16.4s\tremaining: 3.25s\n",
      "417:\tlearn: 7.1336090\ttotal: 16.4s\tremaining: 3.23s\n",
      "418:\tlearn: 7.1322516\ttotal: 16.4s\tremaining: 3.18s\n",
      "419:\tlearn: 7.1309300\ttotal: 16.5s\tremaining: 3.15s\n",
      "420:\tlearn: 7.1293520\ttotal: 16.5s\tremaining: 3.1s\n",
      "421:\tlearn: 7.1282699\ttotal: 16.5s\tremaining: 3.06s\n",
      "422:\tlearn: 7.1271362\ttotal: 16.6s\tremaining: 3.03s\n",
      "423:\tlearn: 7.1258086\ttotal: 16.6s\tremaining: 2.98s\n",
      "424:\tlearn: 7.1246739\ttotal: 16.6s\tremaining: 2.94s\n",
      "425:\tlearn: 7.1229632\ttotal: 16.7s\tremaining: 2.91s\n",
      "426:\tlearn: 7.1218252\ttotal: 16.7s\tremaining: 2.86s\n",
      "427:\tlearn: 7.1206210\ttotal: 16.7s\tremaining: 2.82s\n",
      "428:\tlearn: 7.1196141\ttotal: 16.8s\tremaining: 2.79s\n",
      "429:\tlearn: 7.1186824\ttotal: 16.8s\tremaining: 2.74s\n",
      "430:\tlearn: 7.1175167\ttotal: 16.9s\tremaining: 2.71s\n",
      "431:\tlearn: 7.1163945\ttotal: 16.9s\tremaining: 2.67s\n",
      "432:\tlearn: 7.1148030\ttotal: 16.9s\tremaining: 2.62s\n",
      "433:\tlearn: 7.1139150\ttotal: 17s\tremaining: 2.59s\n",
      "434:\tlearn: 7.1125864\ttotal: 17s\tremaining: 2.54s\n",
      "435:\tlearn: 7.1113254\ttotal: 17s\tremaining: 2.5s\n",
      "436:\tlearn: 7.1100156\ttotal: 17.1s\tremaining: 2.47s\n",
      "437:\tlearn: 7.1087147\ttotal: 17.1s\tremaining: 2.42s\n",
      "438:\tlearn: 7.1072563\ttotal: 17.1s\tremaining: 2.38s\n",
      "439:\tlearn: 7.1061589\ttotal: 17.1s\tremaining: 2.34s\n",
      "440:\tlearn: 7.1050305\ttotal: 17.2s\tremaining: 2.3s\n",
      "441:\tlearn: 7.1037896\ttotal: 17.2s\tremaining: 2.26s\n",
      "442:\tlearn: 7.1028618\ttotal: 17.2s\tremaining: 2.22s\n",
      "443:\tlearn: 7.1015650\ttotal: 17.3s\tremaining: 2.19s\n",
      "444:\tlearn: 7.1000093\ttotal: 17.3s\tremaining: 2.14s\n",
      "445:\tlearn: 7.0988681\ttotal: 17.3s\tremaining: 2.1s\n",
      "446:\tlearn: 7.0974905\ttotal: 17.4s\tremaining: 2.07s\n",
      "447:\tlearn: 7.0962977\ttotal: 17.4s\tremaining: 2.02s\n",
      "448:\tlearn: 7.0954079\ttotal: 17.5s\tremaining: 1.99s\n",
      "449:\tlearn: 7.0940518\ttotal: 17.5s\tremaining: 1.95s\n",
      "450:\tlearn: 7.0931972\ttotal: 17.5s\tremaining: 1.91s\n",
      "451:\tlearn: 7.0922146\ttotal: 17.6s\tremaining: 1.87s\n",
      "452:\tlearn: 7.0910310\ttotal: 17.6s\tremaining: 1.83s\n",
      "453:\tlearn: 7.0894624\ttotal: 17.7s\tremaining: 1.79s\n",
      "454:\tlearn: 7.0883192\ttotal: 17.7s\tremaining: 1.75s\n",
      "455:\tlearn: 7.0870549\ttotal: 17.8s\tremaining: 1.71s\n",
      "456:\tlearn: 7.0860301\ttotal: 17.8s\tremaining: 1.68s\n",
      "457:\tlearn: 7.0849803\ttotal: 17.8s\tremaining: 1.63s\n",
      "458:\tlearn: 7.0839486\ttotal: 17.8s\tremaining: 1.59s\n",
      "459:\tlearn: 7.0832023\ttotal: 17.9s\tremaining: 1.56s\n",
      "460:\tlearn: 7.0823420\ttotal: 17.9s\tremaining: 1.52s\n",
      "461:\tlearn: 7.0812072\ttotal: 17.9s\tremaining: 1.47s\n",
      "462:\tlearn: 7.0802737\ttotal: 18s\tremaining: 1.44s\n",
      "463:\tlearn: 7.0790935\ttotal: 18s\tremaining: 1.4s\n",
      "464:\tlearn: 7.0775418\ttotal: 18.1s\tremaining: 1.36s\n",
      "465:\tlearn: 7.0766804\ttotal: 18.1s\tremaining: 1.32s\n",
      "466:\tlearn: 7.0754789\ttotal: 18.2s\tremaining: 1.29s\n",
      "467:\tlearn: 7.0742951\ttotal: 18.2s\tremaining: 1.25s\n",
      "468:\tlearn: 7.0730386\ttotal: 18.2s\tremaining: 1.2s\n",
      "469:\tlearn: 7.0720983\ttotal: 18.3s\tremaining: 1.17s\n",
      "470:\tlearn: 7.0711251\ttotal: 18.3s\tremaining: 1.13s\n",
      "471:\tlearn: 7.0701110\ttotal: 18.4s\tremaining: 1.09s\n",
      "472:\tlearn: 7.0688780\ttotal: 18.4s\tremaining: 1.05s\n",
      "473:\tlearn: 7.0680289\ttotal: 18.4s\tremaining: 1.01s\n",
      "474:\tlearn: 7.0669059\ttotal: 18.5s\tremaining: 974ms\n",
      "475:\tlearn: 7.0660323\ttotal: 18.5s\tremaining: 934ms\n",
      "476:\tlearn: 7.0649540\ttotal: 18.6s\tremaining: 897ms\n",
      "477:\tlearn: 7.0640999\ttotal: 18.6s\tremaining: 857ms\n",
      "478:\tlearn: 7.0630276\ttotal: 18.6s\tremaining: 816ms\n",
      "479:\tlearn: 7.0617863\ttotal: 18.7s\tremaining: 780ms\n",
      "480:\tlearn: 7.0607437\ttotal: 18.7s\tremaining: 739ms\n",
      "481:\tlearn: 7.0598365\ttotal: 18.8s\tremaining: 702ms\n",
      "482:\tlearn: 7.0588345\ttotal: 18.8s\tremaining: 662ms\n",
      "483:\tlearn: 7.0576132\ttotal: 18.8s\tremaining: 622ms\n",
      "484:\tlearn: 7.0564470\ttotal: 18.9s\tremaining: 585ms\n",
      "485:\tlearn: 7.0554963\ttotal: 18.9s\tremaining: 545ms\n",
      "486:\tlearn: 7.0541645\ttotal: 18.9s\tremaining: 505ms\n",
      "487:\tlearn: 7.0528665\ttotal: 19s\tremaining: 467ms\n",
      "488:\tlearn: 7.0518659\ttotal: 19s\tremaining: 428ms\n",
      "489:\tlearn: 7.0509965\ttotal: 19.1s\tremaining: 390ms\n",
      "490:\tlearn: 7.0499129\ttotal: 19.1s\tremaining: 350ms\n",
      "491:\tlearn: 7.0489468\ttotal: 19.1s\tremaining: 311ms\n",
      "492:\tlearn: 7.0477060\ttotal: 19.2s\tremaining: 273ms\n",
      "493:\tlearn: 7.0463022\ttotal: 19.2s\tremaining: 233ms\n",
      "494:\tlearn: 7.0455390\ttotal: 19.3s\tremaining: 195ms\n",
      "495:\tlearn: 7.0442877\ttotal: 19.3s\tremaining: 156ms\n",
      "496:\tlearn: 7.0428277\ttotal: 19.3s\tremaining: 117ms\n",
      "497:\tlearn: 7.0417372\ttotal: 19.4s\tremaining: 77.9ms\n",
      "498:\tlearn: 7.0409897\ttotal: 19.4s\tremaining: 38.9ms\n",
      "499:\tlearn: 7.0400233\ttotal: 19.4s\tremaining: 0us\n"
     ]
    }
   ],
   "source": [
    "model_cb.fit(features_train, target_train_final) # обучение и предсказания для этапа конечной очистки\n",
    "prediction_test_final = model_cb.predict(features_test)"
   ]
  },
  {
   "cell_type": "code",
   "execution_count": 86,
   "metadata": {},
   "outputs": [],
   "source": [
    "smape_test_rougher = sMAPE(target_test_rougher, prediction_test_rougher)\n",
    "smape_test_final = sMAPE(target_test_final, prediction_test_final)\n",
    "total_smape_test = total_sMAPE(smape_test_rougher, smape_test_final)"
   ]
  },
  {
   "cell_type": "code",
   "execution_count": 87,
   "metadata": {},
   "outputs": [
    {
     "name": "stdout",
     "output_type": "stream",
     "text": [
      "Значение метрики total_sMAPE для модели CatBoostRegressor на тестовой выборке: 6.452619493531651\n"
     ]
    }
   ],
   "source": [
    "print('Значение метрики total_sMAPE для модели CatBoostRegressor на тестовой выборке:', total_smape_test)"
   ]
  },
  {
   "cell_type": "markdown",
   "metadata": {},
   "source": [
    "## Общий вывод"
   ]
  },
  {
   "cell_type": "markdown",
   "metadata": {},
   "source": [
    "В ходе реализации проекта были проведены эксперименты с несколькими моделями машинного обучения для предсказания коэффициента восстановления золота из золотосодержащей руды.\n",
    "\n",
    "В результате наилучшая метрика качества была достигнута при применении модели CatBoostRegressor - на тестовой выборке получено значение метрики \"итоговое sMAPE\", равное 6,45%. Этот результат позволяет дать рекомендацию заказчику для использования данной модели в производственном процессе."
   ]
  },
  {
   "cell_type": "code",
   "execution_count": null,
   "metadata": {},
   "outputs": [],
   "source": []
  }
 ],
 "metadata": {
  "ExecuteTimeLog": [
   {
    "duration": 1258,
    "start_time": "2022-03-09T11:01:41.280Z"
   },
   {
    "duration": 886,
    "start_time": "2022-03-09T11:01:44.594Z"
   },
   {
    "duration": 52,
    "start_time": "2022-03-09T11:01:53.575Z"
   },
   {
    "duration": 24,
    "start_time": "2022-03-09T11:02:17.877Z"
   },
   {
    "duration": 15,
    "start_time": "2022-03-09T11:02:47.605Z"
   },
   {
    "duration": 28,
    "start_time": "2022-03-09T11:03:19.193Z"
   },
   {
    "duration": 1390,
    "start_time": "2022-03-10T14:13:08.615Z"
   },
   {
    "duration": 635,
    "start_time": "2022-03-10T14:13:10.007Z"
   },
   {
    "duration": 15,
    "start_time": "2022-03-10T14:13:10.644Z"
   },
   {
    "duration": 9,
    "start_time": "2022-03-10T14:13:10.660Z"
   },
   {
    "duration": 36,
    "start_time": "2022-03-10T14:13:10.671Z"
   },
   {
    "duration": 32,
    "start_time": "2022-03-10T14:13:18.957Z"
   },
   {
    "duration": 14,
    "start_time": "2022-03-10T14:29:50.967Z"
   },
   {
    "duration": 15,
    "start_time": "2022-03-10T14:30:05.067Z"
   },
   {
    "duration": 514,
    "start_time": "2022-03-10T14:39:26.262Z"
   },
   {
    "duration": 7,
    "start_time": "2022-03-10T14:39:42.445Z"
   },
   {
    "duration": 331,
    "start_time": "2022-03-10T14:39:59.041Z"
   },
   {
    "duration": 382,
    "start_time": "2022-03-10T14:40:19.953Z"
   },
   {
    "duration": 471,
    "start_time": "2022-03-10T14:40:48.237Z"
   },
   {
    "duration": 4,
    "start_time": "2022-03-10T14:41:04.512Z"
   },
   {
    "duration": 629,
    "start_time": "2022-03-10T14:41:04.518Z"
   },
   {
    "duration": 13,
    "start_time": "2022-03-10T14:41:05.149Z"
   },
   {
    "duration": 9,
    "start_time": "2022-03-10T14:41:05.164Z"
   },
   {
    "duration": 12,
    "start_time": "2022-03-10T14:41:21.584Z"
   },
   {
    "duration": 15,
    "start_time": "2022-03-10T14:41:25.864Z"
   },
   {
    "duration": 13,
    "start_time": "2022-03-10T14:44:15.222Z"
   },
   {
    "duration": 8,
    "start_time": "2022-03-10T14:44:16.042Z"
   },
   {
    "duration": 4,
    "start_time": "2022-03-10T14:44:18.053Z"
   },
   {
    "duration": 13,
    "start_time": "2022-03-10T14:44:37.941Z"
   },
   {
    "duration": 11,
    "start_time": "2022-03-10T14:45:01.141Z"
   },
   {
    "duration": 95,
    "start_time": "2022-03-10T15:10:08.659Z"
   },
   {
    "duration": 8,
    "start_time": "2022-03-10T15:10:21.980Z"
   },
   {
    "duration": 21,
    "start_time": "2022-03-10T15:10:37.921Z"
   },
   {
    "duration": 23,
    "start_time": "2022-03-10T15:16:09.919Z"
   },
   {
    "duration": 6,
    "start_time": "2022-03-10T15:18:02.448Z"
   },
   {
    "duration": 6,
    "start_time": "2022-03-10T15:18:51.676Z"
   },
   {
    "duration": 6,
    "start_time": "2022-03-10T15:19:26.597Z"
   },
   {
    "duration": 5,
    "start_time": "2022-03-10T15:19:49.565Z"
   },
   {
    "duration": 5,
    "start_time": "2022-03-10T15:20:09.566Z"
   },
   {
    "duration": 5,
    "start_time": "2022-03-10T15:25:33.724Z"
   },
   {
    "duration": 4,
    "start_time": "2022-03-10T15:25:41.108Z"
   },
   {
    "duration": 4,
    "start_time": "2022-03-10T15:26:35.106Z"
   },
   {
    "duration": 5,
    "start_time": "2022-03-10T15:26:40.019Z"
   },
   {
    "duration": 4,
    "start_time": "2022-03-10T15:28:01.344Z"
   },
   {
    "duration": 6,
    "start_time": "2022-03-10T15:28:15.171Z"
   },
   {
    "duration": 5,
    "start_time": "2022-03-10T15:32:14.074Z"
   },
   {
    "duration": 5,
    "start_time": "2022-03-10T15:32:41.998Z"
   },
   {
    "duration": 5,
    "start_time": "2022-03-10T15:32:45.391Z"
   },
   {
    "duration": 5,
    "start_time": "2022-03-10T15:33:27.163Z"
   },
   {
    "duration": 4,
    "start_time": "2022-03-10T15:33:33.495Z"
   },
   {
    "duration": 4,
    "start_time": "2022-03-10T16:10:17.048Z"
   },
   {
    "duration": 6,
    "start_time": "2022-03-10T16:10:33.760Z"
   },
   {
    "duration": 5,
    "start_time": "2022-03-10T16:10:39.311Z"
   },
   {
    "duration": 5,
    "start_time": "2022-03-10T16:10:46.540Z"
   },
   {
    "duration": 3,
    "start_time": "2022-03-10T16:11:48.238Z"
   },
   {
    "duration": 6,
    "start_time": "2022-03-10T16:11:57.944Z"
   },
   {
    "duration": 7,
    "start_time": "2022-03-10T16:12:26.765Z"
   },
   {
    "duration": 293,
    "start_time": "2022-03-10T16:13:54.881Z"
   },
   {
    "duration": 3,
    "start_time": "2022-03-10T16:14:02.266Z"
   },
   {
    "duration": 5,
    "start_time": "2022-03-10T16:14:12.718Z"
   },
   {
    "duration": 5,
    "start_time": "2022-03-10T16:15:01.606Z"
   },
   {
    "duration": 1026,
    "start_time": "2022-03-11T07:12:12.519Z"
   },
   {
    "duration": 650,
    "start_time": "2022-03-11T07:12:13.547Z"
   },
   {
    "duration": 14,
    "start_time": "2022-03-11T07:12:14.198Z"
   },
   {
    "duration": 8,
    "start_time": "2022-03-11T07:12:14.214Z"
   },
   {
    "duration": 13,
    "start_time": "2022-03-11T07:12:14.224Z"
   },
   {
    "duration": 13,
    "start_time": "2022-03-11T07:12:14.239Z"
   },
   {
    "duration": 9,
    "start_time": "2022-03-11T07:12:14.253Z"
   },
   {
    "duration": 4,
    "start_time": "2022-03-11T07:12:14.264Z"
   },
   {
    "duration": 44,
    "start_time": "2022-03-11T07:12:14.270Z"
   },
   {
    "duration": 12,
    "start_time": "2022-03-11T07:12:14.316Z"
   },
   {
    "duration": 8,
    "start_time": "2022-03-11T07:12:14.330Z"
   },
   {
    "duration": 6,
    "start_time": "2022-03-11T07:12:14.340Z"
   },
   {
    "duration": 19,
    "start_time": "2022-03-11T07:12:14.348Z"
   },
   {
    "duration": 37,
    "start_time": "2022-03-11T07:12:14.369Z"
   },
   {
    "duration": 4,
    "start_time": "2022-03-11T07:12:14.408Z"
   },
   {
    "duration": 9,
    "start_time": "2022-03-11T07:12:14.414Z"
   },
   {
    "duration": 5,
    "start_time": "2022-03-11T07:12:14.424Z"
   },
   {
    "duration": 377,
    "start_time": "2022-03-11T08:05:47.704Z"
   },
   {
    "duration": 311,
    "start_time": "2022-03-11T08:06:42.121Z"
   },
   {
    "duration": 318,
    "start_time": "2022-03-11T08:08:46.541Z"
   },
   {
    "duration": 299,
    "start_time": "2022-03-11T08:11:37.604Z"
   },
   {
    "duration": 311,
    "start_time": "2022-03-11T08:12:00.024Z"
   },
   {
    "duration": 4,
    "start_time": "2022-03-11T08:12:32.372Z"
   },
   {
    "duration": 4,
    "start_time": "2022-03-11T08:12:56.273Z"
   },
   {
    "duration": 3,
    "start_time": "2022-03-11T08:16:19.640Z"
   },
   {
    "duration": 6,
    "start_time": "2022-03-11T08:16:32.722Z"
   },
   {
    "duration": 3,
    "start_time": "2022-03-11T08:18:10.337Z"
   },
   {
    "duration": 6,
    "start_time": "2022-03-11T08:18:22.452Z"
   },
   {
    "duration": 319,
    "start_time": "2022-03-11T08:20:27.932Z"
   },
   {
    "duration": 9,
    "start_time": "2022-03-11T08:20:56.172Z"
   },
   {
    "duration": 6,
    "start_time": "2022-03-11T08:21:46.400Z"
   },
   {
    "duration": 5,
    "start_time": "2022-03-11T08:21:54.987Z"
   },
   {
    "duration": 5,
    "start_time": "2022-03-11T08:23:00.295Z"
   },
   {
    "duration": 7,
    "start_time": "2022-03-11T08:24:31.451Z"
   },
   {
    "duration": 5,
    "start_time": "2022-03-11T08:24:33.392Z"
   },
   {
    "duration": 1005,
    "start_time": "2022-03-11T08:25:17.206Z"
   },
   {
    "duration": 673,
    "start_time": "2022-03-11T08:25:18.213Z"
   },
   {
    "duration": 23,
    "start_time": "2022-03-11T08:25:18.888Z"
   },
   {
    "duration": 14,
    "start_time": "2022-03-11T08:25:18.914Z"
   },
   {
    "duration": 24,
    "start_time": "2022-03-11T08:25:18.930Z"
   },
   {
    "duration": 17,
    "start_time": "2022-03-11T08:25:18.956Z"
   },
   {
    "duration": 36,
    "start_time": "2022-03-11T08:25:18.976Z"
   },
   {
    "duration": 4,
    "start_time": "2022-03-11T08:25:19.015Z"
   },
   {
    "duration": 19,
    "start_time": "2022-03-11T08:25:19.020Z"
   },
   {
    "duration": 14,
    "start_time": "2022-03-11T08:25:19.040Z"
   },
   {
    "duration": 10,
    "start_time": "2022-03-11T08:25:19.055Z"
   },
   {
    "duration": 6,
    "start_time": "2022-03-11T08:25:19.066Z"
   },
   {
    "duration": 10,
    "start_time": "2022-03-11T08:25:19.105Z"
   },
   {
    "duration": 5,
    "start_time": "2022-03-11T08:25:19.117Z"
   },
   {
    "duration": 5,
    "start_time": "2022-03-11T08:25:19.123Z"
   },
   {
    "duration": 5,
    "start_time": "2022-03-11T08:25:19.130Z"
   },
   {
    "duration": 3,
    "start_time": "2022-03-11T08:25:19.136Z"
   },
   {
    "duration": 7,
    "start_time": "2022-03-11T08:25:19.141Z"
   },
   {
    "duration": 14,
    "start_time": "2022-03-11T08:25:19.150Z"
   },
   {
    "duration": 40,
    "start_time": "2022-03-11T08:25:19.166Z"
   },
   {
    "duration": 5,
    "start_time": "2022-03-11T08:27:08.515Z"
   },
   {
    "duration": 10,
    "start_time": "2022-03-11T08:32:14.890Z"
   },
   {
    "duration": 8123,
    "start_time": "2022-03-11T08:32:17.622Z"
   },
   {
    "duration": 25,
    "start_time": "2022-03-11T08:42:50.243Z"
   },
   {
    "duration": 4,
    "start_time": "2022-03-11T08:43:49.637Z"
   },
   {
    "duration": 671,
    "start_time": "2022-03-11T08:43:49.643Z"
   },
   {
    "duration": 15,
    "start_time": "2022-03-11T08:43:50.316Z"
   },
   {
    "duration": 10,
    "start_time": "2022-03-11T08:43:50.333Z"
   },
   {
    "duration": 15,
    "start_time": "2022-03-11T08:43:50.345Z"
   },
   {
    "duration": 43,
    "start_time": "2022-03-11T08:43:50.362Z"
   },
   {
    "duration": 9,
    "start_time": "2022-03-11T08:43:50.408Z"
   },
   {
    "duration": 3,
    "start_time": "2022-03-11T08:43:50.419Z"
   },
   {
    "duration": 16,
    "start_time": "2022-03-11T08:43:50.424Z"
   },
   {
    "duration": 14,
    "start_time": "2022-03-11T08:43:50.441Z"
   },
   {
    "duration": 9,
    "start_time": "2022-03-11T08:43:50.456Z"
   },
   {
    "duration": 4,
    "start_time": "2022-03-11T08:43:50.467Z"
   },
   {
    "duration": 38,
    "start_time": "2022-03-11T08:43:50.472Z"
   },
   {
    "duration": 7,
    "start_time": "2022-03-11T08:43:50.511Z"
   },
   {
    "duration": 26,
    "start_time": "2022-03-11T08:43:50.519Z"
   },
   {
    "duration": 4,
    "start_time": "2022-03-11T08:43:50.547Z"
   },
   {
    "duration": 6,
    "start_time": "2022-03-11T08:43:50.553Z"
   },
   {
    "duration": 12,
    "start_time": "2022-03-11T08:43:50.560Z"
   },
   {
    "duration": 47,
    "start_time": "2022-03-11T08:43:50.574Z"
   },
   {
    "duration": 7832,
    "start_time": "2022-03-11T08:43:50.623Z"
   },
   {
    "duration": -6722,
    "start_time": "2022-03-11T08:44:05.179Z"
   },
   {
    "duration": -6740,
    "start_time": "2022-03-11T08:44:05.198Z"
   },
   {
    "duration": 14,
    "start_time": "2022-03-11T08:44:57.101Z"
   },
   {
    "duration": 5,
    "start_time": "2022-03-11T08:45:03.122Z"
   },
   {
    "duration": 6,
    "start_time": "2022-03-11T08:45:16.049Z"
   },
   {
    "duration": 4,
    "start_time": "2022-03-11T08:47:05.976Z"
   },
   {
    "duration": 675,
    "start_time": "2022-03-11T08:47:05.982Z"
   },
   {
    "duration": 14,
    "start_time": "2022-03-11T08:47:06.658Z"
   },
   {
    "duration": 10,
    "start_time": "2022-03-11T08:47:06.674Z"
   },
   {
    "duration": 34,
    "start_time": "2022-03-11T08:47:06.686Z"
   },
   {
    "duration": 15,
    "start_time": "2022-03-11T08:47:06.721Z"
   },
   {
    "duration": 12,
    "start_time": "2022-03-11T08:47:06.739Z"
   },
   {
    "duration": 12,
    "start_time": "2022-03-11T08:47:06.753Z"
   },
   {
    "duration": 16,
    "start_time": "2022-03-11T08:47:06.766Z"
   },
   {
    "duration": 31,
    "start_time": "2022-03-11T08:47:06.784Z"
   },
   {
    "duration": 9,
    "start_time": "2022-03-11T08:47:06.817Z"
   },
   {
    "duration": 4,
    "start_time": "2022-03-11T08:47:06.828Z"
   },
   {
    "duration": 6,
    "start_time": "2022-03-11T08:47:06.833Z"
   },
   {
    "duration": 5,
    "start_time": "2022-03-11T08:47:06.841Z"
   },
   {
    "duration": 59,
    "start_time": "2022-03-11T08:47:06.847Z"
   },
   {
    "duration": 5,
    "start_time": "2022-03-11T08:47:06.908Z"
   },
   {
    "duration": 11,
    "start_time": "2022-03-11T08:47:06.914Z"
   },
   {
    "duration": 5,
    "start_time": "2022-03-11T08:47:06.926Z"
   },
   {
    "duration": 27,
    "start_time": "2022-03-11T08:47:06.934Z"
   },
   {
    "duration": 10,
    "start_time": "2022-03-11T08:47:06.962Z"
   },
   {
    "duration": 8,
    "start_time": "2022-03-11T08:47:06.973Z"
   },
   {
    "duration": 25,
    "start_time": "2022-03-11T08:47:06.982Z"
   },
   {
    "duration": 3,
    "start_time": "2022-03-11T08:50:21.416Z"
   },
   {
    "duration": 684,
    "start_time": "2022-03-11T08:50:21.422Z"
   },
   {
    "duration": 14,
    "start_time": "2022-03-11T08:50:22.108Z"
   },
   {
    "duration": 15,
    "start_time": "2022-03-11T08:50:22.124Z"
   },
   {
    "duration": 23,
    "start_time": "2022-03-11T08:50:22.141Z"
   },
   {
    "duration": 21,
    "start_time": "2022-03-11T08:50:22.165Z"
   },
   {
    "duration": 8,
    "start_time": "2022-03-11T08:50:22.188Z"
   },
   {
    "duration": 10,
    "start_time": "2022-03-11T08:50:22.198Z"
   },
   {
    "duration": 27,
    "start_time": "2022-03-11T08:50:22.210Z"
   },
   {
    "duration": 19,
    "start_time": "2022-03-11T08:50:22.239Z"
   },
   {
    "duration": 18,
    "start_time": "2022-03-11T08:50:22.259Z"
   },
   {
    "duration": 9,
    "start_time": "2022-03-11T08:50:22.279Z"
   },
   {
    "duration": 15,
    "start_time": "2022-03-11T08:50:22.289Z"
   },
   {
    "duration": 23,
    "start_time": "2022-03-11T08:50:22.305Z"
   },
   {
    "duration": 38,
    "start_time": "2022-03-11T08:50:22.329Z"
   },
   {
    "duration": 4,
    "start_time": "2022-03-11T08:50:22.369Z"
   },
   {
    "duration": 24,
    "start_time": "2022-03-11T08:50:22.375Z"
   },
   {
    "duration": 14,
    "start_time": "2022-03-11T08:50:22.400Z"
   },
   {
    "duration": 26,
    "start_time": "2022-03-11T08:50:22.416Z"
   },
   {
    "duration": 7,
    "start_time": "2022-03-11T08:50:22.443Z"
   },
   {
    "duration": 16,
    "start_time": "2022-03-11T08:50:22.452Z"
   },
   {
    "duration": 12,
    "start_time": "2022-03-11T08:50:22.469Z"
   },
   {
    "duration": 3,
    "start_time": "2022-03-11T08:51:08.431Z"
   },
   {
    "duration": 661,
    "start_time": "2022-03-11T08:51:08.439Z"
   },
   {
    "duration": 14,
    "start_time": "2022-03-11T08:51:09.102Z"
   },
   {
    "duration": 10,
    "start_time": "2022-03-11T08:51:09.118Z"
   },
   {
    "duration": 15,
    "start_time": "2022-03-11T08:51:09.130Z"
   },
   {
    "duration": 12,
    "start_time": "2022-03-11T08:51:09.146Z"
   },
   {
    "duration": 7,
    "start_time": "2022-03-11T08:51:09.159Z"
   },
   {
    "duration": 37,
    "start_time": "2022-03-11T08:51:09.168Z"
   },
   {
    "duration": 15,
    "start_time": "2022-03-11T08:51:09.207Z"
   },
   {
    "duration": 13,
    "start_time": "2022-03-11T08:51:09.224Z"
   },
   {
    "duration": 9,
    "start_time": "2022-03-11T08:51:09.239Z"
   },
   {
    "duration": 4,
    "start_time": "2022-03-11T08:51:09.250Z"
   },
   {
    "duration": 8,
    "start_time": "2022-03-11T08:51:09.255Z"
   },
   {
    "duration": 5,
    "start_time": "2022-03-11T08:51:09.264Z"
   },
   {
    "duration": 59,
    "start_time": "2022-03-11T08:51:09.270Z"
   },
   {
    "duration": 5,
    "start_time": "2022-03-11T08:51:09.330Z"
   },
   {
    "duration": 9,
    "start_time": "2022-03-11T08:51:09.336Z"
   },
   {
    "duration": 5,
    "start_time": "2022-03-11T08:51:09.346Z"
   },
   {
    "duration": 27,
    "start_time": "2022-03-11T08:51:09.353Z"
   },
   {
    "duration": 27,
    "start_time": "2022-03-11T08:51:09.382Z"
   },
   {
    "duration": 8,
    "start_time": "2022-03-11T08:51:09.411Z"
   },
   {
    "duration": 6,
    "start_time": "2022-03-11T08:51:09.421Z"
   },
   {
    "duration": 4,
    "start_time": "2022-03-11T08:54:24.829Z"
   },
   {
    "duration": 3,
    "start_time": "2022-03-11T08:54:35.249Z"
   },
   {
    "duration": 660,
    "start_time": "2022-03-11T08:54:35.255Z"
   },
   {
    "duration": 15,
    "start_time": "2022-03-11T08:54:35.917Z"
   },
   {
    "duration": 10,
    "start_time": "2022-03-11T08:54:35.934Z"
   },
   {
    "duration": 15,
    "start_time": "2022-03-11T08:54:35.946Z"
   },
   {
    "duration": 11,
    "start_time": "2022-03-11T08:54:35.963Z"
   },
   {
    "duration": 37,
    "start_time": "2022-03-11T08:54:35.976Z"
   },
   {
    "duration": 8,
    "start_time": "2022-03-11T08:54:36.014Z"
   },
   {
    "duration": 15,
    "start_time": "2022-03-11T08:54:36.025Z"
   },
   {
    "duration": 13,
    "start_time": "2022-03-11T08:54:36.042Z"
   },
   {
    "duration": 8,
    "start_time": "2022-03-11T08:54:36.056Z"
   },
   {
    "duration": 4,
    "start_time": "2022-03-11T08:54:36.066Z"
   },
   {
    "duration": 37,
    "start_time": "2022-03-11T08:54:36.071Z"
   },
   {
    "duration": 7,
    "start_time": "2022-03-11T08:54:36.110Z"
   },
   {
    "duration": 31,
    "start_time": "2022-03-11T08:54:36.118Z"
   },
   {
    "duration": 4,
    "start_time": "2022-03-11T08:54:36.151Z"
   },
   {
    "duration": 7,
    "start_time": "2022-03-11T08:54:36.157Z"
   },
   {
    "duration": 4,
    "start_time": "2022-03-11T08:54:36.166Z"
   },
   {
    "duration": 40,
    "start_time": "2022-03-11T08:54:36.172Z"
   },
   {
    "duration": 7,
    "start_time": "2022-03-11T08:54:36.213Z"
   },
   {
    "duration": 7,
    "start_time": "2022-03-11T08:54:36.222Z"
   },
   {
    "duration": 6,
    "start_time": "2022-03-11T08:54:36.230Z"
   },
   {
    "duration": 5,
    "start_time": "2022-03-11T08:56:46.161Z"
   },
   {
    "duration": 4,
    "start_time": "2022-03-11T08:57:09.838Z"
   },
   {
    "duration": 5,
    "start_time": "2022-03-11T08:57:29.319Z"
   },
   {
    "duration": 5,
    "start_time": "2022-03-11T09:04:51.028Z"
   },
   {
    "duration": 6,
    "start_time": "2022-03-11T09:28:36.419Z"
   },
   {
    "duration": 5,
    "start_time": "2022-03-11T09:28:42.595Z"
   },
   {
    "duration": 3,
    "start_time": "2022-03-11T09:29:20.780Z"
   },
   {
    "duration": 662,
    "start_time": "2022-03-11T09:29:20.785Z"
   },
   {
    "duration": 14,
    "start_time": "2022-03-11T09:29:21.449Z"
   },
   {
    "duration": 9,
    "start_time": "2022-03-11T09:29:21.465Z"
   },
   {
    "duration": 36,
    "start_time": "2022-03-11T09:29:21.475Z"
   },
   {
    "duration": 13,
    "start_time": "2022-03-11T09:29:21.512Z"
   },
   {
    "duration": 8,
    "start_time": "2022-03-11T09:29:21.527Z"
   },
   {
    "duration": 4,
    "start_time": "2022-03-11T09:29:21.537Z"
   },
   {
    "duration": 15,
    "start_time": "2022-03-11T09:29:21.543Z"
   },
   {
    "duration": 14,
    "start_time": "2022-03-11T09:29:21.560Z"
   },
   {
    "duration": 10,
    "start_time": "2022-03-11T09:29:21.605Z"
   },
   {
    "duration": 5,
    "start_time": "2022-03-11T09:29:21.617Z"
   },
   {
    "duration": 5,
    "start_time": "2022-03-11T09:29:21.623Z"
   },
   {
    "duration": 5,
    "start_time": "2022-03-11T09:29:21.629Z"
   },
   {
    "duration": 28,
    "start_time": "2022-03-11T09:29:21.636Z"
   },
   {
    "duration": 4,
    "start_time": "2022-03-11T09:29:21.666Z"
   },
   {
    "duration": 34,
    "start_time": "2022-03-11T09:29:21.672Z"
   },
   {
    "duration": 2,
    "start_time": "2022-03-11T09:29:21.708Z"
   },
   {
    "duration": 25,
    "start_time": "2022-03-11T09:29:21.712Z"
   },
   {
    "duration": 9,
    "start_time": "2022-03-11T09:29:21.738Z"
   },
   {
    "duration": 8,
    "start_time": "2022-03-11T09:29:21.749Z"
   },
   {
    "duration": 5753,
    "start_time": "2022-03-11T09:29:21.758Z"
   },
   {
    "duration": 4,
    "start_time": "2022-03-11T09:32:26.098Z"
   },
   {
    "duration": 6,
    "start_time": "2022-03-11T09:32:27.706Z"
   },
   {
    "duration": 5703,
    "start_time": "2022-03-11T09:32:30.467Z"
   },
   {
    "duration": 4,
    "start_time": "2022-03-11T09:32:50.135Z"
   },
   {
    "duration": 23,
    "start_time": "2022-03-11T09:32:51.271Z"
   },
   {
    "duration": 8,
    "start_time": "2022-03-11T09:32:52.595Z"
   },
   {
    "duration": 5,
    "start_time": "2022-03-11T09:32:53.788Z"
   },
   {
    "duration": 3,
    "start_time": "2022-03-11T09:32:56.395Z"
   },
   {
    "duration": 5,
    "start_time": "2022-03-11T09:34:11.857Z"
   },
   {
    "duration": 5,
    "start_time": "2022-03-11T09:34:21.139Z"
   },
   {
    "duration": 4,
    "start_time": "2022-03-11T09:35:33.280Z"
   },
   {
    "duration": 6,
    "start_time": "2022-03-11T09:35:49.962Z"
   },
   {
    "duration": 4,
    "start_time": "2022-03-11T09:36:05.516Z"
   },
   {
    "duration": 4,
    "start_time": "2022-03-11T09:36:16.651Z"
   },
   {
    "duration": 16,
    "start_time": "2022-03-11T09:36:37.622Z"
   },
   {
    "duration": 2,
    "start_time": "2022-03-11T09:38:16.470Z"
   },
   {
    "duration": 4,
    "start_time": "2022-03-11T09:38:23.944Z"
   },
   {
    "duration": 140,
    "start_time": "2022-03-11T09:41:11.893Z"
   },
   {
    "duration": 11,
    "start_time": "2022-03-11T09:42:34.272Z"
   },
   {
    "duration": 10,
    "start_time": "2022-03-11T09:42:54.778Z"
   },
   {
    "duration": 23,
    "start_time": "2022-03-11T09:45:16.285Z"
   },
   {
    "duration": 5,
    "start_time": "2022-03-11T11:25:23.197Z"
   },
   {
    "duration": 5,
    "start_time": "2022-03-11T11:25:52.324Z"
   },
   {
    "duration": 5,
    "start_time": "2022-03-11T11:26:19.529Z"
   },
   {
    "duration": 7,
    "start_time": "2022-03-11T11:26:59.379Z"
   },
   {
    "duration": 7,
    "start_time": "2022-03-11T11:27:28.152Z"
   },
   {
    "duration": 7,
    "start_time": "2022-03-11T11:27:37.467Z"
   },
   {
    "duration": 7,
    "start_time": "2022-03-11T11:28:24.293Z"
   },
   {
    "duration": 7,
    "start_time": "2022-03-11T11:28:50.285Z"
   },
   {
    "duration": 7,
    "start_time": "2022-03-11T11:29:11.660Z"
   },
   {
    "duration": 7,
    "start_time": "2022-03-11T11:29:39.234Z"
   },
   {
    "duration": 6,
    "start_time": "2022-03-11T11:30:55.615Z"
   },
   {
    "duration": 7,
    "start_time": "2022-03-11T11:31:28.328Z"
   },
   {
    "duration": 7,
    "start_time": "2022-03-11T11:31:49.414Z"
   },
   {
    "duration": 9,
    "start_time": "2022-03-11T11:34:36.543Z"
   },
   {
    "duration": 8,
    "start_time": "2022-03-11T11:36:29.193Z"
   },
   {
    "duration": 9,
    "start_time": "2022-03-11T11:36:58.725Z"
   },
   {
    "duration": 9,
    "start_time": "2022-03-11T11:37:16.587Z"
   },
   {
    "duration": 9,
    "start_time": "2022-03-11T11:37:39.710Z"
   },
   {
    "duration": 8,
    "start_time": "2022-03-11T11:38:54.873Z"
   },
   {
    "duration": 8,
    "start_time": "2022-03-11T11:39:49.041Z"
   },
   {
    "duration": 9,
    "start_time": "2022-03-11T11:48:10.447Z"
   },
   {
    "duration": 11,
    "start_time": "2022-03-11T11:48:31.232Z"
   },
   {
    "duration": 9,
    "start_time": "2022-03-11T11:49:02.402Z"
   },
   {
    "duration": 401,
    "start_time": "2022-03-11T11:49:28.353Z"
   },
   {
    "duration": 11,
    "start_time": "2022-03-11T11:49:43.400Z"
   },
   {
    "duration": 10,
    "start_time": "2022-03-11T11:50:05.137Z"
   },
   {
    "duration": 9,
    "start_time": "2022-03-11T11:51:47.492Z"
   },
   {
    "duration": 8,
    "start_time": "2022-03-11T11:52:19.479Z"
   },
   {
    "duration": 9,
    "start_time": "2022-03-11T11:52:38.283Z"
   },
   {
    "duration": 10,
    "start_time": "2022-03-11T11:53:27.149Z"
   },
   {
    "duration": 122,
    "start_time": "2022-03-11T12:09:27.468Z"
   },
   {
    "duration": 3,
    "start_time": "2022-03-11T12:11:00.883Z"
   },
   {
    "duration": 7,
    "start_time": "2022-03-11T12:13:01.474Z"
   },
   {
    "duration": 7,
    "start_time": "2022-03-11T12:13:33.058Z"
   },
   {
    "duration": 314,
    "start_time": "2022-03-11T12:15:28.836Z"
   },
   {
    "duration": 478,
    "start_time": "2022-03-11T12:15:56.733Z"
   },
   {
    "duration": 553,
    "start_time": "2022-03-11T12:16:05.306Z"
   },
   {
    "duration": 476,
    "start_time": "2022-03-11T12:16:31.047Z"
   },
   {
    "duration": 518,
    "start_time": "2022-03-11T12:18:11.139Z"
   },
   {
    "duration": 299,
    "start_time": "2022-03-11T12:18:17.647Z"
   },
   {
    "duration": 340,
    "start_time": "2022-03-11T12:18:24.869Z"
   },
   {
    "duration": 404,
    "start_time": "2022-03-11T12:18:39.133Z"
   },
   {
    "duration": 561,
    "start_time": "2022-03-11T12:18:53.607Z"
   },
   {
    "duration": 268,
    "start_time": "2022-03-11T12:19:21.574Z"
   },
   {
    "duration": 6,
    "start_time": "2022-03-11T12:20:22.626Z"
   },
   {
    "duration": 7,
    "start_time": "2022-03-11T12:20:26.365Z"
   },
   {
    "duration": 271,
    "start_time": "2022-03-11T12:21:53.929Z"
   },
   {
    "duration": 265,
    "start_time": "2022-03-11T12:22:22.743Z"
   },
   {
    "duration": 262,
    "start_time": "2022-03-11T12:22:44.339Z"
   },
   {
    "duration": 363,
    "start_time": "2022-03-11T12:23:01.131Z"
   },
   {
    "duration": 272,
    "start_time": "2022-03-11T12:23:19.453Z"
   },
   {
    "duration": 278,
    "start_time": "2022-03-11T12:23:56.482Z"
   },
   {
    "duration": 298,
    "start_time": "2022-03-11T12:24:26.864Z"
   },
   {
    "duration": 5,
    "start_time": "2022-03-11T12:27:27.744Z"
   },
   {
    "duration": 5,
    "start_time": "2022-03-11T12:27:46.006Z"
   },
   {
    "duration": 4,
    "start_time": "2022-03-11T12:28:34.819Z"
   },
   {
    "duration": 5,
    "start_time": "2022-03-11T12:28:52.404Z"
   },
   {
    "duration": 7,
    "start_time": "2022-03-11T13:16:20.076Z"
   },
   {
    "duration": 109,
    "start_time": "2022-03-11T13:17:09.136Z"
   },
   {
    "duration": 7,
    "start_time": "2022-03-11T13:17:27.753Z"
   },
   {
    "duration": 6,
    "start_time": "2022-03-11T13:17:46.607Z"
   },
   {
    "duration": 5,
    "start_time": "2022-03-11T13:18:00.717Z"
   },
   {
    "duration": 1492,
    "start_time": "2022-03-12T14:59:13.301Z"
   },
   {
    "duration": 976,
    "start_time": "2022-03-12T14:59:14.796Z"
   },
   {
    "duration": 25,
    "start_time": "2022-03-12T14:59:15.775Z"
   },
   {
    "duration": 17,
    "start_time": "2022-03-12T14:59:15.803Z"
   },
   {
    "duration": 51,
    "start_time": "2022-03-12T14:59:15.823Z"
   },
   {
    "duration": 17,
    "start_time": "2022-03-12T14:59:15.876Z"
   },
   {
    "duration": 12,
    "start_time": "2022-03-12T14:59:15.896Z"
   },
   {
    "duration": 42,
    "start_time": "2022-03-12T14:59:15.911Z"
   },
   {
    "duration": 28,
    "start_time": "2022-03-12T14:59:15.957Z"
   },
   {
    "duration": 25,
    "start_time": "2022-03-12T14:59:15.990Z"
   },
   {
    "duration": 49,
    "start_time": "2022-03-12T14:59:16.018Z"
   },
   {
    "duration": 12,
    "start_time": "2022-03-12T14:59:16.071Z"
   },
   {
    "duration": 10,
    "start_time": "2022-03-12T14:59:16.086Z"
   },
   {
    "duration": 8,
    "start_time": "2022-03-12T14:59:16.098Z"
   },
   {
    "duration": 82,
    "start_time": "2022-03-12T14:59:16.108Z"
   },
   {
    "duration": 8,
    "start_time": "2022-03-12T14:59:16.193Z"
   },
   {
    "duration": 8,
    "start_time": "2022-03-12T14:59:16.204Z"
   },
   {
    "duration": 45,
    "start_time": "2022-03-12T14:59:16.215Z"
   },
   {
    "duration": 43,
    "start_time": "2022-03-12T14:59:16.262Z"
   },
   {
    "duration": 10,
    "start_time": "2022-03-12T14:59:16.307Z"
   },
   {
    "duration": 37,
    "start_time": "2022-03-12T14:59:16.320Z"
   },
   {
    "duration": 7,
    "start_time": "2022-03-12T14:59:16.360Z"
   },
   {
    "duration": 7,
    "start_time": "2022-03-12T14:59:16.370Z"
   },
   {
    "duration": 10,
    "start_time": "2022-03-12T14:59:16.380Z"
   },
   {
    "duration": 5,
    "start_time": "2022-03-12T14:59:16.392Z"
   },
   {
    "duration": 64,
    "start_time": "2022-03-12T14:59:16.400Z"
   },
   {
    "duration": 3,
    "start_time": "2022-03-12T14:59:16.471Z"
   },
   {
    "duration": 7,
    "start_time": "2022-03-12T14:59:16.477Z"
   },
   {
    "duration": 29,
    "start_time": "2022-03-12T14:59:16.486Z"
   },
   {
    "duration": 44,
    "start_time": "2022-03-12T14:59:16.518Z"
   },
   {
    "duration": 43,
    "start_time": "2022-03-12T14:59:16.565Z"
   },
   {
    "duration": 399,
    "start_time": "2022-03-12T14:59:16.611Z"
   },
   {
    "duration": -1548,
    "start_time": "2022-03-12T14:59:18.561Z"
   },
   {
    "duration": -1557,
    "start_time": "2022-03-12T14:59:18.571Z"
   },
   {
    "duration": -1559,
    "start_time": "2022-03-12T14:59:18.575Z"
   },
   {
    "duration": -1560,
    "start_time": "2022-03-12T14:59:18.577Z"
   },
   {
    "duration": -1560,
    "start_time": "2022-03-12T14:59:18.579Z"
   },
   {
    "duration": -1562,
    "start_time": "2022-03-12T14:59:18.582Z"
   },
   {
    "duration": -1565,
    "start_time": "2022-03-12T14:59:18.586Z"
   },
   {
    "duration": -1566,
    "start_time": "2022-03-12T14:59:18.589Z"
   },
   {
    "duration": -1568,
    "start_time": "2022-03-12T14:59:18.592Z"
   },
   {
    "duration": -1570,
    "start_time": "2022-03-12T14:59:18.595Z"
   },
   {
    "duration": -1572,
    "start_time": "2022-03-12T14:59:18.599Z"
   },
   {
    "duration": -1573,
    "start_time": "2022-03-12T14:59:18.601Z"
   },
   {
    "duration": -1575,
    "start_time": "2022-03-12T14:59:18.604Z"
   },
   {
    "duration": -1575,
    "start_time": "2022-03-12T14:59:18.606Z"
   },
   {
    "duration": -1576,
    "start_time": "2022-03-12T14:59:18.608Z"
   },
   {
    "duration": -1577,
    "start_time": "2022-03-12T14:59:18.610Z"
   },
   {
    "duration": -1577,
    "start_time": "2022-03-12T14:59:18.612Z"
   },
   {
    "duration": -1578,
    "start_time": "2022-03-12T14:59:18.614Z"
   },
   {
    "duration": -1578,
    "start_time": "2022-03-12T14:59:18.616Z"
   },
   {
    "duration": -1585,
    "start_time": "2022-03-12T14:59:18.624Z"
   },
   {
    "duration": -1586,
    "start_time": "2022-03-12T14:59:18.626Z"
   },
   {
    "duration": -1586,
    "start_time": "2022-03-12T14:59:18.628Z"
   },
   {
    "duration": -1586,
    "start_time": "2022-03-12T14:59:18.630Z"
   },
   {
    "duration": -1588,
    "start_time": "2022-03-12T14:59:18.633Z"
   },
   {
    "duration": 5,
    "start_time": "2022-03-12T15:01:02.402Z"
   },
   {
    "duration": 1142,
    "start_time": "2022-03-12T15:01:02.411Z"
   },
   {
    "duration": 33,
    "start_time": "2022-03-12T15:01:03.557Z"
   },
   {
    "duration": 22,
    "start_time": "2022-03-12T15:01:03.593Z"
   },
   {
    "duration": 58,
    "start_time": "2022-03-12T15:01:03.618Z"
   },
   {
    "duration": 16,
    "start_time": "2022-03-12T15:01:03.679Z"
   },
   {
    "duration": 17,
    "start_time": "2022-03-12T15:01:03.697Z"
   },
   {
    "duration": 36,
    "start_time": "2022-03-12T15:01:03.717Z"
   },
   {
    "duration": 30,
    "start_time": "2022-03-12T15:01:03.757Z"
   },
   {
    "duration": 23,
    "start_time": "2022-03-12T15:01:03.790Z"
   },
   {
    "duration": 46,
    "start_time": "2022-03-12T15:01:03.816Z"
   },
   {
    "duration": 7,
    "start_time": "2022-03-12T15:01:03.865Z"
   },
   {
    "duration": 11,
    "start_time": "2022-03-12T15:01:03.874Z"
   },
   {
    "duration": 12,
    "start_time": "2022-03-12T15:01:03.887Z"
   },
   {
    "duration": 83,
    "start_time": "2022-03-12T15:01:03.901Z"
   },
   {
    "duration": 7,
    "start_time": "2022-03-12T15:01:03.986Z"
   },
   {
    "duration": 14,
    "start_time": "2022-03-12T15:01:03.995Z"
   },
   {
    "duration": 7,
    "start_time": "2022-03-12T15:01:04.012Z"
   },
   {
    "duration": 61,
    "start_time": "2022-03-12T15:01:04.051Z"
   },
   {
    "duration": 37,
    "start_time": "2022-03-12T15:01:04.115Z"
   },
   {
    "duration": 11,
    "start_time": "2022-03-12T15:01:04.156Z"
   },
   {
    "duration": 8,
    "start_time": "2022-03-12T15:01:04.170Z"
   },
   {
    "duration": 9,
    "start_time": "2022-03-12T15:01:04.180Z"
   },
   {
    "duration": 10,
    "start_time": "2022-03-12T15:01:04.192Z"
   },
   {
    "duration": 46,
    "start_time": "2022-03-12T15:01:04.205Z"
   },
   {
    "duration": 25,
    "start_time": "2022-03-12T15:01:04.254Z"
   },
   {
    "duration": 4,
    "start_time": "2022-03-12T15:01:04.286Z"
   },
   {
    "duration": 11,
    "start_time": "2022-03-12T15:01:04.293Z"
   },
   {
    "duration": 58,
    "start_time": "2022-03-12T15:01:04.307Z"
   },
   {
    "duration": 26,
    "start_time": "2022-03-12T15:01:04.368Z"
   },
   {
    "duration": 77,
    "start_time": "2022-03-12T15:01:04.397Z"
   },
   {
    "duration": 3,
    "start_time": "2022-03-12T15:01:04.476Z"
   },
   {
    "duration": 7,
    "start_time": "2022-03-12T15:01:04.482Z"
   },
   {
    "duration": 10,
    "start_time": "2022-03-12T15:01:04.491Z"
   },
   {
    "duration": 14,
    "start_time": "2022-03-12T15:01:04.504Z"
   },
   {
    "duration": 14,
    "start_time": "2022-03-12T15:01:04.552Z"
   },
   {
    "duration": 12,
    "start_time": "2022-03-12T15:01:04.568Z"
   },
   {
    "duration": 15,
    "start_time": "2022-03-12T15:01:04.583Z"
   },
   {
    "duration": 58,
    "start_time": "2022-03-12T15:01:04.601Z"
   },
   {
    "duration": 13,
    "start_time": "2022-03-12T15:01:04.661Z"
   },
   {
    "duration": 17,
    "start_time": "2022-03-12T15:01:04.677Z"
   },
   {
    "duration": 60,
    "start_time": "2022-03-12T15:01:04.697Z"
   },
   {
    "duration": 15,
    "start_time": "2022-03-12T15:01:04.761Z"
   },
   {
    "duration": 12,
    "start_time": "2022-03-12T15:01:04.780Z"
   },
   {
    "duration": 12,
    "start_time": "2022-03-12T15:01:04.795Z"
   },
   {
    "duration": 756,
    "start_time": "2022-03-12T15:01:04.809Z"
   },
   {
    "duration": 7,
    "start_time": "2022-03-12T15:01:05.568Z"
   },
   {
    "duration": 11,
    "start_time": "2022-03-12T15:01:05.577Z"
   },
   {
    "duration": 13,
    "start_time": "2022-03-12T15:01:05.591Z"
   },
   {
    "duration": 48,
    "start_time": "2022-03-12T15:01:05.607Z"
   },
   {
    "duration": 641,
    "start_time": "2022-03-12T15:01:05.658Z"
   },
   {
    "duration": 6,
    "start_time": "2022-03-12T15:01:06.302Z"
   },
   {
    "duration": 10,
    "start_time": "2022-03-12T15:01:06.311Z"
   },
   {
    "duration": 33,
    "start_time": "2022-03-12T15:01:06.324Z"
   },
   {
    "duration": 7,
    "start_time": "2022-03-12T15:01:06.360Z"
   },
   {
    "duration": 8,
    "start_time": "2022-03-12T15:01:06.370Z"
   },
   {
    "duration": 8,
    "start_time": "2022-03-12T15:34:52.276Z"
   },
   {
    "duration": 18,
    "start_time": "2022-03-12T15:35:00.076Z"
   },
   {
    "duration": 42,
    "start_time": "2022-03-12T15:35:01.775Z"
   },
   {
    "duration": 276,
    "start_time": "2022-03-12T15:37:19.404Z"
   },
   {
    "duration": 6,
    "start_time": "2022-03-12T15:37:32.588Z"
   },
   {
    "duration": 3,
    "start_time": "2022-03-12T15:40:49.709Z"
   },
   {
    "duration": 6,
    "start_time": "2022-03-12T15:40:58.294Z"
   },
   {
    "duration": 3,
    "start_time": "2022-03-12T15:41:15.979Z"
   },
   {
    "duration": 7,
    "start_time": "2022-03-12T15:41:20.271Z"
   },
   {
    "duration": 4,
    "start_time": "2022-03-12T15:43:21.719Z"
   },
   {
    "duration": 6,
    "start_time": "2022-03-12T15:43:47.943Z"
   },
   {
    "duration": 4,
    "start_time": "2022-03-12T15:45:16.317Z"
   },
   {
    "duration": 7,
    "start_time": "2022-03-12T15:45:24.527Z"
   },
   {
    "duration": 4,
    "start_time": "2022-03-12T15:48:35.365Z"
   },
   {
    "duration": 6,
    "start_time": "2022-03-12T15:48:42.670Z"
   },
   {
    "duration": 6,
    "start_time": "2022-03-12T15:50:54.627Z"
   },
   {
    "duration": 7,
    "start_time": "2022-03-12T15:52:44.395Z"
   },
   {
    "duration": 1840,
    "start_time": "2022-03-14T08:39:06.137Z"
   },
   {
    "duration": 705,
    "start_time": "2022-03-14T08:39:07.979Z"
   },
   {
    "duration": 16,
    "start_time": "2022-03-14T08:39:08.686Z"
   },
   {
    "duration": 16,
    "start_time": "2022-03-14T08:39:08.704Z"
   },
   {
    "duration": 43,
    "start_time": "2022-03-14T08:39:08.722Z"
   },
   {
    "duration": 17,
    "start_time": "2022-03-14T08:39:08.766Z"
   },
   {
    "duration": 17,
    "start_time": "2022-03-14T08:39:08.784Z"
   },
   {
    "duration": 5,
    "start_time": "2022-03-14T08:39:08.803Z"
   },
   {
    "duration": 33,
    "start_time": "2022-03-14T08:39:08.810Z"
   },
   {
    "duration": 15,
    "start_time": "2022-03-14T08:39:08.845Z"
   },
   {
    "duration": 9,
    "start_time": "2022-03-14T08:39:08.861Z"
   },
   {
    "duration": 6,
    "start_time": "2022-03-14T08:39:08.872Z"
   },
   {
    "duration": 10,
    "start_time": "2022-03-14T08:39:08.879Z"
   },
   {
    "duration": 12,
    "start_time": "2022-03-14T08:39:08.890Z"
   },
   {
    "duration": 52,
    "start_time": "2022-03-14T08:39:08.904Z"
   },
   {
    "duration": 6,
    "start_time": "2022-03-14T08:39:08.958Z"
   },
   {
    "duration": 6,
    "start_time": "2022-03-14T08:39:08.966Z"
   },
   {
    "duration": 6,
    "start_time": "2022-03-14T08:39:08.973Z"
   },
   {
    "duration": 29,
    "start_time": "2022-03-14T08:39:08.980Z"
   },
   {
    "duration": 34,
    "start_time": "2022-03-14T08:39:09.011Z"
   },
   {
    "duration": 19,
    "start_time": "2022-03-14T08:39:09.048Z"
   },
   {
    "duration": 7,
    "start_time": "2022-03-14T08:39:09.069Z"
   },
   {
    "duration": 14,
    "start_time": "2022-03-14T08:39:09.078Z"
   },
   {
    "duration": 15,
    "start_time": "2022-03-14T08:39:09.094Z"
   },
   {
    "duration": 9,
    "start_time": "2022-03-14T08:39:09.111Z"
   },
   {
    "duration": 18,
    "start_time": "2022-03-14T08:39:09.122Z"
   },
   {
    "duration": 2,
    "start_time": "2022-03-14T08:39:09.144Z"
   },
   {
    "duration": 9,
    "start_time": "2022-03-14T08:39:09.148Z"
   },
   {
    "duration": 6,
    "start_time": "2022-03-14T08:39:09.159Z"
   },
   {
    "duration": 17,
    "start_time": "2022-03-14T08:39:09.166Z"
   },
   {
    "duration": 12,
    "start_time": "2022-03-14T08:39:09.184Z"
   },
   {
    "duration": 53,
    "start_time": "2022-03-14T08:39:09.197Z"
   },
   {
    "duration": 2,
    "start_time": "2022-03-14T08:39:09.252Z"
   },
   {
    "duration": 13,
    "start_time": "2022-03-14T08:39:09.255Z"
   },
   {
    "duration": 11,
    "start_time": "2022-03-14T08:39:09.270Z"
   },
   {
    "duration": 12,
    "start_time": "2022-03-14T08:39:09.283Z"
   },
   {
    "duration": 8,
    "start_time": "2022-03-14T08:39:09.297Z"
   },
   {
    "duration": 7,
    "start_time": "2022-03-14T08:39:09.307Z"
   },
   {
    "duration": 29,
    "start_time": "2022-03-14T08:39:09.316Z"
   },
   {
    "duration": 8,
    "start_time": "2022-03-14T08:39:09.347Z"
   },
   {
    "duration": 9,
    "start_time": "2022-03-14T08:39:09.357Z"
   },
   {
    "duration": 8,
    "start_time": "2022-03-14T08:39:09.367Z"
   },
   {
    "duration": 8,
    "start_time": "2022-03-14T08:39:09.377Z"
   },
   {
    "duration": 11,
    "start_time": "2022-03-14T08:39:09.386Z"
   },
   {
    "duration": 7,
    "start_time": "2022-03-14T08:39:09.438Z"
   },
   {
    "duration": 10,
    "start_time": "2022-03-14T08:39:09.447Z"
   },
   {
    "duration": 347,
    "start_time": "2022-03-14T08:39:09.458Z"
   },
   {
    "duration": 5,
    "start_time": "2022-03-14T08:39:09.807Z"
   },
   {
    "duration": 12,
    "start_time": "2022-03-14T08:39:09.813Z"
   },
   {
    "duration": 7,
    "start_time": "2022-03-14T08:39:09.838Z"
   },
   {
    "duration": 341,
    "start_time": "2022-03-14T08:39:09.847Z"
   },
   {
    "duration": 4,
    "start_time": "2022-03-14T08:39:10.189Z"
   },
   {
    "duration": 7,
    "start_time": "2022-03-14T08:39:10.195Z"
   },
   {
    "duration": 9,
    "start_time": "2022-03-14T08:39:10.204Z"
   },
   {
    "duration": 25,
    "start_time": "2022-03-14T08:39:10.214Z"
   },
   {
    "duration": 4,
    "start_time": "2022-03-14T08:39:10.241Z"
   },
   {
    "duration": 6,
    "start_time": "2022-03-14T08:40:52.452Z"
   },
   {
    "duration": 5,
    "start_time": "2022-03-14T08:41:17.813Z"
   },
   {
    "duration": 597,
    "start_time": "2022-03-14T09:35:02.058Z"
   },
   {
    "duration": 210,
    "start_time": "2022-03-14T09:35:38.999Z"
   },
   {
    "duration": 181,
    "start_time": "2022-03-14T09:35:48.375Z"
   },
   {
    "duration": 200,
    "start_time": "2022-03-14T09:36:07.469Z"
   },
   {
    "duration": 3,
    "start_time": "2022-03-14T09:36:17.770Z"
   },
   {
    "duration": 4,
    "start_time": "2022-03-14T09:36:27.102Z"
   },
   {
    "duration": 3,
    "start_time": "2022-03-14T09:40:01.222Z"
   },
   {
    "duration": 4,
    "start_time": "2022-03-14T09:40:11.381Z"
   },
   {
    "duration": 2,
    "start_time": "2022-03-14T09:40:46.357Z"
   },
   {
    "duration": 2,
    "start_time": "2022-03-14T09:41:02.034Z"
   },
   {
    "duration": 3,
    "start_time": "2022-03-14T09:41:19.749Z"
   },
   {
    "duration": 4,
    "start_time": "2022-03-14T09:41:27.250Z"
   },
   {
    "duration": 2,
    "start_time": "2022-03-14T09:41:51.543Z"
   },
   {
    "duration": 4,
    "start_time": "2022-03-14T09:41:53.353Z"
   },
   {
    "duration": 214,
    "start_time": "2022-03-14T09:42:25.206Z"
   },
   {
    "duration": 3,
    "start_time": "2022-03-14T09:42:33.803Z"
   },
   {
    "duration": 4,
    "start_time": "2022-03-14T09:42:58.134Z"
   },
   {
    "duration": 3,
    "start_time": "2022-03-14T09:48:34.235Z"
   },
   {
    "duration": 5,
    "start_time": "2022-03-14T09:48:36.083Z"
   },
   {
    "duration": 3,
    "start_time": "2022-03-14T09:48:45.293Z"
   },
   {
    "duration": 4,
    "start_time": "2022-03-14T09:48:47.101Z"
   },
   {
    "duration": 3,
    "start_time": "2022-03-14T09:49:13.489Z"
   },
   {
    "duration": 3,
    "start_time": "2022-03-14T09:49:15.772Z"
   },
   {
    "duration": 4,
    "start_time": "2022-03-14T09:49:16.955Z"
   },
   {
    "duration": 4,
    "start_time": "2022-03-14T09:49:57.670Z"
   },
   {
    "duration": 5,
    "start_time": "2022-03-14T09:50:08.177Z"
   },
   {
    "duration": 4,
    "start_time": "2022-03-14T09:50:43.231Z"
   },
   {
    "duration": 4,
    "start_time": "2022-03-14T09:51:22.911Z"
   },
   {
    "duration": 5,
    "start_time": "2022-03-14T09:51:28.662Z"
   },
   {
    "duration": 2,
    "start_time": "2022-03-14T10:08:49.993Z"
   },
   {
    "duration": 4,
    "start_time": "2022-03-14T10:08:58.296Z"
   },
   {
    "duration": 2,
    "start_time": "2022-03-14T10:09:20.379Z"
   },
   {
    "duration": 4,
    "start_time": "2022-03-14T10:09:28.212Z"
   },
   {
    "duration": 215,
    "start_time": "2022-03-14T10:13:19.832Z"
   },
   {
    "duration": 2,
    "start_time": "2022-03-14T10:13:45.831Z"
   },
   {
    "duration": 4,
    "start_time": "2022-03-14T10:13:46.714Z"
   },
   {
    "duration": 2,
    "start_time": "2022-03-14T10:13:58.059Z"
   },
   {
    "duration": 3,
    "start_time": "2022-03-14T10:13:59.225Z"
   },
   {
    "duration": 3704,
    "start_time": "2022-03-14T10:14:11.064Z"
   },
   {
    "duration": 98,
    "start_time": "2022-03-14T10:15:03.552Z"
   },
   {
    "duration": 193,
    "start_time": "2022-03-14T10:15:57.016Z"
   },
   {
    "duration": 82,
    "start_time": "2022-03-14T10:45:04.383Z"
   },
   {
    "duration": 198,
    "start_time": "2022-03-14T10:45:21.888Z"
   },
   {
    "duration": 210,
    "start_time": "2022-03-14T10:45:37.242Z"
   },
   {
    "duration": 248,
    "start_time": "2022-03-14T10:47:53.619Z"
   },
   {
    "duration": 188,
    "start_time": "2022-03-14T10:49:39.127Z"
   },
   {
    "duration": 190,
    "start_time": "2022-03-14T10:49:47.189Z"
   },
   {
    "duration": 65,
    "start_time": "2022-03-14T10:50:40.735Z"
   },
   {
    "duration": 4,
    "start_time": "2022-03-14T10:51:26.461Z"
   },
   {
    "duration": 6,
    "start_time": "2022-03-14T10:51:31.387Z"
   },
   {
    "duration": 306,
    "start_time": "2022-03-14T10:58:17.938Z"
   },
   {
    "duration": 4,
    "start_time": "2022-03-14T10:59:12.627Z"
   },
   {
    "duration": 6,
    "start_time": "2022-03-14T10:59:20.222Z"
   },
   {
    "duration": 5,
    "start_time": "2022-03-14T11:00:26.121Z"
   },
   {
    "duration": 6,
    "start_time": "2022-03-14T11:00:26.983Z"
   },
   {
    "duration": 4,
    "start_time": "2022-03-14T11:01:30.325Z"
   },
   {
    "duration": 7,
    "start_time": "2022-03-14T11:01:37.682Z"
   },
   {
    "duration": 13,
    "start_time": "2022-03-14T11:15:16.593Z"
   },
   {
    "duration": 13,
    "start_time": "2022-03-14T11:17:30.928Z"
   },
   {
    "duration": 16,
    "start_time": "2022-03-14T11:20:51.675Z"
   },
   {
    "duration": 9,
    "start_time": "2022-03-14T11:21:10.047Z"
   },
   {
    "duration": 17,
    "start_time": "2022-03-14T11:21:14.633Z"
   },
   {
    "duration": 1088,
    "start_time": "2022-03-14T11:22:27.884Z"
   },
   {
    "duration": 4143,
    "start_time": "2022-03-14T11:22:28.974Z"
   },
   {
    "duration": 19,
    "start_time": "2022-03-14T11:22:33.119Z"
   },
   {
    "duration": 10,
    "start_time": "2022-03-14T11:22:33.141Z"
   },
   {
    "duration": 27,
    "start_time": "2022-03-14T11:22:33.153Z"
   },
   {
    "duration": 15,
    "start_time": "2022-03-14T11:22:33.182Z"
   },
   {
    "duration": 12,
    "start_time": "2022-03-14T11:22:33.198Z"
   },
   {
    "duration": 27,
    "start_time": "2022-03-14T11:22:33.211Z"
   },
   {
    "duration": 16,
    "start_time": "2022-03-14T11:22:33.241Z"
   },
   {
    "duration": 14,
    "start_time": "2022-03-14T11:22:33.259Z"
   },
   {
    "duration": 30,
    "start_time": "2022-03-14T11:22:33.275Z"
   },
   {
    "duration": 15,
    "start_time": "2022-03-14T11:22:33.306Z"
   },
   {
    "duration": 10,
    "start_time": "2022-03-14T11:22:33.322Z"
   },
   {
    "duration": 12,
    "start_time": "2022-03-14T11:22:33.338Z"
   },
   {
    "duration": 44,
    "start_time": "2022-03-14T11:22:33.352Z"
   },
   {
    "duration": 5,
    "start_time": "2022-03-14T11:22:33.398Z"
   },
   {
    "duration": 25,
    "start_time": "2022-03-14T11:22:33.404Z"
   },
   {
    "duration": 15,
    "start_time": "2022-03-14T11:22:33.431Z"
   },
   {
    "duration": 47,
    "start_time": "2022-03-14T11:22:33.448Z"
   },
   {
    "duration": 8,
    "start_time": "2022-03-14T11:22:33.497Z"
   },
   {
    "duration": 15,
    "start_time": "2022-03-14T11:22:33.506Z"
   },
   {
    "duration": 18,
    "start_time": "2022-03-14T11:22:33.522Z"
   },
   {
    "duration": 20,
    "start_time": "2022-03-14T11:22:33.542Z"
   },
   {
    "duration": 25,
    "start_time": "2022-03-14T11:22:33.563Z"
   },
   {
    "duration": 13,
    "start_time": "2022-03-14T11:22:33.590Z"
   },
   {
    "duration": 35,
    "start_time": "2022-03-14T11:22:33.604Z"
   },
   {
    "duration": 3,
    "start_time": "2022-03-14T11:22:33.643Z"
   },
   {
    "duration": 16,
    "start_time": "2022-03-14T11:22:33.648Z"
   },
   {
    "duration": 27,
    "start_time": "2022-03-14T11:22:33.666Z"
   },
   {
    "duration": 25,
    "start_time": "2022-03-14T11:22:33.695Z"
   },
   {
    "duration": 12,
    "start_time": "2022-03-14T11:22:33.721Z"
   },
   {
    "duration": 42,
    "start_time": "2022-03-14T11:22:33.735Z"
   },
   {
    "duration": 2,
    "start_time": "2022-03-14T11:22:33.779Z"
   },
   {
    "duration": 12,
    "start_time": "2022-03-14T11:22:33.782Z"
   },
   {
    "duration": 27,
    "start_time": "2022-03-14T11:22:33.795Z"
   },
   {
    "duration": 19,
    "start_time": "2022-03-14T11:22:33.823Z"
   },
   {
    "duration": 13,
    "start_time": "2022-03-14T11:22:33.843Z"
   },
   {
    "duration": 14,
    "start_time": "2022-03-14T11:22:33.857Z"
   },
   {
    "duration": 19,
    "start_time": "2022-03-14T11:22:33.872Z"
   },
   {
    "duration": 25,
    "start_time": "2022-03-14T11:22:33.893Z"
   },
   {
    "duration": 24,
    "start_time": "2022-03-14T11:22:33.920Z"
   },
   {
    "duration": 19,
    "start_time": "2022-03-14T11:22:33.946Z"
   },
   {
    "duration": 10,
    "start_time": "2022-03-14T11:22:33.967Z"
   },
   {
    "duration": 21,
    "start_time": "2022-03-14T11:22:33.979Z"
   },
   {
    "duration": 9,
    "start_time": "2022-03-14T11:22:34.001Z"
   },
   {
    "duration": 7,
    "start_time": "2022-03-14T11:22:34.012Z"
   },
   {
    "duration": 342,
    "start_time": "2022-03-14T11:22:34.020Z"
   },
   {
    "duration": 4,
    "start_time": "2022-03-14T11:22:34.364Z"
   },
   {
    "duration": 15,
    "start_time": "2022-03-14T11:22:34.370Z"
   },
   {
    "duration": 11,
    "start_time": "2022-03-14T11:22:34.387Z"
   },
   {
    "duration": 340,
    "start_time": "2022-03-14T11:22:34.400Z"
   },
   {
    "duration": 5,
    "start_time": "2022-03-14T11:22:34.742Z"
   },
   {
    "duration": 6,
    "start_time": "2022-03-14T11:22:34.749Z"
   },
   {
    "duration": 6,
    "start_time": "2022-03-14T11:22:34.757Z"
   },
   {
    "duration": 6,
    "start_time": "2022-03-14T11:22:34.765Z"
   },
   {
    "duration": 5,
    "start_time": "2022-03-14T11:22:34.773Z"
   },
   {
    "duration": 7,
    "start_time": "2022-03-14T11:22:34.780Z"
   },
   {
    "duration": 9,
    "start_time": "2022-03-14T11:22:34.788Z"
   },
   {
    "duration": 6,
    "start_time": "2022-03-14T11:22:34.798Z"
   },
   {
    "duration": 7,
    "start_time": "2022-03-14T11:22:34.837Z"
   },
   {
    "duration": 6,
    "start_time": "2022-03-14T11:22:34.845Z"
   },
   {
    "duration": 8,
    "start_time": "2022-03-14T11:22:34.853Z"
   },
   {
    "duration": 289,
    "start_time": "2022-03-14T11:22:34.862Z"
   },
   {
    "duration": 79,
    "start_time": "2022-03-14T11:22:35.074Z"
   },
   {
    "duration": 77,
    "start_time": "2022-03-14T11:22:35.077Z"
   },
   {
    "duration": 77,
    "start_time": "2022-03-14T11:22:35.079Z"
   },
   {
    "duration": 75,
    "start_time": "2022-03-14T11:22:35.082Z"
   },
   {
    "duration": 74,
    "start_time": "2022-03-14T11:22:35.084Z"
   },
   {
    "duration": 74,
    "start_time": "2022-03-14T11:22:35.086Z"
   },
   {
    "duration": 66,
    "start_time": "2022-03-14T11:22:35.095Z"
   },
   {
    "duration": 14,
    "start_time": "2022-03-14T11:25:44.663Z"
   },
   {
    "duration": 18,
    "start_time": "2022-03-14T11:25:45.665Z"
   },
   {
    "duration": 15,
    "start_time": "2022-03-14T11:25:50.241Z"
   },
   {
    "duration": 16,
    "start_time": "2022-03-14T11:25:53.479Z"
   },
   {
    "duration": 12,
    "start_time": "2022-03-14T11:25:57.815Z"
   },
   {
    "duration": 16,
    "start_time": "2022-03-14T11:25:59.024Z"
   },
   {
    "duration": 12,
    "start_time": "2022-03-14T11:26:04.122Z"
   },
   {
    "duration": 15,
    "start_time": "2022-03-14T11:26:05.370Z"
   },
   {
    "duration": 11,
    "start_time": "2022-03-14T11:26:29.255Z"
   },
   {
    "duration": 11,
    "start_time": "2022-03-14T11:26:40.226Z"
   },
   {
    "duration": 11,
    "start_time": "2022-03-14T11:26:54.991Z"
   },
   {
    "duration": 4,
    "start_time": "2022-03-14T11:27:07.917Z"
   },
   {
    "duration": 738,
    "start_time": "2022-03-14T11:27:07.922Z"
   },
   {
    "duration": 15,
    "start_time": "2022-03-14T11:27:08.662Z"
   },
   {
    "duration": 16,
    "start_time": "2022-03-14T11:27:08.678Z"
   },
   {
    "duration": 19,
    "start_time": "2022-03-14T11:27:08.696Z"
   },
   {
    "duration": 29,
    "start_time": "2022-03-14T11:27:08.717Z"
   },
   {
    "duration": 9,
    "start_time": "2022-03-14T11:27:08.747Z"
   },
   {
    "duration": 5,
    "start_time": "2022-03-14T11:27:08.757Z"
   },
   {
    "duration": 17,
    "start_time": "2022-03-14T11:27:08.764Z"
   },
   {
    "duration": 15,
    "start_time": "2022-03-14T11:27:08.783Z"
   },
   {
    "duration": 39,
    "start_time": "2022-03-14T11:27:08.800Z"
   },
   {
    "duration": 6,
    "start_time": "2022-03-14T11:27:08.841Z"
   },
   {
    "duration": 15,
    "start_time": "2022-03-14T11:27:08.848Z"
   },
   {
    "duration": 26,
    "start_time": "2022-03-14T11:27:08.864Z"
   },
   {
    "duration": 32,
    "start_time": "2022-03-14T11:27:08.893Z"
   },
   {
    "duration": 11,
    "start_time": "2022-03-14T11:27:08.927Z"
   },
   {
    "duration": 6,
    "start_time": "2022-03-14T11:27:08.940Z"
   },
   {
    "duration": 7,
    "start_time": "2022-03-14T11:27:08.947Z"
   },
   {
    "duration": 32,
    "start_time": "2022-03-14T11:27:08.956Z"
   },
   {
    "duration": 9,
    "start_time": "2022-03-14T11:27:08.990Z"
   },
   {
    "duration": 8,
    "start_time": "2022-03-14T11:27:09.001Z"
   },
   {
    "duration": 29,
    "start_time": "2022-03-14T11:27:09.010Z"
   },
   {
    "duration": 6,
    "start_time": "2022-03-14T11:27:09.040Z"
   },
   {
    "duration": 13,
    "start_time": "2022-03-14T11:27:09.048Z"
   },
   {
    "duration": 12,
    "start_time": "2022-03-14T11:27:09.063Z"
   },
   {
    "duration": 16,
    "start_time": "2022-03-14T11:27:09.076Z"
   },
   {
    "duration": 3,
    "start_time": "2022-03-14T11:27:09.096Z"
   },
   {
    "duration": 13,
    "start_time": "2022-03-14T11:27:09.101Z"
   },
   {
    "duration": 21,
    "start_time": "2022-03-14T11:27:09.116Z"
   },
   {
    "duration": 16,
    "start_time": "2022-03-14T11:27:09.139Z"
   },
   {
    "duration": 11,
    "start_time": "2022-03-14T11:27:09.157Z"
   },
   {
    "duration": 27,
    "start_time": "2022-03-14T11:27:09.170Z"
   },
   {
    "duration": 2,
    "start_time": "2022-03-14T11:27:09.198Z"
   },
   {
    "duration": 9,
    "start_time": "2022-03-14T11:27:09.202Z"
   },
   {
    "duration": 5,
    "start_time": "2022-03-14T11:27:09.212Z"
   },
   {
    "duration": 9,
    "start_time": "2022-03-14T11:27:09.238Z"
   },
   {
    "duration": 9,
    "start_time": "2022-03-14T11:27:09.249Z"
   },
   {
    "duration": 8,
    "start_time": "2022-03-14T11:27:09.259Z"
   },
   {
    "duration": 8,
    "start_time": "2022-03-14T11:27:09.269Z"
   },
   {
    "duration": 9,
    "start_time": "2022-03-14T11:27:09.279Z"
   },
   {
    "duration": 55,
    "start_time": "2022-03-14T11:27:09.289Z"
   },
   {
    "duration": 9,
    "start_time": "2022-03-14T11:27:09.346Z"
   },
   {
    "duration": 9,
    "start_time": "2022-03-14T11:27:09.356Z"
   },
   {
    "duration": 10,
    "start_time": "2022-03-14T11:27:09.366Z"
   },
   {
    "duration": 12,
    "start_time": "2022-03-14T11:27:09.377Z"
   },
   {
    "duration": 9,
    "start_time": "2022-03-14T11:27:09.391Z"
   },
   {
    "duration": 348,
    "start_time": "2022-03-14T11:27:09.401Z"
   },
   {
    "duration": 5,
    "start_time": "2022-03-14T11:27:09.750Z"
   },
   {
    "duration": 20,
    "start_time": "2022-03-14T11:27:09.757Z"
   },
   {
    "duration": 7,
    "start_time": "2022-03-14T11:27:09.779Z"
   },
   {
    "duration": 420,
    "start_time": "2022-03-14T11:27:09.788Z"
   },
   {
    "duration": 5,
    "start_time": "2022-03-14T11:27:10.209Z"
   },
   {
    "duration": 10,
    "start_time": "2022-03-14T11:27:10.216Z"
   },
   {
    "duration": 12,
    "start_time": "2022-03-14T11:27:10.227Z"
   },
   {
    "duration": 56,
    "start_time": "2022-03-14T11:27:10.241Z"
   },
   {
    "duration": 16,
    "start_time": "2022-03-14T11:27:10.299Z"
   },
   {
    "duration": 8,
    "start_time": "2022-03-14T11:27:10.316Z"
   },
   {
    "duration": 33,
    "start_time": "2022-03-14T11:27:10.326Z"
   },
   {
    "duration": 14,
    "start_time": "2022-03-14T11:27:10.361Z"
   },
   {
    "duration": 22,
    "start_time": "2022-03-14T11:27:10.377Z"
   },
   {
    "duration": 10,
    "start_time": "2022-03-14T11:27:10.401Z"
   },
   {
    "duration": 15,
    "start_time": "2022-03-14T11:27:10.412Z"
   },
   {
    "duration": 22,
    "start_time": "2022-03-14T11:27:10.428Z"
   },
   {
    "duration": 16,
    "start_time": "2022-03-14T11:27:10.452Z"
   },
   {
    "duration": 14,
    "start_time": "2022-03-14T11:27:10.470Z"
   },
   {
    "duration": 21,
    "start_time": "2022-03-14T11:27:10.486Z"
   },
   {
    "duration": 14,
    "start_time": "2022-03-14T11:27:10.509Z"
   },
   {
    "duration": 17,
    "start_time": "2022-03-14T11:27:10.538Z"
   },
   {
    "duration": 11,
    "start_time": "2022-03-14T11:27:10.557Z"
   },
   {
    "duration": 21,
    "start_time": "2022-03-14T11:27:10.569Z"
   },
   {
    "duration": 2,
    "start_time": "2022-03-14T11:28:24.585Z"
   },
   {
    "duration": 6,
    "start_time": "2022-03-14T11:37:22.176Z"
   },
   {
    "duration": 13,
    "start_time": "2022-03-14T11:37:45.381Z"
   },
   {
    "duration": 8,
    "start_time": "2022-03-14T11:40:32.949Z"
   },
   {
    "duration": 12,
    "start_time": "2022-03-14T11:40:51.950Z"
   },
   {
    "duration": 9,
    "start_time": "2022-03-14T11:41:42.078Z"
   },
   {
    "duration": 14,
    "start_time": "2022-03-14T11:41:56.752Z"
   },
   {
    "duration": 3,
    "start_time": "2022-03-14T11:44:03.543Z"
   },
   {
    "duration": 3,
    "start_time": "2022-03-14T11:45:50.066Z"
   },
   {
    "duration": 28,
    "start_time": "2022-03-14T12:29:31.315Z"
   },
   {
    "duration": 28,
    "start_time": "2022-03-14T12:30:00.368Z"
   },
   {
    "duration": 11,
    "start_time": "2022-03-14T12:30:27.946Z"
   },
   {
    "duration": 10,
    "start_time": "2022-03-14T12:30:42.790Z"
   },
   {
    "duration": 6,
    "start_time": "2022-03-14T12:36:45.199Z"
   },
   {
    "duration": 5,
    "start_time": "2022-03-14T12:36:56.437Z"
   },
   {
    "duration": 11,
    "start_time": "2022-03-14T12:37:09.567Z"
   },
   {
    "duration": 6,
    "start_time": "2022-03-14T12:37:49.671Z"
   },
   {
    "duration": 11,
    "start_time": "2022-03-14T12:37:52.807Z"
   },
   {
    "duration": 6,
    "start_time": "2022-03-14T12:40:42.587Z"
   },
   {
    "duration": 6,
    "start_time": "2022-03-14T12:40:59.005Z"
   },
   {
    "duration": 6,
    "start_time": "2022-03-14T12:41:15.859Z"
   },
   {
    "duration": 10,
    "start_time": "2022-03-14T12:41:47.312Z"
   },
   {
    "duration": 6,
    "start_time": "2022-03-14T12:42:19.194Z"
   },
   {
    "duration": 211,
    "start_time": "2022-03-14T12:43:00.594Z"
   },
   {
    "duration": 7,
    "start_time": "2022-03-14T12:44:16.675Z"
   },
   {
    "duration": 12,
    "start_time": "2022-03-14T12:44:22.317Z"
   },
   {
    "duration": 186,
    "start_time": "2022-03-14T12:44:56.492Z"
   },
   {
    "duration": 5,
    "start_time": "2022-03-14T12:46:01.110Z"
   },
   {
    "duration": 6,
    "start_time": "2022-03-14T12:46:03.436Z"
   },
   {
    "duration": 28,
    "start_time": "2022-03-14T12:46:41.794Z"
   },
   {
    "duration": 26,
    "start_time": "2022-03-14T12:48:03.083Z"
   },
   {
    "duration": 8,
    "start_time": "2022-03-14T12:48:13.179Z"
   },
   {
    "duration": 27,
    "start_time": "2022-03-14T12:48:17.297Z"
   },
   {
    "duration": 7,
    "start_time": "2022-03-14T12:49:04.426Z"
   },
   {
    "duration": 28,
    "start_time": "2022-03-14T12:49:06.412Z"
   },
   {
    "duration": 6,
    "start_time": "2022-03-14T12:49:19.896Z"
   },
   {
    "duration": 7,
    "start_time": "2022-03-14T12:49:20.578Z"
   },
   {
    "duration": 5,
    "start_time": "2022-03-14T12:49:39.479Z"
   },
   {
    "duration": 25,
    "start_time": "2022-03-14T12:49:53.095Z"
   },
   {
    "duration": 11,
    "start_time": "2022-03-14T12:50:10.924Z"
   },
   {
    "duration": 7,
    "start_time": "2022-03-14T13:10:20.437Z"
   },
   {
    "duration": 17,
    "start_time": "2022-03-14T13:11:03.264Z"
   },
   {
    "duration": 3,
    "start_time": "2022-03-14T13:34:36.328Z"
   },
   {
    "duration": 215,
    "start_time": "2022-03-14T13:37:07.084Z"
   },
   {
    "duration": 1620,
    "start_time": "2022-03-14T13:37:35.420Z"
   },
   {
    "duration": 4,
    "start_time": "2022-03-14T13:37:52.842Z"
   },
   {
    "duration": 4,
    "start_time": "2022-03-14T14:10:07.998Z"
   },
   {
    "duration": 1398,
    "start_time": "2022-03-14T17:52:58.888Z"
   },
   {
    "duration": 833,
    "start_time": "2022-03-14T17:53:00.289Z"
   },
   {
    "duration": 24,
    "start_time": "2022-03-14T17:53:01.125Z"
   },
   {
    "duration": 36,
    "start_time": "2022-03-14T17:53:01.152Z"
   },
   {
    "duration": 30,
    "start_time": "2022-03-14T17:53:01.191Z"
   },
   {
    "duration": 23,
    "start_time": "2022-03-14T17:53:01.223Z"
   },
   {
    "duration": 40,
    "start_time": "2022-03-14T17:53:01.249Z"
   },
   {
    "duration": 7,
    "start_time": "2022-03-14T17:53:01.291Z"
   },
   {
    "duration": 49,
    "start_time": "2022-03-14T17:53:01.302Z"
   },
   {
    "duration": 30,
    "start_time": "2022-03-14T17:53:01.355Z"
   },
   {
    "duration": 16,
    "start_time": "2022-03-14T17:53:01.389Z"
   },
   {
    "duration": 37,
    "start_time": "2022-03-14T17:53:01.408Z"
   },
   {
    "duration": 29,
    "start_time": "2022-03-14T17:53:01.447Z"
   },
   {
    "duration": 19,
    "start_time": "2022-03-14T17:53:01.478Z"
   },
   {
    "duration": 58,
    "start_time": "2022-03-14T17:53:01.500Z"
   },
   {
    "duration": 6,
    "start_time": "2022-03-14T17:53:01.561Z"
   },
   {
    "duration": 19,
    "start_time": "2022-03-14T17:53:01.570Z"
   },
   {
    "duration": 29,
    "start_time": "2022-03-14T17:53:01.592Z"
   },
   {
    "duration": 55,
    "start_time": "2022-03-14T17:53:01.623Z"
   },
   {
    "duration": 10,
    "start_time": "2022-03-14T17:53:01.681Z"
   },
   {
    "duration": 24,
    "start_time": "2022-03-14T17:53:01.693Z"
   },
   {
    "duration": 22,
    "start_time": "2022-03-14T17:53:01.719Z"
   },
   {
    "duration": 28,
    "start_time": "2022-03-14T17:53:01.743Z"
   },
   {
    "duration": 16,
    "start_time": "2022-03-14T17:53:01.773Z"
   },
   {
    "duration": 25,
    "start_time": "2022-03-14T17:53:01.792Z"
   },
   {
    "duration": 27,
    "start_time": "2022-03-14T17:53:01.819Z"
   },
   {
    "duration": 7,
    "start_time": "2022-03-14T17:53:01.853Z"
   },
   {
    "duration": 16,
    "start_time": "2022-03-14T17:53:01.863Z"
   },
   {
    "duration": 22,
    "start_time": "2022-03-14T17:53:01.881Z"
   },
   {
    "duration": 43,
    "start_time": "2022-03-14T17:53:01.906Z"
   },
   {
    "duration": 19,
    "start_time": "2022-03-14T17:53:01.952Z"
   },
   {
    "duration": 52,
    "start_time": "2022-03-14T17:53:01.973Z"
   },
   {
    "duration": 4,
    "start_time": "2022-03-14T17:53:02.027Z"
   },
   {
    "duration": 24,
    "start_time": "2022-03-14T17:53:02.033Z"
   },
   {
    "duration": 24,
    "start_time": "2022-03-14T17:53:02.059Z"
   },
   {
    "duration": 24,
    "start_time": "2022-03-14T17:53:02.086Z"
   },
   {
    "duration": 15,
    "start_time": "2022-03-14T17:53:02.113Z"
   },
   {
    "duration": 21,
    "start_time": "2022-03-14T17:53:02.131Z"
   },
   {
    "duration": 33,
    "start_time": "2022-03-14T17:53:02.155Z"
   },
   {
    "duration": 13,
    "start_time": "2022-03-14T17:53:02.190Z"
   },
   {
    "duration": 19,
    "start_time": "2022-03-14T17:53:02.206Z"
   },
   {
    "duration": 13,
    "start_time": "2022-03-14T17:53:02.228Z"
   },
   {
    "duration": 65,
    "start_time": "2022-03-14T17:53:02.243Z"
   },
   {
    "duration": 17,
    "start_time": "2022-03-14T17:53:02.311Z"
   },
   {
    "duration": 13,
    "start_time": "2022-03-14T17:53:02.331Z"
   },
   {
    "duration": 19,
    "start_time": "2022-03-14T17:53:02.347Z"
   },
   {
    "duration": 516,
    "start_time": "2022-03-14T17:53:02.383Z"
   },
   {
    "duration": 8,
    "start_time": "2022-03-14T17:53:02.901Z"
   },
   {
    "duration": 12,
    "start_time": "2022-03-14T17:53:02.912Z"
   },
   {
    "duration": 8,
    "start_time": "2022-03-14T17:53:02.927Z"
   },
   {
    "duration": 559,
    "start_time": "2022-03-14T17:53:02.938Z"
   },
   {
    "duration": 7,
    "start_time": "2022-03-14T17:53:03.499Z"
   },
   {
    "duration": 6,
    "start_time": "2022-03-14T17:53:03.509Z"
   },
   {
    "duration": 15,
    "start_time": "2022-03-14T17:53:03.518Z"
   },
   {
    "duration": 59,
    "start_time": "2022-03-14T17:53:03.536Z"
   },
   {
    "duration": 18,
    "start_time": "2022-03-14T17:53:03.598Z"
   },
   {
    "duration": 24,
    "start_time": "2022-03-14T17:53:03.619Z"
   },
   {
    "duration": 44,
    "start_time": "2022-03-14T17:53:03.646Z"
   },
   {
    "duration": 23,
    "start_time": "2022-03-14T17:53:03.693Z"
   },
   {
    "duration": 13,
    "start_time": "2022-03-14T17:53:03.719Z"
   },
   {
    "duration": 56,
    "start_time": "2022-03-14T17:53:03.734Z"
   },
   {
    "duration": 3,
    "start_time": "2022-03-14T17:53:03.792Z"
   },
   {
    "duration": 21,
    "start_time": "2022-03-14T17:53:03.798Z"
   },
   {
    "duration": 43,
    "start_time": "2022-03-14T17:53:03.822Z"
   },
   {
    "duration": 28,
    "start_time": "2022-03-14T17:53:03.867Z"
   },
   {
    "duration": 3,
    "start_time": "2022-03-14T17:53:03.897Z"
   },
   {
    "duration": 15,
    "start_time": "2022-03-14T17:53:03.903Z"
   },
   {
    "duration": 21,
    "start_time": "2022-03-14T17:53:03.921Z"
   },
   {
    "duration": 3,
    "start_time": "2022-03-14T17:53:03.944Z"
   },
   {
    "duration": 43,
    "start_time": "2022-03-14T17:53:03.950Z"
   },
   {
    "duration": 7,
    "start_time": "2022-03-14T17:53:03.996Z"
   },
   {
    "duration": 15,
    "start_time": "2022-03-14T17:53:04.005Z"
   },
   {
    "duration": 9,
    "start_time": "2022-03-14T17:53:04.022Z"
   },
   {
    "duration": 62,
    "start_time": "2022-03-14T17:53:04.033Z"
   },
   {
    "duration": 16,
    "start_time": "2022-03-14T17:53:09.294Z"
   },
   {
    "duration": 419,
    "start_time": "2022-03-14T17:53:11.463Z"
   },
   {
    "duration": 7,
    "start_time": "2022-03-14T17:55:20.195Z"
   },
   {
    "duration": 310,
    "start_time": "2022-03-14T17:55:31.433Z"
   },
   {
    "duration": 5,
    "start_time": "2022-03-14T17:56:52.629Z"
   },
   {
    "duration": 295,
    "start_time": "2022-03-14T17:57:00.662Z"
   },
   {
    "duration": 524,
    "start_time": "2022-03-14T17:57:42.414Z"
   },
   {
    "duration": 272,
    "start_time": "2022-03-14T17:58:21.478Z"
   },
   {
    "duration": 5,
    "start_time": "2022-03-14T17:58:33.792Z"
   },
   {
    "duration": 4,
    "start_time": "2022-03-14T17:58:39.220Z"
   },
   {
    "duration": 824,
    "start_time": "2022-03-14T17:58:54.562Z"
   },
   {
    "duration": 7,
    "start_time": "2022-03-14T17:58:57.794Z"
   },
   {
    "duration": 6,
    "start_time": "2022-03-14T17:59:16.227Z"
   },
   {
    "duration": 4,
    "start_time": "2022-03-14T17:59:25.655Z"
   },
   {
    "duration": 571,
    "start_time": "2022-03-14T17:59:28.112Z"
   },
   {
    "duration": 6,
    "start_time": "2022-03-14T17:59:30.583Z"
   },
   {
    "duration": 1671,
    "start_time": "2022-03-14T17:59:46.221Z"
   },
   {
    "duration": 6,
    "start_time": "2022-03-14T17:59:51.300Z"
   },
   {
    "duration": 2445,
    "start_time": "2022-03-14T18:00:04.739Z"
   },
   {
    "duration": 6,
    "start_time": "2022-03-14T18:00:09.929Z"
   },
   {
    "duration": 7,
    "start_time": "2022-03-14T18:00:37.454Z"
   },
   {
    "duration": 1577,
    "start_time": "2022-03-14T18:00:44.309Z"
   },
   {
    "duration": 6,
    "start_time": "2022-03-14T18:00:50.734Z"
   },
   {
    "duration": 5,
    "start_time": "2022-03-14T18:00:53.033Z"
   },
   {
    "duration": 4039,
    "start_time": "2022-03-14T18:01:00.949Z"
   },
   {
    "duration": 6,
    "start_time": "2022-03-14T18:01:07.241Z"
   },
   {
    "duration": 6,
    "start_time": "2022-03-14T18:01:09.751Z"
   },
   {
    "duration": 299,
    "start_time": "2022-03-14T18:04:12.530Z"
   },
   {
    "duration": 3218,
    "start_time": "2022-03-14T18:04:22.666Z"
   },
   {
    "duration": 6,
    "start_time": "2022-03-14T18:04:50.949Z"
   },
   {
    "duration": 4,
    "start_time": "2022-03-14T18:05:13.053Z"
   },
   {
    "duration": 6,
    "start_time": "2022-03-14T18:05:27.265Z"
   },
   {
    "duration": 4,
    "start_time": "2022-03-14T18:06:39.535Z"
   },
   {
    "duration": 2519,
    "start_time": "2022-03-14T18:06:42.275Z"
   },
   {
    "duration": 7,
    "start_time": "2022-03-14T18:06:49.376Z"
   },
   {
    "duration": 4,
    "start_time": "2022-03-14T18:06:51.390Z"
   },
   {
    "duration": 5,
    "start_time": "2022-03-14T18:06:52.518Z"
   },
   {
    "duration": 1841,
    "start_time": "2022-03-14T18:08:39.649Z"
   },
   {
    "duration": 5,
    "start_time": "2022-03-14T18:08:42.806Z"
   },
   {
    "duration": 4,
    "start_time": "2022-03-14T18:09:12.149Z"
   },
   {
    "duration": 6,
    "start_time": "2022-03-14T18:09:13.204Z"
   },
   {
    "duration": 3,
    "start_time": "2022-03-14T18:09:51.827Z"
   },
   {
    "duration": 6,
    "start_time": "2022-03-14T18:09:52.946Z"
   },
   {
    "duration": 3,
    "start_time": "2022-03-14T18:11:38.578Z"
   },
   {
    "duration": 6,
    "start_time": "2022-03-14T18:12:01.898Z"
   },
   {
    "duration": 5,
    "start_time": "2022-03-14T18:13:19.945Z"
   },
   {
    "duration": 36,
    "start_time": "2022-03-14T18:22:22.194Z"
   },
   {
    "duration": 5,
    "start_time": "2022-03-14T18:23:17.951Z"
   },
   {
    "duration": 6,
    "start_time": "2022-03-14T18:23:34.775Z"
   },
   {
    "duration": 3,
    "start_time": "2022-03-14T18:23:46.698Z"
   },
   {
    "duration": 3,
    "start_time": "2022-03-14T18:25:36.501Z"
   },
   {
    "duration": 46321,
    "start_time": "2022-03-14T18:25:38.067Z"
   },
   {
    "duration": 5,
    "start_time": "2022-03-14T18:26:28.435Z"
   },
   {
    "duration": 4,
    "start_time": "2022-03-14T18:26:34.923Z"
   },
   {
    "duration": 5,
    "start_time": "2022-03-14T18:26:36.547Z"
   },
   {
    "duration": 49745,
    "start_time": "2022-03-14T18:29:36.606Z"
   },
   {
    "duration": 6,
    "start_time": "2022-03-14T18:30:37.347Z"
   },
   {
    "duration": 4,
    "start_time": "2022-03-14T18:30:42.080Z"
   },
   {
    "duration": 7,
    "start_time": "2022-03-14T18:30:43.592Z"
   },
   {
    "duration": 4,
    "start_time": "2022-03-14T18:30:48.761Z"
   },
   {
    "duration": 7,
    "start_time": "2022-03-14T18:30:50.473Z"
   },
   {
    "duration": 66,
    "start_time": "2022-03-14T18:32:18.293Z"
   },
   {
    "duration": 6,
    "start_time": "2022-03-14T18:36:58.194Z"
   },
   {
    "duration": 4,
    "start_time": "2022-03-14T18:40:21.875Z"
   },
   {
    "duration": 389960,
    "start_time": "2022-03-14T18:40:30.172Z"
   },
   {
    "duration": 6,
    "start_time": "2022-03-14T18:47:08.971Z"
   },
   {
    "duration": 3,
    "start_time": "2022-03-14T18:47:16.431Z"
   },
   {
    "duration": 6,
    "start_time": "2022-03-14T18:47:19.606Z"
   },
   {
    "duration": 431393,
    "start_time": "2022-03-14T18:47:39.278Z"
   },
   {
    "duration": 6,
    "start_time": "2022-03-14T19:01:37.686Z"
   },
   {
    "duration": 4,
    "start_time": "2022-03-14T19:01:53.499Z"
   },
   {
    "duration": 6,
    "start_time": "2022-03-14T19:02:01.814Z"
   },
   {
    "duration": 4,
    "start_time": "2022-03-14T19:02:06.756Z"
   },
   {
    "duration": 5,
    "start_time": "2022-03-14T19:02:09.167Z"
   },
   {
    "duration": 9,
    "start_time": "2022-03-14T19:03:12.325Z"
   },
   {
    "duration": 4,
    "start_time": "2022-03-14T19:15:23.053Z"
   },
   {
    "duration": 6,
    "start_time": "2022-03-14T19:15:24.766Z"
   },
   {
    "duration": 432619,
    "start_time": "2022-03-14T19:15:36.778Z"
   },
   {
    "duration": 21,
    "start_time": "2022-03-14T19:23:23.877Z"
   },
   {
    "duration": 6,
    "start_time": "2022-03-14T19:24:10.469Z"
   },
   {
    "duration": 4,
    "start_time": "2022-03-14T19:24:19.910Z"
   },
   {
    "duration": 5,
    "start_time": "2022-03-14T19:24:23.190Z"
   },
   {
    "duration": 329737,
    "start_time": "2022-03-14T19:24:51.263Z"
   },
   {
    "duration": 6,
    "start_time": "2022-03-14T19:30:47.472Z"
   },
   {
    "duration": 3,
    "start_time": "2022-03-14T19:30:53.693Z"
   },
   {
    "duration": 6,
    "start_time": "2022-03-14T19:30:54.662Z"
   },
   {
    "duration": 4,
    "start_time": "2022-03-14T19:30:58.912Z"
   },
   {
    "duration": 5,
    "start_time": "2022-03-14T19:31:00.718Z"
   },
   {
    "duration": 5,
    "start_time": "2022-03-14T19:36:47.406Z"
   },
   {
    "duration": 2661,
    "start_time": "2022-03-14T19:36:48.828Z"
   },
   {
    "duration": 6,
    "start_time": "2022-03-14T19:36:54.827Z"
   },
   {
    "duration": 4,
    "start_time": "2022-03-14T19:37:20.573Z"
   },
   {
    "duration": 6,
    "start_time": "2022-03-14T19:37:22.046Z"
   },
   {
    "duration": 4,
    "start_time": "2022-03-14T19:37:33.466Z"
   },
   {
    "duration": 3510,
    "start_time": "2022-03-14T19:37:37.175Z"
   },
   {
    "duration": 12,
    "start_time": "2022-03-14T19:37:40.691Z"
   },
   {
    "duration": 5,
    "start_time": "2022-03-14T19:37:40.783Z"
   },
   {
    "duration": 10,
    "start_time": "2022-03-14T19:37:40.792Z"
   },
   {
    "duration": 363,
    "start_time": "2022-03-14T19:42:04.238Z"
   },
   {
    "duration": 77634,
    "start_time": "2022-03-14T19:42:47.612Z"
   },
   {
    "duration": 84446,
    "start_time": "2022-03-14T19:45:37.153Z"
   },
   {
    "duration": 7,
    "start_time": "2022-03-14T19:49:27.266Z"
   },
   {
    "duration": 6,
    "start_time": "2022-03-14T19:49:38.976Z"
   },
   {
    "duration": 5,
    "start_time": "2022-03-14T19:50:28.329Z"
   },
   {
    "duration": 5,
    "start_time": "2022-03-14T19:50:37.967Z"
   },
   {
    "duration": 4,
    "start_time": "2022-03-14T19:52:18.099Z"
   },
   {
    "duration": 4,
    "start_time": "2022-03-14T19:53:19.225Z"
   },
   {
    "duration": 6,
    "start_time": "2022-03-14T19:53:26.582Z"
   },
   {
    "duration": 1248,
    "start_time": "2022-03-15T05:25:16.044Z"
   },
   {
    "duration": 751,
    "start_time": "2022-03-15T05:25:17.295Z"
   },
   {
    "duration": 16,
    "start_time": "2022-03-15T05:25:18.049Z"
   },
   {
    "duration": 11,
    "start_time": "2022-03-15T05:25:18.067Z"
   },
   {
    "duration": 36,
    "start_time": "2022-03-15T05:25:18.080Z"
   },
   {
    "duration": 14,
    "start_time": "2022-03-15T05:25:18.118Z"
   },
   {
    "duration": 12,
    "start_time": "2022-03-15T05:25:18.134Z"
   },
   {
    "duration": 7,
    "start_time": "2022-03-15T05:25:18.148Z"
   },
   {
    "duration": 50,
    "start_time": "2022-03-15T05:25:18.158Z"
   },
   {
    "duration": 16,
    "start_time": "2022-03-15T05:25:18.210Z"
   },
   {
    "duration": 12,
    "start_time": "2022-03-15T05:25:18.228Z"
   },
   {
    "duration": 11,
    "start_time": "2022-03-15T05:25:18.242Z"
   },
   {
    "duration": 15,
    "start_time": "2022-03-15T05:25:18.255Z"
   },
   {
    "duration": 29,
    "start_time": "2022-03-15T05:25:18.272Z"
   },
   {
    "duration": 32,
    "start_time": "2022-03-15T05:25:18.303Z"
   },
   {
    "duration": 6,
    "start_time": "2022-03-15T05:25:18.337Z"
   },
   {
    "duration": 18,
    "start_time": "2022-03-15T05:25:18.345Z"
   },
   {
    "duration": 10,
    "start_time": "2022-03-15T05:25:18.365Z"
   },
   {
    "duration": 51,
    "start_time": "2022-03-15T05:25:18.376Z"
   },
   {
    "duration": 9,
    "start_time": "2022-03-15T05:25:18.428Z"
   },
   {
    "duration": 16,
    "start_time": "2022-03-15T05:25:18.439Z"
   },
   {
    "duration": 15,
    "start_time": "2022-03-15T05:25:18.457Z"
   },
   {
    "duration": 19,
    "start_time": "2022-03-15T05:25:18.473Z"
   },
   {
    "duration": 15,
    "start_time": "2022-03-15T05:25:18.494Z"
   },
   {
    "duration": 10,
    "start_time": "2022-03-15T05:25:18.511Z"
   },
   {
    "duration": 19,
    "start_time": "2022-03-15T05:25:18.522Z"
   },
   {
    "duration": 4,
    "start_time": "2022-03-15T05:25:18.545Z"
   },
   {
    "duration": 16,
    "start_time": "2022-03-15T05:25:18.551Z"
   },
   {
    "duration": 9,
    "start_time": "2022-03-15T05:25:18.569Z"
   },
   {
    "duration": 29,
    "start_time": "2022-03-15T05:25:18.580Z"
   },
   {
    "duration": 13,
    "start_time": "2022-03-15T05:25:18.610Z"
   },
   {
    "duration": 38,
    "start_time": "2022-03-15T05:25:18.625Z"
   },
   {
    "duration": 2,
    "start_time": "2022-03-15T05:25:18.665Z"
   },
   {
    "duration": 10,
    "start_time": "2022-03-15T05:25:18.668Z"
   },
   {
    "duration": 9,
    "start_time": "2022-03-15T05:25:18.680Z"
   },
   {
    "duration": 18,
    "start_time": "2022-03-15T05:25:18.692Z"
   },
   {
    "duration": 12,
    "start_time": "2022-03-15T05:25:18.712Z"
   },
   {
    "duration": 10,
    "start_time": "2022-03-15T05:25:18.726Z"
   },
   {
    "duration": 13,
    "start_time": "2022-03-15T05:25:18.738Z"
   },
   {
    "duration": 10,
    "start_time": "2022-03-15T05:25:18.754Z"
   },
   {
    "duration": 44,
    "start_time": "2022-03-15T05:25:18.765Z"
   },
   {
    "duration": 21,
    "start_time": "2022-03-15T05:25:18.811Z"
   },
   {
    "duration": 15,
    "start_time": "2022-03-15T05:25:18.834Z"
   },
   {
    "duration": 9,
    "start_time": "2022-03-15T05:25:18.850Z"
   },
   {
    "duration": 9,
    "start_time": "2022-03-15T05:25:18.860Z"
   },
   {
    "duration": 34,
    "start_time": "2022-03-15T05:25:18.870Z"
   },
   {
    "duration": 321,
    "start_time": "2022-03-15T05:25:18.905Z"
   },
   {
    "duration": 5,
    "start_time": "2022-03-15T05:25:19.228Z"
   },
   {
    "duration": 11,
    "start_time": "2022-03-15T05:25:19.235Z"
   },
   {
    "duration": 27,
    "start_time": "2022-03-15T05:25:19.248Z"
   },
   {
    "duration": 334,
    "start_time": "2022-03-15T05:25:19.277Z"
   },
   {
    "duration": 5,
    "start_time": "2022-03-15T05:25:19.612Z"
   },
   {
    "duration": 21,
    "start_time": "2022-03-15T05:25:19.619Z"
   },
   {
    "duration": 14,
    "start_time": "2022-03-15T05:25:19.642Z"
   },
   {
    "duration": 18,
    "start_time": "2022-03-15T05:25:19.658Z"
   },
   {
    "duration": 23,
    "start_time": "2022-03-15T05:25:19.678Z"
   },
   {
    "duration": 16,
    "start_time": "2022-03-15T05:25:19.703Z"
   },
   {
    "duration": 11,
    "start_time": "2022-03-15T05:25:19.721Z"
   },
   {
    "duration": 18,
    "start_time": "2022-03-15T05:25:19.733Z"
   },
   {
    "duration": 11,
    "start_time": "2022-03-15T05:25:19.752Z"
   },
   {
    "duration": 49,
    "start_time": "2022-03-15T05:25:19.765Z"
   },
   {
    "duration": 2,
    "start_time": "2022-03-15T05:25:19.816Z"
   },
   {
    "duration": 11,
    "start_time": "2022-03-15T05:25:19.820Z"
   },
   {
    "duration": 33,
    "start_time": "2022-03-15T05:25:19.833Z"
   },
   {
    "duration": 12,
    "start_time": "2022-03-15T05:25:19.868Z"
   },
   {
    "duration": 3,
    "start_time": "2022-03-15T05:25:19.902Z"
   },
   {
    "duration": 15,
    "start_time": "2022-03-15T05:25:19.907Z"
   },
   {
    "duration": 15,
    "start_time": "2022-03-15T05:25:19.924Z"
   },
   {
    "duration": 3,
    "start_time": "2022-03-15T05:25:19.941Z"
   },
   {
    "duration": 18,
    "start_time": "2022-03-15T05:25:19.945Z"
   },
   {
    "duration": 5,
    "start_time": "2022-03-15T05:25:19.965Z"
   },
   {
    "duration": 6,
    "start_time": "2022-03-15T05:25:20.000Z"
   },
   {
    "duration": 29,
    "start_time": "2022-03-15T05:25:20.009Z"
   },
   {
    "duration": 39,
    "start_time": "2022-03-15T05:25:20.040Z"
   },
   {
    "duration": 4,
    "start_time": "2022-03-15T05:25:20.081Z"
   },
   {
    "duration": 15,
    "start_time": "2022-03-15T05:25:20.087Z"
   },
   {
    "duration": 1903,
    "start_time": "2022-03-15T05:25:20.104Z"
   },
   {
    "duration": 93,
    "start_time": "2022-03-15T05:25:22.011Z"
   },
   {
    "duration": 48,
    "start_time": "2022-03-15T05:25:22.106Z"
   },
   {
    "duration": 16,
    "start_time": "2022-03-15T05:25:22.156Z"
   },
   {
    "duration": 2023,
    "start_time": "2022-03-15T05:25:22.179Z"
   },
   {
    "duration": 5,
    "start_time": "2022-03-15T05:25:24.205Z"
   },
   {
    "duration": 88,
    "start_time": "2022-03-15T05:25:24.213Z"
   },
   {
    "duration": 11,
    "start_time": "2022-03-15T05:25:24.304Z"
   },
   {
    "duration": 10,
    "start_time": "2022-03-15T05:25:24.317Z"
   },
   {
    "duration": 12,
    "start_time": "2022-03-15T05:25:24.330Z"
   },
   {
    "duration": 5,
    "start_time": "2022-03-15T05:25:24.344Z"
   },
   {
    "duration": 52,
    "start_time": "2022-03-15T05:25:24.351Z"
   },
   {
    "duration": 380427,
    "start_time": "2022-03-15T05:25:24.405Z"
   },
   {
    "duration": 5,
    "start_time": "2022-03-15T05:31:44.834Z"
   },
   {
    "duration": 10,
    "start_time": "2022-03-15T05:31:44.841Z"
   },
   {
    "duration": 16,
    "start_time": "2022-03-15T05:31:44.853Z"
   },
   {
    "duration": 288174,
    "start_time": "2022-03-15T05:31:44.871Z"
   },
   {
    "duration": 5,
    "start_time": "2022-03-15T05:36:33.047Z"
   },
   {
    "duration": 19,
    "start_time": "2022-03-15T05:36:33.054Z"
   },
   {
    "duration": 8,
    "start_time": "2022-03-15T05:36:33.076Z"
   },
   {
    "duration": 15,
    "start_time": "2022-03-15T05:36:33.086Z"
   },
   {
    "duration": 12,
    "start_time": "2022-03-15T05:36:33.103Z"
   },
   {
    "duration": 6,
    "start_time": "2022-03-15T05:36:33.118Z"
   },
   {
    "duration": 294900,
    "start_time": "2022-03-15T05:36:33.126Z"
   },
   {
    "duration": 4,
    "start_time": "2022-03-15T05:41:28.028Z"
   },
   {
    "duration": 7,
    "start_time": "2022-03-15T05:41:28.034Z"
   },
   {
    "duration": 10,
    "start_time": "2022-03-15T05:41:28.043Z"
   },
   {
    "duration": 292592,
    "start_time": "2022-03-15T05:41:28.055Z"
   },
   {
    "duration": 5,
    "start_time": "2022-03-15T05:46:20.649Z"
   },
   {
    "duration": 15,
    "start_time": "2022-03-15T05:46:20.657Z"
   },
   {
    "duration": 15,
    "start_time": "2022-03-15T05:46:20.674Z"
   },
   {
    "duration": 17,
    "start_time": "2022-03-15T05:46:20.690Z"
   },
   {
    "duration": 11,
    "start_time": "2022-03-15T05:46:20.709Z"
   },
   {
    "duration": 17,
    "start_time": "2022-03-15T05:46:20.721Z"
   },
   {
    "duration": 61823,
    "start_time": "2022-03-15T05:46:20.740Z"
   },
   {
    "duration": 60850,
    "start_time": "2022-03-15T05:47:22.566Z"
   },
   {
    "duration": 4,
    "start_time": "2022-03-15T05:48:23.418Z"
   },
   {
    "duration": 17,
    "start_time": "2022-03-15T05:48:23.424Z"
   },
   {
    "duration": 17,
    "start_time": "2022-03-15T05:48:23.443Z"
   },
   {
    "duration": 12,
    "start_time": "2022-03-15T05:48:23.462Z"
   },
   {
    "duration": 14,
    "start_time": "2022-03-15T05:48:23.476Z"
   },
   {
    "duration": 18,
    "start_time": "2022-03-15T05:48:23.492Z"
   },
   {
    "duration": 14,
    "start_time": "2022-03-15T05:48:23.512Z"
   },
   {
    "duration": 5,
    "start_time": "2022-03-15T07:35:36.710Z"
   },
   {
    "duration": 4,
    "start_time": "2022-03-15T07:35:39.213Z"
   },
   {
    "duration": 4,
    "start_time": "2022-03-15T07:43:10.917Z"
   },
   {
    "duration": 4,
    "start_time": "2022-03-15T07:44:05.773Z"
   },
   {
    "duration": 3,
    "start_time": "2022-03-15T07:46:35.308Z"
   },
   {
    "duration": 2,
    "start_time": "2022-03-15T07:46:40.207Z"
   },
   {
    "duration": 3,
    "start_time": "2022-03-15T07:46:56.540Z"
   },
   {
    "duration": 2,
    "start_time": "2022-03-15T07:46:59.771Z"
   },
   {
    "duration": 1271,
    "start_time": "2022-03-15T07:49:42.720Z"
   },
   {
    "duration": 740,
    "start_time": "2022-03-15T07:49:43.993Z"
   },
   {
    "duration": 17,
    "start_time": "2022-03-15T07:49:44.735Z"
   },
   {
    "duration": 13,
    "start_time": "2022-03-15T07:49:44.755Z"
   },
   {
    "duration": 44,
    "start_time": "2022-03-15T07:49:44.771Z"
   },
   {
    "duration": 16,
    "start_time": "2022-03-15T07:49:44.818Z"
   },
   {
    "duration": 13,
    "start_time": "2022-03-15T07:49:44.836Z"
   },
   {
    "duration": 6,
    "start_time": "2022-03-15T07:49:44.852Z"
   },
   {
    "duration": 54,
    "start_time": "2022-03-15T07:49:44.861Z"
   },
   {
    "duration": 18,
    "start_time": "2022-03-15T07:49:44.918Z"
   },
   {
    "duration": 13,
    "start_time": "2022-03-15T07:49:44.938Z"
   },
   {
    "duration": 11,
    "start_time": "2022-03-15T07:49:44.953Z"
   },
   {
    "duration": 43,
    "start_time": "2022-03-15T07:49:44.966Z"
   },
   {
    "duration": 14,
    "start_time": "2022-03-15T07:49:45.011Z"
   },
   {
    "duration": 101,
    "start_time": "2022-03-15T07:49:45.027Z"
   },
   {
    "duration": 6,
    "start_time": "2022-03-15T07:49:45.130Z"
   },
   {
    "duration": 14,
    "start_time": "2022-03-15T07:49:45.137Z"
   },
   {
    "duration": 12,
    "start_time": "2022-03-15T07:49:45.153Z"
   },
   {
    "duration": 37,
    "start_time": "2022-03-15T07:49:45.167Z"
   },
   {
    "duration": 9,
    "start_time": "2022-03-15T07:49:45.206Z"
   },
   {
    "duration": 15,
    "start_time": "2022-03-15T07:49:45.217Z"
   },
   {
    "duration": 12,
    "start_time": "2022-03-15T07:49:45.234Z"
   },
   {
    "duration": 14,
    "start_time": "2022-03-15T07:49:45.250Z"
   },
   {
    "duration": 9,
    "start_time": "2022-03-15T07:49:45.267Z"
   },
   {
    "duration": 19,
    "start_time": "2022-03-15T07:49:45.277Z"
   },
   {
    "duration": 23,
    "start_time": "2022-03-15T07:49:45.298Z"
   },
   {
    "duration": 15,
    "start_time": "2022-03-15T07:49:45.323Z"
   },
   {
    "duration": 27,
    "start_time": "2022-03-15T07:49:45.339Z"
   },
   {
    "duration": 35,
    "start_time": "2022-03-15T07:49:45.367Z"
   },
   {
    "duration": 14,
    "start_time": "2022-03-15T07:49:45.404Z"
   },
   {
    "duration": 9,
    "start_time": "2022-03-15T07:49:45.420Z"
   },
   {
    "duration": 17,
    "start_time": "2022-03-15T07:49:45.431Z"
   },
   {
    "duration": 21,
    "start_time": "2022-03-15T07:49:45.449Z"
   },
   {
    "duration": 29,
    "start_time": "2022-03-15T07:49:45.472Z"
   },
   {
    "duration": 19,
    "start_time": "2022-03-15T07:49:45.503Z"
   },
   {
    "duration": 21,
    "start_time": "2022-03-15T07:49:45.523Z"
   },
   {
    "duration": 19,
    "start_time": "2022-03-15T07:49:45.546Z"
   },
   {
    "duration": 20,
    "start_time": "2022-03-15T07:49:45.567Z"
   },
   {
    "duration": 19,
    "start_time": "2022-03-15T07:49:45.589Z"
   },
   {
    "duration": 15,
    "start_time": "2022-03-15T07:49:45.610Z"
   },
   {
    "duration": 19,
    "start_time": "2022-03-15T07:49:45.627Z"
   },
   {
    "duration": 24,
    "start_time": "2022-03-15T07:49:45.648Z"
   },
   {
    "duration": 2,
    "start_time": "2022-03-15T07:49:45.674Z"
   },
   {
    "duration": 22,
    "start_time": "2022-03-15T07:49:45.678Z"
   },
   {
    "duration": 340,
    "start_time": "2022-03-15T07:49:45.702Z"
   },
   {
    "duration": 6,
    "start_time": "2022-03-15T07:49:46.044Z"
   },
   {
    "duration": 16,
    "start_time": "2022-03-15T07:49:46.052Z"
   },
   {
    "duration": 27,
    "start_time": "2022-03-15T07:49:46.071Z"
   },
   {
    "duration": 334,
    "start_time": "2022-03-15T07:49:46.100Z"
   },
   {
    "duration": 6,
    "start_time": "2022-03-15T07:49:46.436Z"
   },
   {
    "duration": 11,
    "start_time": "2022-03-15T07:49:46.445Z"
   },
   {
    "duration": 16,
    "start_time": "2022-03-15T07:49:46.457Z"
   },
   {
    "duration": 12,
    "start_time": "2022-03-15T07:49:46.501Z"
   },
   {
    "duration": 16,
    "start_time": "2022-03-15T07:49:46.515Z"
   },
   {
    "duration": 25,
    "start_time": "2022-03-15T07:49:46.533Z"
   },
   {
    "duration": 3,
    "start_time": "2022-03-15T07:49:46.561Z"
   },
   {
    "duration": 15,
    "start_time": "2022-03-15T07:49:46.565Z"
   },
   {
    "duration": 21,
    "start_time": "2022-03-15T07:49:46.581Z"
   },
   {
    "duration": 7,
    "start_time": "2022-03-15T07:49:46.604Z"
   },
   {
    "duration": 13,
    "start_time": "2022-03-15T07:49:46.613Z"
   },
   {
    "duration": 10,
    "start_time": "2022-03-15T07:49:46.628Z"
   },
   {
    "duration": 9,
    "start_time": "2022-03-15T07:49:46.640Z"
   },
   {
    "duration": 11,
    "start_time": "2022-03-15T07:49:46.651Z"
   },
   {
    "duration": 12,
    "start_time": "2022-03-15T07:49:46.664Z"
   },
   {
    "duration": 41,
    "start_time": "2022-03-15T07:49:46.678Z"
   },
   {
    "duration": 4,
    "start_time": "2022-03-15T07:49:46.721Z"
   },
   {
    "duration": 8,
    "start_time": "2022-03-15T07:49:46.727Z"
   },
   {
    "duration": 1360,
    "start_time": "2022-03-15T07:49:46.741Z"
   },
   {
    "duration": 3,
    "start_time": "2022-03-15T07:49:48.104Z"
   },
   {
    "duration": 1593,
    "start_time": "2022-03-15T07:49:48.110Z"
   },
   {
    "duration": 3,
    "start_time": "2022-03-15T07:49:49.705Z"
   },
   {
    "duration": 11,
    "start_time": "2022-03-15T07:49:49.710Z"
   },
   {
    "duration": 12,
    "start_time": "2022-03-15T07:49:49.723Z"
   },
   {
    "duration": 4,
    "start_time": "2022-03-15T07:49:49.737Z"
   },
   {
    "duration": 7,
    "start_time": "2022-03-15T07:49:49.801Z"
   },
   {
    "duration": 253506,
    "start_time": "2022-03-15T07:49:49.809Z"
   },
   {
    "duration": 3,
    "start_time": "2022-03-15T07:54:03.317Z"
   },
   {
    "duration": 282084,
    "start_time": "2022-03-15T07:54:03.322Z"
   },
   {
    "duration": 3,
    "start_time": "2022-03-15T07:58:45.408Z"
   },
   {
    "duration": 7,
    "start_time": "2022-03-15T07:58:45.413Z"
   },
   {
    "duration": 9,
    "start_time": "2022-03-15T07:58:45.422Z"
   },
   {
    "duration": 4,
    "start_time": "2022-03-15T07:58:45.433Z"
   },
   {
    "duration": 297107,
    "start_time": "2022-03-15T07:58:45.439Z"
   },
   {
    "duration": 3,
    "start_time": "2022-03-15T08:03:42.548Z"
   },
   {
    "duration": 301796,
    "start_time": "2022-03-15T08:03:42.553Z"
   },
   {
    "duration": 4,
    "start_time": "2022-03-15T08:08:44.351Z"
   },
   {
    "duration": 6,
    "start_time": "2022-03-15T08:08:44.357Z"
   },
   {
    "duration": 19,
    "start_time": "2022-03-15T08:08:44.365Z"
   },
   {
    "duration": 6,
    "start_time": "2022-03-15T08:08:44.386Z"
   },
   {
    "duration": 62536,
    "start_time": "2022-03-15T08:08:44.394Z"
   },
   {
    "duration": 63118,
    "start_time": "2022-03-15T08:09:46.932Z"
   },
   {
    "duration": 6,
    "start_time": "2022-03-15T08:10:50.052Z"
   },
   {
    "duration": 18,
    "start_time": "2022-03-15T08:10:50.060Z"
   },
   {
    "duration": 11,
    "start_time": "2022-03-15T08:10:50.080Z"
   },
   {
    "duration": 3,
    "start_time": "2022-03-15T08:25:54.623Z"
   },
   {
    "duration": 13,
    "start_time": "2022-03-15T08:25:54.628Z"
   },
   {
    "duration": 24820,
    "start_time": "2022-03-15T08:25:54.644Z"
   },
   {
    "duration": 3,
    "start_time": "2022-03-15T08:26:19.467Z"
   },
   {
    "duration": 29058,
    "start_time": "2022-03-15T08:26:19.472Z"
   },
   {
    "duration": 3,
    "start_time": "2022-03-15T08:26:48.531Z"
   },
   {
    "duration": 13,
    "start_time": "2022-03-15T08:26:48.536Z"
   },
   {
    "duration": 13,
    "start_time": "2022-03-15T08:26:48.551Z"
   },
   {
    "duration": 3,
    "start_time": "2022-03-15T08:28:36.900Z"
   },
   {
    "duration": 6,
    "start_time": "2022-03-15T08:28:36.905Z"
   },
   {
    "duration": 8,
    "start_time": "2022-03-15T08:28:36.914Z"
   },
   {
    "duration": 62195,
    "start_time": "2022-03-15T08:28:36.924Z"
   },
   {
    "duration": 2,
    "start_time": "2022-03-15T08:29:39.122Z"
   },
   {
    "duration": 70231,
    "start_time": "2022-03-15T08:29:39.126Z"
   },
   {
    "duration": 2,
    "start_time": "2022-03-15T08:30:49.359Z"
   },
   {
    "duration": 11,
    "start_time": "2022-03-15T08:30:49.363Z"
   },
   {
    "duration": 13,
    "start_time": "2022-03-15T08:30:49.377Z"
   },
   {
    "duration": 10,
    "start_time": "2022-03-15T08:30:49.392Z"
   },
   {
    "duration": 3,
    "start_time": "2022-03-15T08:32:23.915Z"
   },
   {
    "duration": 17,
    "start_time": "2022-03-15T08:32:23.921Z"
   },
   {
    "duration": 124380,
    "start_time": "2022-03-15T08:32:23.941Z"
   },
   {
    "duration": 3,
    "start_time": "2022-03-15T08:34:28.323Z"
   },
   {
    "duration": 145054,
    "start_time": "2022-03-15T08:34:28.329Z"
   },
   {
    "duration": 3,
    "start_time": "2022-03-15T08:36:53.385Z"
   },
   {
    "duration": 32,
    "start_time": "2022-03-15T08:36:53.401Z"
   },
   {
    "duration": 16,
    "start_time": "2022-03-15T08:36:53.435Z"
   },
   {
    "duration": 3,
    "start_time": "2022-03-15T08:40:55.420Z"
   },
   {
    "duration": 12,
    "start_time": "2022-03-15T08:40:55.425Z"
   },
   {
    "duration": 100451,
    "start_time": "2022-03-15T08:40:55.440Z"
   },
   {
    "duration": 8,
    "start_time": "2022-03-15T08:42:35.893Z"
   },
   {
    "duration": 116285,
    "start_time": "2022-03-15T08:42:35.904Z"
   },
   {
    "duration": 12,
    "start_time": "2022-03-15T08:44:32.191Z"
   },
   {
    "duration": 35,
    "start_time": "2022-03-15T08:44:32.206Z"
   },
   {
    "duration": 16,
    "start_time": "2022-03-15T08:44:32.244Z"
   },
   {
    "duration": 4,
    "start_time": "2022-03-15T08:47:42.933Z"
   },
   {
    "duration": 17,
    "start_time": "2022-03-15T08:47:42.939Z"
   },
   {
    "duration": 147742,
    "start_time": "2022-03-15T08:47:42.959Z"
   },
   {
    "duration": 3,
    "start_time": "2022-03-15T08:50:10.703Z"
   },
   {
    "duration": 170380,
    "start_time": "2022-03-15T08:50:10.708Z"
   },
   {
    "duration": 3,
    "start_time": "2022-03-15T08:53:01.090Z"
   },
   {
    "duration": 3,
    "start_time": "2022-03-15T08:53:01.101Z"
   },
   {
    "duration": 51,
    "start_time": "2022-03-15T08:53:01.106Z"
   },
   {
    "duration": 3,
    "start_time": "2022-03-15T08:59:16.114Z"
   },
   {
    "duration": 8,
    "start_time": "2022-03-15T08:59:16.119Z"
   },
   {
    "duration": 110286,
    "start_time": "2022-03-15T08:59:16.130Z"
   },
   {
    "duration": 3,
    "start_time": "2022-03-15T09:01:06.418Z"
   },
   {
    "duration": 127743,
    "start_time": "2022-03-15T09:01:06.423Z"
   },
   {
    "duration": 3,
    "start_time": "2022-03-15T09:03:14.168Z"
   },
   {
    "duration": 8,
    "start_time": "2022-03-15T09:03:14.172Z"
   },
   {
    "duration": 18,
    "start_time": "2022-03-15T09:03:14.183Z"
   },
   {
    "duration": 3,
    "start_time": "2022-03-15T09:05:28.509Z"
   },
   {
    "duration": 4,
    "start_time": "2022-03-15T09:05:36.054Z"
   },
   {
    "duration": 18,
    "start_time": "2022-03-15T09:05:36.061Z"
   },
   {
    "duration": 136829,
    "start_time": "2022-03-15T09:05:36.082Z"
   },
   {
    "duration": 4,
    "start_time": "2022-03-15T09:07:52.913Z"
   },
   {
    "duration": 154841,
    "start_time": "2022-03-15T09:07:52.919Z"
   },
   {
    "duration": 3,
    "start_time": "2022-03-15T09:10:27.762Z"
   },
   {
    "duration": 6,
    "start_time": "2022-03-15T09:10:27.767Z"
   },
   {
    "duration": 8,
    "start_time": "2022-03-15T09:10:27.775Z"
   },
   {
    "duration": 3,
    "start_time": "2022-03-15T09:18:03.068Z"
   },
   {
    "duration": 4,
    "start_time": "2022-03-15T09:18:05.621Z"
   },
   {
    "duration": 4,
    "start_time": "2022-03-15T09:18:14.774Z"
   },
   {
    "duration": 44393,
    "start_time": "2022-03-15T09:18:14.780Z"
   },
   {
    "duration": 3,
    "start_time": "2022-03-15T09:18:59.175Z"
   },
   {
    "duration": 44682,
    "start_time": "2022-03-15T09:18:59.180Z"
   },
   {
    "duration": 3,
    "start_time": "2022-03-15T09:19:43.864Z"
   },
   {
    "duration": 8,
    "start_time": "2022-03-15T09:19:43.868Z"
   },
   {
    "duration": 10,
    "start_time": "2022-03-15T09:19:43.878Z"
   },
   {
    "duration": 4,
    "start_time": "2022-03-15T09:32:12.702Z"
   },
   {
    "duration": 28,
    "start_time": "2022-03-15T09:32:12.708Z"
   },
   {
    "duration": 36658,
    "start_time": "2022-03-15T09:32:12.739Z"
   },
   {
    "duration": 2,
    "start_time": "2022-03-15T09:32:49.402Z"
   },
   {
    "duration": 37505,
    "start_time": "2022-03-15T09:32:49.406Z"
   },
   {
    "duration": 3,
    "start_time": "2022-03-15T09:33:26.913Z"
   },
   {
    "duration": 15,
    "start_time": "2022-03-15T09:33:26.917Z"
   },
   {
    "duration": 8,
    "start_time": "2022-03-15T09:33:26.934Z"
   },
   {
    "duration": 3,
    "start_time": "2022-03-15T09:40:50.340Z"
   },
   {
    "duration": 4,
    "start_time": "2022-03-15T09:41:08.103Z"
   },
   {
    "duration": 8,
    "start_time": "2022-03-15T09:41:08.109Z"
   },
   {
    "duration": 52236,
    "start_time": "2022-03-15T09:41:08.119Z"
   },
   {
    "duration": 3,
    "start_time": "2022-03-15T09:42:00.358Z"
   },
   {
    "duration": 52434,
    "start_time": "2022-03-15T09:42:00.363Z"
   },
   {
    "duration": 3,
    "start_time": "2022-03-15T09:42:52.801Z"
   },
   {
    "duration": 40,
    "start_time": "2022-03-15T09:42:52.806Z"
   },
   {
    "duration": 26,
    "start_time": "2022-03-15T09:42:52.849Z"
   },
   {
    "duration": 4,
    "start_time": "2022-03-15T09:52:30.994Z"
   },
   {
    "duration": 3,
    "start_time": "2022-03-15T09:52:46.103Z"
   },
   {
    "duration": 16,
    "start_time": "2022-03-15T09:52:46.108Z"
   },
   {
    "duration": 72118,
    "start_time": "2022-03-15T09:52:46.127Z"
   },
   {
    "duration": 3,
    "start_time": "2022-03-15T09:53:58.248Z"
   },
   {
    "duration": 74187,
    "start_time": "2022-03-15T09:53:58.253Z"
   },
   {
    "duration": 3,
    "start_time": "2022-03-15T09:55:12.443Z"
   },
   {
    "duration": 11,
    "start_time": "2022-03-15T09:55:12.448Z"
   },
   {
    "duration": 15,
    "start_time": "2022-03-15T09:55:12.462Z"
   },
   {
    "duration": 3,
    "start_time": "2022-03-15T10:04:41.359Z"
   },
   {
    "duration": 3,
    "start_time": "2022-03-15T10:04:46.022Z"
   },
   {
    "duration": 17,
    "start_time": "2022-03-15T10:04:46.027Z"
   },
   {
    "duration": 59379,
    "start_time": "2022-03-15T10:04:46.046Z"
   },
   {
    "duration": 3,
    "start_time": "2022-03-15T10:05:45.427Z"
   },
   {
    "duration": 61558,
    "start_time": "2022-03-15T10:05:45.432Z"
   },
   {
    "duration": 2,
    "start_time": "2022-03-15T10:06:46.992Z"
   },
   {
    "duration": 17,
    "start_time": "2022-03-15T10:06:46.996Z"
   },
   {
    "duration": 20,
    "start_time": "2022-03-15T10:06:47.015Z"
   },
   {
    "duration": 3,
    "start_time": "2022-03-15T10:37:39.090Z"
   },
   {
    "duration": 5,
    "start_time": "2022-03-15T10:37:40.477Z"
   },
   {
    "duration": 4,
    "start_time": "2022-03-15T10:37:45.557Z"
   },
   {
    "duration": 29229,
    "start_time": "2022-03-15T10:37:45.563Z"
   },
   {
    "duration": 6,
    "start_time": "2022-03-15T10:38:14.795Z"
   },
   {
    "duration": 28862,
    "start_time": "2022-03-15T10:38:14.803Z"
   },
   {
    "duration": 3,
    "start_time": "2022-03-15T10:38:43.667Z"
   },
   {
    "duration": 11,
    "start_time": "2022-03-15T10:38:43.671Z"
   },
   {
    "duration": 17,
    "start_time": "2022-03-15T10:38:43.684Z"
   },
   {
    "duration": 3,
    "start_time": "2022-03-15T10:53:00.516Z"
   },
   {
    "duration": 4,
    "start_time": "2022-03-15T10:53:06.404Z"
   },
   {
    "duration": 29,
    "start_time": "2022-03-15T10:53:06.410Z"
   },
   {
    "duration": 89396,
    "start_time": "2022-03-15T10:53:06.441Z"
   },
   {
    "duration": 3,
    "start_time": "2022-03-15T10:54:35.839Z"
   },
   {
    "duration": 96515,
    "start_time": "2022-03-15T10:54:35.844Z"
   },
   {
    "duration": 3,
    "start_time": "2022-03-15T10:56:12.361Z"
   },
   {
    "duration": 7,
    "start_time": "2022-03-15T10:56:12.366Z"
   },
   {
    "duration": 12,
    "start_time": "2022-03-15T10:56:12.375Z"
   },
   {
    "duration": 3,
    "start_time": "2022-03-15T11:00:49.336Z"
   },
   {
    "duration": 3,
    "start_time": "2022-03-15T11:00:58.021Z"
   },
   {
    "duration": 30,
    "start_time": "2022-03-15T11:00:58.026Z"
   },
   {
    "duration": 106720,
    "start_time": "2022-03-15T11:00:58.058Z"
   },
   {
    "duration": 3,
    "start_time": "2022-03-15T11:02:44.780Z"
   },
   {
    "duration": 113863,
    "start_time": "2022-03-15T11:02:44.785Z"
   },
   {
    "duration": 4,
    "start_time": "2022-03-15T11:04:38.650Z"
   },
   {
    "duration": 23,
    "start_time": "2022-03-15T11:04:38.656Z"
   },
   {
    "duration": 40,
    "start_time": "2022-03-15T11:04:38.681Z"
   },
   {
    "duration": 4,
    "start_time": "2022-03-15T11:15:34.454Z"
   },
   {
    "duration": 4,
    "start_time": "2022-03-15T11:18:43.245Z"
   },
   {
    "duration": 5,
    "start_time": "2022-03-15T11:18:43.943Z"
   },
   {
    "duration": 3,
    "start_time": "2022-03-15T11:18:51.262Z"
   },
   {
    "duration": 5,
    "start_time": "2022-03-15T11:18:51.913Z"
   },
   {
    "duration": 1268,
    "start_time": "2022-03-15T11:20:48.733Z"
   },
   {
    "duration": 750,
    "start_time": "2022-03-15T11:20:50.003Z"
   },
   {
    "duration": 18,
    "start_time": "2022-03-15T11:20:50.755Z"
   },
   {
    "duration": 28,
    "start_time": "2022-03-15T11:20:50.776Z"
   },
   {
    "duration": 47,
    "start_time": "2022-03-15T11:20:50.814Z"
   },
   {
    "duration": 56,
    "start_time": "2022-03-15T11:20:50.863Z"
   },
   {
    "duration": 30,
    "start_time": "2022-03-15T11:20:50.921Z"
   },
   {
    "duration": 26,
    "start_time": "2022-03-15T11:20:50.953Z"
   },
   {
    "duration": 29,
    "start_time": "2022-03-15T11:20:50.983Z"
   },
   {
    "duration": 17,
    "start_time": "2022-03-15T11:20:51.015Z"
   },
   {
    "duration": 12,
    "start_time": "2022-03-15T11:20:51.034Z"
   },
   {
    "duration": 9,
    "start_time": "2022-03-15T11:20:51.048Z"
   },
   {
    "duration": 35,
    "start_time": "2022-03-15T11:20:51.059Z"
   },
   {
    "duration": 26,
    "start_time": "2022-03-15T11:20:51.095Z"
   },
   {
    "duration": 38,
    "start_time": "2022-03-15T11:20:51.123Z"
   },
   {
    "duration": 5,
    "start_time": "2022-03-15T11:20:51.163Z"
   },
   {
    "duration": 10,
    "start_time": "2022-03-15T11:20:51.170Z"
   },
   {
    "duration": 13,
    "start_time": "2022-03-15T11:20:51.182Z"
   },
   {
    "duration": 43,
    "start_time": "2022-03-15T11:20:51.197Z"
   },
   {
    "duration": 9,
    "start_time": "2022-03-15T11:20:51.242Z"
   },
   {
    "duration": 23,
    "start_time": "2022-03-15T11:20:51.253Z"
   },
   {
    "duration": 18,
    "start_time": "2022-03-15T11:20:51.277Z"
   },
   {
    "duration": 19,
    "start_time": "2022-03-15T11:20:51.297Z"
   },
   {
    "duration": 32,
    "start_time": "2022-03-15T11:20:51.318Z"
   },
   {
    "duration": 15,
    "start_time": "2022-03-15T11:20:51.352Z"
   },
   {
    "duration": 20,
    "start_time": "2022-03-15T11:20:51.369Z"
   },
   {
    "duration": 4,
    "start_time": "2022-03-15T11:20:51.394Z"
   },
   {
    "duration": 21,
    "start_time": "2022-03-15T11:20:51.401Z"
   },
   {
    "duration": 34,
    "start_time": "2022-03-15T11:20:51.424Z"
   },
   {
    "duration": 15,
    "start_time": "2022-03-15T11:20:51.460Z"
   },
   {
    "duration": 3,
    "start_time": "2022-03-15T11:20:51.477Z"
   },
   {
    "duration": 28,
    "start_time": "2022-03-15T11:20:51.482Z"
   },
   {
    "duration": 12,
    "start_time": "2022-03-15T11:20:51.512Z"
   },
   {
    "duration": 18,
    "start_time": "2022-03-15T11:20:51.526Z"
   },
   {
    "duration": 30,
    "start_time": "2022-03-15T11:20:51.546Z"
   },
   {
    "duration": 27,
    "start_time": "2022-03-15T11:20:51.578Z"
   },
   {
    "duration": 38,
    "start_time": "2022-03-15T11:20:51.607Z"
   },
   {
    "duration": 17,
    "start_time": "2022-03-15T11:20:51.647Z"
   },
   {
    "duration": 10,
    "start_time": "2022-03-15T11:20:51.666Z"
   },
   {
    "duration": 26,
    "start_time": "2022-03-15T11:20:51.677Z"
   },
   {
    "duration": 12,
    "start_time": "2022-03-15T11:20:51.705Z"
   },
   {
    "duration": 12,
    "start_time": "2022-03-15T11:20:51.719Z"
   },
   {
    "duration": 2,
    "start_time": "2022-03-15T11:20:51.733Z"
   },
   {
    "duration": 7,
    "start_time": "2022-03-15T11:20:51.737Z"
   },
   {
    "duration": 350,
    "start_time": "2022-03-15T11:20:51.747Z"
   },
   {
    "duration": 5,
    "start_time": "2022-03-15T11:20:52.101Z"
   },
   {
    "duration": 14,
    "start_time": "2022-03-15T11:20:52.108Z"
   },
   {
    "duration": 12,
    "start_time": "2022-03-15T11:20:52.124Z"
   },
   {
    "duration": 334,
    "start_time": "2022-03-15T11:20:52.138Z"
   },
   {
    "duration": 5,
    "start_time": "2022-03-15T11:20:52.474Z"
   },
   {
    "duration": 26,
    "start_time": "2022-03-15T11:20:52.481Z"
   },
   {
    "duration": 19,
    "start_time": "2022-03-15T11:20:52.509Z"
   },
   {
    "duration": 11,
    "start_time": "2022-03-15T11:20:52.530Z"
   },
   {
    "duration": 11,
    "start_time": "2022-03-15T11:20:52.543Z"
   },
   {
    "duration": 18,
    "start_time": "2022-03-15T11:20:52.556Z"
   },
   {
    "duration": 25,
    "start_time": "2022-03-15T11:20:52.576Z"
   },
   {
    "duration": 8,
    "start_time": "2022-03-15T11:20:52.603Z"
   },
   {
    "duration": 6,
    "start_time": "2022-03-15T11:20:52.613Z"
   },
   {
    "duration": 6,
    "start_time": "2022-03-15T11:20:52.620Z"
   },
   {
    "duration": 18,
    "start_time": "2022-03-15T11:20:52.627Z"
   },
   {
    "duration": 9,
    "start_time": "2022-03-15T11:20:52.647Z"
   },
   {
    "duration": 13,
    "start_time": "2022-03-15T11:20:52.658Z"
   },
   {
    "duration": 12,
    "start_time": "2022-03-15T11:20:52.673Z"
   },
   {
    "duration": 5,
    "start_time": "2022-03-15T11:20:52.701Z"
   },
   {
    "duration": 40,
    "start_time": "2022-03-15T11:20:52.708Z"
   },
   {
    "duration": 3,
    "start_time": "2022-03-15T11:20:52.751Z"
   },
   {
    "duration": 7,
    "start_time": "2022-03-15T11:20:52.756Z"
   },
   {
    "duration": 1339,
    "start_time": "2022-03-15T11:20:52.765Z"
   },
   {
    "duration": 4,
    "start_time": "2022-03-15T11:20:54.106Z"
   },
   {
    "duration": 1393,
    "start_time": "2022-03-15T11:20:54.112Z"
   },
   {
    "duration": 3,
    "start_time": "2022-03-15T11:20:55.508Z"
   },
   {
    "duration": 90,
    "start_time": "2022-03-15T11:20:55.513Z"
   },
   {
    "duration": 10,
    "start_time": "2022-03-15T11:20:55.606Z"
   },
   {
    "duration": 82,
    "start_time": "2022-03-15T11:20:55.619Z"
   },
   {
    "duration": 12,
    "start_time": "2022-03-15T11:20:55.703Z"
   },
   {
    "duration": 44353,
    "start_time": "2022-03-15T11:20:55.717Z"
   },
   {
    "duration": 3,
    "start_time": "2022-03-15T11:21:40.072Z"
   },
   {
    "duration": 44933,
    "start_time": "2022-03-15T11:21:40.077Z"
   },
   {
    "duration": 3,
    "start_time": "2022-03-15T11:22:25.012Z"
   },
   {
    "duration": 34,
    "start_time": "2022-03-15T11:22:25.017Z"
   },
   {
    "duration": 37,
    "start_time": "2022-03-15T11:22:25.057Z"
   },
   {
    "duration": 23,
    "start_time": "2022-03-15T11:22:25.097Z"
   },
   {
    "duration": 355002,
    "start_time": "2022-03-15T11:22:25.122Z"
   },
   {
    "duration": 4,
    "start_time": "2022-03-15T11:28:20.126Z"
   },
   {
    "duration": 380234,
    "start_time": "2022-03-15T11:28:20.132Z"
   },
   {
    "duration": 3,
    "start_time": "2022-03-15T11:34:40.369Z"
   },
   {
    "duration": 9,
    "start_time": "2022-03-15T11:34:40.374Z"
   },
   {
    "duration": 11,
    "start_time": "2022-03-15T11:34:40.386Z"
   },
   {
    "duration": 18,
    "start_time": "2022-03-15T11:34:40.402Z"
   },
   {
    "duration": 71071,
    "start_time": "2022-03-15T11:34:40.422Z"
   },
   {
    "duration": 78493,
    "start_time": "2022-03-15T11:35:51.496Z"
   },
   {
    "duration": 6,
    "start_time": "2022-03-15T11:37:09.991Z"
   },
   {
    "duration": 23,
    "start_time": "2022-03-15T11:37:09.999Z"
   },
   {
    "duration": 8,
    "start_time": "2022-03-15T11:37:10.024Z"
   },
   {
    "duration": 17,
    "start_time": "2022-03-15T11:37:10.035Z"
   },
   {
    "duration": 13,
    "start_time": "2022-03-15T11:37:10.054Z"
   },
   {
    "duration": 15,
    "start_time": "2022-03-15T11:37:10.069Z"
   },
   {
    "duration": 7,
    "start_time": "2022-03-15T11:37:10.086Z"
   },
   {
    "duration": 20,
    "start_time": "2022-03-15T11:37:10.095Z"
   },
   {
    "duration": 7,
    "start_time": "2022-03-15T11:37:10.117Z"
   },
   {
    "duration": 11,
    "start_time": "2022-03-15T11:37:10.126Z"
   },
   {
    "duration": 15,
    "start_time": "2022-03-15T11:37:10.139Z"
   },
   {
    "duration": 11,
    "start_time": "2022-03-15T11:37:10.156Z"
   },
   {
    "duration": 3,
    "start_time": "2022-03-15T11:38:37.826Z"
   },
   {
    "duration": 11713,
    "start_time": "2022-03-15T11:42:18.716Z"
   },
   {
    "duration": 11956,
    "start_time": "2022-03-15T11:42:32.414Z"
   },
   {
    "duration": 7,
    "start_time": "2022-03-15T11:42:47.833Z"
   },
   {
    "duration": 5,
    "start_time": "2022-03-15T11:42:50.858Z"
   },
   {
    "duration": 3,
    "start_time": "2022-03-15T11:44:17.063Z"
   },
   {
    "duration": 98,
    "start_time": "2022-03-15T11:46:14.511Z"
   },
   {
    "duration": 67,
    "start_time": "2022-03-15T11:46:15.937Z"
   },
   {
    "duration": 6,
    "start_time": "2022-03-15T11:46:17.171Z"
   },
   {
    "duration": 4,
    "start_time": "2022-03-15T11:46:19.051Z"
   },
   {
    "duration": 5,
    "start_time": "2022-03-15T11:46:27.035Z"
   },
   {
    "duration": 81,
    "start_time": "2022-03-15T12:04:09.682Z"
   },
   {
    "duration": 1304,
    "start_time": "2022-03-15T12:12:07.097Z"
   },
   {
    "duration": 764,
    "start_time": "2022-03-15T12:12:08.403Z"
   },
   {
    "duration": 17,
    "start_time": "2022-03-15T12:12:09.170Z"
   },
   {
    "duration": 21,
    "start_time": "2022-03-15T12:12:09.190Z"
   },
   {
    "duration": 18,
    "start_time": "2022-03-15T12:12:09.213Z"
   },
   {
    "duration": 15,
    "start_time": "2022-03-15T12:12:09.233Z"
   },
   {
    "duration": 17,
    "start_time": "2022-03-15T12:12:09.250Z"
   },
   {
    "duration": 34,
    "start_time": "2022-03-15T12:12:09.269Z"
   },
   {
    "duration": 22,
    "start_time": "2022-03-15T12:12:09.305Z"
   },
   {
    "duration": 16,
    "start_time": "2022-03-15T12:12:09.329Z"
   },
   {
    "duration": 11,
    "start_time": "2022-03-15T12:12:09.347Z"
   },
   {
    "duration": 9,
    "start_time": "2022-03-15T12:12:09.361Z"
   },
   {
    "duration": 35,
    "start_time": "2022-03-15T12:12:09.372Z"
   },
   {
    "duration": 16,
    "start_time": "2022-03-15T12:12:09.409Z"
   },
   {
    "duration": 39,
    "start_time": "2022-03-15T12:12:09.427Z"
   },
   {
    "duration": 5,
    "start_time": "2022-03-15T12:12:09.468Z"
   },
   {
    "duration": 28,
    "start_time": "2022-03-15T12:12:09.475Z"
   },
   {
    "duration": 7,
    "start_time": "2022-03-15T12:12:09.505Z"
   },
   {
    "duration": 37,
    "start_time": "2022-03-15T12:12:09.514Z"
   },
   {
    "duration": 8,
    "start_time": "2022-03-15T12:12:09.553Z"
   },
   {
    "duration": 15,
    "start_time": "2022-03-15T12:12:09.563Z"
   },
   {
    "duration": 22,
    "start_time": "2022-03-15T12:12:09.580Z"
   },
   {
    "duration": 6,
    "start_time": "2022-03-15T12:12:09.607Z"
   },
   {
    "duration": 24,
    "start_time": "2022-03-15T12:12:09.616Z"
   },
   {
    "duration": 9,
    "start_time": "2022-03-15T12:12:09.642Z"
   },
   {
    "duration": 23,
    "start_time": "2022-03-15T12:12:09.653Z"
   },
   {
    "duration": 9,
    "start_time": "2022-03-15T12:12:09.678Z"
   },
   {
    "duration": 37,
    "start_time": "2022-03-15T12:12:09.690Z"
   },
   {
    "duration": 20,
    "start_time": "2022-03-15T12:12:09.729Z"
   },
   {
    "duration": 12,
    "start_time": "2022-03-15T12:12:09.751Z"
   },
   {
    "duration": 13,
    "start_time": "2022-03-15T12:12:09.766Z"
   },
   {
    "duration": 12,
    "start_time": "2022-03-15T12:12:09.781Z"
   },
   {
    "duration": 14,
    "start_time": "2022-03-15T12:12:09.796Z"
   },
   {
    "duration": 15,
    "start_time": "2022-03-15T12:12:09.812Z"
   },
   {
    "duration": 14,
    "start_time": "2022-03-15T12:12:09.828Z"
   },
   {
    "duration": 15,
    "start_time": "2022-03-15T12:12:09.844Z"
   },
   {
    "duration": 41,
    "start_time": "2022-03-15T12:12:09.861Z"
   },
   {
    "duration": 10,
    "start_time": "2022-03-15T12:12:09.904Z"
   },
   {
    "duration": 10,
    "start_time": "2022-03-15T12:12:09.915Z"
   },
   {
    "duration": 7,
    "start_time": "2022-03-15T12:12:09.926Z"
   },
   {
    "duration": 9,
    "start_time": "2022-03-15T12:12:09.935Z"
   },
   {
    "duration": 404,
    "start_time": "2022-03-15T12:12:09.947Z"
   },
   {
    "duration": 7,
    "start_time": "2022-03-15T12:12:10.354Z"
   },
   {
    "duration": 7,
    "start_time": "2022-03-15T12:12:10.363Z"
   },
   {
    "duration": 29,
    "start_time": "2022-03-15T12:12:10.372Z"
   },
   {
    "duration": 355,
    "start_time": "2022-03-15T12:12:10.403Z"
   },
   {
    "duration": 6,
    "start_time": "2022-03-15T12:12:10.760Z"
   },
   {
    "duration": 15,
    "start_time": "2022-03-15T12:12:10.767Z"
   },
   {
    "duration": 29,
    "start_time": "2022-03-15T12:12:10.784Z"
   },
   {
    "duration": 12,
    "start_time": "2022-03-15T12:12:10.815Z"
   },
   {
    "duration": 13,
    "start_time": "2022-03-15T12:12:10.829Z"
   },
   {
    "duration": 19,
    "start_time": "2022-03-15T12:12:10.844Z"
   },
   {
    "duration": 3,
    "start_time": "2022-03-15T12:12:10.865Z"
   },
   {
    "duration": 36,
    "start_time": "2022-03-15T12:12:10.901Z"
   },
   {
    "duration": 7,
    "start_time": "2022-03-15T12:12:10.939Z"
   },
   {
    "duration": 7,
    "start_time": "2022-03-15T12:12:10.947Z"
   },
   {
    "duration": 11,
    "start_time": "2022-03-15T12:12:10.956Z"
   },
   {
    "duration": 14,
    "start_time": "2022-03-15T12:12:10.969Z"
   },
   {
    "duration": 7,
    "start_time": "2022-03-15T12:12:10.985Z"
   },
   {
    "duration": 12,
    "start_time": "2022-03-15T12:12:10.994Z"
   },
   {
    "duration": 18,
    "start_time": "2022-03-15T12:12:11.008Z"
   },
   {
    "duration": 29,
    "start_time": "2022-03-15T12:12:11.028Z"
   },
   {
    "duration": 4,
    "start_time": "2022-03-15T12:12:11.059Z"
   },
   {
    "duration": 7,
    "start_time": "2022-03-15T12:12:11.065Z"
   },
   {
    "duration": 8,
    "start_time": "2022-03-15T12:12:11.074Z"
   },
   {
    "duration": 1519,
    "start_time": "2022-03-15T12:12:11.085Z"
   },
   {
    "duration": 93,
    "start_time": "2022-03-15T12:12:12.608Z"
   },
   {
    "duration": 1493,
    "start_time": "2022-03-15T12:12:12.708Z"
   },
   {
    "duration": 3,
    "start_time": "2022-03-15T12:12:14.204Z"
   },
   {
    "duration": 10,
    "start_time": "2022-03-15T12:12:14.209Z"
   },
   {
    "duration": 9,
    "start_time": "2022-03-15T12:12:14.221Z"
   },
   {
    "duration": 6,
    "start_time": "2022-03-15T12:12:14.232Z"
   },
   {
    "duration": 10,
    "start_time": "2022-03-15T12:12:14.241Z"
   },
   {
    "duration": 44263,
    "start_time": "2022-03-15T12:12:14.253Z"
   },
   {
    "duration": 3,
    "start_time": "2022-03-15T12:12:58.518Z"
   },
   {
    "duration": 44867,
    "start_time": "2022-03-15T12:12:58.523Z"
   },
   {
    "duration": 9,
    "start_time": "2022-03-15T12:13:43.392Z"
   },
   {
    "duration": 14,
    "start_time": "2022-03-15T12:13:43.403Z"
   },
   {
    "duration": 8,
    "start_time": "2022-03-15T12:13:43.419Z"
   },
   {
    "duration": 5,
    "start_time": "2022-03-15T12:13:43.429Z"
   },
   {
    "duration": 364653,
    "start_time": "2022-03-15T12:13:43.435Z"
   },
   {
    "duration": 3,
    "start_time": "2022-03-15T12:19:48.090Z"
   },
   {
    "duration": 352596,
    "start_time": "2022-03-15T12:19:48.095Z"
   },
   {
    "duration": 3,
    "start_time": "2022-03-15T12:25:40.693Z"
   },
   {
    "duration": 11,
    "start_time": "2022-03-15T12:25:40.698Z"
   },
   {
    "duration": 9,
    "start_time": "2022-03-15T12:25:40.711Z"
   },
   {
    "duration": 11,
    "start_time": "2022-03-15T12:25:40.723Z"
   },
   {
    "duration": 69197,
    "start_time": "2022-03-15T12:25:40.737Z"
   },
   {
    "duration": 66399,
    "start_time": "2022-03-15T12:26:49.936Z"
   },
   {
    "duration": 6,
    "start_time": "2022-03-15T12:27:56.337Z"
   },
   {
    "duration": 12,
    "start_time": "2022-03-15T12:27:56.345Z"
   },
   {
    "duration": 17,
    "start_time": "2022-03-15T12:27:56.359Z"
   },
   {
    "duration": 11073,
    "start_time": "2022-03-15T12:27:56.378Z"
   },
   {
    "duration": 11440,
    "start_time": "2022-03-15T12:28:07.453Z"
   },
   {
    "duration": 12,
    "start_time": "2022-03-15T12:28:18.895Z"
   },
   {
    "duration": 7,
    "start_time": "2022-03-15T12:28:18.909Z"
   },
   {
    "duration": 9,
    "start_time": "2022-03-15T12:28:18.918Z"
   },
   {
    "duration": 8,
    "start_time": "2022-03-15T12:28:18.929Z"
   },
   {
    "duration": 12,
    "start_time": "2022-03-15T12:28:18.939Z"
   },
   {
    "duration": 10,
    "start_time": "2022-03-15T12:28:18.953Z"
   },
   {
    "duration": 6,
    "start_time": "2022-03-15T12:28:18.965Z"
   },
   {
    "duration": 7,
    "start_time": "2022-03-15T12:28:18.973Z"
   },
   {
    "duration": 9,
    "start_time": "2022-03-15T12:28:18.982Z"
   },
   {
    "duration": 3,
    "start_time": "2022-03-15T12:28:19.001Z"
   },
   {
    "duration": 7,
    "start_time": "2022-03-15T12:28:19.006Z"
   },
   {
    "duration": 15,
    "start_time": "2022-03-15T12:28:19.015Z"
   },
   {
    "duration": 112,
    "start_time": "2022-03-15T12:38:02.205Z"
   },
   {
    "duration": 4,
    "start_time": "2022-03-15T12:38:17.449Z"
   },
   {
    "duration": 130774,
    "start_time": "2022-03-15T12:38:30.814Z"
   },
   {
    "duration": 3,
    "start_time": "2022-03-15T12:40:41.590Z"
   },
   {
    "duration": 151285,
    "start_time": "2022-03-15T12:40:41.595Z"
   },
   {
    "duration": 2,
    "start_time": "2022-03-15T12:43:12.882Z"
   },
   {
    "duration": 6,
    "start_time": "2022-03-15T12:43:12.886Z"
   },
   {
    "duration": 11,
    "start_time": "2022-03-15T12:43:12.894Z"
   },
   {
    "duration": 3,
    "start_time": "2022-03-15T12:44:40.373Z"
   },
   {
    "duration": 282049,
    "start_time": "2022-03-15T12:44:49.791Z"
   },
   {
    "duration": 3,
    "start_time": "2022-03-15T12:49:31.842Z"
   },
   {
    "duration": 263744,
    "start_time": "2022-03-15T12:49:31.847Z"
   },
   {
    "duration": 3,
    "start_time": "2022-03-15T12:53:55.593Z"
   },
   {
    "duration": 20,
    "start_time": "2022-03-15T12:53:55.597Z"
   },
   {
    "duration": 9,
    "start_time": "2022-03-15T12:53:55.618Z"
   },
   {
    "duration": 3,
    "start_time": "2022-03-15T12:55:05.371Z"
   },
   {
    "duration": 99638,
    "start_time": "2022-03-15T12:55:09.934Z"
   },
   {
    "duration": 3,
    "start_time": "2022-03-15T12:56:49.574Z"
   },
   {
    "duration": 101808,
    "start_time": "2022-03-15T12:56:49.580Z"
   },
   {
    "duration": 4,
    "start_time": "2022-03-15T12:58:31.390Z"
   },
   {
    "duration": 18,
    "start_time": "2022-03-15T12:58:31.397Z"
   },
   {
    "duration": 18,
    "start_time": "2022-03-15T12:58:31.417Z"
   },
   {
    "duration": 3,
    "start_time": "2022-03-15T12:59:27.014Z"
   },
   {
    "duration": 84448,
    "start_time": "2022-03-15T12:59:34.177Z"
   },
   {
    "duration": 4,
    "start_time": "2022-03-15T13:00:58.627Z"
   },
   {
    "duration": 89442,
    "start_time": "2022-03-15T13:00:58.633Z"
   },
   {
    "duration": 3,
    "start_time": "2022-03-15T13:02:28.077Z"
   },
   {
    "duration": 11,
    "start_time": "2022-03-15T13:02:28.082Z"
   },
   {
    "duration": 22,
    "start_time": "2022-03-15T13:02:28.095Z"
   },
   {
    "duration": 4,
    "start_time": "2022-03-15T13:03:26.637Z"
   },
   {
    "duration": 86492,
    "start_time": "2022-03-15T13:03:30.946Z"
   },
   {
    "duration": 4,
    "start_time": "2022-03-15T13:06:06.676Z"
   },
   {
    "duration": 84435,
    "start_time": "2022-03-15T13:06:18.112Z"
   },
   {
    "duration": 3,
    "start_time": "2022-03-15T13:07:42.549Z"
   },
   {
    "duration": 19,
    "start_time": "2022-03-15T13:07:42.554Z"
   },
   {
    "duration": 23,
    "start_time": "2022-03-15T13:07:42.575Z"
   },
   {
    "duration": 4,
    "start_time": "2022-03-15T13:08:31.520Z"
   },
   {
    "duration": 82261,
    "start_time": "2022-03-15T13:08:41.602Z"
   },
   {
    "duration": 3,
    "start_time": "2022-03-15T13:10:03.865Z"
   },
   {
    "duration": 79468,
    "start_time": "2022-03-15T13:10:03.871Z"
   },
   {
    "duration": 3,
    "start_time": "2022-03-15T13:11:23.341Z"
   },
   {
    "duration": 9,
    "start_time": "2022-03-15T13:11:23.346Z"
   },
   {
    "duration": 12,
    "start_time": "2022-03-15T13:11:23.357Z"
   },
   {
    "duration": 4,
    "start_time": "2022-03-15T13:12:11.362Z"
   },
   {
    "duration": 98258,
    "start_time": "2022-03-15T13:12:14.948Z"
   },
   {
    "duration": 3,
    "start_time": "2022-03-15T13:13:53.208Z"
   },
   {
    "duration": 87486,
    "start_time": "2022-03-15T13:13:53.213Z"
   },
   {
    "duration": 3,
    "start_time": "2022-03-15T13:15:20.701Z"
   },
   {
    "duration": 19,
    "start_time": "2022-03-15T13:15:20.705Z"
   },
   {
    "duration": 15,
    "start_time": "2022-03-15T13:15:20.726Z"
   },
   {
    "duration": 4,
    "start_time": "2022-03-15T13:16:42.456Z"
   },
   {
    "duration": 94630,
    "start_time": "2022-03-15T13:16:52.741Z"
   },
   {
    "duration": 2,
    "start_time": "2022-03-15T13:18:27.374Z"
   },
   {
    "duration": 88809,
    "start_time": "2022-03-15T13:18:27.379Z"
   },
   {
    "duration": 3,
    "start_time": "2022-03-15T13:19:56.190Z"
   },
   {
    "duration": 17,
    "start_time": "2022-03-15T13:19:56.194Z"
   },
   {
    "duration": 10,
    "start_time": "2022-03-15T13:19:56.213Z"
   },
   {
    "duration": 4,
    "start_time": "2022-03-15T13:22:45.485Z"
   },
   {
    "duration": 94128,
    "start_time": "2022-03-15T13:22:54.962Z"
   },
   {
    "duration": 3,
    "start_time": "2022-03-15T13:24:29.093Z"
   },
   {
    "duration": 79181,
    "start_time": "2022-03-15T13:24:29.099Z"
   },
   {
    "duration": 3,
    "start_time": "2022-03-15T13:25:48.282Z"
   },
   {
    "duration": 15,
    "start_time": "2022-03-15T13:25:48.287Z"
   },
   {
    "duration": 7,
    "start_time": "2022-03-15T13:25:48.304Z"
   },
   {
    "duration": 4,
    "start_time": "2022-03-15T13:26:55.059Z"
   },
   {
    "duration": 157327,
    "start_time": "2022-03-15T13:26:59.749Z"
   },
   {
    "duration": 3,
    "start_time": "2022-03-15T13:29:37.078Z"
   },
   {
    "duration": 158065,
    "start_time": "2022-03-15T13:29:37.083Z"
   },
   {
    "duration": 3,
    "start_time": "2022-03-15T13:32:15.151Z"
   },
   {
    "duration": 15,
    "start_time": "2022-03-15T13:32:15.156Z"
   },
   {
    "duration": 23,
    "start_time": "2022-03-15T13:32:15.173Z"
   },
   {
    "duration": 3,
    "start_time": "2022-03-15T13:36:15.712Z"
   },
   {
    "duration": 294819,
    "start_time": "2022-03-15T13:36:39.437Z"
   },
   {
    "duration": 3,
    "start_time": "2022-03-15T13:41:34.258Z"
   },
   {
    "duration": 292031,
    "start_time": "2022-03-15T13:41:34.264Z"
   },
   {
    "duration": 3,
    "start_time": "2022-03-15T13:46:26.297Z"
   },
   {
    "duration": 9,
    "start_time": "2022-03-15T13:46:26.301Z"
   },
   {
    "duration": 8,
    "start_time": "2022-03-15T13:46:26.312Z"
   },
   {
    "duration": 3,
    "start_time": "2022-03-15T13:56:58.320Z"
   },
   {
    "duration": 16639,
    "start_time": "2022-03-15T13:57:33.302Z"
   },
   {
    "duration": 16324,
    "start_time": "2022-03-15T13:57:56.196Z"
   },
   {
    "duration": 6,
    "start_time": "2022-03-15T13:58:17.485Z"
   },
   {
    "duration": 5,
    "start_time": "2022-03-15T13:58:19.269Z"
   },
   {
    "duration": 3,
    "start_time": "2022-03-15T14:00:04.572Z"
   },
   {
    "duration": 3,
    "start_time": "2022-03-15T14:00:15.858Z"
   },
   {
    "duration": 4,
    "start_time": "2022-03-15T14:00:32.598Z"
   },
   {
    "duration": 2,
    "start_time": "2022-03-15T14:00:39.535Z"
   },
   {
    "duration": 6,
    "start_time": "2022-03-15T14:04:03.914Z"
   },
   {
    "duration": 821,
    "start_time": "2022-03-15T14:04:03.922Z"
   },
   {
    "duration": 19,
    "start_time": "2022-03-15T14:04:04.746Z"
   },
   {
    "duration": 33,
    "start_time": "2022-03-15T14:04:04.768Z"
   },
   {
    "duration": 97,
    "start_time": "2022-03-15T14:04:04.804Z"
   },
   {
    "duration": 14,
    "start_time": "2022-03-15T14:04:04.903Z"
   },
   {
    "duration": 18,
    "start_time": "2022-03-15T14:04:04.920Z"
   },
   {
    "duration": 5,
    "start_time": "2022-03-15T14:04:04.941Z"
   },
   {
    "duration": 27,
    "start_time": "2022-03-15T14:04:04.948Z"
   },
   {
    "duration": 37,
    "start_time": "2022-03-15T14:04:04.977Z"
   },
   {
    "duration": 13,
    "start_time": "2022-03-15T14:04:05.017Z"
   },
   {
    "duration": 7,
    "start_time": "2022-03-15T14:04:05.032Z"
   },
   {
    "duration": 15,
    "start_time": "2022-03-15T14:04:05.041Z"
   },
   {
    "duration": 7,
    "start_time": "2022-03-15T14:04:05.058Z"
   },
   {
    "duration": 64,
    "start_time": "2022-03-15T14:04:05.067Z"
   },
   {
    "duration": 6,
    "start_time": "2022-03-15T14:04:05.133Z"
   },
   {
    "duration": 11,
    "start_time": "2022-03-15T14:04:05.140Z"
   },
   {
    "duration": 7,
    "start_time": "2022-03-15T14:04:05.153Z"
   },
   {
    "duration": 51,
    "start_time": "2022-03-15T14:04:05.162Z"
   },
   {
    "duration": 9,
    "start_time": "2022-03-15T14:04:05.215Z"
   },
   {
    "duration": 11,
    "start_time": "2022-03-15T14:04:05.226Z"
   },
   {
    "duration": 7,
    "start_time": "2022-03-15T14:04:05.240Z"
   },
   {
    "duration": 7,
    "start_time": "2022-03-15T14:04:05.251Z"
   },
   {
    "duration": 40,
    "start_time": "2022-03-15T14:04:05.261Z"
   },
   {
    "duration": 4,
    "start_time": "2022-03-15T14:04:05.303Z"
   },
   {
    "duration": 24,
    "start_time": "2022-03-15T14:04:05.309Z"
   },
   {
    "duration": 28,
    "start_time": "2022-03-15T14:04:05.336Z"
   },
   {
    "duration": 17,
    "start_time": "2022-03-15T14:04:05.366Z"
   },
   {
    "duration": 22,
    "start_time": "2022-03-15T14:04:05.385Z"
   },
   {
    "duration": 30,
    "start_time": "2022-03-15T14:04:05.409Z"
   },
   {
    "duration": 13,
    "start_time": "2022-03-15T14:04:05.441Z"
   },
   {
    "duration": 42,
    "start_time": "2022-03-15T14:04:05.455Z"
   },
   {
    "duration": 20,
    "start_time": "2022-03-15T14:04:05.499Z"
   },
   {
    "duration": 31,
    "start_time": "2022-03-15T14:04:05.521Z"
   },
   {
    "duration": 10,
    "start_time": "2022-03-15T14:04:05.554Z"
   },
   {
    "duration": 13,
    "start_time": "2022-03-15T14:04:05.565Z"
   },
   {
    "duration": 23,
    "start_time": "2022-03-15T14:04:05.580Z"
   },
   {
    "duration": 11,
    "start_time": "2022-03-15T14:04:05.605Z"
   },
   {
    "duration": 32,
    "start_time": "2022-03-15T14:04:05.617Z"
   },
   {
    "duration": 8,
    "start_time": "2022-03-15T14:04:05.651Z"
   },
   {
    "duration": 12,
    "start_time": "2022-03-15T14:04:05.661Z"
   },
   {
    "duration": 334,
    "start_time": "2022-03-15T14:04:05.675Z"
   },
   {
    "duration": 6,
    "start_time": "2022-03-15T14:04:06.011Z"
   },
   {
    "duration": 29,
    "start_time": "2022-03-15T14:04:06.018Z"
   },
   {
    "duration": 19,
    "start_time": "2022-03-15T14:04:06.049Z"
   },
   {
    "duration": 349,
    "start_time": "2022-03-15T14:04:06.070Z"
   },
   {
    "duration": 5,
    "start_time": "2022-03-15T14:04:06.421Z"
   },
   {
    "duration": 32,
    "start_time": "2022-03-15T14:04:06.428Z"
   },
   {
    "duration": 33,
    "start_time": "2022-03-15T14:04:06.462Z"
   },
   {
    "duration": 31,
    "start_time": "2022-03-15T14:04:06.497Z"
   },
   {
    "duration": 25,
    "start_time": "2022-03-15T14:04:06.530Z"
   },
   {
    "duration": 17,
    "start_time": "2022-03-15T14:04:06.557Z"
   },
   {
    "duration": 2,
    "start_time": "2022-03-15T14:04:06.576Z"
   },
   {
    "duration": 14,
    "start_time": "2022-03-15T14:04:06.580Z"
   },
   {
    "duration": 22,
    "start_time": "2022-03-15T14:04:06.596Z"
   },
   {
    "duration": 16,
    "start_time": "2022-03-15T14:04:06.620Z"
   },
   {
    "duration": 29,
    "start_time": "2022-03-15T14:04:06.638Z"
   },
   {
    "duration": 10,
    "start_time": "2022-03-15T14:04:06.669Z"
   },
   {
    "duration": 9,
    "start_time": "2022-03-15T14:04:06.681Z"
   },
   {
    "duration": 22,
    "start_time": "2022-03-15T14:04:06.692Z"
   },
   {
    "duration": 22,
    "start_time": "2022-03-15T14:04:06.716Z"
   },
   {
    "duration": 31,
    "start_time": "2022-03-15T14:04:06.740Z"
   },
   {
    "duration": 8,
    "start_time": "2022-03-15T14:04:06.773Z"
   },
   {
    "duration": 27,
    "start_time": "2022-03-15T14:04:06.783Z"
   },
   {
    "duration": 12,
    "start_time": "2022-03-15T14:04:06.812Z"
   },
   {
    "duration": 1281,
    "start_time": "2022-03-15T14:04:06.826Z"
   },
   {
    "duration": 91,
    "start_time": "2022-03-15T14:04:08.110Z"
   },
   {
    "duration": 1394,
    "start_time": "2022-03-15T14:04:08.208Z"
   },
   {
    "duration": 91,
    "start_time": "2022-03-15T14:04:09.611Z"
   },
   {
    "duration": 15,
    "start_time": "2022-03-15T14:04:09.704Z"
   },
   {
    "duration": 9,
    "start_time": "2022-03-15T14:04:09.721Z"
   },
   {
    "duration": 4,
    "start_time": "2022-03-15T14:04:09.732Z"
   },
   {
    "duration": 12,
    "start_time": "2022-03-15T14:04:09.738Z"
   },
   {
    "duration": 44269,
    "start_time": "2022-03-15T14:04:09.753Z"
   },
   {
    "duration": 3,
    "start_time": "2022-03-15T14:04:54.024Z"
   },
   {
    "duration": 44618,
    "start_time": "2022-03-15T14:04:54.029Z"
   },
   {
    "duration": 3,
    "start_time": "2022-03-15T14:05:38.649Z"
   },
   {
    "duration": 16,
    "start_time": "2022-03-15T14:05:38.654Z"
   },
   {
    "duration": 15,
    "start_time": "2022-03-15T14:05:38.672Z"
   },
   {
    "duration": 10,
    "start_time": "2022-03-15T14:05:38.689Z"
   },
   {
    "duration": 80350,
    "start_time": "2022-03-15T14:05:38.701Z"
   },
   {
    "duration": 3,
    "start_time": "2022-03-15T14:06:59.054Z"
   },
   {
    "duration": 82820,
    "start_time": "2022-03-15T14:06:59.059Z"
   },
   {
    "duration": 3,
    "start_time": "2022-03-15T14:08:21.881Z"
   },
   {
    "duration": 13,
    "start_time": "2022-03-15T14:08:21.886Z"
   },
   {
    "duration": 11,
    "start_time": "2022-03-15T14:08:21.901Z"
   },
   {
    "duration": 6,
    "start_time": "2022-03-15T14:08:21.914Z"
   },
   {
    "duration": 17203,
    "start_time": "2022-03-15T14:08:21.922Z"
   },
   {
    "duration": 17004,
    "start_time": "2022-03-15T14:08:39.127Z"
   },
   {
    "duration": 6,
    "start_time": "2022-03-15T14:08:56.133Z"
   },
   {
    "duration": 8,
    "start_time": "2022-03-15T14:08:56.141Z"
   },
   {
    "duration": 7,
    "start_time": "2022-03-15T14:08:56.151Z"
   },
   {
    "duration": 6,
    "start_time": "2022-03-15T14:08:56.160Z"
   },
   {
    "duration": 14,
    "start_time": "2022-03-15T14:08:56.168Z"
   },
   {
    "duration": 5,
    "start_time": "2022-03-15T14:08:56.184Z"
   },
   {
    "duration": 7,
    "start_time": "2022-03-15T14:08:56.191Z"
   },
   {
    "duration": 5,
    "start_time": "2022-03-15T14:08:56.201Z"
   },
   {
    "duration": 11,
    "start_time": "2022-03-15T14:08:56.208Z"
   },
   {
    "duration": 11,
    "start_time": "2022-03-15T14:08:56.221Z"
   },
   {
    "duration": 7,
    "start_time": "2022-03-15T14:08:56.234Z"
   },
   {
    "duration": 8,
    "start_time": "2022-03-15T14:08:56.243Z"
   },
   {
    "duration": 15,
    "start_time": "2022-03-15T14:08:56.253Z"
   },
   {
    "duration": 11,
    "start_time": "2022-03-15T14:08:56.270Z"
   },
   {
    "duration": 10,
    "start_time": "2022-03-15T14:08:56.283Z"
   },
   {
    "duration": 8,
    "start_time": "2022-03-15T14:08:56.295Z"
   },
   {
    "duration": 12,
    "start_time": "2022-03-15T14:08:56.305Z"
   },
   {
    "duration": 11,
    "start_time": "2022-03-15T14:08:56.320Z"
   },
   {
    "duration": 8,
    "start_time": "2022-03-15T14:08:56.334Z"
   },
   {
    "duration": 8,
    "start_time": "2022-03-15T14:08:56.344Z"
   },
   {
    "duration": 10,
    "start_time": "2022-03-15T14:08:56.354Z"
   },
   {
    "duration": 8,
    "start_time": "2022-03-15T14:08:56.366Z"
   },
   {
    "duration": 9,
    "start_time": "2022-03-15T14:08:56.376Z"
   },
   {
    "duration": 10,
    "start_time": "2022-03-15T14:08:56.387Z"
   },
   {
    "duration": 74,
    "start_time": "2022-03-15T14:46:12.417Z"
   },
   {
    "duration": 78,
    "start_time": "2022-03-15T15:00:11.349Z"
   },
   {
    "duration": 4,
    "start_time": "2022-03-15T15:09:34.442Z"
   },
   {
    "duration": 715,
    "start_time": "2022-03-15T15:09:34.448Z"
   },
   {
    "duration": 18,
    "start_time": "2022-03-15T15:09:35.166Z"
   },
   {
    "duration": 14,
    "start_time": "2022-03-15T15:09:35.203Z"
   },
   {
    "duration": 19,
    "start_time": "2022-03-15T15:09:35.219Z"
   },
   {
    "duration": 15,
    "start_time": "2022-03-15T15:09:35.241Z"
   },
   {
    "duration": 43,
    "start_time": "2022-03-15T15:09:35.258Z"
   },
   {
    "duration": 5,
    "start_time": "2022-03-15T15:09:35.303Z"
   },
   {
    "duration": 19,
    "start_time": "2022-03-15T15:09:35.311Z"
   },
   {
    "duration": 16,
    "start_time": "2022-03-15T15:09:35.333Z"
   },
   {
    "duration": 12,
    "start_time": "2022-03-15T15:09:35.351Z"
   },
   {
    "duration": 37,
    "start_time": "2022-03-15T15:09:35.365Z"
   },
   {
    "duration": 11,
    "start_time": "2022-03-15T15:09:35.404Z"
   },
   {
    "duration": 10,
    "start_time": "2022-03-15T15:09:35.417Z"
   },
   {
    "duration": 3,
    "start_time": "2022-03-15T15:09:38.747Z"
   },
   {
    "duration": 5,
    "start_time": "2022-03-15T15:09:40.261Z"
   },
   {
    "duration": 86,
    "start_time": "2022-03-15T15:27:32.592Z"
   },
   {
    "duration": 93,
    "start_time": "2022-03-15T15:43:19.080Z"
   },
   {
    "duration": 5,
    "start_time": "2022-03-15T15:43:27.933Z"
   },
   {
    "duration": 5,
    "start_time": "2022-03-15T15:44:33.486Z"
   },
   {
    "duration": 4,
    "start_time": "2022-03-15T17:20:43.661Z"
   },
   {
    "duration": 4,
    "start_time": "2022-03-15T17:23:47.086Z"
   },
   {
    "duration": 9,
    "start_time": "2022-03-15T18:08:39.018Z"
   },
   {
    "duration": 5,
    "start_time": "2022-03-15T18:10:51.770Z"
   },
   {
    "duration": 79,
    "start_time": "2022-03-15T18:16:19.595Z"
   },
   {
    "duration": 1200,
    "start_time": "2022-03-16T06:10:35.946Z"
   },
   {
    "duration": 716,
    "start_time": "2022-03-16T06:10:37.148Z"
   },
   {
    "duration": 15,
    "start_time": "2022-03-16T06:10:37.866Z"
   },
   {
    "duration": 19,
    "start_time": "2022-03-16T06:10:37.883Z"
   },
   {
    "duration": 33,
    "start_time": "2022-03-16T06:10:37.904Z"
   },
   {
    "duration": 23,
    "start_time": "2022-03-16T06:10:37.938Z"
   },
   {
    "duration": 18,
    "start_time": "2022-03-16T06:10:37.962Z"
   },
   {
    "duration": 20,
    "start_time": "2022-03-16T06:10:37.982Z"
   },
   {
    "duration": 36,
    "start_time": "2022-03-16T06:10:38.004Z"
   },
   {
    "duration": 26,
    "start_time": "2022-03-16T06:10:38.042Z"
   },
   {
    "duration": 14,
    "start_time": "2022-03-16T06:10:38.070Z"
   },
   {
    "duration": 22,
    "start_time": "2022-03-16T06:10:38.086Z"
   },
   {
    "duration": 26,
    "start_time": "2022-03-16T06:10:38.109Z"
   },
   {
    "duration": 19,
    "start_time": "2022-03-16T06:10:38.137Z"
   },
   {
    "duration": 42,
    "start_time": "2022-03-16T06:10:38.158Z"
   },
   {
    "duration": 20,
    "start_time": "2022-03-16T06:10:38.201Z"
   },
   {
    "duration": 46,
    "start_time": "2022-03-16T06:10:38.223Z"
   },
   {
    "duration": 51,
    "start_time": "2022-03-16T06:10:38.271Z"
   },
   {
    "duration": 12,
    "start_time": "2022-03-16T06:10:38.324Z"
   },
   {
    "duration": 18,
    "start_time": "2022-03-16T06:10:38.338Z"
   },
   {
    "duration": 39,
    "start_time": "2022-03-16T06:10:38.358Z"
   },
   {
    "duration": 24,
    "start_time": "2022-03-16T06:10:38.399Z"
   },
   {
    "duration": 41,
    "start_time": "2022-03-16T06:10:38.425Z"
   },
   {
    "duration": 23,
    "start_time": "2022-03-16T06:10:38.468Z"
   },
   {
    "duration": 13,
    "start_time": "2022-03-16T06:10:38.492Z"
   },
   {
    "duration": 37,
    "start_time": "2022-03-16T06:10:38.507Z"
   },
   {
    "duration": 10,
    "start_time": "2022-03-16T06:10:38.549Z"
   },
   {
    "duration": 27,
    "start_time": "2022-03-16T06:10:38.562Z"
   },
   {
    "duration": 15,
    "start_time": "2022-03-16T06:10:38.591Z"
   },
   {
    "duration": 29,
    "start_time": "2022-03-16T06:10:38.608Z"
   },
   {
    "duration": 32,
    "start_time": "2022-03-16T06:10:38.639Z"
   },
   {
    "duration": 21,
    "start_time": "2022-03-16T06:10:38.673Z"
   },
   {
    "duration": 31,
    "start_time": "2022-03-16T06:10:38.695Z"
   },
   {
    "duration": 353,
    "start_time": "2022-03-16T06:10:38.727Z"
   },
   {
    "duration": 5,
    "start_time": "2022-03-16T06:10:39.082Z"
   },
   {
    "duration": 360,
    "start_time": "2022-03-16T06:10:39.089Z"
   },
   {
    "duration": 10,
    "start_time": "2022-03-16T06:10:39.451Z"
   },
   {
    "duration": 25,
    "start_time": "2022-03-16T06:10:39.463Z"
   },
   {
    "duration": 41,
    "start_time": "2022-03-16T06:10:39.489Z"
   },
   {
    "duration": 15,
    "start_time": "2022-03-16T06:10:39.531Z"
   },
   {
    "duration": 26,
    "start_time": "2022-03-16T06:10:39.547Z"
   },
   {
    "duration": 31,
    "start_time": "2022-03-16T06:10:39.574Z"
   },
   {
    "duration": 33,
    "start_time": "2022-03-16T06:10:39.606Z"
   },
   {
    "duration": 27,
    "start_time": "2022-03-16T06:10:39.641Z"
   },
   {
    "duration": 24,
    "start_time": "2022-03-16T06:10:39.669Z"
   },
   {
    "duration": 14,
    "start_time": "2022-03-16T06:10:39.695Z"
   },
   {
    "duration": 18,
    "start_time": "2022-03-16T06:10:39.711Z"
   },
   {
    "duration": 28,
    "start_time": "2022-03-16T06:10:39.730Z"
   },
   {
    "duration": 45,
    "start_time": "2022-03-16T06:10:39.759Z"
   },
   {
    "duration": 4,
    "start_time": "2022-03-16T06:10:39.805Z"
   },
   {
    "duration": 28,
    "start_time": "2022-03-16T06:10:39.811Z"
   },
   {
    "duration": 39,
    "start_time": "2022-03-16T06:10:39.841Z"
   },
   {
    "duration": 1280,
    "start_time": "2022-03-16T06:10:39.882Z"
   },
   {
    "duration": 3,
    "start_time": "2022-03-16T06:10:41.165Z"
   },
   {
    "duration": 1389,
    "start_time": "2022-03-16T06:10:41.170Z"
   },
   {
    "duration": 3,
    "start_time": "2022-03-16T06:10:42.561Z"
   },
   {
    "duration": 9,
    "start_time": "2022-03-16T06:10:42.566Z"
   },
   {
    "duration": 85,
    "start_time": "2022-03-16T06:10:42.577Z"
   },
   {
    "duration": 30,
    "start_time": "2022-03-16T06:10:42.664Z"
   },
   {
    "duration": 23,
    "start_time": "2022-03-16T06:10:42.695Z"
   },
   {
    "duration": 41864,
    "start_time": "2022-03-16T06:10:42.720Z"
   },
   {
    "duration": 2,
    "start_time": "2022-03-16T06:11:24.586Z"
   },
   {
    "duration": 41681,
    "start_time": "2022-03-16T06:11:24.590Z"
   },
   {
    "duration": 2,
    "start_time": "2022-03-16T06:12:06.273Z"
   },
   {
    "duration": 5,
    "start_time": "2022-03-16T06:12:06.277Z"
   },
   {
    "duration": 6,
    "start_time": "2022-03-16T06:12:06.284Z"
   },
   {
    "duration": 3,
    "start_time": "2022-03-16T06:12:06.291Z"
   },
   {
    "duration": 75092,
    "start_time": "2022-03-16T06:12:06.296Z"
   },
   {
    "duration": 2,
    "start_time": "2022-03-16T06:13:21.390Z"
   },
   {
    "duration": 72286,
    "start_time": "2022-03-16T06:13:21.394Z"
   },
   {
    "duration": 2,
    "start_time": "2022-03-16T06:14:33.682Z"
   },
   {
    "duration": 5,
    "start_time": "2022-03-16T06:14:33.686Z"
   },
   {
    "duration": 6,
    "start_time": "2022-03-16T06:14:33.693Z"
   },
   {
    "duration": 4,
    "start_time": "2022-03-16T06:14:33.700Z"
   },
   {
    "duration": 14757,
    "start_time": "2022-03-16T06:14:33.705Z"
   },
   {
    "duration": 15177,
    "start_time": "2022-03-16T06:14:48.463Z"
   },
   {
    "duration": 6,
    "start_time": "2022-03-16T06:15:03.641Z"
   },
   {
    "duration": 19,
    "start_time": "2022-03-16T06:15:03.648Z"
   },
   {
    "duration": 9,
    "start_time": "2022-03-16T06:15:03.669Z"
   },
   {
    "duration": 13,
    "start_time": "2022-03-16T06:15:03.680Z"
   },
   {
    "duration": 5,
    "start_time": "2022-03-16T06:15:03.699Z"
   },
   {
    "duration": 8,
    "start_time": "2022-03-16T06:15:03.706Z"
   },
   {
    "duration": 16,
    "start_time": "2022-03-16T06:15:03.715Z"
   },
   {
    "duration": 12,
    "start_time": "2022-03-16T06:15:03.733Z"
   },
   {
    "duration": 15,
    "start_time": "2022-03-16T06:15:03.746Z"
   },
   {
    "duration": 7,
    "start_time": "2022-03-16T06:15:03.762Z"
   },
   {
    "duration": 11,
    "start_time": "2022-03-16T06:15:03.771Z"
   },
   {
    "duration": 7,
    "start_time": "2022-03-16T06:15:03.784Z"
   },
   {
    "duration": 10,
    "start_time": "2022-03-16T06:15:03.792Z"
   },
   {
    "duration": 11,
    "start_time": "2022-03-16T06:15:03.804Z"
   },
   {
    "duration": 19,
    "start_time": "2022-03-16T06:15:03.816Z"
   },
   {
    "duration": 11,
    "start_time": "2022-03-16T06:15:03.837Z"
   },
   {
    "duration": 13,
    "start_time": "2022-03-16T06:15:03.850Z"
   },
   {
    "duration": 17,
    "start_time": "2022-03-16T06:15:03.865Z"
   },
   {
    "duration": 7,
    "start_time": "2022-03-16T06:15:03.884Z"
   },
   {
    "duration": 11,
    "start_time": "2022-03-16T06:15:03.893Z"
   },
   {
    "duration": 6,
    "start_time": "2022-03-16T06:15:03.906Z"
   },
   {
    "duration": 20,
    "start_time": "2022-03-16T06:15:03.914Z"
   },
   {
    "duration": 27,
    "start_time": "2022-03-16T06:15:03.936Z"
   },
   {
    "duration": 32,
    "start_time": "2022-03-16T06:15:03.965Z"
   },
   {
    "duration": 4,
    "start_time": "2022-03-16T06:51:42.545Z"
   },
   {
    "duration": 4,
    "start_time": "2022-03-16T06:52:12.882Z"
   },
   {
    "duration": 4,
    "start_time": "2022-03-16T06:52:28.882Z"
   },
   {
    "duration": 4,
    "start_time": "2022-03-16T07:32:22.715Z"
   },
   {
    "duration": 2,
    "start_time": "2022-03-16T07:34:25.224Z"
   },
   {
    "duration": 3,
    "start_time": "2022-03-16T07:34:33.589Z"
   },
   {
    "duration": 1197,
    "start_time": "2022-03-16T07:35:11.462Z"
   },
   {
    "duration": 1495,
    "start_time": "2022-03-16T07:35:14.266Z"
   },
   {
    "duration": 3,
    "start_time": "2022-03-16T07:35:37.891Z"
   },
   {
    "duration": 3,
    "start_time": "2022-03-16T07:41:44.797Z"
   },
   {
    "duration": 3,
    "start_time": "2022-03-16T07:41:46.427Z"
   },
   {
    "duration": 1280,
    "start_time": "2022-03-16T07:41:47.584Z"
   },
   {
    "duration": 1405,
    "start_time": "2022-03-16T07:41:49.960Z"
   },
   {
    "duration": 3,
    "start_time": "2022-03-16T07:41:54.319Z"
   },
   {
    "duration": 2,
    "start_time": "2022-03-16T07:41:55.403Z"
   },
   {
    "duration": 3,
    "start_time": "2022-03-16T07:41:56.525Z"
   },
   {
    "duration": 7,
    "start_time": "2022-03-16T07:42:05.566Z"
   },
   {
    "duration": 4,
    "start_time": "2022-03-16T07:43:13.950Z"
   },
   {
    "duration": 34,
    "start_time": "2022-03-16T07:43:14.956Z"
   },
   {
    "duration": 34,
    "start_time": "2022-03-16T07:43:15.898Z"
   },
   {
    "duration": 3,
    "start_time": "2022-03-16T07:43:16.821Z"
   },
   {
    "duration": 3,
    "start_time": "2022-03-16T07:43:17.777Z"
   },
   {
    "duration": 3,
    "start_time": "2022-03-16T07:43:18.987Z"
   },
   {
    "duration": 4,
    "start_time": "2022-03-16T07:43:20.300Z"
   },
   {
    "duration": 2,
    "start_time": "2022-03-16T07:58:29.132Z"
   },
   {
    "duration": 1477,
    "start_time": "2022-03-16T07:58:31.688Z"
   },
   {
    "duration": 3,
    "start_time": "2022-03-16T07:58:34.859Z"
   },
   {
    "duration": 1234,
    "start_time": "2022-03-16T07:58:35.725Z"
   },
   {
    "duration": 3,
    "start_time": "2022-03-16T07:58:36.961Z"
   },
   {
    "duration": 2,
    "start_time": "2022-03-16T07:58:40.200Z"
   },
   {
    "duration": 3,
    "start_time": "2022-03-16T07:58:42.590Z"
   },
   {
    "duration": 4,
    "start_time": "2022-03-16T08:00:06.974Z"
   },
   {
    "duration": 3,
    "start_time": "2022-03-16T08:23:18.351Z"
   },
   {
    "duration": 3,
    "start_time": "2022-03-16T08:23:47.648Z"
   },
   {
    "duration": 4,
    "start_time": "2022-03-16T08:31:21.041Z"
   },
   {
    "duration": 3,
    "start_time": "2022-03-16T08:40:59.883Z"
   },
   {
    "duration": 1145,
    "start_time": "2022-03-16T08:47:33.698Z"
   },
   {
    "duration": 769,
    "start_time": "2022-03-16T08:47:34.846Z"
   },
   {
    "duration": 15,
    "start_time": "2022-03-16T08:47:35.617Z"
   },
   {
    "duration": 10,
    "start_time": "2022-03-16T08:47:35.634Z"
   },
   {
    "duration": 33,
    "start_time": "2022-03-16T08:47:35.646Z"
   },
   {
    "duration": 31,
    "start_time": "2022-03-16T08:47:35.681Z"
   },
   {
    "duration": 10,
    "start_time": "2022-03-16T08:47:35.714Z"
   },
   {
    "duration": 18,
    "start_time": "2022-03-16T08:47:35.726Z"
   },
   {
    "duration": 34,
    "start_time": "2022-03-16T08:47:35.745Z"
   },
   {
    "duration": 17,
    "start_time": "2022-03-16T08:47:35.781Z"
   },
   {
    "duration": 29,
    "start_time": "2022-03-16T08:47:35.800Z"
   },
   {
    "duration": 22,
    "start_time": "2022-03-16T08:47:35.830Z"
   },
   {
    "duration": 28,
    "start_time": "2022-03-16T08:47:35.853Z"
   },
   {
    "duration": 35,
    "start_time": "2022-03-16T08:47:35.882Z"
   },
   {
    "duration": 20,
    "start_time": "2022-03-16T08:47:35.918Z"
   },
   {
    "duration": 32,
    "start_time": "2022-03-16T08:47:35.939Z"
   },
   {
    "duration": 28,
    "start_time": "2022-03-16T08:47:35.973Z"
   },
   {
    "duration": 39,
    "start_time": "2022-03-16T08:47:36.003Z"
   },
   {
    "duration": 8,
    "start_time": "2022-03-16T08:47:36.043Z"
   },
   {
    "duration": 26,
    "start_time": "2022-03-16T08:47:36.053Z"
   },
   {
    "duration": 10,
    "start_time": "2022-03-16T08:47:36.080Z"
   },
   {
    "duration": 6,
    "start_time": "2022-03-16T08:47:36.093Z"
   },
   {
    "duration": 19,
    "start_time": "2022-03-16T08:47:36.101Z"
   },
   {
    "duration": 12,
    "start_time": "2022-03-16T08:47:36.122Z"
   },
   {
    "duration": 8,
    "start_time": "2022-03-16T08:47:36.136Z"
   },
   {
    "duration": 19,
    "start_time": "2022-03-16T08:47:36.146Z"
   },
   {
    "duration": 9,
    "start_time": "2022-03-16T08:47:36.167Z"
   },
   {
    "duration": 9,
    "start_time": "2022-03-16T08:47:36.177Z"
   },
   {
    "duration": 8,
    "start_time": "2022-03-16T08:47:36.188Z"
   },
   {
    "duration": 8,
    "start_time": "2022-03-16T08:47:36.198Z"
   },
   {
    "duration": 53,
    "start_time": "2022-03-16T08:47:36.207Z"
   },
   {
    "duration": 10,
    "start_time": "2022-03-16T08:47:36.262Z"
   },
   {
    "duration": 9,
    "start_time": "2022-03-16T08:47:36.273Z"
   },
   {
    "duration": 362,
    "start_time": "2022-03-16T08:47:36.283Z"
   },
   {
    "duration": 12,
    "start_time": "2022-03-16T08:47:36.646Z"
   },
   {
    "duration": 340,
    "start_time": "2022-03-16T08:47:36.660Z"
   },
   {
    "duration": 5,
    "start_time": "2022-03-16T08:47:37.002Z"
   },
   {
    "duration": 8,
    "start_time": "2022-03-16T08:47:37.009Z"
   },
   {
    "duration": 13,
    "start_time": "2022-03-16T08:47:37.019Z"
   },
   {
    "duration": 32,
    "start_time": "2022-03-16T08:47:37.034Z"
   },
   {
    "duration": 13,
    "start_time": "2022-03-16T08:47:37.068Z"
   },
   {
    "duration": 4,
    "start_time": "2022-03-16T08:47:37.082Z"
   },
   {
    "duration": 11,
    "start_time": "2022-03-16T08:47:37.087Z"
   },
   {
    "duration": 3,
    "start_time": "2022-03-16T08:47:37.100Z"
   },
   {
    "duration": 10,
    "start_time": "2022-03-16T08:47:37.105Z"
   },
   {
    "duration": 3,
    "start_time": "2022-03-16T08:47:37.116Z"
   },
   {
    "duration": 11,
    "start_time": "2022-03-16T08:47:37.121Z"
   },
   {
    "duration": 27,
    "start_time": "2022-03-16T08:47:37.133Z"
   },
   {
    "duration": 23,
    "start_time": "2022-03-16T08:47:37.162Z"
   },
   {
    "duration": 3,
    "start_time": "2022-03-16T08:47:37.187Z"
   },
   {
    "duration": 7,
    "start_time": "2022-03-16T08:47:37.192Z"
   },
   {
    "duration": 5,
    "start_time": "2022-03-16T08:47:37.201Z"
   },
   {
    "duration": 1355,
    "start_time": "2022-03-16T08:47:37.207Z"
   },
   {
    "duration": 4,
    "start_time": "2022-03-16T08:47:38.565Z"
   },
   {
    "duration": 1193,
    "start_time": "2022-03-16T08:47:38.572Z"
   },
   {
    "duration": 3,
    "start_time": "2022-03-16T08:47:39.858Z"
   },
   {
    "duration": 4,
    "start_time": "2022-03-16T08:47:39.863Z"
   },
   {
    "duration": 5,
    "start_time": "2022-03-16T08:47:39.868Z"
   },
   {
    "duration": 4,
    "start_time": "2022-03-16T08:47:39.875Z"
   },
   {
    "duration": 7,
    "start_time": "2022-03-16T08:47:39.880Z"
   },
   {
    "duration": 29,
    "start_time": "2022-03-16T08:47:39.888Z"
   },
   {
    "duration": 60,
    "start_time": "2022-03-16T08:47:39.919Z"
   },
   {
    "duration": 3,
    "start_time": "2022-03-16T08:47:39.980Z"
   },
   {
    "duration": 6,
    "start_time": "2022-03-16T08:47:39.984Z"
   },
   {
    "duration": 5,
    "start_time": "2022-03-16T08:47:39.991Z"
   },
   {
    "duration": 9,
    "start_time": "2022-03-16T08:47:39.998Z"
   },
   {
    "duration": 3,
    "start_time": "2022-03-16T08:47:40.012Z"
   },
   {
    "duration": 41870,
    "start_time": "2022-03-16T08:47:40.017Z"
   },
   {
    "duration": 2,
    "start_time": "2022-03-16T08:48:21.889Z"
   },
   {
    "duration": 42659,
    "start_time": "2022-03-16T08:48:21.893Z"
   },
   {
    "duration": 7,
    "start_time": "2022-03-16T08:49:04.553Z"
   },
   {
    "duration": 6,
    "start_time": "2022-03-16T08:49:04.562Z"
   },
   {
    "duration": 5,
    "start_time": "2022-03-16T08:49:04.570Z"
   },
   {
    "duration": 7,
    "start_time": "2022-03-16T08:49:04.577Z"
   },
   {
    "duration": 72192,
    "start_time": "2022-03-16T08:49:04.586Z"
   },
   {
    "duration": 3,
    "start_time": "2022-03-16T08:50:16.779Z"
   },
   {
    "duration": 76326,
    "start_time": "2022-03-16T08:50:16.783Z"
   },
   {
    "duration": 3,
    "start_time": "2022-03-16T08:51:33.111Z"
   },
   {
    "duration": 26,
    "start_time": "2022-03-16T08:51:33.116Z"
   },
   {
    "duration": 6,
    "start_time": "2022-03-16T08:51:33.144Z"
   },
   {
    "duration": 15761,
    "start_time": "2022-03-16T08:51:33.152Z"
   },
   {
    "duration": 14660,
    "start_time": "2022-03-16T08:51:48.915Z"
   },
   {
    "duration": 6,
    "start_time": "2022-03-16T08:52:03.577Z"
   },
   {
    "duration": 5,
    "start_time": "2022-03-16T08:52:03.585Z"
   },
   {
    "duration": 5,
    "start_time": "2022-03-16T08:52:03.592Z"
   },
   {
    "duration": 3,
    "start_time": "2022-03-16T08:52:03.599Z"
   },
   {
    "duration": 4,
    "start_time": "2022-03-16T08:52:03.604Z"
   },
   {
    "duration": 4,
    "start_time": "2022-03-16T08:52:03.610Z"
   },
   {
    "duration": 6,
    "start_time": "2022-03-16T08:52:03.615Z"
   },
   {
    "duration": 6,
    "start_time": "2022-03-16T08:52:03.623Z"
   },
   {
    "duration": 29,
    "start_time": "2022-03-16T08:52:03.630Z"
   },
   {
    "duration": 3,
    "start_time": "2022-03-16T08:52:03.660Z"
   },
   {
    "duration": 9,
    "start_time": "2022-03-16T08:52:03.664Z"
   },
   {
    "duration": 5,
    "start_time": "2022-03-16T08:52:03.675Z"
   },
   {
    "duration": 5,
    "start_time": "2022-03-16T08:52:03.681Z"
   },
   {
    "duration": 4,
    "start_time": "2022-03-16T08:52:03.688Z"
   },
   {
    "duration": 4,
    "start_time": "2022-03-16T08:52:03.694Z"
   },
   {
    "duration": 5,
    "start_time": "2022-03-16T08:52:03.700Z"
   },
   {
    "duration": 5,
    "start_time": "2022-03-16T08:52:03.706Z"
   },
   {
    "duration": 4,
    "start_time": "2022-03-16T08:52:03.713Z"
   },
   {
    "duration": 4,
    "start_time": "2022-03-16T08:52:03.719Z"
   },
   {
    "duration": 4,
    "start_time": "2022-03-16T08:52:03.725Z"
   },
   {
    "duration": 28,
    "start_time": "2022-03-16T08:52:03.731Z"
   },
   {
    "duration": 3,
    "start_time": "2022-03-16T08:52:03.760Z"
   },
   {
    "duration": 7,
    "start_time": "2022-03-16T08:52:03.765Z"
   },
   {
    "duration": 4,
    "start_time": "2022-03-16T08:52:03.773Z"
   },
   {
    "duration": 1175,
    "start_time": "2022-03-17T06:03:50.153Z"
   },
   {
    "duration": 663,
    "start_time": "2022-03-17T06:03:51.330Z"
   },
   {
    "duration": 15,
    "start_time": "2022-03-17T06:03:51.995Z"
   },
   {
    "duration": 9,
    "start_time": "2022-03-17T06:03:52.012Z"
   },
   {
    "duration": 14,
    "start_time": "2022-03-17T06:03:52.023Z"
   },
   {
    "duration": 42,
    "start_time": "2022-03-17T06:03:52.039Z"
   },
   {
    "duration": 10,
    "start_time": "2022-03-17T06:03:52.083Z"
   },
   {
    "duration": 7,
    "start_time": "2022-03-17T06:03:52.095Z"
   },
   {
    "duration": 19,
    "start_time": "2022-03-17T06:03:52.104Z"
   },
   {
    "duration": 13,
    "start_time": "2022-03-17T06:03:52.125Z"
   },
   {
    "duration": 9,
    "start_time": "2022-03-17T06:03:52.140Z"
   },
   {
    "duration": 36,
    "start_time": "2022-03-17T06:03:52.150Z"
   },
   {
    "duration": 15,
    "start_time": "2022-03-17T06:03:52.188Z"
   },
   {
    "duration": 6,
    "start_time": "2022-03-17T06:03:52.204Z"
   },
   {
    "duration": 10,
    "start_time": "2022-03-17T06:03:52.212Z"
   },
   {
    "duration": 15,
    "start_time": "2022-03-17T06:03:52.223Z"
   },
   {
    "duration": 10,
    "start_time": "2022-03-17T06:03:52.240Z"
   },
   {
    "duration": 46,
    "start_time": "2022-03-17T06:03:52.252Z"
   },
   {
    "duration": 10,
    "start_time": "2022-03-17T06:03:52.300Z"
   },
   {
    "duration": 20,
    "start_time": "2022-03-17T06:03:52.312Z"
   },
   {
    "duration": 19,
    "start_time": "2022-03-17T06:03:52.333Z"
   },
   {
    "duration": 16,
    "start_time": "2022-03-17T06:03:52.354Z"
   },
   {
    "duration": 33,
    "start_time": "2022-03-17T06:03:52.371Z"
   },
   {
    "duration": 24,
    "start_time": "2022-03-17T06:03:52.406Z"
   },
   {
    "duration": 17,
    "start_time": "2022-03-17T06:03:52.432Z"
   },
   {
    "duration": 25,
    "start_time": "2022-03-17T06:03:52.451Z"
   },
   {
    "duration": 13,
    "start_time": "2022-03-17T06:03:52.482Z"
   },
   {
    "duration": 14,
    "start_time": "2022-03-17T06:03:52.499Z"
   },
   {
    "duration": 18,
    "start_time": "2022-03-17T06:03:52.515Z"
   },
   {
    "duration": 10,
    "start_time": "2022-03-17T06:03:52.535Z"
   },
   {
    "duration": 13,
    "start_time": "2022-03-17T06:03:52.547Z"
   },
   {
    "duration": 22,
    "start_time": "2022-03-17T06:03:52.562Z"
   },
   {
    "duration": 11,
    "start_time": "2022-03-17T06:03:52.586Z"
   },
   {
    "duration": 423,
    "start_time": "2022-03-17T06:03:52.599Z"
   },
   {
    "duration": 5,
    "start_time": "2022-03-17T06:03:53.023Z"
   },
   {
    "duration": 443,
    "start_time": "2022-03-17T06:03:53.029Z"
   },
   {
    "duration": 5,
    "start_time": "2022-03-17T06:03:53.480Z"
   },
   {
    "duration": 12,
    "start_time": "2022-03-17T06:03:53.487Z"
   },
   {
    "duration": 16,
    "start_time": "2022-03-17T06:03:53.501Z"
   },
   {
    "duration": 11,
    "start_time": "2022-03-17T06:03:53.519Z"
   },
   {
    "duration": 12,
    "start_time": "2022-03-17T06:03:53.532Z"
   },
   {
    "duration": 4,
    "start_time": "2022-03-17T06:03:53.546Z"
   },
   {
    "duration": 37,
    "start_time": "2022-03-17T06:03:53.551Z"
   },
   {
    "duration": 6,
    "start_time": "2022-03-17T06:03:53.590Z"
   },
   {
    "duration": 9,
    "start_time": "2022-03-17T06:03:53.597Z"
   },
   {
    "duration": 4,
    "start_time": "2022-03-17T06:03:53.608Z"
   },
   {
    "duration": 8,
    "start_time": "2022-03-17T06:03:53.613Z"
   },
   {
    "duration": 9,
    "start_time": "2022-03-17T06:03:53.623Z"
   },
   {
    "duration": 50,
    "start_time": "2022-03-17T06:03:53.634Z"
   },
   {
    "duration": 4,
    "start_time": "2022-03-17T06:03:53.687Z"
   },
   {
    "duration": 6,
    "start_time": "2022-03-17T06:03:53.693Z"
   },
   {
    "duration": 8,
    "start_time": "2022-03-17T06:03:53.701Z"
   },
   {
    "duration": 1872,
    "start_time": "2022-03-17T06:03:53.711Z"
   },
   {
    "duration": 3,
    "start_time": "2022-03-17T06:03:55.585Z"
   },
   {
    "duration": 1498,
    "start_time": "2022-03-17T06:03:55.590Z"
   },
   {
    "duration": 89,
    "start_time": "2022-03-17T06:03:57.092Z"
   },
   {
    "duration": 16,
    "start_time": "2022-03-17T06:03:57.183Z"
   },
   {
    "duration": 9,
    "start_time": "2022-03-17T06:03:57.201Z"
   },
   {
    "duration": 9,
    "start_time": "2022-03-17T06:03:57.212Z"
   },
   {
    "duration": 11,
    "start_time": "2022-03-17T06:03:57.223Z"
   },
   {
    "duration": 70,
    "start_time": "2022-03-17T06:03:57.236Z"
   },
   {
    "duration": 32,
    "start_time": "2022-03-17T06:03:57.308Z"
   },
   {
    "duration": 3,
    "start_time": "2022-03-17T06:03:57.342Z"
   },
   {
    "duration": 7,
    "start_time": "2022-03-17T06:03:57.347Z"
   },
   {
    "duration": 5,
    "start_time": "2022-03-17T06:03:57.356Z"
   },
   {
    "duration": 20,
    "start_time": "2022-03-17T06:03:57.363Z"
   },
   {
    "duration": 15,
    "start_time": "2022-03-17T06:03:57.385Z"
   },
   {
    "duration": 38671,
    "start_time": "2022-03-17T06:03:57.402Z"
   },
   {
    "duration": 7,
    "start_time": "2022-03-17T06:04:36.074Z"
   },
   {
    "duration": 41768,
    "start_time": "2022-03-17T06:04:36.083Z"
   },
   {
    "duration": 3,
    "start_time": "2022-03-17T06:05:17.852Z"
   },
   {
    "duration": 7,
    "start_time": "2022-03-17T06:05:17.857Z"
   },
   {
    "duration": 16,
    "start_time": "2022-03-17T06:05:17.865Z"
   },
   {
    "duration": 7,
    "start_time": "2022-03-17T06:05:17.883Z"
   },
   {
    "duration": 96997,
    "start_time": "2022-03-17T06:05:17.892Z"
   },
   {
    "duration": 6,
    "start_time": "2022-03-17T06:06:54.891Z"
   },
   {
    "duration": 89870,
    "start_time": "2022-03-17T06:06:54.898Z"
   },
   {
    "duration": 3,
    "start_time": "2022-03-17T06:08:24.770Z"
   },
   {
    "duration": 5,
    "start_time": "2022-03-17T06:08:24.775Z"
   },
   {
    "duration": 10,
    "start_time": "2022-03-17T06:08:24.782Z"
   },
   {
    "duration": 18672,
    "start_time": "2022-03-17T06:08:24.798Z"
   },
   {
    "duration": 16604,
    "start_time": "2022-03-17T06:08:43.473Z"
   },
   {
    "duration": 6,
    "start_time": "2022-03-17T06:09:00.081Z"
   },
   {
    "duration": 21,
    "start_time": "2022-03-17T06:09:00.088Z"
   },
   {
    "duration": 459,
    "start_time": "2022-03-17T07:22:20.056Z"
   },
   {
    "duration": 325,
    "start_time": "2022-03-17T07:22:51.660Z"
   },
   {
    "duration": 12,
    "start_time": "2022-03-17T07:23:31.098Z"
   },
   {
    "duration": 722,
    "start_time": "2022-03-17T07:23:59.133Z"
   },
   {
    "duration": 11,
    "start_time": "2022-03-17T07:25:18.561Z"
   },
   {
    "duration": 662,
    "start_time": "2022-03-17T07:26:16.038Z"
   },
   {
    "duration": 98,
    "start_time": "2022-03-17T07:30:46.686Z"
   },
   {
    "duration": 1065,
    "start_time": "2022-03-17T07:31:12.760Z"
   },
   {
    "duration": 105,
    "start_time": "2022-03-17T07:32:57.456Z"
   },
   {
    "duration": 755,
    "start_time": "2022-03-17T07:41:42.389Z"
   },
   {
    "duration": 606,
    "start_time": "2022-03-17T07:42:08.880Z"
   },
   {
    "duration": 707,
    "start_time": "2022-03-17T07:42:33.824Z"
   },
   {
    "duration": 1159,
    "start_time": "2022-03-17T07:56:05.521Z"
   },
   {
    "duration": 729,
    "start_time": "2022-03-17T07:56:06.681Z"
   },
   {
    "duration": 15,
    "start_time": "2022-03-17T07:56:07.412Z"
   },
   {
    "duration": 10,
    "start_time": "2022-03-17T07:56:07.429Z"
   },
   {
    "duration": 16,
    "start_time": "2022-03-17T07:56:07.441Z"
   },
   {
    "duration": 22,
    "start_time": "2022-03-17T07:56:07.459Z"
   },
   {
    "duration": 9,
    "start_time": "2022-03-17T07:56:07.483Z"
   },
   {
    "duration": 5,
    "start_time": "2022-03-17T07:56:07.495Z"
   },
   {
    "duration": 22,
    "start_time": "2022-03-17T07:56:07.502Z"
   },
   {
    "duration": 14,
    "start_time": "2022-03-17T07:56:07.525Z"
   },
   {
    "duration": 9,
    "start_time": "2022-03-17T07:56:07.541Z"
   },
   {
    "duration": 7,
    "start_time": "2022-03-17T07:56:07.551Z"
   },
   {
    "duration": 6,
    "start_time": "2022-03-17T07:56:07.560Z"
   },
   {
    "duration": 6,
    "start_time": "2022-03-17T07:56:07.568Z"
   },
   {
    "duration": 5,
    "start_time": "2022-03-17T07:56:07.576Z"
   },
   {
    "duration": 7,
    "start_time": "2022-03-17T07:56:07.583Z"
   },
   {
    "duration": 6,
    "start_time": "2022-03-17T07:56:07.592Z"
   },
   {
    "duration": 34,
    "start_time": "2022-03-17T07:56:07.599Z"
   },
   {
    "duration": 8,
    "start_time": "2022-03-17T07:56:07.634Z"
   },
   {
    "duration": 9,
    "start_time": "2022-03-17T07:56:07.643Z"
   },
   {
    "duration": 8,
    "start_time": "2022-03-17T07:56:07.653Z"
   },
   {
    "duration": 11,
    "start_time": "2022-03-17T07:56:07.662Z"
   },
   {
    "duration": 14,
    "start_time": "2022-03-17T07:56:07.676Z"
   },
   {
    "duration": 10,
    "start_time": "2022-03-17T07:56:07.693Z"
   },
   {
    "duration": 12,
    "start_time": "2022-03-17T07:56:07.705Z"
   },
   {
    "duration": 16,
    "start_time": "2022-03-17T07:56:07.719Z"
   },
   {
    "duration": 10,
    "start_time": "2022-03-17T07:56:07.737Z"
   },
   {
    "duration": 1392,
    "start_time": "2022-03-17T07:56:07.749Z"
   },
   {
    "duration": 14,
    "start_time": "2022-03-17T07:56:09.143Z"
   },
   {
    "duration": 23,
    "start_time": "2022-03-17T07:56:09.159Z"
   },
   {
    "duration": 11,
    "start_time": "2022-03-17T07:56:09.184Z"
   },
   {
    "duration": 736,
    "start_time": "2022-03-17T07:56:09.197Z"
   },
   {
    "duration": 10,
    "start_time": "2022-03-17T07:56:09.935Z"
   },
   {
    "duration": 10,
    "start_time": "2022-03-17T07:56:09.947Z"
   },
   {
    "duration": 32,
    "start_time": "2022-03-17T07:56:09.959Z"
   },
   {
    "duration": 1036,
    "start_time": "2022-03-17T07:56:09.993Z"
   },
   {
    "duration": 436,
    "start_time": "2022-03-17T07:56:11.032Z"
   },
   {
    "duration": 12,
    "start_time": "2022-03-17T07:56:11.470Z"
   },
   {
    "duration": 351,
    "start_time": "2022-03-17T07:56:11.484Z"
   },
   {
    "duration": 4,
    "start_time": "2022-03-17T07:56:11.837Z"
   },
   {
    "duration": 14,
    "start_time": "2022-03-17T07:56:11.843Z"
   },
   {
    "duration": 35,
    "start_time": "2022-03-17T07:56:11.859Z"
   },
   {
    "duration": 11,
    "start_time": "2022-03-17T07:56:11.896Z"
   },
   {
    "duration": 11,
    "start_time": "2022-03-17T07:56:11.909Z"
   },
   {
    "duration": 4,
    "start_time": "2022-03-17T07:56:11.922Z"
   },
   {
    "duration": 25,
    "start_time": "2022-03-17T07:56:11.928Z"
   },
   {
    "duration": 7,
    "start_time": "2022-03-17T07:56:11.955Z"
   },
   {
    "duration": 25,
    "start_time": "2022-03-17T07:56:11.964Z"
   },
   {
    "duration": 9,
    "start_time": "2022-03-17T07:56:11.991Z"
   },
   {
    "duration": 11,
    "start_time": "2022-03-17T07:56:12.001Z"
   },
   {
    "duration": 9,
    "start_time": "2022-03-17T07:56:12.013Z"
   },
   {
    "duration": 26,
    "start_time": "2022-03-17T07:56:12.024Z"
   },
   {
    "duration": 5,
    "start_time": "2022-03-17T07:56:12.052Z"
   },
   {
    "duration": 22,
    "start_time": "2022-03-17T07:56:12.059Z"
   },
   {
    "duration": 3,
    "start_time": "2022-03-17T07:56:12.083Z"
   },
   {
    "duration": 1993,
    "start_time": "2022-03-17T07:56:12.088Z"
   },
   {
    "duration": 3,
    "start_time": "2022-03-17T07:56:14.084Z"
   },
   {
    "duration": 2698,
    "start_time": "2022-03-17T07:56:14.089Z"
   },
   {
    "duration": 6,
    "start_time": "2022-03-17T07:56:16.789Z"
   },
   {
    "duration": 85,
    "start_time": "2022-03-17T07:56:16.797Z"
   },
   {
    "duration": 10,
    "start_time": "2022-03-17T07:56:16.884Z"
   },
   {
    "duration": 17,
    "start_time": "2022-03-17T07:56:16.896Z"
   },
   {
    "duration": 15,
    "start_time": "2022-03-17T07:56:16.914Z"
   },
   {
    "duration": 39,
    "start_time": "2022-03-17T07:56:16.931Z"
   },
   {
    "duration": 48,
    "start_time": "2022-03-17T07:56:16.972Z"
   },
   {
    "duration": 9,
    "start_time": "2022-03-17T07:56:17.023Z"
   },
   {
    "duration": 19,
    "start_time": "2022-03-17T07:56:17.034Z"
   },
   {
    "duration": 6,
    "start_time": "2022-03-17T07:56:17.058Z"
   },
   {
    "duration": 5,
    "start_time": "2022-03-17T07:56:17.066Z"
   },
   {
    "duration": 6,
    "start_time": "2022-03-17T07:56:17.073Z"
   },
   {
    "duration": 43329,
    "start_time": "2022-03-17T07:56:17.081Z"
   },
   {
    "duration": 3,
    "start_time": "2022-03-17T07:57:00.412Z"
   },
   {
    "duration": 46838,
    "start_time": "2022-03-17T07:57:00.417Z"
   },
   {
    "duration": 3,
    "start_time": "2022-03-17T07:57:47.256Z"
   },
   {
    "duration": 5,
    "start_time": "2022-03-17T07:57:47.261Z"
   },
   {
    "duration": 18,
    "start_time": "2022-03-17T07:57:47.267Z"
   },
   {
    "duration": 6,
    "start_time": "2022-03-17T07:57:47.286Z"
   },
   {
    "duration": 104182,
    "start_time": "2022-03-17T07:57:47.293Z"
   },
   {
    "duration": 3,
    "start_time": "2022-03-17T07:59:31.476Z"
   },
   {
    "duration": 108728,
    "start_time": "2022-03-17T07:59:31.481Z"
   },
   {
    "duration": 3,
    "start_time": "2022-03-17T08:01:20.210Z"
   },
   {
    "duration": 9,
    "start_time": "2022-03-17T08:01:20.214Z"
   },
   {
    "duration": 11,
    "start_time": "2022-03-17T08:01:20.224Z"
   },
   {
    "duration": 21922,
    "start_time": "2022-03-17T08:01:20.237Z"
   },
   {
    "duration": 21011,
    "start_time": "2022-03-17T08:01:42.161Z"
   },
   {
    "duration": 8,
    "start_time": "2022-03-17T08:02:03.174Z"
   },
   {
    "duration": 4,
    "start_time": "2022-03-17T08:02:03.184Z"
   },
   {
    "duration": 10,
    "start_time": "2022-03-17T08:15:56.278Z"
   },
   {
    "duration": 2081,
    "start_time": "2022-03-18T06:45:39.076Z"
   },
   {
    "duration": 779,
    "start_time": "2022-03-18T06:45:41.159Z"
   },
   {
    "duration": 18,
    "start_time": "2022-03-18T06:45:41.939Z"
   },
   {
    "duration": 29,
    "start_time": "2022-03-18T06:45:41.959Z"
   },
   {
    "duration": 22,
    "start_time": "2022-03-18T06:45:41.991Z"
   },
   {
    "duration": 17,
    "start_time": "2022-03-18T06:45:42.015Z"
   },
   {
    "duration": 9,
    "start_time": "2022-03-18T06:45:42.033Z"
   },
   {
    "duration": 5,
    "start_time": "2022-03-18T06:45:42.043Z"
   },
   {
    "duration": 43,
    "start_time": "2022-03-18T06:45:42.049Z"
   },
   {
    "duration": 19,
    "start_time": "2022-03-18T06:45:42.096Z"
   },
   {
    "duration": 10,
    "start_time": "2022-03-18T06:45:42.117Z"
   },
   {
    "duration": 7,
    "start_time": "2022-03-18T06:45:42.129Z"
   },
   {
    "duration": 6,
    "start_time": "2022-03-18T06:45:42.138Z"
   },
   {
    "duration": 4,
    "start_time": "2022-03-18T06:45:42.147Z"
   },
   {
    "duration": 8,
    "start_time": "2022-03-18T06:45:42.152Z"
   },
   {
    "duration": 27,
    "start_time": "2022-03-18T06:45:42.161Z"
   },
   {
    "duration": 27,
    "start_time": "2022-03-18T06:45:42.189Z"
   },
   {
    "duration": 28,
    "start_time": "2022-03-18T06:45:42.217Z"
   },
   {
    "duration": 7,
    "start_time": "2022-03-18T06:45:42.247Z"
   },
   {
    "duration": 8,
    "start_time": "2022-03-18T06:45:42.256Z"
   },
   {
    "duration": 8,
    "start_time": "2022-03-18T06:45:42.265Z"
   },
   {
    "duration": 13,
    "start_time": "2022-03-18T06:45:42.274Z"
   },
   {
    "duration": 35,
    "start_time": "2022-03-18T06:45:42.290Z"
   },
   {
    "duration": 13,
    "start_time": "2022-03-18T06:45:42.326Z"
   },
   {
    "duration": 9,
    "start_time": "2022-03-18T06:45:42.340Z"
   },
   {
    "duration": 6,
    "start_time": "2022-03-18T06:45:42.351Z"
   },
   {
    "duration": 7,
    "start_time": "2022-03-18T06:45:42.359Z"
   },
   {
    "duration": 509,
    "start_time": "2022-03-18T06:45:42.367Z"
   },
   {
    "duration": 14,
    "start_time": "2022-03-18T06:45:42.877Z"
   },
   {
    "duration": 34,
    "start_time": "2022-03-18T06:45:42.897Z"
   },
   {
    "duration": 8,
    "start_time": "2022-03-18T06:45:42.933Z"
   },
   {
    "duration": 523,
    "start_time": "2022-03-18T06:45:42.943Z"
   },
   {
    "duration": 21,
    "start_time": "2022-03-18T06:45:43.468Z"
   },
   {
    "duration": 11,
    "start_time": "2022-03-18T06:45:43.490Z"
   },
   {
    "duration": 15,
    "start_time": "2022-03-18T06:45:43.505Z"
   },
   {
    "duration": 463,
    "start_time": "2022-03-18T06:45:43.521Z"
   },
   {
    "duration": 307,
    "start_time": "2022-03-18T06:45:43.986Z"
   },
   {
    "duration": 6,
    "start_time": "2022-03-18T06:45:44.297Z"
   },
   {
    "duration": 350,
    "start_time": "2022-03-18T06:45:44.305Z"
   },
   {
    "duration": 4,
    "start_time": "2022-03-18T06:45:44.657Z"
   },
   {
    "duration": 22,
    "start_time": "2022-03-18T06:45:44.665Z"
   },
   {
    "duration": 38,
    "start_time": "2022-03-18T06:45:44.689Z"
   },
   {
    "duration": 9,
    "start_time": "2022-03-18T06:45:44.729Z"
   },
   {
    "duration": 9,
    "start_time": "2022-03-18T06:45:44.740Z"
   },
   {
    "duration": 4,
    "start_time": "2022-03-18T06:45:44.750Z"
   },
   {
    "duration": 225,
    "start_time": "2022-03-18T06:46:17.229Z"
   },
   {
    "duration": 241,
    "start_time": "2022-03-18T06:47:28.268Z"
   },
   {
    "duration": 118,
    "start_time": "2022-03-18T06:47:45.849Z"
   },
   {
    "duration": 28,
    "start_time": "2022-03-18T06:49:22.059Z"
   },
   {
    "duration": 7,
    "start_time": "2022-03-18T06:49:48.203Z"
   },
   {
    "duration": 213,
    "start_time": "2022-03-18T06:50:13.409Z"
   },
   {
    "duration": 199,
    "start_time": "2022-03-18T06:51:52.658Z"
   },
   {
    "duration": 196,
    "start_time": "2022-03-18T06:52:10.817Z"
   },
   {
    "duration": 187,
    "start_time": "2022-03-18T06:52:30.084Z"
   },
   {
    "duration": 180,
    "start_time": "2022-03-18T06:52:41.153Z"
   },
   {
    "duration": 179,
    "start_time": "2022-03-18T06:53:09.483Z"
   },
   {
    "duration": 252,
    "start_time": "2022-03-18T06:53:57.305Z"
   },
   {
    "duration": 10,
    "start_time": "2022-03-18T06:54:46.117Z"
   },
   {
    "duration": 186,
    "start_time": "2022-03-18T06:55:58.477Z"
   },
   {
    "duration": 254,
    "start_time": "2022-03-18T06:56:13.307Z"
   },
   {
    "duration": 374,
    "start_time": "2022-03-18T06:56:48.445Z"
   },
   {
    "duration": 271,
    "start_time": "2022-03-18T06:59:46.365Z"
   },
   {
    "duration": 5,
    "start_time": "2022-03-18T07:00:16.715Z"
   },
   {
    "duration": 215,
    "start_time": "2022-03-18T07:06:25.207Z"
   },
   {
    "duration": 210,
    "start_time": "2022-03-18T07:11:52.803Z"
   },
   {
    "duration": 233,
    "start_time": "2022-03-18T07:12:04.368Z"
   },
   {
    "duration": 231,
    "start_time": "2022-03-18T07:12:25.726Z"
   },
   {
    "duration": 243,
    "start_time": "2022-03-18T07:12:42.410Z"
   }
  ],
  "kernelspec": {
   "display_name": "Python 3 (ipykernel)",
   "language": "python",
   "name": "python3"
  },
  "language_info": {
   "codemirror_mode": {
    "name": "ipython",
    "version": 3
   },
   "file_extension": ".py",
   "mimetype": "text/x-python",
   "name": "python",
   "nbconvert_exporter": "python",
   "pygments_lexer": "ipython3",
   "version": "3.9.5"
  },
  "toc": {
   "base_numbering": 1,
   "nav_menu": {},
   "number_sections": true,
   "sideBar": true,
   "skip_h1_title": true,
   "title_cell": "Содержание",
   "title_sidebar": "Contents",
   "toc_cell": true,
   "toc_position": {
    "height": "calc(100% - 180px)",
    "left": "10px",
    "top": "150px",
    "width": "289.6px"
   },
   "toc_section_display": true,
   "toc_window_display": true
  }
 },
 "nbformat": 4,
 "nbformat_minor": 2
}
