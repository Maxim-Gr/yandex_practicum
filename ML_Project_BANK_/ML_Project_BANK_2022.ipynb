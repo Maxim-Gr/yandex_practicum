{
 "cells": [
  {
   "cell_type": "markdown",
   "metadata": {},
   "source": [
    "# Описание проекта \"Отток клиентов банка\""
   ]
  },
  {
   "cell_type": "markdown",
   "metadata": {},
   "source": [
    "Из «Банка Развития и Процветания» стали активно уходить клиенты. Банковские маркетологи посчитали: сохранять текущих клиентов дешевле, чем привлекать новых.\n",
    "\n",
    "Нужно спрогнозировать, уйдёт клиент из банка в ближайшее время или нет. Для этого нам доступны исторические данные о поведении клиентов и расторжении договоров с банком. Требуется создать модель, предсказывающую, уйдёт ли клиент, исходя из историчиских данных.\n",
    "\n",
    "Построим модель с предельно большим значением *F1*-меры. Целевое значение метрики: F1 > 0.59. Проверим *F1*-меру на тестовой выборке.\n",
    "\n",
    "Дополнительно измерим *AUC-ROC*, сравнивая её значение с *F1*-мерой."
   ]
  },
  {
   "cell_type": "markdown",
   "metadata": {
    "toc": true
   },
   "source": [
    "<h1>Содержание<span class=\"tocSkip\"></span></h1>\n",
    "<div class=\"toc\"><ul class=\"toc-item\"><li><span><a href=\"#Подготовка-данных\" data-toc-modified-id=\"Подготовка-данных-1\"><span class=\"toc-item-num\">1&nbsp;&nbsp;</span>Подготовка данных</a></span><ul class=\"toc-item\"><li><span><a href=\"#Кодирование\" data-toc-modified-id=\"Кодирование-1.1\"><span class=\"toc-item-num\">1.1&nbsp;&nbsp;</span>Кодирование</a></span></li><li><span><a href=\"#Выделение-целевого-признака-target-и-признаков-для-обучения-features\" data-toc-modified-id=\"Выделение-целевого-признака-target-и-признаков-для-обучения-features-1.2\"><span class=\"toc-item-num\">1.2&nbsp;&nbsp;</span>Выделение целевого признака target и признаков для обучения features</a></span></li><li><span><a href=\"#Разделение-выборки-на-обучающую-(train),-валидационную-(valid)-и-тестовую-(test)\" data-toc-modified-id=\"Разделение-выборки-на-обучающую-(train),-валидационную-(valid)-и-тестовую-(test)-1.3\"><span class=\"toc-item-num\">1.3&nbsp;&nbsp;</span>Разделение выборки на обучающую (train), валидационную (valid) и тестовую (test)</a></span></li><li><span><a href=\"#Масштабирование-признаков\" data-toc-modified-id=\"Масштабирование-признаков-1.4\"><span class=\"toc-item-num\">1.4&nbsp;&nbsp;</span>Масштабирование признаков</a></span></li></ul></li><li><span><a href=\"#Исследование-задачи\" data-toc-modified-id=\"Исследование-задачи-2\"><span class=\"toc-item-num\">2&nbsp;&nbsp;</span>Исследование задачи</a></span><ul class=\"toc-item\"><li><span><a href=\"#Модель-ДР-без-учета-дисбаланса\" data-toc-modified-id=\"Модель-ДР-без-учета-дисбаланса-2.1\"><span class=\"toc-item-num\">2.1&nbsp;&nbsp;</span>Модель ДР без учета дисбаланса</a></span></li><li><span><a href=\"#Модель-СЛ-без-учета-дисбаланса\" data-toc-modified-id=\"Модель-СЛ-без-учета-дисбаланса-2.2\"><span class=\"toc-item-num\">2.2&nbsp;&nbsp;</span>Модель СЛ без учета дисбаланса</a></span></li><li><span><a href=\"#Модель-ЛР-без-учета-дисбаланса\" data-toc-modified-id=\"Модель-ЛР-без-учета-дисбаланса-2.3\"><span class=\"toc-item-num\">2.3&nbsp;&nbsp;</span>Модель ЛР без учета дисбаланса</a></span></li></ul></li><li><span><a href=\"#Борьба-с-дисбалансом\" data-toc-modified-id=\"Борьба-с-дисбалансом-3\"><span class=\"toc-item-num\">3&nbsp;&nbsp;</span>Борьба с дисбалансом</a></span><ul class=\"toc-item\"><li><span><a href=\"#Модель-ДР-при-class_weight='balanced'\" data-toc-modified-id=\"Модель-ДР-при-class_weight='balanced'-3.1\"><span class=\"toc-item-num\">3.1&nbsp;&nbsp;</span>Модель ДР при class_weight='balanced'</a></span></li><li><span><a href=\"#Модель-ДР-+-upsampling\" data-toc-modified-id=\"Модель-ДР-+-upsampling-3.2\"><span class=\"toc-item-num\">3.2&nbsp;&nbsp;</span>Модель ДР + upsampling</a></span></li><li><span><a href=\"#Модель-ДР-+-downsampling\" data-toc-modified-id=\"Модель-ДР-+-downsampling-3.3\"><span class=\"toc-item-num\">3.3&nbsp;&nbsp;</span>Модель ДР + downsampling</a></span></li><li><span><a href=\"#Модель-СЛ-при-class_weight='balanced'\" data-toc-modified-id=\"Модель-СЛ-при-class_weight='balanced'-3.4\"><span class=\"toc-item-num\">3.4&nbsp;&nbsp;</span>Модель СЛ при class_weight='balanced'</a></span></li><li><span><a href=\"#Модель-СЛ-+-upsampling-с-class_weight=None\" data-toc-modified-id=\"Модель-СЛ-+-upsampling-с-class_weight=None-3.5\"><span class=\"toc-item-num\">3.5&nbsp;&nbsp;</span>Модель СЛ + upsampling с class_weight=None</a></span></li><li><span><a href=\"#Модель-СЛ-+-upsampling-с-class_weight='balanced'\" data-toc-modified-id=\"Модель-СЛ-+-upsampling-с-class_weight='balanced'-3.6\"><span class=\"toc-item-num\">3.6&nbsp;&nbsp;</span>Модель СЛ + upsampling с class_weight='balanced'</a></span></li><li><span><a href=\"#Модель-СЛ-+-downsampling-с-class_weight=None\" data-toc-modified-id=\"Модель-СЛ-+-downsampling-с-class_weight=None-3.7\"><span class=\"toc-item-num\">3.7&nbsp;&nbsp;</span>Модель СЛ + downsampling с class_weight=None</a></span></li><li><span><a href=\"#Модель-СЛ-+-downsampling-с-class_weight='balanced'\" data-toc-modified-id=\"Модель-СЛ-+-downsampling-с-class_weight='balanced'-3.8\"><span class=\"toc-item-num\">3.8&nbsp;&nbsp;</span>Модель СЛ + downsampling с class_weight='balanced'</a></span></li><li><span><a href=\"#Метрика-ROC-AUC-для-лучших-моделей-ДР-и-СЛ\" data-toc-modified-id=\"Метрика-ROC-AUC-для-лучших-моделей-ДР-и-СЛ-3.9\"><span class=\"toc-item-num\">3.9&nbsp;&nbsp;</span>Метрика ROC-AUC для лучших моделей ДР и СЛ</a></span><ul class=\"toc-item\"><li><span><a href=\"#Модель-ДР---динамика-ROC-AUC\" data-toc-modified-id=\"Модель-ДР---динамика-ROC-AUC-3.9.1\"><span class=\"toc-item-num\">3.9.1&nbsp;&nbsp;</span>Модель ДР - динамика ROC-AUC</a></span></li><li><span><a href=\"#Модель-СЛ---динамика-ROC-AUC\" data-toc-modified-id=\"Модель-СЛ---динамика-ROC-AUC-3.9.2\"><span class=\"toc-item-num\">3.9.2&nbsp;&nbsp;</span>Модель СЛ - динамика ROC-AUC</a></span></li></ul></li><li><span><a href=\"#Модель-ЛР---борьба-с-дисбалансом\" data-toc-modified-id=\"Модель-ЛР---борьба-с-дисбалансом-3.10\"><span class=\"toc-item-num\">3.10&nbsp;&nbsp;</span>Модель ЛР - борьба с дисбалансом</a></span></li></ul></li><li><span><a href=\"#Тестирование-модели\" data-toc-modified-id=\"Тестирование-модели-4\"><span class=\"toc-item-num\">4&nbsp;&nbsp;</span>Тестирование модели</a></span><ul class=\"toc-item\"><li><span><a href=\"#Модель-ДР-с-тестовой-выборкой\" data-toc-modified-id=\"Модель-ДР-с-тестовой-выборкой-4.1\"><span class=\"toc-item-num\">4.1&nbsp;&nbsp;</span>Модель ДР с тестовой выборкой</a></span></li><li><span><a href=\"#Модель-СЛ-с-тестовой-выборкой\" data-toc-modified-id=\"Модель-СЛ-с-тестовой-выборкой-4.2\"><span class=\"toc-item-num\">4.2&nbsp;&nbsp;</span>Модель СЛ с тестовой выборкой</a></span></li></ul></li><li><span><a href=\"#Общий-вывод\" data-toc-modified-id=\"Общий-вывод-5\"><span class=\"toc-item-num\">5&nbsp;&nbsp;</span>Общий вывод</a></span></li><li><span><a href=\"#Чек-лист-готовности-проекта\" data-toc-modified-id=\"Чек-лист-готовности-проекта-6\"><span class=\"toc-item-num\">6&nbsp;&nbsp;</span>Чек-лист готовности проекта</a></span></li></ul></div>"
   ]
  },
  {
   "cell_type": "markdown",
   "metadata": {},
   "source": [
    "## Подготовка данных"
   ]
  },
  {
   "cell_type": "markdown",
   "metadata": {},
   "source": [
    "Импортируем необходимые библиотеки, инструменты для обработки данных, модели и метрики."
   ]
  },
  {
   "cell_type": "code",
   "execution_count": 1,
   "metadata": {},
   "outputs": [],
   "source": [
    "import pandas as pd\n",
    "import numpy as np\n",
    "import random\n",
    "\n",
    "from sklearn.model_selection import train_test_split\n",
    "from sklearn.utils import shuffle\n",
    "from sklearn.preprocessing import StandardScaler\n",
    "\n",
    "from sklearn.metrics import roc_auc_score\n",
    "from sklearn.metrics import f1_score\n",
    "\n",
    "from sklearn.tree import DecisionTreeClassifier\n",
    "from sklearn.ensemble import RandomForestClassifier\n",
    "from sklearn.linear_model import LogisticRegression\n",
    "\n",
    "pd.options.mode.chained_assignment = None"
   ]
  },
  {
   "cell_type": "markdown",
   "metadata": {},
   "source": [
    "Загрузим первичный датафрейм и выведем на экран основную информацию."
   ]
  },
  {
   "cell_type": "code",
   "execution_count": 2,
   "metadata": {},
   "outputs": [],
   "source": [
    "df = pd.read_csv('/datasets/Churn.csv')\n"
   ]
  },
  {
   "cell_type": "code",
   "execution_count": 3,
   "metadata": {},
   "outputs": [
    {
     "data": {
      "text/html": [
       "<div>\n",
       "<style scoped>\n",
       "    .dataframe tbody tr th:only-of-type {\n",
       "        vertical-align: middle;\n",
       "    }\n",
       "\n",
       "    .dataframe tbody tr th {\n",
       "        vertical-align: top;\n",
       "    }\n",
       "\n",
       "    .dataframe thead th {\n",
       "        text-align: right;\n",
       "    }\n",
       "</style>\n",
       "<table border=\"1\" class=\"dataframe\">\n",
       "  <thead>\n",
       "    <tr style=\"text-align: right;\">\n",
       "      <th></th>\n",
       "      <th>RowNumber</th>\n",
       "      <th>CustomerId</th>\n",
       "      <th>Surname</th>\n",
       "      <th>CreditScore</th>\n",
       "      <th>Geography</th>\n",
       "      <th>Gender</th>\n",
       "      <th>Age</th>\n",
       "      <th>Tenure</th>\n",
       "      <th>Balance</th>\n",
       "      <th>NumOfProducts</th>\n",
       "      <th>HasCrCard</th>\n",
       "      <th>IsActiveMember</th>\n",
       "      <th>EstimatedSalary</th>\n",
       "      <th>Exited</th>\n",
       "    </tr>\n",
       "  </thead>\n",
       "  <tbody>\n",
       "    <tr>\n",
       "      <td>0</td>\n",
       "      <td>1</td>\n",
       "      <td>15634602</td>\n",
       "      <td>Hargrave</td>\n",
       "      <td>619</td>\n",
       "      <td>France</td>\n",
       "      <td>Female</td>\n",
       "      <td>42</td>\n",
       "      <td>2.0</td>\n",
       "      <td>0.00</td>\n",
       "      <td>1</td>\n",
       "      <td>1</td>\n",
       "      <td>1</td>\n",
       "      <td>101348.88</td>\n",
       "      <td>1</td>\n",
       "    </tr>\n",
       "    <tr>\n",
       "      <td>1</td>\n",
       "      <td>2</td>\n",
       "      <td>15647311</td>\n",
       "      <td>Hill</td>\n",
       "      <td>608</td>\n",
       "      <td>Spain</td>\n",
       "      <td>Female</td>\n",
       "      <td>41</td>\n",
       "      <td>1.0</td>\n",
       "      <td>83807.86</td>\n",
       "      <td>1</td>\n",
       "      <td>0</td>\n",
       "      <td>1</td>\n",
       "      <td>112542.58</td>\n",
       "      <td>0</td>\n",
       "    </tr>\n",
       "    <tr>\n",
       "      <td>2</td>\n",
       "      <td>3</td>\n",
       "      <td>15619304</td>\n",
       "      <td>Onio</td>\n",
       "      <td>502</td>\n",
       "      <td>France</td>\n",
       "      <td>Female</td>\n",
       "      <td>42</td>\n",
       "      <td>8.0</td>\n",
       "      <td>159660.80</td>\n",
       "      <td>3</td>\n",
       "      <td>1</td>\n",
       "      <td>0</td>\n",
       "      <td>113931.57</td>\n",
       "      <td>1</td>\n",
       "    </tr>\n",
       "    <tr>\n",
       "      <td>3</td>\n",
       "      <td>4</td>\n",
       "      <td>15701354</td>\n",
       "      <td>Boni</td>\n",
       "      <td>699</td>\n",
       "      <td>France</td>\n",
       "      <td>Female</td>\n",
       "      <td>39</td>\n",
       "      <td>1.0</td>\n",
       "      <td>0.00</td>\n",
       "      <td>2</td>\n",
       "      <td>0</td>\n",
       "      <td>0</td>\n",
       "      <td>93826.63</td>\n",
       "      <td>0</td>\n",
       "    </tr>\n",
       "    <tr>\n",
       "      <td>4</td>\n",
       "      <td>5</td>\n",
       "      <td>15737888</td>\n",
       "      <td>Mitchell</td>\n",
       "      <td>850</td>\n",
       "      <td>Spain</td>\n",
       "      <td>Female</td>\n",
       "      <td>43</td>\n",
       "      <td>2.0</td>\n",
       "      <td>125510.82</td>\n",
       "      <td>1</td>\n",
       "      <td>1</td>\n",
       "      <td>1</td>\n",
       "      <td>79084.10</td>\n",
       "      <td>0</td>\n",
       "    </tr>\n",
       "    <tr>\n",
       "      <td>...</td>\n",
       "      <td>...</td>\n",
       "      <td>...</td>\n",
       "      <td>...</td>\n",
       "      <td>...</td>\n",
       "      <td>...</td>\n",
       "      <td>...</td>\n",
       "      <td>...</td>\n",
       "      <td>...</td>\n",
       "      <td>...</td>\n",
       "      <td>...</td>\n",
       "      <td>...</td>\n",
       "      <td>...</td>\n",
       "      <td>...</td>\n",
       "      <td>...</td>\n",
       "    </tr>\n",
       "    <tr>\n",
       "      <td>9995</td>\n",
       "      <td>9996</td>\n",
       "      <td>15606229</td>\n",
       "      <td>Obijiaku</td>\n",
       "      <td>771</td>\n",
       "      <td>France</td>\n",
       "      <td>Male</td>\n",
       "      <td>39</td>\n",
       "      <td>5.0</td>\n",
       "      <td>0.00</td>\n",
       "      <td>2</td>\n",
       "      <td>1</td>\n",
       "      <td>0</td>\n",
       "      <td>96270.64</td>\n",
       "      <td>0</td>\n",
       "    </tr>\n",
       "    <tr>\n",
       "      <td>9996</td>\n",
       "      <td>9997</td>\n",
       "      <td>15569892</td>\n",
       "      <td>Johnstone</td>\n",
       "      <td>516</td>\n",
       "      <td>France</td>\n",
       "      <td>Male</td>\n",
       "      <td>35</td>\n",
       "      <td>10.0</td>\n",
       "      <td>57369.61</td>\n",
       "      <td>1</td>\n",
       "      <td>1</td>\n",
       "      <td>1</td>\n",
       "      <td>101699.77</td>\n",
       "      <td>0</td>\n",
       "    </tr>\n",
       "    <tr>\n",
       "      <td>9997</td>\n",
       "      <td>9998</td>\n",
       "      <td>15584532</td>\n",
       "      <td>Liu</td>\n",
       "      <td>709</td>\n",
       "      <td>France</td>\n",
       "      <td>Female</td>\n",
       "      <td>36</td>\n",
       "      <td>7.0</td>\n",
       "      <td>0.00</td>\n",
       "      <td>1</td>\n",
       "      <td>0</td>\n",
       "      <td>1</td>\n",
       "      <td>42085.58</td>\n",
       "      <td>1</td>\n",
       "    </tr>\n",
       "    <tr>\n",
       "      <td>9998</td>\n",
       "      <td>9999</td>\n",
       "      <td>15682355</td>\n",
       "      <td>Sabbatini</td>\n",
       "      <td>772</td>\n",
       "      <td>Germany</td>\n",
       "      <td>Male</td>\n",
       "      <td>42</td>\n",
       "      <td>3.0</td>\n",
       "      <td>75075.31</td>\n",
       "      <td>2</td>\n",
       "      <td>1</td>\n",
       "      <td>0</td>\n",
       "      <td>92888.52</td>\n",
       "      <td>1</td>\n",
       "    </tr>\n",
       "    <tr>\n",
       "      <td>9999</td>\n",
       "      <td>10000</td>\n",
       "      <td>15628319</td>\n",
       "      <td>Walker</td>\n",
       "      <td>792</td>\n",
       "      <td>France</td>\n",
       "      <td>Female</td>\n",
       "      <td>28</td>\n",
       "      <td>NaN</td>\n",
       "      <td>130142.79</td>\n",
       "      <td>1</td>\n",
       "      <td>1</td>\n",
       "      <td>0</td>\n",
       "      <td>38190.78</td>\n",
       "      <td>0</td>\n",
       "    </tr>\n",
       "  </tbody>\n",
       "</table>\n",
       "<p>10000 rows × 14 columns</p>\n",
       "</div>"
      ],
      "text/plain": [
       "      RowNumber  CustomerId    Surname  CreditScore Geography  Gender  Age  \\\n",
       "0             1    15634602   Hargrave          619    France  Female   42   \n",
       "1             2    15647311       Hill          608     Spain  Female   41   \n",
       "2             3    15619304       Onio          502    France  Female   42   \n",
       "3             4    15701354       Boni          699    France  Female   39   \n",
       "4             5    15737888   Mitchell          850     Spain  Female   43   \n",
       "...         ...         ...        ...          ...       ...     ...  ...   \n",
       "9995       9996    15606229   Obijiaku          771    France    Male   39   \n",
       "9996       9997    15569892  Johnstone          516    France    Male   35   \n",
       "9997       9998    15584532        Liu          709    France  Female   36   \n",
       "9998       9999    15682355  Sabbatini          772   Germany    Male   42   \n",
       "9999      10000    15628319     Walker          792    France  Female   28   \n",
       "\n",
       "      Tenure    Balance  NumOfProducts  HasCrCard  IsActiveMember  \\\n",
       "0        2.0       0.00              1          1               1   \n",
       "1        1.0   83807.86              1          0               1   \n",
       "2        8.0  159660.80              3          1               0   \n",
       "3        1.0       0.00              2          0               0   \n",
       "4        2.0  125510.82              1          1               1   \n",
       "...      ...        ...            ...        ...             ...   \n",
       "9995     5.0       0.00              2          1               0   \n",
       "9996    10.0   57369.61              1          1               1   \n",
       "9997     7.0       0.00              1          0               1   \n",
       "9998     3.0   75075.31              2          1               0   \n",
       "9999     NaN  130142.79              1          1               0   \n",
       "\n",
       "      EstimatedSalary  Exited  \n",
       "0           101348.88       1  \n",
       "1           112542.58       0  \n",
       "2           113931.57       1  \n",
       "3            93826.63       0  \n",
       "4            79084.10       0  \n",
       "...               ...     ...  \n",
       "9995         96270.64       0  \n",
       "9996        101699.77       0  \n",
       "9997         42085.58       1  \n",
       "9998         92888.52       1  \n",
       "9999         38190.78       0  \n",
       "\n",
       "[10000 rows x 14 columns]"
      ]
     },
     "execution_count": 3,
     "metadata": {},
     "output_type": "execute_result"
    }
   ],
   "source": [
    "df"
   ]
  },
  {
   "cell_type": "code",
   "execution_count": 4,
   "metadata": {},
   "outputs": [
    {
     "name": "stdout",
     "output_type": "stream",
     "text": [
      "<class 'pandas.core.frame.DataFrame'>\n",
      "RangeIndex: 10000 entries, 0 to 9999\n",
      "Data columns (total 14 columns):\n",
      "RowNumber          10000 non-null int64\n",
      "CustomerId         10000 non-null int64\n",
      "Surname            10000 non-null object\n",
      "CreditScore        10000 non-null int64\n",
      "Geography          10000 non-null object\n",
      "Gender             10000 non-null object\n",
      "Age                10000 non-null int64\n",
      "Tenure             9091 non-null float64\n",
      "Balance            10000 non-null float64\n",
      "NumOfProducts      10000 non-null int64\n",
      "HasCrCard          10000 non-null int64\n",
      "IsActiveMember     10000 non-null int64\n",
      "EstimatedSalary    10000 non-null float64\n",
      "Exited             10000 non-null int64\n",
      "dtypes: float64(3), int64(8), object(3)\n",
      "memory usage: 1.1+ MB\n"
     ]
    }
   ],
   "source": [
    "df.info()"
   ]
  },
  {
   "cell_type": "markdown",
   "metadata": {},
   "source": [
    "Датафрейм состоит из 10000 строк и 14 столбцов, в которых содержится следующая информация:  \n",
    "\n",
    "Признаки\n",
    "- RowNumber — индекс строки в данных\n",
    "- CustomerId — уникальный идентификатор клиента\n",
    "- Surname — фамилия\n",
    "- CreditScore — кредитный рейтинг\n",
    "- Geography — страна проживания\n",
    "- Gender — пол\n",
    "- Age — возраст\n",
    "- Tenure — сколько лет человек является клиентом банка\n",
    "- Balance — баланс на счёте\n",
    "- NumOfProducts — количество продуктов банка, используемых клиентом\n",
    "- HasCrCard — наличие кредитной карты\n",
    "- IsActiveMember — активность клиента\n",
    "- EstimatedSalary — предполагаемая зарплата\n",
    "\n",
    "Целевой признак\n",
    "- Exited — факт ухода клиента"
   ]
  },
  {
   "cell_type": "markdown",
   "metadata": {},
   "source": [
    "Приведем все буквы в названиях столбцов к нижнему регистру, а также установим разделитель (знак подчеркивания) по смыслу разделения слов в названиях столбцов:"
   ]
  },
  {
   "cell_type": "code",
   "execution_count": 3,
   "metadata": {},
   "outputs": [],
   "source": [
    "df.columns=df.columns.str.lower()"
   ]
  },
  {
   "cell_type": "code",
   "execution_count": 4,
   "metadata": {},
   "outputs": [],
   "source": [
    "df = df.rename(columns={\n",
    "    'rownumber': 'row_number',\n",
    "    'customerid': 'customer_id',\n",
    "    'creditscore': 'credit_score',\n",
    "    'numofproducts': 'num_of_products',\n",
    "    'hascrcard': 'has_cr_card',\n",
    "    'isactivemember': 'is_active_member',\n",
    "    'estimatedsalary': 'estimated_salary',\n",
    "})"
   ]
  },
  {
   "cell_type": "code",
   "execution_count": 7,
   "metadata": {},
   "outputs": [
    {
     "name": "stdout",
     "output_type": "stream",
     "text": [
      "<class 'pandas.core.frame.DataFrame'>\n",
      "RangeIndex: 10000 entries, 0 to 9999\n",
      "Data columns (total 14 columns):\n",
      "row_number          10000 non-null int64\n",
      "customer_id         10000 non-null int64\n",
      "surname             10000 non-null object\n",
      "credit_score        10000 non-null int64\n",
      "geography           10000 non-null object\n",
      "gender              10000 non-null object\n",
      "age                 10000 non-null int64\n",
      "tenure              9091 non-null float64\n",
      "balance             10000 non-null float64\n",
      "num_of_products     10000 non-null int64\n",
      "has_cr_card         10000 non-null int64\n",
      "is_active_member    10000 non-null int64\n",
      "estimated_salary    10000 non-null float64\n",
      "exited              10000 non-null int64\n",
      "dtypes: float64(3), int64(8), object(3)\n",
      "memory usage: 1.1+ MB\n"
     ]
    }
   ],
   "source": [
    "df.info() # проверка преобразований"
   ]
  },
  {
   "cell_type": "markdown",
   "metadata": {},
   "source": [
    "Все названия столбцов приведены к единому (\"змеиному\") регистру. В столбце 'tenure' имеется 909 пропусков (более 9% данных - удалять нельзя) - проведём мероприятия по замене пропусков."
   ]
  },
  {
   "cell_type": "markdown",
   "metadata": {},
   "source": [
    "Сначала посмотрим, какие значения содержатся в столбце 'tenure':"
   ]
  },
  {
   "cell_type": "code",
   "execution_count": 8,
   "metadata": {
    "scrolled": false
   },
   "outputs": [
    {
     "data": {
      "text/plain": [
       "1.0     952\n",
       "2.0     950\n",
       "8.0     933\n",
       "3.0     928\n",
       "5.0     927\n",
       "7.0     925\n",
       "4.0     885\n",
       "9.0     882\n",
       "6.0     881\n",
       "10.0    446\n",
       "0.0     382\n",
       "Name: tenure, dtype: int64"
      ]
     },
     "execution_count": 8,
     "metadata": {},
     "output_type": "execute_result"
    }
   ],
   "source": [
    "df['tenure'].value_counts()"
   ]
  },
  {
   "cell_type": "markdown",
   "metadata": {},
   "source": [
    "В стобце содержатся значения лет от 0 до 10 - сколько времени человек является клиентом банка. Выведем на экран часть строк с пропусками в столбце 'tenure' для визуального анализа:"
   ]
  },
  {
   "cell_type": "code",
   "execution_count": 9,
   "metadata": {},
   "outputs": [
    {
     "data": {
      "text/html": [
       "<div>\n",
       "<style scoped>\n",
       "    .dataframe tbody tr th:only-of-type {\n",
       "        vertical-align: middle;\n",
       "    }\n",
       "\n",
       "    .dataframe tbody tr th {\n",
       "        vertical-align: top;\n",
       "    }\n",
       "\n",
       "    .dataframe thead th {\n",
       "        text-align: right;\n",
       "    }\n",
       "</style>\n",
       "<table border=\"1\" class=\"dataframe\">\n",
       "  <thead>\n",
       "    <tr style=\"text-align: right;\">\n",
       "      <th></th>\n",
       "      <th>row_number</th>\n",
       "      <th>customer_id</th>\n",
       "      <th>surname</th>\n",
       "      <th>credit_score</th>\n",
       "      <th>geography</th>\n",
       "      <th>gender</th>\n",
       "      <th>age</th>\n",
       "      <th>tenure</th>\n",
       "      <th>balance</th>\n",
       "      <th>num_of_products</th>\n",
       "      <th>has_cr_card</th>\n",
       "      <th>is_active_member</th>\n",
       "      <th>estimated_salary</th>\n",
       "      <th>exited</th>\n",
       "    </tr>\n",
       "  </thead>\n",
       "  <tbody>\n",
       "    <tr>\n",
       "      <td>30</td>\n",
       "      <td>31</td>\n",
       "      <td>15589475</td>\n",
       "      <td>Azikiwe</td>\n",
       "      <td>591</td>\n",
       "      <td>Spain</td>\n",
       "      <td>Female</td>\n",
       "      <td>39</td>\n",
       "      <td>NaN</td>\n",
       "      <td>0.00</td>\n",
       "      <td>3</td>\n",
       "      <td>1</td>\n",
       "      <td>0</td>\n",
       "      <td>140469.38</td>\n",
       "      <td>1</td>\n",
       "    </tr>\n",
       "    <tr>\n",
       "      <td>48</td>\n",
       "      <td>49</td>\n",
       "      <td>15766205</td>\n",
       "      <td>Yin</td>\n",
       "      <td>550</td>\n",
       "      <td>Germany</td>\n",
       "      <td>Male</td>\n",
       "      <td>38</td>\n",
       "      <td>NaN</td>\n",
       "      <td>103391.38</td>\n",
       "      <td>1</td>\n",
       "      <td>0</td>\n",
       "      <td>1</td>\n",
       "      <td>90878.13</td>\n",
       "      <td>0</td>\n",
       "    </tr>\n",
       "    <tr>\n",
       "      <td>51</td>\n",
       "      <td>52</td>\n",
       "      <td>15768193</td>\n",
       "      <td>Trevisani</td>\n",
       "      <td>585</td>\n",
       "      <td>Germany</td>\n",
       "      <td>Male</td>\n",
       "      <td>36</td>\n",
       "      <td>NaN</td>\n",
       "      <td>146050.97</td>\n",
       "      <td>2</td>\n",
       "      <td>0</td>\n",
       "      <td>0</td>\n",
       "      <td>86424.57</td>\n",
       "      <td>0</td>\n",
       "    </tr>\n",
       "    <tr>\n",
       "      <td>53</td>\n",
       "      <td>54</td>\n",
       "      <td>15702298</td>\n",
       "      <td>Parkhill</td>\n",
       "      <td>655</td>\n",
       "      <td>Germany</td>\n",
       "      <td>Male</td>\n",
       "      <td>41</td>\n",
       "      <td>NaN</td>\n",
       "      <td>125561.97</td>\n",
       "      <td>1</td>\n",
       "      <td>0</td>\n",
       "      <td>0</td>\n",
       "      <td>164040.94</td>\n",
       "      <td>1</td>\n",
       "    </tr>\n",
       "    <tr>\n",
       "      <td>60</td>\n",
       "      <td>61</td>\n",
       "      <td>15651280</td>\n",
       "      <td>Hunter</td>\n",
       "      <td>742</td>\n",
       "      <td>Germany</td>\n",
       "      <td>Male</td>\n",
       "      <td>35</td>\n",
       "      <td>NaN</td>\n",
       "      <td>136857.00</td>\n",
       "      <td>1</td>\n",
       "      <td>0</td>\n",
       "      <td>0</td>\n",
       "      <td>84509.57</td>\n",
       "      <td>0</td>\n",
       "    </tr>\n",
       "    <tr>\n",
       "      <td>...</td>\n",
       "      <td>...</td>\n",
       "      <td>...</td>\n",
       "      <td>...</td>\n",
       "      <td>...</td>\n",
       "      <td>...</td>\n",
       "      <td>...</td>\n",
       "      <td>...</td>\n",
       "      <td>...</td>\n",
       "      <td>...</td>\n",
       "      <td>...</td>\n",
       "      <td>...</td>\n",
       "      <td>...</td>\n",
       "      <td>...</td>\n",
       "      <td>...</td>\n",
       "    </tr>\n",
       "    <tr>\n",
       "      <td>9944</td>\n",
       "      <td>9945</td>\n",
       "      <td>15703923</td>\n",
       "      <td>Cameron</td>\n",
       "      <td>744</td>\n",
       "      <td>Germany</td>\n",
       "      <td>Male</td>\n",
       "      <td>41</td>\n",
       "      <td>NaN</td>\n",
       "      <td>190409.34</td>\n",
       "      <td>2</td>\n",
       "      <td>1</td>\n",
       "      <td>1</td>\n",
       "      <td>138361.48</td>\n",
       "      <td>0</td>\n",
       "    </tr>\n",
       "    <tr>\n",
       "      <td>9956</td>\n",
       "      <td>9957</td>\n",
       "      <td>15707861</td>\n",
       "      <td>Nucci</td>\n",
       "      <td>520</td>\n",
       "      <td>France</td>\n",
       "      <td>Female</td>\n",
       "      <td>46</td>\n",
       "      <td>NaN</td>\n",
       "      <td>85216.61</td>\n",
       "      <td>1</td>\n",
       "      <td>1</td>\n",
       "      <td>0</td>\n",
       "      <td>117369.52</td>\n",
       "      <td>1</td>\n",
       "    </tr>\n",
       "    <tr>\n",
       "      <td>9964</td>\n",
       "      <td>9965</td>\n",
       "      <td>15642785</td>\n",
       "      <td>Douglas</td>\n",
       "      <td>479</td>\n",
       "      <td>France</td>\n",
       "      <td>Male</td>\n",
       "      <td>34</td>\n",
       "      <td>NaN</td>\n",
       "      <td>117593.48</td>\n",
       "      <td>2</td>\n",
       "      <td>0</td>\n",
       "      <td>0</td>\n",
       "      <td>113308.29</td>\n",
       "      <td>0</td>\n",
       "    </tr>\n",
       "    <tr>\n",
       "      <td>9985</td>\n",
       "      <td>9986</td>\n",
       "      <td>15586914</td>\n",
       "      <td>Nepean</td>\n",
       "      <td>659</td>\n",
       "      <td>France</td>\n",
       "      <td>Male</td>\n",
       "      <td>36</td>\n",
       "      <td>NaN</td>\n",
       "      <td>123841.49</td>\n",
       "      <td>2</td>\n",
       "      <td>1</td>\n",
       "      <td>0</td>\n",
       "      <td>96833.00</td>\n",
       "      <td>0</td>\n",
       "    </tr>\n",
       "    <tr>\n",
       "      <td>9999</td>\n",
       "      <td>10000</td>\n",
       "      <td>15628319</td>\n",
       "      <td>Walker</td>\n",
       "      <td>792</td>\n",
       "      <td>France</td>\n",
       "      <td>Female</td>\n",
       "      <td>28</td>\n",
       "      <td>NaN</td>\n",
       "      <td>130142.79</td>\n",
       "      <td>1</td>\n",
       "      <td>1</td>\n",
       "      <td>0</td>\n",
       "      <td>38190.78</td>\n",
       "      <td>0</td>\n",
       "    </tr>\n",
       "  </tbody>\n",
       "</table>\n",
       "<p>909 rows × 14 columns</p>\n",
       "</div>"
      ],
      "text/plain": [
       "      row_number  customer_id    surname  credit_score geography  gender  age  \\\n",
       "30            31     15589475    Azikiwe           591     Spain  Female   39   \n",
       "48            49     15766205        Yin           550   Germany    Male   38   \n",
       "51            52     15768193  Trevisani           585   Germany    Male   36   \n",
       "53            54     15702298   Parkhill           655   Germany    Male   41   \n",
       "60            61     15651280     Hunter           742   Germany    Male   35   \n",
       "...          ...          ...        ...           ...       ...     ...  ...   \n",
       "9944        9945     15703923    Cameron           744   Germany    Male   41   \n",
       "9956        9957     15707861      Nucci           520    France  Female   46   \n",
       "9964        9965     15642785    Douglas           479    France    Male   34   \n",
       "9985        9986     15586914     Nepean           659    France    Male   36   \n",
       "9999       10000     15628319     Walker           792    France  Female   28   \n",
       "\n",
       "      tenure    balance  num_of_products  has_cr_card  is_active_member  \\\n",
       "30       NaN       0.00                3            1                 0   \n",
       "48       NaN  103391.38                1            0                 1   \n",
       "51       NaN  146050.97                2            0                 0   \n",
       "53       NaN  125561.97                1            0                 0   \n",
       "60       NaN  136857.00                1            0                 0   \n",
       "...      ...        ...              ...          ...               ...   \n",
       "9944     NaN  190409.34                2            1                 1   \n",
       "9956     NaN   85216.61                1            1                 0   \n",
       "9964     NaN  117593.48                2            0                 0   \n",
       "9985     NaN  123841.49                2            1                 0   \n",
       "9999     NaN  130142.79                1            1                 0   \n",
       "\n",
       "      estimated_salary  exited  \n",
       "30           140469.38       1  \n",
       "48            90878.13       0  \n",
       "51            86424.57       0  \n",
       "53           164040.94       1  \n",
       "60            84509.57       0  \n",
       "...                ...     ...  \n",
       "9944         138361.48       0  \n",
       "9956         117369.52       1  \n",
       "9964         113308.29       0  \n",
       "9985          96833.00       0  \n",
       "9999          38190.78       0  \n",
       "\n",
       "[909 rows x 14 columns]"
      ]
     },
     "execution_count": 9,
     "metadata": {},
     "output_type": "execute_result"
    }
   ],
   "source": [
    "df[df['tenure'].isnull()]"
   ]
  },
  {
   "cell_type": "markdown",
   "metadata": {
    "scrolled": true
   },
   "source": [
    "**Вывод.** Пропуски в столбце 'tenure' расположены без какой-либо зависимости: это люди разного возраста и пола, живущие в разных странах и имеющую разную активность взаимодействия с банком. Из этих данных следует, что \"время общения\" с банком у каждого клиента может быть любое - это практически случайная величина в диапазоне от 0 до 10 лет включительно.  \n",
    "Поэтому принимаем решение: заполнить пропуски с помощью генератора случайных чисел. Для этого создадим объект Series tenure_random методом random.randint(). Для фиксации случайных значений применим метод  random.seed()."
   ]
  },
  {
   "cell_type": "code",
   "execution_count": 10,
   "metadata": {},
   "outputs": [],
   "source": [
    "np.random.seed(2)\n",
    "tenure_random = pd.Series(np.random.randint(0, 11, 10000))"
   ]
  },
  {
   "cell_type": "code",
   "execution_count": 11,
   "metadata": {
    "scrolled": false
   },
   "outputs": [
    {
     "data": {
      "text/plain": [
       "0       8\n",
       "1       8\n",
       "2       6\n",
       "3       2\n",
       "4       8\n",
       "       ..\n",
       "9995    8\n",
       "9996    9\n",
       "9997    3\n",
       "9998    9\n",
       "9999    3\n",
       "Length: 10000, dtype: int64"
      ]
     },
     "execution_count": 11,
     "metadata": {},
     "output_type": "execute_result"
    }
   ],
   "source": [
    "tenure_random # проверка"
   ]
  },
  {
   "cell_type": "markdown",
   "metadata": {},
   "source": [
    "Заполним пропуски с помощью созданного объекта tenure_random:"
   ]
  },
  {
   "cell_type": "code",
   "execution_count": 12,
   "metadata": {},
   "outputs": [],
   "source": [
    "df['tenure'] = df['tenure'].fillna(tenure_random)"
   ]
  },
  {
   "cell_type": "markdown",
   "metadata": {},
   "source": [
    "Визуально проверим выполненное заполнение, для этого выведем на экран несколько строк с индексами, зафиксированными в момент просмотра строк с пропусками:"
   ]
  },
  {
   "cell_type": "code",
   "execution_count": 13,
   "metadata": {},
   "outputs": [
    {
     "data": {
      "text/html": [
       "<div>\n",
       "<style scoped>\n",
       "    .dataframe tbody tr th:only-of-type {\n",
       "        vertical-align: middle;\n",
       "    }\n",
       "\n",
       "    .dataframe tbody tr th {\n",
       "        vertical-align: top;\n",
       "    }\n",
       "\n",
       "    .dataframe thead th {\n",
       "        text-align: right;\n",
       "    }\n",
       "</style>\n",
       "<table border=\"1\" class=\"dataframe\">\n",
       "  <thead>\n",
       "    <tr style=\"text-align: right;\">\n",
       "      <th></th>\n",
       "      <th>row_number</th>\n",
       "      <th>customer_id</th>\n",
       "      <th>surname</th>\n",
       "      <th>credit_score</th>\n",
       "      <th>geography</th>\n",
       "      <th>gender</th>\n",
       "      <th>age</th>\n",
       "      <th>tenure</th>\n",
       "      <th>balance</th>\n",
       "      <th>num_of_products</th>\n",
       "      <th>has_cr_card</th>\n",
       "      <th>is_active_member</th>\n",
       "      <th>estimated_salary</th>\n",
       "      <th>exited</th>\n",
       "    </tr>\n",
       "  </thead>\n",
       "  <tbody>\n",
       "    <tr>\n",
       "      <td>30</td>\n",
       "      <td>31</td>\n",
       "      <td>15589475</td>\n",
       "      <td>Azikiwe</td>\n",
       "      <td>591</td>\n",
       "      <td>Spain</td>\n",
       "      <td>Female</td>\n",
       "      <td>39</td>\n",
       "      <td>9.0</td>\n",
       "      <td>0.00</td>\n",
       "      <td>3</td>\n",
       "      <td>1</td>\n",
       "      <td>0</td>\n",
       "      <td>140469.38</td>\n",
       "      <td>1</td>\n",
       "    </tr>\n",
       "    <tr>\n",
       "      <td>48</td>\n",
       "      <td>49</td>\n",
       "      <td>15766205</td>\n",
       "      <td>Yin</td>\n",
       "      <td>550</td>\n",
       "      <td>Germany</td>\n",
       "      <td>Male</td>\n",
       "      <td>38</td>\n",
       "      <td>10.0</td>\n",
       "      <td>103391.38</td>\n",
       "      <td>1</td>\n",
       "      <td>0</td>\n",
       "      <td>1</td>\n",
       "      <td>90878.13</td>\n",
       "      <td>0</td>\n",
       "    </tr>\n",
       "    <tr>\n",
       "      <td>51</td>\n",
       "      <td>52</td>\n",
       "      <td>15768193</td>\n",
       "      <td>Trevisani</td>\n",
       "      <td>585</td>\n",
       "      <td>Germany</td>\n",
       "      <td>Male</td>\n",
       "      <td>36</td>\n",
       "      <td>9.0</td>\n",
       "      <td>146050.97</td>\n",
       "      <td>2</td>\n",
       "      <td>0</td>\n",
       "      <td>0</td>\n",
       "      <td>86424.57</td>\n",
       "      <td>0</td>\n",
       "    </tr>\n",
       "    <tr>\n",
       "      <td>9964</td>\n",
       "      <td>9965</td>\n",
       "      <td>15642785</td>\n",
       "      <td>Douglas</td>\n",
       "      <td>479</td>\n",
       "      <td>France</td>\n",
       "      <td>Male</td>\n",
       "      <td>34</td>\n",
       "      <td>10.0</td>\n",
       "      <td>117593.48</td>\n",
       "      <td>2</td>\n",
       "      <td>0</td>\n",
       "      <td>0</td>\n",
       "      <td>113308.29</td>\n",
       "      <td>0</td>\n",
       "    </tr>\n",
       "    <tr>\n",
       "      <td>9985</td>\n",
       "      <td>9986</td>\n",
       "      <td>15586914</td>\n",
       "      <td>Nepean</td>\n",
       "      <td>659</td>\n",
       "      <td>France</td>\n",
       "      <td>Male</td>\n",
       "      <td>36</td>\n",
       "      <td>9.0</td>\n",
       "      <td>123841.49</td>\n",
       "      <td>2</td>\n",
       "      <td>1</td>\n",
       "      <td>0</td>\n",
       "      <td>96833.00</td>\n",
       "      <td>0</td>\n",
       "    </tr>\n",
       "    <tr>\n",
       "      <td>9999</td>\n",
       "      <td>10000</td>\n",
       "      <td>15628319</td>\n",
       "      <td>Walker</td>\n",
       "      <td>792</td>\n",
       "      <td>France</td>\n",
       "      <td>Female</td>\n",
       "      <td>28</td>\n",
       "      <td>3.0</td>\n",
       "      <td>130142.79</td>\n",
       "      <td>1</td>\n",
       "      <td>1</td>\n",
       "      <td>0</td>\n",
       "      <td>38190.78</td>\n",
       "      <td>0</td>\n",
       "    </tr>\n",
       "  </tbody>\n",
       "</table>\n",
       "</div>"
      ],
      "text/plain": [
       "      row_number  customer_id    surname  credit_score geography  gender  age  \\\n",
       "30            31     15589475    Azikiwe           591     Spain  Female   39   \n",
       "48            49     15766205        Yin           550   Germany    Male   38   \n",
       "51            52     15768193  Trevisani           585   Germany    Male   36   \n",
       "9964        9965     15642785    Douglas           479    France    Male   34   \n",
       "9985        9986     15586914     Nepean           659    France    Male   36   \n",
       "9999       10000     15628319     Walker           792    France  Female   28   \n",
       "\n",
       "      tenure    balance  num_of_products  has_cr_card  is_active_member  \\\n",
       "30       9.0       0.00                3            1                 0   \n",
       "48      10.0  103391.38                1            0                 1   \n",
       "51       9.0  146050.97                2            0                 0   \n",
       "9964    10.0  117593.48                2            0                 0   \n",
       "9985     9.0  123841.49                2            1                 0   \n",
       "9999     3.0  130142.79                1            1                 0   \n",
       "\n",
       "      estimated_salary  exited  \n",
       "30           140469.38       1  \n",
       "48            90878.13       0  \n",
       "51            86424.57       0  \n",
       "9964         113308.29       0  \n",
       "9985          96833.00       0  \n",
       "9999          38190.78       0  "
      ]
     },
     "execution_count": 13,
     "metadata": {},
     "output_type": "execute_result"
    }
   ],
   "source": [
    "df.loc[[30, 48, 51, 9964, 9985, 9999], :]"
   ]
  },
  {
   "cell_type": "code",
   "execution_count": 14,
   "metadata": {
    "scrolled": true
   },
   "outputs": [
    {
     "name": "stdout",
     "output_type": "stream",
     "text": [
      "<class 'pandas.core.frame.DataFrame'>\n",
      "RangeIndex: 10000 entries, 0 to 9999\n",
      "Data columns (total 14 columns):\n",
      "row_number          10000 non-null int64\n",
      "customer_id         10000 non-null int64\n",
      "surname             10000 non-null object\n",
      "credit_score        10000 non-null int64\n",
      "geography           10000 non-null object\n",
      "gender              10000 non-null object\n",
      "age                 10000 non-null int64\n",
      "tenure              10000 non-null float64\n",
      "balance             10000 non-null float64\n",
      "num_of_products     10000 non-null int64\n",
      "has_cr_card         10000 non-null int64\n",
      "is_active_member    10000 non-null int64\n",
      "estimated_salary    10000 non-null float64\n",
      "exited              10000 non-null int64\n",
      "dtypes: float64(3), int64(8), object(3)\n",
      "memory usage: 1.1+ MB\n"
     ]
    }
   ],
   "source": [
    "df.info() # проверка заполнения пропусков"
   ]
  },
  {
   "cell_type": "markdown",
   "metadata": {},
   "source": [
    "**Вывод.** Пропуски заполнены.\n",
    "\n",
    "В датафрейме имеются данные, которые не нужны для обучения модели. Это идентификация клиента банка: его номер, номер строки и фамилия. С точки зрения обучения модели эти данные будут лишними, они не несут никакой информации, полезной с точки зрения анализа поведения клиента.  \n",
    "Принимаем решение: для дальнейшей работы создадим новый датафрейм data без лишних данных. В случае необходимости клиента можно будет идентифицировать по первичному датафрейму df."
   ]
  },
  {
   "cell_type": "code",
   "execution_count": 6,
   "metadata": {},
   "outputs": [],
   "source": [
    "data = df.drop(['row_number', 'customer_id', 'surname'], axis=1)"
   ]
  },
  {
   "cell_type": "markdown",
   "metadata": {},
   "source": [
    "Проверим столбцы 'geography' и 'exited' на наличие некорректных значений:"
   ]
  },
  {
   "cell_type": "code",
   "execution_count": 16,
   "metadata": {},
   "outputs": [
    {
     "data": {
      "text/plain": [
       "France     5014\n",
       "Germany    2509\n",
       "Spain      2477\n",
       "Name: geography, dtype: int64"
      ]
     },
     "execution_count": 16,
     "metadata": {},
     "output_type": "execute_result"
    }
   ],
   "source": [
    "data['geography'].value_counts()"
   ]
  },
  {
   "cell_type": "code",
   "execution_count": 7,
   "metadata": {
    "scrolled": true
   },
   "outputs": [
    {
     "data": {
      "text/plain": [
       "0    7963\n",
       "1    2037\n",
       "Name: exited, dtype: int64"
      ]
     },
     "execution_count": 7,
     "metadata": {},
     "output_type": "execute_result"
    }
   ],
   "source": [
    "data['exited'].value_counts()"
   ]
  },
  {
   "cell_type": "markdown",
   "metadata": {},
   "source": [
    "**Вывод.** В столбцах 'geography' и 'exited' содержится только корректная информация: три страны проживания клиентов и два статуса, говорящих ушёл клиент из банка или нет."
   ]
  },
  {
   "cell_type": "markdown",
   "metadata": {},
   "source": [
    "### Кодирование"
   ]
  },
  {
   "cell_type": "markdown",
   "metadata": {},
   "source": [
    "Применим прямое кодирование категориальных признаков с помощью метода pd.get_dummies():"
   ]
  },
  {
   "cell_type": "code",
   "execution_count": 18,
   "metadata": {},
   "outputs": [],
   "source": [
    "data = pd.get_dummies(data, drop_first=True)"
   ]
  },
  {
   "cell_type": "markdown",
   "metadata": {},
   "source": [
    "### Выделение целевого признака target и признаков для обучения features"
   ]
  },
  {
   "cell_type": "code",
   "execution_count": 19,
   "metadata": {},
   "outputs": [],
   "source": [
    "target = data['exited']\n",
    "features = data.drop(['exited'] , axis=1)"
   ]
  },
  {
   "cell_type": "code",
   "execution_count": null,
   "metadata": {},
   "outputs": [],
   "source": [
    "data['exited'].value_counts()"
   ]
  },
  {
   "cell_type": "markdown",
   "metadata": {},
   "source": [
    "### Разделение выборки на обучающую (train), валидационную (valid) и тестовую (test)"
   ]
  },
  {
   "cell_type": "markdown",
   "metadata": {},
   "source": [
    "Дважды последовательно применим метод train_test_split() - сначала выделим валидационную выборку, а из оставшейся части сделаем обучающую и тестовую - в итоге получим три выборки в соотношении 3:1:1:"
   ]
  },
  {
   "cell_type": "code",
   "execution_count": 20,
   "metadata": {},
   "outputs": [],
   "source": [
    "features_train_test, features_valid, target_train_test, target_valid = train_test_split(\n",
    "    features, target, test_size=0.20, random_state=12345)"
   ]
  },
  {
   "cell_type": "code",
   "execution_count": 21,
   "metadata": {},
   "outputs": [],
   "source": [
    "features_train, features_test, target_train, target_test = train_test_split(\n",
    "    features, target, test_size=0.25, random_state=12345)"
   ]
  },
  {
   "cell_type": "markdown",
   "metadata": {},
   "source": [
    "### Масштабирование признаков"
   ]
  },
  {
   "cell_type": "markdown",
   "metadata": {},
   "source": [
    "Отмасштабируем все количественные признаки с помощью StandardScaler(). Для этого выделим такие признаки в список numeric:"
   ]
  },
  {
   "cell_type": "code",
   "execution_count": 22,
   "metadata": {},
   "outputs": [],
   "source": [
    "numeric = ['credit_score', 'age', 'tenure', 'balance', 'num_of_products', 'estimated_salary']\n",
    "\n",
    "scaler = StandardScaler()\n",
    "scaler.fit(features_train[numeric])\n",
    "\n",
    "features_train[numeric] = scaler.transform(features_train[numeric])\n",
    "features_valid[numeric] = scaler.transform(features_valid[numeric])\n",
    "features_test[numeric] = scaler.transform(features_test[numeric])"
   ]
  },
  {
   "cell_type": "code",
   "execution_count": 23,
   "metadata": {},
   "outputs": [
    {
     "data": {
      "text/html": [
       "<div>\n",
       "<style scoped>\n",
       "    .dataframe tbody tr th:only-of-type {\n",
       "        vertical-align: middle;\n",
       "    }\n",
       "\n",
       "    .dataframe tbody tr th {\n",
       "        vertical-align: top;\n",
       "    }\n",
       "\n",
       "    .dataframe thead th {\n",
       "        text-align: right;\n",
       "    }\n",
       "</style>\n",
       "<table border=\"1\" class=\"dataframe\">\n",
       "  <thead>\n",
       "    <tr style=\"text-align: right;\">\n",
       "      <th></th>\n",
       "      <th>credit_score</th>\n",
       "      <th>age</th>\n",
       "      <th>tenure</th>\n",
       "      <th>balance</th>\n",
       "      <th>num_of_products</th>\n",
       "      <th>has_cr_card</th>\n",
       "      <th>is_active_member</th>\n",
       "      <th>estimated_salary</th>\n",
       "      <th>geography_Germany</th>\n",
       "      <th>geography_Spain</th>\n",
       "      <th>gender_Male</th>\n",
       "    </tr>\n",
       "  </thead>\n",
       "  <tbody>\n",
       "    <tr>\n",
       "      <td>226</td>\n",
       "      <td>0.442805</td>\n",
       "      <td>-0.841274</td>\n",
       "      <td>1.354189</td>\n",
       "      <td>-1.224577</td>\n",
       "      <td>0.817772</td>\n",
       "      <td>1</td>\n",
       "      <td>1</td>\n",
       "      <td>-1.269750</td>\n",
       "      <td>0</td>\n",
       "      <td>0</td>\n",
       "      <td>0</td>\n",
       "    </tr>\n",
       "    <tr>\n",
       "      <td>7756</td>\n",
       "      <td>-0.310897</td>\n",
       "      <td>-0.270730</td>\n",
       "      <td>0.669495</td>\n",
       "      <td>0.641783</td>\n",
       "      <td>-0.896874</td>\n",
       "      <td>1</td>\n",
       "      <td>1</td>\n",
       "      <td>0.960396</td>\n",
       "      <td>0</td>\n",
       "      <td>1</td>\n",
       "      <td>0</td>\n",
       "    </tr>\n",
       "    <tr>\n",
       "      <td>2065</td>\n",
       "      <td>-0.259274</td>\n",
       "      <td>-0.556002</td>\n",
       "      <td>1.011842</td>\n",
       "      <td>-1.224577</td>\n",
       "      <td>0.817772</td>\n",
       "      <td>1</td>\n",
       "      <td>0</td>\n",
       "      <td>0.661864</td>\n",
       "      <td>0</td>\n",
       "      <td>0</td>\n",
       "      <td>1</td>\n",
       "    </tr>\n",
       "    <tr>\n",
       "      <td>2800</td>\n",
       "      <td>1.217157</td>\n",
       "      <td>1.155631</td>\n",
       "      <td>1.354189</td>\n",
       "      <td>1.290462</td>\n",
       "      <td>0.817772</td>\n",
       "      <td>1</td>\n",
       "      <td>0</td>\n",
       "      <td>-1.039476</td>\n",
       "      <td>0</td>\n",
       "      <td>0</td>\n",
       "      <td>1</td>\n",
       "    </tr>\n",
       "    <tr>\n",
       "      <td>7028</td>\n",
       "      <td>0.690598</td>\n",
       "      <td>-1.221637</td>\n",
       "      <td>0.327147</td>\n",
       "      <td>1.142121</td>\n",
       "      <td>-0.896874</td>\n",
       "      <td>0</td>\n",
       "      <td>0</td>\n",
       "      <td>-0.851729</td>\n",
       "      <td>1</td>\n",
       "      <td>0</td>\n",
       "      <td>1</td>\n",
       "    </tr>\n",
       "    <tr>\n",
       "      <td>...</td>\n",
       "      <td>...</td>\n",
       "      <td>...</td>\n",
       "      <td>...</td>\n",
       "      <td>...</td>\n",
       "      <td>...</td>\n",
       "      <td>...</td>\n",
       "      <td>...</td>\n",
       "      <td>...</td>\n",
       "      <td>...</td>\n",
       "      <td>...</td>\n",
       "      <td>...</td>\n",
       "    </tr>\n",
       "    <tr>\n",
       "      <td>4478</td>\n",
       "      <td>-1.054275</td>\n",
       "      <td>-0.746183</td>\n",
       "      <td>-0.357548</td>\n",
       "      <td>-1.224577</td>\n",
       "      <td>0.817772</td>\n",
       "      <td>0</td>\n",
       "      <td>1</td>\n",
       "      <td>-1.291837</td>\n",
       "      <td>0</td>\n",
       "      <td>0</td>\n",
       "      <td>1</td>\n",
       "    </tr>\n",
       "    <tr>\n",
       "      <td>4094</td>\n",
       "      <td>-1.425964</td>\n",
       "      <td>-0.936365</td>\n",
       "      <td>1.696537</td>\n",
       "      <td>-1.224577</td>\n",
       "      <td>0.817772</td>\n",
       "      <td>0</td>\n",
       "      <td>1</td>\n",
       "      <td>-1.294782</td>\n",
       "      <td>0</td>\n",
       "      <td>0</td>\n",
       "      <td>1</td>\n",
       "    </tr>\n",
       "    <tr>\n",
       "      <td>3492</td>\n",
       "      <td>0.040142</td>\n",
       "      <td>0.585087</td>\n",
       "      <td>0.669495</td>\n",
       "      <td>-0.304909</td>\n",
       "      <td>-0.896874</td>\n",
       "      <td>0</td>\n",
       "      <td>1</td>\n",
       "      <td>-0.916678</td>\n",
       "      <td>0</td>\n",
       "      <td>0</td>\n",
       "      <td>0</td>\n",
       "    </tr>\n",
       "    <tr>\n",
       "      <td>2177</td>\n",
       "      <td>0.164039</td>\n",
       "      <td>-1.411819</td>\n",
       "      <td>-0.357548</td>\n",
       "      <td>-1.224577</td>\n",
       "      <td>0.817772</td>\n",
       "      <td>0</td>\n",
       "      <td>1</td>\n",
       "      <td>-1.142032</td>\n",
       "      <td>0</td>\n",
       "      <td>0</td>\n",
       "      <td>0</td>\n",
       "    </tr>\n",
       "    <tr>\n",
       "      <td>4578</td>\n",
       "      <td>0.411831</td>\n",
       "      <td>-0.080548</td>\n",
       "      <td>-1.384590</td>\n",
       "      <td>-1.224577</td>\n",
       "      <td>0.817772</td>\n",
       "      <td>0</td>\n",
       "      <td>0</td>\n",
       "      <td>-0.963356</td>\n",
       "      <td>0</td>\n",
       "      <td>0</td>\n",
       "      <td>1</td>\n",
       "    </tr>\n",
       "  </tbody>\n",
       "</table>\n",
       "<p>7500 rows × 11 columns</p>\n",
       "</div>"
      ],
      "text/plain": [
       "      credit_score       age    tenure   balance  num_of_products  \\\n",
       "226       0.442805 -0.841274  1.354189 -1.224577         0.817772   \n",
       "7756     -0.310897 -0.270730  0.669495  0.641783        -0.896874   \n",
       "2065     -0.259274 -0.556002  1.011842 -1.224577         0.817772   \n",
       "2800      1.217157  1.155631  1.354189  1.290462         0.817772   \n",
       "7028      0.690598 -1.221637  0.327147  1.142121        -0.896874   \n",
       "...            ...       ...       ...       ...              ...   \n",
       "4478     -1.054275 -0.746183 -0.357548 -1.224577         0.817772   \n",
       "4094     -1.425964 -0.936365  1.696537 -1.224577         0.817772   \n",
       "3492      0.040142  0.585087  0.669495 -0.304909        -0.896874   \n",
       "2177      0.164039 -1.411819 -0.357548 -1.224577         0.817772   \n",
       "4578      0.411831 -0.080548 -1.384590 -1.224577         0.817772   \n",
       "\n",
       "      has_cr_card  is_active_member  estimated_salary  geography_Germany  \\\n",
       "226             1                 1         -1.269750                  0   \n",
       "7756            1                 1          0.960396                  0   \n",
       "2065            1                 0          0.661864                  0   \n",
       "2800            1                 0         -1.039476                  0   \n",
       "7028            0                 0         -0.851729                  1   \n",
       "...           ...               ...               ...                ...   \n",
       "4478            0                 1         -1.291837                  0   \n",
       "4094            0                 1         -1.294782                  0   \n",
       "3492            0                 1         -0.916678                  0   \n",
       "2177            0                 1         -1.142032                  0   \n",
       "4578            0                 0         -0.963356                  0   \n",
       "\n",
       "      geography_Spain  gender_Male  \n",
       "226                 0            0  \n",
       "7756                1            0  \n",
       "2065                0            1  \n",
       "2800                0            1  \n",
       "7028                0            1  \n",
       "...               ...          ...  \n",
       "4478                0            1  \n",
       "4094                0            1  \n",
       "3492                0            0  \n",
       "2177                0            0  \n",
       "4578                0            1  \n",
       "\n",
       "[7500 rows x 11 columns]"
      ]
     },
     "execution_count": 23,
     "metadata": {},
     "output_type": "execute_result"
    }
   ],
   "source": [
    "features_train # визуальная проверка масштабирования"
   ]
  },
  {
   "cell_type": "markdown",
   "metadata": {},
   "source": [
    "**Вывод по разделу 1.** Выборки разделены на обучающую, валидационную и тестовую в соотношении 3:1:1. Было произведено кодирование и масштабирование признаков, удалены лишние данные, бесполезные для обучения моделей. Признаки готовы к дальнейшему анализу и обучению моделей."
   ]
  },
  {
   "cell_type": "markdown",
   "metadata": {},
   "source": [
    "## Исследование задачи"
   ]
  },
  {
   "cell_type": "markdown",
   "metadata": {},
   "source": [
    "Проверим целевой признак на дисбаланс классов."
   ]
  },
  {
   "cell_type": "code",
   "execution_count": 24,
   "metadata": {
    "scrolled": false
   },
   "outputs": [
    {
     "data": {
      "text/plain": [
       "0    7963\n",
       "1    2037\n",
       "Name: exited, dtype: int64"
      ]
     },
     "execution_count": 24,
     "metadata": {},
     "output_type": "execute_result"
    }
   ],
   "source": [
    "data['exited'].value_counts()"
   ]
  },
  {
   "cell_type": "markdown",
   "metadata": {},
   "source": [
    "Наблюдается соотношение классов 1 к 4. Сначала проверим работу моделей дерева решений (далее - ДР), случайного леса (далее - СЛ) и логистической регрессии (далее - ЛР) без учета дисбаланса классов."
   ]
  },
  {
   "cell_type": "markdown",
   "metadata": {},
   "source": [
    "### Модель ДР без учета дисбаланса"
   ]
  },
  {
   "cell_type": "markdown",
   "metadata": {},
   "source": [
    "Для модели ДР проверим метрику F1 при переборе макимальной глубины дерева в диапазоне от 2 до 20:"
   ]
  },
  {
   "cell_type": "code",
   "execution_count": 25,
   "metadata": {},
   "outputs": [
    {
     "name": "stdout",
     "output_type": "stream",
     "text": [
      "F1 лучшей модели: 0.5665\n",
      "Глубина дерева лучшей модели: 5\n"
     ]
    }
   ],
   "source": [
    "best_model_tree = None\n",
    "best_result_tree = 0\n",
    "best_depth_tree = 0\n",
    "\n",
    "for depth in range(2, 21):\n",
    "    model = DecisionTreeClassifier(random_state=12345, max_depth=depth)\n",
    "    model.fit(features_train, target_train) # обучим модель\n",
    "    predicted_valid = model.predict(features_valid) # получим предсказания модели\n",
    "    result_f1 = f1_score(target_valid, predicted_valid)\n",
    "        \n",
    "    if result_f1 > best_result_tree:\n",
    "        best_depth_tree = depth\n",
    "        best_model_tree = model\n",
    "        best_result_tree = result_f1\n",
    "\n",
    "print('F1 лучшей модели: {:.4f}'.format(best_result_tree))\n",
    "print('Глубина дерева лучшей модели:', best_depth_tree)\n"
   ]
  },
  {
   "cell_type": "markdown",
   "metadata": {},
   "source": [
    "### Модель СЛ без учета дисбаланса"
   ]
  },
  {
   "cell_type": "markdown",
   "metadata": {},
   "source": [
    "Для модели СЛ проверим метрику F1 при переборе сочетаний макимальной глубины дерева в диапазоне от 2 до 24 и количества деревьев в диапазоне от 20 до 40:"
   ]
  },
  {
   "cell_type": "code",
   "execution_count": 26,
   "metadata": {},
   "outputs": [
    {
     "name": "stdout",
     "output_type": "stream",
     "text": [
      "F1 лучшей модели: 0.5804\n",
      "Количество деревьев лучшей модели: 36\n",
      "Максимальная глубина дерева лучшей модели: 14\n"
     ]
    }
   ],
   "source": [
    "best_model_rf = None\n",
    "best_result_rf = 0\n",
    "best_depth_rf = 0\n",
    "best_max_depth = 0\n",
    "\n",
    "for est in range(20, 40):\n",
    "    for depth in range(2, 25):\n",
    "        model = RandomForestClassifier(random_state=12345, n_estimators=est, max_depth=depth)\n",
    "        model.fit(features_train, target_train) # обучим модель\n",
    "        predicted_valid = model.predict(features_valid) # получим предсказания модели\n",
    "        result_rf = f1_score(target_valid, predicted_valid)\n",
    "        \n",
    "        if result_rf > best_result_rf:\n",
    "            n_estimators_best = est\n",
    "            best_model_rf = model\n",
    "            best_result_rf = result_rf\n",
    "            best_max_depth = depth\n",
    "\n",
    "print('F1 лучшей модели: {:.4f}'.format(best_result_rf))\n",
    "print('Количество деревьев лучшей модели:', n_estimators_best)\n",
    "print('Максимальная глубина дерева лучшей модели:', best_max_depth)"
   ]
  },
  {
   "cell_type": "markdown",
   "metadata": {},
   "source": [
    "### Модель ЛР без учета дисбаланса"
   ]
  },
  {
   "cell_type": "code",
   "execution_count": 27,
   "metadata": {},
   "outputs": [
    {
     "name": "stdout",
     "output_type": "stream",
     "text": [
      "F1 модели логистической регрессии: 0.2958\n"
     ]
    }
   ],
   "source": [
    "model_lr = LogisticRegression(random_state=12345, max_iter=1000, solver='liblinear')\n",
    "model_lr.fit(features_train, target_train) # обучим модель\n",
    "predicted_valid = model_lr.predict(features_valid) # получим предсказания модели\n",
    "result_lr = f1_score(target_valid, predicted_valid)\n",
    "\n",
    "print('F1 модели логистической регрессии: {:.4f}'.format(result_lr))"
   ]
  },
  {
   "cell_type": "markdown",
   "metadata": {},
   "source": [
    "**Вывод по разделу 2**. Модели ДР и СЛ немного не соответсвуют поставленной задаче - метрика F1 меньше целевого значения на 4,1% и 1,7% соответственно. Модель ЛР выглядит хуже всего - метрика F1 хуже целевого значения в 2 раза."
   ]
  },
  {
   "cell_type": "markdown",
   "metadata": {},
   "source": [
    "## Борьба с дисбалансом"
   ]
  },
  {
   "cell_type": "markdown",
   "metadata": {},
   "source": [
    "Для борьбы с дисбалансом классов будем применять upsampling (увеличение выборки), downsampling (уменьшение выборки) в сочетании с изменением гиперпараметра class_weight='balanced' для балансировки классов."
   ]
  },
  {
   "cell_type": "markdown",
   "metadata": {},
   "source": [
    "### Модель ДР при class_weight='balanced'"
   ]
  },
  {
   "cell_type": "code",
   "execution_count": 28,
   "metadata": {},
   "outputs": [
    {
     "name": "stdout",
     "output_type": "stream",
     "text": [
      "F1 лучшей модели ДР при class_weight=\"balanced\": 0.6112\n",
      "Глубина дерева лучшей модели: 5\n"
     ]
    }
   ],
   "source": [
    "best_model_tree = None\n",
    "best_result_tree = 0\n",
    "best_depth_tree = 0\n",
    "\n",
    "for depth in range(2, 21):\n",
    "    model = DecisionTreeClassifier(random_state=12345, max_depth=depth, class_weight='balanced')\n",
    "    model.fit(features_train, target_train) # обучим модель\n",
    "    predicted_valid = model.predict(features_valid) # получим предсказания модели\n",
    "    result_f1 = f1_score(target_valid, predicted_valid)\n",
    "        \n",
    "    if result_f1 > best_result_tree:\n",
    "        best_depth_tree = depth\n",
    "        best_model_tree = model\n",
    "        best_result_tree = result_f1\n",
    "\n",
    "print('F1 лучшей модели ДР при class_weight=\"balanced\": {:.4f}'.format(best_result_tree))\n",
    "print('Глубина дерева лучшей модели:', best_depth_tree)"
   ]
  },
  {
   "cell_type": "markdown",
   "metadata": {},
   "source": [
    "**Вывод**. Модель ДР при изменении гиперпараметра class_weight на 'balanced' уже достигает целевого значения метрики F1.  \n",
    "Однако ниже, не останавливаясь на достигнутом, проверим, можно ли ещё улучшить качество модели."
   ]
  },
  {
   "cell_type": "markdown",
   "metadata": {},
   "source": [
    "### Модель ДР + upsampling"
   ]
  },
  {
   "cell_type": "markdown",
   "metadata": {},
   "source": [
    "Применим upsampling для модели ДР с найденным ранее оптимальным значением max_depth=5, перебирая  число повторений n_repeats в диапазоне от 1 до 6. Применим перемешивание признаков после добавления данных с помощью метода shuffle().\n",
    "\n",
    "Выведем на экран значения метрики F1 при разных значениях n_repeats и зафиксируем лучшее значение."
   ]
  },
  {
   "cell_type": "code",
   "execution_count": 29,
   "metadata": {},
   "outputs": [
    {
     "name": "stdout",
     "output_type": "stream",
     "text": [
      "F1 модели ДР при выполнении upsampling: 0.5665\n",
      "Число повторений n_repeats: 1\n",
      "F1 модели ДР при выполнении upsampling: 0.5905\n",
      "Число повторений n_repeats: 2\n",
      "F1 модели ДР при выполнении upsampling: 0.6285\n",
      "Число повторений n_repeats: 3\n",
      "F1 модели ДР при выполнении upsampling: 0.6112\n",
      "Число повторений n_repeats: 4\n",
      "F1 модели ДР при выполнении upsampling: 0.5703\n",
      "Число повторений n_repeats: 5\n",
      "F1 модели ДР при выполнении upsampling: 0.5762\n",
      "Число повторений n_repeats: 6\n",
      "\n",
      "---ЛУЧШИЙ РЕЗУЛЬТАТ---\n",
      "F1 лучшей модели ДР при выполнении upsampling: 0.6285\n",
      "Число повторений n_repeats лучшей модели: 3\n"
     ]
    }
   ],
   "source": [
    "best_model_tree = None\n",
    "best_result_tree = 0\n",
    "best_n = 0\n",
    "\n",
    "def upsample(features, target, repeat):\n",
    "    features_zeros = features[target == 0]\n",
    "    features_ones = features[target == 1]\n",
    "    target_zeros = target[target == 0]\n",
    "    target_ones = target[target == 1]\n",
    "\n",
    "    features_upsampled = pd.concat([features_zeros] + [features_ones] * repeat)\n",
    "    target_upsampled = pd.concat([target_zeros] + [target_ones] * repeat)\n",
    "    \n",
    "    features_upsampled, target_upsampled = shuffle(\n",
    "        features_upsampled, target_upsampled, random_state=12345)\n",
    "    \n",
    "    return features_upsampled, target_upsampled\n",
    "\n",
    "for n in range(1, 7):\n",
    "    features_upsampled, target_upsampled = upsample(features_train, target_train, n)\n",
    "    model = DecisionTreeClassifier(random_state=12345, max_depth=5)\n",
    "    model.fit(features_upsampled, target_upsampled) # обучим модель\n",
    "    predicted_valid = model.predict(features_valid) # получим предсказания модели\n",
    "    result_f1 = f1_score(target_valid, predicted_valid)\n",
    "    print('F1 модели ДР при выполнении upsampling: {:.4f}'.format(result_f1))\n",
    "    print('Число повторений n_repeats:', n)\n",
    "    \n",
    "    \n",
    "    if result_f1 > best_result_tree:\n",
    "        best_n = n\n",
    "        best_model_tree = model\n",
    "        best_result_tree = result_f1\n",
    "print('\\n---ЛУЧШИЙ РЕЗУЛЬТАТ---')      \n",
    "print('F1 лучшей модели ДР при выполнении upsampling: {:.4f}'.format(best_result_tree))\n",
    "print('Число повторений n_repeats лучшей модели:', best_n)"
   ]
  },
  {
   "cell_type": "markdown",
   "metadata": {},
   "source": [
    "### Модель ДР + downsampling"
   ]
  },
  {
   "cell_type": "markdown",
   "metadata": {},
   "source": [
    "Применим downsampling для модели ДР с найденным ранее оптимальным значением max_depth=5, перебирая значения параметра fraction в диапазоне от 0,2 до 0,5 с шагом 0,02. Применим перемешивание признаков после уменьшения количества данных с помощью метода shuffle().\n",
    "\n",
    "Выведем на экран значения метрики F1 при разных значениях fraction и зафиксируем лучшее значение."
   ]
  },
  {
   "cell_type": "code",
   "execution_count": 30,
   "metadata": {},
   "outputs": [
    {
     "name": "stdout",
     "output_type": "stream",
     "text": [
      "F1 модели ДР при выполнении downsampling: 0.5705\n",
      "Значение fraction: 0.2\n",
      "F1 модели ДР при выполнении downsampling: 0.5730\n",
      "Значение fraction: 0.22\n",
      "F1 модели ДР при выполнении downsampling: 0.5916\n",
      "Значение fraction: 0.24\n",
      "F1 модели ДР при выполнении downsampling: 0.5926\n",
      "Значение fraction: 0.26\n",
      "F1 модели ДР при выполнении downsampling: 0.5948\n",
      "Значение fraction: 0.27999999999999997\n",
      "F1 модели ДР при выполнении downsampling: 0.5960\n",
      "Значение fraction: 0.29999999999999993\n",
      "F1 модели ДР при выполнении downsampling: 0.6214\n",
      "Значение fraction: 0.31999999999999995\n",
      "F1 модели ДР при выполнении downsampling: 0.6221\n",
      "Значение fraction: 0.33999999999999997\n",
      "F1 модели ДР при выполнении downsampling: 0.6221\n",
      "Значение fraction: 0.35999999999999993\n",
      "F1 модели ДР при выполнении downsampling: 0.6214\n",
      "Значение fraction: 0.3799999999999999\n",
      "F1 модели ДР при выполнении downsampling: 0.6214\n",
      "Значение fraction: 0.3999999999999999\n",
      "F1 модели ДР при выполнении downsampling: 0.6214\n",
      "Значение fraction: 0.41999999999999993\n",
      "F1 модели ДР при выполнении downsampling: 0.6109\n",
      "Значение fraction: 0.4399999999999999\n",
      "F1 модели ДР при выполнении downsampling: 0.5971\n",
      "Значение fraction: 0.4599999999999999\n",
      "F1 модели ДР при выполнении downsampling: 0.5971\n",
      "Значение fraction: 0.47999999999999987\n",
      "\n",
      "---ЛУЧШИЙ РЕЗУЛЬТАТ---\n",
      "F1 лучшей модели ДР при выполнении downsampling: 0.6221\n",
      "Значение fraction лучшей модели: 0.34\n"
     ]
    }
   ],
   "source": [
    "best_model_tree = None\n",
    "best_result_tree = 0\n",
    "best_frac = 0\n",
    "\n",
    "def downsample(features, target, fraction):\n",
    "    features_zeros = features[target == 0]\n",
    "    features_ones = features[target == 1]\n",
    "    target_zeros = target[target == 0]\n",
    "    target_ones = target[target == 1]\n",
    "\n",
    "    features_downsampled = pd.concat(\n",
    "        [features_zeros.sample(frac=fraction, random_state=12345)] + [features_ones])\n",
    "    target_downsampled = pd.concat(\n",
    "        [target_zeros.sample(frac=fraction, random_state=12345)] + [target_ones])\n",
    "    \n",
    "    features_downsampled, target_downsampled = shuffle(\n",
    "        features_downsampled, target_downsampled, random_state=12345)\n",
    "    \n",
    "    return features_downsampled, target_downsampled\n",
    "\n",
    "for frac in np.arange(0.2, 0.5, 0.02):\n",
    "    \n",
    "    features_downsampled, target_downsampled = downsample(features_train, target_train, frac)\n",
    "    model = DecisionTreeClassifier(random_state=12345, max_depth=5)\n",
    "    model.fit(features_downsampled, target_downsampled) # обучим модель\n",
    "    predicted_valid = model.predict(features_valid) # получим предсказания модели\n",
    "    result_f1 = f1_score(target_valid, predicted_valid)\n",
    "    print('F1 модели ДР при выполнении downsampling: {:.4f}'.format(result_f1))\n",
    "    print('Значение fraction:', frac)\n",
    "    \n",
    "    \n",
    "    if result_f1 > best_result_tree:\n",
    "        best_frac = frac\n",
    "        best_model_tree = model\n",
    "        best_result_tree = result_f1\n",
    "        \n",
    "print('\\n---ЛУЧШИЙ РЕЗУЛЬТАТ---')      \n",
    "print('F1 лучшей модели ДР при выполнении downsampling: {:.4f}'.format(best_result_tree))\n",
    "print('Значение fraction лучшей модели: {:.2f}'.format(best_frac))"
   ]
  },
  {
   "cell_type": "markdown",
   "metadata": {},
   "source": [
    "**Вывод.** Для модели модели ДР несколько лучше работает метод upsampling (значение метрики F1 на 1% больше, чем при downsampling). Получено целевое значение метрики: F1 = 0,6285.\n",
    "\n",
    "Сочетание upsampling/downsampling вместе с class_weight='balanced' для модели ДР неэффективно (значения метрики F1 меньше). Код с неудовлетворительными результатами не приводится."
   ]
  },
  {
   "cell_type": "markdown",
   "metadata": {},
   "source": [
    "### Модель СЛ при class_weight='balanced'"
   ]
  },
  {
   "cell_type": "markdown",
   "metadata": {},
   "source": [
    "Будем бороться с дисбалансом, применяя модель СЛ с найденными ранее оптимальными гиперпараметрами: Количество деревьев: 36 и Максимальная глубина дерева: 14."
   ]
  },
  {
   "cell_type": "code",
   "execution_count": 31,
   "metadata": {},
   "outputs": [
    {
     "name": "stdout",
     "output_type": "stream",
     "text": [
      "F1 лучшей модели СЛ при class_weight=None: 0.5804\n",
      "F1 лучшей модели СЛ при class_weight=\"balanced\": 0.5783\n"
     ]
    }
   ],
   "source": [
    "model = RandomForestClassifier(random_state=12345, \n",
    "                               n_estimators=36, max_depth=14, class_weight='balanced')\n",
    "model.fit(features_train, target_train) # обучим модель\n",
    "predicted_valid = model.predict(features_valid) # получим предсказания модели\n",
    "result_rf = f1_score(target_valid, predicted_valid)\n",
    "\n",
    "print('F1 лучшей модели СЛ при class_weight=None: {:.4f}'.format(best_result_rf))\n",
    "print('F1 лучшей модели СЛ при class_weight=\"balanced\": {:.4f}'.format(result_rf))"
   ]
  },
  {
   "cell_type": "markdown",
   "metadata": {},
   "source": [
    "**Вывод.** Простое изменение гиперпараметра class_weight не приводит к улучшению качества модели СЛ.\n",
    "\n",
    "Ниже проверим, как работает сочетание upsampling/downsampling вместе с class_weight='balanced' и без него:"
   ]
  },
  {
   "cell_type": "markdown",
   "metadata": {},
   "source": [
    "### Модель СЛ + upsampling с class_weight=None"
   ]
  },
  {
   "cell_type": "markdown",
   "metadata": {},
   "source": [
    "Применим upsampling для модели СЛ с найденным ранее оптимальными гиперпараметрами, перебирая число повторений n_repeats в диапазоне от 1 до 6. Применим перемешивание признаков после добавления данных с помощью метода shuffle().\n",
    "\n",
    "Выведем на экран значения метрики F1 при разных значениях n_repeats и зафиксируем лучшее значение."
   ]
  },
  {
   "cell_type": "code",
   "execution_count": 32,
   "metadata": {},
   "outputs": [
    {
     "name": "stdout",
     "output_type": "stream",
     "text": [
      "F1 модели СЛ при выполнении upsampling: 0.5490\n",
      "Число повторений n_repeats: 1\n",
      "F1 модели СЛ при выполнении upsampling: 0.6043\n",
      "Число повторений n_repeats: 2\n",
      "F1 модели СЛ при выполнении upsampling: 0.6142\n",
      "Число повторений n_repeats: 3\n",
      "F1 модели СЛ при выполнении upsampling: 0.6294\n",
      "Число повторений n_repeats: 4\n",
      "F1 модели СЛ при выполнении upsampling: 0.6192\n",
      "Число повторений n_repeats: 5\n",
      "F1 модели СЛ при выполнении upsampling: 0.6053\n",
      "Число повторений n_repeats: 6\n",
      "\n",
      "---ЛУЧШИЙ РЕЗУЛЬТАТ---\n",
      "F1 лучшей модели СЛ при выполнении upsampling: 0.6294\n",
      "Число повторений n_repeats лучшей модели: 4\n"
     ]
    }
   ],
   "source": [
    "best_model_rf = None\n",
    "best_result_rf = 0\n",
    "best_n = 0\n",
    "\n",
    "def upsample(features, target, repeat):\n",
    "    features_zeros = features[target == 0]\n",
    "    features_ones = features[target == 1]\n",
    "    target_zeros = target[target == 0]\n",
    "    target_ones = target[target == 1]\n",
    "\n",
    "    features_upsampled = pd.concat([features_zeros] + [features_ones] * repeat)\n",
    "    target_upsampled = pd.concat([target_zeros] + [target_ones] * repeat)\n",
    "    \n",
    "    features_upsampled, target_upsampled = shuffle(\n",
    "        features_upsampled, target_upsampled, random_state=12345)\n",
    "    \n",
    "    return features_upsampled, target_upsampled\n",
    "\n",
    "for n in range(1, 7):\n",
    "    features_upsampled, target_upsampled = upsample(features_train, target_train, n)\n",
    "    model = RandomForestClassifier(random_state=12345, \n",
    "                               n_estimators=36, max_depth=14)\n",
    "    model.fit(features_upsampled, target_upsampled) # обучим модель\n",
    "    predicted_valid = model.predict(features_valid) # получим предсказания модели\n",
    "    result_f1 = f1_score(target_valid, predicted_valid)\n",
    "    print('F1 модели СЛ при выполнении upsampling: {:.4f}'.format(result_f1))\n",
    "    print('Число повторений n_repeats:', n)\n",
    "    \n",
    "    if result_f1 > best_result_rf:\n",
    "        best_n = n\n",
    "        best_model_rf = model\n",
    "        best_result_rf = result_f1\n",
    "print('\\n---ЛУЧШИЙ РЕЗУЛЬТАТ---')      \n",
    "print('F1 лучшей модели СЛ при выполнении upsampling: {:.4f}'.format(best_result_rf))\n",
    "print('Число повторений n_repeats лучшей модели:', best_n)"
   ]
  },
  {
   "cell_type": "markdown",
   "metadata": {},
   "source": [
    "**Вывод.** Удалось добится улучшения качества модели: метрика F1 выросла на 8,4% и достигла целевого значения F1=0,63."
   ]
  },
  {
   "cell_type": "markdown",
   "metadata": {},
   "source": [
    "### Модель СЛ + upsampling с class_weight='balanced'"
   ]
  },
  {
   "cell_type": "markdown",
   "metadata": {},
   "source": [
    "Повторим тот же эксперимент, указав class_weight='balanced'"
   ]
  },
  {
   "cell_type": "code",
   "execution_count": 33,
   "metadata": {},
   "outputs": [
    {
     "name": "stdout",
     "output_type": "stream",
     "text": [
      "F1 модели СЛ при выполнении upsampling: 0.5934\n",
      "Число повторений n_repeats: 1\n",
      "F1 модели СЛ при выполнении upsampling: 0.6200\n",
      "Число повторений n_repeats: 2\n",
      "F1 модели СЛ при выполнении upsampling: 0.6268\n",
      "Число повторений n_repeats: 3\n",
      "F1 модели СЛ при выполнении upsampling: 0.6095\n",
      "Число повторений n_repeats: 4\n",
      "F1 модели СЛ при выполнении upsampling: 0.6303\n",
      "Число повторений n_repeats: 5\n",
      "F1 модели СЛ при выполнении upsampling: 0.6137\n",
      "Число повторений n_repeats: 6\n",
      "\n",
      "---ЛУЧШИЙ РЕЗУЛЬТАТ---\n",
      "F1 лучшей модели СЛ при выполнении upsampling + class_weight=\"balanced\": 0.6303\n",
      "Число повторений n_repeats лучшей модели: 5\n"
     ]
    }
   ],
   "source": [
    "best_model_rf = None\n",
    "best_result_rf = 0\n",
    "best_n = 0\n",
    "\n",
    "def upsample(features, target, repeat):\n",
    "    features_zeros = features[target == 0]\n",
    "    features_ones = features[target == 1]\n",
    "    target_zeros = target[target == 0]\n",
    "    target_ones = target[target == 1]\n",
    "\n",
    "    features_upsampled = pd.concat([features_zeros] + [features_ones] * repeat)\n",
    "    target_upsampled = pd.concat([target_zeros] + [target_ones] * repeat)\n",
    "    \n",
    "    features_upsampled, target_upsampled = shuffle(\n",
    "        features_upsampled, target_upsampled, random_state=12345)\n",
    "    \n",
    "    return features_upsampled, target_upsampled\n",
    "\n",
    "for n in range(1, 7):\n",
    "    features_upsampled, target_upsampled = upsample(features_train, target_train, n)\n",
    "    model = RandomForestClassifier(random_state=12345, \n",
    "                               n_estimators=36, max_depth=14, class_weight='balanced')\n",
    "    model.fit(features_upsampled, target_upsampled) # обучим модель\n",
    "    predicted_valid = model.predict(features_valid) # получим предсказания модели\n",
    "    result_f1 = f1_score(target_valid, predicted_valid)\n",
    "    print('F1 модели СЛ при выполнении upsampling: {:.4f}'.format(result_f1))\n",
    "    print('Число повторений n_repeats:', n)\n",
    "    \n",
    "    if result_f1 > best_result_rf:\n",
    "        best_n = n\n",
    "        best_model_rf = model\n",
    "        best_result_rf = result_f1\n",
    "print('\\n---ЛУЧШИЙ РЕЗУЛЬТАТ---')      \n",
    "print('F1 лучшей модели СЛ при выполнении upsampling + class_weight=\"balanced\": {:.4f}'.\n",
    "      format(best_result_rf))\n",
    "print('Число повторений n_repeats лучшей модели:', best_n)"
   ]
  },
  {
   "cell_type": "markdown",
   "metadata": {},
   "source": [
    "**Вывод.** Сочетание upsampling + class_weight=\"balanced\" дало ещё небольшое (около 0,1%) увеличение метрики F1."
   ]
  },
  {
   "cell_type": "markdown",
   "metadata": {},
   "source": [
    "### Модель СЛ + downsampling с class_weight=None"
   ]
  },
  {
   "cell_type": "markdown",
   "metadata": {},
   "source": [
    "Применим downsampling для модели СЛ с найденным ранее оптимальными значениями гиперпараметров, перебирая значения параметра fraction в диапазоне от 0,21 до 0,49 с шагом 0,02 (экспериментальным путём сделан вывод, что метрика качества чуть выше при нечётных значениях дробной части fraction). Применим перемешивание признаков после уменьшения количества данных с помощью метода shuffle().\n",
    "\n",
    "Выведем на экран значения метрики F1 при разных значениях fraction и зафиксируем лучшее значение."
   ]
  },
  {
   "cell_type": "code",
   "execution_count": 34,
   "metadata": {},
   "outputs": [
    {
     "name": "stdout",
     "output_type": "stream",
     "text": [
      "fraction =0.21 , F1: 0.5852\n",
      "fraction =0.23 , F1: 0.6000\n",
      "fraction =0.25 , F1: 0.6150\n",
      "fraction =0.27 , F1: 0.6138\n",
      "fraction =0.29 , F1: 0.6058\n",
      "fraction =0.31 , F1: 0.6207\n",
      "fraction =0.33 , F1: 0.6186\n",
      "fraction =0.35 , F1: 0.6100\n",
      "fraction =0.37 , F1: 0.6377\n",
      "fraction =0.39 , F1: 0.6301\n",
      "fraction =0.41 , F1: 0.6303\n",
      "fraction =0.43 , F1: 0.6340\n",
      "fraction =0.45 , F1: 0.6244\n",
      "fraction =0.47 , F1: 0.6158\n",
      "fraction =0.49 , F1: 0.6154\n",
      "\n",
      "---ЛУЧШИЙ РЕЗУЛЬТАТ---\n",
      "F1 лучшей модели СЛ при выполнении downsampling: 0.6377\n",
      "Значение fraction лучшей модели: 0.37\n"
     ]
    }
   ],
   "source": [
    "best_model_rf = None\n",
    "best_result_rf = 0\n",
    "best_frac = 0\n",
    "\n",
    "def downsample(features, target, fraction):\n",
    "    features_zeros = features[target == 0]\n",
    "    features_ones = features[target == 1]\n",
    "    target_zeros = target[target == 0]\n",
    "    target_ones = target[target == 1]\n",
    "\n",
    "    features_downsampled = pd.concat(\n",
    "        [features_zeros.sample(frac=fraction, random_state=12345)] + [features_ones])\n",
    "    target_downsampled = pd.concat(\n",
    "        [target_zeros.sample(frac=fraction, random_state=12345)] + [target_ones])\n",
    "    \n",
    "    features_downsampled, target_downsampled = shuffle(\n",
    "        features_downsampled, target_downsampled, random_state=12345)\n",
    "    \n",
    "    return features_downsampled, target_downsampled\n",
    "\n",
    "for frac in np.arange(0.21, 0.49, 0.02):\n",
    "    \n",
    "    features_downsampled, target_downsampled = downsample(features_train, target_train, frac)\n",
    "\n",
    "    model = RandomForestClassifier(random_state=12345, \n",
    "                               n_estimators=36, max_depth=14)\n",
    "    model.fit(features_downsampled, target_downsampled)\n",
    "    predicted_valid = model.predict(features_valid)\n",
    "    result_f1 = f1_score(target_valid, predicted_valid)\n",
    "    print('fraction ={:.2f}'.format(frac),\n",
    "          ', F1: {:.4f}'.format(result_f1))\n",
    "    \n",
    "    if result_f1 > best_result_rf:\n",
    "        best_frac = frac\n",
    "        best_model_rf = model\n",
    "        best_result_rf = result_f1\n",
    "print('\\n---ЛУЧШИЙ РЕЗУЛЬТАТ---')      \n",
    "print('F1 лучшей модели СЛ при выполнении downsampling: {:.4f}'.format(best_result_rf))\n",
    "print('Значение fraction лучшей модели: {:.2f}'.format(best_frac))"
   ]
  },
  {
   "cell_type": "markdown",
   "metadata": {},
   "source": [
    "**Вывод.** Применение downsampling дало результат лучше, чем при upsampling. Метрика F1 выросла на 9,9% по сравнениию с первичным значением и достигла целевого значения: F1 = 0,64."
   ]
  },
  {
   "cell_type": "markdown",
   "metadata": {},
   "source": [
    "### Модель СЛ + downsampling с class_weight='balanced'"
   ]
  },
  {
   "cell_type": "markdown",
   "metadata": {},
   "source": [
    "Повторим тот же эксперимент, указав class_weight='balanced'"
   ]
  },
  {
   "cell_type": "code",
   "execution_count": 35,
   "metadata": {},
   "outputs": [
    {
     "name": "stdout",
     "output_type": "stream",
     "text": [
      "fraction =0.21 , F1: 0.5841\n",
      "fraction =0.23 , F1: 0.5946\n",
      "fraction =0.25 , F1: 0.5954\n",
      "fraction =0.27 , F1: 0.6047\n",
      "fraction =0.29 , F1: 0.6031\n",
      "fraction =0.31 , F1: 0.6216\n",
      "fraction =0.33 , F1: 0.6196\n",
      "fraction =0.35 , F1: 0.6130\n",
      "fraction =0.37 , F1: 0.6232\n",
      "fraction =0.39 , F1: 0.6459\n",
      "fraction =0.41 , F1: 0.6316\n",
      "fraction =0.43 , F1: 0.6112\n",
      "fraction =0.45 , F1: 0.6261\n",
      "fraction =0.47 , F1: 0.6126\n",
      "fraction =0.49 , F1: 0.6163\n",
      "\n",
      "---ЛУЧШИЙ РЕЗУЛЬТАТ---\n",
      "F1 лучшей модели СЛ при выполнении downsampling + class_weight=\"balanced\": 0.6459\n",
      "Значение fraction лучшей модели: 0.39\n"
     ]
    }
   ],
   "source": [
    "best_model_rf = None\n",
    "best_result_rf = 0\n",
    "best_frac = 0\n",
    "\n",
    "def downsample(features, target, fraction):\n",
    "    features_zeros = features[target == 0]\n",
    "    features_ones = features[target == 1]\n",
    "    target_zeros = target[target == 0]\n",
    "    target_ones = target[target == 1]\n",
    "\n",
    "    features_downsampled = pd.concat(\n",
    "        [features_zeros.sample(frac=fraction, random_state=12345)] + [features_ones])\n",
    "    target_downsampled = pd.concat(\n",
    "        [target_zeros.sample(frac=fraction, random_state=12345)] + [target_ones])\n",
    "    \n",
    "    features_downsampled, target_downsampled = shuffle(\n",
    "        features_downsampled, target_downsampled, random_state=12345)\n",
    "    \n",
    "    return features_downsampled, target_downsampled\n",
    "\n",
    "for frac in np.arange(0.21, 0.49, 0.02):\n",
    "    \n",
    "    features_downsampled, target_downsampled = downsample(features_train, target_train, frac)\n",
    "\n",
    "    model = RandomForestClassifier(random_state=12345, \n",
    "                               n_estimators=36, max_depth=14, class_weight='balanced')\n",
    "    model.fit(features_downsampled, target_downsampled)\n",
    "    predicted_valid = model.predict(features_valid)\n",
    "    result_f1 = f1_score(target_valid, predicted_valid)\n",
    "    print('fraction ={:.2f}'.format(frac),\n",
    "          ', F1: {:.4f}'.format(result_f1))\n",
    "    \n",
    "    if result_f1 > best_result_rf:\n",
    "        best_frac = frac\n",
    "        best_model_rf = model\n",
    "        best_result_rf = result_f1\n",
    "print('\\n---ЛУЧШИЙ РЕЗУЛЬТАТ---')      \n",
    "print('F1 лучшей модели СЛ при выполнении downsampling + class_weight=\"balanced\": {:.4f}'.\n",
    "      format(best_result_rf))\n",
    "print('Значение fraction лучшей модели: {:.2f}'.format(best_frac))"
   ]
  },
  {
   "cell_type": "markdown",
   "metadata": {},
   "source": [
    "**Вывод.** Сочетание upsampling + class_weight=\"balanced\" дало увеличение метрики F1 ещё на 1,3%."
   ]
  },
  {
   "cell_type": "markdown",
   "metadata": {},
   "source": [
    "### Метрика ROC-AUC для лучших моделей ДР и СЛ"
   ]
  },
  {
   "cell_type": "markdown",
   "metadata": {},
   "source": [
    "Рассчитаем метрику ROC-AUC для моделей и процесов оптимизации, показавших наиилучшие результаты: \n",
    "- для модели ДР: upsampling + class_weight=None,\n",
    "- для модели СЛ: downsampling + class_weight='balanced'."
   ]
  },
  {
   "cell_type": "markdown",
   "metadata": {},
   "source": [
    "#### Модель ДР - динамика ROC-AUC"
   ]
  },
  {
   "cell_type": "code",
   "execution_count": 36,
   "metadata": {
    "scrolled": true
   },
   "outputs": [
    {
     "name": "stdout",
     "output_type": "stream",
     "text": [
      "F1 модели ДР = 0.5665 , Число повторений n_repeats: 1 , ROC-AUC: 0.8454\n",
      "F1 модели ДР = 0.5905 , Число повторений n_repeats: 2 , ROC-AUC: 0.8469\n",
      "F1 модели ДР = 0.6285 , Число повторений n_repeats: 3 , ROC-AUC: 0.8502\n",
      "F1 модели ДР = 0.6112 , Число повторений n_repeats: 4 , ROC-AUC: 0.8532\n",
      "F1 модели ДР = 0.5703 , Число повторений n_repeats: 5 , ROC-AUC: 0.8518\n",
      "F1 модели ДР = 0.5762 , Число повторений n_repeats: 6 , ROC-AUC: 0.8474\n",
      "\n",
      "---ЛУЧШИЙ РЕЗУЛЬТАТ---\n",
      "F1 лучшей модели ДР при выполнении upsampling + class_weight=None: 0.6285\n",
      "Число повторений n_repeats лучшей модели по F1: 3\n",
      "\n",
      "ROC-AUC лучшей модели ДР при выполнении upsampling + class_weight=None: 0.8532\n",
      "Число повторений n_repeats лучшей модели по ROC-AUC: 4\n"
     ]
    }
   ],
   "source": [
    "best_model_tree = None\n",
    "best_result_tree = 0\n",
    "best_n = 0\n",
    "best_roc_auc = 0\n",
    "\n",
    "def upsample(features, target, repeat):\n",
    "    features_zeros = features[target == 0]\n",
    "    features_ones = features[target == 1]\n",
    "    target_zeros = target[target == 0]\n",
    "    target_ones = target[target == 1]\n",
    "\n",
    "    features_upsampled = pd.concat([features_zeros] + [features_ones] * repeat)\n",
    "    target_upsampled = pd.concat([target_zeros] + [target_ones] * repeat)\n",
    "    \n",
    "    features_upsampled, target_upsampled = shuffle(\n",
    "        features_upsampled, target_upsampled, random_state=12345)\n",
    "    \n",
    "    return features_upsampled, target_upsampled\n",
    "\n",
    "for n in range(1, 7):\n",
    "    features_upsampled, target_upsampled = upsample(features_train, target_train, n)\n",
    "    model = DecisionTreeClassifier(random_state=12345, max_depth=5)\n",
    "    model.fit(features_upsampled, target_upsampled) # обучим модель\n",
    "    predicted_valid = model.predict(features_valid) # получим предсказания модели\n",
    "    result_f1 = f1_score(target_valid, predicted_valid)\n",
    "    \n",
    "    probabilities_valid = model.predict_proba(features_valid)\n",
    "    probabilities_one_valid = probabilities_valid[:, 1]\n",
    "    auc_roc = roc_auc_score(target_valid, probabilities_one_valid)\n",
    "    \n",
    "    print('F1 модели ДР = {:.4f}'.format(result_f1),\n",
    "          ', Число повторений n_repeats:', n,\n",
    "         ', ROC-AUC: {:.4f}'.format(auc_roc))\n",
    "    \n",
    "    \n",
    "    if result_f1 > best_result_tree:\n",
    "        best_n_f1 = n\n",
    "        best_model_tree = model\n",
    "        best_result_tree = result_f1\n",
    "                \n",
    "    if auc_roc > best_roc_auc:\n",
    "        best_n_auc_roc = n\n",
    "        best_roc_auc = auc_roc   \n",
    "        \n",
    "        \n",
    "        \n",
    "print('\\n---ЛУЧШИЙ РЕЗУЛЬТАТ---')      \n",
    "print('F1 лучшей модели ДР при выполнении upsampling + class_weight=None: {:.4f}'.format(best_result_tree))\n",
    "print('Число повторений n_repeats лучшей модели по F1:', best_n_f1)\n",
    "print('\\nROC-AUC лучшей модели ДР при выполнении upsampling + class_weight=None: {:.4f}'.format(best_roc_auc))\n",
    "print('Число повторений n_repeats лучшей модели по ROC-AUC:', best_n_auc_roc)"
   ]
  },
  {
   "cell_type": "markdown",
   "metadata": {},
   "source": [
    "**Вывод.** Для модели ДР при применении upsampling лучшие значения метрик ROC-AUC и F1 соответствуют разным значениям n_repeats. Сравним ниже данный вывод с моделью СЛ."
   ]
  },
  {
   "cell_type": "markdown",
   "metadata": {},
   "source": [
    "#### Модель СЛ - динамика ROC-AUC"
   ]
  },
  {
   "cell_type": "code",
   "execution_count": 37,
   "metadata": {},
   "outputs": [
    {
     "name": "stdout",
     "output_type": "stream",
     "text": [
      "fraction =0.21 , F1: 0.5841 , ROC-AUC: 0.8510\n",
      "fraction =0.23 , F1: 0.5946 , ROC-AUC: 0.8555\n",
      "fraction =0.25 , F1: 0.5954 , ROC-AUC: 0.8528\n",
      "fraction =0.27 , F1: 0.6047 , ROC-AUC: 0.8587\n",
      "fraction =0.29 , F1: 0.6031 , ROC-AUC: 0.8544\n",
      "fraction =0.31 , F1: 0.6216 , ROC-AUC: 0.8564\n",
      "fraction =0.33 , F1: 0.6196 , ROC-AUC: 0.8628\n",
      "fraction =0.35 , F1: 0.6130 , ROC-AUC: 0.8547\n",
      "fraction =0.37 , F1: 0.6232 , ROC-AUC: 0.8544\n",
      "fraction =0.39 , F1: 0.6459 , ROC-AUC: 0.8643\n",
      "fraction =0.41 , F1: 0.6316 , ROC-AUC: 0.8569\n",
      "fraction =0.43 , F1: 0.6112 , ROC-AUC: 0.8557\n",
      "fraction =0.45 , F1: 0.6261 , ROC-AUC: 0.8570\n",
      "fraction =0.47 , F1: 0.6126 , ROC-AUC: 0.8555\n",
      "fraction =0.49 , F1: 0.6163 , ROC-AUC: 0.8577\n",
      "\n",
      "---ЛУЧШИЙ РЕЗУЛЬТАТ---\n",
      "Значение fraction лучшей модели: 0.39\n",
      "F1 лучшей модели СЛ при выполнении downsampling + class_weight=\"balanced\": 0.6459\n",
      "ROC-AUC лучшей модели СЛ при выполнении downsampling + class_weight=\"balanced\": 0.8643\n"
     ]
    }
   ],
   "source": [
    "best_model_rf = None\n",
    "best_result_rf = 0\n",
    "best_frac = 0\n",
    "\n",
    "def downsample(features, target, fraction):\n",
    "    features_zeros = features[target == 0]\n",
    "    features_ones = features[target == 1]\n",
    "    target_zeros = target[target == 0]\n",
    "    target_ones = target[target == 1]\n",
    "\n",
    "    features_downsampled = pd.concat(\n",
    "        [features_zeros.sample(frac=fraction, random_state=12345)] + [features_ones])\n",
    "    target_downsampled = pd.concat(\n",
    "        [target_zeros.sample(frac=fraction, random_state=12345)] + [target_ones])\n",
    "    \n",
    "    features_downsampled, target_downsampled = shuffle(\n",
    "        features_downsampled, target_downsampled, random_state=12345)\n",
    "    \n",
    "    return features_downsampled, target_downsampled\n",
    "\n",
    "for frac in np.arange(0.21, 0.49, 0.02):\n",
    "    \n",
    "    features_downsampled, target_downsampled = downsample(features_train, target_train, frac)\n",
    "\n",
    "    model = RandomForestClassifier(random_state=12345, \n",
    "                               n_estimators=36, max_depth=14, class_weight='balanced')\n",
    "    model.fit(features_downsampled, target_downsampled)\n",
    "    predicted_valid = model.predict(features_valid)\n",
    "    result_f1 = f1_score(target_valid, predicted_valid)\n",
    "    \n",
    "    probabilities_valid = model.predict_proba(features_valid)\n",
    "    probabilities_one_valid = probabilities_valid[:, 1]\n",
    "    auc_roc = roc_auc_score(target_valid, probabilities_one_valid)\n",
    "    \n",
    "    print('fraction ={:.2f}'.format(frac),\n",
    "          ', F1: {:.4f}'.format(result_f1),\n",
    "         ', ROC-AUC: {:.4f}'.format(auc_roc))\n",
    "    \n",
    "    if result_f1 > best_result_rf:\n",
    "        best_frac = frac\n",
    "        best_model_rf = model\n",
    "        best_result_rf = result_f1\n",
    "        best_roc_auc = auc_roc\n",
    "print('\\n---ЛУЧШИЙ РЕЗУЛЬТАТ---')      \n",
    "print('Значение fraction лучшей модели: {:.2f}'.format(best_frac))\n",
    "print('F1 лучшей модели СЛ при выполнении downsampling + class_weight=\"balanced\": {:.4f}'.format(best_result_rf))\n",
    "print('ROC-AUC лучшей модели СЛ при выполнении downsampling + class_weight=\"balanced\": {:.4f}'.format(best_roc_auc))"
   ]
  },
  {
   "cell_type": "markdown",
   "metadata": {},
   "source": [
    "**Вывод.** Для модели СЛ при применении downsampling лучшие значения метрик ROC-AUC и F1 соответствуют одному значению параметра fraction. При этом обе метрики: и ROC-AUC, и F1 имеют значения выше, чем у модели ДР. \n",
    "\n",
    "Таким образом, исходя из данных двух метрик качества, можно сделать общий вывод, что качество модели СЛ для нашей задачи выше, чем у модели ДР."
   ]
  },
  {
   "cell_type": "markdown",
   "metadata": {},
   "source": [
    "### Модель ЛР - борьба с дисбалансом"
   ]
  },
  {
   "cell_type": "markdown",
   "metadata": {},
   "source": [
    "Проведем аналогичное исследование модели ЛР, применяя class_weight='balanced', upsampling и downsampling:"
   ]
  },
  {
   "cell_type": "code",
   "execution_count": 38,
   "metadata": {},
   "outputs": [
    {
     "name": "stdout",
     "output_type": "stream",
     "text": [
      "F1 модели логистической регрессии при class_weight=\"balanced\": 0.5042\n"
     ]
    }
   ],
   "source": [
    "model_lr = LogisticRegression(random_state=12345, max_iter=1000, \n",
    "                              solver='liblinear', class_weight='balanced')\n",
    "model_lr.fit(features_train, target_train) # обучим модель\n",
    "predicted_valid = model_lr.predict(features_valid) # получим предсказания модели\n",
    "result_lr = f1_score(target_valid, predicted_valid)\n",
    "\n",
    "print('F1 модели логистической регрессии при class_weight=\"balanced\": {:.4f}'.format(result_lr))"
   ]
  },
  {
   "cell_type": "code",
   "execution_count": 39,
   "metadata": {},
   "outputs": [
    {
     "name": "stdout",
     "output_type": "stream",
     "text": [
      "n_repeats = 1 , F1: 0.2958\n",
      "n_repeats = 2 , F1: 0.4554\n",
      "n_repeats = 3 , F1: 0.4990\n",
      "n_repeats = 4 , F1: 0.5038\n",
      "n_repeats = 5 , F1: 0.4885\n"
     ]
    }
   ],
   "source": [
    "def upsample(features, target, repeat):\n",
    "    features_zeros = features[target == 0]\n",
    "    features_ones = features[target == 1]\n",
    "    target_zeros = target[target == 0]\n",
    "    target_ones = target[target == 1]\n",
    "\n",
    "    features_upsampled = pd.concat([features_zeros] + [features_ones] * repeat)\n",
    "    target_upsampled = pd.concat([target_zeros] + [target_ones] * repeat)\n",
    "    \n",
    "    features_upsampled, target_upsampled = shuffle(\n",
    "        features_upsampled, target_upsampled, random_state=12345)\n",
    "    \n",
    "    return features_upsampled, target_upsampled\n",
    "\n",
    "for n in range(1, 6):\n",
    "    features_upsampled, target_upsampled = upsample(features_train, target_train, n)\n",
    "\n",
    "    model = LogisticRegression(solver='liblinear', random_state=12345)\n",
    "    model.fit(features_upsampled, target_upsampled)\n",
    "    predicted_valid = model.predict(features_valid)\n",
    "\n",
    "    print('n_repeats =', n, ', F1: {:.4f}'.format(f1_score(target_valid, predicted_valid)))"
   ]
  },
  {
   "cell_type": "code",
   "execution_count": 40,
   "metadata": {},
   "outputs": [
    {
     "name": "stdout",
     "output_type": "stream",
     "text": [
      "fraction = 0.15 , F1: 0.5013\n",
      "fraction = 0.17 , F1: 0.5033\n",
      "fraction = 0.19 , F1: 0.5050\n",
      "fraction = 0.21 , F1: 0.5046\n",
      "fraction = 0.23 , F1: 0.5066\n",
      "fraction = 0.25 , F1: 0.5075\n",
      "fraction = 0.27 , F1: 0.5079\n",
      "fraction = 0.29 , F1: 0.5058\n",
      "fraction = 0.31 , F1: 0.5042\n",
      "fraction = 0.33 , F1: 0.5054\n"
     ]
    }
   ],
   "source": [
    "def downsample(features, target, fraction):\n",
    "    features_zeros = features[target == 0]\n",
    "    features_ones = features[target == 1]\n",
    "    target_zeros = target[target == 0]\n",
    "    target_ones = target[target == 1]\n",
    "\n",
    "    features_downsampled = pd.concat(\n",
    "        [features_zeros.sample(frac=fraction, random_state=12345)] + [features_ones])\n",
    "    target_downsampled = pd.concat(\n",
    "        [target_zeros.sample(frac=fraction, random_state=12345)] + [target_ones])\n",
    "    \n",
    "    features_downsampled, target_downsampled = shuffle(\n",
    "        features_downsampled, target_downsampled, random_state=12345)\n",
    "    \n",
    "    return features_downsampled, target_downsampled\n",
    "\n",
    "for frac in np.arange(0.15, 0.35, 0.02):\n",
    "    \n",
    "    features_downsampled, target_downsampled = downsample(features_train, target_train, frac)\n",
    "\n",
    "    model = LogisticRegression(solver='liblinear', random_state=12345, class_weight=\"balanced\")\n",
    "    model.fit(features_downsampled, target_downsampled)\n",
    "    predicted_valid = model.predict(features_valid)\n",
    "    print('fraction = {:.2f}'.format(frac), ', F1: {:.4f}'.format(f1_score(target_valid, predicted_valid)))"
   ]
  },
  {
   "cell_type": "markdown",
   "metadata": {},
   "source": [
    "**Вывод.** Метрика качества F1 ни в одном эксперименте не достигает целевого значения 0,59. Таким образом, можно сделать вывод о том, что модель ЛР для нашей задачи неэффективна."
   ]
  },
  {
   "cell_type": "markdown",
   "metadata": {},
   "source": [
    "## Тестирование модели"
   ]
  },
  {
   "cell_type": "markdown",
   "metadata": {},
   "source": [
    "### Модель ДР с тестовой выборкой"
   ]
  },
  {
   "cell_type": "markdown",
   "metadata": {},
   "source": [
    "Зафиксировав в предыдущих экспериментах лучшие модели ДР (best_model_tree) и СЛ (best_model_rf), сделаем предсказания на них с помощью тестовой выборки и рассчитаем метрики качества:"
   ]
  },
  {
   "cell_type": "code",
   "execution_count": 41,
   "metadata": {},
   "outputs": [
    {
     "name": "stdout",
     "output_type": "stream",
     "text": [
      "F1 модели ДР на тестовой выборке: 0.6230\n",
      "ROC-AUC модели ДР на тестовой выборке: 0.8483\n"
     ]
    }
   ],
   "source": [
    "predicted_test = best_model_tree.predict(features_test)\n",
    "result_f1 = f1_score(target_test, predicted_test)\n",
    "\n",
    "probabilities_test = best_model_tree.predict_proba(features_test)\n",
    "probabilities_one_test = probabilities_test[:, 1]\n",
    "auc_roc = roc_auc_score(target_test, probabilities_one_test)\n",
    "\n",
    "print('F1 модели ДР на тестовой выборке: {:.4f}'.format(result_f1))\n",
    "print('ROC-AUC модели ДР на тестовой выборке: {:.4f}'.format(auc_roc))"
   ]
  },
  {
   "cell_type": "markdown",
   "metadata": {},
   "source": [
    "### Модель СЛ с тестовой выборкой"
   ]
  },
  {
   "cell_type": "code",
   "execution_count": 42,
   "metadata": {},
   "outputs": [
    {
     "name": "stdout",
     "output_type": "stream",
     "text": [
      "F1 модели СЛ на тестовой выборке: 0.6366\n",
      "ROC-AUC модели СЛ на тестовой выборке: 0.8599\n"
     ]
    }
   ],
   "source": [
    "predicted_test = best_model_rf.predict(features_test)\n",
    "result_f1 = f1_score(target_test, predicted_test)\n",
    "\n",
    "probabilities_test = best_model_rf.predict_proba(features_test)\n",
    "probabilities_one_test = probabilities_test[:, 1]\n",
    "auc_roc = roc_auc_score(target_test, probabilities_one_test)\n",
    "\n",
    "print('F1 модели СЛ на тестовой выборке: {:.4f}'.format(result_f1))\n",
    "print('ROC-AUC модели СЛ на тестовой выборке: {:.4f}'.format(auc_roc))"
   ]
  },
  {
   "cell_type": "markdown",
   "metadata": {},
   "source": [
    "**Вывод.** Метрики качества на тестовой выборке дают результат чуть хуже, чем во время обучения (разница - от десятых долей процента до 1,5%), но в целом соответствуют целевым значениям."
   ]
  },
  {
   "cell_type": "markdown",
   "metadata": {},
   "source": [
    "## Общий вывод"
   ]
  },
  {
   "cell_type": "markdown",
   "metadata": {},
   "source": [
    "В проекте произведено создание модели для прогнозирования оттока клиентов банка:\n",
    "- произведена подготовка данных, кодирование и масштабирование признаков,\n",
    "- выполнены мероприятия по борьбе с дисбалансом классов, путём применения методов upsampling и downsampling в сочетании с подбором гиперпараметров разных моделей.  \n",
    "\n",
    "В итоге:\n",
    "- Наилучшее значение метрики качества F1 достигнуто для модели Случайного леса в сочетании downsampling + class_weight='balanced': F1=0,6459 при обучении модели и F1=0,6366 при тестировании модели.  \n",
    "Значение метрики ROC-AUC для этой модели при тестировании равно 0,8599.\n",
    "- Модель Дерева решений для нашей задачи при борьбе с дисбалансом показала качество немного хуже: при тестировании модели F1=0,6230, ROC-AUC=0,8483\n",
    "- Метрика качества F1 модели Логистической регрессии в ходе экспериментов не достигла целевого значения. Можно сделать вывод о том, что данная модель для нашей задачи неэффективна."
   ]
  }
 ],
 "metadata": {
  "ExecuteTimeLog": [
   {
    "duration": 1473,
    "start_time": "2022-02-15T09:13:41.786Z"
   },
   {
    "duration": 42,
    "start_time": "2022-02-15T09:13:44.139Z"
   },
   {
    "duration": 46,
    "start_time": "2022-02-15T09:13:55.714Z"
   },
   {
    "duration": 13,
    "start_time": "2022-02-15T09:14:17.355Z"
   },
   {
    "duration": 4,
    "start_time": "2022-02-15T09:17:59.237Z"
   },
   {
    "duration": 12,
    "start_time": "2022-02-15T09:18:12.061Z"
   },
   {
    "duration": 8,
    "start_time": "2022-02-15T09:24:35.344Z"
   },
   {
    "duration": 15,
    "start_time": "2022-02-15T09:24:45.406Z"
   },
   {
    "duration": 11,
    "start_time": "2022-02-15T09:28:12.304Z"
   },
   {
    "duration": 8,
    "start_time": "2022-02-15T09:28:53.917Z"
   },
   {
    "duration": 571,
    "start_time": "2022-02-15T09:29:21.504Z"
   },
   {
    "duration": 8,
    "start_time": "2022-02-15T09:29:36.964Z"
   },
   {
    "duration": 11,
    "start_time": "2022-02-15T09:33:38.059Z"
   },
   {
    "duration": 12,
    "start_time": "2022-02-15T09:34:35.648Z"
   },
   {
    "duration": 1924,
    "start_time": "2022-02-15T09:35:06.306Z"
   },
   {
    "duration": 13,
    "start_time": "2022-02-15T09:35:34.711Z"
   },
   {
    "duration": 10,
    "start_time": "2022-02-15T09:35:51.383Z"
   },
   {
    "duration": 8,
    "start_time": "2022-02-15T09:36:00.255Z"
   },
   {
    "duration": 13,
    "start_time": "2022-02-15T09:36:07.530Z"
   },
   {
    "duration": 14,
    "start_time": "2022-02-15T09:36:17.286Z"
   },
   {
    "duration": 155,
    "start_time": "2022-02-15T09:36:49.664Z"
   },
   {
    "duration": 9,
    "start_time": "2022-02-15T09:36:57.359Z"
   },
   {
    "duration": 390,
    "start_time": "2022-02-15T09:44:07.028Z"
   },
   {
    "duration": 5,
    "start_time": "2022-02-15T09:44:14.864Z"
   },
   {
    "duration": 405,
    "start_time": "2022-02-15T09:44:21.026Z"
   },
   {
    "duration": 5,
    "start_time": "2022-02-15T09:44:55.003Z"
   },
   {
    "duration": 8,
    "start_time": "2022-02-15T09:45:25.435Z"
   },
   {
    "duration": 5,
    "start_time": "2022-02-15T09:45:33.208Z"
   },
   {
    "duration": 5,
    "start_time": "2022-02-15T09:45:37.455Z"
   },
   {
    "duration": 6,
    "start_time": "2022-02-15T09:47:25.217Z"
   },
   {
    "duration": 5,
    "start_time": "2022-02-15T09:47:43.572Z"
   },
   {
    "duration": 6,
    "start_time": "2022-02-15T09:48:16.704Z"
   },
   {
    "duration": 3,
    "start_time": "2022-02-15T09:51:54.300Z"
   },
   {
    "duration": 24,
    "start_time": "2022-02-15T09:53:43.012Z"
   },
   {
    "duration": 14,
    "start_time": "2022-02-15T09:53:55.859Z"
   },
   {
    "duration": 637,
    "start_time": "2022-02-15T09:56:32.324Z"
   },
   {
    "duration": 9332,
    "start_time": "2022-02-15T09:56:50.398Z"
   },
   {
    "duration": 393,
    "start_time": "2022-02-15T09:57:11.147Z"
   },
   {
    "duration": 36,
    "start_time": "2022-02-15T09:57:24.491Z"
   },
   {
    "duration": 381,
    "start_time": "2022-02-15T09:58:57.254Z"
   },
   {
    "duration": 5,
    "start_time": "2022-02-15T10:00:05.598Z"
   },
   {
    "duration": 6,
    "start_time": "2022-02-15T10:00:11.108Z"
   },
   {
    "duration": 5,
    "start_time": "2022-02-15T10:00:15.312Z"
   },
   {
    "duration": 6,
    "start_time": "2022-02-15T10:00:20.844Z"
   },
   {
    "duration": 7,
    "start_time": "2022-02-15T10:00:50.858Z"
   },
   {
    "duration": 4,
    "start_time": "2022-02-15T10:01:12.165Z"
   },
   {
    "duration": 5,
    "start_time": "2022-02-15T10:01:16.120Z"
   },
   {
    "duration": 4,
    "start_time": "2022-02-15T10:03:22.378Z"
   },
   {
    "duration": 7,
    "start_time": "2022-02-15T10:07:09.644Z"
   },
   {
    "duration": 12,
    "start_time": "2022-02-15T10:07:24.893Z"
   },
   {
    "duration": 45,
    "start_time": "2022-02-15T10:07:39.903Z"
   },
   {
    "duration": 1617,
    "start_time": "2022-02-15T10:08:44.397Z"
   },
   {
    "duration": 6,
    "start_time": "2022-02-15T10:08:54.792Z"
   },
   {
    "duration": 6,
    "start_time": "2022-02-15T10:09:00.206Z"
   },
   {
    "duration": 4,
    "start_time": "2022-02-15T10:09:09.807Z"
   },
   {
    "duration": 566,
    "start_time": "2022-02-15T10:12:12.864Z"
   },
   {
    "duration": 399,
    "start_time": "2022-02-15T10:12:23.623Z"
   },
   {
    "duration": 4,
    "start_time": "2022-02-15T10:12:58.755Z"
   },
   {
    "duration": 4,
    "start_time": "2022-02-15T10:13:10.294Z"
   },
   {
    "duration": 4,
    "start_time": "2022-02-15T10:13:13.546Z"
   },
   {
    "duration": 5,
    "start_time": "2022-02-15T10:13:15.927Z"
   },
   {
    "duration": 4,
    "start_time": "2022-02-15T10:13:18.799Z"
   },
   {
    "duration": 5,
    "start_time": "2022-02-15T10:13:22.111Z"
   },
   {
    "duration": 5,
    "start_time": "2022-02-15T10:13:24.502Z"
   },
   {
    "duration": 1381,
    "start_time": "2022-02-15T10:46:21.143Z"
   },
   {
    "duration": 32,
    "start_time": "2022-02-15T10:46:22.527Z"
   },
   {
    "duration": 66,
    "start_time": "2022-02-15T10:46:22.568Z"
   },
   {
    "duration": 11,
    "start_time": "2022-02-15T10:46:22.636Z"
   },
   {
    "duration": 6,
    "start_time": "2022-02-15T10:46:22.649Z"
   },
   {
    "duration": 22,
    "start_time": "2022-02-15T10:46:22.658Z"
   },
   {
    "duration": 6,
    "start_time": "2022-02-15T10:46:22.683Z"
   },
   {
    "duration": 45,
    "start_time": "2022-02-15T10:46:22.692Z"
   },
   {
    "duration": 19,
    "start_time": "2022-02-15T10:46:22.740Z"
   },
   {
    "duration": 11,
    "start_time": "2022-02-15T10:46:22.761Z"
   },
   {
    "duration": 6,
    "start_time": "2022-02-15T10:46:22.774Z"
   },
   {
    "duration": 69,
    "start_time": "2022-02-15T10:46:22.782Z"
   },
   {
    "duration": 5,
    "start_time": "2022-02-15T10:46:22.853Z"
   },
   {
    "duration": 16,
    "start_time": "2022-02-15T10:46:22.860Z"
   },
   {
    "duration": 61,
    "start_time": "2022-02-15T10:46:22.878Z"
   },
   {
    "duration": 4,
    "start_time": "2022-02-15T10:46:32.506Z"
   },
   {
    "duration": 3,
    "start_time": "2022-02-15T10:51:45.880Z"
   },
   {
    "duration": 7,
    "start_time": "2022-02-15T10:51:52.972Z"
   },
   {
    "duration": 4,
    "start_time": "2022-02-15T10:52:09.586Z"
   },
   {
    "duration": 7,
    "start_time": "2022-02-15T10:52:11.042Z"
   },
   {
    "duration": 3,
    "start_time": "2022-02-15T10:52:20.510Z"
   },
   {
    "duration": 8,
    "start_time": "2022-02-15T10:52:21.617Z"
   },
   {
    "duration": 365,
    "start_time": "2022-02-15T10:52:51.391Z"
   },
   {
    "duration": 7,
    "start_time": "2022-02-15T10:54:03.479Z"
   },
   {
    "duration": 7,
    "start_time": "2022-02-15T10:54:08.461Z"
   },
   {
    "duration": 4,
    "start_time": "2022-02-15T10:55:17.650Z"
   },
   {
    "duration": 35,
    "start_time": "2022-02-15T10:55:17.657Z"
   },
   {
    "duration": 40,
    "start_time": "2022-02-15T10:55:17.695Z"
   },
   {
    "duration": 11,
    "start_time": "2022-02-15T10:55:17.738Z"
   },
   {
    "duration": 3,
    "start_time": "2022-02-15T10:55:17.752Z"
   },
   {
    "duration": 14,
    "start_time": "2022-02-15T10:55:17.758Z"
   },
   {
    "duration": 7,
    "start_time": "2022-02-15T10:55:17.775Z"
   },
   {
    "duration": 53,
    "start_time": "2022-02-15T10:55:17.784Z"
   },
   {
    "duration": 11,
    "start_time": "2022-02-15T10:55:17.839Z"
   },
   {
    "duration": 7,
    "start_time": "2022-02-15T10:55:17.852Z"
   },
   {
    "duration": 5,
    "start_time": "2022-02-15T10:55:17.861Z"
   },
   {
    "duration": 65,
    "start_time": "2022-02-15T10:55:17.868Z"
   },
   {
    "duration": 4,
    "start_time": "2022-02-15T10:55:17.936Z"
   },
   {
    "duration": 5,
    "start_time": "2022-02-15T10:55:17.942Z"
   },
   {
    "duration": 85,
    "start_time": "2022-02-15T10:55:17.950Z"
   },
   {
    "duration": 8,
    "start_time": "2022-02-15T10:55:18.038Z"
   },
   {
    "duration": 9,
    "start_time": "2022-02-15T10:55:18.049Z"
   },
   {
    "duration": 37,
    "start_time": "2022-02-15T10:55:52.861Z"
   },
   {
    "duration": 6,
    "start_time": "2022-02-15T10:57:56.149Z"
   },
   {
    "duration": 6,
    "start_time": "2022-02-15T10:57:58.533Z"
   },
   {
    "duration": 5,
    "start_time": "2022-02-15T10:59:06.932Z"
   },
   {
    "duration": 36,
    "start_time": "2022-02-15T10:59:06.939Z"
   },
   {
    "duration": 63,
    "start_time": "2022-02-15T10:59:06.978Z"
   },
   {
    "duration": 13,
    "start_time": "2022-02-15T10:59:07.045Z"
   },
   {
    "duration": 6,
    "start_time": "2022-02-15T10:59:07.061Z"
   },
   {
    "duration": 19,
    "start_time": "2022-02-15T10:59:07.070Z"
   },
   {
    "duration": 42,
    "start_time": "2022-02-15T10:59:07.093Z"
   },
   {
    "duration": 12,
    "start_time": "2022-02-15T10:59:07.137Z"
   },
   {
    "duration": 10,
    "start_time": "2022-02-15T10:59:07.151Z"
   },
   {
    "duration": 8,
    "start_time": "2022-02-15T10:59:07.163Z"
   },
   {
    "duration": 11,
    "start_time": "2022-02-15T10:59:07.173Z"
   },
   {
    "duration": 67,
    "start_time": "2022-02-15T10:59:07.186Z"
   },
   {
    "duration": 4,
    "start_time": "2022-02-15T10:59:07.256Z"
   },
   {
    "duration": 8,
    "start_time": "2022-02-15T10:59:07.262Z"
   },
   {
    "duration": 61,
    "start_time": "2022-02-15T10:59:07.272Z"
   },
   {
    "duration": 6,
    "start_time": "2022-02-15T10:59:07.335Z"
   },
   {
    "duration": 7,
    "start_time": "2022-02-15T10:59:07.343Z"
   },
   {
    "duration": 41,
    "start_time": "2022-02-15T10:59:07.353Z"
   },
   {
    "duration": 37,
    "start_time": "2022-02-15T10:59:45.466Z"
   },
   {
    "duration": 6,
    "start_time": "2022-02-15T11:00:08.488Z"
   },
   {
    "duration": 37,
    "start_time": "2022-02-15T11:00:21.898Z"
   },
   {
    "duration": 36,
    "start_time": "2022-02-15T11:00:26.242Z"
   },
   {
    "duration": 5,
    "start_time": "2022-02-15T11:01:36.391Z"
   },
   {
    "duration": 6,
    "start_time": "2022-02-15T11:01:44.236Z"
   },
   {
    "duration": 41,
    "start_time": "2022-02-15T11:01:52.951Z"
   },
   {
    "duration": 51,
    "start_time": "2022-02-15T11:02:19.373Z"
   },
   {
    "duration": 6,
    "start_time": "2022-02-15T11:04:27.512Z"
   },
   {
    "duration": 7,
    "start_time": "2022-02-15T11:04:31.294Z"
   },
   {
    "duration": 35,
    "start_time": "2022-02-15T11:04:45.944Z"
   },
   {
    "duration": 6,
    "start_time": "2022-02-15T11:05:34.112Z"
   },
   {
    "duration": 7,
    "start_time": "2022-02-15T11:05:35.894Z"
   },
   {
    "duration": 36,
    "start_time": "2022-02-15T11:05:37.060Z"
   },
   {
    "duration": 7,
    "start_time": "2022-02-15T11:05:46.399Z"
   },
   {
    "duration": 6,
    "start_time": "2022-02-15T11:05:51.574Z"
   },
   {
    "duration": 6,
    "start_time": "2022-02-15T11:05:58.774Z"
   },
   {
    "duration": 7,
    "start_time": "2022-02-15T11:06:00.383Z"
   },
   {
    "duration": 6,
    "start_time": "2022-02-15T11:06:12.561Z"
   },
   {
    "duration": 6,
    "start_time": "2022-02-15T11:06:16.811Z"
   },
   {
    "duration": 6,
    "start_time": "2022-02-15T11:06:20.967Z"
   },
   {
    "duration": 6,
    "start_time": "2022-02-15T11:06:22.039Z"
   },
   {
    "duration": 1298,
    "start_time": "2022-02-15T11:06:33.478Z"
   },
   {
    "duration": 32,
    "start_time": "2022-02-15T11:06:34.778Z"
   },
   {
    "duration": 56,
    "start_time": "2022-02-15T11:06:34.816Z"
   },
   {
    "duration": 12,
    "start_time": "2022-02-15T11:06:34.874Z"
   },
   {
    "duration": 7,
    "start_time": "2022-02-15T11:06:34.888Z"
   },
   {
    "duration": 42,
    "start_time": "2022-02-15T11:06:34.898Z"
   },
   {
    "duration": 8,
    "start_time": "2022-02-15T11:06:34.944Z"
   },
   {
    "duration": 11,
    "start_time": "2022-02-15T11:06:34.955Z"
   },
   {
    "duration": 10,
    "start_time": "2022-02-15T11:06:34.968Z"
   },
   {
    "duration": 8,
    "start_time": "2022-02-15T11:06:34.980Z"
   },
   {
    "duration": 44,
    "start_time": "2022-02-15T11:06:34.990Z"
   },
   {
    "duration": 39,
    "start_time": "2022-02-15T11:06:35.036Z"
   },
   {
    "duration": 4,
    "start_time": "2022-02-15T11:06:35.077Z"
   },
   {
    "duration": 8,
    "start_time": "2022-02-15T11:06:35.083Z"
   },
   {
    "duration": 65,
    "start_time": "2022-02-15T11:06:35.093Z"
   },
   {
    "duration": 6,
    "start_time": "2022-02-15T11:06:35.161Z"
   },
   {
    "duration": 17,
    "start_time": "2022-02-15T11:06:35.169Z"
   },
   {
    "duration": 64,
    "start_time": "2022-02-15T11:06:35.189Z"
   },
   {
    "duration": 40,
    "start_time": "2022-02-15T11:06:35.255Z"
   },
   {
    "duration": 11,
    "start_time": "2022-02-15T11:08:55.836Z"
   },
   {
    "duration": 48,
    "start_time": "2022-02-15T11:08:55.850Z"
   },
   {
    "duration": 35,
    "start_time": "2022-02-15T11:08:55.901Z"
   },
   {
    "duration": 25,
    "start_time": "2022-02-15T11:08:55.940Z"
   },
   {
    "duration": 14,
    "start_time": "2022-02-15T11:08:55.967Z"
   },
   {
    "duration": 22,
    "start_time": "2022-02-15T11:08:55.984Z"
   },
   {
    "duration": 8,
    "start_time": "2022-02-15T11:08:56.008Z"
   },
   {
    "duration": 22,
    "start_time": "2022-02-15T11:08:56.018Z"
   },
   {
    "duration": 11,
    "start_time": "2022-02-15T11:08:56.042Z"
   },
   {
    "duration": 8,
    "start_time": "2022-02-15T11:08:56.056Z"
   },
   {
    "duration": 6,
    "start_time": "2022-02-15T11:08:56.067Z"
   },
   {
    "duration": 58,
    "start_time": "2022-02-15T11:08:56.076Z"
   },
   {
    "duration": 4,
    "start_time": "2022-02-15T11:08:56.136Z"
   },
   {
    "duration": 8,
    "start_time": "2022-02-15T11:08:56.143Z"
   },
   {
    "duration": 101,
    "start_time": "2022-02-15T11:08:56.154Z"
   },
   {
    "duration": 6,
    "start_time": "2022-02-15T11:08:56.257Z"
   },
   {
    "duration": 17,
    "start_time": "2022-02-15T11:08:56.265Z"
   },
   {
    "duration": 42,
    "start_time": "2022-02-15T11:08:56.284Z"
   },
   {
    "duration": 39,
    "start_time": "2022-02-15T11:08:56.328Z"
   },
   {
    "duration": 1317,
    "start_time": "2022-02-15T11:09:47.932Z"
   },
   {
    "duration": 31,
    "start_time": "2022-02-15T11:09:49.252Z"
   },
   {
    "duration": 53,
    "start_time": "2022-02-15T11:09:49.286Z"
   },
   {
    "duration": 13,
    "start_time": "2022-02-15T11:09:49.341Z"
   },
   {
    "duration": 4,
    "start_time": "2022-02-15T11:09:49.357Z"
   },
   {
    "duration": 14,
    "start_time": "2022-02-15T11:09:49.364Z"
   },
   {
    "duration": 7,
    "start_time": "2022-02-15T11:09:49.381Z"
   },
   {
    "duration": 49,
    "start_time": "2022-02-15T11:09:49.392Z"
   },
   {
    "duration": 23,
    "start_time": "2022-02-15T11:09:49.444Z"
   },
   {
    "duration": 15,
    "start_time": "2022-02-15T11:09:49.470Z"
   },
   {
    "duration": 11,
    "start_time": "2022-02-15T11:09:49.488Z"
   },
   {
    "duration": 46,
    "start_time": "2022-02-15T11:09:49.502Z"
   },
   {
    "duration": 5,
    "start_time": "2022-02-15T11:09:49.551Z"
   },
   {
    "duration": 25,
    "start_time": "2022-02-15T11:09:49.560Z"
   },
   {
    "duration": 47,
    "start_time": "2022-02-15T11:09:49.588Z"
   },
   {
    "duration": 7,
    "start_time": "2022-02-15T11:09:49.638Z"
   },
   {
    "duration": 25,
    "start_time": "2022-02-15T11:09:49.648Z"
   },
   {
    "duration": 56,
    "start_time": "2022-02-15T11:09:49.676Z"
   },
   {
    "duration": 37,
    "start_time": "2022-02-15T11:09:49.734Z"
   },
   {
    "duration": 7,
    "start_time": "2022-02-15T11:11:30.971Z"
   },
   {
    "duration": 6,
    "start_time": "2022-02-15T11:25:54.483Z"
   },
   {
    "duration": 7,
    "start_time": "2022-02-15T11:25:56.038Z"
   },
   {
    "duration": 1349,
    "start_time": "2022-02-15T11:27:19.417Z"
   },
   {
    "duration": 31,
    "start_time": "2022-02-15T11:27:20.769Z"
   },
   {
    "duration": 55,
    "start_time": "2022-02-15T11:27:20.807Z"
   },
   {
    "duration": 12,
    "start_time": "2022-02-15T11:27:20.864Z"
   },
   {
    "duration": 3,
    "start_time": "2022-02-15T11:27:20.879Z"
   },
   {
    "duration": 13,
    "start_time": "2022-02-15T11:27:20.885Z"
   },
   {
    "duration": 7,
    "start_time": "2022-02-15T11:27:20.933Z"
   },
   {
    "duration": 14,
    "start_time": "2022-02-15T11:27:20.943Z"
   },
   {
    "duration": 9,
    "start_time": "2022-02-15T11:27:20.960Z"
   },
   {
    "duration": 66,
    "start_time": "2022-02-15T11:27:20.972Z"
   },
   {
    "duration": 37,
    "start_time": "2022-02-15T11:27:21.040Z"
   },
   {
    "duration": 9,
    "start_time": "2022-02-15T11:27:21.079Z"
   },
   {
    "duration": 14,
    "start_time": "2022-02-15T11:27:21.090Z"
   },
   {
    "duration": 60,
    "start_time": "2022-02-15T11:27:21.107Z"
   },
   {
    "duration": 38,
    "start_time": "2022-02-15T11:27:21.169Z"
   },
   {
    "duration": 1324,
    "start_time": "2022-02-15T13:33:16.237Z"
   },
   {
    "duration": 91,
    "start_time": "2022-02-15T13:33:17.564Z"
   },
   {
    "duration": 43,
    "start_time": "2022-02-15T13:33:17.658Z"
   },
   {
    "duration": 20,
    "start_time": "2022-02-15T13:33:17.704Z"
   },
   {
    "duration": 5,
    "start_time": "2022-02-15T13:33:17.726Z"
   },
   {
    "duration": 12,
    "start_time": "2022-02-15T13:33:17.733Z"
   },
   {
    "duration": 7,
    "start_time": "2022-02-15T13:33:17.748Z"
   },
   {
    "duration": 11,
    "start_time": "2022-02-15T13:33:17.759Z"
   },
   {
    "duration": 10,
    "start_time": "2022-02-15T13:33:17.823Z"
   },
   {
    "duration": 33,
    "start_time": "2022-02-15T13:33:17.835Z"
   },
   {
    "duration": 73,
    "start_time": "2022-02-15T13:33:17.870Z"
   },
   {
    "duration": 9,
    "start_time": "2022-02-15T13:33:17.945Z"
   },
   {
    "duration": 9,
    "start_time": "2022-02-15T13:33:17.957Z"
   },
   {
    "duration": 75,
    "start_time": "2022-02-15T13:33:17.968Z"
   },
   {
    "duration": 39,
    "start_time": "2022-02-15T13:33:18.045Z"
   },
   {
    "duration": 1275,
    "start_time": "2022-02-15T13:35:12.074Z"
   },
   {
    "duration": 29,
    "start_time": "2022-02-15T13:35:13.352Z"
   },
   {
    "duration": 53,
    "start_time": "2022-02-15T13:35:13.384Z"
   },
   {
    "duration": 11,
    "start_time": "2022-02-15T13:35:13.439Z"
   },
   {
    "duration": 4,
    "start_time": "2022-02-15T13:35:13.453Z"
   },
   {
    "duration": 14,
    "start_time": "2022-02-15T13:35:13.459Z"
   },
   {
    "duration": 52,
    "start_time": "2022-02-15T13:35:13.475Z"
   },
   {
    "duration": 12,
    "start_time": "2022-02-15T13:35:13.530Z"
   },
   {
    "duration": 8,
    "start_time": "2022-02-15T13:35:13.544Z"
   },
   {
    "duration": 77,
    "start_time": "2022-02-15T13:35:13.554Z"
   },
   {
    "duration": 34,
    "start_time": "2022-02-15T13:35:13.633Z"
   },
   {
    "duration": 6,
    "start_time": "2022-02-15T13:35:13.669Z"
   },
   {
    "duration": 47,
    "start_time": "2022-02-15T13:35:13.678Z"
   },
   {
    "duration": 35,
    "start_time": "2022-02-15T13:35:13.728Z"
   },
   {
    "duration": 67,
    "start_time": "2022-02-15T13:35:13.765Z"
   },
   {
    "duration": 1364,
    "start_time": "2022-02-15T13:42:16.040Z"
   },
   {
    "duration": 36,
    "start_time": "2022-02-15T13:42:17.407Z"
   },
   {
    "duration": 43,
    "start_time": "2022-02-15T13:42:17.445Z"
   },
   {
    "duration": 38,
    "start_time": "2022-02-15T13:42:17.491Z"
   },
   {
    "duration": 6,
    "start_time": "2022-02-15T13:42:17.533Z"
   },
   {
    "duration": 18,
    "start_time": "2022-02-15T13:42:17.542Z"
   },
   {
    "duration": 9,
    "start_time": "2022-02-15T13:42:17.563Z"
   },
   {
    "duration": 62,
    "start_time": "2022-02-15T13:42:17.576Z"
   },
   {
    "duration": 13,
    "start_time": "2022-02-15T13:42:17.642Z"
   },
   {
    "duration": 91,
    "start_time": "2022-02-15T13:42:17.658Z"
   },
   {
    "duration": 38,
    "start_time": "2022-02-15T13:42:17.753Z"
   },
   {
    "duration": 32,
    "start_time": "2022-02-15T13:42:17.794Z"
   },
   {
    "duration": 9,
    "start_time": "2022-02-15T13:42:17.830Z"
   },
   {
    "duration": 92,
    "start_time": "2022-02-15T13:42:17.842Z"
   },
   {
    "duration": 40,
    "start_time": "2022-02-15T13:42:17.936Z"
   },
   {
    "duration": 409,
    "start_time": "2022-02-15T13:42:17.979Z"
   },
   {
    "duration": 6,
    "start_time": "2022-02-15T13:43:48.183Z"
   },
   {
    "duration": 40,
    "start_time": "2022-02-15T13:43:58.978Z"
   },
   {
    "duration": 9,
    "start_time": "2022-02-15T13:44:36.009Z"
   },
   {
    "duration": 1946,
    "start_time": "2022-02-15T14:43:29.831Z"
   },
   {
    "duration": 49,
    "start_time": "2022-02-15T14:43:31.781Z"
   },
   {
    "duration": 50,
    "start_time": "2022-02-15T14:43:31.833Z"
   },
   {
    "duration": 43,
    "start_time": "2022-02-15T14:43:31.886Z"
   },
   {
    "duration": 7,
    "start_time": "2022-02-15T14:43:31.934Z"
   },
   {
    "duration": 19,
    "start_time": "2022-02-15T14:43:31.945Z"
   },
   {
    "duration": 8,
    "start_time": "2022-02-15T14:43:31.968Z"
   },
   {
    "duration": 13,
    "start_time": "2022-02-15T14:43:32.024Z"
   },
   {
    "duration": 9,
    "start_time": "2022-02-15T14:43:32.040Z"
   },
   {
    "duration": 87,
    "start_time": "2022-02-15T14:43:32.052Z"
   },
   {
    "duration": 40,
    "start_time": "2022-02-15T14:43:32.141Z"
   },
   {
    "duration": 40,
    "start_time": "2022-02-15T14:43:32.185Z"
   },
   {
    "duration": 22,
    "start_time": "2022-02-15T14:43:32.228Z"
   },
   {
    "duration": 81,
    "start_time": "2022-02-15T14:43:32.253Z"
   },
   {
    "duration": 62,
    "start_time": "2022-02-15T14:43:32.338Z"
   },
   {
    "duration": 22,
    "start_time": "2022-02-15T14:43:32.403Z"
   },
   {
    "duration": 25,
    "start_time": "2022-02-15T14:43:32.427Z"
   },
   {
    "duration": 26,
    "start_time": "2022-02-15T14:43:32.455Z"
   },
   {
    "duration": 46,
    "start_time": "2022-02-15T14:43:32.483Z"
   },
   {
    "duration": 22,
    "start_time": "2022-02-15T14:43:32.532Z"
   },
   {
    "duration": 79,
    "start_time": "2022-02-15T14:43:32.557Z"
   },
   {
    "duration": 49,
    "start_time": "2022-02-15T14:44:02.141Z"
   },
   {
    "duration": 29,
    "start_time": "2022-02-15T14:44:06.200Z"
   },
   {
    "duration": 12,
    "start_time": "2022-02-15T14:44:24.842Z"
   },
   {
    "duration": 5,
    "start_time": "2022-02-15T14:46:46.091Z"
   },
   {
    "duration": 42,
    "start_time": "2022-02-15T14:46:46.100Z"
   },
   {
    "duration": 34,
    "start_time": "2022-02-15T14:46:46.146Z"
   },
   {
    "duration": 54,
    "start_time": "2022-02-15T14:46:46.184Z"
   },
   {
    "duration": 5,
    "start_time": "2022-02-15T14:46:46.241Z"
   },
   {
    "duration": 17,
    "start_time": "2022-02-15T14:46:46.249Z"
   },
   {
    "duration": 53,
    "start_time": "2022-02-15T14:46:46.271Z"
   },
   {
    "duration": 17,
    "start_time": "2022-02-15T14:46:46.328Z"
   },
   {
    "duration": 12,
    "start_time": "2022-02-15T14:46:46.348Z"
   },
   {
    "duration": 99,
    "start_time": "2022-02-15T14:46:46.363Z"
   },
   {
    "duration": 74,
    "start_time": "2022-02-15T14:46:46.465Z"
   },
   {
    "duration": 10,
    "start_time": "2022-02-15T14:46:46.542Z"
   },
   {
    "duration": 10,
    "start_time": "2022-02-15T14:46:46.555Z"
   },
   {
    "duration": 89,
    "start_time": "2022-02-15T14:46:46.568Z"
   },
   {
    "duration": 64,
    "start_time": "2022-02-15T14:46:46.659Z"
   },
   {
    "duration": 8,
    "start_time": "2022-02-15T14:46:46.726Z"
   },
   {
    "duration": 19,
    "start_time": "2022-02-15T14:46:46.737Z"
   },
   {
    "duration": 27,
    "start_time": "2022-02-15T14:46:46.758Z"
   },
   {
    "duration": 41,
    "start_time": "2022-02-15T14:46:46.789Z"
   },
   {
    "duration": 15,
    "start_time": "2022-02-15T14:46:46.833Z"
   },
   {
    "duration": 10,
    "start_time": "2022-02-15T14:46:46.851Z"
   },
   {
    "duration": 70,
    "start_time": "2022-02-15T14:46:46.864Z"
   },
   {
    "duration": 10,
    "start_time": "2022-02-15T14:46:46.937Z"
   },
   {
    "duration": 40,
    "start_time": "2022-02-15T14:48:42.775Z"
   },
   {
    "duration": 5,
    "start_time": "2022-02-15T14:51:40.392Z"
   },
   {
    "duration": 60,
    "start_time": "2022-02-15T14:51:47.515Z"
   },
   {
    "duration": 8,
    "start_time": "2022-02-15T14:52:19.031Z"
   },
   {
    "duration": 943,
    "start_time": "2022-02-15T14:54:33.789Z"
   },
   {
    "duration": 718,
    "start_time": "2022-02-15T14:55:08.557Z"
   },
   {
    "duration": 709,
    "start_time": "2022-02-15T14:55:31.029Z"
   },
   {
    "duration": 704,
    "start_time": "2022-02-15T15:05:34.689Z"
   },
   {
    "duration": 409,
    "start_time": "2022-02-15T15:10:15.796Z"
   },
   {
    "duration": 6,
    "start_time": "2022-02-15T15:10:27.804Z"
   },
   {
    "duration": 5513,
    "start_time": "2022-02-15T15:10:35.091Z"
   },
   {
    "duration": 15334,
    "start_time": "2022-02-15T15:11:11.982Z"
   },
   {
    "duration": 26228,
    "start_time": "2022-02-15T15:12:36.019Z"
   },
   {
    "duration": 23219,
    "start_time": "2022-02-15T15:13:48.499Z"
   },
   {
    "duration": 62235,
    "start_time": "2022-02-15T15:32:24.625Z"
   },
   {
    "duration": 24766,
    "start_time": "2022-02-15T15:35:51.201Z"
   },
   {
    "duration": 65465,
    "start_time": "2022-02-15T15:36:23.724Z"
   },
   {
    "duration": 1053,
    "start_time": "2022-02-15T16:43:30.605Z"
   },
   {
    "duration": 23,
    "start_time": "2022-02-15T16:43:31.660Z"
   },
   {
    "duration": 26,
    "start_time": "2022-02-15T16:43:31.685Z"
   },
   {
    "duration": 20,
    "start_time": "2022-02-15T16:43:31.713Z"
   },
   {
    "duration": 2,
    "start_time": "2022-02-15T16:43:31.735Z"
   },
   {
    "duration": 10,
    "start_time": "2022-02-15T16:43:31.739Z"
   },
   {
    "duration": 5,
    "start_time": "2022-02-15T16:43:31.751Z"
   },
   {
    "duration": 7,
    "start_time": "2022-02-15T16:43:31.758Z"
   },
   {
    "duration": 5,
    "start_time": "2022-02-15T16:43:31.767Z"
   },
   {
    "duration": 28,
    "start_time": "2022-02-15T16:43:31.774Z"
   },
   {
    "duration": 47,
    "start_time": "2022-02-15T16:43:31.803Z"
   },
   {
    "duration": 9,
    "start_time": "2022-02-15T16:43:31.851Z"
   },
   {
    "duration": 24,
    "start_time": "2022-02-15T16:43:31.862Z"
   },
   {
    "duration": 41,
    "start_time": "2022-02-15T16:43:31.888Z"
   },
   {
    "duration": 27,
    "start_time": "2022-02-15T16:43:31.931Z"
   },
   {
    "duration": 9,
    "start_time": "2022-02-15T16:43:31.960Z"
   },
   {
    "duration": 11,
    "start_time": "2022-02-15T16:43:31.971Z"
   },
   {
    "duration": 15,
    "start_time": "2022-02-15T16:43:31.984Z"
   },
   {
    "duration": 5,
    "start_time": "2022-02-15T16:43:32.001Z"
   },
   {
    "duration": 6,
    "start_time": "2022-02-15T16:43:32.007Z"
   },
   {
    "duration": 19,
    "start_time": "2022-02-15T16:43:32.014Z"
   },
   {
    "duration": 22,
    "start_time": "2022-02-15T16:43:32.034Z"
   },
   {
    "duration": 6,
    "start_time": "2022-02-15T16:43:32.059Z"
   },
   {
    "duration": 18,
    "start_time": "2022-02-15T16:43:32.067Z"
   },
   {
    "duration": 487,
    "start_time": "2022-02-15T16:43:32.087Z"
   },
   {
    "duration": 44580,
    "start_time": "2022-02-15T16:43:32.577Z"
   },
   {
    "duration": 51017,
    "start_time": "2022-02-15T16:46:12.325Z"
   },
   {
    "duration": 86285,
    "start_time": "2022-02-15T16:48:40.430Z"
   },
   {
    "duration": 90161,
    "start_time": "2022-02-15T16:51:40.100Z"
   },
   {
    "duration": 4,
    "start_time": "2022-02-15T17:07:35.479Z"
   },
   {
    "duration": 31,
    "start_time": "2022-02-15T17:07:35.485Z"
   },
   {
    "duration": 22,
    "start_time": "2022-02-15T17:07:35.519Z"
   },
   {
    "duration": 10,
    "start_time": "2022-02-15T17:07:35.543Z"
   },
   {
    "duration": 3,
    "start_time": "2022-02-15T17:07:35.555Z"
   },
   {
    "duration": 13,
    "start_time": "2022-02-15T17:07:35.560Z"
   },
   {
    "duration": 6,
    "start_time": "2022-02-15T17:07:35.576Z"
   },
   {
    "duration": 46,
    "start_time": "2022-02-15T17:07:35.584Z"
   },
   {
    "duration": 5,
    "start_time": "2022-02-15T17:07:35.632Z"
   },
   {
    "duration": 20,
    "start_time": "2022-02-15T17:07:35.639Z"
   },
   {
    "duration": 21,
    "start_time": "2022-02-15T17:07:35.661Z"
   },
   {
    "duration": 9,
    "start_time": "2022-02-15T17:07:35.684Z"
   },
   {
    "duration": 9,
    "start_time": "2022-02-15T17:07:35.694Z"
   },
   {
    "duration": 42,
    "start_time": "2022-02-15T17:07:35.705Z"
   },
   {
    "duration": 26,
    "start_time": "2022-02-15T17:07:35.749Z"
   },
   {
    "duration": 5,
    "start_time": "2022-02-15T17:07:35.776Z"
   },
   {
    "duration": 8,
    "start_time": "2022-02-15T17:07:35.782Z"
   },
   {
    "duration": 13,
    "start_time": "2022-02-15T17:07:35.792Z"
   },
   {
    "duration": 24,
    "start_time": "2022-02-15T17:07:35.807Z"
   },
   {
    "duration": 6,
    "start_time": "2022-02-15T17:07:35.833Z"
   },
   {
    "duration": 7,
    "start_time": "2022-02-15T17:07:35.840Z"
   },
   {
    "duration": 21,
    "start_time": "2022-02-15T17:07:35.849Z"
   },
   {
    "duration": 7,
    "start_time": "2022-02-15T17:07:35.871Z"
   },
   {
    "duration": 21,
    "start_time": "2022-02-15T17:07:35.879Z"
   },
   {
    "duration": 301,
    "start_time": "2022-02-15T17:07:35.902Z"
   },
   {
    "duration": 5,
    "start_time": "2022-02-15T17:07:55.600Z"
   },
   {
    "duration": 31,
    "start_time": "2022-02-15T17:07:55.608Z"
   },
   {
    "duration": 21,
    "start_time": "2022-02-15T17:07:55.641Z"
   },
   {
    "duration": 10,
    "start_time": "2022-02-15T17:07:55.665Z"
   },
   {
    "duration": 5,
    "start_time": "2022-02-15T17:07:55.677Z"
   },
   {
    "duration": 10,
    "start_time": "2022-02-15T17:07:55.684Z"
   },
   {
    "duration": 38,
    "start_time": "2022-02-15T17:07:55.697Z"
   },
   {
    "duration": 10,
    "start_time": "2022-02-15T17:07:55.737Z"
   },
   {
    "duration": 8,
    "start_time": "2022-02-15T17:07:55.748Z"
   },
   {
    "duration": 20,
    "start_time": "2022-02-15T17:07:55.757Z"
   },
   {
    "duration": 22,
    "start_time": "2022-02-15T17:07:55.778Z"
   },
   {
    "duration": 30,
    "start_time": "2022-02-15T17:07:55.802Z"
   },
   {
    "duration": 10,
    "start_time": "2022-02-15T17:07:55.834Z"
   },
   {
    "duration": 36,
    "start_time": "2022-02-15T17:07:55.845Z"
   },
   {
    "duration": 52,
    "start_time": "2022-02-15T17:07:55.884Z"
   },
   {
    "duration": 5,
    "start_time": "2022-02-15T17:07:55.938Z"
   },
   {
    "duration": 9,
    "start_time": "2022-02-15T17:07:55.945Z"
   },
   {
    "duration": 20,
    "start_time": "2022-02-15T17:07:55.956Z"
   },
   {
    "duration": 6,
    "start_time": "2022-02-15T17:07:55.980Z"
   },
   {
    "duration": 6,
    "start_time": "2022-02-15T17:07:55.987Z"
   },
   {
    "duration": 38,
    "start_time": "2022-02-15T17:07:55.994Z"
   },
   {
    "duration": 20,
    "start_time": "2022-02-15T17:07:56.034Z"
   },
   {
    "duration": 7,
    "start_time": "2022-02-15T17:07:56.056Z"
   },
   {
    "duration": 20,
    "start_time": "2022-02-15T17:07:56.064Z"
   },
   {
    "duration": 4,
    "start_time": "2022-02-15T17:07:56.086Z"
   },
   {
    "duration": 504,
    "start_time": "2022-02-15T17:08:11.554Z"
   },
   {
    "duration": 541,
    "start_time": "2022-02-15T17:09:14.527Z"
   },
   {
    "duration": 507,
    "start_time": "2022-02-15T17:09:23.481Z"
   },
   {
    "duration": 504,
    "start_time": "2022-02-15T17:13:34.417Z"
   },
   {
    "duration": 448,
    "start_time": "2022-02-15T17:34:12.343Z"
   },
   {
    "duration": 134,
    "start_time": "2022-02-15T17:34:46.199Z"
   },
   {
    "duration": 24,
    "start_time": "2022-02-15T17:35:59.614Z"
   },
   {
    "duration": 447,
    "start_time": "2022-02-15T17:36:59.888Z"
   },
   {
    "duration": 25,
    "start_time": "2022-02-15T17:37:20.685Z"
   },
   {
    "duration": 6,
    "start_time": "2022-02-15T17:39:17.270Z"
   },
   {
    "duration": 5,
    "start_time": "2022-02-15T17:39:53.519Z"
   },
   {
    "duration": 1317,
    "start_time": "2022-02-16T06:51:17.537Z"
   },
   {
    "duration": 34,
    "start_time": "2022-02-16T06:51:18.857Z"
   },
   {
    "duration": 46,
    "start_time": "2022-02-16T06:51:18.893Z"
   },
   {
    "duration": 11,
    "start_time": "2022-02-16T06:51:18.942Z"
   },
   {
    "duration": 3,
    "start_time": "2022-02-16T06:51:18.956Z"
   },
   {
    "duration": 13,
    "start_time": "2022-02-16T06:51:18.961Z"
   },
   {
    "duration": 6,
    "start_time": "2022-02-16T06:51:18.977Z"
   },
   {
    "duration": 10,
    "start_time": "2022-02-16T06:51:19.023Z"
   },
   {
    "duration": 8,
    "start_time": "2022-02-16T06:51:19.036Z"
   },
   {
    "duration": 32,
    "start_time": "2022-02-16T06:51:19.047Z"
   },
   {
    "duration": 62,
    "start_time": "2022-02-16T06:51:19.081Z"
   },
   {
    "duration": 6,
    "start_time": "2022-02-16T06:51:19.145Z"
   },
   {
    "duration": 6,
    "start_time": "2022-02-16T06:51:19.154Z"
   },
   {
    "duration": 67,
    "start_time": "2022-02-16T06:51:19.163Z"
   },
   {
    "duration": 52,
    "start_time": "2022-02-16T06:51:19.233Z"
   },
   {
    "duration": 8,
    "start_time": "2022-02-16T06:51:19.288Z"
   },
   {
    "duration": 16,
    "start_time": "2022-02-16T06:51:19.324Z"
   },
   {
    "duration": 27,
    "start_time": "2022-02-16T06:51:19.342Z"
   },
   {
    "duration": 8,
    "start_time": "2022-02-16T06:51:19.372Z"
   },
   {
    "duration": 9,
    "start_time": "2022-02-16T06:51:19.382Z"
   },
   {
    "duration": 33,
    "start_time": "2022-02-16T06:51:19.394Z"
   },
   {
    "duration": 33,
    "start_time": "2022-02-16T06:51:19.429Z"
   },
   {
    "duration": 11,
    "start_time": "2022-02-16T06:51:19.466Z"
   },
   {
    "duration": 72,
    "start_time": "2022-02-16T06:51:19.480Z"
   },
   {
    "duration": 11,
    "start_time": "2022-02-16T06:51:19.554Z"
   },
   {
    "duration": 738,
    "start_time": "2022-02-16T06:51:19.567Z"
   },
   {
    "duration": 131165,
    "start_time": "2022-02-16T06:51:20.307Z"
   },
   {
    "duration": 52,
    "start_time": "2022-02-16T06:53:31.475Z"
   },
   {
    "duration": 98,
    "start_time": "2022-02-16T06:53:31.531Z"
   },
   {
    "duration": 40,
    "start_time": "2022-02-16T06:55:34.700Z"
   },
   {
    "duration": 5,
    "start_time": "2022-02-16T06:58:01.725Z"
   },
   {
    "duration": 328,
    "start_time": "2022-02-16T07:03:12.495Z"
   },
   {
    "duration": 221,
    "start_time": "2022-02-16T07:04:02.542Z"
   },
   {
    "duration": 420,
    "start_time": "2022-02-16T07:04:10.941Z"
   },
   {
    "duration": 769,
    "start_time": "2022-02-16T07:04:22.355Z"
   },
   {
    "duration": 926,
    "start_time": "2022-02-16T07:04:46.099Z"
   },
   {
    "duration": 1040,
    "start_time": "2022-02-16T07:05:10.883Z"
   },
   {
    "duration": 1059,
    "start_time": "2022-02-16T07:05:27.764Z"
   },
   {
    "duration": 918,
    "start_time": "2022-02-16T07:05:59.706Z"
   },
   {
    "duration": 941,
    "start_time": "2022-02-16T07:06:24.883Z"
   },
   {
    "duration": 424,
    "start_time": "2022-02-16T07:14:36.552Z"
   },
   {
    "duration": 1881,
    "start_time": "2022-02-16T07:15:30.443Z"
   },
   {
    "duration": 2445,
    "start_time": "2022-02-16T07:16:19.983Z"
   },
   {
    "duration": 2838,
    "start_time": "2022-02-16T07:16:37.802Z"
   },
   {
    "duration": 1789,
    "start_time": "2022-02-16T07:17:06.655Z"
   },
   {
    "duration": 6,
    "start_time": "2022-02-16T07:26:54.101Z"
   },
   {
    "duration": 700,
    "start_time": "2022-02-16T07:28:37.301Z"
   },
   {
    "duration": 189,
    "start_time": "2022-02-16T07:39:39.419Z"
   },
   {
    "duration": 187,
    "start_time": "2022-02-16T07:40:32.103Z"
   },
   {
    "duration": 190,
    "start_time": "2022-02-16T07:41:04.947Z"
   },
   {
    "duration": 184,
    "start_time": "2022-02-16T07:43:01.687Z"
   },
   {
    "duration": 335,
    "start_time": "2022-02-16T07:43:32.359Z"
   },
   {
    "duration": 439,
    "start_time": "2022-02-16T07:45:13.376Z"
   },
   {
    "duration": 445,
    "start_time": "2022-02-16T07:47:18.937Z"
   },
   {
    "duration": 440,
    "start_time": "2022-02-16T07:47:44.886Z"
   },
   {
    "duration": 269,
    "start_time": "2022-02-16T07:48:07.354Z"
   },
   {
    "duration": 270,
    "start_time": "2022-02-16T07:49:17.232Z"
   },
   {
    "duration": 110,
    "start_time": "2022-02-16T07:49:35.244Z"
   },
   {
    "duration": 92,
    "start_time": "2022-02-16T07:49:44.174Z"
   },
   {
    "duration": 272,
    "start_time": "2022-02-16T07:50:06.408Z"
   },
   {
    "duration": 310,
    "start_time": "2022-02-16T07:53:17.423Z"
   },
   {
    "duration": 261,
    "start_time": "2022-02-16T07:54:29.181Z"
   },
   {
    "duration": 331,
    "start_time": "2022-02-16T08:00:14.352Z"
   },
   {
    "duration": 382,
    "start_time": "2022-02-16T08:00:52.772Z"
   },
   {
    "duration": 103,
    "start_time": "2022-02-16T08:01:59.568Z"
   },
   {
    "duration": 386,
    "start_time": "2022-02-16T08:02:06.428Z"
   },
   {
    "duration": 410,
    "start_time": "2022-02-16T08:03:17.387Z"
   },
   {
    "duration": 390,
    "start_time": "2022-02-16T08:03:41.374Z"
   },
   {
    "duration": 1873,
    "start_time": "2022-02-16T08:04:49.355Z"
   },
   {
    "duration": 1806,
    "start_time": "2022-02-16T08:06:04.037Z"
   },
   {
    "duration": 1862,
    "start_time": "2022-02-16T08:06:41.299Z"
   },
   {
    "duration": 5,
    "start_time": "2022-02-16T08:47:45.207Z"
   },
   {
    "duration": 6,
    "start_time": "2022-02-16T08:48:17.309Z"
   },
   {
    "duration": 426,
    "start_time": "2022-02-16T08:53:17.224Z"
   },
   {
    "duration": 5,
    "start_time": "2022-02-16T08:53:19.183Z"
   },
   {
    "duration": 6,
    "start_time": "2022-02-16T08:54:42.815Z"
   },
   {
    "duration": 405,
    "start_time": "2022-02-16T08:56:17.800Z"
   },
   {
    "duration": 6,
    "start_time": "2022-02-16T08:56:18.723Z"
   },
   {
    "duration": 409,
    "start_time": "2022-02-16T08:56:39.171Z"
   },
   {
    "duration": 3452,
    "start_time": "2022-02-16T09:07:15.694Z"
   },
   {
    "duration": 3472,
    "start_time": "2022-02-16T09:08:49.352Z"
   },
   {
    "duration": 3476,
    "start_time": "2022-02-16T09:10:46.494Z"
   },
   {
    "duration": 3699,
    "start_time": "2022-02-16T09:11:07.561Z"
   },
   {
    "duration": 2313,
    "start_time": "2022-02-16T10:26:26.562Z"
   },
   {
    "duration": 3924,
    "start_time": "2022-02-16T10:26:53.381Z"
   },
   {
    "duration": 4101,
    "start_time": "2022-02-16T10:27:14.197Z"
   },
   {
    "duration": 3611,
    "start_time": "2022-02-16T10:29:30.465Z"
   },
   {
    "duration": 3580,
    "start_time": "2022-02-16T10:29:41.307Z"
   },
   {
    "duration": 4351,
    "start_time": "2022-02-16T10:30:39.828Z"
   },
   {
    "duration": 4585,
    "start_time": "2022-02-16T10:30:55.903Z"
   },
   {
    "duration": 3853,
    "start_time": "2022-02-16T10:31:21.555Z"
   },
   {
    "duration": 4040,
    "start_time": "2022-02-16T10:31:32.787Z"
   },
   {
    "duration": 3793,
    "start_time": "2022-02-16T10:32:00.678Z"
   },
   {
    "duration": 2481,
    "start_time": "2022-02-16T10:33:09.837Z"
   },
   {
    "duration": 3809,
    "start_time": "2022-02-16T10:33:46.140Z"
   },
   {
    "duration": 3762,
    "start_time": "2022-02-16T10:36:30.678Z"
   },
   {
    "duration": 3843,
    "start_time": "2022-02-16T10:37:04.967Z"
   },
   {
    "duration": 92,
    "start_time": "2022-02-16T10:38:52.037Z"
   },
   {
    "duration": 3838,
    "start_time": "2022-02-16T10:39:05.075Z"
   },
   {
    "duration": 3920,
    "start_time": "2022-02-16T10:40:13.536Z"
   },
   {
    "duration": 3780,
    "start_time": "2022-02-16T10:40:26.114Z"
   },
   {
    "duration": 501,
    "start_time": "2022-02-16T10:49:06.451Z"
   },
   {
    "duration": 5,
    "start_time": "2022-02-16T10:49:20.361Z"
   },
   {
    "duration": 4048,
    "start_time": "2022-02-16T10:49:30.045Z"
   },
   {
    "duration": 4213,
    "start_time": "2022-02-16T10:50:09.183Z"
   },
   {
    "duration": 4128,
    "start_time": "2022-02-16T10:51:50.569Z"
   },
   {
    "duration": 4281,
    "start_time": "2022-02-16T10:52:56.242Z"
   },
   {
    "duration": 4022,
    "start_time": "2022-02-16T10:53:44.310Z"
   },
   {
    "duration": 4013,
    "start_time": "2022-02-16T11:01:01.841Z"
   },
   {
    "duration": 3572,
    "start_time": "2022-02-16T11:01:43.165Z"
   },
   {
    "duration": 323,
    "start_time": "2022-02-16T11:07:25.023Z"
   },
   {
    "duration": 284,
    "start_time": "2022-02-16T11:09:09.697Z"
   },
   {
    "duration": 419,
    "start_time": "2022-02-16T11:09:50.642Z"
   },
   {
    "duration": 420,
    "start_time": "2022-02-16T11:11:02.734Z"
   },
   {
    "duration": 408,
    "start_time": "2022-02-16T11:20:28.121Z"
   },
   {
    "duration": 296,
    "start_time": "2022-02-16T11:21:55.117Z"
   },
   {
    "duration": 300,
    "start_time": "2022-02-16T11:28:39.591Z"
   },
   {
    "duration": 311,
    "start_time": "2022-02-16T11:29:12.378Z"
   },
   {
    "duration": 301,
    "start_time": "2022-02-16T11:31:35.056Z"
   },
   {
    "duration": 15,
    "start_time": "2022-02-16T11:37:49.085Z"
   },
   {
    "duration": 14,
    "start_time": "2022-02-16T11:39:07.514Z"
   },
   {
    "duration": 41,
    "start_time": "2022-02-16T11:40:18.024Z"
   },
   {
    "duration": 41,
    "start_time": "2022-02-16T11:42:32.886Z"
   },
   {
    "duration": 7,
    "start_time": "2022-02-16T11:42:48.267Z"
   },
   {
    "duration": 6,
    "start_time": "2022-02-16T11:44:28.897Z"
   },
   {
    "duration": 34,
    "start_time": "2022-02-16T13:10:26.450Z"
   },
   {
    "duration": 15,
    "start_time": "2022-02-16T13:10:54.331Z"
   },
   {
    "duration": 48,
    "start_time": "2022-02-16T13:11:01.021Z"
   },
   {
    "duration": 38,
    "start_time": "2022-02-16T13:11:19.036Z"
   },
   {
    "duration": 33,
    "start_time": "2022-02-16T13:12:25.717Z"
   },
   {
    "duration": 35,
    "start_time": "2022-02-16T13:12:37.572Z"
   },
   {
    "duration": 32,
    "start_time": "2022-02-16T13:13:53.219Z"
   },
   {
    "duration": 6,
    "start_time": "2022-02-16T13:13:59.590Z"
   },
   {
    "duration": 32,
    "start_time": "2022-02-16T13:13:59.599Z"
   },
   {
    "duration": 33,
    "start_time": "2022-02-16T13:13:59.635Z"
   },
   {
    "duration": 11,
    "start_time": "2022-02-16T13:13:59.671Z"
   },
   {
    "duration": 4,
    "start_time": "2022-02-16T13:13:59.723Z"
   },
   {
    "duration": 14,
    "start_time": "2022-02-16T13:13:59.729Z"
   },
   {
    "duration": 6,
    "start_time": "2022-02-16T13:13:59.746Z"
   },
   {
    "duration": 13,
    "start_time": "2022-02-16T13:13:59.755Z"
   },
   {
    "duration": 7,
    "start_time": "2022-02-16T13:13:59.771Z"
   },
   {
    "duration": 68,
    "start_time": "2022-02-16T13:13:59.780Z"
   },
   {
    "duration": 35,
    "start_time": "2022-02-16T13:13:59.851Z"
   },
   {
    "duration": 34,
    "start_time": "2022-02-16T13:13:59.889Z"
   },
   {
    "duration": 10,
    "start_time": "2022-02-16T13:13:59.926Z"
   },
   {
    "duration": 39,
    "start_time": "2022-02-16T13:13:59.939Z"
   },
   {
    "duration": 66,
    "start_time": "2022-02-16T13:13:59.980Z"
   },
   {
    "duration": 11,
    "start_time": "2022-02-16T13:14:00.048Z"
   },
   {
    "duration": 11,
    "start_time": "2022-02-16T13:14:00.062Z"
   },
   {
    "duration": 22,
    "start_time": "2022-02-16T13:14:00.075Z"
   },
   {
    "duration": 6,
    "start_time": "2022-02-16T13:14:00.124Z"
   },
   {
    "duration": 13,
    "start_time": "2022-02-16T13:14:00.133Z"
   },
   {
    "duration": 8,
    "start_time": "2022-02-16T13:14:00.148Z"
   },
   {
    "duration": 41,
    "start_time": "2022-02-16T13:14:00.158Z"
   },
   {
    "duration": 29,
    "start_time": "2022-02-16T13:14:00.202Z"
   },
   {
    "duration": 31,
    "start_time": "2022-02-16T13:20:42.662Z"
   },
   {
    "duration": 15,
    "start_time": "2022-02-16T13:20:57.569Z"
   },
   {
    "duration": 62,
    "start_time": "2022-02-16T13:21:08.175Z"
   },
   {
    "duration": 1528,
    "start_time": "2022-02-16T13:26:22.425Z"
   },
   {
    "duration": 36,
    "start_time": "2022-02-16T13:26:23.956Z"
   },
   {
    "duration": 53,
    "start_time": "2022-02-16T13:26:23.995Z"
   },
   {
    "duration": 15,
    "start_time": "2022-02-16T13:26:24.051Z"
   },
   {
    "duration": 5,
    "start_time": "2022-02-16T13:26:24.069Z"
   },
   {
    "duration": 48,
    "start_time": "2022-02-16T13:26:24.078Z"
   },
   {
    "duration": 9,
    "start_time": "2022-02-16T13:26:24.129Z"
   },
   {
    "duration": 14,
    "start_time": "2022-02-16T13:26:24.142Z"
   },
   {
    "duration": 13,
    "start_time": "2022-02-16T13:26:24.159Z"
   },
   {
    "duration": 73,
    "start_time": "2022-02-16T13:26:24.176Z"
   },
   {
    "duration": 37,
    "start_time": "2022-02-16T13:26:24.252Z"
   },
   {
    "duration": 6,
    "start_time": "2022-02-16T13:26:24.292Z"
   },
   {
    "duration": 8,
    "start_time": "2022-02-16T13:26:24.324Z"
   },
   {
    "duration": 50,
    "start_time": "2022-02-16T13:26:24.334Z"
   },
   {
    "duration": 63,
    "start_time": "2022-02-16T13:26:24.386Z"
   },
   {
    "duration": 8,
    "start_time": "2022-02-16T13:26:24.452Z"
   },
   {
    "duration": 20,
    "start_time": "2022-02-16T13:26:24.463Z"
   },
   {
    "duration": 45,
    "start_time": "2022-02-16T13:26:24.486Z"
   },
   {
    "duration": 9,
    "start_time": "2022-02-16T13:26:24.533Z"
   },
   {
    "duration": 11,
    "start_time": "2022-02-16T13:26:24.544Z"
   },
   {
    "duration": 26,
    "start_time": "2022-02-16T13:26:24.558Z"
   },
   {
    "duration": 66,
    "start_time": "2022-02-16T13:26:24.587Z"
   },
   {
    "duration": 10,
    "start_time": "2022-02-16T13:26:24.658Z"
   },
   {
    "duration": 59,
    "start_time": "2022-02-16T13:26:24.681Z"
   },
   {
    "duration": 9,
    "start_time": "2022-02-16T13:26:24.743Z"
   },
   {
    "duration": 871,
    "start_time": "2022-02-16T13:26:24.755Z"
   },
   {
    "duration": 137236,
    "start_time": "2022-02-16T13:26:25.629Z"
   },
   {
    "duration": 7,
    "start_time": "2022-02-16T13:28:42.869Z"
   },
   {
    "duration": 70,
    "start_time": "2022-02-16T13:28:42.878Z"
   },
   {
    "duration": 101,
    "start_time": "2022-02-16T13:28:43.026Z"
   },
   {
    "duration": 793,
    "start_time": "2022-02-16T13:28:43.130Z"
   },
   {
    "duration": 316,
    "start_time": "2022-02-16T13:28:43.926Z"
   },
   {
    "duration": 449,
    "start_time": "2022-02-16T13:28:44.245Z"
   },
   {
    "duration": 7,
    "start_time": "2022-02-16T13:28:44.697Z"
   },
   {
    "duration": 457,
    "start_time": "2022-02-16T13:28:44.707Z"
   },
   {
    "duration": 3600,
    "start_time": "2022-02-16T13:28:45.169Z"
   },
   {
    "duration": 3510,
    "start_time": "2022-02-16T13:28:48.771Z"
   },
   {
    "duration": 3759,
    "start_time": "2022-02-16T13:28:52.284Z"
   },
   {
    "duration": 3862,
    "start_time": "2022-02-16T13:28:56.045Z"
   },
   {
    "duration": 321,
    "start_time": "2022-02-16T13:28:59.910Z"
   },
   {
    "duration": 4097,
    "start_time": "2022-02-16T13:29:00.234Z"
   },
   {
    "duration": 5,
    "start_time": "2022-02-16T13:29:04.334Z"
   },
   {
    "duration": 92,
    "start_time": "2022-02-16T13:29:04.342Z"
   },
   {
    "duration": 987,
    "start_time": "2022-02-16T13:29:04.436Z"
   },
   {
    "duration": 1911,
    "start_time": "2022-02-16T13:29:05.427Z"
   },
   {
    "duration": 106,
    "start_time": "2022-02-16T13:29:07.425Z"
   },
   {
    "duration": 5,
    "start_time": "2022-02-16T13:29:07.534Z"
   },
   {
    "duration": 81,
    "start_time": "2022-02-16T13:29:07.542Z"
   },
   {
    "duration": 24,
    "start_time": "2022-02-16T13:29:07.625Z"
   },
   {
    "duration": 1376,
    "start_time": "2022-02-16T13:30:08.419Z"
   },
   {
    "duration": 39,
    "start_time": "2022-02-16T13:30:09.797Z"
   },
   {
    "duration": 44,
    "start_time": "2022-02-16T13:30:09.839Z"
   },
   {
    "duration": 12,
    "start_time": "2022-02-16T13:30:09.885Z"
   },
   {
    "duration": 4,
    "start_time": "2022-02-16T13:30:09.924Z"
   },
   {
    "duration": 19,
    "start_time": "2022-02-16T13:30:09.930Z"
   },
   {
    "duration": 7,
    "start_time": "2022-02-16T13:30:09.951Z"
   },
   {
    "duration": 13,
    "start_time": "2022-02-16T13:30:09.962Z"
   },
   {
    "duration": 45,
    "start_time": "2022-02-16T13:30:09.978Z"
   },
   {
    "duration": 38,
    "start_time": "2022-02-16T13:30:10.026Z"
   },
   {
    "duration": 65,
    "start_time": "2022-02-16T13:30:10.068Z"
   },
   {
    "duration": 9,
    "start_time": "2022-02-16T13:30:10.136Z"
   },
   {
    "duration": 13,
    "start_time": "2022-02-16T13:30:10.148Z"
   },
   {
    "duration": 70,
    "start_time": "2022-02-16T13:30:10.164Z"
   },
   {
    "duration": 40,
    "start_time": "2022-02-16T13:30:10.237Z"
   },
   {
    "duration": 6,
    "start_time": "2022-02-16T13:30:10.279Z"
   },
   {
    "duration": 40,
    "start_time": "2022-02-16T13:30:10.288Z"
   },
   {
    "duration": 25,
    "start_time": "2022-02-16T13:30:10.331Z"
   },
   {
    "duration": 9,
    "start_time": "2022-02-16T13:30:10.358Z"
   },
   {
    "duration": 9,
    "start_time": "2022-02-16T13:30:10.369Z"
   },
   {
    "duration": 48,
    "start_time": "2022-02-16T13:30:10.381Z"
   },
   {
    "duration": 38,
    "start_time": "2022-02-16T13:30:10.432Z"
   },
   {
    "duration": 10,
    "start_time": "2022-02-16T13:30:10.475Z"
   },
   {
    "duration": 60,
    "start_time": "2022-02-16T13:30:10.488Z"
   },
   {
    "duration": 11,
    "start_time": "2022-02-16T13:30:10.550Z"
   },
   {
    "duration": 736,
    "start_time": "2022-02-16T13:30:10.564Z"
   },
   {
    "duration": 136531,
    "start_time": "2022-02-16T13:30:11.303Z"
   },
   {
    "duration": 7,
    "start_time": "2022-02-16T13:32:27.836Z"
   },
   {
    "duration": 83,
    "start_time": "2022-02-16T13:32:27.845Z"
   },
   {
    "duration": 96,
    "start_time": "2022-02-16T13:32:27.931Z"
   },
   {
    "duration": 798,
    "start_time": "2022-02-16T13:32:28.029Z"
   },
   {
    "duration": 295,
    "start_time": "2022-02-16T13:32:28.830Z"
   },
   {
    "duration": 424,
    "start_time": "2022-02-16T13:32:29.127Z"
   },
   {
    "duration": 6,
    "start_time": "2022-02-16T13:32:29.554Z"
   },
   {
    "duration": 419,
    "start_time": "2022-02-16T13:32:29.563Z"
   },
   {
    "duration": 3500,
    "start_time": "2022-02-16T13:32:29.985Z"
   },
   {
    "duration": 3414,
    "start_time": "2022-02-16T13:32:33.487Z"
   },
   {
    "duration": 3836,
    "start_time": "2022-02-16T13:32:36.904Z"
   },
   {
    "duration": 3756,
    "start_time": "2022-02-16T13:32:40.743Z"
   },
   {
    "duration": 330,
    "start_time": "2022-02-16T13:32:44.501Z"
   },
   {
    "duration": 4150,
    "start_time": "2022-02-16T13:32:44.833Z"
   },
   {
    "duration": 5,
    "start_time": "2022-02-16T13:32:48.986Z"
   },
   {
    "duration": 130,
    "start_time": "2022-02-16T13:32:48.994Z"
   },
   {
    "duration": 998,
    "start_time": "2022-02-16T13:32:49.127Z"
   },
   {
    "duration": 1914,
    "start_time": "2022-02-16T13:32:50.129Z"
   },
   {
    "duration": 103,
    "start_time": "2022-02-16T13:32:52.126Z"
   },
   {
    "duration": 10,
    "start_time": "2022-02-16T13:32:52.232Z"
   },
   {
    "duration": 79,
    "start_time": "2022-02-16T13:32:52.244Z"
   },
   {
    "duration": 883,
    "start_time": "2022-02-16T14:54:48.140Z"
   },
   {
    "duration": 940,
    "start_time": "2022-02-16T14:55:30.883Z"
   },
   {
    "duration": 1865,
    "start_time": "2022-02-16T14:56:01.859Z"
   },
   {
    "duration": 1946,
    "start_time": "2022-02-16T14:57:15.781Z"
   },
   {
    "duration": 1053,
    "start_time": "2022-02-17T06:43:40.005Z"
   },
   {
    "duration": 28,
    "start_time": "2022-02-17T06:43:41.060Z"
   },
   {
    "duration": 25,
    "start_time": "2022-02-17T06:43:41.090Z"
   },
   {
    "duration": 13,
    "start_time": "2022-02-17T06:43:41.117Z"
   },
   {
    "duration": 2,
    "start_time": "2022-02-17T06:43:41.132Z"
   },
   {
    "duration": 8,
    "start_time": "2022-02-17T06:43:41.136Z"
   },
   {
    "duration": 8,
    "start_time": "2022-02-17T06:43:41.146Z"
   },
   {
    "duration": 6,
    "start_time": "2022-02-17T06:43:41.156Z"
   },
   {
    "duration": 21,
    "start_time": "2022-02-17T06:43:41.163Z"
   },
   {
    "duration": 4,
    "start_time": "2022-02-17T06:43:41.185Z"
   },
   {
    "duration": 5,
    "start_time": "2022-02-17T06:43:56.028Z"
   },
   {
    "duration": 4,
    "start_time": "2022-02-17T06:43:57.672Z"
   },
   {
    "duration": 4347,
    "start_time": "2022-02-17T06:44:35.071Z"
   },
   {
    "duration": 4278,
    "start_time": "2022-02-17T06:44:49.815Z"
   },
   {
    "duration": 1397,
    "start_time": "2022-02-17T06:45:06.989Z"
   },
   {
    "duration": 5,
    "start_time": "2022-02-17T06:45:34.718Z"
   },
   {
    "duration": 180,
    "start_time": "2022-02-17T06:45:55.707Z"
   },
   {
    "duration": 171,
    "start_time": "2022-02-17T06:46:35.320Z"
   },
   {
    "duration": 11,
    "start_time": "2022-02-17T06:46:48.418Z"
   },
   {
    "duration": 62,
    "start_time": "2022-02-17T06:47:35.806Z"
   },
   {
    "duration": 54,
    "start_time": "2022-02-17T06:47:52.623Z"
   },
   {
    "duration": 172,
    "start_time": "2022-02-17T06:48:04.847Z"
   },
   {
    "duration": 181,
    "start_time": "2022-02-17T06:48:16.211Z"
   },
   {
    "duration": 4282,
    "start_time": "2022-02-17T06:48:22.714Z"
   },
   {
    "duration": 4557,
    "start_time": "2022-02-17T06:48:45.238Z"
   },
   {
    "duration": 57,
    "start_time": "2022-02-17T06:48:58.084Z"
   },
   {
    "duration": 8,
    "start_time": "2022-02-17T06:49:11.785Z"
   },
   {
    "duration": 11,
    "start_time": "2022-02-17T06:49:25.181Z"
   },
   {
    "duration": 177,
    "start_time": "2022-02-17T06:50:40.727Z"
   },
   {
    "duration": 59,
    "start_time": "2022-02-17T06:51:08.521Z"
   },
   {
    "duration": 165,
    "start_time": "2022-02-17T06:51:14.388Z"
   },
   {
    "duration": 186,
    "start_time": "2022-02-17T06:52:09.925Z"
   },
   {
    "duration": 253,
    "start_time": "2022-02-17T06:52:38.351Z"
   },
   {
    "duration": 184,
    "start_time": "2022-02-17T06:54:19.887Z"
   },
   {
    "duration": 4256,
    "start_time": "2022-02-17T06:54:41.735Z"
   },
   {
    "duration": 5,
    "start_time": "2022-02-17T06:55:37.742Z"
   },
   {
    "duration": 54,
    "start_time": "2022-02-17T06:56:11.064Z"
   },
   {
    "duration": 4172,
    "start_time": "2022-02-17T06:56:22.217Z"
   },
   {
    "duration": 171,
    "start_time": "2022-02-17T06:57:02.242Z"
   },
   {
    "duration": 11,
    "start_time": "2022-02-17T06:58:40.222Z"
   },
   {
    "duration": 6,
    "start_time": "2022-02-17T06:58:52.101Z"
   },
   {
    "duration": 12,
    "start_time": "2022-02-17T06:59:00.007Z"
   },
   {
    "duration": 368,
    "start_time": "2022-02-17T07:00:44.681Z"
   },
   {
    "duration": 173,
    "start_time": "2022-02-17T07:01:05.667Z"
   },
   {
    "duration": 191,
    "start_time": "2022-02-17T07:01:17.121Z"
   },
   {
    "duration": 177,
    "start_time": "2022-02-17T07:01:33.432Z"
   },
   {
    "duration": 11,
    "start_time": "2022-02-17T07:03:31.628Z"
   },
   {
    "duration": 12,
    "start_time": "2022-02-17T07:04:52.347Z"
   },
   {
    "duration": 1042,
    "start_time": "2022-02-17T07:06:45.507Z"
   },
   {
    "duration": 23,
    "start_time": "2022-02-17T07:06:46.551Z"
   },
   {
    "duration": 27,
    "start_time": "2022-02-17T07:06:46.576Z"
   },
   {
    "duration": 8,
    "start_time": "2022-02-17T07:06:46.604Z"
   },
   {
    "duration": 17,
    "start_time": "2022-02-17T07:06:46.614Z"
   },
   {
    "duration": 10,
    "start_time": "2022-02-17T07:06:46.633Z"
   },
   {
    "duration": 10,
    "start_time": "2022-02-17T07:06:46.645Z"
   },
   {
    "duration": 5,
    "start_time": "2022-02-17T07:06:46.658Z"
   },
   {
    "duration": 20,
    "start_time": "2022-02-17T07:06:46.665Z"
   },
   {
    "duration": 4,
    "start_time": "2022-02-17T07:06:46.686Z"
   },
   {
    "duration": 7,
    "start_time": "2022-02-17T07:06:46.692Z"
   },
   {
    "duration": 38,
    "start_time": "2022-02-17T07:06:46.701Z"
   },
   {
    "duration": 5,
    "start_time": "2022-02-17T07:06:46.741Z"
   },
   {
    "duration": 8,
    "start_time": "2022-02-17T07:06:46.747Z"
   },
   {
    "duration": 6,
    "start_time": "2022-02-17T07:06:46.757Z"
   },
   {
    "duration": 18,
    "start_time": "2022-02-17T07:06:46.765Z"
   },
   {
    "duration": 8,
    "start_time": "2022-02-17T07:06:46.784Z"
   },
   {
    "duration": 6,
    "start_time": "2022-02-17T07:06:46.794Z"
   },
   {
    "duration": 9,
    "start_time": "2022-02-17T07:06:46.830Z"
   },
   {
    "duration": 38,
    "start_time": "2022-02-17T07:06:46.841Z"
   },
   {
    "duration": 8,
    "start_time": "2022-02-17T07:06:46.881Z"
   },
   {
    "duration": 49,
    "start_time": "2022-02-17T07:06:46.891Z"
   },
   {
    "duration": 7,
    "start_time": "2022-02-17T07:06:46.944Z"
   },
   {
    "duration": 542,
    "start_time": "2022-02-17T07:06:46.954Z"
   },
   {
    "duration": 88809,
    "start_time": "2022-02-17T07:06:47.498Z"
   },
   {
    "duration": 4,
    "start_time": "2022-02-17T07:08:16.309Z"
   },
   {
    "duration": 40,
    "start_time": "2022-02-17T07:08:16.315Z"
   },
   {
    "duration": 77,
    "start_time": "2022-02-17T07:08:16.358Z"
   },
   {
    "duration": 602,
    "start_time": "2022-02-17T07:08:16.438Z"
   },
   {
    "duration": 190,
    "start_time": "2022-02-17T07:08:17.041Z"
   },
   {
    "duration": 269,
    "start_time": "2022-02-17T07:08:17.233Z"
   },
   {
    "duration": 4,
    "start_time": "2022-02-17T07:08:17.503Z"
   },
   {
    "duration": 287,
    "start_time": "2022-02-17T07:08:17.508Z"
   },
   {
    "duration": 2324,
    "start_time": "2022-02-17T07:08:17.797Z"
   },
   {
    "duration": 2275,
    "start_time": "2022-02-17T07:08:20.122Z"
   },
   {
    "duration": 2560,
    "start_time": "2022-02-17T07:08:22.399Z"
   },
   {
    "duration": 2550,
    "start_time": "2022-02-17T07:08:24.960Z"
   },
   {
    "duration": 218,
    "start_time": "2022-02-17T07:08:27.512Z"
   },
   {
    "duration": 2758,
    "start_time": "2022-02-17T07:08:27.731Z"
   },
   {
    "duration": 4,
    "start_time": "2022-02-17T07:08:30.491Z"
   },
   {
    "duration": 136,
    "start_time": "2022-02-17T07:08:30.496Z"
   },
   {
    "duration": 921,
    "start_time": "2022-02-17T07:08:30.637Z"
   },
   {
    "duration": 1585,
    "start_time": "2022-02-17T07:08:31.559Z"
   },
   {
    "duration": 103,
    "start_time": "2022-02-17T07:08:33.232Z"
   },
   {
    "duration": 3,
    "start_time": "2022-02-17T07:08:33.337Z"
   },
   {
    "duration": 42,
    "start_time": "2022-02-17T07:08:33.342Z"
   },
   {
    "duration": 4,
    "start_time": "2022-02-17T07:30:47.540Z"
   },
   {
    "duration": 10,
    "start_time": "2022-02-17T08:05:25.451Z"
   },
   {
    "duration": 60,
    "start_time": "2022-02-17T08:10:56.664Z"
   },
   {
    "duration": 3,
    "start_time": "2022-02-17T08:13:31.991Z"
   },
   {
    "duration": 2,
    "start_time": "2022-02-17T08:19:12.082Z"
   },
   {
    "duration": 15,
    "start_time": "2022-02-17T08:21:29.747Z"
   },
   {
    "duration": 15,
    "start_time": "2022-02-17T08:22:00.279Z"
   },
   {
    "duration": 3,
    "start_time": "2022-02-17T08:33:14.565Z"
   },
   {
    "duration": 2,
    "start_time": "2022-02-17T08:40:19.932Z"
   },
   {
    "duration": 2,
    "start_time": "2022-02-17T08:44:10.718Z"
   },
   {
    "duration": 188,
    "start_time": "2022-02-17T08:49:06.395Z"
   },
   {
    "duration": 2,
    "start_time": "2022-02-17T10:33:11.064Z"
   },
   {
    "duration": 805,
    "start_time": "2022-02-17T10:35:25.656Z"
   },
   {
    "duration": 1515,
    "start_time": "2022-02-17T10:35:51.420Z"
   },
   {
    "duration": 2,
    "start_time": "2022-02-17T10:39:15.303Z"
   },
   {
    "duration": 980,
    "start_time": "2022-02-17T10:45:13.384Z"
   },
   {
    "duration": 23,
    "start_time": "2022-02-17T10:45:14.366Z"
   },
   {
    "duration": 24,
    "start_time": "2022-02-17T10:45:14.391Z"
   },
   {
    "duration": 14,
    "start_time": "2022-02-17T10:45:14.416Z"
   },
   {
    "duration": 3,
    "start_time": "2022-02-17T10:45:14.431Z"
   },
   {
    "duration": 8,
    "start_time": "2022-02-17T10:45:14.436Z"
   },
   {
    "duration": 12,
    "start_time": "2022-02-17T10:45:14.445Z"
   },
   {
    "duration": 5,
    "start_time": "2022-02-17T10:45:14.460Z"
   },
   {
    "duration": 20,
    "start_time": "2022-02-17T10:45:14.467Z"
   },
   {
    "duration": 3,
    "start_time": "2022-02-17T10:45:14.489Z"
   },
   {
    "duration": 38,
    "start_time": "2022-02-17T10:45:14.493Z"
   },
   {
    "duration": 3,
    "start_time": "2022-02-17T10:45:14.533Z"
   },
   {
    "duration": 22,
    "start_time": "2022-02-17T10:45:14.538Z"
   },
   {
    "duration": 12,
    "start_time": "2022-02-17T10:45:14.562Z"
   },
   {
    "duration": 6,
    "start_time": "2022-02-17T10:45:14.575Z"
   },
   {
    "duration": 16,
    "start_time": "2022-02-17T10:45:14.582Z"
   },
   {
    "duration": 7,
    "start_time": "2022-02-17T10:45:14.599Z"
   },
   {
    "duration": 23,
    "start_time": "2022-02-17T10:45:14.608Z"
   },
   {
    "duration": 4,
    "start_time": "2022-02-17T10:45:14.633Z"
   },
   {
    "duration": 10,
    "start_time": "2022-02-17T10:45:14.639Z"
   },
   {
    "duration": 8,
    "start_time": "2022-02-17T10:45:14.651Z"
   },
   {
    "duration": 23,
    "start_time": "2022-02-17T10:45:14.660Z"
   },
   {
    "duration": 14,
    "start_time": "2022-02-17T10:45:14.686Z"
   },
   {
    "duration": 29,
    "start_time": "2022-02-17T10:45:14.701Z"
   },
   {
    "duration": 515,
    "start_time": "2022-02-17T10:45:14.732Z"
   },
   {
    "duration": 90440,
    "start_time": "2022-02-17T10:45:15.249Z"
   },
   {
    "duration": 49,
    "start_time": "2022-02-17T10:46:45.690Z"
   },
   {
    "duration": 600,
    "start_time": "2022-02-17T10:46:45.831Z"
   },
   {
    "duration": 197,
    "start_time": "2022-02-17T10:46:46.433Z"
   },
   {
    "duration": 275,
    "start_time": "2022-02-17T10:46:46.632Z"
   },
   {
    "duration": 302,
    "start_time": "2022-02-17T10:46:46.909Z"
   },
   {
    "duration": 2300,
    "start_time": "2022-02-17T10:46:47.213Z"
   },
   {
    "duration": 2276,
    "start_time": "2022-02-17T10:46:49.515Z"
   },
   {
    "duration": 2485,
    "start_time": "2022-02-17T10:46:51.792Z"
   },
   {
    "duration": 2553,
    "start_time": "2022-02-17T10:46:54.278Z"
   },
   {
    "duration": 216,
    "start_time": "2022-02-17T10:46:56.833Z"
   },
   {
    "duration": 2755,
    "start_time": "2022-02-17T10:46:57.050Z"
   },
   {
    "duration": 42,
    "start_time": "2022-02-17T10:46:59.807Z"
   },
   {
    "duration": 1013,
    "start_time": "2022-02-17T10:46:59.851Z"
   },
   {
    "duration": 1701,
    "start_time": "2022-02-17T10:47:00.934Z"
   },
   {
    "duration": 100,
    "start_time": "2022-02-17T10:47:02.638Z"
   },
   {
    "duration": 126,
    "start_time": "2022-02-17T10:47:02.740Z"
   },
   {
    "duration": 1017,
    "start_time": "2022-02-17T11:27:03.389Z"
   },
   {
    "duration": 23,
    "start_time": "2022-02-17T11:27:04.408Z"
   },
   {
    "duration": 25,
    "start_time": "2022-02-17T11:27:04.433Z"
   },
   {
    "duration": 8,
    "start_time": "2022-02-17T11:27:04.459Z"
   },
   {
    "duration": 2,
    "start_time": "2022-02-17T11:27:04.469Z"
   },
   {
    "duration": 6,
    "start_time": "2022-02-17T11:27:04.473Z"
   },
   {
    "duration": 8,
    "start_time": "2022-02-17T11:27:04.481Z"
   },
   {
    "duration": 40,
    "start_time": "2022-02-17T11:27:04.491Z"
   },
   {
    "duration": 22,
    "start_time": "2022-02-17T11:27:04.533Z"
   },
   {
    "duration": 3,
    "start_time": "2022-02-17T11:27:04.557Z"
   },
   {
    "duration": 6,
    "start_time": "2022-02-17T11:27:04.562Z"
   },
   {
    "duration": 5,
    "start_time": "2022-02-17T11:27:04.569Z"
   },
   {
    "duration": 12,
    "start_time": "2022-02-17T11:27:04.576Z"
   },
   {
    "duration": 44,
    "start_time": "2022-02-17T11:27:04.589Z"
   },
   {
    "duration": 4,
    "start_time": "2022-02-17T11:27:04.634Z"
   },
   {
    "duration": 8,
    "start_time": "2022-02-17T11:27:04.640Z"
   },
   {
    "duration": 8,
    "start_time": "2022-02-17T11:27:04.649Z"
   },
   {
    "duration": 18,
    "start_time": "2022-02-17T11:27:04.658Z"
   },
   {
    "duration": 7,
    "start_time": "2022-02-17T11:27:04.678Z"
   },
   {
    "duration": 8,
    "start_time": "2022-02-17T11:27:04.687Z"
   },
   {
    "duration": 7,
    "start_time": "2022-02-17T11:27:04.697Z"
   },
   {
    "duration": 45,
    "start_time": "2022-02-17T11:27:04.705Z"
   },
   {
    "duration": 15,
    "start_time": "2022-02-17T11:27:04.753Z"
   },
   {
    "duration": 5,
    "start_time": "2022-02-17T11:27:04.770Z"
   },
   {
    "duration": 530,
    "start_time": "2022-02-17T11:27:04.777Z"
   },
   {
    "duration": 91584,
    "start_time": "2022-02-17T11:27:05.309Z"
   },
   {
    "duration": 45,
    "start_time": "2022-02-17T11:28:36.895Z"
   },
   {
    "duration": 712,
    "start_time": "2022-02-17T11:28:36.943Z"
   },
   {
    "duration": 200,
    "start_time": "2022-02-17T11:28:37.657Z"
   },
   {
    "duration": 296,
    "start_time": "2022-02-17T11:28:37.859Z"
   },
   {
    "duration": 298,
    "start_time": "2022-02-17T11:28:38.157Z"
   },
   {
    "duration": 2392,
    "start_time": "2022-02-17T11:28:38.457Z"
   },
   {
    "duration": 2364,
    "start_time": "2022-02-17T11:28:40.851Z"
   },
   {
    "duration": 2606,
    "start_time": "2022-02-17T11:28:43.217Z"
   },
   {
    "duration": 2563,
    "start_time": "2022-02-17T11:28:45.825Z"
   },
   {
    "duration": 222,
    "start_time": "2022-02-17T11:28:48.390Z"
   },
   {
    "duration": 2809,
    "start_time": "2022-02-17T11:28:48.614Z"
   },
   {
    "duration": 30,
    "start_time": "2022-02-17T11:28:51.429Z"
   },
   {
    "duration": 928,
    "start_time": "2022-02-17T11:28:51.531Z"
   },
   {
    "duration": 1581,
    "start_time": "2022-02-17T11:28:52.461Z"
   },
   {
    "duration": 96,
    "start_time": "2022-02-17T11:28:54.044Z"
   },
   {
    "duration": 126,
    "start_time": "2022-02-17T11:28:54.143Z"
   },
   {
    "duration": 134,
    "start_time": "2022-02-18T11:29:16.252Z"
   },
   {
    "duration": 166,
    "start_time": "2022-02-18T11:29:26.485Z"
   },
   {
    "duration": 120,
    "start_time": "2022-02-18T11:29:35.595Z"
   },
   {
    "duration": 1161,
    "start_time": "2022-04-30T14:54:47.358Z"
   },
   {
    "duration": 24,
    "start_time": "2022-04-30T14:54:51.724Z"
   },
   {
    "duration": 3,
    "start_time": "2022-04-30T14:55:08.418Z"
   },
   {
    "duration": 5,
    "start_time": "2022-04-30T14:55:09.397Z"
   },
   {
    "duration": 97,
    "start_time": "2022-04-30T14:56:01.946Z"
   },
   {
    "duration": 4,
    "start_time": "2022-04-30T14:56:14.292Z"
   },
   {
    "duration": 10,
    "start_time": "2022-04-30T14:56:19.288Z"
   }
  ],
  "kernelspec": {
   "display_name": "Python 3 (ipykernel)",
   "language": "python",
   "name": "python3"
  },
  "language_info": {
   "codemirror_mode": {
    "name": "ipython",
    "version": 3
   },
   "file_extension": ".py",
   "mimetype": "text/x-python",
   "name": "python",
   "nbconvert_exporter": "python",
   "pygments_lexer": "ipython3",
   "version": "3.9.5"
  },
  "toc": {
   "base_numbering": 1,
   "nav_menu": {},
   "number_sections": true,
   "sideBar": true,
   "skip_h1_title": true,
   "title_cell": "Содержание",
   "title_sidebar": "Contents",
   "toc_cell": true,
   "toc_position": {
    "height": "calc(100% - 180px)",
    "left": "10px",
    "top": "150px",
    "width": "421.375px"
   },
   "toc_section_display": true,
   "toc_window_display": true
  }
 },
 "nbformat": 4,
 "nbformat_minor": 2
}
